{
 "cells": [
  {
   "cell_type": "markdown",
   "id": "814152bb-a253-4003-a954-37d7e2677510",
   "metadata": {},
   "source": [
    "# Objectiv example notebook\n",
    "\n",
    "This demo notebook enables you to play with Bach, our modeling library, to get an idea of what it can do. A live web version is also available [here](https://notebook.objectiv.io/lab?path=product_analytics.ipynb).\n",
    "\n",
    "A few notes about this example notebook:\n",
    "* It uses a real dataset from objectiv.io, collected with an unaltered version of Objectiv’s [tracker](https://objectiv.io/docs/tracking/). No cleaning or transformation* has been applied to the data. Objectiv’s tracker uses the [open taxonomy for analytics](https://objectiv.io/docs/taxonomy/) to collect clean data that’s ready to model on.\n",
    "*  You can also generate your own events and use/see them in this notebook. Check out our [Quickstart Guide](https://www.objectiv.io/docs/quickstart-guide) for instructions.\n",
    "* It is connected to a PostgreSQL database and runs directly on the full dataset. You can use Pandas-like dataframe operations, that Bach translates to SQL under the hood.\n",
    "* This notebook demonstrates only a selection all of the operations that are supported by Bach. Check out the [docs](https://objectiv.io/docs/modeling/reference#api-reference) for the full rundown.\n",
    "* You can also use this notebook for your own website or app once you've instrumented it with Objectiv's tracker.\n",
    "\n",
    "For any question, please join our [Slack channel](https://join.slack.com/t/objectiv-io/shared_invite/zt-u6xma89w-DLDvOB7pQer5QUs5B_~5pg).\n",
    "\n",
    "<sub>*for privacy reasons, IPs have been removed and timeframes have been cut from the initial dataset.</sub>"
   ]
  },
  {
   "cell_type": "code",
   "execution_count": null,
   "id": "8229aa62",
   "metadata": {},
   "outputs": [],
   "source": [
    "import datetime\n",
    "import plotly\n",
    "import plotly.graph_objects as go\n",
    "import plotly.figure_factory as ff\n",
    "import plotly.express as px\n",
    "import matplotlib.pyplot as plt\n",
    "import numpy as np\n",
    "import seaborn as sns\n",
    "from matplotlib.ticker import FuncFormatter\n",
    "import sqlalchemy\n",
    "import os\n",
    "\n",
    "from jupyter_dash import JupyterDash as Dash\n",
    "\n",
    "# import Objectiv Bach\n",
    "from bach_open_taxonomy import ObjectivFrame\n",
    "from bach_open_taxonomy.sankey_dash import get_app"
   ]
  },
  {
   "cell_type": "markdown",
   "id": "0a8b47e4-e1c6-443f-a164-31078ed3ae8b",
   "metadata": {},
   "source": [
    "## Connect to full dataset in PostgreSQL"
   ]
  },
  {
   "cell_type": "code",
   "execution_count": null,
   "id": "c1e2a831",
   "metadata": {},
   "outputs": [],
   "source": [
    "# connect to full postgresql dataset, add database and credentials here\n",
    "dsn = os.environ.get('DSN', 'postgresql://objectiv:@localhost:5432/objectiv')\n",
    "engine = sqlalchemy.create_engine(dsn, pool_size=1, max_overflow=0)"
   ]
  },
  {
   "cell_type": "markdown",
   "id": "b7a5ac7a",
   "metadata": {},
   "source": [
    "## Set the time aggregation "
   ]
  },
  {
   "cell_type": "code",
   "execution_count": null,
   "id": "5075a92b",
   "metadata": {},
   "outputs": [],
   "source": [
    "# choose for which level of time aggregation the rest of the analysis will run\n",
    "# supports all Postgres datetime template patterns: https://www.postgresql.org/docs/9.1/functions-formatting.html#FUNCTIONS-FORMATTING-DATETIME-TABLE\n",
    "\n",
    "agg_level = 'YYYYMMDD'"
   ]
  },
  {
   "cell_type": "code",
   "execution_count": null,
   "id": "8310a973",
   "metadata": {},
   "outputs": [],
   "source": [
    "# create a Bach dataframe based on the full dataset\n",
    "# note that the database is not queried for operations on this dataframe. The database will only be queried\n",
    "# when data is outputted to the python environment (ie when using .head() or .to_pandas()).\n",
    "\n",
    "# An ObjectivFrame automatically sets the global contexts and location stack as custom dtype so we can use them in modeling\n",
    "# global_contexts and location_stack are json type data columns. Setting custom dtypes extends the functionality\n",
    "# for easy access to the contents of these columns.\n",
    "\n",
    "# functions specific for columns of the type 'objectiv_global_context' can be accessed using the `gc` name space.\n",
    "# for 'objectiv_location_stack' type columns this is `ls`\n",
    "timeframe_df = ObjectivFrame.from_table(engine, time_aggregation=agg_level, start_date='2021-10-21')"
   ]
  },
  {
   "cell_type": "markdown",
   "id": "bdab9da6-03b0-4dd1-8d69-6cabb5e930d3",
   "metadata": {},
   "source": [
    "## Set sample / unsample"
   ]
  },
  {
   "cell_type": "code",
   "execution_count": null,
   "id": "fdf7a4cb-9453-4009-8ba3-cea3f86e9a1d",
   "metadata": {},
   "outputs": [],
   "source": [
    "# if desired, sample the data to develop models, for demo purposes we skip the sampling and work on full set\n",
    "# all underlying data for df gets queried once in order to create the sample.\n",
    "\n",
    "# df = df.get_sample(table_name='basic_features_sample', sample_percentage=10, overwrite=True)"
   ]
  },
  {
   "cell_type": "code",
   "execution_count": null,
   "id": "40b95780-2456-4fd6-adaf-280f686244e6",
   "metadata": {},
   "outputs": [],
   "source": [
    "# it is possible to apply all data manipulations on the full data set at any time.\n",
    "# to unsample the data and run all models below on full dataset, use:\n",
    "\n",
    "# df = df.get_unsampled()"
   ]
  },
  {
   "cell_type": "markdown",
   "id": "e6c55ade-f0f6-44ba-a54a-af659fc4890f",
   "metadata": {},
   "source": [
    "## Explore the data"
   ]
  },
  {
   "cell_type": "code",
   "execution_count": null,
   "id": "3177f1fb-c741-4269-8086-dbab942afbeb",
   "metadata": {},
   "outputs": [],
   "source": [
    "# only now the data gets queried. It is therefore recommended to limit the use of functions that query the\n",
    "# database or use a sample when it is not (yet) required to query all data. The documentation of Bach always\n",
    "# indicates in case the database gets queried.\n",
    "timeframe_df.sort_values(by='moment', ascending=False).head()"
   ]
  },
  {
   "cell_type": "markdown",
   "id": "1bc7b673-3129-4e28-9192-5aa03e08bcb8",
   "metadata": {},
   "source": [
    "## Explore most recent events"
   ]
  },
  {
   "cell_type": "code",
   "execution_count": null,
   "id": "2182a012-35a2-4d07-b798-cae771763465",
   "metadata": {},
   "outputs": [],
   "source": [
    "# summarize today's generated events\n",
    "recent_events = timeframe_df[(timeframe_df['day'] == datetime.date(2021,11,1))]\n",
    "recent_events = recent_events.groupby([timeframe_df.global_contexts.gc.application, \n",
    "                                       'event_type', \n",
    "                                       timeframe_df.location_stack.ls.nice_name]).aggregate({'user_id':'nunique'})\n",
    "\n",
    "recent_events.head(30)"
   ]
  },
  {
   "cell_type": "markdown",
   "id": "0697e0d3-8443-427b-a3a9-09342adf624e",
   "metadata": {
    "tags": []
   },
   "source": [
    "## Users"
   ]
  },
  {
   "cell_type": "code",
   "execution_count": null,
   "id": "77e00ffd-9940-4ff3-b5db-2734730f240e",
   "metadata": {},
   "outputs": [],
   "source": [
    "timeframe_df.model_hub.unique_users().head()"
   ]
  },
  {
   "cell_type": "markdown",
   "id": "378f5454-f7c7-409b-a6d0-996e078c851a",
   "metadata": {},
   "source": [
    "## Sessions"
   ]
  },
  {
   "cell_type": "code",
   "execution_count": null,
   "id": "71c3c2a3-9616-43d6-b529-acf5f6d210d1",
   "metadata": {},
   "outputs": [],
   "source": [
    "timeframe_df.model_hub.unique_sessions().head()"
   ]
  },
  {
   "cell_type": "markdown",
   "id": "6888435d-4287-4cdc-8767-985fe2b9c216",
   "metadata": {},
   "source": [
    "## Sessions per user"
   ]
  },
  {
   "cell_type": "code",
   "execution_count": null,
   "id": "77706040",
   "metadata": {},
   "outputs": [],
   "source": [
    "users_sessions = timeframe_df.model_hub.unique_sessions() / timeframe_df.model_hub.unique_users()\n",
    "users_sessions.head()"
   ]
  },
  {
   "cell_type": "markdown",
   "id": "6fbaaf82-ee41-4602-a2cd-f622fa84b0b2",
   "metadata": {},
   "source": [
    "## New users"
   ]
  },
  {
   "cell_type": "code",
   "execution_count": null,
   "id": "d927dba0-56d3-4185-b99e-9dd93c3de2af",
   "metadata": {},
   "outputs": [],
   "source": [
    "new_users = timeframe_df.model_hub.unique_users(filter=timeframe_df.model_hub.is_first_session())\n",
    "new_users.head()"
   ]
  },
  {
   "cell_type": "code",
   "execution_count": null,
   "id": "ad29e09f",
   "metadata": {},
   "outputs": [],
   "source": [
    "timeframe_df.model_hub.unique_users().to_frame().merge(new_users, \n",
    "                                                       left_index=True, \n",
    "                                                       right_index=True, \n",
    "                                                       suffixes=('_total', '_new')).head()"
   ]
  },
  {
   "cell_type": "markdown",
   "id": "046eb7e6-fba5-4048-ba17-8cff59d92b38",
   "metadata": {},
   "source": [
    "## Feature creation"
   ]
  },
  {
   "cell_type": "code",
   "execution_count": null,
   "id": "343aeb0a-c5cf-4d69-9fe1-c25275026d98",
   "metadata": {},
   "outputs": [],
   "source": [
    "# using Objectiv, you can create features that utilize the context of where they occur on the UI, using the location stack\n",
    "# while it is possible to use the event_type and location_stack as is to describe individual features,\n",
    "# the location stack can be leveraged to group and aggregate various features at different levels of location 'depth'\n",
    "# of your product. \n",
    "\n",
    "# choose for which application(s) to create features, in this case we select the Objectiv website\n",
    "feature_creation_df = timeframe_df[(timeframe_df.global_contexts.gc.application == 'objectiv-website')]\n",
    "\n",
    "# limit the timerange to match the latest taxonomy version applied as example on the website\n",
    "feature_creation_df = feature_creation_df[(feature_creation_df['moment'] >= datetime.date(2021,11,15))]\n",
    "\n",
    "# first, create a feature frame that will be used to create features\n",
    "# todo skip this part now\n",
    "# feature_frame = feature_creation_df.create_sample_feature_frame(table_name='feature_sample', overwrite=True)\n",
    "# feature_frame.head()\n",
    "feature_frame = feature_creation_df"
   ]
  },
  {
   "cell_type": "markdown",
   "id": "5b55de19",
   "metadata": {},
   "source": [
    "**feature creation slicing the location stack**  \n",
    "The `.json[]` syntax of location stacks allows you to slice with integers, but also dictionaries can be passed. If a dictionary matches\n",
    "a context object in the stack, all objects of the stack starting at that object will be returned.  \n",
    "  \n",
    "**An example**  \n",
    "We want to return only location stacks sub sets that contain this object:\n",
    "```javascript\n",
    "{\"id\": \"contributors\", \"_type\": \"SectionContext\"}\n",
    "```\n",
    "This means that if a location stack looks like this:\n",
    "```json\n",
    "[{\"id\": \"#document\", \"_type\": \"WebDocumentContext\"},\n",
    " {\"id\": \"main\", \"_type\": \"SectionContext\"},\n",
    " {\"id\": \"core-team\", \"_type\": \"SectionContext\"},\n",
    " {\"id\": \"contributors\", \"_type\": \"SectionContext\"},\n",
    " {\"id\": \"jansentom\", \"_type\": \"SectionContext\"},\n",
    " {\"id\": \"contributor-card\", \"_type\": \"SectionContext\"}]\n",
    "```\n",
    "The returned location stack looks like this:\n",
    "```json\n",
    "[{\"id\": \"contributors\", \"_type\": \"SectionContext\"},\n",
    " {\"id\": \"jansentom\", \"_type\": \"SectionContext\"},\n",
    " {\"id\": \"contributor-card\", \"_type\": \"SectionContext\"}]\n",
    "```\n",
    "In case a location stack does not contain the object, `None` is returned. The syntax for selecting like this is: \n",
    "```python\n",
    "feature_frame[\"contributors_features\"] = feature_frame.location_stack.json[{\"_type\": \"SectionContext\", \"id\": \"contributors\"}:]\n",
    "```\n",
    "\n",
    "Now we want to create a location stack that only contains the first object of this stack. For example if you are  not interested in clicks on individual contributors, but want to aggregate clicks on all of them. This can be done by using slices:\n",
    "```python\n",
    "feature_frame[\"contributors_aggregated\"] = feature_frame.contributors_features.json[:1]\n",
    "```\n",
    "result:\n",
    "```json\n",
    "[{\"id\": \"contributors\", \"_type\": \"SectionContext\"}]\n",
    "```\n",
    "\n"
   ]
  },
  {
   "cell_type": "markdown",
   "id": "23885cea",
   "metadata": {},
   "source": [
    "**feature creation with Dash app**  \n",
    "using a Dash app, you can visualize all events with the location stack and create features.\n",
    "\n",
    "the database gets queried for this to get all unique features.\n",
    "\n",
    "as an example, we'll create features:\n",
    "1. the job annoucement bar that is on both Home & About pages  \n",
    "2. conversion, in this case going to GitHub repo\n",
    "3. contributor features  \n",
    "4. aggregate all contributers"
   ]
  },
  {
   "cell_type": "code",
   "execution_count": null,
   "id": "f3bf4456",
   "metadata": {},
   "outputs": [],
   "source": [
    "# features are created\n",
    "feature_frame['announcement_bar_features'] = feature_frame.location_stack.json[{'_type': 'SectionContext', 'id': 'announcement-bar'}:]\n",
    "\n",
    "feature_frame['conversion'] = feature_frame.location_stack.json[{'_type': 'LinkContext', 'id': 'cta-repo-button'}:]\n",
    "feature_frame['conversion'] = feature_frame['conversion'].fillna(feature_frame.location_stack.json[{'_type': 'LinkContext', 'id': 'GitHub'}:])\n",
    "\n",
    "feature_frame['contributors_features'] = feature_frame.location_stack.json[{'_type': 'SectionContext', 'id': 'contributors'}:]\n",
    "\n",
    "# this returns the stack of 'contributors_features' up to the first object in the stack (and therefore aggregates all\n",
    "# following objects in the stack)\n",
    "feature_frame['contributors_aggregated'] = feature_frame.contributors_features.json[:1]"
   ]
  },
  {
   "cell_type": "markdown",
   "id": "24cb97d2",
   "metadata": {},
   "source": [
    "**Visualizing the stack**  \n",
    "Now we can visualize the location stack. You can select the features with 'Location stack column to visualize'. The width of the links indicates the number of hits (given the selected event type). The number of hits is also the number displayed when hovering over a node.  \n",
    "\n",
    "It is also possible to create features using the tool by clicking nodes, or slicing the selected location stack. Clicking 'Add to Feature Frame' adds the feature to the feature frame.  \n",
    "  \n",
    "Try selecting the just created features. When the event type 'ClickEvent' is selected and switching between 'contributors_features' and 'contributors_aggregated', it shows how the clicks on individual contributors are aggregated.  \n",
    "  \n",
    "By clicking on nodes, or slicing in the sankey tool, Features can also be created. Try recreating the features above starting from the 'location_stack' column as 'Location stack column to visualize'."
   ]
  },
  {
   "cell_type": "code",
   "execution_count": null,
   "id": "4adfe4ee-38a7-43a6-925e-a687fa73820c",
   "metadata": {},
   "outputs": [],
   "source": [
    "# todo skip this part now\n",
    "# app = get_app(Dash, feature_frame, dash_options={'server_url': 'http://localhost:8053'})\n",
    "# app.run_server(mode='inline', height = 1100, port=8053, host='0.0.0.0')"
   ]
  },
  {
   "cell_type": "code",
   "execution_count": null,
   "id": "998f870b-347e-41a3-bd5c-14e8f3933895",
   "metadata": {},
   "outputs": [],
   "source": [
    "# if you are happy with the result, write these creatured features to the original working df\n",
    "# feature_creation_df = feature_creation_df.apply_feature_frame_sample_changes(feature_frame)\n",
    "feature_creation_df.head()"
   ]
  },
  {
   "cell_type": "markdown",
   "id": "9d01e44e-e68e-4b84-93e6-b6a405a56a01",
   "metadata": {},
   "source": [
    "## Features"
   ]
  },
  {
   "cell_type": "code",
   "execution_count": null,
   "id": "24c743b4-dae4-41b9-a4d5-15a87c3b295c",
   "metadata": {},
   "outputs": [],
   "source": [
    "# select the features we just created\n",
    "created_features = feature_creation_df[(feature_creation_df.conversion.notnull()) | \n",
    "                                (feature_creation_df.announcement_bar_features.notnull()) |\n",
    "                                (feature_creation_df.contributors_features.notnull()) |\n",
    "                                (feature_creation_df.contributors_aggregated.notnull())]\n",
    "\n",
    "# get the number of total users and hits per feature\n",
    "users_per_event = created_features.groupby(['event_type', created_features.location_stack.ls.nice_name]).aggregate({'user_id':'nunique','session_hit_number':'count'})\n",
    "\n",
    "users_per_event.sort_values(by=['user_id_nunique'], ascending=False).head(10)"
   ]
  },
  {
   "cell_type": "markdown",
   "id": "9acf9cf5-c4e6-4d71-a15d-64bea1bf4d55",
   "metadata": {
    "tags": []
   },
   "source": [
    "## Conversion"
   ]
  },
  {
   "cell_type": "code",
   "execution_count": null,
   "id": "e1b4bde4",
   "metadata": {},
   "outputs": [],
   "source": [
    "feature_creation_df.add_conversion_event(conversion_stack=feature_creation_df.conversion, \n",
    "                                         conversion_event='ClickEvent')"
   ]
  },
  {
   "cell_type": "code",
   "execution_count": null,
   "id": "7433d1d9",
   "metadata": {},
   "outputs": [],
   "source": [
    "feature_creation_df.conversion_events"
   ]
  },
  {
   "cell_type": "code",
   "execution_count": null,
   "id": "cd2ef245",
   "metadata": {},
   "outputs": [],
   "source": [
    "feature_creation_df.model_hub.unique_users(filter=feature_creation_df.model_hub.conversion('conversion_1')).head()"
   ]
  }
 ],
 "metadata": {
  "kernelspec": {
   "display_name": "Python 3 (ipykernel)",
   "language": "python",
   "name": "python3"
  },
  "language_info": {
   "codemirror_mode": {
    "name": "ipython",
    "version": 3
   },
   "file_extension": ".py",
   "mimetype": "text/x-python",
   "name": "python",
   "nbconvert_exporter": "python",
   "pygments_lexer": "ipython3",
   "version": "3.9.4"
  }
 },
 "nbformat": 4,
 "nbformat_minor": 5
}
