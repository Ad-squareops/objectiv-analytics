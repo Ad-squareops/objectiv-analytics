{
 "cells": [
  {
   "cell_type": "code",
   "execution_count": null,
   "id": "e97ff289",
   "metadata": {},
   "outputs": [],
   "source": [
    "from bach_open_taxonomy import ObjectivFrame\n",
    "import bach\n",
    "from matplotlib import pyplot as plt"
   ]
  },
  {
   "cell_type": "code",
   "execution_count": null,
   "id": "d582b77f",
   "metadata": {},
   "outputs": [],
   "source": [
    "of = ObjectivFrame.from_objectiv_data(start_date='2022-02-02',time_aggregation='YYYY-MM-DD')"
   ]
  },
  {
   "cell_type": "markdown",
   "id": "3c97f188",
   "metadata": {},
   "source": [
    "### describe all data"
   ]
  },
  {
   "cell_type": "code",
   "execution_count": null,
   "id": "dc2e579d",
   "metadata": {},
   "outputs": [],
   "source": [
    "# todo : exclude user_id because uuid"
   ]
  },
  {
   "cell_type": "code",
   "execution_count": null,
   "id": "e76ac10d",
   "metadata": {
    "scrolled": true
   },
   "outputs": [],
   "source": [
    "of[[x for x in of.data_columns if x !='user_id']].describe(include='all').head()"
   ]
  },
  {
   "cell_type": "markdown",
   "id": "746c05af",
   "metadata": {},
   "source": [
    "### look at data"
   ]
  },
  {
   "cell_type": "code",
   "execution_count": null,
   "id": "cce4ef5a",
   "metadata": {},
   "outputs": [],
   "source": [
    "of.head()"
   ]
  },
  {
   "cell_type": "markdown",
   "id": "bbffda98",
   "metadata": {},
   "source": [
    "### create a feature set \n"
   ]
  },
  {
   "cell_type": "markdown",
   "id": "810e0714",
   "metadata": {},
   "source": [
    "### numerical"
   ]
  },
  {
   "cell_type": "code",
   "execution_count": null,
   "id": "3b6aefac",
   "metadata": {},
   "outputs": [],
   "source": [
    "of['root'] = of.location_stack.ls.get_from_context_with_type_series(type='RootLocationContext', key='id')"
   ]
  },
  {
   "cell_type": "code",
   "execution_count": null,
   "id": "682c5876",
   "metadata": {},
   "outputs": [],
   "source": [
    "of.root.head()"
   ]
  },
  {
   "cell_type": "markdown",
   "id": "ec39a5b2",
   "metadata": {},
   "source": [
    "### check missing values"
   ]
  },
  {
   "cell_type": "code",
   "execution_count": null,
   "id": "749077bb",
   "metadata": {},
   "outputs": [],
   "source": [
    "of.root.isnull().value_counts().head()"
   ]
  },
  {
   "cell_type": "markdown",
   "id": "c6a7dfd2",
   "metadata": {},
   "source": [
    "there are none, yay!"
   ]
  },
  {
   "cell_type": "markdown",
   "id": "95a2ec7d",
   "metadata": {},
   "source": [
    "### look what we have"
   ]
  },
  {
   "cell_type": "code",
   "execution_count": null,
   "id": "81d3f6b1",
   "metadata": {},
   "outputs": [],
   "source": [
    "of.root.unique().values"
   ]
  },
  {
   "cell_type": "markdown",
   "id": "0146f74b",
   "metadata": {},
   "source": [
    "### let's combine with event type"
   ]
  },
  {
   "cell_type": "code",
   "execution_count": null,
   "id": "380b60b4",
   "metadata": {},
   "outputs": [],
   "source": [
    "of.event_type.unique().values"
   ]
  },
  {
   "cell_type": "markdown",
   "id": "262cdf6a",
   "metadata": {},
   "source": [
    "### only interested in presses in sections of our site"
   ]
  },
  {
   "cell_type": "code",
   "execution_count": null,
   "id": "33ad2374",
   "metadata": {},
   "outputs": [],
   "source": [
    "of[(of.event_type=='PressEvent')].root.unique().values"
   ]
  },
  {
   "cell_type": "markdown",
   "id": "83b6970e",
   "metadata": {},
   "source": [
    "### describe"
   ]
  },
  {
   "cell_type": "code",
   "execution_count": null,
   "id": "763b738e",
   "metadata": {},
   "outputs": [],
   "source": [
    "of[(of.event_type=='PressEvent')].describe(include='string').head()"
   ]
  },
  {
   "cell_type": "markdown",
   "id": "4406a7a3",
   "metadata": {},
   "source": [
    "### now we create the variable: presses in a section per user"
   ]
  },
  {
   "cell_type": "code",
   "execution_count": null,
   "id": "83127b2b",
   "metadata": {},
   "outputs": [],
   "source": [
    "features = of[(of.event_type=='PressEvent')].groupby(['user_id','root']).session_hit_number.count()"
   ]
  },
  {
   "cell_type": "code",
   "execution_count": null,
   "id": "7151b993",
   "metadata": {},
   "outputs": [],
   "source": [
    "features_unstacked = features.unstack()"
   ]
  },
  {
   "cell_type": "code",
   "execution_count": null,
   "id": "f20c9553",
   "metadata": {},
   "outputs": [],
   "source": [
    "features_unstacked.head()"
   ]
  },
  {
   "cell_type": "markdown",
   "id": "804874af",
   "metadata": {},
   "source": [
    "### emtpy values let's fill them"
   ]
  },
  {
   "cell_type": "code",
   "execution_count": null,
   "id": "b13a2406",
   "metadata": {},
   "outputs": [],
   "source": [
    "features_unstacked = features.unstack(fill_value=0)"
   ]
  },
  {
   "cell_type": "markdown",
   "id": "3917a31d",
   "metadata": {},
   "source": [
    "### describe again and plot, one has a lot higher values. We might want to do something about that, at some point."
   ]
  },
  {
   "cell_type": "code",
   "execution_count": null,
   "id": "3536706e",
   "metadata": {},
   "outputs": [],
   "source": [
    "features_unstacked.materialize().describe().head()"
   ]
  },
  {
   "cell_type": "markdown",
   "id": "31d779c8",
   "metadata": {},
   "source": [
    "### Use cut to get histograms for the entire data set"
   ]
  },
  {
   "cell_type": "code",
   "execution_count": null,
   "id": "6b8306ad",
   "metadata": {},
   "outputs": [],
   "source": [
    "figure, axis = plt.subplots(2, 4,figsize=(15,10))\n",
    "\n",
    "for idx, name in enumerate(features_unstacked.data_columns):\n",
    "    df_bins = features_unstacked[name].cut(bins=5)\n",
    "    df_bins.value_counts().to_pandas().plot(title = name, kind='bar', ax=axis.flat[idx])\n",
    "plt.tight_layout()"
   ]
  },
  {
   "cell_type": "markdown",
   "id": "518c590e",
   "metadata": {},
   "source": [
    "Now you could do something about this, drop outliers, scaling, but in our example, we accept the distribution and continue"
   ]
  },
  {
   "cell_type": "markdown",
   "id": "e796d882",
   "metadata": {},
   "source": [
    "### add another feature: time"
   ]
  },
  {
   "cell_type": "code",
   "execution_count": null,
   "id": "8849110d",
   "metadata": {},
   "outputs": [],
   "source": [
    "features_unstacked.head()"
   ]
  },
  {
   "cell_type": "code",
   "execution_count": null,
   "id": "4bd69738",
   "metadata": {},
   "outputs": [],
   "source": [
    "session_duration = of.groupby(['user_id','session_id']).aggregate({'moment': ['min', 'max']})\n",
    "session_duration['session_duration'] = session_duration['moment_max']-session_duration['moment_min']\n",
    "session_duration = session_duration.reset_index().groupby('user_id').session_duration.sum()\n",
    "features_unstacked['session_duration'] = session_duration"
   ]
  },
  {
   "cell_type": "code",
   "execution_count": null,
   "id": "e0d7e29b",
   "metadata": {},
   "outputs": [],
   "source": [
    "features_unstacked.session_duration.describe().head()"
   ]
  },
  {
   "cell_type": "markdown",
   "id": "54b80c66",
   "metadata": {},
   "source": [
    "can't directly load timedelta's in to sklearn though"
   ]
  },
  {
   "cell_type": "markdown",
   "id": "b874d2fa",
   "metadata": {},
   "source": [
    "### boolean / categorical"
   ]
  },
  {
   "cell_type": "markdown",
   "id": "15b2fc20",
   "metadata": {},
   "source": [
    "this is just an made up example, using the matching user agent as a proxy for device"
   ]
  },
  {
   "cell_type": "code",
   "execution_count": null,
   "id": "73ead305",
   "metadata": {},
   "outputs": [],
   "source": [
    "of['mobile'] = of.global_contexts.gc.get_from_context_with_type_series('HttpContext', 'user_agent')=='Mozilla/5.0 (Windows NT 10.0; Win64; x64) AppleWebKit/537.36 (KHTML, like Gecko) Chrome/96.0.4664.110 Safari/537.36'\n"
   ]
  },
  {
   "cell_type": "code",
   "execution_count": null,
   "id": "dfd50556",
   "metadata": {},
   "outputs": [],
   "source": [
    "of.head()"
   ]
  },
  {
   "cell_type": "code",
   "execution_count": null,
   "id": "a9845352",
   "metadata": {},
   "outputs": [],
   "source": [
    "of.mobile.value_counts().head()"
   ]
  },
  {
   "cell_type": "markdown",
   "id": "64e8307c",
   "metadata": {},
   "source": [
    "### create a feature per user for this"
   ]
  },
  {
   "cell_type": "code",
   "execution_count": null,
   "id": "407a04d5",
   "metadata": {},
   "outputs": [],
   "source": [
    "features_unstacked['is_mobile'] = of[['user_id','mobile']].drop_duplicates().set_index('user_id').mobile"
   ]
  },
  {
   "cell_type": "code",
   "execution_count": null,
   "id": "10160365",
   "metadata": {},
   "outputs": [],
   "source": [
    "features_unstacked[features_unstacked.is_mobile].head()"
   ]
  },
  {
   "cell_type": "code",
   "execution_count": null,
   "id": "b36ee6da",
   "metadata": {},
   "outputs": [],
   "source": [
    "features_unstacked.head()"
   ]
  },
  {
   "cell_type": "markdown",
   "id": "10ff4d0e",
   "metadata": {},
   "source": [
    "### there is our feature set, now you can do other stuff, like sklearn\n",
    "see for example our [sklearn](sklearn-example.ipynb) notebook"
   ]
  },
  {
   "cell_type": "code",
   "execution_count": null,
   "id": "1d14b11d",
   "metadata": {},
   "outputs": [],
   "source": [
    "df = features_unstacked.to_pandas()"
   ]
  },
  {
   "cell_type": "code",
   "execution_count": null,
   "id": "123e667a",
   "metadata": {},
   "outputs": [],
   "source": [
    "df"
   ]
  },
  {
   "cell_type": "markdown",
   "id": "c12c5c80",
   "metadata": {},
   "source": [
    "### What's next?\n",
    "- add categorical variables\n",
    "- actions after finding stuff in the data, ie:\n",
    "  - scaling\n",
    "  - filling empty values / interpolation\n",
    "- using timedelta's"
   ]
  }
 ],
 "metadata": {
  "kernelspec": {
   "display_name": "Python 3 (ipykernel)",
   "language": "python",
   "name": "python3"
  },
  "language_info": {
   "codemirror_mode": {
    "name": "ipython",
    "version": 3
   },
   "file_extension": ".py",
   "mimetype": "text/x-python",
   "name": "python",
   "nbconvert_exporter": "python",
   "pygments_lexer": "ipython3",
   "version": "3.9.4"
  }
 },
 "nbformat": 4,
 "nbformat_minor": 5
}
