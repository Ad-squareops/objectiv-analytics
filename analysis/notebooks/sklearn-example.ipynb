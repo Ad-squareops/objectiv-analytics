{
 "cells": [
  {
   "cell_type": "code",
   "execution_count": null,
   "id": "e97ff289",
   "metadata": {},
   "outputs": [],
   "source": [
    "from bach_open_taxonomy import ObjectivFrame\n",
    "import bach\n",
    "from sklearn import cluster"
   ]
  },
  {
   "cell_type": "code",
   "execution_count": null,
   "id": "d582b77f",
   "metadata": {},
   "outputs": [],
   "source": [
    "of = ObjectivFrame.from_objectiv_data(start_date='2022-01-04',time_aggregation='YYYY-MM-DD')"
   ]
  },
  {
   "cell_type": "code",
   "execution_count": null,
   "id": "3b6aefac",
   "metadata": {},
   "outputs": [],
   "source": [
    "of['root'] = of.location_stack.ls.get_from_context_with_type_series(type='RootLocationContext', key='id').fillna('empty')"
   ]
  },
  {
   "cell_type": "code",
   "execution_count": null,
   "id": "83127b2b",
   "metadata": {},
   "outputs": [],
   "source": [
    "features = of[(of.event_type=='PressEvent')].groupby(['user_id','root']).session_hit_number.count()"
   ]
  },
  {
   "cell_type": "code",
   "execution_count": null,
   "id": "f1cab428",
   "metadata": {},
   "outputs": [],
   "source": [
    "features.head()"
   ]
  },
  {
   "cell_type": "code",
   "execution_count": null,
   "id": "4225e176",
   "metadata": {},
   "outputs": [],
   "source": [
    "features_unstacked = features.unstack(fill_value=0).drop(columns=['empty'])\n",
    "# sample or not\n",
    "kmeans_frame = features_unstacked\n",
    "kmeans_frame = features_unstacked.get_sample(table_name='kmeans_test',sample_percentage=50,overwrite=True,seed=2224)\n",
    "kmeans_frame.count().head()"
   ]
  },
  {
   "cell_type": "code",
   "execution_count": null,
   "id": "1d14b11d",
   "metadata": {},
   "outputs": [],
   "source": [
    "# export to pandas now\n",
    "df = kmeans_frame.to_pandas()"
   ]
  },
  {
   "cell_type": "code",
   "execution_count": null,
   "id": "123e667a",
   "metadata": {},
   "outputs": [],
   "source": [
    "df"
   ]
  },
  {
   "cell_type": "code",
   "execution_count": null,
   "id": "a52fac18",
   "metadata": {},
   "outputs": [],
   "source": [
    "# do basic kmeans\n",
    "est = cluster.KMeans(n_clusters=3)\n",
    "est.fit(df)\n",
    "df['cluster'] = est.labels_"
   ]
  },
  {
   "cell_type": "code",
   "execution_count": null,
   "id": "62ff0073",
   "metadata": {},
   "outputs": [],
   "source": [
    "kmeans_frame['cluster'] = df['cluster']"
   ]
  },
  {
   "cell_type": "code",
   "execution_count": null,
   "id": "77ea99b1",
   "metadata": {},
   "outputs": [],
   "source": [
    "kmeans_frame.sort_values(['cluster','docs']).head(100)"
   ]
  },
  {
   "cell_type": "code",
   "execution_count": null,
   "id": "4f78616a",
   "metadata": {},
   "outputs": [],
   "source": [
    "of_with_cluster = of.merge(kmeans_frame.cluster, on='user_id')"
   ]
  },
  {
   "cell_type": "code",
   "execution_count": null,
   "id": "b744a0b8",
   "metadata": {},
   "outputs": [],
   "source": [
    "of_with_cluster.head()"
   ]
  },
  {
   "cell_type": "code",
   "execution_count": null,
   "id": "3a4f40b6",
   "metadata": {},
   "outputs": [],
   "source": [
    "for i in range(3):\n",
    "    model_hub_results = of_with_cluster[of_with_cluster.cluster==i].mh.agg.session_duration(time_aggregation='YYYY')\n",
    "    print(f\"cluster {i}: {model_hub_results.to_pandas()[0]}\\n\")"
   ]
  }
 ],
 "metadata": {
  "kernelspec": {
   "display_name": "Python 3 (ipykernel)",
   "language": "python",
   "name": "python3"
  },
  "language_info": {
   "codemirror_mode": {
    "name": "ipython",
    "version": 3
   },
   "file_extension": ".py",
   "mimetype": "text/x-python",
   "name": "python",
   "nbconvert_exporter": "python",
   "pygments_lexer": "ipython3",
   "version": "3.9.4"
  }
 },
 "nbformat": 4,
 "nbformat_minor": 5
}
