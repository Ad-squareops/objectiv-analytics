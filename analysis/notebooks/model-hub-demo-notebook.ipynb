{
 "cells": [
  {
   "cell_type": "markdown",
   "id": "25b2e58e",
   "metadata": {},
   "source": [
    "# Intro\n",
    "In this notebook, we briefly demonstrate how you can use pre-built models from the [open model hub](https://www.objectiv.io/docs/open-model-hub/) in conjunction with our [modeling library](https://objectiv.io/docs/modeling/) to quickly build model stacks to answer common product analytics questions.\n",
    "\n",
    "This example uses real, unaltered data that was collected from objectiv.io with Objectiv’s Tracker. All models in the open model hub are compatible with datasets that have been validated against the [open analytics taxonomy](https://objectiv.io/docs/taxonomy/).\n",
    "\n",
    "For an overview of all available models, check out the [open model hub docs](https://www.objectiv.io/docs/open-model-hub/)."
   ]
  },
  {
   "cell_type": "code",
   "execution_count": null,
   "id": "e97ff289",
   "metadata": {},
   "outputs": [],
   "source": [
    "from bach_open_taxonomy import ObjectivFrame"
   ]
  },
  {
   "cell_type": "markdown",
   "id": "e032c7c8",
   "metadata": {},
   "source": [
    "# Instantiate the data object\n",
    "As a first step, the Objectiv Frame object is instantiated. The Objectiv Frame is an extension to Bach DataFrame to use specifically for data that was collected with Objectiv’s Tracker. Bach is Objectiv’s data modeling library. With Bach, you can use familiar Pandas-like DataFrame operations in your notebook. It uses a SQL abstraction layer that enables models to run on the full dataset, and you can output models to SQL with a single command.\n",
    "\n",
    "The Objectiv Bach api is heavily inspired by the pandas api. We believe this provides a great, generic interface to handle large amounts of data in a python environment while supporting multiple data stores. For more details on Objectiv Bach, visit the docs.\n",
    "\n",
    "It loads the data as stored by the Objectiv Tracker, makes a few transformations, and sets the right data types.\n",
    "\n",
    "This object points to the data on which the models from the open model hub will be applied. The `time_aggregation` parameter determines the standard timeframe that is used with aggregation functions from the model hub. Ie. 'YYYY-MM-DD' means that days are used for the time aggregation. Only data starting at `start_date` is used for all following operations."
   ]
  },
  {
   "cell_type": "markdown",
   "id": "1effbed7",
   "metadata": {},
   "source": [
    "**Note**  \n",
    "All operation and models in this notebook are run directly on entire data set in the SQL database using Bach. While the api resembles pandas, pandas is _not_ used for any the operations and calculations."
   ]
  },
  {
   "cell_type": "code",
   "execution_count": null,
   "id": "d582b77f",
   "metadata": {},
   "outputs": [],
   "source": [
    "df = ObjectivFrame.from_objectiv_data(time_aggregation='YYYY-MM-DD', start_date='2022-01-04')"
   ]
  },
  {
   "cell_type": "markdown",
   "id": "1077acee",
   "metadata": {},
   "source": [
    "# Using the open model hub\n",
    "The ModelHub contains a growing collection of open-source, free to use data models that you can take, chain and run to quickly build highly specific model stacks for product analysis and exploration. It includes models for a wide range of typical product analytics use cases. The source is available for all models and you're free to make any changes to them. \n",
    "\n",
    "All models are in the `.model_hub` namespace of the Objectiv Frame. You can also use `.mh` as a shorthand. \n",
    "\n",
    "The model hub has two main type of functions: `map` and `aggregate`. \n",
    "* `map` functions always return a series with the same shape and index as the Objectiv Frame they originate from. This ensures they can be added as a column to that Objectiv Frame.\n",
    "* `aggregate` fuctions return aggregated data in some form from the Objectiv Frame. Can also be accessed with `agg`.\n",
    "\n",
    "Additionally the Objectiv Frame can be filtered with the `filter` method. `map` functions that return SeriesBoolean can be used with the `filter` method.\n",
    "\n",
    "This notebook demonstrates how to use the model hub by showcasing a selection of the models from the model hub."
   ]
  },
  {
   "cell_type": "markdown",
   "id": "e9f3070b",
   "metadata": {},
   "source": [
    "## A simple aggregation model\n",
    "Below we show two ways of calculating the unique users per day. First we calculate it using the pandas-inspired Bach api. With `.head()` we immediately query the data to show the results. `.to_pandas()` can be used to use all results as a pandas object in python."
   ]
  },
  {
   "cell_type": "code",
   "execution_count": null,
   "id": "a46d2b9a",
   "metadata": {},
   "outputs": [],
   "source": [
    "df['date'] = df.moment.dt.sql_format('YYYY-MM-DD')\n",
    "df.groupby('date').user_id.nunique().head(10)"
   ]
  },
  {
   "cell_type": "markdown",
   "id": "ddb5eabf",
   "metadata": {},
   "source": [
    "Now, we calculate the same by using an aggregation model from the model hub. It uses the *time_aggregation* that is set when the Objectiv Frame was instantiated."
   ]
  },
  {
   "cell_type": "code",
   "execution_count": null,
   "id": "d391645f",
   "metadata": {},
   "outputs": [],
   "source": [
    "users = df.model_hub.aggregate.unique_users()\n",
    "users.head(10)"
   ]
  },
  {
   "cell_type": "markdown",
   "id": "3cf5571a",
   "metadata": {},
   "source": [
    "The model hub allows us to run models with a single line of code on the entire data set. This makes it possible to simplify, reuse and chain data models as the example above, and the following examples show. \n",
    "\n",
    "Bach and the model hub work seamlessly together, so the Bach api can always be used with the Objectiv Frame and model hub outputs."
   ]
  },
  {
   "cell_type": "markdown",
   "id": "7e34615c",
   "metadata": {},
   "source": [
    "## Export to metabase\n",
    "All models' results from the model hub can be exported to Metabase to visualize or share the model results."
   ]
  },
  {
   "cell_type": "code",
   "execution_count": null,
   "id": "ad3a937b",
   "metadata": {},
   "outputs": [],
   "source": [
    "# df.model_hub.to_metabase(users, config={'name': 'Unique Users'})"
   ]
  },
  {
   "cell_type": "markdown",
   "id": "dbea4ab2",
   "metadata": {},
   "source": [
    "## Using `map` with the model hub & combining models\n",
    "This example shows how you use map to label users as a new user. This uses *time_aggregation*. As *time_aggregation* was set to 'YYYY-MM-DD' it means all hits are labeled as new for the entire day in which the user had its first session."
   ]
  },
  {
   "cell_type": "code",
   "execution_count": null,
   "id": "ba17e050",
   "metadata": {},
   "outputs": [],
   "source": [
    "is_new_user = df.model_hub.map.is_new_user()\n",
    "is_new_user.head(10)"
   ]
  },
  {
   "cell_type": "markdown",
   "id": "aaa3e447",
   "metadata": {},
   "source": [
    "Or we can label conversion events. To do this we first have to define what a conversion is by setting the type of event and the location on the product at which this event was triggered with `add_conversion_event` (this is called the location stack, see [here](open-taxonomy-how-to.ipynb#global_contexts-&-location_stack) for info)."
   ]
  },
  {
   "cell_type": "code",
   "execution_count": null,
   "id": "7c3f5352",
   "metadata": {},
   "outputs": [],
   "source": [
    "df.add_conversion_event(location_stack=df.location_stack.json[{'id': 'Quickstart Guide', '_type': 'LinkContext'}:],\n",
    "                        event_type='PressEvent',\n",
    "                        name='quickstart_presses')\n",
    "conversion_events = df.mh.map.is_conversion_event('quickstart_presses')\n",
    "conversion_events.head(10)"
   ]
  },
  {
   "cell_type": "markdown",
   "id": "ff326365",
   "metadata": {},
   "source": [
    "### Map, filter, aggregate\n",
    "As the map functions above retured a SeriesBoolean, they can be used in the model hub combined with filter and aggregation models. In the example below, the average session duration is calculated for new users."
   ]
  },
  {
   "cell_type": "code",
   "execution_count": null,
   "id": "469857e2",
   "metadata": {},
   "outputs": [],
   "source": [
    "duration_new_users = df.model_hub.filter(is_new_user).model_hub.aggregate.session_duration()\n",
    "duration_new_users.head(10)"
   ]
  },
  {
   "cell_type": "markdown",
   "id": "1a62779b",
   "metadata": {},
   "source": [
    "Or, as another example, converted unique users"
   ]
  },
  {
   "cell_type": "code",
   "execution_count": null,
   "id": "9cdd1586",
   "metadata": {},
   "outputs": [],
   "source": [
    "df.model_hub.filter(conversion_events).model_hub.aggregate.unique_users().head(10)"
   ]
  },
  {
   "cell_type": "markdown",
   "id": "7d7f1410",
   "metadata": {},
   "source": [
    "### Combining model results\n",
    "Results from aggregation models can be used together if they share the same index type (similar to pandas). In this example the share of new users per day is calculated."
   ]
  },
  {
   "cell_type": "code",
   "execution_count": null,
   "id": "40528b75",
   "metadata": {},
   "outputs": [],
   "source": [
    "new_user_share = df.mh.filter(is_new_user).mh.agg.unique_users() / df.mh.agg.unique_users()\n",
    "new_user_share.head(10)"
   ]
  },
  {
   "cell_type": "markdown",
   "id": "649b4bc3",
   "metadata": {},
   "source": [
    "### Chaining model filters"
   ]
  },
  {
   "cell_type": "markdown",
   "id": "2b9a8137",
   "metadata": {},
   "source": [
    "Filter model results can be chained, as the output is always an ObjectivFrame with the same columns but less (or equal the) number of rows as the initial ObjectivFrame. In this example we calculate the number of users that were new in a month and also that converted twice on a day. "
   ]
  },
  {
   "cell_type": "code",
   "execution_count": null,
   "id": "f21ffe9f",
   "metadata": {},
   "outputs": [],
   "source": [
    "# stackin': unique new users that converted three times in a session\n",
    "df.mh.filter(df.mh.map.is_new_user(time_aggregation = 'YYYY-MM'))\\\n",
    "  .mh.filter(df.mh.map.conversion_count(name='quickstart_presses')==2)\\\n",
    "  .mh.agg.unique_users()\\\n",
    "  .head()"
   ]
  },
  {
   "cell_type": "markdown",
   "id": "c964f0a9",
   "metadata": {},
   "source": [
    "This concludes the open model hub demo.\n",
    "\n",
    "We hope you’ve gotten a taste of the power and flexibility of the open model hub to quickly answer common product analytics questions. You can take it a lot further and build highly specific model stacks for in-depth analysis and exploration.\n",
    "\n",
    "For a complete overview of all available and upcoming models, check out the [open model hub docs](https://objectiv.io/docs/open-model-hub).\n",
    "\n",
    "The Bach modeling library can also do a whole lot more. It includes a specific set of operations that are designed for effective modeling on datasets that embrace the open analytics taxonomy, and pandas-compatability means you can tap into the rich ML ecosystem that pandas is well-known for.\n",
    "\n",
    "There is another notebook in the same folder that demonstrates what you can do with the Bach modeling library [open-taxonomy-how-to.ipynb](open-taxonomy-how-to.ipynb)"
   ]
  }
 ],
 "metadata": {
  "kernelspec": {
   "display_name": "Python 3 (ipykernel)",
   "language": "python",
   "name": "python3"
  },
  "language_info": {
   "codemirror_mode": {
    "name": "ipython",
    "version": 3
   },
   "file_extension": ".py",
   "mimetype": "text/x-python",
   "name": "python",
   "nbconvert_exporter": "python",
   "pygments_lexer": "ipython3",
   "version": "3.9.4"
  }
 },
 "nbformat": 4,
 "nbformat_minor": 5
}
