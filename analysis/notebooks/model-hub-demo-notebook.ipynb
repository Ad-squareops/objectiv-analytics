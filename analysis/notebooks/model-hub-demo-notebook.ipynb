{
 "cells": [
  {
   "cell_type": "code",
   "execution_count": null,
   "id": "e97ff289",
   "metadata": {},
   "outputs": [],
   "source": [
    "import sqlalchemy\n",
    "import os\n",
    "from bach_open_taxonomy import ObjectivFrame"
   ]
  },
  {
   "cell_type": "code",
   "execution_count": null,
   "id": "05190260",
   "metadata": {},
   "outputs": [],
   "source": [
    "dsn = os.environ.get('DSN', 'postgresql://objectiv:@localhost:5432/objectiv')\n",
    "engine = sqlalchemy.create_engine(dsn, pool_size=1, max_overflow=0)"
   ]
  },
  {
   "cell_type": "code",
   "execution_count": null,
   "id": "acd2702a",
   "metadata": {},
   "outputs": [],
   "source": [
    "# set timeframe (date (string or datetime))"
   ]
  },
  {
   "cell_type": "code",
   "execution_count": null,
   "id": "d582b77f",
   "metadata": {},
   "outputs": [],
   "source": [
    "df = ObjectivFrame.from_table(engine, time_aggregation='YYYY-MM-DD', start_date='2021-11-01')\n",
    "print(df.moment.min().head())\n",
    "print(df.moment.max().head())"
   ]
  },
  {
   "cell_type": "code",
   "execution_count": null,
   "id": "b91c5505",
   "metadata": {},
   "outputs": [],
   "source": [
    "# use normal df"
   ]
  },
  {
   "cell_type": "code",
   "execution_count": null,
   "id": "ef28e832",
   "metadata": {},
   "outputs": [],
   "source": [
    "# instantiate with or without time_aggregation (if without, aggregation functions from the model hub\n",
    "#  will aggregated over all data)\n",
    "df = ObjectivFrame.from_table(engine, time_aggregation='YYYY-MM-DD')"
   ]
  },
  {
   "cell_type": "code",
   "execution_count": null,
   "id": "70860a13",
   "metadata": {},
   "outputs": [],
   "source": [
    "df.head()"
   ]
  },
  {
   "cell_type": "code",
   "execution_count": null,
   "id": "ace8109f",
   "metadata": {},
   "outputs": [],
   "source": [
    "df.time_aggregation"
   ]
  },
  {
   "cell_type": "code",
   "execution_count": null,
   "id": "5bad3a19",
   "metadata": {},
   "outputs": [],
   "source": [
    "# unique_users\n",
    "# same:  unique_sessions"
   ]
  },
  {
   "cell_type": "code",
   "execution_count": null,
   "id": "a46d2b9a",
   "metadata": {},
   "outputs": [],
   "source": [
    "# using self.time_aggregation\n",
    "df.model_hub.unique_users().head()"
   ]
  },
  {
   "cell_type": "code",
   "execution_count": null,
   "id": "d94900ca",
   "metadata": {},
   "outputs": [],
   "source": [
    "# override time_aggregation\n",
    "df.model_hub.unique_sessions(time_aggregation='YYYY-MM').head()"
   ]
  },
  {
   "cell_type": "code",
   "execution_count": null,
   "id": "064a37fd",
   "metadata": {},
   "outputs": [],
   "source": [
    "# combine models"
   ]
  },
  {
   "cell_type": "code",
   "execution_count": null,
   "id": "4f9ed983",
   "metadata": {},
   "outputs": [],
   "source": [
    "# using same time_aggregations (from self or set)\n",
    "a = df.model_hub.unique_sessions() / df.model_hub.unique_users()\n",
    "a.head()"
   ]
  },
  {
   "cell_type": "code",
   "execution_count": null,
   "id": "832299d6",
   "metadata": {},
   "outputs": [],
   "source": [
    "a = df.model_hub.unique_sessions(time_aggregation='YYYY-MM') / df.model_hub.unique_users(time_aggregation='YYYY-MM')\n",
    "a.head()"
   ]
  },
  {
   "cell_type": "code",
   "execution_count": null,
   "id": "236cab3c",
   "metadata": {},
   "outputs": [],
   "source": [
    "# different time_aggregation\n",
    "# todo: should this work?\n",
    "# a = df.model_hub.unique_sessions() / df.model_hub.unique_users(time_aggregation='YYYY-MM')\n",
    "# a.head()"
   ]
  },
  {
   "cell_type": "code",
   "execution_count": null,
   "id": "0471fe39",
   "metadata": {},
   "outputs": [],
   "source": [
    "a = df.model_hub.is_first_session()\n",
    "a.head()"
   ]
  },
  {
   "cell_type": "code",
   "execution_count": null,
   "id": "5bdece0f",
   "metadata": {},
   "outputs": [],
   "source": [
    "# filtering and combining models"
   ]
  },
  {
   "cell_type": "code",
   "execution_count": null,
   "id": "b969e060",
   "metadata": {},
   "outputs": [],
   "source": [
    "a = df.model_hub.unique_users(filter=df.model_hub.is_first_session())\n",
    "a.head()"
   ]
  },
  {
   "cell_type": "code",
   "execution_count": null,
   "id": "6fa46018",
   "metadata": {},
   "outputs": [],
   "source": [
    "# this does not work; as for the filter materialize has to be called\n",
    "# todo: should this work?\n",
    "# df.model_hub.unique_users(filter=df.model_hub.is_first_session()) / df.model_hub.unique_users()"
   ]
  },
  {
   "cell_type": "code",
   "execution_count": null,
   "id": "a3e071ca",
   "metadata": {},
   "outputs": [],
   "source": [
    "df = ObjectivFrame.from_table(engine, time_aggregation='YYYY-MM-DD', start_date='2021-11-16')"
   ]
  },
  {
   "cell_type": "code",
   "execution_count": null,
   "id": "a1d9cd0c",
   "metadata": {},
   "outputs": [],
   "source": [
    "df.conversion_events"
   ]
  },
  {
   "cell_type": "code",
   "execution_count": null,
   "id": "da05c124",
   "metadata": {},
   "outputs": [],
   "source": [
    "df.add_conversion_event(conversion_event='ClickEvent')\n",
    "df.add_conversion_event(df.location_stack.json[{'_type': 'LinkContext', 'id': 'cta-repo-button'}:].fillna(df.location_stack.json[{'_type': 'LinkContext', 'id': 'GitHub'}:]),\n",
    "                        conversion_event='ClickEvent')\n",
    "df.add_conversion_event(df.location_stack.json[{'_type': 'LinkContext', 'id': 'cta-repo-button'}:])"
   ]
  },
  {
   "cell_type": "code",
   "execution_count": null,
   "id": "3bb96b3b",
   "metadata": {},
   "outputs": [],
   "source": [
    "\n",
    "# df.add_conversion_event(df.location_stack.json[{'_type': 'LinkContext', 'id': 'cta-repo-button'}:],\n",
    "#                        'ClickEvent')"
   ]
  },
  {
   "cell_type": "code",
   "execution_count": null,
   "id": "7d654b1a",
   "metadata": {},
   "outputs": [],
   "source": [
    "df.conversion_events"
   ]
  },
  {
   "cell_type": "code",
   "execution_count": null,
   "id": "233ae2f6",
   "metadata": {},
   "outputs": [],
   "source": [
    "df.model_hub.conversion('conversion_1').head()"
   ]
  },
  {
   "cell_type": "code",
   "execution_count": null,
   "id": "b917d5ff",
   "metadata": {},
   "outputs": [],
   "source": [
    "df[df.model_hub.conversion('conversion_1')].head()"
   ]
  },
  {
   "cell_type": "code",
   "execution_count": null,
   "id": "9dea9a41",
   "metadata": {},
   "outputs": [],
   "source": [
    "df[df.model_hub.conversion('conversion_2')].head()"
   ]
  },
  {
   "cell_type": "code",
   "execution_count": null,
   "id": "732b7b7d",
   "metadata": {},
   "outputs": [],
   "source": [
    "df[df.model_hub.conversion('conversion_3')].head()"
   ]
  },
  {
   "cell_type": "code",
   "execution_count": null,
   "id": "5e2ca9d1",
   "metadata": {},
   "outputs": [],
   "source": [
    "df.model_hub.unique_users(filter=df.model_hub.conversion('conversion_3')).head()"
   ]
  }
 ],
 "metadata": {
  "kernelspec": {
   "display_name": "Python 3 (ipykernel)",
   "language": "python",
   "name": "python3"
  },
  "language_info": {
   "codemirror_mode": {
    "name": "ipython",
    "version": 3
   },
   "file_extension": ".py",
   "mimetype": "text/x-python",
   "name": "python",
   "nbconvert_exporter": "python",
   "pygments_lexer": "ipython3",
   "version": "3.9.4"
  }
 },
 "nbformat": 4,
 "nbformat_minor": 5
}
