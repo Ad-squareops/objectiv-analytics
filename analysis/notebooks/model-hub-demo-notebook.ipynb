{
 "cells": [
  {
   "cell_type": "markdown",
   "id": "25b2e58e",
   "metadata": {},
   "source": [
    "# Intro\n",
    "This notebook is a brief introduction into the Open Model Hub. The Open Model Hub makes it extremely easy to apply analytics and data science models on your product data. Below you will find a short demo on how this works. More models are available in the Open Model Hub. The Open Model Hub is not finished yet, more models are added while you are reading this.\n",
    "\n",
    "The Open Model Hub works if if the full Objectiv stack is used, meaning that data is tracked and stored with the Objectiv Tracker using the Open Taxonomy."
   ]
  },
  {
   "cell_type": "code",
   "execution_count": null,
   "id": "e97ff289",
   "metadata": {},
   "outputs": [],
   "source": [
    "import sqlalchemy\n",
    "import os\n",
    "from bach_open_taxonomy import ObjectivFrame"
   ]
  },
  {
   "cell_type": "markdown",
   "id": "c8941308",
   "metadata": {},
   "source": [
    "## Prepare the connection to the data"
   ]
  },
  {
   "cell_type": "code",
   "execution_count": null,
   "id": "05190260",
   "metadata": {},
   "outputs": [],
   "source": [
    "from bach_open_taxonomy import ObjectivFrame"
   ]
  },
  {
   "cell_type": "markdown",
   "id": "e032c7c8",
   "metadata": {},
   "source": [
    "## Instantiate the data object\n",
    "This object points to the data on which the models from the Open Model Hub will be applied. The *time_aggregation* parameter determines the standard timeframe that is used with aggregation functions from the Model Hub. Ie. 'YYYY-MM-DD' means that days are used for the time aggregation. Only data starting at *start_date* is used for all following operations."
   ]
  },
  {
   "cell_type": "code",
   "execution_count": null,
   "id": "d582b77f",
   "metadata": {},
   "outputs": [],
   "source": [
    "df = ObjectivFrame.from_table(time_aggregation='YYYY-MM-DD', start_date='2021-11-16')"
   ]
  },
  {
   "cell_type": "markdown",
   "id": "6e3f13da",
   "metadata": {},
   "source": [
    "The created object is a Bach DataFrame. Bach is Objectiv’s data modeling library. With Bach, you can use familiar Pandas-like dataframe operations in your notebook. It uses a SQL abstraction layer that enables models to run on the full dataset, and you can output models to SQL with a single command.\n",
    "\n",
    "The Objectiv Bach api is heavily inspired by the pandas api. We believe this provides a great, generic interface to handle large amounts of data in a python environment while supporting multiple data stores. More information can be found [here](https://objectiv.io/docs/modeling/)."
   ]
  },
  {
   "cell_type": "markdown",
   "id": "1077acee",
   "metadata": {},
   "source": [
    "## Using the Open Model Hub\n",
    "The model hub makes applying models on your data both easy and allows for more advanced models. However, it is possible to use the DataFrame with the regular pandas-like operations that Bach supports, or combine models from the model hub with Bach operations. A more detailed intro of using Objectiv data with Bach, but without the Model Hub is found [here](open-taxonomy-how-to.ipynb).\n",
    "\n",
    "All models are in the `.model_hub` namespace of the DataFrame. "
   ]
  },
  {
   "cell_type": "markdown",
   "id": "e9f3070b",
   "metadata": {},
   "source": [
    "### Unique users\n",
    "Calculating the unique users is one of the models in the model hub. As it is an aggregation model, it is called with `.model_hub.aggregate.unique_users()`. It uses the *time_aggregation* that is set when the DataFrame was instantiated. With `.head()` we immediately query the data to show the first 5 results."
   ]
  },
  {
   "cell_type": "code",
   "execution_count": null,
   "id": "a46d2b9a",
   "metadata": {},
   "outputs": [],
   "source": [
    "df.model_hub.aggregate.unique_users().head()"
   ]
  },
  {
   "cell_type": "markdown",
   "id": "72ac111c",
   "metadata": {},
   "source": [
    "## Combining models\n",
    "It is also possible to combine models, if the results allow for that. Here unique sessions and unique users are divided to get the average sessions per user per day."
   ]
  },
  {
   "cell_type": "markdown",
   "id": "b75b0526",
   "metadata": {},
   "source": [
    "### Average sessions per user per day"
   ]
  },
  {
   "cell_type": "code",
   "execution_count": null,
   "id": "aba7cf04",
   "metadata": {},
   "outputs": [],
   "source": [
    "sessions_per_user = df.mh.agg.unique_sessions() / df.mh.agg.unique_users()\n",
    "sessions_per_user.head()"
   ]
  },
  {
   "cell_type": "markdown",
   "id": "852e0e71",
   "metadata": {},
   "source": [
    "## Using filters for models\n",
    "The models above show results for all hits in the data. The data can also be filtered. In this example, we calculate new users per day, instead of all users that we calculated above.\n",
    "\n",
    "In order to do so, we can use the model hub again to create the filter."
   ]
  },
  {
   "cell_type": "markdown",
   "id": "c3c929ee",
   "metadata": {},
   "source": [
    "### Unique new users"
   ]
  },
  {
   "cell_type": "code",
   "execution_count": null,
   "id": "0471fe39",
   "metadata": {},
   "outputs": [],
   "source": [
    "is_first_session = df.mh.filter.is_first_session()"
   ]
  },
  {
   "cell_type": "code",
   "execution_count": null,
   "id": "b969e060",
   "metadata": {},
   "outputs": [],
   "source": [
    "df.mh.agg.unique_users(filter=is_first_session).head()"
   ]
  },
  {
   "cell_type": "markdown",
   "id": "152be6ba",
   "metadata": {},
   "source": [
    "### Conversion\n",
    "A filter can also be used for conversions. First has to be defined when a hit is a conversion hit. A conversion is defined by a [location](https://objectiv.io/docs/taxonomy/location-contexts) (on the product) and an event type. The example below defines the clicks to our repository as conversions. A name for the conversion event can optionally be specified."
   ]
  },
  {
   "cell_type": "code",
   "execution_count": null,
   "id": "da05c124",
   "metadata": {},
   "outputs": [],
   "source": [
    "df.add_conversion_event(conversion_stack=df.location_stack.json[{'_type': 'LinkContext', 'id': 'cta-repo-button'}:],\n",
    "                        conversion_event='ClickEvent',\n",
    "                        name='github_clicks')"
   ]
  },
  {
   "cell_type": "markdown",
   "id": "50e8a9cb",
   "metadata": {},
   "source": [
    "Using the conversion, we can calculated the number of converted users at once by creating a filter and using that filter in the unique users model."
   ]
  },
  {
   "cell_type": "code",
   "execution_count": null,
   "id": "5e2ca9d1",
   "metadata": {},
   "outputs": [],
   "source": [
    "df.mh.agg.unique_users(filter=df.mh.f.conversion('github_clicks')).head()"
   ]
  },
  {
   "cell_type": "markdown",
   "id": "c964f0a9",
   "metadata": {},
   "source": [
    "This is the end of the Open Model Hub introduction. More models are continuously added to the Open Model Hub. Get started with Objectiv and the Open Model Hub [here](https://objectiv.io/)."
   ]
  }
 ],
 "metadata": {
  "kernelspec": {
   "display_name": "Python 3 (ipykernel)",
   "language": "python",
   "name": "python3"
  },
  "language_info": {
   "codemirror_mode": {
    "name": "ipython",
    "version": 3
   },
   "file_extension": ".py",
   "mimetype": "text/x-python",
   "name": "python",
   "nbconvert_exporter": "python",
   "pygments_lexer": "ipython3",
   "version": "3.9.4"
  }
 },
 "nbformat": 4,
 "nbformat_minor": 5
}
