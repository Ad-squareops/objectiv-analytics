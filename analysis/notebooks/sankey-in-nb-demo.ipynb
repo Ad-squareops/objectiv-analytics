{
 "cells": [
  {
   "cell_type": "code",
   "execution_count": null,
   "id": "6336aea6",
   "metadata": {},
   "outputs": [],
   "source": [
    "from bach import DataFrame\n",
    "from objectiv_bach import FeatureFrame, basic_feature_model\n",
    "import sqlalchemy\n",
    "import pandas as pd\n",
    "\n",
    "engine = sqlalchemy.create_engine('postgresql://objectiv:@localhost:5432/objectiv')\n"
   ]
  },
  {
   "cell_type": "code",
   "execution_count": null,
   "id": "0802d197",
   "metadata": {},
   "outputs": [],
   "source": [
    "from IPython.core.display import display, HTML\n",
    "display(HTML(\"<style>.container { width:100% !important; }</style>\"))"
   ]
  },
  {
   "cell_type": "code",
   "execution_count": null,
   "id": "822987f2",
   "metadata": {},
   "outputs": [],
   "source": [
    "basic_features = basic_feature_model()\n",
    "full_df = DataFrame.from_model(engine=engine, model=basic_features, index=['event_id'])#[['global_contexts','location_stack']]"
   ]
  },
  {
   "cell_type": "code",
   "execution_count": null,
   "id": "38e28dbd",
   "metadata": {},
   "outputs": [],
   "source": [
    "full_df['global_contexts'] = full_df.global_contexts.astype('objectiv_global_context')\n",
    "full_df['location_stack'] = full_df.location_stack.astype('objectiv_location_stack')"
   ]
  },
  {
   "cell_type": "code",
   "execution_count": null,
   "id": "4ff96319",
   "metadata": {},
   "outputs": [],
   "source": [
    "full_df.feature.head()"
   ]
  },
  {
   "cell_type": "code",
   "execution_count": null,
   "id": "2849693e",
   "metadata": {},
   "outputs": [],
   "source": [
    "full_df=full_df[full_df.global_contexts.gc.application=='rod-web-demo']"
   ]
  },
  {
   "cell_type": "code",
   "execution_count": null,
   "id": "9e1d70f6",
   "metadata": {},
   "outputs": [],
   "source": [
    "# full_df=full_df[full_df.global_contexts.gc.application=='objectiv-website']"
   ]
  },
  {
   "cell_type": "code",
   "execution_count": null,
   "id": "6db25772",
   "metadata": {},
   "outputs": [],
   "source": [
    "feature_frame = FeatureFrame.from_data_frame(df=full_df, location_stack_column='location_stack', event_column='event_type')"
   ]
  },
  {
   "cell_type": "code",
   "execution_count": null,
   "id": "a5574c00",
   "metadata": {},
   "outputs": [],
   "source": [
    "feature_frame['test_feature'] = feature_frame['location_stack'].json[1:]"
   ]
  },
  {
   "cell_type": "code",
   "execution_count": null,
   "id": "a0e7bd38",
   "metadata": {},
   "outputs": [],
   "source": [
    "# small data set\n",
    "feature_frame.count().head()"
   ]
  },
  {
   "cell_type": "code",
   "execution_count": null,
   "id": "c746d72c",
   "metadata": {},
   "outputs": [],
   "source": [
    "full_df_with_created_feature = feature_frame.write_to_full_frame()"
   ]
  },
  {
   "cell_type": "code",
   "execution_count": null,
   "id": "b26cd9a8",
   "metadata": {},
   "outputs": [],
   "source": [
    "full_df_with_created_feature.count().head()"
   ]
  },
  {
   "cell_type": "code",
   "execution_count": null,
   "id": "eb9eaa64",
   "metadata": {},
   "outputs": [],
   "source": [
    "# new feature on entire dataset\n",
    "print(f'rows: {full_df_with_created_feature.count().head()[\"session_id_count\"]}')\n",
    "full_df_with_created_feature.head()"
   ]
  },
  {
   "cell_type": "markdown",
   "id": "43f33618",
   "metadata": {},
   "source": [
    "## do sankey plot only, no interactive graph"
   ]
  },
  {
   "cell_type": "code",
   "execution_count": null,
   "id": "f8333dba",
   "metadata": {},
   "outputs": [],
   "source": [
    "# prepare sankey numbers\n",
    "feature_frame.stack_flows_from_feature_df()"
   ]
  },
  {
   "cell_type": "code",
   "execution_count": null,
   "id": "e2055c3a",
   "metadata": {},
   "outputs": [],
   "source": [
    "feature_frame.display_sankey()"
   ]
  },
  {
   "cell_type": "markdown",
   "id": "428414b2",
   "metadata": {},
   "source": [
    "## run dash app in nb"
   ]
  },
  {
   "cell_type": "code",
   "execution_count": null,
   "id": "fd9c5c6c",
   "metadata": {},
   "outputs": [],
   "source": [
    "from jupyter_dash import JupyterDash as Dash"
   ]
  },
  {
   "cell_type": "code",
   "execution_count": null,
   "id": "6fe696da",
   "metadata": {},
   "outputs": [],
   "source": [
    "from objectiv_bach.sankey_dash import get_app"
   ]
  },
  {
   "cell_type": "code",
   "execution_count": null,
   "id": "cf48a13a",
   "metadata": {},
   "outputs": [],
   "source": [
    "app = get_app(Dash, feature_frame)"
   ]
  },
  {
   "cell_type": "code",
   "execution_count": null,
   "id": "ea11ef71",
   "metadata": {
    "scrolled": false
   },
   "outputs": [],
   "source": [
    "app.run_server(mode='inline', height = 1000, port=8054)"
   ]
  },
  {
   "cell_type": "code",
   "execution_count": null,
   "id": "4bae845b",
   "metadata": {},
   "outputs": [],
   "source": [
    "# create features in the sankey, see them here\n",
    "feature_frame.head()"
   ]
  }
 ],
 "metadata": {
  "kernelspec": {
   "display_name": "Python 3 (ipykernel)",
   "language": "python",
   "name": "python3"
  },
  "language_info": {
   "codemirror_mode": {
    "name": "ipython",
    "version": 3
   },
   "file_extension": ".py",
   "mimetype": "text/x-python",
   "name": "python",
   "nbconvert_exporter": "python",
   "pygments_lexer": "ipython3",
   "version": "3.9.4"
  }
 },
 "nbformat": 4,
 "nbformat_minor": 5
}
