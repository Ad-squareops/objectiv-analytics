{
 "cells": [
  {
   "cell_type": "code",
   "execution_count": 1,
   "id": "8229aa62",
   "metadata": {},
   "outputs": [],
   "source": [
    "import sys\n",
    "import datetime\n",
    "import plotly\n",
    "import plotly.graph_objects as go\n",
    "import sqlalchemy\n",
    "\n",
    "# TEMP, REMOVE AFTER INDEX FIX\n",
    "import datetime as dt\n",
    "\n",
    "# import Objectiv buh_tuh\n",
    "from buhtuh.pandasql import BuhTuhDataFrame\n",
    "sys.path.extend([\n",
    "    '../../buhtuh',\n",
    "    '../'\n",
    "])\n",
    "\n",
    "from objectiv_buhtuh.util import duplo_basic_features\n",
    "\n",
    "# enable these once we visualize sankey charts\n",
    "# from IPython.core.display import display, HTML\n",
    "# display(HTML(\"<style>.container { width:100% !important; }</style>\"))\n",
    "# import pandas as pd"
   ]
  },
  {
   "cell_type": "markdown",
   "id": "0a8b47e4-e1c6-443f-a164-31078ed3ae8b",
   "metadata": {},
   "source": [
    "## Get website production data"
   ]
  },
  {
   "cell_type": "code",
   "execution_count": 2,
   "id": "c1e2a831",
   "metadata": {},
   "outputs": [],
   "source": [
    "## get some data, add database and credentials here\n",
    "engine = sqlalchemy.create_engine('postgresql://objectiv:@localhost:5432/objectiv')"
   ]
  },
  {
   "cell_type": "code",
   "execution_count": 3,
   "id": "8310a973",
   "metadata": {},
   "outputs": [],
   "source": [
    "## production website data (from sessionized_data + features)\n",
    "basic_features = duplo_basic_features()\n",
    "buh_tuh = BuhTuhDataFrame.from_model(engine=engine, model=basic_features, index=['event_id'])"
   ]
  },
  {
   "cell_type": "markdown",
   "id": "237a13bf-52e0-4082-a4a2-c382871b1713",
   "metadata": {},
   "source": [
    "## Set the timeframe"
   ]
  },
  {
   "cell_type": "code",
   "execution_count": 4,
   "id": "3177f1fb-c741-4269-8086-dbab942afbeb",
   "metadata": {},
   "outputs": [
    {
     "data": {
      "text/html": [
       "<div>\n",
       "<style scoped>\n",
       "    .dataframe tbody tr th:only-of-type {\n",
       "        vertical-align: middle;\n",
       "    }\n",
       "\n",
       "    .dataframe tbody tr th {\n",
       "        vertical-align: top;\n",
       "    }\n",
       "\n",
       "    .dataframe thead th {\n",
       "        text-align: right;\n",
       "    }\n",
       "</style>\n",
       "<table border=\"1\" class=\"dataframe\">\n",
       "  <thead>\n",
       "    <tr style=\"text-align: right;\">\n",
       "      <th></th>\n",
       "      <th>session_id</th>\n",
       "      <th>session_hit_number</th>\n",
       "      <th>user_id</th>\n",
       "      <th>day</th>\n",
       "      <th>moment</th>\n",
       "      <th>cookie_id</th>\n",
       "      <th>value</th>\n",
       "      <th>event_type</th>\n",
       "      <th>global_contexts</th>\n",
       "      <th>location_stack</th>\n",
       "      <th>time</th>\n",
       "      <th>event_types</th>\n",
       "      <th>stack_selection</th>\n",
       "      <th>selected_stack_location</th>\n",
       "      <th>feature_hash</th>\n",
       "      <th>feature</th>\n",
       "      <th>feature_pretty_name</th>\n",
       "    </tr>\n",
       "    <tr>\n",
       "      <th>event_id</th>\n",
       "      <th></th>\n",
       "      <th></th>\n",
       "      <th></th>\n",
       "      <th></th>\n",
       "      <th></th>\n",
       "      <th></th>\n",
       "      <th></th>\n",
       "      <th></th>\n",
       "      <th></th>\n",
       "      <th></th>\n",
       "      <th></th>\n",
       "      <th></th>\n",
       "      <th></th>\n",
       "      <th></th>\n",
       "      <th></th>\n",
       "      <th></th>\n",
       "      <th></th>\n",
       "    </tr>\n",
       "  </thead>\n",
       "  <tbody>\n",
       "    <tr>\n",
       "      <th>4e1c0ed8-5c62-44a8-a885-faadf7318ca9</th>\n",
       "      <td>4604</td>\n",
       "      <td>1</td>\n",
       "      <td>09bb3558-0b91-42b8-b7d7-fcf7c9024089</td>\n",
       "      <td>2021-10-10</td>\n",
       "      <td>2021-10-10 19:57:50.240</td>\n",
       "      <td>09bb3558-0b91-42b8-b7d7-fcf7c9024089</td>\n",
       "      <td>{'_type': 'ApplicationLoadedEvent', 'location_...</td>\n",
       "      <td>ApplicationLoadedEvent</td>\n",
       "      <td>[{'_type': 'ApplicationContext', 'id': 'object...</td>\n",
       "      <td>[{'_type': 'WebDocumentContext', 'id': '#docum...</td>\n",
       "      <td>1633895870240</td>\n",
       "      <td>[AbstractEvent, ApplicationLoadedEvent, NonInt...</td>\n",
       "      <td>(WebDocumentContext,#document)</td>\n",
       "      <td>[{'_type': 'WebDocumentContext', 'id': '#docum...</td>\n",
       "      <td>537a8733004914cd54ae6231e2361c88</td>\n",
       "      <td>(WebDocumentContext,#document)</td>\n",
       "      <td>Pretty(WebDocumentContext,#document)</td>\n",
       "    </tr>\n",
       "    <tr>\n",
       "      <th>6cb24d48-fb3c-458f-9b86-db7acc9848a8</th>\n",
       "      <td>4603</td>\n",
       "      <td>1</td>\n",
       "      <td>ef70353e-094d-4655-ba3f-a6e76175947c</td>\n",
       "      <td>2021-10-10</td>\n",
       "      <td>2021-10-10 19:33:49.638</td>\n",
       "      <td>ef70353e-094d-4655-ba3f-a6e76175947c</td>\n",
       "      <td>{'_type': 'ApplicationLoadedEvent', 'location_...</td>\n",
       "      <td>ApplicationLoadedEvent</td>\n",
       "      <td>[{'_type': 'ApplicationContext', 'id': 'object...</td>\n",
       "      <td>[{'_type': 'WebDocumentContext', 'id': '#docum...</td>\n",
       "      <td>1633894429638</td>\n",
       "      <td>[AbstractEvent, ApplicationLoadedEvent, NonInt...</td>\n",
       "      <td>(WebDocumentContext,#document)</td>\n",
       "      <td>[{'_type': 'WebDocumentContext', 'id': '#docum...</td>\n",
       "      <td>537a8733004914cd54ae6231e2361c88</td>\n",
       "      <td>(WebDocumentContext,#document)</td>\n",
       "      <td>Pretty(WebDocumentContext,#document)</td>\n",
       "    </tr>\n",
       "    <tr>\n",
       "      <th>d0d2341e-a455-4749-8c85-d0c45fa53766</th>\n",
       "      <td>4602</td>\n",
       "      <td>1</td>\n",
       "      <td>23a824e9-8aa9-4780-ae7c-50ab93e344e4</td>\n",
       "      <td>2021-10-10</td>\n",
       "      <td>2021-10-10 19:14:23.532</td>\n",
       "      <td>23a824e9-8aa9-4780-ae7c-50ab93e344e4</td>\n",
       "      <td>{'_type': 'ApplicationLoadedEvent', 'location_...</td>\n",
       "      <td>ApplicationLoadedEvent</td>\n",
       "      <td>[{'_type': 'ApplicationContext', 'id': 'object...</td>\n",
       "      <td>[{'_type': 'WebDocumentContext', 'id': '#docum...</td>\n",
       "      <td>1633893263532</td>\n",
       "      <td>[AbstractEvent, ApplicationLoadedEvent, NonInt...</td>\n",
       "      <td>(WebDocumentContext,#document)</td>\n",
       "      <td>[{'_type': 'WebDocumentContext', 'id': '#docum...</td>\n",
       "      <td>537a8733004914cd54ae6231e2361c88</td>\n",
       "      <td>(WebDocumentContext,#document)</td>\n",
       "      <td>Pretty(WebDocumentContext,#document)</td>\n",
       "    </tr>\n",
       "    <tr>\n",
       "      <th>414da0d7-6657-49bb-a82d-bc8f448a11c1</th>\n",
       "      <td>4601</td>\n",
       "      <td>1</td>\n",
       "      <td>73b6fe91-0893-4a21-8226-b667f7b9e302</td>\n",
       "      <td>2021-10-10</td>\n",
       "      <td>2021-10-10 19:14:22.198</td>\n",
       "      <td>73b6fe91-0893-4a21-8226-b667f7b9e302</td>\n",
       "      <td>{'_type': 'ApplicationLoadedEvent', 'location_...</td>\n",
       "      <td>ApplicationLoadedEvent</td>\n",
       "      <td>[{'_type': 'ApplicationContext', 'id': 'object...</td>\n",
       "      <td>[{'_type': 'WebDocumentContext', 'id': '#docum...</td>\n",
       "      <td>1633893262198</td>\n",
       "      <td>[AbstractEvent, ApplicationLoadedEvent, NonInt...</td>\n",
       "      <td>(WebDocumentContext,#document)</td>\n",
       "      <td>[{'_type': 'WebDocumentContext', 'id': '#docum...</td>\n",
       "      <td>537a8733004914cd54ae6231e2361c88</td>\n",
       "      <td>(WebDocumentContext,#document)</td>\n",
       "      <td>Pretty(WebDocumentContext,#document)</td>\n",
       "    </tr>\n",
       "    <tr>\n",
       "      <th>46921a7c-534d-47db-bcc7-0b7e90ce0cae</th>\n",
       "      <td>4600</td>\n",
       "      <td>1</td>\n",
       "      <td>6b923247-250d-4182-9688-0424f3c195e5</td>\n",
       "      <td>2021-10-10</td>\n",
       "      <td>2021-10-10 18:25:28.798</td>\n",
       "      <td>6b923247-250d-4182-9688-0424f3c195e5</td>\n",
       "      <td>{'_type': 'ApplicationLoadedEvent', 'location_...</td>\n",
       "      <td>ApplicationLoadedEvent</td>\n",
       "      <td>[{'_type': 'ApplicationContext', 'id': 'object...</td>\n",
       "      <td>[{'_type': 'WebDocumentContext', 'id': '#docum...</td>\n",
       "      <td>1633890328798</td>\n",
       "      <td>[AbstractEvent, ApplicationLoadedEvent, NonInt...</td>\n",
       "      <td>(WebDocumentContext,#document)</td>\n",
       "      <td>[{'_type': 'WebDocumentContext', 'id': '#docum...</td>\n",
       "      <td>537a8733004914cd54ae6231e2361c88</td>\n",
       "      <td>(WebDocumentContext,#document)</td>\n",
       "      <td>Pretty(WebDocumentContext,#document)</td>\n",
       "    </tr>\n",
       "  </tbody>\n",
       "</table>\n",
       "</div>"
      ],
      "text/plain": [
       "                                      session_id  session_hit_number  \\\n",
       "event_id                                                               \n",
       "4e1c0ed8-5c62-44a8-a885-faadf7318ca9        4604                   1   \n",
       "6cb24d48-fb3c-458f-9b86-db7acc9848a8        4603                   1   \n",
       "d0d2341e-a455-4749-8c85-d0c45fa53766        4602                   1   \n",
       "414da0d7-6657-49bb-a82d-bc8f448a11c1        4601                   1   \n",
       "46921a7c-534d-47db-bcc7-0b7e90ce0cae        4600                   1   \n",
       "\n",
       "                                                                   user_id  \\\n",
       "event_id                                                                     \n",
       "4e1c0ed8-5c62-44a8-a885-faadf7318ca9  09bb3558-0b91-42b8-b7d7-fcf7c9024089   \n",
       "6cb24d48-fb3c-458f-9b86-db7acc9848a8  ef70353e-094d-4655-ba3f-a6e76175947c   \n",
       "d0d2341e-a455-4749-8c85-d0c45fa53766  23a824e9-8aa9-4780-ae7c-50ab93e344e4   \n",
       "414da0d7-6657-49bb-a82d-bc8f448a11c1  73b6fe91-0893-4a21-8226-b667f7b9e302   \n",
       "46921a7c-534d-47db-bcc7-0b7e90ce0cae  6b923247-250d-4182-9688-0424f3c195e5   \n",
       "\n",
       "                                             day                  moment  \\\n",
       "event_id                                                                   \n",
       "4e1c0ed8-5c62-44a8-a885-faadf7318ca9  2021-10-10 2021-10-10 19:57:50.240   \n",
       "6cb24d48-fb3c-458f-9b86-db7acc9848a8  2021-10-10 2021-10-10 19:33:49.638   \n",
       "d0d2341e-a455-4749-8c85-d0c45fa53766  2021-10-10 2021-10-10 19:14:23.532   \n",
       "414da0d7-6657-49bb-a82d-bc8f448a11c1  2021-10-10 2021-10-10 19:14:22.198   \n",
       "46921a7c-534d-47db-bcc7-0b7e90ce0cae  2021-10-10 2021-10-10 18:25:28.798   \n",
       "\n",
       "                                                                 cookie_id  \\\n",
       "event_id                                                                     \n",
       "4e1c0ed8-5c62-44a8-a885-faadf7318ca9  09bb3558-0b91-42b8-b7d7-fcf7c9024089   \n",
       "6cb24d48-fb3c-458f-9b86-db7acc9848a8  ef70353e-094d-4655-ba3f-a6e76175947c   \n",
       "d0d2341e-a455-4749-8c85-d0c45fa53766  23a824e9-8aa9-4780-ae7c-50ab93e344e4   \n",
       "414da0d7-6657-49bb-a82d-bc8f448a11c1  73b6fe91-0893-4a21-8226-b667f7b9e302   \n",
       "46921a7c-534d-47db-bcc7-0b7e90ce0cae  6b923247-250d-4182-9688-0424f3c195e5   \n",
       "\n",
       "                                                                                  value  \\\n",
       "event_id                                                                                  \n",
       "4e1c0ed8-5c62-44a8-a885-faadf7318ca9  {'_type': 'ApplicationLoadedEvent', 'location_...   \n",
       "6cb24d48-fb3c-458f-9b86-db7acc9848a8  {'_type': 'ApplicationLoadedEvent', 'location_...   \n",
       "d0d2341e-a455-4749-8c85-d0c45fa53766  {'_type': 'ApplicationLoadedEvent', 'location_...   \n",
       "414da0d7-6657-49bb-a82d-bc8f448a11c1  {'_type': 'ApplicationLoadedEvent', 'location_...   \n",
       "46921a7c-534d-47db-bcc7-0b7e90ce0cae  {'_type': 'ApplicationLoadedEvent', 'location_...   \n",
       "\n",
       "                                                  event_type  \\\n",
       "event_id                                                       \n",
       "4e1c0ed8-5c62-44a8-a885-faadf7318ca9  ApplicationLoadedEvent   \n",
       "6cb24d48-fb3c-458f-9b86-db7acc9848a8  ApplicationLoadedEvent   \n",
       "d0d2341e-a455-4749-8c85-d0c45fa53766  ApplicationLoadedEvent   \n",
       "414da0d7-6657-49bb-a82d-bc8f448a11c1  ApplicationLoadedEvent   \n",
       "46921a7c-534d-47db-bcc7-0b7e90ce0cae  ApplicationLoadedEvent   \n",
       "\n",
       "                                                                        global_contexts  \\\n",
       "event_id                                                                                  \n",
       "4e1c0ed8-5c62-44a8-a885-faadf7318ca9  [{'_type': 'ApplicationContext', 'id': 'object...   \n",
       "6cb24d48-fb3c-458f-9b86-db7acc9848a8  [{'_type': 'ApplicationContext', 'id': 'object...   \n",
       "d0d2341e-a455-4749-8c85-d0c45fa53766  [{'_type': 'ApplicationContext', 'id': 'object...   \n",
       "414da0d7-6657-49bb-a82d-bc8f448a11c1  [{'_type': 'ApplicationContext', 'id': 'object...   \n",
       "46921a7c-534d-47db-bcc7-0b7e90ce0cae  [{'_type': 'ApplicationContext', 'id': 'object...   \n",
       "\n",
       "                                                                         location_stack  \\\n",
       "event_id                                                                                  \n",
       "4e1c0ed8-5c62-44a8-a885-faadf7318ca9  [{'_type': 'WebDocumentContext', 'id': '#docum...   \n",
       "6cb24d48-fb3c-458f-9b86-db7acc9848a8  [{'_type': 'WebDocumentContext', 'id': '#docum...   \n",
       "d0d2341e-a455-4749-8c85-d0c45fa53766  [{'_type': 'WebDocumentContext', 'id': '#docum...   \n",
       "414da0d7-6657-49bb-a82d-bc8f448a11c1  [{'_type': 'WebDocumentContext', 'id': '#docum...   \n",
       "46921a7c-534d-47db-bcc7-0b7e90ce0cae  [{'_type': 'WebDocumentContext', 'id': '#docum...   \n",
       "\n",
       "                                               time  \\\n",
       "event_id                                              \n",
       "4e1c0ed8-5c62-44a8-a885-faadf7318ca9  1633895870240   \n",
       "6cb24d48-fb3c-458f-9b86-db7acc9848a8  1633894429638   \n",
       "d0d2341e-a455-4749-8c85-d0c45fa53766  1633893263532   \n",
       "414da0d7-6657-49bb-a82d-bc8f448a11c1  1633893262198   \n",
       "46921a7c-534d-47db-bcc7-0b7e90ce0cae  1633890328798   \n",
       "\n",
       "                                                                            event_types  \\\n",
       "event_id                                                                                  \n",
       "4e1c0ed8-5c62-44a8-a885-faadf7318ca9  [AbstractEvent, ApplicationLoadedEvent, NonInt...   \n",
       "6cb24d48-fb3c-458f-9b86-db7acc9848a8  [AbstractEvent, ApplicationLoadedEvent, NonInt...   \n",
       "d0d2341e-a455-4749-8c85-d0c45fa53766  [AbstractEvent, ApplicationLoadedEvent, NonInt...   \n",
       "414da0d7-6657-49bb-a82d-bc8f448a11c1  [AbstractEvent, ApplicationLoadedEvent, NonInt...   \n",
       "46921a7c-534d-47db-bcc7-0b7e90ce0cae  [AbstractEvent, ApplicationLoadedEvent, NonInt...   \n",
       "\n",
       "                                                     stack_selection  \\\n",
       "event_id                                                               \n",
       "4e1c0ed8-5c62-44a8-a885-faadf7318ca9  (WebDocumentContext,#document)   \n",
       "6cb24d48-fb3c-458f-9b86-db7acc9848a8  (WebDocumentContext,#document)   \n",
       "d0d2341e-a455-4749-8c85-d0c45fa53766  (WebDocumentContext,#document)   \n",
       "414da0d7-6657-49bb-a82d-bc8f448a11c1  (WebDocumentContext,#document)   \n",
       "46921a7c-534d-47db-bcc7-0b7e90ce0cae  (WebDocumentContext,#document)   \n",
       "\n",
       "                                                                selected_stack_location  \\\n",
       "event_id                                                                                  \n",
       "4e1c0ed8-5c62-44a8-a885-faadf7318ca9  [{'_type': 'WebDocumentContext', 'id': '#docum...   \n",
       "6cb24d48-fb3c-458f-9b86-db7acc9848a8  [{'_type': 'WebDocumentContext', 'id': '#docum...   \n",
       "d0d2341e-a455-4749-8c85-d0c45fa53766  [{'_type': 'WebDocumentContext', 'id': '#docum...   \n",
       "414da0d7-6657-49bb-a82d-bc8f448a11c1  [{'_type': 'WebDocumentContext', 'id': '#docum...   \n",
       "46921a7c-534d-47db-bcc7-0b7e90ce0cae  [{'_type': 'WebDocumentContext', 'id': '#docum...   \n",
       "\n",
       "                                                          feature_hash  \\\n",
       "event_id                                                                 \n",
       "4e1c0ed8-5c62-44a8-a885-faadf7318ca9  537a8733004914cd54ae6231e2361c88   \n",
       "6cb24d48-fb3c-458f-9b86-db7acc9848a8  537a8733004914cd54ae6231e2361c88   \n",
       "d0d2341e-a455-4749-8c85-d0c45fa53766  537a8733004914cd54ae6231e2361c88   \n",
       "414da0d7-6657-49bb-a82d-bc8f448a11c1  537a8733004914cd54ae6231e2361c88   \n",
       "46921a7c-534d-47db-bcc7-0b7e90ce0cae  537a8733004914cd54ae6231e2361c88   \n",
       "\n",
       "                                                             feature  \\\n",
       "event_id                                                               \n",
       "4e1c0ed8-5c62-44a8-a885-faadf7318ca9  (WebDocumentContext,#document)   \n",
       "6cb24d48-fb3c-458f-9b86-db7acc9848a8  (WebDocumentContext,#document)   \n",
       "d0d2341e-a455-4749-8c85-d0c45fa53766  (WebDocumentContext,#document)   \n",
       "414da0d7-6657-49bb-a82d-bc8f448a11c1  (WebDocumentContext,#document)   \n",
       "46921a7c-534d-47db-bcc7-0b7e90ce0cae  (WebDocumentContext,#document)   \n",
       "\n",
       "                                                       feature_pretty_name  \n",
       "event_id                                                                    \n",
       "4e1c0ed8-5c62-44a8-a885-faadf7318ca9  Pretty(WebDocumentContext,#document)  \n",
       "6cb24d48-fb3c-458f-9b86-db7acc9848a8  Pretty(WebDocumentContext,#document)  \n",
       "d0d2341e-a455-4749-8c85-d0c45fa53766  Pretty(WebDocumentContext,#document)  \n",
       "414da0d7-6657-49bb-a82d-bc8f448a11c1  Pretty(WebDocumentContext,#document)  \n",
       "46921a7c-534d-47db-bcc7-0b7e90ce0cae  Pretty(WebDocumentContext,#document)  "
      ]
     },
     "execution_count": 4,
     "metadata": {},
     "output_type": "execute_result"
    }
   ],
   "source": [
    "# set the timeframe for analysis\n",
    "selector = (buh_tuh['moment'] >= datetime.date(2021,6,1)) & (buh_tuh['moment'] < datetime.date(2021,10,11))\n",
    "\n",
    "# create one sampled df with timeframe applied and one with the full dataset\n",
    "timeframe_df = buh_tuh[selector]\n",
    "full_df = buh_tuh\n",
    "\n",
    "timeframe_df.sort_values(by='moment', ascending=False).head()"
   ]
  },
  {
   "cell_type": "markdown",
   "id": "0f1d4954-cabc-44e7-81b8-d18f9d303ed9",
   "metadata": {},
   "source": [
    "## Set the time aggregation "
   ]
  },
  {
   "cell_type": "code",
   "execution_count": 5,
   "id": "0a697920-a443-4593-8acd-71c514aa7406",
   "metadata": {},
   "outputs": [],
   "source": [
    "# choose for which level of time aggregation the rest of the analysis will run\n",
    "# supports all Postgres datetime template patterns:\n",
    "# https://www.postgresql.org/docs/9.1/functions-formatting.html#FUNCTIONS-FORMATTING-DATETIME-TABLE\n",
    "\n",
    "agg_level = 'YYYYIW'\n",
    "\n",
    "def time_aggr(bt, format, aggr):\n",
    "    bt[format.lower()] = bt['moment'].format(format)\n",
    "    group = bt.groupby([format.lower()])\n",
    "    return group[list(aggr.keys())].aggregate(aggr)"
   ]
  },
  {
   "cell_type": "markdown",
   "id": "89b453c8-db28-4f74-be09-0664d32b3e22",
   "metadata": {},
   "source": [
    "## User & session totals"
   ]
  },
  {
   "cell_type": "code",
   "execution_count": null,
   "id": "465a4b0c-49a3-44cc-a4b1-260a7f818c76",
   "metadata": {},
   "outputs": [],
   "source": [
    "# calculate total users & sessions, we can resuse these later\n",
    "total_users = timeframe_df.groupby()['user_id'].nunique()\n",
    "total_sessions = timeframe_df.groupby()['session_id'].nunique()"
   ]
  },
  {
   "cell_type": "markdown",
   "id": "0697e0d3-8443-427b-a3a9-09342adf624e",
   "metadata": {},
   "source": [
    "## Users"
   ]
  },
  {
   "cell_type": "code",
   "execution_count": null,
   "id": "77e00ffd-9940-4ff3-b5db-2734730f240e",
   "metadata": {},
   "outputs": [],
   "source": [
    "# calculate unique users \n",
    "users = time_aggr(timeframe_df, agg_level, {'user_id':'nunique'})\n",
    "\n",
    "users.sort_values(by=agg_level.lower(), ascending=False).head(30)"
   ]
  },
  {
   "cell_type": "code",
   "execution_count": null,
   "id": "951d9b1e-5159-416d-a904-75b63b795e28",
   "metadata": {},
   "outputs": [],
   "source": [
    "# visualize users\n",
    "users.sort_values(by=agg_level.lower(), ascending=True).head(60).plot()"
   ]
  },
  {
   "cell_type": "markdown",
   "id": "378f5454-f7c7-409b-a6d0-996e078c851a",
   "metadata": {},
   "source": [
    "## Sessions"
   ]
  },
  {
   "cell_type": "code",
   "execution_count": null,
   "id": "71c3c2a3-9616-43d6-b529-acf5f6d210d1",
   "metadata": {},
   "outputs": [],
   "source": [
    "# calculate unique sessions\n",
    "sessions = time_aggr(timeframe_df, agg_level, {'session_id':'nunique'})\n",
    "\n",
    "sessions.sort_values(by=agg_level.lower(), ascending=False).head()"
   ]
  },
  {
   "cell_type": "code",
   "execution_count": null,
   "id": "560fc334-17c9-4604-85dd-24fa43abaf07",
   "metadata": {},
   "outputs": [],
   "source": [
    "# visualize sessions\n",
    "sessions.sort_values(by=agg_level.lower(), ascending=True).head(60).plot()"
   ]
  },
  {
   "cell_type": "markdown",
   "id": "6888435d-4287-4cdc-8767-985fe2b9c216",
   "metadata": {},
   "source": [
    "## Sessions per user"
   ]
  },
  {
   "cell_type": "code",
   "execution_count": null,
   "id": "77706040",
   "metadata": {},
   "outputs": [],
   "source": [
    "# merge users and sessions\n",
    "users_sessions = sessions.merge(users, how='inner', on=agg_level.lower())\n",
    "\n",
    "# calculate average sessions per user\n",
    "users_sessions['sessions_per_user_avg'] = users_sessions['session_id_nunique'] / users_sessions['user_id_nunique']\n",
    "\n",
    "# clean-up columns\n",
    "del(users_sessions['session_id_nunique'])\n",
    "del(users_sessions['user_id_nunique'])\n",
    "\n",
    "users_sessions.sort_values(by=agg_level.lower(), ascending=False).head()"
   ]
  },
  {
   "cell_type": "code",
   "execution_count": null,
   "id": "6a7d52d8-08df-4133-a2da-6cedd81f22fd",
   "metadata": {},
   "outputs": [],
   "source": [
    "# visualize average sessions per user\n",
    "users_sessions.sort_values(by=agg_level.lower(), ascending=True).head(60).plot()"
   ]
  },
  {
   "cell_type": "markdown",
   "id": "6fbaaf82-ee41-4602-a2cd-f622fa84b0b2",
   "metadata": {},
   "source": [
    "## New users"
   ]
  },
  {
   "cell_type": "code",
   "execution_count": null,
   "id": "d917e1a3-5b16-4365-98e0-ea0040babebe",
   "metadata": {},
   "outputs": [],
   "source": [
    "# define first seen per user, based on full dataset\n",
    "user_first_seen = full_df.groupby(['user_id'])['moment'].min()\n",
    "user_first_seen[agg_level.lower()] = user_first_seen['moment_min'].format(agg_level)\n",
    "\n",
    "# calculate new users for each timeframe\n",
    "new_users = user_first_seen.groupby(agg_level.lower())['user_id'].nunique()\n",
    "\n",
    "# merge with total users, to calculate ratio and limit to timerange\n",
    "new_total_users = users.merge(new_users, how='inner', on=agg_level.lower())\n",
    "\n",
    "# rename and clean-up columns\n",
    "new_total_users['total_users'] = new_total_users['user_id_nunique_x']\n",
    "new_total_users['new_users'] = new_total_users['user_id_nunique_y']\n",
    "del(new_total_users['user_id_nunique_x'])\n",
    "del(new_total_users['user_id_nunique_y'])\n",
    "\n",
    "# calculate new & returning user share\n",
    "new_total_users['new_user_share'] = new_total_users['new_users'] / new_total_users['total_users']\n",
    "new_total_users['returning_user_share'] = (new_total_users['total_users'] - new_total_users['new_users']) / new_total_users['total_users']\n",
    "\n",
    "new_total_users.sort_values(by=agg_level.lower(), ascending=False).head()"
   ]
  },
  {
   "cell_type": "code",
   "execution_count": null,
   "id": "eca9d062-dd61-49c2-b669-bf0f45c68451",
   "metadata": {},
   "outputs": [],
   "source": [
    "# visualize new users\n",
    "new_total_users[['new_users', 'total_users']].sort_values(by=agg_level.lower(), ascending=True).head(60).plot()"
   ]
  },
  {
   "cell_type": "code",
   "execution_count": null,
   "id": "be740b11-d552-4501-b8b3-48cb077f8470",
   "metadata": {},
   "outputs": [],
   "source": [
    "# visualize returning users\n",
    "new_total_users[['returning_user_share']].sort_values(by=agg_level.lower(), ascending=True).head(60).plot()"
   ]
  },
  {
   "cell_type": "markdown",
   "id": "14b2a479-bd03-4cba-be97-83ccfbf38337",
   "metadata": {},
   "source": [
    "## Frequency"
   ]
  },
  {
   "cell_type": "code",
   "execution_count": null,
   "id": "2d8fc165-5b6a-4df4-839e-53b6df4084f9",
   "metadata": {},
   "outputs": [],
   "source": [
    "# number of total sessions per user\n",
    "total_sessions_user = timeframe_df.groupby(['user_id'])['session_id'].nunique()\n",
    "\n",
    "# calculate frequency\n",
    "frequency = total_sessions_user.groupby(['session_id_nunique'])['user_id'].nunique()\n",
    "\n",
    "# add total users and calculate share per number of sessions\n",
    "frequency['share_of_users'] = frequency['user_id_nunique'] / total_users['user_id_nunique'][1]\n",
    "\n",
    "frequency.sort_values(by='session_id_nunique', ascending=True).head()"
   ]
  },
  {
   "cell_type": "code",
   "execution_count": null,
   "id": "771461f0-9cc6-482e-ada3-76a4da4152de",
   "metadata": {},
   "outputs": [],
   "source": [
    "# visualize frequency\n",
    "frequency[['share_of_users']].sort_values(by='session_id_nunique', ascending=True).head(10).plot()"
   ]
  },
  {
   "cell_type": "markdown",
   "id": "046eb7e6-fba5-4048-ba17-8cff59d92b38",
   "metadata": {},
   "source": [
    "## Events"
   ]
  },
  {
   "cell_type": "code",
   "execution_count": null,
   "id": "24c743b4-dae4-41b9-a4d5-15a87c3b295c",
   "metadata": {},
   "outputs": [],
   "source": [
    "# number of total user per feature\n",
    "# users_per_event = timeframe_df.groupby(['feature'])['user_id'].nunique()\n",
    "\n",
    "events_users = timeframe_df[['moment', 'feature', 'user_id']]\n",
    "events_users[agg_level.lower()] = events_users['moment'].format(agg_level)\n",
    "\n",
    "# calculate hits per session\n",
    "users_per_event = events_users.groupby([agg_level.lower(), 'feature'])['user_id'].nunique()\n",
    "\n",
    "users_per_event.sort_values(by=[agg_level.lower(), 'user_id_nunique'], ascending=False).head()\n",
    "\n",
    "# TODO: \n",
    "# 1) add feature aggregation magic here, so we make the features show-off what we can do much more \n",
    "# 2) add location stack, showing the power of this very soon in the demo's"
   ]
  },
  {
   "cell_type": "markdown",
   "id": "9acf9cf5-c4e6-4d71-a15d-64bea1bf4d55",
   "metadata": {
    "tags": []
   },
   "source": [
    "## Conversion"
   ]
  },
  {
   "cell_type": "code",
   "execution_count": null,
   "id": "c8e09155-217c-4631-b528-ccb7be25ac43",
   "metadata": {},
   "outputs": [],
   "source": [
    "selector2 = (buh_tuh['moment'] >= datetime.date(2021,10,4)) & (buh_tuh['moment'] < datetime.date(2021,10,11))\n",
    "timeframe_df2 = buh_tuh[selector2]\n",
    "timeframe_df2.sort_values(by='moment', ascending=False).head()\n",
    "\n",
    "conv_selector2 = (timeframe_df2['feature'] == '%keep-me-posted-input%')\n",
    "\n",
    "# create df with only conversion events\n",
    "conversions_df2 = timeframe_df2[conv_selector2]\n",
    "conversions_df2.head()"
   ]
  },
  {
   "cell_type": "code",
   "execution_count": null,
   "id": "96311ded-e799-4a27-a466-2c8dcce5ec3b",
   "metadata": {},
   "outputs": [],
   "source": [
    "# TODO: \n",
    "# We can do much better here once we integrate feature selection & aggregation\n",
    "\n",
    "# NOTE: WE NEED TO UPDATE THIS ONCE THE FIRST NEW EVENT FORMAT DATA COMES IN FOR A CONVERSION\n",
    "# set the goal event that you define as conversion, using our subcribe-to-mailing\n",
    "conv_selector = (timeframe_df['feature'] == '(WebDocumentContext,#document),(InputContext,keep-me-posted-input),(ButtonContext,subscribe)')\n",
    "\n",
    "# create df with only conversion events\n",
    "conversions_df = timeframe_df[conv_selector]\n",
    "\n",
    "# calculate conversions, now per user, but can easily be aggregated to session_id instead\n",
    "conversions = time_aggr(conversions_df, agg_level, {'user_id':'nunique'})\n",
    "\n",
    "# merge with users, but can easily be done with sessions instead\n",
    "conversion_rate = conversions.merge(users)\n",
    "conversion_rate = conversions.merge(users, how='inner', on=agg_level.lower())\n",
    "\n",
    "# clean-up and rename columns\n",
    "conversion_rate['converting_users'] = conversion_rate['user_id_nunique_x']\n",
    "conversion_rate['total_users'] = conversion_rate['user_id_nunique_y']\n",
    "del(conversion_rate['user_id_nunique_x'])\n",
    "del(conversion_rate['user_id_nunique_y'])\n",
    "\n",
    "# calculate conversion rate\n",
    "conversion_rate['conversion_rate'] = conversion_rate['converting_users'] / conversion_rate['total_users']\n",
    "\n",
    "conversion_rate.sort_values(by=agg_level.lower(), ascending=False).head(30)"
   ]
  },
  {
   "cell_type": "code",
   "execution_count": null,
   "id": "91715bec-e0c2-4abc-b049-0b7b590348ee",
   "metadata": {},
   "outputs": [],
   "source": [
    "# visualize conversion rate\n",
    "conversion_rate[['conversion_rate']].sort_values(by=agg_level.lower(), ascending=True).head(60).plot()"
   ]
  },
  {
   "cell_type": "markdown",
   "id": "e3cdb781-d188-4f7c-b85d-d96262ff7e69",
   "metadata": {},
   "source": [
    "## Bounce rate"
   ]
  },
  {
   "cell_type": "code",
   "execution_count": null,
   "id": "98f81a91-e85c-4f96-b534-dd39fdacf55e",
   "metadata": {},
   "outputs": [],
   "source": [
    "# NOTE: we need to limit this to page or screen views, instead of all events. Do this once we have integration feature selection.\n",
    "\n",
    "# gather sessions, hits per timeframe\n",
    "hits_sessions = timeframe_df[['moment', 'session_id', 'session_hit_number']]\n",
    "hits_sessions[agg_level.lower()] = hits_sessions['moment'].format(agg_level)\n",
    "\n",
    "# calculate hits per session\n",
    "hits_per_session = hits_sessions.groupby([agg_level.lower(), 'session_id'])['session_hit_number'].nunique()\n",
    "\n",
    "# select sessions with only one hit\n",
    "hit_selector = (hits_per_session['session_hit_number_nunique'] == 1)\n",
    "single_hit_sessions = hits_per_session[hit_selector].to_frame()\n",
    "\n",
    "# count these single hit sessions per timeframe\n",
    "bounced_sessions = single_hit_sessions.groupby([agg_level.lower()])['session_id'].nunique()\n",
    "\n",
    "# merge with total sessions and calculate bounce rate\n",
    "bounce_rate = bounced_sessions.merge(sessions, how='inner', on=agg_level.lower())\n",
    "\n",
    "bounce_rate['bounce_rate'] = bounce_rate['session_id_nunique_x'] / bounce_rate['session_id_nunique_y']\n",
    "del(bounce_rate['session_id_nunique_x'])\n",
    "del(bounce_rate['session_id_nunique_y'])\n",
    "\n",
    "bounce_rate.sort_values(by=agg_level.lower(), ascending=False).head()"
   ]
  },
  {
   "cell_type": "code",
   "execution_count": null,
   "id": "6d126de4-cb9d-4f94-8d54-4074721385db",
   "metadata": {},
   "outputs": [],
   "source": [
    "# visualize bounce rate\n",
    "bounce_rate[['bounce_rate']].sort_values(by=agg_level.lower(), ascending=True).head(60).plot()"
   ]
  },
  {
   "cell_type": "markdown",
   "id": "26c06f91-3fe1-4e25-8706-601e1b223393",
   "metadata": {},
   "source": [
    "## Session duration"
   ]
  },
  {
   "cell_type": "code",
   "execution_count": null,
   "id": "2279e793-e5a4-4a4b-968a-db8c5949f0ff",
   "metadata": {},
   "outputs": [],
   "source": [
    "# calculate duration of each session\n",
    "session_duration = timeframe_df.groupby(['session_id']).aggregate(['moment','moment'],['min','max'])\n",
    "session_duration['session_duration'] = session_duration['moment_max'] - session_duration['moment_min']\n",
    "\n",
    "# check which sessions have duration of zero\n",
    "session_duration['session_duration_zero'] = session_duration['session_duration'] == '0'\n",
    "\n",
    "# adding time aggregation, so we can group on this\n",
    "session_duration[agg_level.lower()] = session_duration['moment_min'].format(agg_level)\n",
    "\n",
    "# calculate average session duration\n",
    "avg_session_duration = session_duration.groupby([agg_level.lower(), 'session_duration_zero'])['session_duration'].average()\n",
    "\n",
    "# count the number of sessions with duration zero or more\n",
    "session_counts = session_duration.groupby([agg_level.lower(), 'session_duration_zero'])['session_id'].count()\n",
    "\n",
    "# merge avg session duration and counts\n",
    "avg_duration_counts = avg_session_duration.merge(session_counts, how='inner', on=[(agg_level.lower()),('session_duration_zero')])\n",
    "\n",
    "# merge with total sessions and calculate share\n",
    "duration_breakdown = avg_duration_counts.merge(sessions, how='inner', on=agg_level.lower())\n",
    "\n",
    "duration_breakdown['share_of_sessions'] = duration_breakdown['session_id_count'] / duration_breakdown['session_id_nunique']\n",
    "del(duration_breakdown['session_id_nunique'])\n",
    "\n",
    "duration_breakdown.sort_values(by=agg_level.lower(), ascending=False).head(6)"
   ]
  },
  {
   "cell_type": "markdown",
   "id": "a2f0f2c5-8e20-4b54-bdfa-dcb920794e5d",
   "metadata": {},
   "source": [
    "## WIP Session duration between specific events"
   ]
  },
  {
   "cell_type": "code",
   "execution_count": null,
   "id": "36bb0024-91db-4a8b-a045-21934c117020",
   "metadata": {},
   "outputs": [],
   "source": [
    "# define the start and stop events to measure the duration\n",
    "start_event = '(WebDocumentContext,#document)'\n",
    "stop_event = '(WebDocumentContext,#document),(SectionContext,footer)'\n",
    "\n",
    "start_event_selector = (timeframe_df['feature'] == start_event)\n",
    "stop_event_selector = (timeframe_df['feature'] == stop_event)\n",
    "\n",
    "# create df filtered on these events\n",
    "start_event_df = timeframe_df[start_event_selector]\n",
    "stop_event_df = timeframe_df[stop_event_selector]\n",
    "\n",
    "# select only the columns needed\n",
    "start_event_df = start_event_df[['moment', 'session_id']]\n",
    "stop_event_df = stop_event_df[['moment', 'session_id']]\n",
    "\n",
    "# merge based on session_id\n",
    "start_stop_moments = start_event_df.merge(stop_event_df, how='inner', on='session_id')\n",
    "\n",
    "# clean-up and rename columns\n",
    "start_stop_moments['moment_start'] = start_stop_moments['moment_x']\n",
    "start_stop_moments['moment_stop'] = start_stop_moments['moment_y']\n",
    "del(start_stop_moments['moment_x'])\n",
    "del(start_stop_moments['moment_y'])\n",
    "\n",
    "# calculate diff between start & stop, to use later for filtering to real duration\n",
    "start_stop_moments['moment_diff'] = start_stop_moments['moment_stop'] - start_stop_moments['moment_start']\n",
    "\n",
    "# diff can not be negative\n",
    "negative_diff_selector = (start_stop_moments['moment_stop'] >= start_stop_moments['moment_start'])\n",
    "start_stop_filtered = start_stop_moments[negative_diff_selector]\n",
    "\n",
    "# for each stop event, select the closest preceeding start event\n",
    "start_stop_diff = start_stop_filtered.groupby(['session_id', 'moment_stop'])['moment_diff'].min()\n",
    "\n",
    "# BELOW DOES NOT WORK YET UNTIL WE HAVE A PLAN FOR INDEXES\n",
    "# start_stop_diff[agg_level.lower()] = start_stop_diff['moment_stop'].format(agg_level)\n",
    "\n",
    "# TEMP UGLY WORKAROUND UNTIL WE HAVE INDEX PLAN\n",
    "temp_fix = start_stop_diff.head(100000)\n",
    "temp_fix_index = temp_fix.reset_index()\n",
    "\n",
    "# adding time aggregation, based on stop event, so we can group on this\n",
    "temp_fix_index['date'] = temp_fix_index['moment_stop'].dt.date\n",
    "\n",
    "# calculate duration between start & stop events\n",
    "start_stop_duration = temp_fix_index.groupby('date').agg({'moment_diff_min':'sum'})\n",
    "start_stop_duration.head(100)"
   ]
  },
  {
   "cell_type": "markdown",
   "id": "b6bb8b6b-f161-47f2-a76d-71f2a49df33c",
   "metadata": {},
   "source": [
    "## WIP testing proto window functions\n"
   ]
  },
  {
   "cell_type": "code",
   "execution_count": 6,
   "id": "5cfa15f0-b7c4-4e21-ac79-413999c988f6",
   "metadata": {},
   "outputs": [
    {
     "ename": "ProgrammingError",
     "evalue": "(psycopg2.errors.WindowingError) window functions are not allowed in WHERE\nLINE 86: ...ntext,#document),(SectionContext,footer)')) AND ((lag(\"momen...\n                                                              ^\n\n[SQL: with ExtractedContexts___b2a80076da9ff7590b6632157368c76c as (\nSELECT *,\n        value->>'_type' AS event_type,\n        JSON_EXTRACT_PATH(value, 'global_contexts') AS global_contexts,\n        JSON_EXTRACT_PATH(value, 'location_stack') AS location_stack,\n        JSON_EXTRACT_PATH(value, 'time') AS time,\n        JSON_EXTRACT_PATH(value, '_types') AS event_types\n FROM data\n ),\nselected_stacks_0daec28eae360a61142b2852b2d86d7c as (\nSELECT   event_id,\n         Array_to_string(Array_agg(Cast(x AS TEXT)),',') AS stack_selection,\n         Array_to_json(Array_agg(Row_to_json(x))) as selected_stack_location\nFROM     ExtractedContexts___b2a80076da9ff7590b6632157368c76c,\n         json_to_recordset(location_stack) AS x(_type text,id text)\nGROUP BY event_id\nORDER BY event_id\n),\nHashedFeatures___0daec28eae360a61142b2852b2d86d7c as (SELECT *,\n       md5(concat(stack_selection,event_type)) as feature_hash\nFROM ExtractedContexts___b2a80076da9ff7590b6632157368c76c\nJOIN selected_stacks_0daec28eae360a61142b2852b2d86d7c USING (event_id)\n),\nFeatureTable___f3e385d75d725cc1f47b4bb86f70f1a9 as (\nSELECT DISTINCT feature_hash,\n                stack_selection as feature,\n                'Pretty' || stack_selection as feature_pretty_name\nFROM HashedFeatures___0daec28eae360a61142b2852b2d86d7c\n),\nsession_starts_df5571e10d2a0bb3cd0f3e933d8c8826 as (\n    select\n        cookie_id as cookie_id,\n        event_id as event_id,\n        coalesce(\n            extract(\n                epoch from (moment - lag(moment, 1) over (partition by cookie_id order by moment, event_id))\n            ) > 123,\n            true\n        ) as is_start_of_session,\n        moment as moment\n    from HashedFeatures___0daec28eae360a61142b2852b2d86d7c\n),\nsession_id_and_start_df5571e10d2a0bb3cd0f3e933d8c8826 as (\n    select\n           -- TODO: do something smart so this can scale.\n           -- currently we always have to query all data. We want to have consistent session_ids, but don't\n           -- want to calculate them from scratch every time.\n           -- uuid_generate_v1() as session_id,\n           row_number() over (order by moment asc) as session_id,\n           cookie_id,\n           event_id,\n           moment as moment\n    from session_starts_df5571e10d2a0bb3cd0f3e933d8c8826\n    where is_start_of_session\n),\nSessionizedData___df5571e10d2a0bb3cd0f3e933d8c8826 as (select\n        s.session_id as session_id,\n        row_number() over (partition by s.session_id order by d.moment, d.event_id asc) as session_hit_number,\n        d.cookie_id as user_id,\n        d.*\nfrom HashedFeatures___0daec28eae360a61142b2852b2d86d7c as d\ninner join session_id_and_start_df5571e10d2a0bb3cd0f3e933d8c8826 as s on s.cookie_id = d.cookie_id and s.moment <= d.moment\nwhere not exists (\n    select *\n    from session_id_and_start_df5571e10d2a0bb3cd0f3e933d8c8826 as s2\n    where\n      -- a session start for the same cookie\n          s2.cookie_id = d.cookie_id\n      and s2.moment <= d.moment\n      -- and that session is closer to pq.moment than the selected session s\n      and s2.moment > s.moment\n)\norder by session_id, moment\n),\nBasicFeatures___64e06d70b0d21e6860980c0ee5fc52f2 as (\nSELECT \n  data.*, \n  bm.feature, \n  bm.feature_pretty_name\nFROM SessionizedData___df5571e10d2a0bb3cd0f3e933d8c8826 as data\nJOIN FeatureTable___f3e385d75d725cc1f47b4bb86f70f1a9 bm USING (feature_hash)\n),\nCustomSqlModel___fbb36d70dcff4e585fe66f3bddfffd74 as (SELECT * FROM BasicFeatures___64e06d70b0d21e6860980c0ee5fc52f2),\nboolean_selection___8bc296e2fdfbd6960b415d4763f9b802 as (select event_id, \"session_id\" as \"session_id\", \"session_hit_number\" as \"session_hit_number\", \"user_id\" as \"user_id\", \"day\" as \"day\", \"moment\" as \"moment\", \"cookie_id\" as \"cookie_id\", \"value\" as \"value\", \"event_type\" as \"event_type\", \"global_contexts\" as \"global_contexts\", \"location_stack\" as \"location_stack\", \"time\" as \"time\", \"event_types\" as \"event_types\", \"stack_selection\" as \"stack_selection\", \"selected_stack_location\" as \"selected_stack_location\", \"feature_hash\" as \"feature_hash\", \"feature\" as \"feature\", \"feature_pretty_name\" as \"feature_pretty_name\" from CustomSqlModel___fbb36d70dcff4e585fe66f3bddfffd74 where (((\"moment\") >= ('2021-06-01'::date)) AND ((\"moment\") < ('2021-10-11'::date)))),\nboolean_selection___da1127020d67b212d12525726175cc2a as (select event_id, \"session_id\" as \"session_id\", \"session_hit_number\" as \"session_hit_number\", \"user_id\" as \"user_id\", \"day\" as \"day\", \"moment\" as \"moment\", \"cookie_id\" as \"cookie_id\", \"value\" as \"value\", \"event_type\" as \"event_type\", \"global_contexts\" as \"global_contexts\", \"location_stack\" as \"location_stack\", \"time\" as \"time\", \"event_types\" as \"event_types\", \"stack_selection\" as \"stack_selection\", \"selected_stack_location\" as \"selected_stack_location\", \"feature_hash\" as \"feature_hash\", \"feature\" as \"feature\", \"feature_pretty_name\" as \"feature_pretty_name\" from boolean_selection___8bc296e2fdfbd6960b415d4763f9b802 where (((\"feature\") = ('(WebDocumentContext,#document)')) OR ((\"feature\") = ('(WebDocumentContext,#document),(SectionContext,footer)')))),\nboolean_selection___7862cdc207eff919e36c4d7586925705 as (select event_id, \"session_id\" as \"session_id\", \"session_hit_number\" as \"session_hit_number\", \"user_id\" as \"user_id\", \"day\" as \"day\", \"moment\" as \"moment\", \"cookie_id\" as \"cookie_id\", \"value\" as \"value\", \"event_type\" as \"event_type\", \"global_contexts\" as \"global_contexts\", \"location_stack\" as \"location_stack\", \"time\" as \"time\", \"event_types\" as \"event_types\", \"stack_selection\" as \"stack_selection\", \"selected_stack_location\" as \"selected_stack_location\", \"feature_hash\" as \"feature_hash\", \"feature\" as \"feature\", \"feature_pretty_name\" as \"feature_pretty_name\", lag(\"moment\", 1, NULL) OVER (PARTITION BY \"session_id\" order by \"moment\" asc RANGE BETWEEN UNBOUNDED PRECEDING AND CURRENT ROW) as \"prev_event\", lag(\"moment\", 1, NULL) OVER (PARTITION BY \"session_id\" order by \"moment\" asc RANGE BETWEEN UNBOUNDED PRECEDING AND CURRENT ROW) as \"prev_moment\" from boolean_selection___da1127020d67b212d12525726175cc2a where (((\"feature\") = ('(WebDocumentContext,#document),(SectionContext,footer)')) AND ((lag(\"moment\", 1, NULL) OVER (PARTITION BY \"session_id\" order by \"moment\" asc RANGE BETWEEN UNBOUNDED PRECEDING AND CURRENT ROW)) = ('(WebDocumentContext,#document)'))))\nselect \"event_id\", \"session_id\" as \"session_id\", \"session_hit_number\" as \"session_hit_number\", \"user_id\" as \"user_id\", \"day\" as \"day\", \"moment\" as \"moment\", \"cookie_id\" as \"cookie_id\", \"value\" as \"value\", \"event_type\" as \"event_type\", \"global_contexts\" as \"global_contexts\", \"location_stack\" as \"location_stack\", \"time\" as \"time\", \"event_types\" as \"event_types\", \"stack_selection\" as \"stack_selection\", \"selected_stack_location\" as \"selected_stack_location\", \"feature_hash\" as \"feature_hash\", \"feature\" as \"feature\", \"feature_pretty_name\" as \"feature_pretty_name\", \"prev_event\" as \"prev_event\", \"prev_moment\" as \"prev_moment\", (\"moment\") - (\"prev_moment\") as \"duration\" from boolean_selection___7862cdc207eff919e36c4d7586925705  limit 5 offset 0]\n(Background on this error at: http://sqlalche.me/e/14/f405)",
     "output_type": "error",
     "traceback": [
      "\u001b[0;31m---------------------------------------------------------------------------\u001b[0m",
      "\u001b[0;31mWindowingError\u001b[0m                            Traceback (most recent call last)",
      "\u001b[0;32m/usr/local/lib/python3.9/site-packages/sqlalchemy/engine/base.py\u001b[0m in \u001b[0;36m_execute_context\u001b[0;34m(self, dialect, constructor, statement, parameters, execution_options, *args, **kw)\u001b[0m\n\u001b[1;32m   1769\u001b[0m                 \u001b[0;32mif\u001b[0m \u001b[0;32mnot\u001b[0m \u001b[0mevt_handled\u001b[0m\u001b[0;34m:\u001b[0m\u001b[0;34m\u001b[0m\u001b[0;34m\u001b[0m\u001b[0m\n\u001b[0;32m-> 1770\u001b[0;31m                     self.dialect.do_execute(\n\u001b[0m\u001b[1;32m   1771\u001b[0m                         \u001b[0mcursor\u001b[0m\u001b[0;34m,\u001b[0m \u001b[0mstatement\u001b[0m\u001b[0;34m,\u001b[0m \u001b[0mparameters\u001b[0m\u001b[0;34m,\u001b[0m \u001b[0mcontext\u001b[0m\u001b[0;34m\u001b[0m\u001b[0;34m\u001b[0m\u001b[0m\n",
      "\u001b[0;32m/usr/local/lib/python3.9/site-packages/sqlalchemy/engine/default.py\u001b[0m in \u001b[0;36mdo_execute\u001b[0;34m(self, cursor, statement, parameters, context)\u001b[0m\n\u001b[1;32m    716\u001b[0m     \u001b[0;32mdef\u001b[0m \u001b[0mdo_execute\u001b[0m\u001b[0;34m(\u001b[0m\u001b[0mself\u001b[0m\u001b[0;34m,\u001b[0m \u001b[0mcursor\u001b[0m\u001b[0;34m,\u001b[0m \u001b[0mstatement\u001b[0m\u001b[0;34m,\u001b[0m \u001b[0mparameters\u001b[0m\u001b[0;34m,\u001b[0m \u001b[0mcontext\u001b[0m\u001b[0;34m=\u001b[0m\u001b[0;32mNone\u001b[0m\u001b[0;34m)\u001b[0m\u001b[0;34m:\u001b[0m\u001b[0;34m\u001b[0m\u001b[0;34m\u001b[0m\u001b[0m\n\u001b[0;32m--> 717\u001b[0;31m         \u001b[0mcursor\u001b[0m\u001b[0;34m.\u001b[0m\u001b[0mexecute\u001b[0m\u001b[0;34m(\u001b[0m\u001b[0mstatement\u001b[0m\u001b[0;34m,\u001b[0m \u001b[0mparameters\u001b[0m\u001b[0;34m)\u001b[0m\u001b[0;34m\u001b[0m\u001b[0;34m\u001b[0m\u001b[0m\n\u001b[0m\u001b[1;32m    718\u001b[0m \u001b[0;34m\u001b[0m\u001b[0m\n",
      "\u001b[0;31mWindowingError\u001b[0m: window functions are not allowed in WHERE\nLINE 86: ...ntext,#document),(SectionContext,footer)')) AND ((lag(\"momen...\n                                                              ^\n",
      "\nThe above exception was the direct cause of the following exception:\n",
      "\u001b[0;31mProgrammingError\u001b[0m                          Traceback (most recent call last)",
      "\u001b[0;32m/var/folders/n6/8l1d0cg56zj806nkgw08kxt00000gn/T/ipykernel_44373/1633982516.py\u001b[0m in \u001b[0;36m<module>\u001b[0;34m\u001b[0m\n\u001b[1;32m     14\u001b[0m \u001b[0mcomplete\u001b[0m\u001b[0;34m[\u001b[0m\u001b[0;34m'duration'\u001b[0m\u001b[0;34m]\u001b[0m \u001b[0;34m=\u001b[0m \u001b[0mcomplete\u001b[0m\u001b[0;34m.\u001b[0m\u001b[0mmoment\u001b[0m \u001b[0;34m-\u001b[0m \u001b[0mcomplete\u001b[0m\u001b[0;34m.\u001b[0m\u001b[0mprev_moment\u001b[0m\u001b[0;34m\u001b[0m\u001b[0;34m\u001b[0m\u001b[0m\n\u001b[1;32m     15\u001b[0m \u001b[0;34m\u001b[0m\u001b[0m\n\u001b[0;32m---> 16\u001b[0;31m \u001b[0mcomplete\u001b[0m\u001b[0;34m.\u001b[0m\u001b[0mhead\u001b[0m\u001b[0;34m(\u001b[0m\u001b[0;34m)\u001b[0m\u001b[0;34m\u001b[0m\u001b[0;34m\u001b[0m\u001b[0m\n\u001b[0m",
      "\u001b[0;32m~/objectiv-analytics/buhtuh/buhtuh/pandasql.py\u001b[0m in \u001b[0;36mhead\u001b[0;34m(self, n)\u001b[0m\n\u001b[1;32m    604\u001b[0m         \u001b[0mconn\u001b[0m \u001b[0;34m=\u001b[0m \u001b[0mself\u001b[0m\u001b[0;34m.\u001b[0m\u001b[0mengine\u001b[0m\u001b[0;34m.\u001b[0m\u001b[0mconnect\u001b[0m\u001b[0;34m(\u001b[0m\u001b[0;34m)\u001b[0m\u001b[0;34m\u001b[0m\u001b[0;34m\u001b[0m\u001b[0m\n\u001b[1;32m    605\u001b[0m         \u001b[0msql\u001b[0m \u001b[0;34m=\u001b[0m \u001b[0mself\u001b[0m\u001b[0;34m.\u001b[0m\u001b[0mview_sql\u001b[0m\u001b[0;34m(\u001b[0m\u001b[0mlimit\u001b[0m\u001b[0;34m=\u001b[0m\u001b[0mn\u001b[0m\u001b[0;34m)\u001b[0m\u001b[0;34m\u001b[0m\u001b[0;34m\u001b[0m\u001b[0m\n\u001b[0;32m--> 606\u001b[0;31m         \u001b[0mdf\u001b[0m \u001b[0;34m=\u001b[0m \u001b[0mpandas\u001b[0m\u001b[0;34m.\u001b[0m\u001b[0mread_sql_query\u001b[0m\u001b[0;34m(\u001b[0m\u001b[0msql\u001b[0m\u001b[0;34m,\u001b[0m \u001b[0mconn\u001b[0m\u001b[0;34m,\u001b[0m \u001b[0mindex_col\u001b[0m\u001b[0;34m=\u001b[0m\u001b[0mlist\u001b[0m\u001b[0;34m(\u001b[0m\u001b[0mself\u001b[0m\u001b[0;34m.\u001b[0m\u001b[0mindex\u001b[0m\u001b[0;34m.\u001b[0m\u001b[0mkeys\u001b[0m\u001b[0;34m(\u001b[0m\u001b[0;34m)\u001b[0m\u001b[0;34m)\u001b[0m\u001b[0;34m)\u001b[0m\u001b[0;34m\u001b[0m\u001b[0;34m\u001b[0m\u001b[0m\n\u001b[0m\u001b[1;32m    607\u001b[0m         \u001b[0mconn\u001b[0m\u001b[0;34m.\u001b[0m\u001b[0mclose\u001b[0m\u001b[0;34m(\u001b[0m\u001b[0;34m)\u001b[0m\u001b[0;34m\u001b[0m\u001b[0;34m\u001b[0m\u001b[0m\n\u001b[1;32m    608\u001b[0m         \u001b[0;32mreturn\u001b[0m \u001b[0mdf\u001b[0m\u001b[0;34m\u001b[0m\u001b[0;34m\u001b[0m\u001b[0m\n",
      "\u001b[0;32m/usr/local/lib/python3.9/site-packages/pandas/io/sql.py\u001b[0m in \u001b[0;36mread_sql_query\u001b[0;34m(sql, con, index_col, coerce_float, params, parse_dates, chunksize, dtype)\u001b[0m\n\u001b[1;32m    434\u001b[0m     \"\"\"\n\u001b[1;32m    435\u001b[0m     \u001b[0mpandas_sql\u001b[0m \u001b[0;34m=\u001b[0m \u001b[0mpandasSQL_builder\u001b[0m\u001b[0;34m(\u001b[0m\u001b[0mcon\u001b[0m\u001b[0;34m)\u001b[0m\u001b[0;34m\u001b[0m\u001b[0;34m\u001b[0m\u001b[0m\n\u001b[0;32m--> 436\u001b[0;31m     return pandas_sql.read_query(\n\u001b[0m\u001b[1;32m    437\u001b[0m         \u001b[0msql\u001b[0m\u001b[0;34m,\u001b[0m\u001b[0;34m\u001b[0m\u001b[0;34m\u001b[0m\u001b[0m\n\u001b[1;32m    438\u001b[0m         \u001b[0mindex_col\u001b[0m\u001b[0;34m=\u001b[0m\u001b[0mindex_col\u001b[0m\u001b[0;34m,\u001b[0m\u001b[0;34m\u001b[0m\u001b[0;34m\u001b[0m\u001b[0m\n",
      "\u001b[0;32m/usr/local/lib/python3.9/site-packages/pandas/io/sql.py\u001b[0m in \u001b[0;36mread_query\u001b[0;34m(self, sql, index_col, coerce_float, parse_dates, params, chunksize, dtype)\u001b[0m\n\u001b[1;32m   1577\u001b[0m         \u001b[0margs\u001b[0m \u001b[0;34m=\u001b[0m \u001b[0m_convert_params\u001b[0m\u001b[0;34m(\u001b[0m\u001b[0msql\u001b[0m\u001b[0;34m,\u001b[0m \u001b[0mparams\u001b[0m\u001b[0;34m)\u001b[0m\u001b[0;34m\u001b[0m\u001b[0;34m\u001b[0m\u001b[0m\n\u001b[1;32m   1578\u001b[0m \u001b[0;34m\u001b[0m\u001b[0m\n\u001b[0;32m-> 1579\u001b[0;31m         \u001b[0mresult\u001b[0m \u001b[0;34m=\u001b[0m \u001b[0mself\u001b[0m\u001b[0;34m.\u001b[0m\u001b[0mexecute\u001b[0m\u001b[0;34m(\u001b[0m\u001b[0;34m*\u001b[0m\u001b[0margs\u001b[0m\u001b[0;34m)\u001b[0m\u001b[0;34m\u001b[0m\u001b[0;34m\u001b[0m\u001b[0m\n\u001b[0m\u001b[1;32m   1580\u001b[0m         \u001b[0mcolumns\u001b[0m \u001b[0;34m=\u001b[0m \u001b[0mresult\u001b[0m\u001b[0;34m.\u001b[0m\u001b[0mkeys\u001b[0m\u001b[0;34m(\u001b[0m\u001b[0;34m)\u001b[0m\u001b[0;34m\u001b[0m\u001b[0;34m\u001b[0m\u001b[0m\n\u001b[1;32m   1581\u001b[0m \u001b[0;34m\u001b[0m\u001b[0m\n",
      "\u001b[0;32m/usr/local/lib/python3.9/site-packages/pandas/io/sql.py\u001b[0m in \u001b[0;36mexecute\u001b[0;34m(self, *args, **kwargs)\u001b[0m\n\u001b[1;32m   1422\u001b[0m     \u001b[0;32mdef\u001b[0m \u001b[0mexecute\u001b[0m\u001b[0;34m(\u001b[0m\u001b[0mself\u001b[0m\u001b[0;34m,\u001b[0m \u001b[0;34m*\u001b[0m\u001b[0margs\u001b[0m\u001b[0;34m,\u001b[0m \u001b[0;34m**\u001b[0m\u001b[0mkwargs\u001b[0m\u001b[0;34m)\u001b[0m\u001b[0;34m:\u001b[0m\u001b[0;34m\u001b[0m\u001b[0;34m\u001b[0m\u001b[0m\n\u001b[1;32m   1423\u001b[0m         \u001b[0;34m\"\"\"Simple passthrough to SQLAlchemy connectable\"\"\"\u001b[0m\u001b[0;34m\u001b[0m\u001b[0;34m\u001b[0m\u001b[0m\n\u001b[0;32m-> 1424\u001b[0;31m         \u001b[0;32mreturn\u001b[0m \u001b[0mself\u001b[0m\u001b[0;34m.\u001b[0m\u001b[0mconnectable\u001b[0m\u001b[0;34m.\u001b[0m\u001b[0mexecution_options\u001b[0m\u001b[0;34m(\u001b[0m\u001b[0;34m)\u001b[0m\u001b[0;34m.\u001b[0m\u001b[0mexecute\u001b[0m\u001b[0;34m(\u001b[0m\u001b[0;34m*\u001b[0m\u001b[0margs\u001b[0m\u001b[0;34m,\u001b[0m \u001b[0;34m**\u001b[0m\u001b[0mkwargs\u001b[0m\u001b[0;34m)\u001b[0m\u001b[0;34m\u001b[0m\u001b[0;34m\u001b[0m\u001b[0m\n\u001b[0m\u001b[1;32m   1425\u001b[0m \u001b[0;34m\u001b[0m\u001b[0m\n\u001b[1;32m   1426\u001b[0m     def read_table(\n",
      "\u001b[0;32m/usr/local/lib/python3.9/site-packages/sqlalchemy/engine/base.py\u001b[0m in \u001b[0;36mexecute\u001b[0;34m(self, statement, *multiparams, **params)\u001b[0m\n\u001b[1;32m   1245\u001b[0m             )\n\u001b[1;32m   1246\u001b[0m \u001b[0;34m\u001b[0m\u001b[0m\n\u001b[0;32m-> 1247\u001b[0;31m             return self._exec_driver_sql(\n\u001b[0m\u001b[1;32m   1248\u001b[0m                 \u001b[0mstatement\u001b[0m\u001b[0;34m,\u001b[0m\u001b[0;34m\u001b[0m\u001b[0;34m\u001b[0m\u001b[0m\n\u001b[1;32m   1249\u001b[0m                 \u001b[0mmultiparams\u001b[0m\u001b[0;34m,\u001b[0m\u001b[0;34m\u001b[0m\u001b[0;34m\u001b[0m\u001b[0m\n",
      "\u001b[0;32m/usr/local/lib/python3.9/site-packages/sqlalchemy/engine/base.py\u001b[0m in \u001b[0;36m_exec_driver_sql\u001b[0;34m(self, statement, multiparams, params, execution_options, future)\u001b[0m\n\u001b[1;32m   1544\u001b[0m \u001b[0;34m\u001b[0m\u001b[0m\n\u001b[1;32m   1545\u001b[0m         \u001b[0mdialect\u001b[0m \u001b[0;34m=\u001b[0m \u001b[0mself\u001b[0m\u001b[0;34m.\u001b[0m\u001b[0mdialect\u001b[0m\u001b[0;34m\u001b[0m\u001b[0;34m\u001b[0m\u001b[0m\n\u001b[0;32m-> 1546\u001b[0;31m         ret = self._execute_context(\n\u001b[0m\u001b[1;32m   1547\u001b[0m             \u001b[0mdialect\u001b[0m\u001b[0;34m,\u001b[0m\u001b[0;34m\u001b[0m\u001b[0;34m\u001b[0m\u001b[0m\n\u001b[1;32m   1548\u001b[0m             \u001b[0mdialect\u001b[0m\u001b[0;34m.\u001b[0m\u001b[0mexecution_ctx_cls\u001b[0m\u001b[0;34m.\u001b[0m\u001b[0m_init_statement\u001b[0m\u001b[0;34m,\u001b[0m\u001b[0;34m\u001b[0m\u001b[0;34m\u001b[0m\u001b[0m\n",
      "\u001b[0;32m/usr/local/lib/python3.9/site-packages/sqlalchemy/engine/base.py\u001b[0m in \u001b[0;36m_execute_context\u001b[0;34m(self, dialect, constructor, statement, parameters, execution_options, *args, **kw)\u001b[0m\n\u001b[1;32m   1811\u001b[0m \u001b[0;34m\u001b[0m\u001b[0m\n\u001b[1;32m   1812\u001b[0m         \u001b[0;32mexcept\u001b[0m \u001b[0mBaseException\u001b[0m \u001b[0;32mas\u001b[0m \u001b[0me\u001b[0m\u001b[0;34m:\u001b[0m\u001b[0;34m\u001b[0m\u001b[0;34m\u001b[0m\u001b[0m\n\u001b[0;32m-> 1813\u001b[0;31m             self._handle_dbapi_exception(\n\u001b[0m\u001b[1;32m   1814\u001b[0m                 \u001b[0me\u001b[0m\u001b[0;34m,\u001b[0m \u001b[0mstatement\u001b[0m\u001b[0;34m,\u001b[0m \u001b[0mparameters\u001b[0m\u001b[0;34m,\u001b[0m \u001b[0mcursor\u001b[0m\u001b[0;34m,\u001b[0m \u001b[0mcontext\u001b[0m\u001b[0;34m\u001b[0m\u001b[0;34m\u001b[0m\u001b[0m\n\u001b[1;32m   1815\u001b[0m             )\n",
      "\u001b[0;32m/usr/local/lib/python3.9/site-packages/sqlalchemy/engine/base.py\u001b[0m in \u001b[0;36m_handle_dbapi_exception\u001b[0;34m(self, e, statement, parameters, cursor, context)\u001b[0m\n\u001b[1;32m   1992\u001b[0m                 \u001b[0mutil\u001b[0m\u001b[0;34m.\u001b[0m\u001b[0mraise_\u001b[0m\u001b[0;34m(\u001b[0m\u001b[0mnewraise\u001b[0m\u001b[0;34m,\u001b[0m \u001b[0mwith_traceback\u001b[0m\u001b[0;34m=\u001b[0m\u001b[0mexc_info\u001b[0m\u001b[0;34m[\u001b[0m\u001b[0;36m2\u001b[0m\u001b[0;34m]\u001b[0m\u001b[0;34m,\u001b[0m \u001b[0mfrom_\u001b[0m\u001b[0;34m=\u001b[0m\u001b[0me\u001b[0m\u001b[0;34m)\u001b[0m\u001b[0;34m\u001b[0m\u001b[0;34m\u001b[0m\u001b[0m\n\u001b[1;32m   1993\u001b[0m             \u001b[0;32melif\u001b[0m \u001b[0mshould_wrap\u001b[0m\u001b[0;34m:\u001b[0m\u001b[0;34m\u001b[0m\u001b[0;34m\u001b[0m\u001b[0m\n\u001b[0;32m-> 1994\u001b[0;31m                 util.raise_(\n\u001b[0m\u001b[1;32m   1995\u001b[0m                     \u001b[0msqlalchemy_exception\u001b[0m\u001b[0;34m,\u001b[0m \u001b[0mwith_traceback\u001b[0m\u001b[0;34m=\u001b[0m\u001b[0mexc_info\u001b[0m\u001b[0;34m[\u001b[0m\u001b[0;36m2\u001b[0m\u001b[0;34m]\u001b[0m\u001b[0;34m,\u001b[0m \u001b[0mfrom_\u001b[0m\u001b[0;34m=\u001b[0m\u001b[0me\u001b[0m\u001b[0;34m\u001b[0m\u001b[0;34m\u001b[0m\u001b[0m\n\u001b[1;32m   1996\u001b[0m                 )\n",
      "\u001b[0;32m/usr/local/lib/python3.9/site-packages/sqlalchemy/util/compat.py\u001b[0m in \u001b[0;36mraise_\u001b[0;34m(***failed resolving arguments***)\u001b[0m\n\u001b[1;32m    205\u001b[0m \u001b[0;34m\u001b[0m\u001b[0m\n\u001b[1;32m    206\u001b[0m         \u001b[0;32mtry\u001b[0m\u001b[0;34m:\u001b[0m\u001b[0;34m\u001b[0m\u001b[0;34m\u001b[0m\u001b[0m\n\u001b[0;32m--> 207\u001b[0;31m             \u001b[0;32mraise\u001b[0m \u001b[0mexception\u001b[0m\u001b[0;34m\u001b[0m\u001b[0;34m\u001b[0m\u001b[0m\n\u001b[0m\u001b[1;32m    208\u001b[0m         \u001b[0;32mfinally\u001b[0m\u001b[0;34m:\u001b[0m\u001b[0;34m\u001b[0m\u001b[0;34m\u001b[0m\u001b[0m\n\u001b[1;32m    209\u001b[0m             \u001b[0;31m# credit to\u001b[0m\u001b[0;34m\u001b[0m\u001b[0;34m\u001b[0m\u001b[0;34m\u001b[0m\u001b[0m\n",
      "\u001b[0;32m/usr/local/lib/python3.9/site-packages/sqlalchemy/engine/base.py\u001b[0m in \u001b[0;36m_execute_context\u001b[0;34m(self, dialect, constructor, statement, parameters, execution_options, *args, **kw)\u001b[0m\n\u001b[1;32m   1768\u001b[0m                             \u001b[0;32mbreak\u001b[0m\u001b[0;34m\u001b[0m\u001b[0;34m\u001b[0m\u001b[0m\n\u001b[1;32m   1769\u001b[0m                 \u001b[0;32mif\u001b[0m \u001b[0;32mnot\u001b[0m \u001b[0mevt_handled\u001b[0m\u001b[0;34m:\u001b[0m\u001b[0;34m\u001b[0m\u001b[0;34m\u001b[0m\u001b[0m\n\u001b[0;32m-> 1770\u001b[0;31m                     self.dialect.do_execute(\n\u001b[0m\u001b[1;32m   1771\u001b[0m                         \u001b[0mcursor\u001b[0m\u001b[0;34m,\u001b[0m \u001b[0mstatement\u001b[0m\u001b[0;34m,\u001b[0m \u001b[0mparameters\u001b[0m\u001b[0;34m,\u001b[0m \u001b[0mcontext\u001b[0m\u001b[0;34m\u001b[0m\u001b[0;34m\u001b[0m\u001b[0m\n\u001b[1;32m   1772\u001b[0m                     )\n",
      "\u001b[0;32m/usr/local/lib/python3.9/site-packages/sqlalchemy/engine/default.py\u001b[0m in \u001b[0;36mdo_execute\u001b[0;34m(self, cursor, statement, parameters, context)\u001b[0m\n\u001b[1;32m    715\u001b[0m \u001b[0;34m\u001b[0m\u001b[0m\n\u001b[1;32m    716\u001b[0m     \u001b[0;32mdef\u001b[0m \u001b[0mdo_execute\u001b[0m\u001b[0;34m(\u001b[0m\u001b[0mself\u001b[0m\u001b[0;34m,\u001b[0m \u001b[0mcursor\u001b[0m\u001b[0;34m,\u001b[0m \u001b[0mstatement\u001b[0m\u001b[0;34m,\u001b[0m \u001b[0mparameters\u001b[0m\u001b[0;34m,\u001b[0m \u001b[0mcontext\u001b[0m\u001b[0;34m=\u001b[0m\u001b[0;32mNone\u001b[0m\u001b[0;34m)\u001b[0m\u001b[0;34m:\u001b[0m\u001b[0;34m\u001b[0m\u001b[0;34m\u001b[0m\u001b[0m\n\u001b[0;32m--> 717\u001b[0;31m         \u001b[0mcursor\u001b[0m\u001b[0;34m.\u001b[0m\u001b[0mexecute\u001b[0m\u001b[0;34m(\u001b[0m\u001b[0mstatement\u001b[0m\u001b[0;34m,\u001b[0m \u001b[0mparameters\u001b[0m\u001b[0;34m)\u001b[0m\u001b[0;34m\u001b[0m\u001b[0;34m\u001b[0m\u001b[0m\n\u001b[0m\u001b[1;32m    718\u001b[0m \u001b[0;34m\u001b[0m\u001b[0m\n\u001b[1;32m    719\u001b[0m     \u001b[0;32mdef\u001b[0m \u001b[0mdo_execute_no_params\u001b[0m\u001b[0;34m(\u001b[0m\u001b[0mself\u001b[0m\u001b[0;34m,\u001b[0m \u001b[0mcursor\u001b[0m\u001b[0;34m,\u001b[0m \u001b[0mstatement\u001b[0m\u001b[0;34m,\u001b[0m \u001b[0mcontext\u001b[0m\u001b[0;34m=\u001b[0m\u001b[0;32mNone\u001b[0m\u001b[0;34m)\u001b[0m\u001b[0;34m:\u001b[0m\u001b[0;34m\u001b[0m\u001b[0;34m\u001b[0m\u001b[0m\n",
      "\u001b[0;31mProgrammingError\u001b[0m: (psycopg2.errors.WindowingError) window functions are not allowed in WHERE\nLINE 86: ...ntext,#document),(SectionContext,footer)')) AND ((lag(\"momen...\n                                                              ^\n\n[SQL: with ExtractedContexts___b2a80076da9ff7590b6632157368c76c as (\nSELECT *,\n        value->>'_type' AS event_type,\n        JSON_EXTRACT_PATH(value, 'global_contexts') AS global_contexts,\n        JSON_EXTRACT_PATH(value, 'location_stack') AS location_stack,\n        JSON_EXTRACT_PATH(value, 'time') AS time,\n        JSON_EXTRACT_PATH(value, '_types') AS event_types\n FROM data\n ),\nselected_stacks_0daec28eae360a61142b2852b2d86d7c as (\nSELECT   event_id,\n         Array_to_string(Array_agg(Cast(x AS TEXT)),',') AS stack_selection,\n         Array_to_json(Array_agg(Row_to_json(x))) as selected_stack_location\nFROM     ExtractedContexts___b2a80076da9ff7590b6632157368c76c,\n         json_to_recordset(location_stack) AS x(_type text,id text)\nGROUP BY event_id\nORDER BY event_id\n),\nHashedFeatures___0daec28eae360a61142b2852b2d86d7c as (SELECT *,\n       md5(concat(stack_selection,event_type)) as feature_hash\nFROM ExtractedContexts___b2a80076da9ff7590b6632157368c76c\nJOIN selected_stacks_0daec28eae360a61142b2852b2d86d7c USING (event_id)\n),\nFeatureTable___f3e385d75d725cc1f47b4bb86f70f1a9 as (\nSELECT DISTINCT feature_hash,\n                stack_selection as feature,\n                'Pretty' || stack_selection as feature_pretty_name\nFROM HashedFeatures___0daec28eae360a61142b2852b2d86d7c\n),\nsession_starts_df5571e10d2a0bb3cd0f3e933d8c8826 as (\n    select\n        cookie_id as cookie_id,\n        event_id as event_id,\n        coalesce(\n            extract(\n                epoch from (moment - lag(moment, 1) over (partition by cookie_id order by moment, event_id))\n            ) > 123,\n            true\n        ) as is_start_of_session,\n        moment as moment\n    from HashedFeatures___0daec28eae360a61142b2852b2d86d7c\n),\nsession_id_and_start_df5571e10d2a0bb3cd0f3e933d8c8826 as (\n    select\n           -- TODO: do something smart so this can scale.\n           -- currently we always have to query all data. We want to have consistent session_ids, but don't\n           -- want to calculate them from scratch every time.\n           -- uuid_generate_v1() as session_id,\n           row_number() over (order by moment asc) as session_id,\n           cookie_id,\n           event_id,\n           moment as moment\n    from session_starts_df5571e10d2a0bb3cd0f3e933d8c8826\n    where is_start_of_session\n),\nSessionizedData___df5571e10d2a0bb3cd0f3e933d8c8826 as (select\n        s.session_id as session_id,\n        row_number() over (partition by s.session_id order by d.moment, d.event_id asc) as session_hit_number,\n        d.cookie_id as user_id,\n        d.*\nfrom HashedFeatures___0daec28eae360a61142b2852b2d86d7c as d\ninner join session_id_and_start_df5571e10d2a0bb3cd0f3e933d8c8826 as s on s.cookie_id = d.cookie_id and s.moment <= d.moment\nwhere not exists (\n    select *\n    from session_id_and_start_df5571e10d2a0bb3cd0f3e933d8c8826 as s2\n    where\n      -- a session start for the same cookie\n          s2.cookie_id = d.cookie_id\n      and s2.moment <= d.moment\n      -- and that session is closer to pq.moment than the selected session s\n      and s2.moment > s.moment\n)\norder by session_id, moment\n),\nBasicFeatures___64e06d70b0d21e6860980c0ee5fc52f2 as (\nSELECT \n  data.*, \n  bm.feature, \n  bm.feature_pretty_name\nFROM SessionizedData___df5571e10d2a0bb3cd0f3e933d8c8826 as data\nJOIN FeatureTable___f3e385d75d725cc1f47b4bb86f70f1a9 bm USING (feature_hash)\n),\nCustomSqlModel___fbb36d70dcff4e585fe66f3bddfffd74 as (SELECT * FROM BasicFeatures___64e06d70b0d21e6860980c0ee5fc52f2),\nboolean_selection___8bc296e2fdfbd6960b415d4763f9b802 as (select event_id, \"session_id\" as \"session_id\", \"session_hit_number\" as \"session_hit_number\", \"user_id\" as \"user_id\", \"day\" as \"day\", \"moment\" as \"moment\", \"cookie_id\" as \"cookie_id\", \"value\" as \"value\", \"event_type\" as \"event_type\", \"global_contexts\" as \"global_contexts\", \"location_stack\" as \"location_stack\", \"time\" as \"time\", \"event_types\" as \"event_types\", \"stack_selection\" as \"stack_selection\", \"selected_stack_location\" as \"selected_stack_location\", \"feature_hash\" as \"feature_hash\", \"feature\" as \"feature\", \"feature_pretty_name\" as \"feature_pretty_name\" from CustomSqlModel___fbb36d70dcff4e585fe66f3bddfffd74 where (((\"moment\") >= ('2021-06-01'::date)) AND ((\"moment\") < ('2021-10-11'::date)))),\nboolean_selection___da1127020d67b212d12525726175cc2a as (select event_id, \"session_id\" as \"session_id\", \"session_hit_number\" as \"session_hit_number\", \"user_id\" as \"user_id\", \"day\" as \"day\", \"moment\" as \"moment\", \"cookie_id\" as \"cookie_id\", \"value\" as \"value\", \"event_type\" as \"event_type\", \"global_contexts\" as \"global_contexts\", \"location_stack\" as \"location_stack\", \"time\" as \"time\", \"event_types\" as \"event_types\", \"stack_selection\" as \"stack_selection\", \"selected_stack_location\" as \"selected_stack_location\", \"feature_hash\" as \"feature_hash\", \"feature\" as \"feature\", \"feature_pretty_name\" as \"feature_pretty_name\" from boolean_selection___8bc296e2fdfbd6960b415d4763f9b802 where (((\"feature\") = ('(WebDocumentContext,#document)')) OR ((\"feature\") = ('(WebDocumentContext,#document),(SectionContext,footer)')))),\nboolean_selection___7862cdc207eff919e36c4d7586925705 as (select event_id, \"session_id\" as \"session_id\", \"session_hit_number\" as \"session_hit_number\", \"user_id\" as \"user_id\", \"day\" as \"day\", \"moment\" as \"moment\", \"cookie_id\" as \"cookie_id\", \"value\" as \"value\", \"event_type\" as \"event_type\", \"global_contexts\" as \"global_contexts\", \"location_stack\" as \"location_stack\", \"time\" as \"time\", \"event_types\" as \"event_types\", \"stack_selection\" as \"stack_selection\", \"selected_stack_location\" as \"selected_stack_location\", \"feature_hash\" as \"feature_hash\", \"feature\" as \"feature\", \"feature_pretty_name\" as \"feature_pretty_name\", lag(\"moment\", 1, NULL) OVER (PARTITION BY \"session_id\" order by \"moment\" asc RANGE BETWEEN UNBOUNDED PRECEDING AND CURRENT ROW) as \"prev_event\", lag(\"moment\", 1, NULL) OVER (PARTITION BY \"session_id\" order by \"moment\" asc RANGE BETWEEN UNBOUNDED PRECEDING AND CURRENT ROW) as \"prev_moment\" from boolean_selection___da1127020d67b212d12525726175cc2a where (((\"feature\") = ('(WebDocumentContext,#document),(SectionContext,footer)')) AND ((lag(\"moment\", 1, NULL) OVER (PARTITION BY \"session_id\" order by \"moment\" asc RANGE BETWEEN UNBOUNDED PRECEDING AND CURRENT ROW)) = ('(WebDocumentContext,#document)'))))\nselect \"event_id\", \"session_id\" as \"session_id\", \"session_hit_number\" as \"session_hit_number\", \"user_id\" as \"user_id\", \"day\" as \"day\", \"moment\" as \"moment\", \"cookie_id\" as \"cookie_id\", \"value\" as \"value\", \"event_type\" as \"event_type\", \"global_contexts\" as \"global_contexts\", \"location_stack\" as \"location_stack\", \"time\" as \"time\", \"event_types\" as \"event_types\", \"stack_selection\" as \"stack_selection\", \"selected_stack_location\" as \"selected_stack_location\", \"feature_hash\" as \"feature_hash\", \"feature\" as \"feature\", \"feature_pretty_name\" as \"feature_pretty_name\", \"prev_event\" as \"prev_event\", \"prev_moment\" as \"prev_moment\", (\"moment\") - (\"prev_moment\") as \"duration\" from boolean_selection___7862cdc207eff919e36c4d7586925705  limit 5 offset 0]\n(Background on this error at: http://sqlalche.me/e/14/f405)"
     ]
    }
   ],
   "source": [
    "# Make sure we only have the events we are interested in\n",
    "start_stop = timeframe_df[(timeframe_df.feature == '(WebDocumentContext,#document)') | (timeframe_df.feature == '(WebDocumentContext,#document),(SectionContext,footer)')]\n",
    "\n",
    "# Get previous (because of the sorting) event for stop event _in the same session_\n",
    "# window_lag(n) returns the nth previous value in the partition\n",
    "window = start_stop.sort_values('moment').window('session_id')\n",
    "start_stop['prev_event'] = start_stop.moment.window_lag(window)\n",
    "start_stop['prev_moment'] = start_stop.moment.window_lag(window)\n",
    "\n",
    "# keep only rows that are complete (session boundaries not required, those were already enforced)\n",
    "complete = start_stop[(start_stop.feature == '(WebDocumentContext,#document),(SectionContext,footer)') & (start_stop.prev_event == '(WebDocumentContext,#document)')]\n",
    "\n",
    "# calculate duration\n",
    "complete['duration'] = complete.moment - complete.prev_moment\n",
    "\n",
    "complete.head()"
   ]
  },
  {
   "cell_type": "markdown",
   "id": "39f25752-6cbe-4119-ac7e-79d4c095e793",
   "metadata": {},
   "source": [
    "# TODO"
   ]
  },
  {
   "cell_type": "code",
   "execution_count": null,
   "id": "0a504f06-ce9b-44d0-b1e1-bc4047a51843",
   "metadata": {},
   "outputs": [],
   "source": [
    "# below parts first require some next steps in dub_buh_tuh"
   ]
  },
  {
   "cell_type": "markdown",
   "id": "c84339df-e25a-43ff-a527-8ff7aa674128",
   "metadata": {},
   "source": [
    "## Conversion funnel"
   ]
  },
  {
   "cell_type": "code",
   "execution_count": null,
   "id": "4d2ea3f2-a2b0-4701-80fe-3cce1e54b69b",
   "metadata": {},
   "outputs": [],
   "source": [
    "# TODO\n",
    "# Self-merge is giving not the ouput we expect. \n",
    "# Without that, we can not create a sankey that looks like a familiar funnel. \n",
    "# See example here https://gitlab.com/newrelity/objectiv-taxonomy-prototypes/-/blob/web-analytics/data-science/issue_example_self_merge.ipynb\n",
    "\n",
    "# showing the sequence of events for converting users\n",
    "\n",
    "# resuse the df with only conversion events, select the users and their conversion moment\n",
    "converting_users = conversions_df['user_id', 'moment']\n",
    "\n",
    "# for now, we focus on the first conversion event. Later it is nice to also make it possible to see events between first and 2nd conversion, and so on.\n",
    "converting_users = converting_users.groupby(['user_id'])['moment'].min()\n",
    "converting_users['first_conversion_moment'] = converting_users['moment_min']\n",
    "del(converting_users['moment_min'])\n",
    "\n",
    "# merge with the df that has all user events in the timeframe\n",
    "converting_users_events = timeframe_df.merge(converting_users, [('user_id', 'user_id')])\n",
    "\n",
    "# select all events that converting users had up to their first conversion moment\n",
    "event_selector = (converting_users_events['moment'] <= converting_users_events['first_conversion_moment'])\n",
    "pre_conversion_events = converting_users_events[event_selector]\n",
    "\n",
    "# create pairs of from-to events based on session hit number\n",
    "event_sequence = pre_conversion_events['session_id', 'session_hit_number', 'feature']\n",
    "\n",
    "event_pairs = event_sequence.merge(event_sequence, [('session_id')])\n",
    "\n",
    "event_pairs.head(50)\n"
   ]
  },
  {
   "cell_type": "code",
   "execution_count": null,
   "id": "9c8ae37e-d3a9-4ff4-a812-58344f07c7f5",
   "metadata": {},
   "outputs": [],
   "source": [
    "df_sank = pd.read_csv('buh.csv')"
   ]
  },
  {
   "cell_type": "code",
   "execution_count": null,
   "id": "4f7547db-3fad-412c-b566-01f5582dccdf",
   "metadata": {},
   "outputs": [],
   "source": [
    "categories = set(df_sank['source']).union(set(df_sank['target']))\n",
    "df_sank['source'] = pd.Categorical(df_sank['source'], categories=categories)\n",
    "df_sank['target'] = pd.Categorical(df_sank['target'], categories=categories)\n",
    "\n",
    "text_in_title = str('title')\n",
    "node = dict(\n",
    "      pad=15,\n",
    "      thickness=20,\n",
    "      line=dict(color=\"black\", width=0.5),\n",
    "      label=df_sank.source.cat.categories,\n",
    "      color='blue'\n",
    "    )\n",
    "link = pd.concat([df_sank[['source', 'target']].apply(lambda x: x.cat.codes), df_sank['value']], axis=1).to_dict('list')\n",
    "fig = go.Figure(go.Sankey(arrangement=\"fixed\", link=link, node=node), {'clickmode': 'event+select'})\n",
    "fig.update_layout(title_text=text_in_title, font_size=10)"
   ]
  },
  {
   "cell_type": "markdown",
   "id": "3d2c66a2-97ee-4888-83d2-122547bf53c6",
   "metadata": {},
   "source": [
    "## User timeline"
   ]
  },
  {
   "cell_type": "code",
   "execution_count": null,
   "id": "4c13effa-fbc1-42fb-8faf-85c40948602b",
   "metadata": {},
   "outputs": [],
   "source": [
    "# show the timeline of an indivual user's events\n",
    "# NOTE: we can make this better with feature selection & aggregation\n",
    "\n",
    "# select the spefic user we want to replay\n",
    "user_id_selector = (buh_tuh['user_id'] == '320db8ee-847c-424b-8291-c65d021575aa')\n",
    "\n",
    "# create df with only this user's events\n",
    "# NOTE: timeframe_df['user_id_selector'] breaks: \"# We only support first level boolean indices for now\", so doing on full df for now\n",
    "selected_user_df = buh_tuh[user_id_selector]\n",
    "\n",
    "# left join conversions df, so we can check if the user converted\n",
    "user_timeline = selected_user_df.merge(conversions_df,how='left')\n",
    "\n",
    "# rename and clean-up columns\n",
    "user_timeline['moment'] = user_timeline['moment_left'] \n",
    "user_timeline['feature'] = user_timeline['feature_left']\n",
    "user_timeline['conversion_feature'] = user_timeline['feature_right']\n",
    "\n",
    "# show relevant columns\n",
    "user_timeline['moment','feature','conversion_feature'].sort_values({'moment':True}).head()"
   ]
  },
  {
   "cell_type": "markdown",
   "id": "76e283e6-cc77-412d-91ec-9915fcbc7764",
   "metadata": {},
   "source": [
    "## Retention cohorts"
   ]
  },
  {
   "cell_type": "code",
   "execution_count": null,
   "id": "b9547912-5207-475d-99cc-345e82e36c78",
   "metadata": {},
   "outputs": [],
   "source": [
    "# TODO: \n",
    "# continue on this when we have datetime intervals, so we can calculate start & end moments of cohorts.\n",
    "\n",
    "# get the time aggregations where there are users\n",
    "timeframes = users\n",
    "timeframes = timeframes.head(100).reset_index()\n",
    "\n",
    "# cleanup columns we don't need\n",
    "del(timeframes['user_id_nunique'])\n",
    "del(timeframes['share_of_total'])\n",
    "\n",
    "# reset index and use that as cohort numbering\n",
    "timeframes2 = timeframes.rename_axis('cohort_nr').reset_index()\n",
    "timeframes2.head()"
   ]
  },
  {
   "cell_type": "markdown",
   "id": "19ec41a8-09bc-4922-b12f-83dd1725bf67",
   "metadata": {},
   "source": [
    "## Events flow"
   ]
  },
  {
   "cell_type": "code",
   "execution_count": null,
   "id": "106f06c4-ac0f-4c6b-889b-918cba8be266",
   "metadata": {},
   "outputs": [],
   "source": [
    "# events per session hit number\n",
    "events_per_hit_number = buh_tuh[selector].groupby(['session_hit_number', 'feature'])['session_id'].nunique()\n",
    "\n",
    "events_per_hit_number.sort_values({'session_hit_number':True}).head()"
   ]
  },
  {
   "cell_type": "markdown",
   "id": "95769feb-fc26-4aa1-9e12-205aa3ed7fc8",
   "metadata": {},
   "source": [
    "## Recency"
   ]
  },
  {
   "cell_type": "code",
   "execution_count": null,
   "id": "73d3fef3-e4d7-4adf-a8c3-ca4c4d789606",
   "metadata": {},
   "outputs": [],
   "source": [
    "# TODO: pick this up once we have window functions\n",
    "\n",
    "# \"the number of days between the close of one session and the opening of another\"\n",
    "test = timeframe_df.groupby(['user_id', 'session_id']).aggregate(['moment','moment'],['min','max'])\n",
    "\n",
    "test.head()"
   ]
  },
  {
   "cell_type": "markdown",
   "id": "6589de70-d5d2-4b1b-8529-ed12c0d3e898",
   "metadata": {},
   "source": [
    "## Traffic source"
   ]
  },
  {
   "cell_type": "code",
   "execution_count": null,
   "id": "8d42d550-625b-451f-8cb4-fed192483469",
   "metadata": {},
   "outputs": [],
   "source": [
    "# TODO\n",
    "# For Traffic Source, Geo and Device metrics, we would need to get source/geo/device data from GlobalContext in a easy way.\n",
    "# We can then also blend it in all metrics above as slicing option."
   ]
  },
  {
   "cell_type": "markdown",
   "id": "e56cb88f-b2df-44e2-80ba-c1c384978689",
   "metadata": {
    "tags": []
   },
   "source": [
    "## Geo "
   ]
  },
  {
   "cell_type": "markdown",
   "id": "21a12b72-3872-488c-934d-eed3f262560e",
   "metadata": {},
   "source": [
    "## Devices"
   ]
  }
 ],
 "metadata": {
  "kernelspec": {
   "display_name": "Python 3 (ipykernel)",
   "language": "python",
   "name": "python3"
  },
  "language_info": {
   "codemirror_mode": {
    "name": "ipython",
    "version": 3
   },
   "file_extension": ".py",
   "mimetype": "text/x-python",
   "name": "python",
   "nbconvert_exporter": "python",
   "pygments_lexer": "ipython3",
   "version": "3.9.6"
  }
 },
 "nbformat": 4,
 "nbformat_minor": 5
}
