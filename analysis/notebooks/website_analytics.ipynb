{
 "cells": [
  {
   "cell_type": "code",
   "execution_count": 1,
   "id": "8229aa62",
   "metadata": {},
   "outputs": [],
   "source": [
    "import sys\n",
    "import datetime\n",
    "import plotly\n",
    "import plotly.graph_objects as go\n",
    "import plotly.figure_factory as ff\n",
    "import matplotlib.pyplot as plt\n",
    "import numpy as np\n",
    "import seaborn as sns\n",
    "from matplotlib.ticker import FuncFormatter\n",
    "import sqlalchemy\n",
    "\n",
    "# import Objectiv Bach\n",
    "from bach import DataFrame\n",
    "sys.path.extend([\n",
    "    '../../bach',\n",
    "    '../'\n",
    "])\n",
    "\n",
    "from objectiv_bach.util import duplo_basic_features"
   ]
  },
  {
   "cell_type": "markdown",
   "id": "0a8b47e4-e1c6-443f-a164-31078ed3ae8b",
   "metadata": {},
   "source": [
    "## Get website production data"
   ]
  },
  {
   "cell_type": "code",
   "execution_count": 2,
   "id": "c1e2a831",
   "metadata": {},
   "outputs": [],
   "source": [
    "# connect to full postgresql dataset, add database and credentials here\n",
    "engine = sqlalchemy.create_engine('postgresql://objectiv:@localhost:5432/objectiv')"
   ]
  },
  {
   "cell_type": "code",
   "execution_count": 3,
   "id": "8310a973",
   "metadata": {},
   "outputs": [],
   "source": [
    "# create a buh_tuh dataframe based on the full dataset\n",
    "basic_features = duplo_basic_features()\n",
    "full_df = DataFrame.from_model(engine=engine, model=basic_features, index=['event_id'])"
   ]
  },
  {
   "cell_type": "markdown",
   "id": "237a13bf-52e0-4082-a4a2-c382871b1713",
   "metadata": {
    "tags": []
   },
   "source": [
    "## Set the timeframe"
   ]
  },
  {
   "cell_type": "code",
   "execution_count": 4,
   "id": "3177f1fb-c741-4269-8086-dbab942afbeb",
   "metadata": {},
   "outputs": [
    {
     "data": {
      "text/html": [
       "<div>\n",
       "<style scoped>\n",
       "    .dataframe tbody tr th:only-of-type {\n",
       "        vertical-align: middle;\n",
       "    }\n",
       "\n",
       "    .dataframe tbody tr th {\n",
       "        vertical-align: top;\n",
       "    }\n",
       "\n",
       "    .dataframe thead th {\n",
       "        text-align: right;\n",
       "    }\n",
       "</style>\n",
       "<table border=\"1\" class=\"dataframe\">\n",
       "  <thead>\n",
       "    <tr style=\"text-align: right;\">\n",
       "      <th></th>\n",
       "      <th>session_id</th>\n",
       "      <th>session_hit_number</th>\n",
       "      <th>user_id</th>\n",
       "      <th>day</th>\n",
       "      <th>moment</th>\n",
       "      <th>cookie_id</th>\n",
       "      <th>value</th>\n",
       "      <th>event_type</th>\n",
       "      <th>global_contexts</th>\n",
       "      <th>location_stack</th>\n",
       "      <th>time</th>\n",
       "      <th>event_types</th>\n",
       "      <th>stack_selection</th>\n",
       "      <th>selected_stack_location</th>\n",
       "      <th>feature_hash</th>\n",
       "      <th>feature</th>\n",
       "      <th>feature_pretty_name</th>\n",
       "    </tr>\n",
       "    <tr>\n",
       "      <th>event_id</th>\n",
       "      <th></th>\n",
       "      <th></th>\n",
       "      <th></th>\n",
       "      <th></th>\n",
       "      <th></th>\n",
       "      <th></th>\n",
       "      <th></th>\n",
       "      <th></th>\n",
       "      <th></th>\n",
       "      <th></th>\n",
       "      <th></th>\n",
       "      <th></th>\n",
       "      <th></th>\n",
       "      <th></th>\n",
       "      <th></th>\n",
       "      <th></th>\n",
       "      <th></th>\n",
       "    </tr>\n",
       "  </thead>\n",
       "  <tbody>\n",
       "    <tr>\n",
       "      <th>937cd939-396e-455c-9ef0-00f7c22762d2</th>\n",
       "      <td>5289</td>\n",
       "      <td>140</td>\n",
       "      <td>fe2657f1-a08c-4e33-b762-441c2f52855c</td>\n",
       "      <td>2021-11-03</td>\n",
       "      <td>2021-11-03 12:32:39.882</td>\n",
       "      <td>fe2657f1-a08c-4e33-b762-441c2f52855c</td>\n",
       "      <td>{'id': '937cd939-396e-455c-9ef0-00f7c22762d2',...</td>\n",
       "      <td>CompletedEvent</td>\n",
       "      <td>[{'id': 'objectiv-website', '_type': 'Applicat...</td>\n",
       "      <td>[{'id': '#document', 'url': 'https://objectiv....</td>\n",
       "      <td>1635942759882</td>\n",
       "      <td>[AbstractEvent, CompletedEvent, NonInteractive...</td>\n",
       "      <td>(WebDocumentContext,#document),(SectionContext...</td>\n",
       "      <td>[{'id': '#document', '_type': 'WebDocumentCont...</td>\n",
       "      <td>286f0761bf631bdf1fa5ec71f8aaad2b</td>\n",
       "      <td>(WebDocumentContext,#document),(SectionContext...</td>\n",
       "      <td>Pretty(WebDocumentContext,#document),(SectionC...</td>\n",
       "    </tr>\n",
       "    <tr>\n",
       "      <th>89da87cc-c46f-45a1-8ef5-2578fcf5993d</th>\n",
       "      <td>5289</td>\n",
       "      <td>139</td>\n",
       "      <td>fe2657f1-a08c-4e33-b762-441c2f52855c</td>\n",
       "      <td>2021-11-03</td>\n",
       "      <td>2021-11-03 12:32:38.783</td>\n",
       "      <td>fe2657f1-a08c-4e33-b762-441c2f52855c</td>\n",
       "      <td>{'id': '89da87cc-c46f-45a1-8ef5-2578fcf5993d',...</td>\n",
       "      <td>ClickEvent</td>\n",
       "      <td>[{'id': 'objectiv-website', '_type': 'Applicat...</td>\n",
       "      <td>[{'id': '#document', 'url': 'https://objectiv....</td>\n",
       "      <td>1635942758783</td>\n",
       "      <td>[AbstractEvent, ClickEvent, InteractiveEvent]</td>\n",
       "      <td>(WebDocumentContext,#document),(SectionContext...</td>\n",
       "      <td>[{'id': '#document', '_type': 'WebDocumentCont...</td>\n",
       "      <td>def1e19404eb7c07d69fbac9fcdb4214</td>\n",
       "      <td>(WebDocumentContext,#document),(SectionContext...</td>\n",
       "      <td>Pretty(WebDocumentContext,#document),(SectionC...</td>\n",
       "    </tr>\n",
       "    <tr>\n",
       "      <th>232fdff8-6a25-4670-afd2-849a350a2359</th>\n",
       "      <td>5289</td>\n",
       "      <td>138</td>\n",
       "      <td>fe2657f1-a08c-4e33-b762-441c2f52855c</td>\n",
       "      <td>2021-11-03</td>\n",
       "      <td>2021-11-03 12:32:38.782</td>\n",
       "      <td>fe2657f1-a08c-4e33-b762-441c2f52855c</td>\n",
       "      <td>{'id': '232fdff8-6a25-4670-afd2-849a350a2359',...</td>\n",
       "      <td>ClickEvent</td>\n",
       "      <td>[{'id': 'objectiv-website', '_type': 'Applicat...</td>\n",
       "      <td>[{'id': '#document', 'url': 'https://objectiv....</td>\n",
       "      <td>1635942758782</td>\n",
       "      <td>[AbstractEvent, ClickEvent, InteractiveEvent]</td>\n",
       "      <td>(WebDocumentContext,#document),(SectionContext...</td>\n",
       "      <td>[{'id': '#document', '_type': 'WebDocumentCont...</td>\n",
       "      <td>def1e19404eb7c07d69fbac9fcdb4214</td>\n",
       "      <td>(WebDocumentContext,#document),(SectionContext...</td>\n",
       "      <td>Pretty(WebDocumentContext,#document),(SectionC...</td>\n",
       "    </tr>\n",
       "    <tr>\n",
       "      <th>cc9c67bf-b669-4293-96ab-2f98321f4685</th>\n",
       "      <td>5289</td>\n",
       "      <td>137</td>\n",
       "      <td>fe2657f1-a08c-4e33-b762-441c2f52855c</td>\n",
       "      <td>2021-11-03</td>\n",
       "      <td>2021-11-03 12:32:33.069</td>\n",
       "      <td>fe2657f1-a08c-4e33-b762-441c2f52855c</td>\n",
       "      <td>{'id': 'cc9c67bf-b669-4293-96ab-2f98321f4685',...</td>\n",
       "      <td>SectionVisibleEvent</td>\n",
       "      <td>[{'id': 'objectiv-website', '_type': 'Applicat...</td>\n",
       "      <td>[{'id': '#document', 'url': 'https://objectiv....</td>\n",
       "      <td>1635942753069</td>\n",
       "      <td>[AbstractEvent, NonInteractiveEvent, SectionVi...</td>\n",
       "      <td>(WebDocumentContext,#document),(SectionContext...</td>\n",
       "      <td>[{'id': '#document', '_type': 'WebDocumentCont...</td>\n",
       "      <td>0238e851bb1ff57d8e8cd7c5941d3379</td>\n",
       "      <td>(WebDocumentContext,#document),(SectionContext...</td>\n",
       "      <td>Pretty(WebDocumentContext,#document),(SectionC...</td>\n",
       "    </tr>\n",
       "    <tr>\n",
       "      <th>34f3efb6-6ecd-4510-a10f-d74a6de303bb</th>\n",
       "      <td>5289</td>\n",
       "      <td>136</td>\n",
       "      <td>fe2657f1-a08c-4e33-b762-441c2f52855c</td>\n",
       "      <td>2021-11-03</td>\n",
       "      <td>2021-11-03 12:32:33.067</td>\n",
       "      <td>fe2657f1-a08c-4e33-b762-441c2f52855c</td>\n",
       "      <td>{'id': '34f3efb6-6ecd-4510-a10f-d74a6de303bb',...</td>\n",
       "      <td>SectionVisibleEvent</td>\n",
       "      <td>[{'id': 'objectiv-website', '_type': 'Applicat...</td>\n",
       "      <td>[{'id': '#document', 'url': 'https://objectiv....</td>\n",
       "      <td>1635942753067</td>\n",
       "      <td>[AbstractEvent, NonInteractiveEvent, SectionVi...</td>\n",
       "      <td>(WebDocumentContext,#document),(SectionContext...</td>\n",
       "      <td>[{'id': '#document', '_type': 'WebDocumentCont...</td>\n",
       "      <td>cbb30bbd6e7f7de24cb0c86753af02c3</td>\n",
       "      <td>(WebDocumentContext,#document),(SectionContext...</td>\n",
       "      <td>Pretty(WebDocumentContext,#document),(SectionC...</td>\n",
       "    </tr>\n",
       "  </tbody>\n",
       "</table>\n",
       "</div>"
      ],
      "text/plain": [
       "                                      session_id  session_hit_number  \\\n",
       "event_id                                                               \n",
       "937cd939-396e-455c-9ef0-00f7c22762d2        5289                 140   \n",
       "89da87cc-c46f-45a1-8ef5-2578fcf5993d        5289                 139   \n",
       "232fdff8-6a25-4670-afd2-849a350a2359        5289                 138   \n",
       "cc9c67bf-b669-4293-96ab-2f98321f4685        5289                 137   \n",
       "34f3efb6-6ecd-4510-a10f-d74a6de303bb        5289                 136   \n",
       "\n",
       "                                                                   user_id  \\\n",
       "event_id                                                                     \n",
       "937cd939-396e-455c-9ef0-00f7c22762d2  fe2657f1-a08c-4e33-b762-441c2f52855c   \n",
       "89da87cc-c46f-45a1-8ef5-2578fcf5993d  fe2657f1-a08c-4e33-b762-441c2f52855c   \n",
       "232fdff8-6a25-4670-afd2-849a350a2359  fe2657f1-a08c-4e33-b762-441c2f52855c   \n",
       "cc9c67bf-b669-4293-96ab-2f98321f4685  fe2657f1-a08c-4e33-b762-441c2f52855c   \n",
       "34f3efb6-6ecd-4510-a10f-d74a6de303bb  fe2657f1-a08c-4e33-b762-441c2f52855c   \n",
       "\n",
       "                                             day                  moment  \\\n",
       "event_id                                                                   \n",
       "937cd939-396e-455c-9ef0-00f7c22762d2  2021-11-03 2021-11-03 12:32:39.882   \n",
       "89da87cc-c46f-45a1-8ef5-2578fcf5993d  2021-11-03 2021-11-03 12:32:38.783   \n",
       "232fdff8-6a25-4670-afd2-849a350a2359  2021-11-03 2021-11-03 12:32:38.782   \n",
       "cc9c67bf-b669-4293-96ab-2f98321f4685  2021-11-03 2021-11-03 12:32:33.069   \n",
       "34f3efb6-6ecd-4510-a10f-d74a6de303bb  2021-11-03 2021-11-03 12:32:33.067   \n",
       "\n",
       "                                                                 cookie_id  \\\n",
       "event_id                                                                     \n",
       "937cd939-396e-455c-9ef0-00f7c22762d2  fe2657f1-a08c-4e33-b762-441c2f52855c   \n",
       "89da87cc-c46f-45a1-8ef5-2578fcf5993d  fe2657f1-a08c-4e33-b762-441c2f52855c   \n",
       "232fdff8-6a25-4670-afd2-849a350a2359  fe2657f1-a08c-4e33-b762-441c2f52855c   \n",
       "cc9c67bf-b669-4293-96ab-2f98321f4685  fe2657f1-a08c-4e33-b762-441c2f52855c   \n",
       "34f3efb6-6ecd-4510-a10f-d74a6de303bb  fe2657f1-a08c-4e33-b762-441c2f52855c   \n",
       "\n",
       "                                                                                  value  \\\n",
       "event_id                                                                                  \n",
       "937cd939-396e-455c-9ef0-00f7c22762d2  {'id': '937cd939-396e-455c-9ef0-00f7c22762d2',...   \n",
       "89da87cc-c46f-45a1-8ef5-2578fcf5993d  {'id': '89da87cc-c46f-45a1-8ef5-2578fcf5993d',...   \n",
       "232fdff8-6a25-4670-afd2-849a350a2359  {'id': '232fdff8-6a25-4670-afd2-849a350a2359',...   \n",
       "cc9c67bf-b669-4293-96ab-2f98321f4685  {'id': 'cc9c67bf-b669-4293-96ab-2f98321f4685',...   \n",
       "34f3efb6-6ecd-4510-a10f-d74a6de303bb  {'id': '34f3efb6-6ecd-4510-a10f-d74a6de303bb',...   \n",
       "\n",
       "                                               event_type  \\\n",
       "event_id                                                    \n",
       "937cd939-396e-455c-9ef0-00f7c22762d2       CompletedEvent   \n",
       "89da87cc-c46f-45a1-8ef5-2578fcf5993d           ClickEvent   \n",
       "232fdff8-6a25-4670-afd2-849a350a2359           ClickEvent   \n",
       "cc9c67bf-b669-4293-96ab-2f98321f4685  SectionVisibleEvent   \n",
       "34f3efb6-6ecd-4510-a10f-d74a6de303bb  SectionVisibleEvent   \n",
       "\n",
       "                                                                        global_contexts  \\\n",
       "event_id                                                                                  \n",
       "937cd939-396e-455c-9ef0-00f7c22762d2  [{'id': 'objectiv-website', '_type': 'Applicat...   \n",
       "89da87cc-c46f-45a1-8ef5-2578fcf5993d  [{'id': 'objectiv-website', '_type': 'Applicat...   \n",
       "232fdff8-6a25-4670-afd2-849a350a2359  [{'id': 'objectiv-website', '_type': 'Applicat...   \n",
       "cc9c67bf-b669-4293-96ab-2f98321f4685  [{'id': 'objectiv-website', '_type': 'Applicat...   \n",
       "34f3efb6-6ecd-4510-a10f-d74a6de303bb  [{'id': 'objectiv-website', '_type': 'Applicat...   \n",
       "\n",
       "                                                                         location_stack  \\\n",
       "event_id                                                                                  \n",
       "937cd939-396e-455c-9ef0-00f7c22762d2  [{'id': '#document', 'url': 'https://objectiv....   \n",
       "89da87cc-c46f-45a1-8ef5-2578fcf5993d  [{'id': '#document', 'url': 'https://objectiv....   \n",
       "232fdff8-6a25-4670-afd2-849a350a2359  [{'id': '#document', 'url': 'https://objectiv....   \n",
       "cc9c67bf-b669-4293-96ab-2f98321f4685  [{'id': '#document', 'url': 'https://objectiv....   \n",
       "34f3efb6-6ecd-4510-a10f-d74a6de303bb  [{'id': '#document', 'url': 'https://objectiv....   \n",
       "\n",
       "                                               time  \\\n",
       "event_id                                              \n",
       "937cd939-396e-455c-9ef0-00f7c22762d2  1635942759882   \n",
       "89da87cc-c46f-45a1-8ef5-2578fcf5993d  1635942758783   \n",
       "232fdff8-6a25-4670-afd2-849a350a2359  1635942758782   \n",
       "cc9c67bf-b669-4293-96ab-2f98321f4685  1635942753069   \n",
       "34f3efb6-6ecd-4510-a10f-d74a6de303bb  1635942753067   \n",
       "\n",
       "                                                                            event_types  \\\n",
       "event_id                                                                                  \n",
       "937cd939-396e-455c-9ef0-00f7c22762d2  [AbstractEvent, CompletedEvent, NonInteractive...   \n",
       "89da87cc-c46f-45a1-8ef5-2578fcf5993d      [AbstractEvent, ClickEvent, InteractiveEvent]   \n",
       "232fdff8-6a25-4670-afd2-849a350a2359      [AbstractEvent, ClickEvent, InteractiveEvent]   \n",
       "cc9c67bf-b669-4293-96ab-2f98321f4685  [AbstractEvent, NonInteractiveEvent, SectionVi...   \n",
       "34f3efb6-6ecd-4510-a10f-d74a6de303bb  [AbstractEvent, NonInteractiveEvent, SectionVi...   \n",
       "\n",
       "                                                                        stack_selection  \\\n",
       "event_id                                                                                  \n",
       "937cd939-396e-455c-9ef0-00f7c22762d2  (WebDocumentContext,#document),(SectionContext...   \n",
       "89da87cc-c46f-45a1-8ef5-2578fcf5993d  (WebDocumentContext,#document),(SectionContext...   \n",
       "232fdff8-6a25-4670-afd2-849a350a2359  (WebDocumentContext,#document),(SectionContext...   \n",
       "cc9c67bf-b669-4293-96ab-2f98321f4685  (WebDocumentContext,#document),(SectionContext...   \n",
       "34f3efb6-6ecd-4510-a10f-d74a6de303bb  (WebDocumentContext,#document),(SectionContext...   \n",
       "\n",
       "                                                                selected_stack_location  \\\n",
       "event_id                                                                                  \n",
       "937cd939-396e-455c-9ef0-00f7c22762d2  [{'id': '#document', '_type': 'WebDocumentCont...   \n",
       "89da87cc-c46f-45a1-8ef5-2578fcf5993d  [{'id': '#document', '_type': 'WebDocumentCont...   \n",
       "232fdff8-6a25-4670-afd2-849a350a2359  [{'id': '#document', '_type': 'WebDocumentCont...   \n",
       "cc9c67bf-b669-4293-96ab-2f98321f4685  [{'id': '#document', '_type': 'WebDocumentCont...   \n",
       "34f3efb6-6ecd-4510-a10f-d74a6de303bb  [{'id': '#document', '_type': 'WebDocumentCont...   \n",
       "\n",
       "                                                          feature_hash  \\\n",
       "event_id                                                                 \n",
       "937cd939-396e-455c-9ef0-00f7c22762d2  286f0761bf631bdf1fa5ec71f8aaad2b   \n",
       "89da87cc-c46f-45a1-8ef5-2578fcf5993d  def1e19404eb7c07d69fbac9fcdb4214   \n",
       "232fdff8-6a25-4670-afd2-849a350a2359  def1e19404eb7c07d69fbac9fcdb4214   \n",
       "cc9c67bf-b669-4293-96ab-2f98321f4685  0238e851bb1ff57d8e8cd7c5941d3379   \n",
       "34f3efb6-6ecd-4510-a10f-d74a6de303bb  cbb30bbd6e7f7de24cb0c86753af02c3   \n",
       "\n",
       "                                                                                feature  \\\n",
       "event_id                                                                                  \n",
       "937cd939-396e-455c-9ef0-00f7c22762d2  (WebDocumentContext,#document),(SectionContext...   \n",
       "89da87cc-c46f-45a1-8ef5-2578fcf5993d  (WebDocumentContext,#document),(SectionContext...   \n",
       "232fdff8-6a25-4670-afd2-849a350a2359  (WebDocumentContext,#document),(SectionContext...   \n",
       "cc9c67bf-b669-4293-96ab-2f98321f4685  (WebDocumentContext,#document),(SectionContext...   \n",
       "34f3efb6-6ecd-4510-a10f-d74a6de303bb  (WebDocumentContext,#document),(SectionContext...   \n",
       "\n",
       "                                                                    feature_pretty_name  \n",
       "event_id                                                                                 \n",
       "937cd939-396e-455c-9ef0-00f7c22762d2  Pretty(WebDocumentContext,#document),(SectionC...  \n",
       "89da87cc-c46f-45a1-8ef5-2578fcf5993d  Pretty(WebDocumentContext,#document),(SectionC...  \n",
       "232fdff8-6a25-4670-afd2-849a350a2359  Pretty(WebDocumentContext,#document),(SectionC...  \n",
       "cc9c67bf-b669-4293-96ab-2f98321f4685  Pretty(WebDocumentContext,#document),(SectionC...  \n",
       "34f3efb6-6ecd-4510-a10f-d74a6de303bb  Pretty(WebDocumentContext,#document),(SectionC...  "
      ]
     },
     "execution_count": 4,
     "metadata": {},
     "output_type": "execute_result"
    }
   ],
   "source": [
    "# set the timeframe for analysis\n",
    "timeframe_selector = (full_df['moment'] >= datetime.date(2021,6,1)) & (full_df['moment'] < datetime.date(2021,11,4))\n",
    "\n",
    "# create one sampled df with timeframe applied \n",
    "timeframe_df = full_df[timeframe_selector]\n",
    "\n",
    "# explore the data\n",
    "timeframe_df.sort_values(by='moment', ascending=False).head()"
   ]
  },
  {
   "cell_type": "markdown",
   "id": "0f1d4954-cabc-44e7-81b8-d18f9d303ed9",
   "metadata": {},
   "source": [
    "## Set the time aggregation "
   ]
  },
  {
   "cell_type": "code",
   "execution_count": 5,
   "id": "0a697920-a443-4593-8acd-71c514aa7406",
   "metadata": {
    "tags": []
   },
   "outputs": [],
   "source": [
    "# choose for which level of time aggregation the rest of the analysis will run\n",
    "# supports all Postgres datetime template patterns: https://www.postgresql.org/docs/9.1/functions-formatting.html#FUNCTIONS-FORMATTING-DATETIME-TABLE\n",
    "\n",
    "agg_level = 'YYYYIW'\n",
    "\n",
    "# add the time aggregation as new column to the dataframes, so we can group on this later\n",
    "timeframe_df['time_aggregation'] = timeframe_df['moment'].format(agg_level)\n",
    "full_df['time_aggregation'] = full_df['moment'].format(agg_level)"
   ]
  },
  {
   "cell_type": "markdown",
   "id": "1e1cd456-699f-4e92-b225-3b565504683d",
   "metadata": {},
   "source": [
    "## Set the user application"
   ]
  },
  {
   "cell_type": "code",
   "execution_count": 6,
   "id": "62ba425d-ccfd-4c4e-bf18-3a0195d605d6",
   "metadata": {},
   "outputs": [],
   "source": [
    "# add a new column to dataframes with the user application from the global contexts\n",
    "timeframe_df['user_application'] = timeframe_df.global_contexts.json.application\n",
    "full_df['user_application'] = full_df.global_contexts.json.application\n",
    "\n",
    "# select one or more user application(s) for analysis, in this case objectiv.io website \n",
    "# when selecting more than one application, each of the metrics below can easily be group by user_application to compare behavior\n",
    "timeframe_df = timeframe_df[(timeframe_df['user_application'] == 'objectiv-website')]\n",
    "full_df = full_df[(full_df['user_application'] == 'objectiv-website')]"
   ]
  },
  {
   "cell_type": "markdown",
   "id": "e27e9883-842e-4c36-9e23-dc89be9ee9b8",
   "metadata": {},
   "source": [
    "## TEMP filter on IP"
   ]
  },
  {
   "cell_type": "code",
   "execution_count": 7,
   "id": "8c05c9f8-2d75-4b7e-848f-2b2994501147",
   "metadata": {},
   "outputs": [],
   "source": [
    "# add IP as column and filter on it\n",
    "timeframe_df['ip'] = timeframe_df.global_contexts.json.get_from_context_with_type_series(type='HttpContext', key='remote_address')\n",
    "full_df['ip'] = full_df.global_contexts.json.get_from_context_with_type_series(type='HttpContext', key='remote_address')\n",
    "\n",
    "timeframe_df = timeframe_df[(timeframe_df['ip'] != '144.178.74.106') & \n",
    "                            (timeframe_df['ip'] != '77.160.42.36') &\n",
    "                            (timeframe_df['ip'] != '86.86.89.85')]\n",
    "\n",
    "full_df = full_df[(full_df['ip'] != '144.178.74.106') & \n",
    "                            (full_df['ip'] != '77.160.42.36') &\n",
    "                            (full_df['ip'] != '86.86.89.85')]"
   ]
  },
  {
   "cell_type": "markdown",
   "id": "0697e0d3-8443-427b-a3a9-09342adf624e",
   "metadata": {
    "tags": []
   },
   "source": [
    "## Users"
   ]
  },
  {
   "cell_type": "code",
   "execution_count": 8,
   "id": "77e00ffd-9940-4ff3-b5db-2734730f240e",
   "metadata": {},
   "outputs": [
    {
     "data": {
      "text/html": [
       "<div>\n",
       "<style scoped>\n",
       "    .dataframe tbody tr th:only-of-type {\n",
       "        vertical-align: middle;\n",
       "    }\n",
       "\n",
       "    .dataframe tbody tr th {\n",
       "        vertical-align: top;\n",
       "    }\n",
       "\n",
       "    .dataframe thead th {\n",
       "        text-align: right;\n",
       "    }\n",
       "</style>\n",
       "<table border=\"1\" class=\"dataframe\">\n",
       "  <thead>\n",
       "    <tr style=\"text-align: right;\">\n",
       "      <th></th>\n",
       "      <th>user_id_nunique</th>\n",
       "    </tr>\n",
       "    <tr>\n",
       "      <th>time_aggregation</th>\n",
       "      <th></th>\n",
       "    </tr>\n",
       "  </thead>\n",
       "  <tbody>\n",
       "    <tr>\n",
       "      <th>202144</th>\n",
       "      <td>32</td>\n",
       "    </tr>\n",
       "    <tr>\n",
       "      <th>202143</th>\n",
       "      <td>87</td>\n",
       "    </tr>\n",
       "    <tr>\n",
       "      <th>202142</th>\n",
       "      <td>91</td>\n",
       "    </tr>\n",
       "    <tr>\n",
       "      <th>202141</th>\n",
       "      <td>109</td>\n",
       "    </tr>\n",
       "    <tr>\n",
       "      <th>202140</th>\n",
       "      <td>103</td>\n",
       "    </tr>\n",
       "  </tbody>\n",
       "</table>\n",
       "</div>"
      ],
      "text/plain": [
       "                  user_id_nunique\n",
       "time_aggregation                 \n",
       "202144                         32\n",
       "202143                         87\n",
       "202142                         91\n",
       "202141                        109\n",
       "202140                        103"
      ]
     },
     "execution_count": 8,
     "metadata": {},
     "output_type": "execute_result"
    }
   ],
   "source": [
    "# calculate unique users per timeframe\n",
    "users = timeframe_df.groupby('time_aggregation').aggregate({'user_id':'nunique'})\n",
    "\n",
    "# calculate total users, to reuse later\n",
    "total_users = timeframe_df['user_id'].nunique()\n",
    "\n",
    "users.sort_values(by='time_aggregation', ascending=False).head()"
   ]
  },
  {
   "cell_type": "code",
   "execution_count": 9,
   "id": "951d9b1e-5159-416d-a904-75b63b795e28",
   "metadata": {},
   "outputs": [
    {
     "data": {
      "text/plain": [
       "<AxesSubplot:xlabel='time_aggregation'>"
      ]
     },
     "execution_count": 9,
     "metadata": {},
     "output_type": "execute_result"
    },
    {
     "data": {
      "image/png": "[encoded data removed]",
      "text/plain": [
       "<Figure size 432x288 with 1 Axes>"
      ]
     },
     "metadata": {
      "needs_background": "light"
     },
     "output_type": "display_data"
    }
   ],
   "source": [
    "# visualize users\n",
    "users.sort_values(by='time_aggregation', ascending=True).head(60).plot()"
   ]
  },
  {
   "cell_type": "markdown",
   "id": "378f5454-f7c7-409b-a6d0-996e078c851a",
   "metadata": {},
   "source": [
    "## Sessions"
   ]
  },
  {
   "cell_type": "code",
   "execution_count": 10,
   "id": "71c3c2a3-9616-43d6-b529-acf5f6d210d1",
   "metadata": {},
   "outputs": [
    {
     "data": {
      "text/html": [
       "<div>\n",
       "<style scoped>\n",
       "    .dataframe tbody tr th:only-of-type {\n",
       "        vertical-align: middle;\n",
       "    }\n",
       "\n",
       "    .dataframe tbody tr th {\n",
       "        vertical-align: top;\n",
       "    }\n",
       "\n",
       "    .dataframe thead th {\n",
       "        text-align: right;\n",
       "    }\n",
       "</style>\n",
       "<table border=\"1\" class=\"dataframe\">\n",
       "  <thead>\n",
       "    <tr style=\"text-align: right;\">\n",
       "      <th></th>\n",
       "      <th>session_id_nunique</th>\n",
       "    </tr>\n",
       "    <tr>\n",
       "      <th>time_aggregation</th>\n",
       "      <th></th>\n",
       "    </tr>\n",
       "  </thead>\n",
       "  <tbody>\n",
       "    <tr>\n",
       "      <th>202144</th>\n",
       "      <td>41</td>\n",
       "    </tr>\n",
       "    <tr>\n",
       "      <th>202143</th>\n",
       "      <td>104</td>\n",
       "    </tr>\n",
       "    <tr>\n",
       "      <th>202142</th>\n",
       "      <td>102</td>\n",
       "    </tr>\n",
       "    <tr>\n",
       "      <th>202141</th>\n",
       "      <td>140</td>\n",
       "    </tr>\n",
       "    <tr>\n",
       "      <th>202140</th>\n",
       "      <td>127</td>\n",
       "    </tr>\n",
       "  </tbody>\n",
       "</table>\n",
       "</div>"
      ],
      "text/plain": [
       "                  session_id_nunique\n",
       "time_aggregation                    \n",
       "202144                            41\n",
       "202143                           104\n",
       "202142                           102\n",
       "202141                           140\n",
       "202140                           127"
      ]
     },
     "execution_count": 10,
     "metadata": {},
     "output_type": "execute_result"
    }
   ],
   "source": [
    "# calculate unique sessions\n",
    "sessions = timeframe_df.groupby('time_aggregation').aggregate({'session_id':'nunique'})\n",
    "\n",
    "sessions.sort_values(by='time_aggregation', ascending=False).head()"
   ]
  },
  {
   "cell_type": "code",
   "execution_count": 11,
   "id": "560fc334-17c9-4604-85dd-24fa43abaf07",
   "metadata": {},
   "outputs": [
    {
     "data": {
      "text/plain": [
       "<AxesSubplot:xlabel='time_aggregation'>"
      ]
     },
     "execution_count": 11,
     "metadata": {},
     "output_type": "execute_result"
    },
    {
     "data": {
      "image/png": "[encoded data removed]",
      "text/plain": [
       "<Figure size 432x288 with 1 Axes>"
      ]
     },
     "metadata": {
      "needs_background": "light"
     },
     "output_type": "display_data"
    }
   ],
   "source": [
    "# visualize sessions\n",
    "sessions.sort_values('time_aggregation', ascending=True).head(60).plot()"
   ]
  },
  {
   "cell_type": "markdown",
   "id": "6888435d-4287-4cdc-8767-985fe2b9c216",
   "metadata": {},
   "source": [
    "## Sessions per user"
   ]
  },
  {
   "cell_type": "code",
   "execution_count": 12,
   "id": "77706040",
   "metadata": {},
   "outputs": [
    {
     "data": {
      "text/html": [
       "<div>\n",
       "<style scoped>\n",
       "    .dataframe tbody tr th:only-of-type {\n",
       "        vertical-align: middle;\n",
       "    }\n",
       "\n",
       "    .dataframe tbody tr th {\n",
       "        vertical-align: top;\n",
       "    }\n",
       "\n",
       "    .dataframe thead th {\n",
       "        text-align: right;\n",
       "    }\n",
       "</style>\n",
       "<table border=\"1\" class=\"dataframe\">\n",
       "  <thead>\n",
       "    <tr style=\"text-align: right;\">\n",
       "      <th></th>\n",
       "      <th>sessions_per_user_avg</th>\n",
       "    </tr>\n",
       "    <tr>\n",
       "      <th>time_aggregation</th>\n",
       "      <th></th>\n",
       "    </tr>\n",
       "  </thead>\n",
       "  <tbody>\n",
       "    <tr>\n",
       "      <th>202144</th>\n",
       "      <td>1.281250</td>\n",
       "    </tr>\n",
       "    <tr>\n",
       "      <th>202143</th>\n",
       "      <td>1.195402</td>\n",
       "    </tr>\n",
       "    <tr>\n",
       "      <th>202142</th>\n",
       "      <td>1.120879</td>\n",
       "    </tr>\n",
       "    <tr>\n",
       "      <th>202141</th>\n",
       "      <td>1.284404</td>\n",
       "    </tr>\n",
       "    <tr>\n",
       "      <th>202140</th>\n",
       "      <td>1.233010</td>\n",
       "    </tr>\n",
       "  </tbody>\n",
       "</table>\n",
       "</div>"
      ],
      "text/plain": [
       "                  sessions_per_user_avg\n",
       "time_aggregation                       \n",
       "202144                         1.281250\n",
       "202143                         1.195402\n",
       "202142                         1.120879\n",
       "202141                         1.284404\n",
       "202140                         1.233010"
      ]
     },
     "execution_count": 12,
     "metadata": {},
     "output_type": "execute_result"
    }
   ],
   "source": [
    "# merge users and sessions\n",
    "users_sessions = sessions.merge(users, how='inner', on='time_aggregation')\n",
    "\n",
    "# calculate average sessions per user\n",
    "users_sessions['sessions_per_user_avg'] = users_sessions['session_id_nunique'] / users_sessions['user_id_nunique']\n",
    "\n",
    "# clean-up columns\n",
    "users_sessions.drop(columns=['session_id_nunique', 'user_id_nunique'], inplace=True)\n",
    "\n",
    "users_sessions.sort_values('time_aggregation', ascending=False).head()"
   ]
  },
  {
   "cell_type": "code",
   "execution_count": 13,
   "id": "6a7d52d8-08df-4133-a2da-6cedd81f22fd",
   "metadata": {},
   "outputs": [
    {
     "data": {
      "text/plain": [
       "<AxesSubplot:xlabel='time_aggregation'>"
      ]
     },
     "execution_count": 13,
     "metadata": {},
     "output_type": "execute_result"
    },
    {
     "data": {
      "image/png": "[encoded data removed]",
      "text/plain": [
       "<Figure size 432x288 with 1 Axes>"
      ]
     },
     "metadata": {
      "needs_background": "light"
     },
     "output_type": "display_data"
    }
   ],
   "source": [
    "# visualize average sessions per user\n",
    "users_sessions.sort_values(by='time_aggregation', ascending=True).head(60).plot()"
   ]
  },
  {
   "cell_type": "markdown",
   "id": "6fbaaf82-ee41-4602-a2cd-f622fa84b0b2",
   "metadata": {},
   "source": [
    "## New users"
   ]
  },
  {
   "cell_type": "code",
   "execution_count": 14,
   "id": "98b084b1-06e8-401c-846e-eb2d749e4acb",
   "metadata": {},
   "outputs": [
    {
     "data": {
      "text/html": [
       "<div>\n",
       "<style scoped>\n",
       "    .dataframe tbody tr th:only-of-type {\n",
       "        vertical-align: middle;\n",
       "    }\n",
       "\n",
       "    .dataframe tbody tr th {\n",
       "        vertical-align: top;\n",
       "    }\n",
       "\n",
       "    .dataframe thead th {\n",
       "        text-align: right;\n",
       "    }\n",
       "</style>\n",
       "<table border=\"1\" class=\"dataframe\">\n",
       "  <thead>\n",
       "    <tr style=\"text-align: right;\">\n",
       "      <th></th>\n",
       "      <th>user_id_nunique_total</th>\n",
       "      <th>user_id_nunique_new</th>\n",
       "      <th>new_user_share</th>\n",
       "      <th>returning_user_share</th>\n",
       "    </tr>\n",
       "    <tr>\n",
       "      <th>time_aggregation</th>\n",
       "      <th></th>\n",
       "      <th></th>\n",
       "      <th></th>\n",
       "      <th></th>\n",
       "    </tr>\n",
       "  </thead>\n",
       "  <tbody>\n",
       "    <tr>\n",
       "      <th>202144</th>\n",
       "      <td>32</td>\n",
       "      <td>27</td>\n",
       "      <td>0.843750</td>\n",
       "      <td>0.156250</td>\n",
       "    </tr>\n",
       "    <tr>\n",
       "      <th>202143</th>\n",
       "      <td>87</td>\n",
       "      <td>76</td>\n",
       "      <td>0.873563</td>\n",
       "      <td>0.126437</td>\n",
       "    </tr>\n",
       "    <tr>\n",
       "      <th>202142</th>\n",
       "      <td>91</td>\n",
       "      <td>82</td>\n",
       "      <td>0.901099</td>\n",
       "      <td>0.098901</td>\n",
       "    </tr>\n",
       "    <tr>\n",
       "      <th>202141</th>\n",
       "      <td>109</td>\n",
       "      <td>94</td>\n",
       "      <td>0.862385</td>\n",
       "      <td>0.137615</td>\n",
       "    </tr>\n",
       "    <tr>\n",
       "      <th>202140</th>\n",
       "      <td>103</td>\n",
       "      <td>92</td>\n",
       "      <td>0.893204</td>\n",
       "      <td>0.106796</td>\n",
       "    </tr>\n",
       "  </tbody>\n",
       "</table>\n",
       "</div>"
      ],
      "text/plain": [
       "                  user_id_nunique_total  user_id_nunique_new  new_user_share  \\\n",
       "time_aggregation                                                               \n",
       "202144                               32                   27        0.843750   \n",
       "202143                               87                   76        0.873563   \n",
       "202142                               91                   82        0.901099   \n",
       "202141                              109                   94        0.862385   \n",
       "202140                              103                   92        0.893204   \n",
       "\n",
       "                  returning_user_share  \n",
       "time_aggregation                        \n",
       "202144                        0.156250  \n",
       "202143                        0.126437  \n",
       "202142                        0.098901  \n",
       "202141                        0.137615  \n",
       "202140                        0.106796  "
      ]
     },
     "execution_count": 14,
     "metadata": {},
     "output_type": "execute_result"
    }
   ],
   "source": [
    "# define first seen per user, based on full dataset\n",
    "user_first_seen = full_df.groupby('user_id').aggregate({'time_aggregation':'min', 'session_id':'min'})\n",
    "\n",
    "# select all users that have been active in the time\n",
    "active_users = timeframe_df.groupby('user_id').aggregate({'session_id':'nunique'})\n",
    "\n",
    "# reset index so we can use user_id to join and clean-up columns\n",
    "active_users = active_users.reset_index()\n",
    "active_users.drop(columns=['session_id_nunique'], inplace=True)\n",
    "\n",
    "# merge with users that have been active in the timeframe\n",
    "user_first_seen = user_first_seen.merge(active_users, how='inner', on='user_id')\n",
    "\n",
    "# calculate new users for each timeframe\n",
    "new_users = user_first_seen.groupby('time_aggregation_min').aggregate({'user_id':'nunique'})\n",
    "\n",
    "# merge with total users to calculate ratio and limit to timerange\n",
    "new_total_users = users.merge(new_users, how='inner', left_on='time_aggregation', right_on='time_aggregation_min', suffixes=('_total', '_new'))\n",
    "\n",
    "# set time_aggregation as single index\n",
    "new_total_users = new_total_users.set_index('time_aggregation')\n",
    "\n",
    "# calculate new & returning user share\n",
    "new_total_users['new_user_share'] = new_total_users['user_id_nunique_new'] / new_total_users['user_id_nunique_total']\n",
    "new_total_users['returning_user_share'] = (new_total_users['user_id_nunique_total'] - new_total_users['user_id_nunique_new']) / new_total_users['user_id_nunique_total']\n",
    "\n",
    "new_total_users.sort_values(by='time_aggregation', ascending=False).head()"
   ]
  },
  {
   "cell_type": "code",
   "execution_count": 15,
   "id": "eca9d062-dd61-49c2-b669-bf0f45c68451",
   "metadata": {},
   "outputs": [
    {
     "data": {
      "text/plain": [
       "<AxesSubplot:xlabel='time_aggregation'>"
      ]
     },
     "execution_count": 15,
     "metadata": {},
     "output_type": "execute_result"
    },
    {
     "data": {
      "image/png": "[encoded data removed]",
      "text/plain": [
       "<Figure size 432x288 with 1 Axes>"
      ]
     },
     "metadata": {
      "needs_background": "light"
     },
     "output_type": "display_data"
    }
   ],
   "source": [
    "# visualize new users\n",
    "new_total_users[['user_id_nunique_new', 'user_id_nunique_total']].sort_values(by='time_aggregation', ascending=True).head(60).plot()"
   ]
  },
  {
   "cell_type": "code",
   "execution_count": 16,
   "id": "be740b11-d552-4501-b8b3-48cb077f8470",
   "metadata": {},
   "outputs": [
    {
     "data": {
      "text/plain": [
       "<AxesSubplot:xlabel='time_aggregation'>"
      ]
     },
     "execution_count": 16,
     "metadata": {},
     "output_type": "execute_result"
    },
    {
     "data": {
      "image/png": "[encoded data removed]",
      "text/plain": [
       "<Figure size 432x288 with 1 Axes>"
      ]
     },
     "metadata": {
      "needs_background": "light"
     },
     "output_type": "display_data"
    }
   ],
   "source": [
    "# visualize returning users\n",
    "new_total_users[['returning_user_share']].sort_values(by='time_aggregation', ascending=True).head(60).plot()"
   ]
  },
  {
   "cell_type": "markdown",
   "id": "046eb7e6-fba5-4048-ba17-8cff59d92b38",
   "metadata": {},
   "source": [
    "## Events"
   ]
  },
  {
   "cell_type": "code",
   "execution_count": 17,
   "id": "24c743b4-dae4-41b9-a4d5-15a87c3b295c",
   "metadata": {},
   "outputs": [
    {
     "data": {
      "text/html": [
       "<div>\n",
       "<style scoped>\n",
       "    .dataframe tbody tr th:only-of-type {\n",
       "        vertical-align: middle;\n",
       "    }\n",
       "\n",
       "    .dataframe tbody tr th {\n",
       "        vertical-align: top;\n",
       "    }\n",
       "\n",
       "    .dataframe thead th {\n",
       "        text-align: right;\n",
       "    }\n",
       "</style>\n",
       "<table border=\"1\" class=\"dataframe\">\n",
       "  <thead>\n",
       "    <tr style=\"text-align: right;\">\n",
       "      <th></th>\n",
       "      <th></th>\n",
       "      <th></th>\n",
       "      <th>session_hit_number_count</th>\n",
       "      <th>user_id_nunique</th>\n",
       "    </tr>\n",
       "    <tr>\n",
       "      <th>time_aggregation</th>\n",
       "      <th>event_type</th>\n",
       "      <th>event_location</th>\n",
       "      <th></th>\n",
       "      <th></th>\n",
       "    </tr>\n",
       "  </thead>\n",
       "  <tbody>\n",
       "    <tr>\n",
       "      <th rowspan=\"5\" valign=\"top\">202144</th>\n",
       "      <th>ApplicationLoadedEvent</th>\n",
       "      <th>Web Document: #document</th>\n",
       "      <td>39</td>\n",
       "      <td>30</td>\n",
       "    </tr>\n",
       "    <tr>\n",
       "      <th>SectionHiddenEvent</th>\n",
       "      <th>Section: header located at Web Document: #document</th>\n",
       "      <td>30</td>\n",
       "      <td>11</td>\n",
       "    </tr>\n",
       "    <tr>\n",
       "      <th>SectionVisibleEvent</th>\n",
       "      <th>Section: footer located at Web Document: #document</th>\n",
       "      <td>28</td>\n",
       "      <td>11</td>\n",
       "    </tr>\n",
       "    <tr>\n",
       "      <th rowspan=\"2\" valign=\"top\">SectionHiddenEvent</th>\n",
       "      <th>Section: navbar-top located at Web Document: #document</th>\n",
       "      <td>29</td>\n",
       "      <td>10</td>\n",
       "    </tr>\n",
       "    <tr>\n",
       "      <th>Section: footer located at Web Document: #document</th>\n",
       "      <td>28</td>\n",
       "      <td>10</td>\n",
       "    </tr>\n",
       "  </tbody>\n",
       "</table>\n",
       "</div>"
      ],
      "text/plain": [
       "                                                                                            session_hit_number_count  \\\n",
       "time_aggregation event_type             event_location                                                                 \n",
       "202144           ApplicationLoadedEvent Web Document: #document                                                   39   \n",
       "                 SectionHiddenEvent     Section: header located at Web Document: #document                        30   \n",
       "                 SectionVisibleEvent    Section: footer located at Web Document: #document                        28   \n",
       "                 SectionHiddenEvent     Section: navbar-top located at Web Document: #d...                        29   \n",
       "                                        Section: footer located at Web Document: #document                        28   \n",
       "\n",
       "                                                                                            user_id_nunique  \n",
       "time_aggregation event_type             event_location                                                       \n",
       "202144           ApplicationLoadedEvent Web Document: #document                                          30  \n",
       "                 SectionHiddenEvent     Section: header located at Web Document: #document               11  \n",
       "                 SectionVisibleEvent    Section: footer located at Web Document: #document               11  \n",
       "                 SectionHiddenEvent     Section: navbar-top located at Web Document: #d...               10  \n",
       "                                        Section: footer located at Web Document: #document               10  "
      ]
     },
     "execution_count": 17,
     "metadata": {},
     "output_type": "execute_result"
    }
   ],
   "source": [
    "# add the event location from the location_stack as new column to the df\n",
    "timeframe_df['event_location'] = timeframe_df.location_stack.json.nice_name\n",
    "\n",
    "# get the number of total users and hits per feature\n",
    "users_per_event = timeframe_df.groupby(['time_aggregation', 'event_type', 'event_location']).aggregate({'user_id':'nunique','session_hit_number':'count'})\n",
    "\n",
    "users_per_event.sort_values(by=['time_aggregation', 'user_id_nunique'], ascending=False).head()"
   ]
  },
  {
   "cell_type": "markdown",
   "id": "a4e8695f-fbc9-4996-8b06-cea971d7baac",
   "metadata": {},
   "source": [
    "## New user events"
   ]
  },
  {
   "cell_type": "code",
   "execution_count": 18,
   "id": "17dca3b5-4a48-454b-a519-bcb341b8a17c",
   "metadata": {},
   "outputs": [
    {
     "data": {
      "text/html": [
       "<div>\n",
       "<style scoped>\n",
       "    .dataframe tbody tr th:only-of-type {\n",
       "        vertical-align: middle;\n",
       "    }\n",
       "\n",
       "    .dataframe tbody tr th {\n",
       "        vertical-align: top;\n",
       "    }\n",
       "\n",
       "    .dataframe thead th {\n",
       "        text-align: right;\n",
       "    }\n",
       "</style>\n",
       "<table border=\"1\" class=\"dataframe\">\n",
       "  <thead>\n",
       "    <tr style=\"text-align: right;\">\n",
       "      <th></th>\n",
       "      <th></th>\n",
       "      <th></th>\n",
       "      <th>session_hit_number_count</th>\n",
       "      <th>user_id_nunique</th>\n",
       "    </tr>\n",
       "    <tr>\n",
       "      <th>time_aggregation</th>\n",
       "      <th>event_type</th>\n",
       "      <th>event_location</th>\n",
       "      <th></th>\n",
       "      <th></th>\n",
       "    </tr>\n",
       "  </thead>\n",
       "  <tbody>\n",
       "    <tr>\n",
       "      <th rowspan=\"5\" valign=\"top\">202144</th>\n",
       "      <th>ApplicationLoadedEvent</th>\n",
       "      <th>Web Document: #document</th>\n",
       "      <td>27</td>\n",
       "      <td>25</td>\n",
       "    </tr>\n",
       "    <tr>\n",
       "      <th rowspan=\"4\" valign=\"top\">SectionHiddenEvent</th>\n",
       "      <th>Section: header located at Web Document: #document</th>\n",
       "      <td>6</td>\n",
       "      <td>6</td>\n",
       "    </tr>\n",
       "    <tr>\n",
       "      <th>Section: announcement-bar located at Web Document: #document</th>\n",
       "      <td>5</td>\n",
       "      <td>5</td>\n",
       "    </tr>\n",
       "    <tr>\n",
       "      <th>Section: footer located at Web Document: #document</th>\n",
       "      <td>5</td>\n",
       "      <td>5</td>\n",
       "    </tr>\n",
       "    <tr>\n",
       "      <th>Section: keep-me-posted-form located at Web Document: #document =&gt; Section: header</th>\n",
       "      <td>5</td>\n",
       "      <td>5</td>\n",
       "    </tr>\n",
       "  </tbody>\n",
       "</table>\n",
       "</div>"
      ],
      "text/plain": [
       "                                                                                            session_hit_number_count  \\\n",
       "time_aggregation event_type             event_location                                                                 \n",
       "202144           ApplicationLoadedEvent Web Document: #document                                                   27   \n",
       "                 SectionHiddenEvent     Section: header located at Web Document: #document                         6   \n",
       "                                        Section: announcement-bar located at Web Docume...                         5   \n",
       "                                        Section: footer located at Web Document: #document                         5   \n",
       "                                        Section: keep-me-posted-form located at Web Doc...                         5   \n",
       "\n",
       "                                                                                            user_id_nunique  \n",
       "time_aggregation event_type             event_location                                                       \n",
       "202144           ApplicationLoadedEvent Web Document: #document                                          25  \n",
       "                 SectionHiddenEvent     Section: header located at Web Document: #document                6  \n",
       "                                        Section: announcement-bar located at Web Docume...                5  \n",
       "                                        Section: footer located at Web Document: #document                5  \n",
       "                                        Section: keep-me-posted-form located at Web Doc...                5  "
      ]
     },
     "execution_count": 18,
     "metadata": {},
     "output_type": "execute_result"
    }
   ],
   "source": [
    "# look at the first 10 things new users do\n",
    "\n",
    "# get the first session for users that were new in the timeframe\n",
    "timeframe_new_users = timeframe_df.merge(user_first_seen, how='inner', left_on=['user_id', 'time_aggregation', 'session_id'], right_on=['user_id', 'time_aggregation_min', 'session_id_min'])\n",
    "\n",
    "# limit to the first 10 events\n",
    "timeframe_new_users = timeframe_new_users[(timeframe_new_users['session_hit_number'] <= 10)]\n",
    "\n",
    "# number of total user and hits per feature\n",
    "new_user_events = timeframe_new_users.groupby(['time_aggregation', 'event_type', 'event_location']).aggregate({'user_id':'nunique','session_hit_number':'count'})\n",
    "\n",
    "new_user_events.sort_values(by=['time_aggregation', 'user_id_nunique'], ascending=False).head()"
   ]
  },
  {
   "cell_type": "markdown",
   "id": "9acf9cf5-c4e6-4d71-a15d-64bea1bf4d55",
   "metadata": {
    "tags": []
   },
   "source": [
    "## WIP Conversion"
   ]
  },
  {
   "cell_type": "code",
   "execution_count": 19,
   "id": "c8e09155-217c-4631-b528-ccb7be25ac43",
   "metadata": {},
   "outputs": [
    {
     "data": {
      "text/html": [
       "<div>\n",
       "<style scoped>\n",
       "    .dataframe tbody tr th:only-of-type {\n",
       "        vertical-align: middle;\n",
       "    }\n",
       "\n",
       "    .dataframe tbody tr th {\n",
       "        vertical-align: top;\n",
       "    }\n",
       "\n",
       "    .dataframe thead th {\n",
       "        text-align: right;\n",
       "    }\n",
       "</style>\n",
       "<table border=\"1\" class=\"dataframe\">\n",
       "  <thead>\n",
       "    <tr style=\"text-align: right;\">\n",
       "      <th></th>\n",
       "      <th>user_id_nunique_converting</th>\n",
       "      <th>user_id_nunique_total</th>\n",
       "      <th>conversion_rate</th>\n",
       "    </tr>\n",
       "    <tr>\n",
       "      <th>time_aggregation</th>\n",
       "      <th></th>\n",
       "      <th></th>\n",
       "      <th></th>\n",
       "    </tr>\n",
       "  </thead>\n",
       "  <tbody>\n",
       "    <tr>\n",
       "      <th>202144</th>\n",
       "      <td>1</td>\n",
       "      <td>32</td>\n",
       "      <td>0.03125</td>\n",
       "    </tr>\n",
       "  </tbody>\n",
       "</table>\n",
       "</div>"
      ],
      "text/plain": [
       "                  user_id_nunique_converting  user_id_nunique_total  \\\n",
       "time_aggregation                                                      \n",
       "202144                                     1                     32   \n",
       "\n",
       "                  conversion_rate  \n",
       "time_aggregation                   \n",
       "202144                    0.03125  "
      ]
     },
     "execution_count": 19,
     "metadata": {},
     "output_type": "execute_result"
    }
   ],
   "source": [
    "# NOTE - find conversion feature - replace with sankey when we have it?\n",
    "\n",
    "# filter on only completed conversion events, in the case a successful submission of keep-me-posted form\n",
    "conversion_completed = timeframe_df[(timeframe_df['event_type'] == 'CompletedEvent') &\n",
    "                                    (timeframe_df['event_location'] == 'Section: keep-me-posted-form located at Web Document: #document => Section: header')]\n",
    "\n",
    "# calculate conversions, now per user, but can easily be aggregated to session_id instead\n",
    "conversions = conversion_completed.groupby('time_aggregation').aggregate({'user_id':'nunique'})\n",
    "\n",
    "# merge with users, but can easily be done with sessions instead\n",
    "conversion_rate = conversions.merge(users, how='inner', on='time_aggregation', suffixes=('_converting', '_total'))\n",
    "\n",
    "# calculate conversion rate\n",
    "conversion_rate['conversion_rate'] = conversion_rate['user_id_nunique_converting'] / conversion_rate['user_id_nunique_total']\n",
    "\n",
    "conversion_rate.sort_values(by='time_aggregation', ascending=False).head()"
   ]
  },
  {
   "cell_type": "code",
   "execution_count": 20,
   "id": "ee77c8ee-6038-4b9a-9403-09502899511e",
   "metadata": {},
   "outputs": [
    {
     "data": {
      "text/plain": [
       "<AxesSubplot:xlabel='time_aggregation'>"
      ]
     },
     "execution_count": 20,
     "metadata": {},
     "output_type": "execute_result"
    },
    {
     "data": {
      "image/png": "[encoded data removed]",
      "text/plain": [
       "<Figure size 432x288 with 1 Axes>"
      ]
     },
     "metadata": {
      "needs_background": "light"
     },
     "output_type": "display_data"
    }
   ],
   "source": [
    "# visualize conversion rate\n",
    "conversion_rate[['conversion_rate']].sort_values(by='time_aggregation', ascending=True).head(60).plot()"
   ]
  },
  {
   "cell_type": "markdown",
   "id": "c5a49676-1373-412b-b1bf-22974ad44d5b",
   "metadata": {},
   "source": [
    "## WIP Conversion error rate"
   ]
  },
  {
   "cell_type": "code",
   "execution_count": 21,
   "id": "dfd50963-7aba-4fa2-8329-15e56909a79c",
   "metadata": {},
   "outputs": [
    {
     "data": {
      "text/html": [
       "<div>\n",
       "<style scoped>\n",
       "    .dataframe tbody tr th:only-of-type {\n",
       "        vertical-align: middle;\n",
       "    }\n",
       "\n",
       "    .dataframe tbody tr th {\n",
       "        vertical-align: top;\n",
       "    }\n",
       "\n",
       "    .dataframe thead th {\n",
       "        text-align: right;\n",
       "    }\n",
       "</style>\n",
       "<table border=\"1\" class=\"dataframe\">\n",
       "  <thead>\n",
       "    <tr style=\"text-align: right;\">\n",
       "      <th></th>\n",
       "      <th>users_start</th>\n",
       "      <th>users_completed</th>\n",
       "      <th>error_rate</th>\n",
       "    </tr>\n",
       "    <tr>\n",
       "      <th>time_aggregation</th>\n",
       "      <th></th>\n",
       "      <th></th>\n",
       "      <th></th>\n",
       "    </tr>\n",
       "  </thead>\n",
       "  <tbody>\n",
       "    <tr>\n",
       "      <th>202144</th>\n",
       "      <td>1</td>\n",
       "      <td>1</td>\n",
       "      <td>0.0</td>\n",
       "    </tr>\n",
       "  </tbody>\n",
       "</table>\n",
       "</div>"
      ],
      "text/plain": [
       "                  users_start  users_completed  error_rate\n",
       "time_aggregation                                          \n",
       "202144                      1                1         0.0"
      ]
     },
     "execution_count": 21,
     "metadata": {},
     "output_type": "execute_result"
    }
   ],
   "source": [
    "# NOTE replace with sankey when we have it?\n",
    "\n",
    "# filter on only conversion start events, this case a click on 'keep me posted' button\n",
    "conversion_start = timeframe_df[(timeframe_df['event_type'] == 'ClickEvent') &\n",
    "                               (timeframe_df['event_location'] == 'Button: subscribe located at Web Document: #document => Section: header => Section: keep-me-posted-form')]\n",
    "\n",
    "# calculate conversion starts, now per user, but can easily be aggregated to session_id instead\n",
    "conversion_starts = conversion_start.groupby('time_aggregation').aggregate({'user_id':'nunique'})\n",
    "\n",
    "# join conversion start & complete events\n",
    "conversion_totals = conversion_starts.merge(conversions, how='inner', on='time_aggregation')\n",
    "\n",
    "# rename columns\n",
    "conversion_totals.rename(columns={'user_id_nunique_x':'users_start','user_id_nunique_y':'users_completed'}, inplace=True)\n",
    "\n",
    "# calculate error rate by comparing starting and successfully completing a conversion event\n",
    "conversion_totals['error_rate'] = (conversion_totals['users_start'] - conversion_totals['users_completed']) / conversion_totals['users_start']\n",
    "\n",
    "conversion_totals.sort_values(by='time_aggregation', ascending=False).head()"
   ]
  },
  {
   "cell_type": "markdown",
   "id": "c84339df-e25a-43ff-a527-8ff7aa674128",
   "metadata": {},
   "source": [
    "## WIP Conversion funnel"
   ]
  },
  {
   "cell_type": "code",
   "execution_count": 22,
   "id": "7488d5e1-db83-4a7a-8a1a-fdd608a56bda",
   "metadata": {},
   "outputs": [
    {
     "data": {
      "text/html": [
       "<div>\n",
       "<style scoped>\n",
       "    .dataframe tbody tr th:only-of-type {\n",
       "        vertical-align: middle;\n",
       "    }\n",
       "\n",
       "    .dataframe tbody tr th {\n",
       "        vertical-align: top;\n",
       "    }\n",
       "\n",
       "    .dataframe thead th {\n",
       "        text-align: right;\n",
       "    }\n",
       "</style>\n",
       "<table border=\"1\" class=\"dataframe\">\n",
       "  <thead>\n",
       "    <tr style=\"text-align: right;\">\n",
       "      <th></th>\n",
       "      <th>prev_event_location</th>\n",
       "      <th>event_location</th>\n",
       "      <th>event_id_nunique</th>\n",
       "      <th>prev_feature_id</th>\n",
       "      <th>feature_id</th>\n",
       "    </tr>\n",
       "  </thead>\n",
       "  <tbody>\n",
       "    <tr>\n",
       "      <th>3</th>\n",
       "      <td>Link: logo located at Web Document: #document ...</td>\n",
       "      <td>Button: subscribe located at Web Document: #do...</td>\n",
       "      <td>2</td>\n",
       "      <td>3</td>\n",
       "      <td>0</td>\n",
       "    </tr>\n",
       "    <tr>\n",
       "      <th>7</th>\n",
       "      <td>Link: Twitter located at Web Document: #docume...</td>\n",
       "      <td>Link: Contact Us located at Web Document: #doc...</td>\n",
       "      <td>1</td>\n",
       "      <td>6</td>\n",
       "      <td>2</td>\n",
       "    </tr>\n",
       "    <tr>\n",
       "      <th>1</th>\n",
       "      <td>Link: announcement-cta located at Web Document...</td>\n",
       "      <td>Link: logo located at Web Document: #document ...</td>\n",
       "      <td>1</td>\n",
       "      <td>1</td>\n",
       "      <td>3</td>\n",
       "    </tr>\n",
       "    <tr>\n",
       "      <th>2</th>\n",
       "      <td>Link: Contact Us located at Web Document: #doc...</td>\n",
       "      <td>Link: logo located at Web Document: #document ...</td>\n",
       "      <td>1</td>\n",
       "      <td>2</td>\n",
       "      <td>3</td>\n",
       "    </tr>\n",
       "    <tr>\n",
       "      <th>5</th>\n",
       "      <td>Link: Privacy Policy located at Web Document: ...</td>\n",
       "      <td>Link: logo located at Web Document: #document ...</td>\n",
       "      <td>1</td>\n",
       "      <td>4</td>\n",
       "      <td>3</td>\n",
       "    </tr>\n",
       "  </tbody>\n",
       "</table>\n",
       "</div>"
      ],
      "text/plain": [
       "                                 prev_event_location  \\\n",
       "3  Link: logo located at Web Document: #document ...   \n",
       "7  Link: Twitter located at Web Document: #docume...   \n",
       "1  Link: announcement-cta located at Web Document...   \n",
       "2  Link: Contact Us located at Web Document: #doc...   \n",
       "5  Link: Privacy Policy located at Web Document: ...   \n",
       "\n",
       "                                      event_location  event_id_nunique  \\\n",
       "3  Button: subscribe located at Web Document: #do...                 2   \n",
       "7  Link: Contact Us located at Web Document: #doc...                 1   \n",
       "1  Link: logo located at Web Document: #document ...                 1   \n",
       "2  Link: logo located at Web Document: #document ...                 1   \n",
       "5  Link: logo located at Web Document: #document ...                 1   \n",
       "\n",
       "   prev_feature_id  feature_id  \n",
       "3                3           0  \n",
       "7                6           2  \n",
       "1                1           3  \n",
       "2                2           3  \n",
       "5                4           3  "
      ]
     },
     "execution_count": 22,
     "metadata": {},
     "output_type": "execute_result"
    }
   ],
   "source": [
    "# for users that have a conversion event, select their conversion sessions and session_hit_number of the conversion moment\n",
    "converting_users = conversion_completed.groupby(['user_id', 'session_id']).aggregate({'session_hit_number':'max'})\n",
    "\n",
    "# merge with the df that has all user events in the timeframe\n",
    "converting_users_events = timeframe_df.merge(converting_users, how='inner', on=['user_id', 'session_id'])\n",
    "\n",
    "# select all events that converting users had up to their conversion moment in the same session\n",
    "converting_users_events = converting_users_events[(converting_users_events['session_hit_number'] <= converting_users_events['session_hit_number_max'])]\n",
    "\n",
    "# filter on only ClickEvent so we focus on user interactions\n",
    "converting_users_events = converting_users_events[(converting_users_events['event_type'] == 'ClickEvent')]\n",
    "\n",
    "# select all unique features used by these users\n",
    "converting_users_features = converting_users_events.groupby(['event_location']).aggregate({'event_id':'nunique'})\n",
    "\n",
    "# sort these features by name\n",
    "converting_users_features = converting_users_features.sort_values(by='event_location', ascending=True)\n",
    "\n",
    "# now we switch to Pandas, as the dataset is small enough and allows nice visualisation\n",
    "feature_id = converting_users_features.to_df().reset_index()\n",
    "\n",
    "# clean-up columns\n",
    "feature_id.drop(columns=['event_id_nunique'], inplace=True)\n",
    "\n",
    "# use the index to give each feature a unique id\n",
    "feature_id['feature_id'] = feature_id.index\n",
    "\n",
    "# create a window that returns the previous event for each row\n",
    "window = converting_users_events.sort_values('session_hit_number').window('session_id')\n",
    "converting_users_events['prev_event_location'] = converting_users_events.event_location.window_lag(window)\n",
    "\n",
    "# materizalize the df before we apply an expression on window\n",
    "converting_users_events = converting_users_events.get_df_materialized_model()\n",
    "\n",
    "# group each unique event by previous unique event\n",
    "from_to_events = converting_users_events.groupby(['prev_event_location', 'event_location']).aggregate({'event_id':'nunique'})\n",
    "\n",
    "# now we switch to Pandas, as the dataset is small enough and allows nice visualisation\n",
    "from_to_events_pd = from_to_events.to_df().reset_index()\n",
    "\n",
    "# merge with the unique id for each prev_feature\n",
    "sankey_input = from_to_events_pd.merge(feature_id, how='inner', left_on='prev_event_location', right_on='event_location')\n",
    "sankey_input = sankey_input.rename(columns={'event_location_x':'event_location', 'feature_id':'prev_feature_id'})\n",
    "sankey_input = sankey_input.drop(columns={'event_location_y'})\n",
    "\n",
    "# merge with the unique id for each feature\n",
    "sankey_input = sankey_input.merge(feature_id, how='left', left_on='event_location', right_on='event_location')\n",
    "\n",
    "# filter out events where prev_feature and feature are the same and user did not go anywhere new\n",
    "sankey_input = sankey_input[(sankey_input['prev_feature_id'] != sankey_input['feature_id'])]\n",
    "\n",
    "# sort by feature, so we can add the correct labels in the sankey\n",
    "sankey_input = sankey_input.sort_values(by=['feature_id', 'prev_feature_id'], ascending=True)\n",
    "sankey_input.head()"
   ]
  },
  {
   "cell_type": "code",
   "execution_count": 58,
   "id": "852af5d8-e720-475b-af13-bc0d134a4711",
   "metadata": {},
   "outputs": [
    {
     "data": {
      "application/vnd.plotly.v1+json": {
       "config": {
        "plotlyServerURL": "https://plot.ly"
       },
       "data": [
        {
         "link": {
          "source": [
           3,
           6,
           1,
           2,
           4,
           3,
           5
          ],
          "target": [
           0,
           2,
           3,
           3,
           3,
           4,
           6
          ],
          "value": [
           2,
           1,
           1,
           1,
           1,
           1,
           1
          ]
         },
         "node": {
          "color": "blue",
          "label": [
           "Button: subscribe located at W",
           "Link: announcement-cta located",
           "Link: Contact Us located at We",
           "Link: logo located at Web Docu",
           "Link: Privacy Policy located a",
           "Link: sdirosa located at Web D",
           "Link: Twitter located at Web D"
          ],
          "line": {
           "color": "black",
           "width": 1
          },
          "pad": 50,
          "thickness": 5
         },
         "type": "sankey"
        }
       ],
       "layout": {
        "autosize": true,
        "font": {
         "size": 10
        },
        "template": {
         "data": {
          "bar": [
           {
            "error_x": {
             "color": "#2a3f5f"
            },
            "error_y": {
             "color": "#2a3f5f"
            },
            "marker": {
             "line": {
              "color": "#E5ECF6",
              "width": 0.5
             },
             "pattern": {
              "fillmode": "overlay",
              "size": 10,
              "solidity": 0.2
             }
            },
            "type": "bar"
           }
          ],
          "barpolar": [
           {
            "marker": {
             "line": {
              "color": "#E5ECF6",
              "width": 0.5
             },
             "pattern": {
              "fillmode": "overlay",
              "size": 10,
              "solidity": 0.2
             }
            },
            "type": "barpolar"
           }
          ],
          "carpet": [
           {
            "aaxis": {
             "endlinecolor": "#2a3f5f",
             "gridcolor": "white",
             "linecolor": "white",
             "minorgridcolor": "white",
             "startlinecolor": "#2a3f5f"
            },
            "baxis": {
             "endlinecolor": "#2a3f5f",
             "gridcolor": "white",
             "linecolor": "white",
             "minorgridcolor": "white",
             "startlinecolor": "#2a3f5f"
            },
            "type": "carpet"
           }
          ],
          "choropleth": [
           {
            "colorbar": {
             "outlinewidth": 0,
             "ticks": ""
            },
            "type": "choropleth"
           }
          ],
          "contour": [
           {
            "colorbar": {
             "outlinewidth": 0,
             "ticks": ""
            },
            "colorscale": [
             [
              0,
              "#0d0887"
             ],
             [
              0.1111111111111111,
              "#46039f"
             ],
             [
              0.2222222222222222,
              "#7201a8"
             ],
             [
              0.3333333333333333,
              "#9c179e"
             ],
             [
              0.4444444444444444,
              "#bd3786"
             ],
             [
              0.5555555555555556,
              "#d8576b"
             ],
             [
              0.6666666666666666,
              "#ed7953"
             ],
             [
              0.7777777777777778,
              "#fb9f3a"
             ],
             [
              0.8888888888888888,
              "#fdca26"
             ],
             [
              1,
              "#f0f921"
             ]
            ],
            "type": "contour"
           }
          ],
          "contourcarpet": [
           {
            "colorbar": {
             "outlinewidth": 0,
             "ticks": ""
            },
            "type": "contourcarpet"
           }
          ],
          "heatmap": [
           {
            "colorbar": {
             "outlinewidth": 0,
             "ticks": ""
            },
            "colorscale": [
             [
              0,
              "#0d0887"
             ],
             [
              0.1111111111111111,
              "#46039f"
             ],
             [
              0.2222222222222222,
              "#7201a8"
             ],
             [
              0.3333333333333333,
              "#9c179e"
             ],
             [
              0.4444444444444444,
              "#bd3786"
             ],
             [
              0.5555555555555556,
              "#d8576b"
             ],
             [
              0.6666666666666666,
              "#ed7953"
             ],
             [
              0.7777777777777778,
              "#fb9f3a"
             ],
             [
              0.8888888888888888,
              "#fdca26"
             ],
             [
              1,
              "#f0f921"
             ]
            ],
            "type": "heatmap"
           }
          ],
          "heatmapgl": [
           {
            "colorbar": {
             "outlinewidth": 0,
             "ticks": ""
            },
            "colorscale": [
             [
              0,
              "#0d0887"
             ],
             [
              0.1111111111111111,
              "#46039f"
             ],
             [
              0.2222222222222222,
              "#7201a8"
             ],
             [
              0.3333333333333333,
              "#9c179e"
             ],
             [
              0.4444444444444444,
              "#bd3786"
             ],
             [
              0.5555555555555556,
              "#d8576b"
             ],
             [
              0.6666666666666666,
              "#ed7953"
             ],
             [
              0.7777777777777778,
              "#fb9f3a"
             ],
             [
              0.8888888888888888,
              "#fdca26"
             ],
             [
              1,
              "#f0f921"
             ]
            ],
            "type": "heatmapgl"
           }
          ],
          "histogram": [
           {
            "marker": {
             "pattern": {
              "fillmode": "overlay",
              "size": 10,
              "solidity": 0.2
             }
            },
            "type": "histogram"
           }
          ],
          "histogram2d": [
           {
            "colorbar": {
             "outlinewidth": 0,
             "ticks": ""
            },
            "colorscale": [
             [
              0,
              "#0d0887"
             ],
             [
              0.1111111111111111,
              "#46039f"
             ],
             [
              0.2222222222222222,
              "#7201a8"
             ],
             [
              0.3333333333333333,
              "#9c179e"
             ],
             [
              0.4444444444444444,
              "#bd3786"
             ],
             [
              0.5555555555555556,
              "#d8576b"
             ],
             [
              0.6666666666666666,
              "#ed7953"
             ],
             [
              0.7777777777777778,
              "#fb9f3a"
             ],
             [
              0.8888888888888888,
              "#fdca26"
             ],
             [
              1,
              "#f0f921"
             ]
            ],
            "type": "histogram2d"
           }
          ],
          "histogram2dcontour": [
           {
            "colorbar": {
             "outlinewidth": 0,
             "ticks": ""
            },
            "colorscale": [
             [
              0,
              "#0d0887"
             ],
             [
              0.1111111111111111,
              "#46039f"
             ],
             [
              0.2222222222222222,
              "#7201a8"
             ],
             [
              0.3333333333333333,
              "#9c179e"
             ],
             [
              0.4444444444444444,
              "#bd3786"
             ],
             [
              0.5555555555555556,
              "#d8576b"
             ],
             [
              0.6666666666666666,
              "#ed7953"
             ],
             [
              0.7777777777777778,
              "#fb9f3a"
             ],
             [
              0.8888888888888888,
              "#fdca26"
             ],
             [
              1,
              "#f0f921"
             ]
            ],
            "type": "histogram2dcontour"
           }
          ],
          "mesh3d": [
           {
            "colorbar": {
             "outlinewidth": 0,
             "ticks": ""
            },
            "type": "mesh3d"
           }
          ],
          "parcoords": [
           {
            "line": {
             "colorbar": {
              "outlinewidth": 0,
              "ticks": ""
             }
            },
            "type": "parcoords"
           }
          ],
          "pie": [
           {
            "automargin": true,
            "type": "pie"
           }
          ],
          "scatter": [
           {
            "marker": {
             "colorbar": {
              "outlinewidth": 0,
              "ticks": ""
             }
            },
            "type": "scatter"
           }
          ],
          "scatter3d": [
           {
            "line": {
             "colorbar": {
              "outlinewidth": 0,
              "ticks": ""
             }
            },
            "marker": {
             "colorbar": {
              "outlinewidth": 0,
              "ticks": ""
             }
            },
            "type": "scatter3d"
           }
          ],
          "scattercarpet": [
           {
            "marker": {
             "colorbar": {
              "outlinewidth": 0,
              "ticks": ""
             }
            },
            "type": "scattercarpet"
           }
          ],
          "scattergeo": [
           {
            "marker": {
             "colorbar": {
              "outlinewidth": 0,
              "ticks": ""
             }
            },
            "type": "scattergeo"
           }
          ],
          "scattergl": [
           {
            "marker": {
             "colorbar": {
              "outlinewidth": 0,
              "ticks": ""
             }
            },
            "type": "scattergl"
           }
          ],
          "scattermapbox": [
           {
            "marker": {
             "colorbar": {
              "outlinewidth": 0,
              "ticks": ""
             }
            },
            "type": "scattermapbox"
           }
          ],
          "scatterpolar": [
           {
            "marker": {
             "colorbar": {
              "outlinewidth": 0,
              "ticks": ""
             }
            },
            "type": "scatterpolar"
           }
          ],
          "scatterpolargl": [
           {
            "marker": {
             "colorbar": {
              "outlinewidth": 0,
              "ticks": ""
             }
            },
            "type": "scatterpolargl"
           }
          ],
          "scatterternary": [
           {
            "marker": {
             "colorbar": {
              "outlinewidth": 0,
              "ticks": ""
             }
            },
            "type": "scatterternary"
           }
          ],
          "surface": [
           {
            "colorbar": {
             "outlinewidth": 0,
             "ticks": ""
            },
            "colorscale": [
             [
              0,
              "#0d0887"
             ],
             [
              0.1111111111111111,
              "#46039f"
             ],
             [
              0.2222222222222222,
              "#7201a8"
             ],
             [
              0.3333333333333333,
              "#9c179e"
             ],
             [
              0.4444444444444444,
              "#bd3786"
             ],
             [
              0.5555555555555556,
              "#d8576b"
             ],
             [
              0.6666666666666666,
              "#ed7953"
             ],
             [
              0.7777777777777778,
              "#fb9f3a"
             ],
             [
              0.8888888888888888,
              "#fdca26"
             ],
             [
              1,
              "#f0f921"
             ]
            ],
            "type": "surface"
           }
          ],
          "table": [
           {
            "cells": {
             "fill": {
              "color": "#EBF0F8"
             },
             "line": {
              "color": "white"
             }
            },
            "header": {
             "fill": {
              "color": "#C8D4E3"
             },
             "line": {
              "color": "white"
             }
            },
            "type": "table"
           }
          ]
         },
         "layout": {
          "annotationdefaults": {
           "arrowcolor": "#2a3f5f",
           "arrowhead": 0,
           "arrowwidth": 1
          },
          "autotypenumbers": "strict",
          "coloraxis": {
           "colorbar": {
            "outlinewidth": 0,
            "ticks": ""
           }
          },
          "colorscale": {
           "diverging": [
            [
             0,
             "#8e0152"
            ],
            [
             0.1,
             "#c51b7d"
            ],
            [
             0.2,
             "#de77ae"
            ],
            [
             0.3,
             "#f1b6da"
            ],
            [
             0.4,
             "#fde0ef"
            ],
            [
             0.5,
             "#f7f7f7"
            ],
            [
             0.6,
             "#e6f5d0"
            ],
            [
             0.7,
             "#b8e186"
            ],
            [
             0.8,
             "#7fbc41"
            ],
            [
             0.9,
             "#4d9221"
            ],
            [
             1,
             "#276419"
            ]
           ],
           "sequential": [
            [
             0,
             "#0d0887"
            ],
            [
             0.1111111111111111,
             "#46039f"
            ],
            [
             0.2222222222222222,
             "#7201a8"
            ],
            [
             0.3333333333333333,
             "#9c179e"
            ],
            [
             0.4444444444444444,
             "#bd3786"
            ],
            [
             0.5555555555555556,
             "#d8576b"
            ],
            [
             0.6666666666666666,
             "#ed7953"
            ],
            [
             0.7777777777777778,
             "#fb9f3a"
            ],
            [
             0.8888888888888888,
             "#fdca26"
            ],
            [
             1,
             "#f0f921"
            ]
           ],
           "sequentialminus": [
            [
             0,
             "#0d0887"
            ],
            [
             0.1111111111111111,
             "#46039f"
            ],
            [
             0.2222222222222222,
             "#7201a8"
            ],
            [
             0.3333333333333333,
             "#9c179e"
            ],
            [
             0.4444444444444444,
             "#bd3786"
            ],
            [
             0.5555555555555556,
             "#d8576b"
            ],
            [
             0.6666666666666666,
             "#ed7953"
            ],
            [
             0.7777777777777778,
             "#fb9f3a"
            ],
            [
             0.8888888888888888,
             "#fdca26"
            ],
            [
             1,
             "#f0f921"
            ]
           ]
          },
          "colorway": [
           "#636efa",
           "#EF553B",
           "#00cc96",
           "#ab63fa",
           "#FFA15A",
           "#19d3f3",
           "#FF6692",
           "#B6E880",
           "#FF97FF",
           "#FECB52"
          ],
          "font": {
           "color": "#2a3f5f"
          },
          "geo": {
           "bgcolor": "white",
           "lakecolor": "white",
           "landcolor": "#E5ECF6",
           "showlakes": true,
           "showland": true,
           "subunitcolor": "white"
          },
          "hoverlabel": {
           "align": "left"
          },
          "hovermode": "closest",
          "mapbox": {
           "style": "light"
          },
          "paper_bgcolor": "white",
          "plot_bgcolor": "#E5ECF6",
          "polar": {
           "angularaxis": {
            "gridcolor": "white",
            "linecolor": "white",
            "ticks": ""
           },
           "bgcolor": "#E5ECF6",
           "radialaxis": {
            "gridcolor": "white",
            "linecolor": "white",
            "ticks": ""
           }
          },
          "scene": {
           "xaxis": {
            "backgroundcolor": "#E5ECF6",
            "gridcolor": "white",
            "gridwidth": 2,
            "linecolor": "white",
            "showbackground": true,
            "ticks": "",
            "zerolinecolor": "white"
           },
           "yaxis": {
            "backgroundcolor": "#E5ECF6",
            "gridcolor": "white",
            "gridwidth": 2,
            "linecolor": "white",
            "showbackground": true,
            "ticks": "",
            "zerolinecolor": "white"
           },
           "zaxis": {
            "backgroundcolor": "#E5ECF6",
            "gridcolor": "white",
            "gridwidth": 2,
            "linecolor": "white",
            "showbackground": true,
            "ticks": "",
            "zerolinecolor": "white"
           }
          },
          "shapedefaults": {
           "line": {
            "color": "#2a3f5f"
           }
          },
          "ternary": {
           "aaxis": {
            "gridcolor": "white",
            "linecolor": "white",
            "ticks": ""
           },
           "baxis": {
            "gridcolor": "white",
            "linecolor": "white",
            "ticks": ""
           },
           "bgcolor": "#E5ECF6",
           "caxis": {
            "gridcolor": "white",
            "linecolor": "white",
            "ticks": ""
           }
          },
          "title": {
           "x": 0.05
          },
          "xaxis": {
           "automargin": true,
           "gridcolor": "white",
           "linecolor": "white",
           "ticks": "",
           "title": {
            "standoff": 15
           },
           "zerolinecolor": "white",
           "zerolinewidth": 2
          },
          "yaxis": {
           "automargin": true,
           "gridcolor": "white",
           "linecolor": "white",
           "ticks": "",
           "title": {
            "standoff": 15
           },
           "zerolinecolor": "white",
           "zerolinewidth": 2
          }
         }
        },
        "title": {
         "text": "Conversion funnel"
        }
       }
      },
      "image/png": "[encoded data removed]",
      "text/html": [
       "<div>                            <div id=\"fa0c90bc-7468-4f9a-aa87-e522e2358555\" class=\"plotly-graph-div\" style=\"height:525px; width:100%;\"></div>            <script type=\"text/javascript\">                require([\"plotly\"], function(Plotly) {                    window.PLOTLYENV=window.PLOTLYENV || {};                                    if (document.getElementById(\"fa0c90bc-7468-4f9a-aa87-e522e2358555\")) {                    Plotly.newPlot(                        \"fa0c90bc-7468-4f9a-aa87-e522e2358555\",                        [{\"link\":{\"source\":[3,6,1,2,4,3,5],\"target\":[0,2,3,3,3,4,6],\"value\":[2,1,1,1,1,1,1]},\"node\":{\"color\":\"blue\",\"label\":[\"Button: subscribe located at W\",\"Link: announcement-cta located\",\"Link: Contact Us located at We\",\"Link: logo located at Web Docu\",\"Link: Privacy Policy located a\",\"Link: sdirosa located at Web D\",\"Link: Twitter located at Web D\"],\"line\":{\"color\":\"black\",\"width\":1},\"pad\":50,\"thickness\":5},\"type\":\"sankey\"}],                        {\"font\":{\"size\":10},\"template\":{\"data\":{\"bar\":[{\"error_x\":{\"color\":\"#2a3f5f\"},\"error_y\":{\"color\":\"#2a3f5f\"},\"marker\":{\"line\":{\"color\":\"#E5ECF6\",\"width\":0.5},\"pattern\":{\"fillmode\":\"overlay\",\"size\":10,\"solidity\":0.2}},\"type\":\"bar\"}],\"barpolar\":[{\"marker\":{\"line\":{\"color\":\"#E5ECF6\",\"width\":0.5},\"pattern\":{\"fillmode\":\"overlay\",\"size\":10,\"solidity\":0.2}},\"type\":\"barpolar\"}],\"carpet\":[{\"aaxis\":{\"endlinecolor\":\"#2a3f5f\",\"gridcolor\":\"white\",\"linecolor\":\"white\",\"minorgridcolor\":\"white\",\"startlinecolor\":\"#2a3f5f\"},\"baxis\":{\"endlinecolor\":\"#2a3f5f\",\"gridcolor\":\"white\",\"linecolor\":\"white\",\"minorgridcolor\":\"white\",\"startlinecolor\":\"#2a3f5f\"},\"type\":\"carpet\"}],\"choropleth\":[{\"colorbar\":{\"outlinewidth\":0,\"ticks\":\"\"},\"type\":\"choropleth\"}],\"contour\":[{\"colorbar\":{\"outlinewidth\":0,\"ticks\":\"\"},\"colorscale\":[[0.0,\"#0d0887\"],[0.1111111111111111,\"#46039f\"],[0.2222222222222222,\"#7201a8\"],[0.3333333333333333,\"#9c179e\"],[0.4444444444444444,\"#bd3786\"],[0.5555555555555556,\"#d8576b\"],[0.6666666666666666,\"#ed7953\"],[0.7777777777777778,\"#fb9f3a\"],[0.8888888888888888,\"#fdca26\"],[1.0,\"#f0f921\"]],\"type\":\"contour\"}],\"contourcarpet\":[{\"colorbar\":{\"outlinewidth\":0,\"ticks\":\"\"},\"type\":\"contourcarpet\"}],\"heatmap\":[{\"colorbar\":{\"outlinewidth\":0,\"ticks\":\"\"},\"colorscale\":[[0.0,\"#0d0887\"],[0.1111111111111111,\"#46039f\"],[0.2222222222222222,\"#7201a8\"],[0.3333333333333333,\"#9c179e\"],[0.4444444444444444,\"#bd3786\"],[0.5555555555555556,\"#d8576b\"],[0.6666666666666666,\"#ed7953\"],[0.7777777777777778,\"#fb9f3a\"],[0.8888888888888888,\"#fdca26\"],[1.0,\"#f0f921\"]],\"type\":\"heatmap\"}],\"heatmapgl\":[{\"colorbar\":{\"outlinewidth\":0,\"ticks\":\"\"},\"colorscale\":[[0.0,\"#0d0887\"],[0.1111111111111111,\"#46039f\"],[0.2222222222222222,\"#7201a8\"],[0.3333333333333333,\"#9c179e\"],[0.4444444444444444,\"#bd3786\"],[0.5555555555555556,\"#d8576b\"],[0.6666666666666666,\"#ed7953\"],[0.7777777777777778,\"#fb9f3a\"],[0.8888888888888888,\"#fdca26\"],[1.0,\"#f0f921\"]],\"type\":\"heatmapgl\"}],\"histogram\":[{\"marker\":{\"pattern\":{\"fillmode\":\"overlay\",\"size\":10,\"solidity\":0.2}},\"type\":\"histogram\"}],\"histogram2d\":[{\"colorbar\":{\"outlinewidth\":0,\"ticks\":\"\"},\"colorscale\":[[0.0,\"#0d0887\"],[0.1111111111111111,\"#46039f\"],[0.2222222222222222,\"#7201a8\"],[0.3333333333333333,\"#9c179e\"],[0.4444444444444444,\"#bd3786\"],[0.5555555555555556,\"#d8576b\"],[0.6666666666666666,\"#ed7953\"],[0.7777777777777778,\"#fb9f3a\"],[0.8888888888888888,\"#fdca26\"],[1.0,\"#f0f921\"]],\"type\":\"histogram2d\"}],\"histogram2dcontour\":[{\"colorbar\":{\"outlinewidth\":0,\"ticks\":\"\"},\"colorscale\":[[0.0,\"#0d0887\"],[0.1111111111111111,\"#46039f\"],[0.2222222222222222,\"#7201a8\"],[0.3333333333333333,\"#9c179e\"],[0.4444444444444444,\"#bd3786\"],[0.5555555555555556,\"#d8576b\"],[0.6666666666666666,\"#ed7953\"],[0.7777777777777778,\"#fb9f3a\"],[0.8888888888888888,\"#fdca26\"],[1.0,\"#f0f921\"]],\"type\":\"histogram2dcontour\"}],\"mesh3d\":[{\"colorbar\":{\"outlinewidth\":0,\"ticks\":\"\"},\"type\":\"mesh3d\"}],\"parcoords\":[{\"line\":{\"colorbar\":{\"outlinewidth\":0,\"ticks\":\"\"}},\"type\":\"parcoords\"}],\"pie\":[{\"automargin\":true,\"type\":\"pie\"}],\"scatter\":[{\"marker\":{\"colorbar\":{\"outlinewidth\":0,\"ticks\":\"\"}},\"type\":\"scatter\"}],\"scatter3d\":[{\"line\":{\"colorbar\":{\"outlinewidth\":0,\"ticks\":\"\"}},\"marker\":{\"colorbar\":{\"outlinewidth\":0,\"ticks\":\"\"}},\"type\":\"scatter3d\"}],\"scattercarpet\":[{\"marker\":{\"colorbar\":{\"outlinewidth\":0,\"ticks\":\"\"}},\"type\":\"scattercarpet\"}],\"scattergeo\":[{\"marker\":{\"colorbar\":{\"outlinewidth\":0,\"ticks\":\"\"}},\"type\":\"scattergeo\"}],\"scattergl\":[{\"marker\":{\"colorbar\":{\"outlinewidth\":0,\"ticks\":\"\"}},\"type\":\"scattergl\"}],\"scattermapbox\":[{\"marker\":{\"colorbar\":{\"outlinewidth\":0,\"ticks\":\"\"}},\"type\":\"scattermapbox\"}],\"scatterpolar\":[{\"marker\":{\"colorbar\":{\"outlinewidth\":0,\"ticks\":\"\"}},\"type\":\"scatterpolar\"}],\"scatterpolargl\":[{\"marker\":{\"colorbar\":{\"outlinewidth\":0,\"ticks\":\"\"}},\"type\":\"scatterpolargl\"}],\"scatterternary\":[{\"marker\":{\"colorbar\":{\"outlinewidth\":0,\"ticks\":\"\"}},\"type\":\"scatterternary\"}],\"surface\":[{\"colorbar\":{\"outlinewidth\":0,\"ticks\":\"\"},\"colorscale\":[[0.0,\"#0d0887\"],[0.1111111111111111,\"#46039f\"],[0.2222222222222222,\"#7201a8\"],[0.3333333333333333,\"#9c179e\"],[0.4444444444444444,\"#bd3786\"],[0.5555555555555556,\"#d8576b\"],[0.6666666666666666,\"#ed7953\"],[0.7777777777777778,\"#fb9f3a\"],[0.8888888888888888,\"#fdca26\"],[1.0,\"#f0f921\"]],\"type\":\"surface\"}],\"table\":[{\"cells\":{\"fill\":{\"color\":\"#EBF0F8\"},\"line\":{\"color\":\"white\"}},\"header\":{\"fill\":{\"color\":\"#C8D4E3\"},\"line\":{\"color\":\"white\"}},\"type\":\"table\"}]},\"layout\":{\"annotationdefaults\":{\"arrowcolor\":\"#2a3f5f\",\"arrowhead\":0,\"arrowwidth\":1},\"autotypenumbers\":\"strict\",\"coloraxis\":{\"colorbar\":{\"outlinewidth\":0,\"ticks\":\"\"}},\"colorscale\":{\"diverging\":[[0,\"#8e0152\"],[0.1,\"#c51b7d\"],[0.2,\"#de77ae\"],[0.3,\"#f1b6da\"],[0.4,\"#fde0ef\"],[0.5,\"#f7f7f7\"],[0.6,\"#e6f5d0\"],[0.7,\"#b8e186\"],[0.8,\"#7fbc41\"],[0.9,\"#4d9221\"],[1,\"#276419\"]],\"sequential\":[[0.0,\"#0d0887\"],[0.1111111111111111,\"#46039f\"],[0.2222222222222222,\"#7201a8\"],[0.3333333333333333,\"#9c179e\"],[0.4444444444444444,\"#bd3786\"],[0.5555555555555556,\"#d8576b\"],[0.6666666666666666,\"#ed7953\"],[0.7777777777777778,\"#fb9f3a\"],[0.8888888888888888,\"#fdca26\"],[1.0,\"#f0f921\"]],\"sequentialminus\":[[0.0,\"#0d0887\"],[0.1111111111111111,\"#46039f\"],[0.2222222222222222,\"#7201a8\"],[0.3333333333333333,\"#9c179e\"],[0.4444444444444444,\"#bd3786\"],[0.5555555555555556,\"#d8576b\"],[0.6666666666666666,\"#ed7953\"],[0.7777777777777778,\"#fb9f3a\"],[0.8888888888888888,\"#fdca26\"],[1.0,\"#f0f921\"]]},\"colorway\":[\"#636efa\",\"#EF553B\",\"#00cc96\",\"#ab63fa\",\"#FFA15A\",\"#19d3f3\",\"#FF6692\",\"#B6E880\",\"#FF97FF\",\"#FECB52\"],\"font\":{\"color\":\"#2a3f5f\"},\"geo\":{\"bgcolor\":\"white\",\"lakecolor\":\"white\",\"landcolor\":\"#E5ECF6\",\"showlakes\":true,\"showland\":true,\"subunitcolor\":\"white\"},\"hoverlabel\":{\"align\":\"left\"},\"hovermode\":\"closest\",\"mapbox\":{\"style\":\"light\"},\"paper_bgcolor\":\"white\",\"plot_bgcolor\":\"#E5ECF6\",\"polar\":{\"angularaxis\":{\"gridcolor\":\"white\",\"linecolor\":\"white\",\"ticks\":\"\"},\"bgcolor\":\"#E5ECF6\",\"radialaxis\":{\"gridcolor\":\"white\",\"linecolor\":\"white\",\"ticks\":\"\"}},\"scene\":{\"xaxis\":{\"backgroundcolor\":\"#E5ECF6\",\"gridcolor\":\"white\",\"gridwidth\":2,\"linecolor\":\"white\",\"showbackground\":true,\"ticks\":\"\",\"zerolinecolor\":\"white\"},\"yaxis\":{\"backgroundcolor\":\"#E5ECF6\",\"gridcolor\":\"white\",\"gridwidth\":2,\"linecolor\":\"white\",\"showbackground\":true,\"ticks\":\"\",\"zerolinecolor\":\"white\"},\"zaxis\":{\"backgroundcolor\":\"#E5ECF6\",\"gridcolor\":\"white\",\"gridwidth\":2,\"linecolor\":\"white\",\"showbackground\":true,\"ticks\":\"\",\"zerolinecolor\":\"white\"}},\"shapedefaults\":{\"line\":{\"color\":\"#2a3f5f\"}},\"ternary\":{\"aaxis\":{\"gridcolor\":\"white\",\"linecolor\":\"white\",\"ticks\":\"\"},\"baxis\":{\"gridcolor\":\"white\",\"linecolor\":\"white\",\"ticks\":\"\"},\"bgcolor\":\"#E5ECF6\",\"caxis\":{\"gridcolor\":\"white\",\"linecolor\":\"white\",\"ticks\":\"\"}},\"title\":{\"x\":0.05},\"xaxis\":{\"automargin\":true,\"gridcolor\":\"white\",\"linecolor\":\"white\",\"ticks\":\"\",\"title\":{\"standoff\":15},\"zerolinecolor\":\"white\",\"zerolinewidth\":2},\"yaxis\":{\"automargin\":true,\"gridcolor\":\"white\",\"linecolor\":\"white\",\"ticks\":\"\",\"title\":{\"standoff\":15},\"zerolinecolor\":\"white\",\"zerolinewidth\":2}}},\"title\":{\"text\":\"Conversion funnel\"}},                        {\"responsive\": true}                    ).then(function(){\n",
       "                            \n",
       "var gd = document.getElementById('fa0c90bc-7468-4f9a-aa87-e522e2358555');\n",
       "var x = new MutationObserver(function (mutations, observer) {{\n",
       "        var display = window.getComputedStyle(gd).display;\n",
       "        if (!display || display === 'none') {{\n",
       "            console.log([gd, 'removed!']);\n",
       "            Plotly.purge(gd);\n",
       "            observer.disconnect();\n",
       "        }}\n",
       "}});\n",
       "\n",
       "// Listen for the removal of the full notebook cells\n",
       "var notebookContainer = gd.closest('#notebook-container');\n",
       "if (notebookContainer) {{\n",
       "    x.observe(notebookContainer, {childList: true});\n",
       "}}\n",
       "\n",
       "// Listen for the clearing of the current output cell\n",
       "var outputEl = gd.closest('.output');\n",
       "if (outputEl) {{\n",
       "    x.observe(outputEl, {childList: true});\n",
       "}}\n",
       "\n",
       "                        })                };                });            </script>        </div>"
      ]
     },
     "metadata": {},
     "output_type": "display_data"
    }
   ],
   "source": [
    "# visualize the sankey\n",
    "fig = go.Figure(data=[go.Sankey(\n",
    "    node = dict(\n",
    "      pad = 50,\n",
    "      thickness = 5,\n",
    "      line = dict(color = \"black\", width = 1),\n",
    "      label = feature_id['event_location'].str.slice(0,30).tolist(),\n",
    "      color = \"blue\"\n",
    "    ),\n",
    "    link = dict(\n",
    "      source = sankey_input['prev_feature_id'].tolist(),\n",
    "      target = sankey_input['feature_id'].tolist(),\n",
    "      value = sankey_input['event_id_nunique'].tolist(),\n",
    "  ))])\n",
    "\n",
    "fig.update_layout(title_text=\"Conversion funnel\", font_size=10)\n",
    "fig.show()"
   ]
  },
  {
   "cell_type": "markdown",
   "id": "26c06f91-3fe1-4e25-8706-601e1b223393",
   "metadata": {},
   "source": [
    "## Session duration"
   ]
  },
  {
   "cell_type": "code",
   "execution_count": 24,
   "id": "2279e793-e5a4-4a4b-968a-db8c5949f0ff",
   "metadata": {},
   "outputs": [
    {
     "data": {
      "text/html": [
       "<div>\n",
       "<style scoped>\n",
       "    .dataframe tbody tr th:only-of-type {\n",
       "        vertical-align: middle;\n",
       "    }\n",
       "\n",
       "    .dataframe tbody tr th {\n",
       "        vertical-align: top;\n",
       "    }\n",
       "\n",
       "    .dataframe thead th {\n",
       "        text-align: right;\n",
       "    }\n",
       "</style>\n",
       "<table border=\"1\" class=\"dataframe\">\n",
       "  <thead>\n",
       "    <tr style=\"text-align: right;\">\n",
       "      <th></th>\n",
       "      <th>session_duration_mean</th>\n",
       "    </tr>\n",
       "    <tr>\n",
       "      <th>time_aggregation</th>\n",
       "      <th></th>\n",
       "    </tr>\n",
       "  </thead>\n",
       "  <tbody>\n",
       "    <tr>\n",
       "      <th>202144</th>\n",
       "      <td>0 days 00:00:19.126647</td>\n",
       "    </tr>\n",
       "    <tr>\n",
       "      <th>202143</th>\n",
       "      <td>0 days 00:00:32.229353</td>\n",
       "    </tr>\n",
       "    <tr>\n",
       "      <th>202142</th>\n",
       "      <td>0 days 00:00:23.995933</td>\n",
       "    </tr>\n",
       "    <tr>\n",
       "      <th>202141</th>\n",
       "      <td>0 days 00:00:42.266514</td>\n",
       "    </tr>\n",
       "    <tr>\n",
       "      <th>202140</th>\n",
       "      <td>0 days 00:00:42.188256</td>\n",
       "    </tr>\n",
       "  </tbody>\n",
       "</table>\n",
       "</div>"
      ],
      "text/plain": [
       "                  session_duration_mean\n",
       "time_aggregation                       \n",
       "202144           0 days 00:00:19.126647\n",
       "202143           0 days 00:00:32.229353\n",
       "202142           0 days 00:00:23.995933\n",
       "202141           0 days 00:00:42.266514\n",
       "202140           0 days 00:00:42.188256"
      ]
     },
     "execution_count": 24,
     "metadata": {},
     "output_type": "execute_result"
    }
   ],
   "source": [
    "# calculate duration of each session\n",
    "session_duration = timeframe_df.groupby(['session_id']).aggregate({'moment':['min','max'], 'time_aggregation':'min'})\n",
    "session_duration['session_duration'] = session_duration['moment_max'] - session_duration['moment_min']\n",
    "\n",
    "# check which sessions have duration of zero and filter these out, as they are bounces\n",
    "session_duration = session_duration[(session_duration['session_duration'] > '0')]\n",
    "\n",
    "# rename columns\n",
    "session_duration.rename(columns={'time_aggregation_min':'time_aggregation'}, inplace=True)\n",
    "\n",
    "# calculate average session duration\n",
    "avg_session_duration = session_duration.groupby(['time_aggregation']).aggregate({'session_duration': 'mean'})\n",
    "\n",
    "avg_session_duration.sort_values(by='time_aggregation', ascending=False).head()"
   ]
  },
  {
   "cell_type": "markdown",
   "id": "a2f0f2c5-8e20-4b54-bdfa-dcb920794e5d",
   "metadata": {},
   "source": [
    "## WIP Session duration between events\n"
   ]
  },
  {
   "cell_type": "code",
   "execution_count": 25,
   "id": "36bb0024-91db-4a8b-a045-21934c117020",
   "metadata": {},
   "outputs": [
    {
     "data": {
      "text/html": [
       "<div>\n",
       "<style scoped>\n",
       "    .dataframe tbody tr th:only-of-type {\n",
       "        vertical-align: middle;\n",
       "    }\n",
       "\n",
       "    .dataframe tbody tr th {\n",
       "        vertical-align: top;\n",
       "    }\n",
       "\n",
       "    .dataframe thead th {\n",
       "        text-align: right;\n",
       "    }\n",
       "</style>\n",
       "<table border=\"1\" class=\"dataframe\">\n",
       "  <thead>\n",
       "    <tr style=\"text-align: right;\">\n",
       "      <th></th>\n",
       "      <th>duration_mean</th>\n",
       "    </tr>\n",
       "    <tr>\n",
       "      <th>time_aggregation</th>\n",
       "      <th></th>\n",
       "    </tr>\n",
       "  </thead>\n",
       "  <tbody>\n",
       "    <tr>\n",
       "      <th>202143</th>\n",
       "      <td>0 days 00:00:07.535000</td>\n",
       "    </tr>\n",
       "    <tr>\n",
       "      <th>202142</th>\n",
       "      <td>0 days 00:00:06.521500</td>\n",
       "    </tr>\n",
       "    <tr>\n",
       "      <th>202141</th>\n",
       "      <td>0 days 00:00:07.131000</td>\n",
       "    </tr>\n",
       "    <tr>\n",
       "      <th>202140</th>\n",
       "      <td>0 days 00:00:09.851000</td>\n",
       "    </tr>\n",
       "  </tbody>\n",
       "</table>\n",
       "</div>"
      ],
      "text/plain": [
       "                          duration_mean\n",
       "time_aggregation                       \n",
       "202143           0 days 00:00:07.535000\n",
       "202142           0 days 00:00:06.521500\n",
       "202141           0 days 00:00:07.131000\n",
       "202140           0 days 00:00:09.851000"
      ]
     },
     "execution_count": 25,
     "metadata": {},
     "output_type": "execute_result"
    }
   ],
   "source": [
    "# NOTE: replace event selection with sankey\n",
    "\n",
    "# NOTE: stop event is old, replace with something better (after we add feature selection)\n",
    "\n",
    "# define the start and stop events to measure the duration in between, in this case landing on homepage and completing conversion\n",
    "start_event = '(WebDocumentContext,#document)'\n",
    "stop_event = '(WebDocumentContext,#document),(SectionContext,keep-me-posted-form),(ActionContext,keep-me-posted)'\n",
    "\n",
    "# filter on only these events\n",
    "start_stop = timeframe_df[(timeframe_df.feature == start_event) | (timeframe_df.feature == stop_event)]\n",
    "\n",
    "# get previous (because of the sorting) event for stop event _in the same session, window_lag(n) returns the nth previous value in the partition\n",
    "window = start_stop.sort_values('moment').window('session_id')\n",
    "start_stop['prev_event'] = start_stop.feature.window_lag(window)\n",
    "start_stop['prev_moment'] = start_stop.moment.window_lag(window)\n",
    "\n",
    "# materizalize the df before we apply an expression on window\n",
    "start_stop = start_stop.get_df_materialized_model()\n",
    "\n",
    "# filter: for each stop event, select the closest preceeding start event\n",
    "complete = start_stop[(start_stop.feature == stop_event) & (start_stop.prev_event == start_event)]\n",
    "\n",
    "# calculate duration\n",
    "complete['duration'] = complete.moment - complete.prev_moment\n",
    "\n",
    "# calculate average duration per timeframe\n",
    "duration_between_events = complete.groupby('time_aggregation').aggregate({'duration':'mean'})\n",
    "\n",
    "duration_between_events.sort_values(by='time_aggregation', ascending=False).head()"
   ]
  },
  {
   "cell_type": "markdown",
   "id": "76e283e6-cc77-412d-91ec-9915fcbc7764",
   "metadata": {},
   "source": [
    "## Retention"
   ]
  },
  {
   "cell_type": "code",
   "execution_count": 26,
   "id": "069417b1-e554-4e83-9dbb-692258a547eb",
   "metadata": {},
   "outputs": [
    {
     "data": {
      "text/html": [
       "<div>\n",
       "<style scoped>\n",
       "    .dataframe tbody tr th:only-of-type {\n",
       "        vertical-align: middle;\n",
       "    }\n",
       "\n",
       "    .dataframe tbody tr th {\n",
       "        vertical-align: top;\n",
       "    }\n",
       "\n",
       "    .dataframe thead th {\n",
       "        text-align: right;\n",
       "    }\n",
       "</style>\n",
       "<table border=\"1\" class=\"dataframe\">\n",
       "  <thead>\n",
       "    <tr style=\"text-align: right;\">\n",
       "      <th>active_in_timeframe</th>\n",
       "      <th>0</th>\n",
       "      <th>1</th>\n",
       "      <th>2</th>\n",
       "      <th>3</th>\n",
       "      <th>4</th>\n",
       "      <th>5</th>\n",
       "      <th>6</th>\n",
       "      <th>7</th>\n",
       "      <th>8</th>\n",
       "      <th>9</th>\n",
       "      <th>10</th>\n",
       "      <th>11</th>\n",
       "      <th>12</th>\n",
       "      <th>13</th>\n",
       "      <th>14</th>\n",
       "      <th>15</th>\n",
       "      <th>16</th>\n",
       "    </tr>\n",
       "    <tr>\n",
       "      <th>new_user_cohort</th>\n",
       "      <th></th>\n",
       "      <th></th>\n",
       "      <th></th>\n",
       "      <th></th>\n",
       "      <th></th>\n",
       "      <th></th>\n",
       "      <th></th>\n",
       "      <th></th>\n",
       "      <th></th>\n",
       "      <th></th>\n",
       "      <th></th>\n",
       "      <th></th>\n",
       "      <th></th>\n",
       "      <th></th>\n",
       "      <th></th>\n",
       "      <th></th>\n",
       "      <th></th>\n",
       "    </tr>\n",
       "  </thead>\n",
       "  <tbody>\n",
       "    <tr>\n",
       "      <th>202128</th>\n",
       "      <td>1.0</td>\n",
       "      <td>0.100000</td>\n",
       "      <td>0.100000</td>\n",
       "      <td>0.100000</td>\n",
       "      <td>0.100000</td>\n",
       "      <td>0.100000</td>\n",
       "      <td>0.200000</td>\n",
       "      <td>0.000000</td>\n",
       "      <td>0.200000</td>\n",
       "      <td>0.100000</td>\n",
       "      <td>0.000000</td>\n",
       "      <td>0.100000</td>\n",
       "      <td>0.100000</td>\n",
       "      <td>0.100000</td>\n",
       "      <td>0.100000</td>\n",
       "      <td>0.1</td>\n",
       "      <td>0.1</td>\n",
       "    </tr>\n",
       "    <tr>\n",
       "      <th>202129</th>\n",
       "      <td>1.0</td>\n",
       "      <td>0.022727</td>\n",
       "      <td>0.045455</td>\n",
       "      <td>0.090909</td>\n",
       "      <td>0.045455</td>\n",
       "      <td>0.045455</td>\n",
       "      <td>0.045455</td>\n",
       "      <td>0.045455</td>\n",
       "      <td>0.022727</td>\n",
       "      <td>0.000000</td>\n",
       "      <td>0.045455</td>\n",
       "      <td>0.045455</td>\n",
       "      <td>0.045455</td>\n",
       "      <td>0.045455</td>\n",
       "      <td>0.045455</td>\n",
       "      <td>0.0</td>\n",
       "      <td>0.0</td>\n",
       "    </tr>\n",
       "    <tr>\n",
       "      <th>202130</th>\n",
       "      <td>1.0</td>\n",
       "      <td>0.000000</td>\n",
       "      <td>0.029412</td>\n",
       "      <td>0.000000</td>\n",
       "      <td>0.000000</td>\n",
       "      <td>0.000000</td>\n",
       "      <td>0.000000</td>\n",
       "      <td>0.000000</td>\n",
       "      <td>0.000000</td>\n",
       "      <td>0.000000</td>\n",
       "      <td>0.000000</td>\n",
       "      <td>0.000000</td>\n",
       "      <td>0.000000</td>\n",
       "      <td>0.000000</td>\n",
       "      <td>0.000000</td>\n",
       "      <td>0.0</td>\n",
       "      <td>0.0</td>\n",
       "    </tr>\n",
       "    <tr>\n",
       "      <th>202131</th>\n",
       "      <td>1.0</td>\n",
       "      <td>0.048193</td>\n",
       "      <td>0.024096</td>\n",
       "      <td>0.024096</td>\n",
       "      <td>0.000000</td>\n",
       "      <td>0.024096</td>\n",
       "      <td>0.036145</td>\n",
       "      <td>0.024096</td>\n",
       "      <td>0.024096</td>\n",
       "      <td>0.012048</td>\n",
       "      <td>0.036145</td>\n",
       "      <td>0.000000</td>\n",
       "      <td>0.012048</td>\n",
       "      <td>0.012048</td>\n",
       "      <td>0.000000</td>\n",
       "      <td>0.0</td>\n",
       "      <td>0.0</td>\n",
       "    </tr>\n",
       "    <tr>\n",
       "      <th>202132</th>\n",
       "      <td>1.0</td>\n",
       "      <td>0.023529</td>\n",
       "      <td>0.000000</td>\n",
       "      <td>0.000000</td>\n",
       "      <td>0.011765</td>\n",
       "      <td>0.000000</td>\n",
       "      <td>0.000000</td>\n",
       "      <td>0.011765</td>\n",
       "      <td>0.000000</td>\n",
       "      <td>0.000000</td>\n",
       "      <td>0.011765</td>\n",
       "      <td>0.011765</td>\n",
       "      <td>0.000000</td>\n",
       "      <td>0.000000</td>\n",
       "      <td>0.000000</td>\n",
       "      <td>0.0</td>\n",
       "      <td>0.0</td>\n",
       "    </tr>\n",
       "    <tr>\n",
       "      <th>202133</th>\n",
       "      <td>1.0</td>\n",
       "      <td>0.000000</td>\n",
       "      <td>0.000000</td>\n",
       "      <td>0.000000</td>\n",
       "      <td>0.000000</td>\n",
       "      <td>0.000000</td>\n",
       "      <td>0.000000</td>\n",
       "      <td>0.000000</td>\n",
       "      <td>0.000000</td>\n",
       "      <td>0.000000</td>\n",
       "      <td>0.000000</td>\n",
       "      <td>0.000000</td>\n",
       "      <td>0.000000</td>\n",
       "      <td>0.000000</td>\n",
       "      <td>0.000000</td>\n",
       "      <td>0.0</td>\n",
       "      <td>0.0</td>\n",
       "    </tr>\n",
       "    <tr>\n",
       "      <th>202134</th>\n",
       "      <td>1.0</td>\n",
       "      <td>0.038961</td>\n",
       "      <td>0.012987</td>\n",
       "      <td>0.025974</td>\n",
       "      <td>0.012987</td>\n",
       "      <td>0.025974</td>\n",
       "      <td>0.012987</td>\n",
       "      <td>0.012987</td>\n",
       "      <td>0.012987</td>\n",
       "      <td>0.012987</td>\n",
       "      <td>0.012987</td>\n",
       "      <td>0.000000</td>\n",
       "      <td>0.000000</td>\n",
       "      <td>0.000000</td>\n",
       "      <td>0.000000</td>\n",
       "      <td>0.0</td>\n",
       "      <td>0.0</td>\n",
       "    </tr>\n",
       "    <tr>\n",
       "      <th>202135</th>\n",
       "      <td>1.0</td>\n",
       "      <td>0.024691</td>\n",
       "      <td>0.024691</td>\n",
       "      <td>0.012346</td>\n",
       "      <td>0.012346</td>\n",
       "      <td>0.012346</td>\n",
       "      <td>0.024691</td>\n",
       "      <td>0.000000</td>\n",
       "      <td>0.000000</td>\n",
       "      <td>0.000000</td>\n",
       "      <td>0.000000</td>\n",
       "      <td>0.000000</td>\n",
       "      <td>0.000000</td>\n",
       "      <td>0.000000</td>\n",
       "      <td>0.000000</td>\n",
       "      <td>0.0</td>\n",
       "      <td>0.0</td>\n",
       "    </tr>\n",
       "    <tr>\n",
       "      <th>202136</th>\n",
       "      <td>1.0</td>\n",
       "      <td>0.025316</td>\n",
       "      <td>0.000000</td>\n",
       "      <td>0.000000</td>\n",
       "      <td>0.012658</td>\n",
       "      <td>0.000000</td>\n",
       "      <td>0.000000</td>\n",
       "      <td>0.000000</td>\n",
       "      <td>0.000000</td>\n",
       "      <td>0.000000</td>\n",
       "      <td>0.000000</td>\n",
       "      <td>0.000000</td>\n",
       "      <td>0.000000</td>\n",
       "      <td>0.000000</td>\n",
       "      <td>0.000000</td>\n",
       "      <td>0.0</td>\n",
       "      <td>0.0</td>\n",
       "    </tr>\n",
       "    <tr>\n",
       "      <th>202137</th>\n",
       "      <td>1.0</td>\n",
       "      <td>0.022989</td>\n",
       "      <td>0.011494</td>\n",
       "      <td>0.011494</td>\n",
       "      <td>0.000000</td>\n",
       "      <td>0.000000</td>\n",
       "      <td>0.000000</td>\n",
       "      <td>0.000000</td>\n",
       "      <td>0.000000</td>\n",
       "      <td>0.000000</td>\n",
       "      <td>0.000000</td>\n",
       "      <td>0.000000</td>\n",
       "      <td>0.000000</td>\n",
       "      <td>0.000000</td>\n",
       "      <td>0.000000</td>\n",
       "      <td>0.0</td>\n",
       "      <td>0.0</td>\n",
       "    </tr>\n",
       "    <tr>\n",
       "      <th>202138</th>\n",
       "      <td>1.0</td>\n",
       "      <td>0.028037</td>\n",
       "      <td>0.018692</td>\n",
       "      <td>0.000000</td>\n",
       "      <td>0.000000</td>\n",
       "      <td>0.000000</td>\n",
       "      <td>0.000000</td>\n",
       "      <td>0.000000</td>\n",
       "      <td>0.000000</td>\n",
       "      <td>0.000000</td>\n",
       "      <td>0.000000</td>\n",
       "      <td>0.000000</td>\n",
       "      <td>0.000000</td>\n",
       "      <td>0.000000</td>\n",
       "      <td>0.000000</td>\n",
       "      <td>0.0</td>\n",
       "      <td>0.0</td>\n",
       "    </tr>\n",
       "    <tr>\n",
       "      <th>202139</th>\n",
       "      <td>1.0</td>\n",
       "      <td>0.011628</td>\n",
       "      <td>0.023256</td>\n",
       "      <td>0.000000</td>\n",
       "      <td>0.011628</td>\n",
       "      <td>0.000000</td>\n",
       "      <td>0.000000</td>\n",
       "      <td>0.000000</td>\n",
       "      <td>0.000000</td>\n",
       "      <td>0.000000</td>\n",
       "      <td>0.000000</td>\n",
       "      <td>0.000000</td>\n",
       "      <td>0.000000</td>\n",
       "      <td>0.000000</td>\n",
       "      <td>0.000000</td>\n",
       "      <td>0.0</td>\n",
       "      <td>0.0</td>\n",
       "    </tr>\n",
       "    <tr>\n",
       "      <th>202140</th>\n",
       "      <td>1.0</td>\n",
       "      <td>0.043478</td>\n",
       "      <td>0.010870</td>\n",
       "      <td>0.000000</td>\n",
       "      <td>0.000000</td>\n",
       "      <td>0.000000</td>\n",
       "      <td>0.000000</td>\n",
       "      <td>0.000000</td>\n",
       "      <td>0.000000</td>\n",
       "      <td>0.000000</td>\n",
       "      <td>0.000000</td>\n",
       "      <td>0.000000</td>\n",
       "      <td>0.000000</td>\n",
       "      <td>0.000000</td>\n",
       "      <td>0.000000</td>\n",
       "      <td>0.0</td>\n",
       "      <td>0.0</td>\n",
       "    </tr>\n",
       "    <tr>\n",
       "      <th>202141</th>\n",
       "      <td>1.0</td>\n",
       "      <td>0.031915</td>\n",
       "      <td>0.010638</td>\n",
       "      <td>0.000000</td>\n",
       "      <td>0.000000</td>\n",
       "      <td>0.000000</td>\n",
       "      <td>0.000000</td>\n",
       "      <td>0.000000</td>\n",
       "      <td>0.000000</td>\n",
       "      <td>0.000000</td>\n",
       "      <td>0.000000</td>\n",
       "      <td>0.000000</td>\n",
       "      <td>0.000000</td>\n",
       "      <td>0.000000</td>\n",
       "      <td>0.000000</td>\n",
       "      <td>0.0</td>\n",
       "      <td>0.0</td>\n",
       "    </tr>\n",
       "    <tr>\n",
       "      <th>202142</th>\n",
       "      <td>1.0</td>\n",
       "      <td>0.036585</td>\n",
       "      <td>0.000000</td>\n",
       "      <td>0.000000</td>\n",
       "      <td>0.000000</td>\n",
       "      <td>0.000000</td>\n",
       "      <td>0.000000</td>\n",
       "      <td>0.000000</td>\n",
       "      <td>0.000000</td>\n",
       "      <td>0.000000</td>\n",
       "      <td>0.000000</td>\n",
       "      <td>0.000000</td>\n",
       "      <td>0.000000</td>\n",
       "      <td>0.000000</td>\n",
       "      <td>0.000000</td>\n",
       "      <td>0.0</td>\n",
       "      <td>0.0</td>\n",
       "    </tr>\n",
       "    <tr>\n",
       "      <th>202143</th>\n",
       "      <td>1.0</td>\n",
       "      <td>0.026316</td>\n",
       "      <td>0.000000</td>\n",
       "      <td>0.000000</td>\n",
       "      <td>0.000000</td>\n",
       "      <td>0.000000</td>\n",
       "      <td>0.000000</td>\n",
       "      <td>0.000000</td>\n",
       "      <td>0.000000</td>\n",
       "      <td>0.000000</td>\n",
       "      <td>0.000000</td>\n",
       "      <td>0.000000</td>\n",
       "      <td>0.000000</td>\n",
       "      <td>0.000000</td>\n",
       "      <td>0.000000</td>\n",
       "      <td>0.0</td>\n",
       "      <td>0.0</td>\n",
       "    </tr>\n",
       "    <tr>\n",
       "      <th>202144</th>\n",
       "      <td>1.0</td>\n",
       "      <td>0.000000</td>\n",
       "      <td>0.000000</td>\n",
       "      <td>0.000000</td>\n",
       "      <td>0.000000</td>\n",
       "      <td>0.000000</td>\n",
       "      <td>0.000000</td>\n",
       "      <td>0.000000</td>\n",
       "      <td>0.000000</td>\n",
       "      <td>0.000000</td>\n",
       "      <td>0.000000</td>\n",
       "      <td>0.000000</td>\n",
       "      <td>0.000000</td>\n",
       "      <td>0.000000</td>\n",
       "      <td>0.000000</td>\n",
       "      <td>0.0</td>\n",
       "      <td>0.0</td>\n",
       "    </tr>\n",
       "  </tbody>\n",
       "</table>\n",
       "</div>"
      ],
      "text/plain": [
       "active_in_timeframe   0         1         2         3         4         5   \\\n",
       "new_user_cohort                                                              \n",
       "202128               1.0  0.100000  0.100000  0.100000  0.100000  0.100000   \n",
       "202129               1.0  0.022727  0.045455  0.090909  0.045455  0.045455   \n",
       "202130               1.0  0.000000  0.029412  0.000000  0.000000  0.000000   \n",
       "202131               1.0  0.048193  0.024096  0.024096  0.000000  0.024096   \n",
       "202132               1.0  0.023529  0.000000  0.000000  0.011765  0.000000   \n",
       "202133               1.0  0.000000  0.000000  0.000000  0.000000  0.000000   \n",
       "202134               1.0  0.038961  0.012987  0.025974  0.012987  0.025974   \n",
       "202135               1.0  0.024691  0.024691  0.012346  0.012346  0.012346   \n",
       "202136               1.0  0.025316  0.000000  0.000000  0.012658  0.000000   \n",
       "202137               1.0  0.022989  0.011494  0.011494  0.000000  0.000000   \n",
       "202138               1.0  0.028037  0.018692  0.000000  0.000000  0.000000   \n",
       "202139               1.0  0.011628  0.023256  0.000000  0.011628  0.000000   \n",
       "202140               1.0  0.043478  0.010870  0.000000  0.000000  0.000000   \n",
       "202141               1.0  0.031915  0.010638  0.000000  0.000000  0.000000   \n",
       "202142               1.0  0.036585  0.000000  0.000000  0.000000  0.000000   \n",
       "202143               1.0  0.026316  0.000000  0.000000  0.000000  0.000000   \n",
       "202144               1.0  0.000000  0.000000  0.000000  0.000000  0.000000   \n",
       "\n",
       "active_in_timeframe        6         7         8         9         10  \\\n",
       "new_user_cohort                                                         \n",
       "202128               0.200000  0.000000  0.200000  0.100000  0.000000   \n",
       "202129               0.045455  0.045455  0.022727  0.000000  0.045455   \n",
       "202130               0.000000  0.000000  0.000000  0.000000  0.000000   \n",
       "202131               0.036145  0.024096  0.024096  0.012048  0.036145   \n",
       "202132               0.000000  0.011765  0.000000  0.000000  0.011765   \n",
       "202133               0.000000  0.000000  0.000000  0.000000  0.000000   \n",
       "202134               0.012987  0.012987  0.012987  0.012987  0.012987   \n",
       "202135               0.024691  0.000000  0.000000  0.000000  0.000000   \n",
       "202136               0.000000  0.000000  0.000000  0.000000  0.000000   \n",
       "202137               0.000000  0.000000  0.000000  0.000000  0.000000   \n",
       "202138               0.000000  0.000000  0.000000  0.000000  0.000000   \n",
       "202139               0.000000  0.000000  0.000000  0.000000  0.000000   \n",
       "202140               0.000000  0.000000  0.000000  0.000000  0.000000   \n",
       "202141               0.000000  0.000000  0.000000  0.000000  0.000000   \n",
       "202142               0.000000  0.000000  0.000000  0.000000  0.000000   \n",
       "202143               0.000000  0.000000  0.000000  0.000000  0.000000   \n",
       "202144               0.000000  0.000000  0.000000  0.000000  0.000000   \n",
       "\n",
       "active_in_timeframe        11        12        13        14   15   16  \n",
       "new_user_cohort                                                        \n",
       "202128               0.100000  0.100000  0.100000  0.100000  0.1  0.1  \n",
       "202129               0.045455  0.045455  0.045455  0.045455  0.0  0.0  \n",
       "202130               0.000000  0.000000  0.000000  0.000000  0.0  0.0  \n",
       "202131               0.000000  0.012048  0.012048  0.000000  0.0  0.0  \n",
       "202132               0.011765  0.000000  0.000000  0.000000  0.0  0.0  \n",
       "202133               0.000000  0.000000  0.000000  0.000000  0.0  0.0  \n",
       "202134               0.000000  0.000000  0.000000  0.000000  0.0  0.0  \n",
       "202135               0.000000  0.000000  0.000000  0.000000  0.0  0.0  \n",
       "202136               0.000000  0.000000  0.000000  0.000000  0.0  0.0  \n",
       "202137               0.000000  0.000000  0.000000  0.000000  0.0  0.0  \n",
       "202138               0.000000  0.000000  0.000000  0.000000  0.0  0.0  \n",
       "202139               0.000000  0.000000  0.000000  0.000000  0.0  0.0  \n",
       "202140               0.000000  0.000000  0.000000  0.000000  0.0  0.0  \n",
       "202141               0.000000  0.000000  0.000000  0.000000  0.0  0.0  \n",
       "202142               0.000000  0.000000  0.000000  0.000000  0.0  0.0  \n",
       "202143               0.000000  0.000000  0.000000  0.000000  0.0  0.0  \n",
       "202144               0.000000  0.000000  0.000000  0.000000  0.0  0.0  "
      ]
     },
     "execution_count": 26,
     "metadata": {},
     "output_type": "execute_result"
    }
   ],
   "source": [
    "# select all active moments for each user\n",
    "user_moments = timeframe_df.groupby(['user_id', 'time_aggregation']).aggregate({'moment':'count'})\n",
    "\n",
    "# merge with first seen df\n",
    "user_activity = user_moments.merge(user_first_seen, how='inner', on='user_id')\n",
    "\n",
    "# clean-up and rename columns\n",
    "user_activity.rename(columns={'time_aggregation_min':'new_user_cohort'}, inplace=True)\n",
    "user_activity.drop(columns=['moment_count'], inplace=True)\n",
    "\n",
    "# limit new users to the selected timeframe\n",
    "timeframe_start = timeframe_df['time_aggregation'].min()\n",
    "user_activity = user_activity[(user_activity['new_user_cohort'] >= timeframe_start[1])]\n",
    "\n",
    "# for each new_user_cohort count how many users get back per timeframe\n",
    "retention_input = user_activity.groupby(['new_user_cohort', 'time_aggregation']).aggregate({'user_id':'nunique'})\n",
    "\n",
    "# add the size of each new user cohort\n",
    "cohorts = retention_input.merge(new_users, how='inner', left_on='new_user_cohort', right_on='time_aggregation_min', suffixes=('_active', '_cohort'))\n",
    "\n",
    "# calculate classic retention (so not rolling retention, where users are required to be active each timeframe)\n",
    "cohorts['retention'] = cohorts['user_id_nunique_active'] / cohorts['user_id_nunique_cohort']\n",
    "\n",
    "# now we switch to Pandas, as the dataset is small enough and allows nice visualisation\n",
    "cohorts_pd = cohorts.to_df().reset_index()\n",
    "\n",
    "# create typical retention matrix\n",
    "# NOTE this needs a proper solution for daily data, then the int type does not work to calculate diff. @Hendrik if you know of one, love to hear. Tried cast as datetime64, but that makes a mess out of the cohort visual, as it does not show cohort numbers anymore.\n",
    "cohorts_pd = cohorts_pd.astype({'new_user_cohort': 'int', 'time_aggregation': 'int'})\n",
    "cohorts_pd['active_in_timeframe'] = cohorts_pd.time_aggregation - cohorts_pd.new_user_cohort\n",
    "cohorts_pd.pivot('new_user_cohort', 'active_in_timeframe', 'retention').replace(np.nan, 0)"
   ]
  },
  {
   "cell_type": "code",
   "execution_count": 27,
   "id": "d8b83230-19d7-48f9-8230-5f9540db8771",
   "metadata": {},
   "outputs": [
    {
     "data": {
      "image/png": "[encoded data removed]",
      "text/plain": [
       "<Figure size 1080x720 with 2 Axes>"
      ]
     },
     "metadata": {
      "needs_background": "light"
     },
     "output_type": "display_data"
    }
   ],
   "source": [
    "# NOTE: this does not look well yet for daily data instead of weekly. @hendrik let's discuss as part of review.\n",
    "# remove timeframe 0 where the new users are all there, for better visualisation\n",
    "cohorts_pd.drop(cohorts_pd[cohorts_pd.active_in_timeframe == 0].index, inplace=True)\n",
    "\n",
    "# create retention matrix\n",
    "retention_pd = cohorts_pd.pivot('new_user_cohort', 'active_in_timeframe', 'retention').replace(np.nan, 0)\n",
    "\n",
    "# visualize heatmap\n",
    "plt.figure(figsize=(15,10))\n",
    "fmt = lambda x,pos: '{:.0%}'.format(x)\n",
    "retention_heatmap = sns.heatmap(retention_pd, center=1, linewidths=1, square=True, annot=True, fmt=\".0%\", cbar_kws={'format': FuncFormatter(fmt)})"
   ]
  },
  {
   "cell_type": "markdown",
   "id": "e3cdb781-d188-4f7c-b85d-d96262ff7e69",
   "metadata": {},
   "source": [
    "## Bounce rate"
   ]
  },
  {
   "cell_type": "code",
   "execution_count": 28,
   "id": "98f81a91-e85c-4f96-b534-dd39fdacf55e",
   "metadata": {},
   "outputs": [
    {
     "data": {
      "text/html": [
       "<div>\n",
       "<style scoped>\n",
       "    .dataframe tbody tr th:only-of-type {\n",
       "        vertical-align: middle;\n",
       "    }\n",
       "\n",
       "    .dataframe tbody tr th {\n",
       "        vertical-align: top;\n",
       "    }\n",
       "\n",
       "    .dataframe thead th {\n",
       "        text-align: right;\n",
       "    }\n",
       "</style>\n",
       "<table border=\"1\" class=\"dataframe\">\n",
       "  <thead>\n",
       "    <tr style=\"text-align: right;\">\n",
       "      <th></th>\n",
       "      <th>bounce_rate</th>\n",
       "    </tr>\n",
       "    <tr>\n",
       "      <th>time_aggregation</th>\n",
       "      <th></th>\n",
       "    </tr>\n",
       "  </thead>\n",
       "  <tbody>\n",
       "    <tr>\n",
       "      <th>202144</th>\n",
       "      <td>0.585366</td>\n",
       "    </tr>\n",
       "    <tr>\n",
       "      <th>202143</th>\n",
       "      <td>0.673077</td>\n",
       "    </tr>\n",
       "    <tr>\n",
       "      <th>202142</th>\n",
       "      <td>0.705882</td>\n",
       "    </tr>\n",
       "    <tr>\n",
       "      <th>202141</th>\n",
       "      <td>0.750000</td>\n",
       "    </tr>\n",
       "    <tr>\n",
       "      <th>202140</th>\n",
       "      <td>0.661417</td>\n",
       "    </tr>\n",
       "  </tbody>\n",
       "</table>\n",
       "</div>"
      ],
      "text/plain": [
       "                  bounce_rate\n",
       "time_aggregation             \n",
       "202144               0.585366\n",
       "202143               0.673077\n",
       "202142               0.705882\n",
       "202141               0.750000\n",
       "202140               0.661417"
      ]
     },
     "execution_count": 28,
     "metadata": {},
     "output_type": "execute_result"
    }
   ],
   "source": [
    "# gather sessions, hits per timeframe\n",
    "hits_sessions = timeframe_df[['time_aggregation', 'session_id', 'session_hit_number']]\n",
    "\n",
    "# calculate hits per session\n",
    "hits_per_session = hits_sessions.groupby(['time_aggregation', 'session_id']).aggregate({'session_hit_number':'nunique'})\n",
    "\n",
    "# select sessions with only one hit\n",
    "hit_selector = (hits_per_session['session_hit_number_nunique'] == 1)\n",
    "single_hit_sessions = hits_per_session[hit_selector].to_frame()\n",
    "\n",
    "# count these single hit sessions per timeframe\n",
    "bounced_sessions = single_hit_sessions.groupby('time_aggregation').aggregate({'session_id':'nunique'})\n",
    "\n",
    "# merge with total sessions\n",
    "bounce_rate = bounced_sessions.merge(sessions, how='inner', on='time_aggregation', suffixes=('_bounce', '_total'))\n",
    "\n",
    "# calculate bounce rate\n",
    "bounce_rate['bounce_rate'] = bounce_rate['session_id_nunique_bounce'] / bounce_rate['session_id_nunique_total']\n",
    "\n",
    "# clean-up columns\n",
    "bounce_rate.drop(columns=['session_id_nunique_bounce', 'session_id_nunique_total'], inplace=True)\n",
    "\n",
    "bounce_rate.sort_values(by='time_aggregation', ascending=False).head()"
   ]
  },
  {
   "cell_type": "code",
   "execution_count": 29,
   "id": "974447a7-774a-4713-bb22-61c6b41cd330",
   "metadata": {},
   "outputs": [
    {
     "data": {
      "text/plain": [
       "<AxesSubplot:xlabel='time_aggregation'>"
      ]
     },
     "execution_count": 29,
     "metadata": {},
     "output_type": "execute_result"
    },
    {
     "data": {
      "image/png": "[encoded data removed]",
      "text/plain": [
       "<Figure size 432x288 with 1 Axes>"
      ]
     },
     "metadata": {
      "needs_background": "light"
     },
     "output_type": "display_data"
    }
   ],
   "source": [
    "# visualize bounce rate\n",
    "bounce_rate[['bounce_rate']].sort_values(by='time_aggregation', ascending=True).head(60).plot()"
   ]
  },
  {
   "cell_type": "markdown",
   "id": "93759009-0366-446a-b759-3f6d5a9a8101",
   "metadata": {},
   "source": [
    "## User agent"
   ]
  },
  {
   "cell_type": "code",
   "execution_count": 30,
   "id": "5e27cc99-43d2-42cc-8c7e-6273fa27e62e",
   "metadata": {},
   "outputs": [
    {
     "data": {
      "text/html": [
       "<div>\n",
       "<style scoped>\n",
       "    .dataframe tbody tr th:only-of-type {\n",
       "        vertical-align: middle;\n",
       "    }\n",
       "\n",
       "    .dataframe tbody tr th {\n",
       "        vertical-align: top;\n",
       "    }\n",
       "\n",
       "    .dataframe thead th {\n",
       "        text-align: right;\n",
       "    }\n",
       "</style>\n",
       "<table border=\"1\" class=\"dataframe\">\n",
       "  <thead>\n",
       "    <tr style=\"text-align: right;\">\n",
       "      <th></th>\n",
       "      <th></th>\n",
       "      <th>session_id_nunique</th>\n",
       "      <th>user_id_nunique</th>\n",
       "      <th>share_of_users</th>\n",
       "    </tr>\n",
       "    <tr>\n",
       "      <th>time_aggregation</th>\n",
       "      <th>user_agent</th>\n",
       "      <th></th>\n",
       "      <th></th>\n",
       "      <th></th>\n",
       "    </tr>\n",
       "  </thead>\n",
       "  <tbody>\n",
       "    <tr>\n",
       "      <th rowspan=\"5\" valign=\"top\">202144</th>\n",
       "      <th>Mozilla/5.0 (Macintosh; Intel Mac OS X 10_15_7) AppleWebKit/537.36 (KHTML, like Gecko) Chrome/95.0.4638.54 Safari/537.36</th>\n",
       "      <td>12</td>\n",
       "      <td>6</td>\n",
       "      <td>0.004773</td>\n",
       "    </tr>\n",
       "    <tr>\n",
       "      <th>Mozilla/5.0 (Windows NT 10.0; WOW64) AppleWebKit/537.36 (KHTML, like Gecko) Chrome/94.0.4606.81 Safari/537.36</th>\n",
       "      <td>6</td>\n",
       "      <td>6</td>\n",
       "      <td>0.004773</td>\n",
       "    </tr>\n",
       "    <tr>\n",
       "      <th>Mozilla/5.0 (X11; Linux x86_64) AppleWebKit/537.36 (KHTML, like Gecko) Chrome/94.0.4606.81 Safari/537.36</th>\n",
       "      <td>4</td>\n",
       "      <td>4</td>\n",
       "      <td>0.003182</td>\n",
       "    </tr>\n",
       "    <tr>\n",
       "      <th>Mozilla/5.0 (Macintosh; Intel Mac OS X 11_2_3) AppleWebKit/537.36 (KHTML, like Gecko) Chrome/89.0.4389.114 Safari/537.36</th>\n",
       "      <td>3</td>\n",
       "      <td>3</td>\n",
       "      <td>0.002387</td>\n",
       "    </tr>\n",
       "    <tr>\n",
       "      <th>Mozilla/5.0 (Windows NT 10.0; Win64; x64) AppleWebKit/537.36 (KHTML, like Gecko) Chrome/95.0.4638.54 Safari/537.36</th>\n",
       "      <td>3</td>\n",
       "      <td>3</td>\n",
       "      <td>0.002387</td>\n",
       "    </tr>\n",
       "  </tbody>\n",
       "</table>\n",
       "</div>"
      ],
      "text/plain": [
       "                                                                     session_id_nunique  \\\n",
       "time_aggregation user_agent                                                               \n",
       "202144           Mozilla/5.0 (Macintosh; Intel Mac OS X 10_15_7)...                  12   \n",
       "                 Mozilla/5.0 (Windows NT 10.0; WOW64) AppleWebKi...                   6   \n",
       "                 Mozilla/5.0 (X11; Linux x86_64) AppleWebKit/537...                   4   \n",
       "                 Mozilla/5.0 (Macintosh; Intel Mac OS X 11_2_3) ...                   3   \n",
       "                 Mozilla/5.0 (Windows NT 10.0; Win64; x64) Apple...                   3   \n",
       "\n",
       "                                                                     user_id_nunique  \\\n",
       "time_aggregation user_agent                                                            \n",
       "202144           Mozilla/5.0 (Macintosh; Intel Mac OS X 10_15_7)...                6   \n",
       "                 Mozilla/5.0 (Windows NT 10.0; WOW64) AppleWebKi...                6   \n",
       "                 Mozilla/5.0 (X11; Linux x86_64) AppleWebKit/537...                4   \n",
       "                 Mozilla/5.0 (Macintosh; Intel Mac OS X 11_2_3) ...                3   \n",
       "                 Mozilla/5.0 (Windows NT 10.0; Win64; x64) Apple...                3   \n",
       "\n",
       "                                                                     share_of_users  \n",
       "time_aggregation user_agent                                                          \n",
       "202144           Mozilla/5.0 (Macintosh; Intel Mac OS X 10_15_7)...        0.004773  \n",
       "                 Mozilla/5.0 (Windows NT 10.0; WOW64) AppleWebKi...        0.004773  \n",
       "                 Mozilla/5.0 (X11; Linux x86_64) AppleWebKit/537...        0.003182  \n",
       "                 Mozilla/5.0 (Macintosh; Intel Mac OS X 11_2_3) ...        0.002387  \n",
       "                 Mozilla/5.0 (Windows NT 10.0; Win64; x64) Apple...        0.002387  "
      ]
     },
     "execution_count": 30,
     "metadata": {},
     "output_type": "execute_result"
    }
   ],
   "source": [
    "# add a new column to df with the user_agent from the global contexts\n",
    "timeframe_df['user_agent'] = timeframe_df.global_contexts.json.user_agent\n",
    "\n",
    "# gather overall basic stats grouped per user_agent\n",
    "user_agent_counts = timeframe_df.groupby(['time_aggregation', 'user_agent']).aggregate({'user_id':'nunique', 'session_id':'nunique'})\n",
    "\n",
    "# add total users and calculate share per user_agent\n",
    "user_agent_counts['total_users'] = total_users[1]\n",
    "\n",
    "# calculate share per user_agent\n",
    "user_agent_counts['share_of_users'] = user_agent_counts['user_id_nunique'] / user_agent_counts['total_users']\n",
    "\n",
    "# clean-up colums\n",
    "user_agent_counts.drop(columns=['total_users'], inplace=True)\n",
    "\n",
    "user_agent_counts.sort_values(by=['time_aggregation', 'user_id_nunique'], ascending=False).head()"
   ]
  },
  {
   "cell_type": "markdown",
   "id": "7ea590d1-973d-4a3a-a669-eb1e0781f2e6",
   "metadata": {},
   "source": [
    "## Referer"
   ]
  },
  {
   "cell_type": "code",
   "execution_count": 31,
   "id": "256be167-341e-41dc-ba99-9b42abf22388",
   "metadata": {},
   "outputs": [
    {
     "data": {
      "text/html": [
       "<div>\n",
       "<style scoped>\n",
       "    .dataframe tbody tr th:only-of-type {\n",
       "        vertical-align: middle;\n",
       "    }\n",
       "\n",
       "    .dataframe tbody tr th {\n",
       "        vertical-align: top;\n",
       "    }\n",
       "\n",
       "    .dataframe thead th {\n",
       "        text-align: right;\n",
       "    }\n",
       "</style>\n",
       "<table border=\"1\" class=\"dataframe\">\n",
       "  <thead>\n",
       "    <tr style=\"text-align: right;\">\n",
       "      <th></th>\n",
       "      <th></th>\n",
       "      <th>session_id_nunique</th>\n",
       "      <th>user_id_nunique</th>\n",
       "      <th>share_of_users</th>\n",
       "    </tr>\n",
       "    <tr>\n",
       "      <th>time_aggregation</th>\n",
       "      <th>referer</th>\n",
       "      <th></th>\n",
       "      <th></th>\n",
       "      <th></th>\n",
       "    </tr>\n",
       "  </thead>\n",
       "  <tbody>\n",
       "    <tr>\n",
       "      <th rowspan=\"2\" valign=\"top\">202144</th>\n",
       "      <th>https://objectiv.io/</th>\n",
       "      <td>35</td>\n",
       "      <td>27</td>\n",
       "      <td>0.021480</td>\n",
       "    </tr>\n",
       "    <tr>\n",
       "      <th>https://www.objectiv.io/</th>\n",
       "      <td>6</td>\n",
       "      <td>5</td>\n",
       "      <td>0.003978</td>\n",
       "    </tr>\n",
       "    <tr>\n",
       "      <th rowspan=\"3\" valign=\"top\">202143</th>\n",
       "      <th>https://objectiv.io/</th>\n",
       "      <td>96</td>\n",
       "      <td>81</td>\n",
       "      <td>0.064439</td>\n",
       "    </tr>\n",
       "    <tr>\n",
       "      <th>https://www.objectiv.io/</th>\n",
       "      <td>11</td>\n",
       "      <td>11</td>\n",
       "      <td>0.008751</td>\n",
       "    </tr>\n",
       "    <tr>\n",
       "      <th>https://objectiv.io/jobs</th>\n",
       "      <td>2</td>\n",
       "      <td>2</td>\n",
       "      <td>0.001591</td>\n",
       "    </tr>\n",
       "  </tbody>\n",
       "</table>\n",
       "</div>"
      ],
      "text/plain": [
       "                                           session_id_nunique  \\\n",
       "time_aggregation referer                                        \n",
       "202144           https://objectiv.io/                      35   \n",
       "                 https://www.objectiv.io/                   6   \n",
       "202143           https://objectiv.io/                      96   \n",
       "                 https://www.objectiv.io/                  11   \n",
       "                 https://objectiv.io/jobs                   2   \n",
       "\n",
       "                                           user_id_nunique  share_of_users  \n",
       "time_aggregation referer                                                    \n",
       "202144           https://objectiv.io/                   27        0.021480  \n",
       "                 https://www.objectiv.io/                5        0.003978  \n",
       "202143           https://objectiv.io/                   81        0.064439  \n",
       "                 https://www.objectiv.io/               11        0.008751  \n",
       "                 https://objectiv.io/jobs                2        0.001591  "
      ]
     },
     "execution_count": 31,
     "metadata": {},
     "output_type": "execute_result"
    }
   ],
   "source": [
    "# add a new column to dataframe with the referer from the global contexts\n",
    "timeframe_df['referer'] = timeframe_df.global_contexts.json.get_from_context_with_type_series(type='HttpContext', key='referer')\n",
    "\n",
    "# gather overall basic stats grouped per referer\n",
    "referer_counts = timeframe_df.groupby(['time_aggregation', 'referer']).aggregate({'user_id':'nunique', 'session_id':'nunique'})\n",
    "\n",
    "# add total users and calculate share per referer\n",
    "referer_counts['total_users'] = total_users[1]\n",
    "\n",
    "# calculate share per referer\n",
    "referer_counts['share_of_users'] = referer_counts['user_id_nunique'] / referer_counts['total_users']\n",
    "\n",
    "# clean-up colums\n",
    "referer_counts.drop(columns=['total_users'], inplace=True)\n",
    "\n",
    "referer_counts.sort_values(by=['time_aggregation', 'user_id_nunique'], ascending=False).head()"
   ]
  },
  {
   "cell_type": "markdown",
   "id": "aefd5068-0a4e-4bfb-9e4a-7ba1cfda81bc",
   "metadata": {},
   "source": [
    "## User timeline"
   ]
  },
  {
   "cell_type": "code",
   "execution_count": 32,
   "id": "e8928f24-9f52-4f44-871b-69fa9628b5a6",
   "metadata": {},
   "outputs": [
    {
     "data": {
      "text/html": [
       "<div>\n",
       "<style scoped>\n",
       "    .dataframe tbody tr th:only-of-type {\n",
       "        vertical-align: middle;\n",
       "    }\n",
       "\n",
       "    .dataframe tbody tr th {\n",
       "        vertical-align: top;\n",
       "    }\n",
       "\n",
       "    .dataframe thead th {\n",
       "        text-align: right;\n",
       "    }\n",
       "</style>\n",
       "<table border=\"1\" class=\"dataframe\">\n",
       "  <thead>\n",
       "    <tr style=\"text-align: right;\">\n",
       "      <th></th>\n",
       "      <th>moment</th>\n",
       "      <th>event_type</th>\n",
       "      <th>event_location</th>\n",
       "      <th>user_agent</th>\n",
       "      <th>referer</th>\n",
       "    </tr>\n",
       "    <tr>\n",
       "      <th>event_id</th>\n",
       "      <th></th>\n",
       "      <th></th>\n",
       "      <th></th>\n",
       "      <th></th>\n",
       "      <th></th>\n",
       "    </tr>\n",
       "  </thead>\n",
       "  <tbody>\n",
       "  </tbody>\n",
       "</table>\n",
       "</div>"
      ],
      "text/plain": [
       "Empty DataFrame\n",
       "Columns: [moment, event_type, event_location, user_agent, referer]\n",
       "Index: []"
      ]
     },
     "execution_count": 32,
     "metadata": {},
     "output_type": "execute_result"
    }
   ],
   "source": [
    "# show the timeline of an indivual user's events\n",
    "# NOTE: we can make this better with feature selection & aggregation\n",
    "\n",
    "# select the spefic user we want to replay\n",
    "# NOTE: .astype('string') is more something buhtuh should handle, on list\n",
    "user_selector = (timeframe_df['user_id'].astype('string') == '320db8ee-847c-424b-8291-c65d021575aa')\n",
    "\n",
    "# create df with only this user's events\n",
    "selected_user_df = timeframe_df[user_selector]\n",
    "\n",
    "# NOTE: we can apply feature selection and maybe sankey visual here\n",
    "# timeline of this user's events\n",
    "user_timeline = selected_user_df[['moment','event_type', 'event_location', 'user_agent', 'referer']]\n",
    "\n",
    "user_timeline.sort_values(by='moment', ascending=True).head()"
   ]
  },
  {
   "cell_type": "markdown",
   "id": "b59aba6a-6bdb-4a2c-831e-a3655d597a88",
   "metadata": {},
   "source": [
    "## Frequency"
   ]
  },
  {
   "cell_type": "code",
   "execution_count": 33,
   "id": "b00e3f77-417b-4e77-8157-81bdc93fc0f0",
   "metadata": {},
   "outputs": [
    {
     "data": {
      "text/html": [
       "<div>\n",
       "<style scoped>\n",
       "    .dataframe tbody tr th:only-of-type {\n",
       "        vertical-align: middle;\n",
       "    }\n",
       "\n",
       "    .dataframe tbody tr th {\n",
       "        vertical-align: top;\n",
       "    }\n",
       "\n",
       "    .dataframe thead th {\n",
       "        text-align: right;\n",
       "    }\n",
       "</style>\n",
       "<table border=\"1\" class=\"dataframe\">\n",
       "  <thead>\n",
       "    <tr style=\"text-align: right;\">\n",
       "      <th></th>\n",
       "      <th>user_id_nunique</th>\n",
       "      <th>share_of_users</th>\n",
       "    </tr>\n",
       "    <tr>\n",
       "      <th>session_id_nunique</th>\n",
       "      <th></th>\n",
       "      <th></th>\n",
       "    </tr>\n",
       "  </thead>\n",
       "  <tbody>\n",
       "    <tr>\n",
       "      <th>1</th>\n",
       "      <td>1104</td>\n",
       "      <td>0.878282</td>\n",
       "    </tr>\n",
       "    <tr>\n",
       "      <th>2</th>\n",
       "      <td>102</td>\n",
       "      <td>0.081146</td>\n",
       "    </tr>\n",
       "    <tr>\n",
       "      <th>3</th>\n",
       "      <td>21</td>\n",
       "      <td>0.016706</td>\n",
       "    </tr>\n",
       "    <tr>\n",
       "      <th>4</th>\n",
       "      <td>11</td>\n",
       "      <td>0.008751</td>\n",
       "    </tr>\n",
       "    <tr>\n",
       "      <th>5</th>\n",
       "      <td>4</td>\n",
       "      <td>0.003182</td>\n",
       "    </tr>\n",
       "  </tbody>\n",
       "</table>\n",
       "</div>"
      ],
      "text/plain": [
       "                    user_id_nunique  share_of_users\n",
       "session_id_nunique                                 \n",
       "1                              1104        0.878282\n",
       "2                               102        0.081146\n",
       "3                                21        0.016706\n",
       "4                                11        0.008751\n",
       "5                                 4        0.003182"
      ]
     },
     "execution_count": 33,
     "metadata": {},
     "output_type": "execute_result"
    }
   ],
   "source": [
    "# number of total sessions per user\n",
    "total_sessions_user = timeframe_df.groupby(['user_id']).aggregate({'session_id':'nunique'})\n",
    "\n",
    "# calculate frequency\n",
    "frequency = total_sessions_user.groupby(['session_id_nunique']).aggregate({'user_id':'nunique'})\n",
    "\n",
    "# add total users and calculate share per number of sessions\n",
    "frequency['share_of_users'] = frequency['user_id_nunique'] / total_users[1]\n",
    "\n",
    "frequency.sort_values(by='session_id_nunique', ascending=True).head()"
   ]
  },
  {
   "cell_type": "code",
   "execution_count": 34,
   "id": "66f24409-afd6-4b80-ba15-b787cb219fb8",
   "metadata": {},
   "outputs": [
    {
     "data": {
      "text/plain": [
       "<AxesSubplot:xlabel='session_id_nunique'>"
      ]
     },
     "execution_count": 34,
     "metadata": {},
     "output_type": "execute_result"
    },
    {
     "data": {
      "image/png": "[encoded data removed]",
      "text/plain": [
       "<Figure size 432x288 with 1 Axes>"
      ]
     },
     "metadata": {
      "needs_background": "light"
     },
     "output_type": "display_data"
    }
   ],
   "source": [
    "# visualize frequency\n",
    "frequency[['share_of_users']].sort_values(by='session_id_nunique', ascending=True).head(60).plot(kind='bar')"
   ]
  },
  {
   "cell_type": "markdown",
   "id": "b3b3f8b0-8631-4f27-b09d-253dffd3ecd8",
   "metadata": {},
   "source": [
    "## Recency"
   ]
  },
  {
   "cell_type": "code",
   "execution_count": 35,
   "id": "cc3dd9c9-e174-465c-8bf8-02515e092038",
   "metadata": {},
   "outputs": [
    {
     "data": {
      "text/html": [
       "<div>\n",
       "<style scoped>\n",
       "    .dataframe tbody tr th:only-of-type {\n",
       "        vertical-align: middle;\n",
       "    }\n",
       "\n",
       "    .dataframe tbody tr th {\n",
       "        vertical-align: top;\n",
       "    }\n",
       "\n",
       "    .dataframe thead th {\n",
       "        text-align: right;\n",
       "    }\n",
       "</style>\n",
       "<table border=\"1\" class=\"dataframe\">\n",
       "  <thead>\n",
       "    <tr style=\"text-align: right;\">\n",
       "      <th></th>\n",
       "      <th>user_id_nunique</th>\n",
       "      <th>recency_mean</th>\n",
       "    </tr>\n",
       "    <tr>\n",
       "      <th>time_aggregation</th>\n",
       "      <th></th>\n",
       "      <th></th>\n",
       "    </tr>\n",
       "  </thead>\n",
       "  <tbody>\n",
       "    <tr>\n",
       "      <th>202144</th>\n",
       "      <td>5</td>\n",
       "      <td>7.500000</td>\n",
       "    </tr>\n",
       "    <tr>\n",
       "      <th>202143</th>\n",
       "      <td>14</td>\n",
       "      <td>5.944444</td>\n",
       "    </tr>\n",
       "    <tr>\n",
       "      <th>202142</th>\n",
       "      <td>12</td>\n",
       "      <td>6.571429</td>\n",
       "    </tr>\n",
       "    <tr>\n",
       "      <th>202141</th>\n",
       "      <td>19</td>\n",
       "      <td>7.230769</td>\n",
       "    </tr>\n",
       "    <tr>\n",
       "      <th>202140</th>\n",
       "      <td>20</td>\n",
       "      <td>6.909091</td>\n",
       "    </tr>\n",
       "  </tbody>\n",
       "</table>\n",
       "</div>"
      ],
      "text/plain": [
       "                  user_id_nunique  recency_mean\n",
       "time_aggregation                               \n",
       "202144                          5      7.500000\n",
       "202143                         14      5.944444\n",
       "202142                         12      6.571429\n",
       "202141                         19      7.230769\n",
       "202140                         20      6.909091"
      ]
     },
     "execution_count": 35,
     "metadata": {},
     "output_type": "execute_result"
    }
   ],
   "source": [
    "# count the number of active days per user\n",
    "user_active_check = timeframe_df.groupby(['user_id']).aggregate({'day':'nunique'})\n",
    "\n",
    "# select all users that had more than one active day\n",
    "user_active_check = user_active_check[(user_active_check['day_nunique'] > 1)]\n",
    "\n",
    "# select all active days for each user\n",
    "user_days = timeframe_df.groupby(['user_id', 'day']).aggregate({'time_aggregation':'min'})\n",
    "\n",
    "# merge with users that have more than one active day\n",
    "user_days = user_days.merge(user_active_check, how='inner', on='user_id')\n",
    "\n",
    "# reset the index so we can use the user_id & day columns\n",
    "user_days = user_days.reset_index()\n",
    "\n",
    "# get previous (because of the sorting) day for each user\n",
    "window = user_days.sort_values('day').window(['user_id'])\n",
    "user_days['prev_day'] = user_days.day.window_lag(window)\n",
    "\n",
    "# materizalize the df before we apply an expression on window\n",
    "user_days = user_days.get_df_materialized_model()\n",
    "\n",
    "# calculate the number of days between an active day and prev_day\n",
    "user_days['recency'] = user_days['day'] - user_days['prev_day']\n",
    "\n",
    "# rename columns\n",
    "user_days.rename(columns={'time_aggregation_min':'time_aggregation'}, inplace=True)\n",
    "\n",
    "# calculate the recency per time_aggregation\n",
    "recency = user_days.groupby(['time_aggregation']).aggregate({'recency':'mean','user_id':'nunique'})\n",
    "\n",
    "recency.sort_values(by='time_aggregation', ascending=False).head()"
   ]
  },
  {
   "cell_type": "code",
   "execution_count": 36,
   "id": "b1fdbaf6-6c0d-4f8c-874e-2ab7f8c96ddb",
   "metadata": {},
   "outputs": [
    {
     "data": {
      "text/plain": [
       "<AxesSubplot:xlabel='time_aggregation'>"
      ]
     },
     "execution_count": 36,
     "metadata": {},
     "output_type": "execute_result"
    },
    {
     "data": {
      "image/png": "[encoded data removed]",
      "text/plain": [
       "<Figure size 432x288 with 1 Axes>"
      ]
     },
     "metadata": {
      "needs_background": "light"
     },
     "output_type": "display_data"
    }
   ],
   "source": [
    "# visualize recency\n",
    "recency[['recency_mean']].sort_values(by='time_aggregation', ascending=True).head(60).plot()"
   ]
  },
  {
   "cell_type": "markdown",
   "id": "41b98525-b831-4747-8085-4b883ab76f7e",
   "metadata": {},
   "source": [
    "## Get metrics to production"
   ]
  },
  {
   "cell_type": "code",
   "execution_count": 37,
   "id": "ee2cba1b-4018-4bb3-a014-bb748ac9728a",
   "metadata": {},
   "outputs": [
    {
     "name": "stdout",
     "output_type": "stream",
     "text": [
      "with ExtractedContexts___b2a80076da9ff7590b6632157368c76c as (\n",
      "SELECT *,\n",
      "        value->>'_type' AS event_type,\n",
      "        JSON_EXTRACT_PATH(value, 'global_contexts') AS global_contexts,\n",
      "        JSON_EXTRACT_PATH(value, 'location_stack') AS location_stack,\n",
      "        JSON_EXTRACT_PATH(value, 'time') AS time,\n",
      "        JSON_EXTRACT_PATH(value, '_types') AS event_types\n",
      " FROM data\n",
      " ),\n",
      "selected_stacks_0daec28eae360a61142b2852b2d86d7c as (\n",
      "SELECT   event_id,\n",
      "         Array_to_string(Array_agg(Cast(x AS TEXT)),',') AS stack_selection,\n",
      "         Array_to_json(Array_agg(Row_to_json(x))) as selected_stack_location\n",
      "FROM     ExtractedContexts___b2a80076da9ff7590b6632157368c76c,\n",
      "         json_to_recordset(location_stack) AS x(_type text,id text)\n",
      "GROUP BY event_id\n",
      "ORDER BY event_id\n",
      "),\n",
      "HashedFeatures___0daec28eae360a61142b2852b2d86d7c as (SELECT *,\n",
      "       md5(concat(stack_selection,event_type)) as feature_hash\n",
      "FROM ExtractedContexts___b2a80076da9ff7590b6632157368c76c\n",
      "JOIN selected_stacks_0daec28eae360a61142b2852b2d86d7c USING (event_id)\n",
      "),\n",
      "FeatureTable___f3e385d75d725cc1f47b4bb86f70f1a9 as (\n",
      "SELECT DISTINCT feature_hash,\n",
      "                stack_selection as feature,\n",
      "                'Pretty' || stack_selection as feature_pretty_name\n",
      "FROM HashedFeatures___0daec28eae360a61142b2852b2d86d7c\n",
      "),\n",
      "session_starts_df5571e10d2a0bb3cd0f3e933d8c8826 as (\n",
      "    select\n",
      "        cookie_id as cookie_id,\n",
      "        event_id as event_id,\n",
      "        coalesce(\n",
      "            extract(\n",
      "                epoch from (moment - lag(moment, 1) over (partition by cookie_id order by moment, event_id))\n",
      "            ) > 123,\n",
      "            true\n",
      "        ) as is_start_of_session,\n",
      "        moment as moment\n",
      "    from HashedFeatures___0daec28eae360a61142b2852b2d86d7c\n",
      "),\n",
      "session_id_and_start_df5571e10d2a0bb3cd0f3e933d8c8826 as (\n",
      "    select\n",
      "           -- TODO: do something smart so this can scale.\n",
      "           -- currently we always have to query all data. We want to have consistent session_ids, but don't\n",
      "           -- want to calculate them from scratch every time.\n",
      "           -- uuid_generate_v1() as session_id,\n",
      "           row_number() over (order by moment asc) as session_id,\n",
      "           cookie_id,\n",
      "           event_id,\n",
      "           moment as moment\n",
      "    from session_starts_df5571e10d2a0bb3cd0f3e933d8c8826\n",
      "    where is_start_of_session\n",
      "),\n",
      "SessionizedData___df5571e10d2a0bb3cd0f3e933d8c8826 as (select\n",
      "        s.session_id as session_id,\n",
      "        row_number() over (partition by s.session_id order by d.moment, d.event_id asc) as session_hit_number,\n",
      "        d.cookie_id as user_id,\n",
      "        d.*\n",
      "from HashedFeatures___0daec28eae360a61142b2852b2d86d7c as d\n",
      "inner join session_id_and_start_df5571e10d2a0bb3cd0f3e933d8c8826 as s on s.cookie_id = d.cookie_id and s.moment <= d.moment\n",
      "where not exists (\n",
      "    select *\n",
      "    from session_id_and_start_df5571e10d2a0bb3cd0f3e933d8c8826 as s2\n",
      "    where\n",
      "      -- a session start for the same cookie\n",
      "          s2.cookie_id = d.cookie_id\n",
      "      and s2.moment <= d.moment\n",
      "      -- and that session is closer to pq.moment than the selected session s\n",
      "      and s2.moment > s.moment\n",
      ")\n",
      "order by session_id, moment\n",
      "),\n",
      "BasicFeatures___64e06d70b0d21e6860980c0ee5fc52f2 as (\n",
      "SELECT \n",
      "  data.*, \n",
      "  bm.feature, \n",
      "  bm.feature_pretty_name\n",
      "FROM SessionizedData___df5571e10d2a0bb3cd0f3e933d8c8826 as data\n",
      "JOIN FeatureTable___f3e385d75d725cc1f47b4bb86f70f1a9 bm USING (feature_hash)\n",
      "),\n",
      "BachSqlModel___1442781c70caec989ae5a0af7ac9cc25 as (SELECT * FROM BasicFeatures___64e06d70b0d21e6860980c0ee5fc52f2),\n",
      "getitem_where_boolean___10ceabb54b326a927a9ce34ddb4532d6 as (select \"event_id\", \"session_id\", \"session_hit_number\", \"user_id\", \"day\", \"moment\", \"cookie_id\", cast(\"value\" as jsonb) as \"value\", \"event_type\", cast(\"global_contexts\" as jsonb) as \"global_contexts\", cast(\"location_stack\" as jsonb) as \"location_stack\", cast(\"time\" as jsonb) as \"time\", cast(\"event_types\" as jsonb) as \"event_types\", \"stack_selection\", cast(\"selected_stack_location\" as jsonb) as \"selected_stack_location\", \"feature_hash\", \"feature\", \"feature_pretty_name\" from BachSqlModel___1442781c70caec989ae5a0af7ac9cc25 where (((\"moment\") >= (cast('2021-06-01' as date))) AND ((\"moment\") < (cast('2021-11-04' as date))))  limit all),\n",
      "getitem_where_boolean___fe04d8546d5e089e180b5477abc57111 as (select \"event_id\", \"session_id\", \"session_hit_number\", \"user_id\", \"day\", \"moment\", \"cookie_id\", cast(\"value\" as jsonb) as \"value\", \"event_type\", cast(\"global_contexts\" as jsonb) as \"global_contexts\", cast(\"location_stack\" as jsonb) as \"location_stack\", cast(\"time\" as jsonb) as \"time\", cast(\"event_types\" as jsonb) as \"event_types\", \"stack_selection\", cast(\"selected_stack_location\" as jsonb) as \"selected_stack_location\", \"feature_hash\", \"feature\", \"feature_pretty_name\", to_char(\"moment\", 'YYYYIW') as \"time_aggregation\", \n",
      "        jsonb_path_query_first(cast(\"global_contexts\" as jsonb),\n",
      "        '$[*] ? (@._type == $type)',\n",
      "        '{\"type\":\"ApplicationContext\"}') ->> 'id' as \"user_application\" from getitem_where_boolean___10ceabb54b326a927a9ce34ddb4532d6 where (\n",
      "        jsonb_path_query_first(cast(\"global_contexts\" as jsonb),\n",
      "        '$[*] ? (@._type == $type)',\n",
      "        '{\"type\":\"ApplicationContext\"}') ->> 'id') = ('objectiv-website')  limit all),\n",
      "getitem_where_boolean___c642cc66e51509a50a68c0bb00674930 as (select \"event_id\", \"session_id\", \"session_hit_number\", \"user_id\", \"day\", \"moment\", \"cookie_id\", cast(\"value\" as jsonb) as \"value\", \"event_type\", cast(\"global_contexts\" as jsonb) as \"global_contexts\", cast(\"location_stack\" as jsonb) as \"location_stack\", cast(\"time\" as jsonb) as \"time\", cast(\"event_types\" as jsonb) as \"event_types\", \"stack_selection\", cast(\"selected_stack_location\" as jsonb) as \"selected_stack_location\", \"feature_hash\", \"feature\", \"feature_pretty_name\", \"time_aggregation\", \"user_application\", \n",
      "        jsonb_path_query_first(cast(\"global_contexts\" as jsonb),\n",
      "        '$[*] ? (@._type == $type)',\n",
      "        '{\"type\":\"HttpContext\"}') ->> 'remote_address' as \"ip\" from getitem_where_boolean___fe04d8546d5e089e180b5477abc57111 where (((((\n",
      "        jsonb_path_query_first(cast(\"global_contexts\" as jsonb),\n",
      "        '$[*] ? (@._type == $type)',\n",
      "        '{\"type\":\"HttpContext\"}') ->> 'remote_address') <> ('144.178.74.106')) AND ((\n",
      "        jsonb_path_query_first(cast(\"global_contexts\" as jsonb),\n",
      "        '$[*] ? (@._type == $type)',\n",
      "        '{\"type\":\"HttpContext\"}') ->> 'remote_address') <> ('77.160.42.36')))) AND ((\n",
      "        jsonb_path_query_first(cast(\"global_contexts\" as jsonb),\n",
      "        '$[*] ? (@._type == $type)',\n",
      "        '{\"type\":\"HttpContext\"}') ->> 'remote_address') <> ('86.86.89.85')))  limit all),\n",
      "getitem_having_boolean___5e89fdaab39efb4595a7a52a070dc165 as (\n",
      "                    select \"session_id\", min(\"moment\") as \"moment_min\", max(\"moment\") as \"moment_max\", min(\"time_aggregation\") as \"time_aggregation_min\", (max(\"moment\")) - (min(\"moment\")) as \"session_duration\"\n",
      "                    from getitem_where_boolean___c642cc66e51509a50a68c0bb00674930\n",
      "                    \n",
      "                    group by \"session_id\"\n",
      "                    having ((max(\"moment\")) - (min(\"moment\"))) > ('0')\n",
      "                     limit all\n",
      "                    )\n",
      "\n",
      "                    select \"time_aggregation_min\" as \"time_aggregation\", avg(\"session_duration\") as \"session_duration_mean\"\n",
      "                    from getitem_having_boolean___5e89fdaab39efb4595a7a52a070dc165\n",
      "                    \n",
      "                    group by \"time_aggregation_min\"\n",
      "                    \n",
      "                     limit all\n",
      "                    \n"
     ]
    }
   ],
   "source": [
    "# We're working on export functionality to dbt, until then, you can use view_sql() to get the SQL that runs on the full dataset for any metric above\n",
    "\n",
    "# As an example, the SQL for the session duration metric\n",
    "print(avg_session_duration.view_sql())"
   ]
  }
 ],
 "metadata": {
  "kernelspec": {
   "display_name": "Python 3 (ipykernel)",
   "language": "python",
   "name": "python3"
  },
  "language_info": {
   "codemirror_mode": {
    "name": "ipython",
    "version": 3
   },
   "file_extension": ".py",
   "mimetype": "text/x-python",
   "name": "python",
   "nbconvert_exporter": "python",
   "pygments_lexer": "ipython3",
   "version": "3.9.6"
  }
 },
 "nbformat": 4,
 "nbformat_minor": 5
}
