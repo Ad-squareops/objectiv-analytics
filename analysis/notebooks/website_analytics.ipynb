{
 "cells": [
  {
   "cell_type": "code",
   "execution_count": null,
   "id": "8229aa62",
   "metadata": {},
   "outputs": [],
   "source": [
    "import sys\n",
    "import datetime\n",
    "\n",
    "sys.path.extend([\n",
    "    '../../buhtuh',\n",
    "    '../'\n",
    "])"
   ]
  },
  {
   "cell_type": "code",
   "execution_count": null,
   "id": "a7e09fc2",
   "metadata": {},
   "outputs": [],
   "source": [
    "import sqlalchemy\n",
    "from buhtuh import BuhTuhDataFrame\n",
    "from objectiv_buhtuh.util import duplo_basic_features"
   ]
  },
  {
   "cell_type": "markdown",
   "id": "0a8b47e4-e1c6-443f-a164-31078ed3ae8b",
   "metadata": {},
   "source": [
    "## Get website production data"
   ]
  },
  {
   "cell_type": "code",
   "execution_count": null,
   "id": "c1e2a831",
   "metadata": {},
   "outputs": [],
   "source": [
    "## get some data, add database and credentials here\n",
    "engine = sqlalchemy.create_engine('postgresql://objectiv:@localhost:5432/objectiv')"
   ]
  },
  {
   "cell_type": "code",
   "execution_count": null,
   "id": "8310a973",
   "metadata": {},
   "outputs": [],
   "source": [
    "## production website data (from sessionized_data + features)\n",
    "basic_features = duplo_basic_features()\n",
    "buh_tuh = BuhTuhDataFrame.from_model(engine=engine, model=basic_features, index=['event_id'])\n",
    "#buh_tuh = BuhTuhDataFrame.from_table(engine=engine, table_name='basic_features', index=['event_id'])"
   ]
  },
  {
   "cell_type": "markdown",
   "id": "237a13bf-52e0-4082-a4a2-c382871b1713",
   "metadata": {},
   "source": [
    "## Set the timeframe"
   ]
  },
  {
   "cell_type": "code",
   "execution_count": null,
   "id": "3177f1fb-c741-4269-8086-dbab942afbeb",
   "metadata": {},
   "outputs": [],
   "source": [
    "# set the timeframe for analysis\n",
    "selector = (buh_tuh['moment'] >= datetime.date(2021,6,1)) & (buh_tuh['moment'] < datetime.date(2021,9,6))\n",
    "\n",
    "# create one sampled df with timeframe applied and one with the full dataset\n",
    "timeframe_df = buh_tuh[selector]\n",
    "full_df = buh_tuh\n",
    "\n",
    "timeframe_df.sort_values({'moment': False}).head()"
   ]
  },
  {
   "cell_type": "markdown",
   "id": "0f1d4954-cabc-44e7-81b8-d18f9d303ed9",
   "metadata": {},
   "source": [
    "## Set the time aggregation "
   ]
  },
  {
   "cell_type": "code",
   "execution_count": null,
   "id": "0a697920-a443-4593-8acd-71c514aa7406",
   "metadata": {},
   "outputs": [],
   "source": [
    "# choose for which level of time aggregation the rest of the analysis will run\n",
    "# supports all Postgres datetime template patterns:\n",
    "# https://www.postgresql.org/docs/9.1/functions-formatting.html#FUNCTIONS-FORMATTING-DATETIME-TABLE\n",
    "\n",
    "agg_level = 'YYYYMMDD'\n",
    "\n",
    "def time_aggr(bt, format, aggr):\n",
    "    bt[format.lower()] = bt['moment'].format(format)\n",
    "    group = bt.groupby([format.lower()])\n",
    "    return group[list(aggr.keys())].aggregate(aggr)"
   ]
  },
  {
   "cell_type": "markdown",
   "id": "89b453c8-db28-4f74-be09-0664d32b3e22",
   "metadata": {},
   "source": [
    "## User & session totals"
   ]
  },
  {
   "cell_type": "code",
   "execution_count": null,
   "id": "465a4b0c-49a3-44cc-a4b1-260a7f818c76",
   "metadata": {},
   "outputs": [],
   "source": [
    "# calculate total users & sessions, we can resuse these later\n",
    "total_users = timeframe_df.groupby()['user_id'].nunique()\n",
    "total_sessions = timeframe_df.groupby()['session_id'].nunique()"
   ]
  },
  {
   "cell_type": "markdown",
   "id": "0697e0d3-8443-427b-a3a9-09342adf624e",
   "metadata": {},
   "source": [
    "## Users"
   ]
  },
  {
   "cell_type": "code",
   "execution_count": null,
   "id": "77e00ffd-9940-4ff3-b5db-2734730f240e",
   "metadata": {},
   "outputs": [],
   "source": [
    "# calculate unique users \n",
    "users = time_aggr(timeframe_df, agg_level, {'user_id':'nunique'})\n",
    "\n",
    "# for each timeframe, add share of total users\n",
    "users['share_of_total'] = users['user_id_nunique'] / total_users['user_id_nunique'][1]\n",
    "\n",
    "users.sort_values({agg_level.lower():False}).head()"
   ]
  },
  {
   "cell_type": "code",
   "execution_count": null,
   "id": "951d9b1e-5159-416d-a904-75b63b795e28",
   "metadata": {},
   "outputs": [],
   "source": [
    "# visualize users\n",
    "users['user_id_nunique'].sort_values({agg_level.lower():True}).head(60).plot()"
   ]
  },
  {
   "cell_type": "markdown",
   "id": "378f5454-f7c7-409b-a6d0-996e078c851a",
   "metadata": {},
   "source": [
    "## Sessions"
   ]
  },
  {
   "cell_type": "code",
   "execution_count": null,
   "id": "71c3c2a3-9616-43d6-b529-acf5f6d210d1",
   "metadata": {},
   "outputs": [],
   "source": [
    "# calculate unique sessions\n",
    "sessions = time_aggr(timeframe_df, agg_level, {'session_id':'nunique'})\n",
    "\n",
    "# for each timeframe, add share of total sessions\n",
    "sessions['share_of_total'] = sessions['session_id_nunique'] / total_sessions['session_id_nunique'][1]\n",
    "\n",
    "sessions.sort_values({agg_level.lower():False}).head()"
   ]
  },
  {
   "cell_type": "code",
   "execution_count": null,
   "id": "560fc334-17c9-4604-85dd-24fa43abaf07",
   "metadata": {},
   "outputs": [],
   "source": [
    "# visualize sessions\n",
    "sessions['session_id_nunique'].sort_values({agg_level.lower():True}).head(60).plot()"
   ]
  },
  {
   "cell_type": "markdown",
   "id": "6fbaaf82-ee41-4602-a2cd-f622fa84b0b2",
   "metadata": {},
   "source": [
    "## New users"
   ]
  },
  {
   "cell_type": "code",
   "execution_count": null,
   "id": "d917e1a3-5b16-4365-98e0-ea0040babebe",
   "metadata": {},
   "outputs": [],
   "source": [
    "# define first seen per user, based on full dataset\n",
    "user_first_seen = full_df.groupby(['user_id'])['moment'].min()\n",
    "user_first_seen[agg_level.lower()] = user_first_seen['moment_min'].format(agg_level)\n",
    "\n",
    "# calculate new users for each timeframe\n",
    "new_users = user_first_seen.groupby(agg_level.lower())['user_id'].nunique()\n",
    "\n",
    "# merge with total users, to calculate ratio and limit to timerange\n",
    "new_total_users = users.merge(new_users)\n",
    "\n",
    "# rename and clean-up columns\n",
    "new_total_users['total_users'] = new_total_users['user_id_nunique_left']\n",
    "new_total_users['new_users'] = new_total_users['user_id_nunique_right']\n",
    "del(new_total_users['user_id_nunique_left','user_id_nunique_right','share_of_total'])\n",
    "\n",
    "# calculate new user share\n",
    "new_total_users['new_user_share'] = new_total_users['new_users'] / new_total_users['total_users']\n",
    "\n",
    "new_total_users.sort_values({agg_level.lower():False}).head()"
   ]
  },
  {
   "cell_type": "code",
   "execution_count": null,
   "id": "eca9d062-dd61-49c2-b669-bf0f45c68451",
   "metadata": {},
   "outputs": [],
   "source": [
    "# visualize new users\n",
    "new_total_users['new_users', 'total_users'].sort_values({agg_level.lower():True}).head(60).plot()"
   ]
  },
  {
   "cell_type": "markdown",
   "id": "6888435d-4287-4cdc-8767-985fe2b9c216",
   "metadata": {},
   "source": [
    "## Sessions per user"
   ]
  },
  {
   "cell_type": "code",
   "execution_count": null,
   "id": "77706040",
   "metadata": {},
   "outputs": [],
   "source": [
    "# merge users and sessions\n",
    "users_sessions = sessions.merge(users)\n",
    "\n",
    "# calculate average sessions per user\n",
    "users_sessions['sessions_per_user_average'] = users_sessions['session_id_nunique'] / users_sessions['user_id_nunique']\n",
    "\n",
    "# clean-up columns\n",
    "del(users_sessions['session_id_nunique','share_of_total_left', 'share_of_total_right', 'user_id_nunique'])\n",
    "\n",
    "users_sessions.sort_values({agg_level.lower():False}).head()"
   ]
  },
  {
   "cell_type": "markdown",
   "id": "26c06f91-3fe1-4e25-8706-601e1b223393",
   "metadata": {},
   "source": [
    "## Session duration"
   ]
  },
  {
   "cell_type": "code",
   "execution_count": null,
   "id": "2279e793-e5a4-4a4b-968a-db8c5949f0ff",
   "metadata": {},
   "outputs": [],
   "source": [
    "# calculate duration of each session\n",
    "session_duration = timeframe_df.groupby(['session_id']).aggregate(['moment','moment'],['min','max'])\n",
    "session_duration['session_duration'] = session_duration['moment_max'] - session_duration['moment_min']\n",
    "\n",
    "# adding time aggregation, so we can group on this\n",
    "session_duration[agg_level.lower()] = session_duration['moment_min'].format(agg_level)\n",
    "\n",
    "# calculate average session duration\n",
    "avg_session_duration = session_duration.groupby(agg_level.lower())['session_duration'].average()\n",
    "\n",
    "avg_session_duration.sort_values({agg_level.lower():False}).head()"
   ]
  },
  {
   "cell_type": "markdown",
   "id": "14b2a479-bd03-4cba-be97-83ccfbf38337",
   "metadata": {},
   "source": [
    "## Frequency"
   ]
  },
  {
   "cell_type": "code",
   "execution_count": null,
   "id": "2d8fc165-5b6a-4df4-839e-53b6df4084f9",
   "metadata": {},
   "outputs": [],
   "source": [
    "# number of total sessions per user\n",
    "total_sessions_user = timeframe_df.groupby(['user_id'])['session_id'].nunique()\n",
    "\n",
    "# calculate frequency\n",
    "frequency = total_sessions_user.groupby(['session_id_nunique'])['user_id'].nunique()\n",
    "\n",
    "# add total users and calculate share per number of sessions\n",
    "frequency['share_of_users'] = frequency['user_id_nunique'] / total_users['user_id_nunique'][1]\n",
    "\n",
    "frequency.sort_values({'session_id_nunique':True}).head()"
   ]
  },
  {
   "cell_type": "code",
   "execution_count": null,
   "id": "771461f0-9cc6-482e-ada3-76a4da4152de",
   "metadata": {},
   "outputs": [],
   "source": [
    "# visualize frequency\n",
    "frequency['user_id_nunique'].sort_values({'session_id_nunique':True}).head(10).plot()"
   ]
  },
  {
   "cell_type": "markdown",
   "id": "046eb7e6-fba5-4048-ba17-8cff59d92b38",
   "metadata": {},
   "source": [
    "## Events"
   ]
  },
  {
   "cell_type": "code",
   "execution_count": null,
   "id": "24c743b4-dae4-41b9-a4d5-15a87c3b295c",
   "metadata": {},
   "outputs": [],
   "source": [
    "# number of total user per feature\n",
    "users_per_event = timeframe_df.groupby(['feature'])['user_id'].nunique()\n",
    "\n",
    "users_per_event.sort_values({'user_id_nunique':False}).head()\n",
    "\n",
    "# NOTE: we should start adding feature aggregegation & location stack as next step"
   ]
  },
  {
   "cell_type": "markdown",
   "id": "9acf9cf5-c4e6-4d71-a15d-64bea1bf4d55",
   "metadata": {},
   "source": [
    "## Conversion"
   ]
  },
  {
   "cell_type": "code",
   "execution_count": null,
   "id": "96311ded-e799-4a27-a466-2c8dcce5ec3b",
   "metadata": {},
   "outputs": [],
   "source": [
    "# NOTE: we can do better here once we integrate feature aggregation\n",
    "# NOTE: timeframe_df['feature'] breaks: \"# We only support first level boolean indices for now\", so doing on full df for now\n",
    "\n",
    "# set the goal event that you define as conversion, using our subcribe-to-mailing\n",
    "conv_selector = (buh_tuh['feature'] == '(WebDocumentContext,#document),(InputContext,keep-me-posted-input),(ButtonContext,subscribe)')\n",
    "                 \n",
    "# create df with only conversion events\n",
    "conversions_df = buh_tuh[conv_selector]\n",
    "\n",
    "# calculate conversions, now per user, but can easily be aggregated to session_id instead\n",
    "conversions = time_aggr(conversions_df, agg_level, {'user_id':'nunique'})\n",
    "\n",
    "# merge with users, but can easily be done with sessions instead\n",
    "conversion_rate = conversions.merge(users)\n",
    "\n",
    "# clean-up and rename columns\n",
    "conversion_rate['converting_users'] = conversion_rate['user_id_nunique_left']\n",
    "conversion_rate['total_users'] = conversion_rate['user_id_nunique_right']\n",
    "del(conversion_rate['user_id_nunique_left','user_id_nunique_right','share_of_total'])\n",
    "\n",
    "# calculate conversion rate\n",
    "conversion_rate['conversion_rate'] = conversion_rate['converting_users'] / conversion_rate['total_users']\n",
    "\n",
    "conversion_rate.sort_values({agg_level.lower():False}).head(30)"
   ]
  },
  {
   "cell_type": "code",
   "execution_count": null,
   "id": "91715bec-e0c2-4abc-b049-0b7b590348ee",
   "metadata": {},
   "outputs": [],
   "source": [
    "# visualize conversion rate\n",
    "conversion_rate['conversion_rate'].sort_values({agg_level.lower():True}).head(60).plot()"
   ]
  },
  {
   "cell_type": "markdown",
   "id": "84368daa-cccf-446f-8ce2-4309141eff6b",
   "metadata": {},
   "source": [
    "## User timeline"
   ]
  },
  {
   "cell_type": "code",
   "execution_count": null,
   "id": "b24be24e-d584-45eb-9e0f-37f771823f68",
   "metadata": {},
   "outputs": [],
   "source": [
    "# show the timeline of an indivual user's events\n",
    "# NOTE: we can make this better with feature selection & aggregation\n",
    "\n",
    "# select the spefic user we want to replay\n",
    "user_id_selector = (buh_tuh['user_id'] == '320db8ee-847c-424b-8291-c65d021575aa')\n",
    "\n",
    "# create df with only this user's events\n",
    "# NOTE: timeframe_df['user_id_selector'] breaks: \"# We only support first level boolean indices for now\", so doing on full df for now\n",
    "selected_user_df = buh_tuh[user_id_selector]\n",
    "\n",
    "# left join conversions df, so we can check if the user converted\n",
    "user_timeline = selected_user_df.merge(conversions_df,how='left')\n",
    "\n",
    "# rename and clean-up columns\n",
    "user_timeline['moment'] = user_timeline['moment_left'] \n",
    "user_timeline['feature'] = user_timeline['feature_left']\n",
    "user_timeline['conversion_feature'] = user_timeline['feature_right']\n",
    "\n",
    "# show relevant columns\n",
    "user_timeline['moment','feature','conversion_feature'].sort_values({'moment':True}).head()"
   ]
  },
  {
   "cell_type": "markdown",
   "id": "39f25752-6cbe-4119-ac7e-79d4c095e793",
   "metadata": {},
   "source": [
    "# TODO"
   ]
  },
  {
   "cell_type": "code",
   "execution_count": null,
   "id": "0a504f06-ce9b-44d0-b1e1-bc4047a51843",
   "metadata": {},
   "outputs": [],
   "source": [
    "# below parts first require some next steps in dub_buh_tuh"
   ]
  },
  {
   "cell_type": "markdown",
   "id": "67e341a4-21e1-483f-91b2-89f543e17aa2",
   "metadata": {},
   "source": [
    "## Retention cohorts"
   ]
  },
  {
   "cell_type": "code",
   "execution_count": null,
   "id": "ce78ad7c-edd9-43bb-9bb7-68a70ec377e4",
   "metadata": {},
   "outputs": [],
   "source": [
    "## NOTE: continue on this when we have datetime intervals, so we can calculate start & end moments of cohorts.\n",
    "\n",
    "# get the time aggregations where there are users\n",
    "timeframes = users\n",
    "timeframes = timeframes.head(100).reset_index()\n",
    "\n",
    "# cleanup columns we don't need\n",
    "del(timeframes['user_id_nunique'])\n",
    "del(timeframes['share_of_total'])\n",
    "\n",
    "# reset index and use that as cohort numbering\n",
    "timeframes2 = timeframes.rename_axis('cohort_nr').reset_index()\n",
    "timeframes2.head()"
   ]
  },
  {
   "cell_type": "markdown",
   "id": "99f9ff44-2ecb-44a2-907f-bb6525c72819",
   "metadata": {},
   "source": [
    "## Events flow"
   ]
  },
  {
   "cell_type": "code",
   "execution_count": null,
   "id": "e0658e5e-c43a-4029-96b4-76f62f76fc56",
   "metadata": {},
   "outputs": [],
   "source": [
    "# events per session hit number\n",
    "events_per_hit_number = buh_tuh[selector].groupby(['session_hit_number', 'feature'])['session_id'].nunique()\n",
    "\n",
    "events_per_hit_number.sort_values({'session_hit_number':True}).head()"
   ]
  },
  {
   "cell_type": "markdown",
   "id": "5fe21124-3119-421f-a221-b760ba94520f",
   "metadata": {},
   "source": [
    "## Conversion funnel"
   ]
  },
  {
   "cell_type": "markdown",
   "id": "cffa17d4-6d9c-4bc9-81a5-ce479067342d",
   "metadata": {},
   "source": [
    "## Recency"
   ]
  },
  {
   "cell_type": "code",
   "execution_count": null,
   "id": "89038618-de70-4fa6-a496-038805099ec2",
   "metadata": {},
   "outputs": [],
   "source": [
    "# \"the number of days between the close of one session and the opening of another\"\n",
    "test = timeframe_df.groupby(['user_id', 'session_id']).aggregate(['moment','moment'],['min','max'])\n",
    "\n",
    "test.head()\n",
    "# NOTE: pick this up once we have window functions"
   ]
  },
  {
   "cell_type": "markdown",
   "id": "5bd1f63e-2575-4d6f-aa20-625e3c5593c0",
   "metadata": {},
   "source": [
    "## Traffic source"
   ]
  },
  {
   "cell_type": "markdown",
   "id": "51e67efc-1837-4a70-aafa-4e4bc3b7cefe",
   "metadata": {},
   "source": [
    "## Geo "
   ]
  },
  {
   "cell_type": "markdown",
   "id": "d7fb441e-a1e3-4ad9-b831-da123b5c04fb",
   "metadata": {},
   "source": [
    "## Devices"
   ]
  }
 ],
 "metadata": {
  "kernelspec": {
   "display_name": "Python 3 (ipykernel)",
   "language": "python",
   "name": "python3"
  },
  "language_info": {
   "codemirror_mode": {
    "name": "ipython",
    "version": 3
   },
   "file_extension": ".py",
   "mimetype": "text/x-python",
   "name": "python",
   "nbconvert_exporter": "python",
   "pygments_lexer": "ipython3",
   "version": "3.8.10"
  }
 },
 "nbformat": 4,
 "nbformat_minor": 5
}