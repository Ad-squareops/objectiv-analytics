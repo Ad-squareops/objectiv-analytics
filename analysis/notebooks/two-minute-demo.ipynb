{
 "cells": [
  {
   "cell_type": "markdown",
   "id": "7e242112-b3d8-4780-9a09-41fb92a37c85",
   "metadata": {},
   "source": [
    "# Objectiv in 2 minutes"
   ]
  },
  {
   "cell_type": "code",
   "execution_count": null,
   "id": "95438add-788a-43e7-9a39-0ff63c907bb6",
   "metadata": {},
   "outputs": [],
   "source": [
    "from bach_open_taxonomy.modelhub.modelhub import ModelHub"
   ]
  },
  {
   "cell_type": "markdown",
   "id": "b06128cc-65d5-4bd6-b4a6-4d5071007540",
   "metadata": {},
   "source": [
    "## Model-ready data\n",
    "- No tracking plan\n",
    "- No cleaning\n",
    "- No transformation"
   ]
  },
  {
   "cell_type": "code",
   "execution_count": null,
   "id": "1214499b-1049-4e0d-8e4e-dce40cf7bad2",
   "metadata": {},
   "outputs": [],
   "source": [
    "modelhub = ModelHub(time_aggregation='YYYY-MM-DD', start_date='2021-11-16')\n",
    "df = modelhub.from_objectiv_data()\n",
    "df[df.event_type == 'PressEvent'].head()"
   ]
  },
  {
   "cell_type": "markdown",
   "id": "e6accf30-90dc-4898-9221-e7d904afbdf8",
   "metadata": {},
   "source": [
    "## Talk Pandas, run SQL on full dataset\n",
    "- SQL on your full database \n",
    "- Popular pandas-like operations"
   ]
  },
  {
   "cell_type": "code",
   "execution_count": null,
   "id": "f357f4d2-17a7-4894-9c2f-383baac4e3fd",
   "metadata": {},
   "outputs": [],
   "source": [
    "example = df.groupby(['user_id']).agg({'event_type':'nunique','session_hit_number':'count'})\n",
    "example.head()"
   ]
  },
  {
   "cell_type": "code",
   "execution_count": null,
   "id": "b538b168-75e1-4004-a53a-35cecbd45dc0",
   "metadata": {},
   "outputs": [],
   "source": [
    "print(example.view_sql())"
   ]
  },
  {
   "cell_type": "markdown",
   "id": "0562bfe8-5822-496e-a3ed-d8c785904cc0",
   "metadata": {},
   "source": [
    "## Taxonomy created for modeling\n",
    "- See the UI location of an event\n",
    "- Strict typing of events\n",
    "\n",
    "```python\n",
    "of.location_stack\n",
    "```\n",
    "```json\n",
    "[{\"id\": \"docs\", \"_type\": \"RootLocationContext\"},\n",
    " {\"id\": \"docs-sidebar\", \"_type\": \"NavigationContext\"},\n",
    " {\"id\": \"API Reference\", \"_type\": \"ExpandableContext\"},\n",
    " {\"id\": \"DataFrame\", \"_type\": \"ExpandableContext\"},\n",
    " {\"id\": \"Overview\", \"_type\": \"LinkContext\"}]\n",
    "```"
   ]
  },
  {
   "cell_type": "markdown",
   "id": "8bfb03c4-2e79-4f69-8c7e-a0e4e7497719",
   "metadata": {},
   "source": [
    "## Pre-built models \n",
    "- For common product analytics use-cases\n",
    "- Chain them together"
   ]
  },
  {
   "cell_type": "code",
   "execution_count": null,
   "id": "31f3be46-d1c6-4507-a54b-14954f6f761f",
   "metadata": {},
   "outputs": [],
   "source": [
    "modelhub.add_conversion_event(location_stack=df.location_stack.json[{'id': 'Quickstart Guide', '_type': 'LinkContext'}:],\n",
    "                              event_type='PressEvent',\n",
    "                              name='quickstart_presses')\n",
    "conversion_events = modelhub.map.is_conversion_event(df, 'quickstart_presses')"
   ]
  },
  {
   "cell_type": "code",
   "execution_count": null,
   "id": "4fefd770-c051-4708-9181-46182a331fec",
   "metadata": {},
   "outputs": [],
   "source": [
    "df['is_new_user_month'] = modelhub.map.is_new_user(df, time_aggregation = 'YYYY-MM')\n",
    "df['is_twice_converted'] = modelhub.map.conversion_count(df, name='quickstart_presses')==2\n",
    "modelhub.aggregate.unique_users(df[df.is_new_user_month & df.is_twice_converted]).head()"
   ]
  },
  {
   "cell_type": "code",
   "execution_count": null,
   "id": "1dbf0e9b-3525-4a43-8c92-cac44e57704d",
   "metadata": {},
   "outputs": [],
   "source": [
    "print(modelhub.aggregate.session_duration(df).view_sql())"
   ]
  },
  {
   "cell_type": "markdown",
   "id": "28484039-308c-43a3-8158-06befeba6e9f",
   "metadata": {},
   "source": [
    "## To Pandas\n",
    "- When results are smaller, move to pandas\n",
    "- Add any pandas supported ML"
   ]
  },
  {
   "cell_type": "code",
   "execution_count": null,
   "id": "ffd51de4-36a3-43ab-b149-28bdcd7d6edc",
   "metadata": {},
   "outputs": [],
   "source": [
    "example.to_pandas().head()"
   ]
  },
  {
   "cell_type": "markdown",
   "id": "aefc8b82-47da-46bd-840b-7ad7e9c42c33",
   "metadata": {},
   "source": [
    "## To Metabase\n",
    "- Share dashboards with your team\n",
    "- Creates SQL and settings for Metabase"
   ]
  },
  {
   "cell_type": "code",
   "execution_count": null,
   "id": "a407318f-88c2-4082-b788-413d20d68ae9",
   "metadata": {},
   "outputs": [],
   "source": [
    "df['is_new_user'] = modelhub.map.is_new_user(df)\n",
    "modelhub.to_metabase(modelhub.agg.unique_users(df[df.is_new_user]), \n",
    "                     config={'name': 'Unique New Users'})"
   ]
  }
 ],
 "metadata": {
  "kernelspec": {
   "display_name": "Python 3 (ipykernel)",
   "language": "python",
   "name": "python3"
  },
  "language_info": {
   "codemirror_mode": {
    "name": "ipython",
    "version": 3
   },
   "file_extension": ".py",
   "mimetype": "text/x-python",
   "name": "python",
   "nbconvert_exporter": "python",
   "pygments_lexer": "ipython3",
   "version": "3.9.4"
  }
 },
 "nbformat": 4,
 "nbformat_minor": 5
}
