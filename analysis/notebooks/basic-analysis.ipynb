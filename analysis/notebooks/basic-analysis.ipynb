{
 "cells": [
  {
   "cell_type": "markdown",
   "id": "277e303e",
   "metadata": {},
   "source": [
    "# Basic analysis"
   ]
  },
  {
   "cell_type": "code",
   "execution_count": null,
   "id": "4bd369f6",
   "metadata": {},
   "outputs": [],
   "source": [
    "# import Bach\n",
    "from bach_open_taxonomy import ObjectivFrame "
   ]
  },
  {
   "cell_type": "code",
   "execution_count": null,
   "id": "da4ec1a0",
   "metadata": {},
   "outputs": [],
   "source": [
    "# connect to SQL db\n",
    "of = ObjectivFrame.from_objectiv_data(db_url='postgresql://@localhost:5433/objectiv',\n",
    "                                      table_name='data',\n",
    "                                      time_aggregation='YYYY-MM-DD',\n",
    "                                      start_date='2022-02-02')"
   ]
  },
  {
   "cell_type": "code",
   "execution_count": null,
   "id": "4e130b67",
   "metadata": {},
   "outputs": [],
   "source": [
    "# adding specific contexts to the data\n",
    "of['application'] = of.global_contexts.gc.get_from_context_with_type_series(type='ApplicationContext', key='id')\n",
    "of['root_location'] = of.location_stack.ls.get_from_context_with_type_series(type='RootLocationContext', key='id')\n",
    "of['referrer'] = of.global_contexts.gc.get_from_context_with_type_series(type='HttpContext', key='referrer')\n",
    "of['feature_nice_name'] = of.location_stack.ls.nice_name"
   ]
  },
  {
   "cell_type": "code",
   "execution_count": null,
   "id": "3c4ad65e",
   "metadata": {},
   "outputs": [],
   "source": [
    "# explore the data\n",
    "of.sort_values('session_id', ascending=False).head()"
   ]
  },
  {
   "cell_type": "code",
   "execution_count": null,
   "id": "38aa346a",
   "metadata": {},
   "outputs": [],
   "source": [
    "# explore the data with describe\n",
    "of.describe(include='all').head()"
   ]
  },
  {
   "cell_type": "markdown",
   "id": "03bfa810",
   "metadata": {},
   "source": [
    "## Users"
   ]
  },
  {
   "cell_type": "code",
   "execution_count": null,
   "id": "08ad4e39",
   "metadata": {},
   "outputs": [],
   "source": [
    "# model hub: unique users, total month\n",
    "users = of.model_hub.aggregate.unique_users(time_aggregation='YYYY-MM')\n",
    "users.sort_index(ascending=False).head()"
   ]
  },
  {
   "cell_type": "code",
   "execution_count": null,
   "id": "172f431c",
   "metadata": {},
   "outputs": [],
   "source": [
    "# model hub: unique users, daily\n",
    "users = of.model_hub.aggregate.unique_users()\n",
    "users.sort_index(ascending=False).head(15)"
   ]
  },
  {
   "cell_type": "code",
   "execution_count": null,
   "id": "fec344a2",
   "metadata": {},
   "outputs": [],
   "source": [
    "# users by RootLocation\n",
    "users_root = of.groupby(['application', 'root_location']).agg({'user_id':'nunique'})\n",
    "users_root.sort_values('user_id_nunique', ascending=False).head(10)"
   ]
  },
  {
   "cell_type": "markdown",
   "id": "1a6de3da",
   "metadata": {},
   "source": [
    "## Time spent"
   ]
  },
  {
   "cell_type": "code",
   "execution_count": null,
   "id": "51af4b82",
   "metadata": {
    "scrolled": true
   },
   "outputs": [],
   "source": [
    "# model hub: duration, total month\n",
    "duration = of.model_hub.aggregate.session_duration(time_aggregation='YYYY-MM')\n",
    "duration.sort_index(ascending=False).head()"
   ]
  },
  {
   "cell_type": "code",
   "execution_count": null,
   "id": "9fb041b2",
   "metadata": {},
   "outputs": [],
   "source": [
    "# model hub: duration, daily\n",
    "duration = of.model_hub.aggregate.session_duration(time_aggregation='YYYY-MM-DD')\n",
    "duration.sort_index(ascending=False).head()"
   ]
  },
  {
   "cell_type": "code",
   "execution_count": null,
   "id": "4f929f0a",
   "metadata": {},
   "outputs": [],
   "source": [
    "# duration for RootLocation home \n",
    "of[(of.root_location == 'home')].model_hub.aggregate.session_duration(time_aggregation='YYYY-MM').head()"
   ]
  },
  {
   "cell_type": "code",
   "execution_count": null,
   "id": "488718ce",
   "metadata": {},
   "outputs": [],
   "source": [
    "# duration for RootLocation blog\n",
    "of[(of.root_location == 'blog')].model_hub.aggregate.session_duration(time_aggregation='YYYY-MM').head()"
   ]
  },
  {
   "cell_type": "code",
   "execution_count": null,
   "id": "5d8dce27",
   "metadata": {
    "scrolled": true
   },
   "outputs": [],
   "source": [
    "# duration for the whole docs\n",
    "of[(of.application == 'objectiv-docs')].model_hub.aggregate.session_duration(time_aggregation='YYYY-MM').head()"
   ]
  },
  {
   "cell_type": "markdown",
   "id": "c0e6a29a",
   "metadata": {},
   "source": [
    "## Top user interactions"
   ]
  },
  {
   "cell_type": "code",
   "execution_count": null,
   "id": "4eae1d95",
   "metadata": {
    "scrolled": true
   },
   "outputs": [],
   "source": [
    "# select PressEvent and MediaStart event, to focus on user actions\n",
    "users_feature = of[(of.event_type == 'PressEvent') |\n",
    "                   (of.event_type == 'MediaStartEvent')]\n",
    "\n",
    "# users by feature\n",
    "users_feature = users_feature.groupby(['application', 'feature_nice_name', 'event_type']).agg({'user_id':'nunique'})\n",
    "users_feature.sort_values('user_id_nunique', ascending=False).head()"
   ]
  },
  {
   "cell_type": "markdown",
   "id": "dcf82009",
   "metadata": {},
   "source": [
    "## What did users do most on home?"
   ]
  },
  {
   "cell_type": "code",
   "execution_count": null,
   "id": "a757be5a",
   "metadata": {},
   "outputs": [],
   "source": [
    "# select homepage RootLocation only\n",
    "home_users = of[(of.root_location == 'home')]\n",
    "\n",
    "# select website only and exclude the docs\n",
    "home_users = home_users[(home_users.application == 'objectiv-website')]\n",
    "\n",
    "# select PressEvent and MediaStart event, to focus on user actions\n",
    "home_users = home_users[(home_users.event_type == 'PressEvent') |\n",
    "                   (home_users.event_type == 'MediaStartEvent')]\n",
    "\n",
    "# home users by feature\n",
    "home_users = home_users.groupby(['feature_nice_name', 'event_type']).agg({'user_id':'nunique'})\n",
    "home_users.sort_values('user_id_nunique', ascending=False).head()"
   ]
  },
  {
   "cell_type": "markdown",
   "id": "e9e5de5a",
   "metadata": {},
   "source": [
    "## What did users do most in docs?"
   ]
  },
  {
   "cell_type": "code",
   "execution_count": null,
   "id": "3f8c4ae0",
   "metadata": {},
   "outputs": [],
   "source": [
    "# select docs RootLocation only\n",
    "docs_users = of[(of.application == 'objectiv-docs')]\n",
    "\n",
    "# select PressEvent and MediaStart event, to focus on user actions\n",
    "docs_users = docs_users[(docs_users.event_type == 'PressEvent') |\n",
    "                   (docs_users.event_type == 'MediaStartEvent')]\n",
    "\n",
    "# docs users by feature\n",
    "docs_users = docs_users.groupby(['feature_nice_name', 'event_type']).agg({'user_id':'nunique'})\n",
    "docs_users.sort_values('user_id_nunique', ascending=False).head()"
   ]
  },
  {
   "cell_type": "markdown",
   "id": "eb7374f3",
   "metadata": {},
   "source": [
    "## Where did users come from?"
   ]
  },
  {
   "cell_type": "code",
   "execution_count": null,
   "id": "6aa28364",
   "metadata": {},
   "outputs": [],
   "source": [
    "# users by referrer\n",
    "referrer_users = of.groupby(['referrer']).agg({'user_id':'nunique'})\n",
    "referrer_users.sort_values('user_id_nunique', ascending=False).head()"
   ]
  },
  {
   "cell_type": "markdown",
   "id": "3bda262d",
   "metadata": {},
   "source": [
    "## Set conversion"
   ]
  },
  {
   "cell_type": "code",
   "execution_count": null,
   "id": "897180ac",
   "metadata": {
    "scrolled": true
   },
   "outputs": [],
   "source": [
    "# define which events to use as conversion events\n",
    "of.add_conversion_event(location_stack=of.location_stack.json[{'id': 'objectiv-on-github', \n",
    "                                                        '_type': 'LinkContext'}:].fillna(\n",
    "                                       of.location_stack.json[{'id': 'github', '_type': 'LinkContext'}:]),\n",
    "                        event_type='PressEvent',\n",
    "                        name='github_press')"
   ]
  },
  {
   "cell_type": "markdown",
   "id": "23b03791",
   "metadata": {},
   "source": [
    "## Number of daily conversions"
   ]
  },
  {
   "cell_type": "code",
   "execution_count": null,
   "id": "f4f6f7e7",
   "metadata": {},
   "outputs": [],
   "source": [
    "of.model_hub.filter(of.model_hub.map.is_conversion_event('github_press'))\\\n",
    "    .model_hub.aggregate.unique_users()\\\n",
    "    .sort_index(ascending=False).head(10)"
   ]
  },
  {
   "cell_type": "markdown",
   "id": "a1335d5d",
   "metadata": {},
   "source": [
    "## From where do users convert most?"
   ]
  },
  {
   "cell_type": "code",
   "execution_count": null,
   "id": "88a0e85b",
   "metadata": {},
   "outputs": [],
   "source": [
    "# filter conversion events\n",
    "conversion_locations = of.model_hub.filter(of.model_hub.map.is_conversion_event('github_press'))\\\n",
    "    .groupby(['application', 'feature_nice_name', 'event_type'])\\\n",
    "    .agg({'user_id':'nunique'})\n",
    "\n",
    "conversion_locations.sort_values('user_id_nunique', ascending=False).head()"
   ]
  },
  {
   "cell_type": "markdown",
   "id": "5685ec0e",
   "metadata": {},
   "source": [
    "## Time spent for converting users?"
   ]
  },
  {
   "cell_type": "code",
   "execution_count": null,
   "id": "9c37a664",
   "metadata": {},
   "outputs": [],
   "source": [
    "# use model hub to filter converting users and calculate duration\n",
    "of.model_hub.filter(of.model_hub.map.conversions_counter(name='github_press', partition='user_id')>=1)\\\n",
    "  .model_hub.agg.session_duration()\\\n",
    "  .sort_index(ascending=False).head()"
   ]
  },
  {
   "cell_type": "markdown",
   "id": "30c7df8c",
   "metadata": {},
   "source": [
    "## Top user interactions before conversions"
   ]
  },
  {
   "cell_type": "code",
   "execution_count": null,
   "id": "c24b0d9a",
   "metadata": {
    "scrolled": false
   },
   "outputs": [],
   "source": [
    "# select sessions with a conversion\n",
    "converted_users = of.model_hub.filter(of.model_hub.map.conversions_counter(name='github_press')>=1)\n",
    "\n",
    "# from those, select hits where number of conversions was still 0\n",
    "converted_users = converted_users.mh.filter(converted_users.model_hub.map.conversions_in_time('github_press')==0)\n",
    "\n",
    "# select PressEvent and MediaStart event, to focus on user actions\n",
    "converted_users = converted_users[(converted_users.event_type == 'PressEvent') |\n",
    "                   (converted_users.event_type == 'MediaStartEvent')]\n",
    "\n",
    "converted_users.groupby(['application', 'feature_nice_name', 'event_type']).agg({'user_id':'nunique'})\\\n",
    "    .sort_values('user_id_nunique', ascending=False).head(10)"
   ]
  },
  {
   "cell_type": "markdown",
   "id": "e7fb8835",
   "metadata": {},
   "source": [
    "## Time spent before conversions"
   ]
  },
  {
   "cell_type": "code",
   "execution_count": null,
   "id": "a92b905b",
   "metadata": {},
   "outputs": [],
   "source": [
    "# use model hub to calculate duration, converted users contains events before 1st conversion\n",
    "converted_users.model_hub.aggregate.session_duration(time_aggregation='YYYY-MM').head()"
   ]
  }
 ],
 "metadata": {
  "kernelspec": {
   "display_name": "Python 3 (ipykernel)",
   "language": "python",
   "name": "python3"
  },
  "language_info": {
   "codemirror_mode": {
    "name": "ipython",
    "version": 3
   },
   "file_extension": ".py",
   "mimetype": "text/x-python",
   "name": "python",
   "nbconvert_exporter": "python",
   "pygments_lexer": "ipython3",
   "version": "3.9.10"
  }
 },
 "nbformat": 4,
 "nbformat_minor": 5
}
