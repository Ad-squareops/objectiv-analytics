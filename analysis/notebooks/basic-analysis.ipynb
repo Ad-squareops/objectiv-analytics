{
 "cells": [
  {
   "cell_type": "markdown",
   "id": "277e303e",
   "metadata": {},
   "source": [
    "# Basic analysis"
   ]
  },
  {
   "cell_type": "code",
   "execution_count": 1,
   "id": "4bd369f6",
   "metadata": {},
   "outputs": [],
   "source": [
    "# import Bach\n",
    "from bach_open_taxonomy import ObjectivFrame"
   ]
  },
  {
   "cell_type": "code",
   "execution_count": 2,
   "id": "da4ec1a0",
   "metadata": {},
   "outputs": [],
   "source": [
    "# connect to SQL db\n",
    "of = ObjectivFrame.from_objectiv_data(db_url='postgresql://postgres:@localhost:5432/objectiv',\n",
    "                                      table_name='data',\n",
    "                                      time_aggregation='YYYY-MM-DD',\n",
    "                                      start_date='2022-02-02')"
   ]
  },
  {
   "cell_type": "code",
   "execution_count": 4,
   "id": "56fd0ff4",
   "metadata": {},
   "outputs": [
    {
     "ename": "KeyError",
     "evalue": "'describe'",
     "output_type": "error",
     "traceback": [
      "\u001b[0;31m---------------------------------------------------------------------------\u001b[0m",
      "\u001b[0;31mKeyError\u001b[0m                                  Traceback (most recent call last)",
      "Input \u001b[0;32mIn [4]\u001b[0m, in \u001b[0;36m<module>\u001b[0;34m\u001b[0m\n\u001b[1;32m      1\u001b[0m \u001b[38;5;66;03m# explore the dataframe\u001b[39;00m\n\u001b[0;32m----> 2\u001b[0m \u001b[43mof\u001b[49m\u001b[38;5;241;43m.\u001b[39;49m\u001b[43mdescribe\u001b[49m()\n",
      "File \u001b[0;32m~/objectiv-analytics/bach/bach/dataframe.py:901\u001b[0m, in \u001b[0;36mDataFrame.__getattr__\u001b[0;34m(self, attr)\u001b[0m\n\u001b[1;32m    896\u001b[0m \u001b[38;5;28;01mdef\u001b[39;00m \u001b[38;5;21m__getattr__\u001b[39m(\u001b[38;5;28mself\u001b[39m, attr):\n\u001b[1;32m    897\u001b[0m     \u001b[38;5;124;03m\"\"\"\u001b[39;00m\n\u001b[1;32m    898\u001b[0m \u001b[38;5;124;03m    After regular attribute access, try looking up the name. This allows simpler access to columns for\u001b[39;00m\n\u001b[1;32m    899\u001b[0m \u001b[38;5;124;03m    interactive use.\u001b[39;00m\n\u001b[1;32m    900\u001b[0m \u001b[38;5;124;03m    \"\"\"\u001b[39;00m\n\u001b[0;32m--> 901\u001b[0m     \u001b[38;5;28;01mreturn\u001b[39;00m \u001b[38;5;28;43mself\u001b[39;49m\u001b[38;5;241;43m.\u001b[39;49m\u001b[43m_data\u001b[49m\u001b[43m[\u001b[49m\u001b[43mattr\u001b[49m\u001b[43m]\u001b[49m\n",
      "\u001b[0;31mKeyError\u001b[0m: 'describe'"
     ]
    }
   ],
   "source": [
    "# explore the dataframe\n",
    "of.describe()"
   ]
  },
  {
   "cell_type": "code",
   "execution_count": null,
   "id": "4e130b67",
   "metadata": {},
   "outputs": [],
   "source": [
    "# adding specific contexts to the data\n",
    "of['application'] = of.global_contexts.gc.get_from_context_with_type_series(type='ApplicationContext', key='id')\n",
    "of['root_location'] = of.location_stack.ls.get_from_context_with_type_series(type='RootLocationContext', key='id')\n",
    "of['feature_nice_name'] = of.location_stack.ls.nice_name"
   ]
  },
  {
   "cell_type": "markdown",
   "id": "03bfa810",
   "metadata": {},
   "source": [
    "## Users"
   ]
  },
  {
   "cell_type": "code",
   "execution_count": null,
   "id": "08ad4e39",
   "metadata": {},
   "outputs": [],
   "source": [
    "# model hub: unique users, total month\n",
    "users = of.model_hub.aggregate.unique_users(time_aggregation='YYYY-MM')\n",
    "users.sort_index(ascending=False).head()"
   ]
  },
  {
   "cell_type": "code",
   "execution_count": null,
   "id": "172f431c",
   "metadata": {},
   "outputs": [],
   "source": [
    "# model hub: unique users, daily\n",
    "users = of.model_hub.aggregate.unique_users()\n",
    "users.sort_index(ascending=False).head(10)"
   ]
  },
  {
   "cell_type": "code",
   "execution_count": null,
   "id": "fec344a2",
   "metadata": {},
   "outputs": [],
   "source": [
    "# users by RootLocation\n",
    "users_root = of.groupby(['root_location']).agg({'user_id':'nunique'})\n",
    "users_root.sort_values('user_id_nunique', ascending=False).head()"
   ]
  },
  {
   "cell_type": "markdown",
   "id": "1a6de3da",
   "metadata": {},
   "source": [
    "## Time spent"
   ]
  },
  {
   "cell_type": "code",
   "execution_count": null,
   "id": "51af4b82",
   "metadata": {
    "scrolled": true
   },
   "outputs": [],
   "source": [
    "# model hub: duration, total month\n",
    "duration = of.model_hub.aggregate.session_duration(time_aggregation='YYYY-MM')\n",
    "duration.sort_index(ascending=False).head()"
   ]
  },
  {
   "cell_type": "code",
   "execution_count": null,
   "id": "9fb041b2",
   "metadata": {},
   "outputs": [],
   "source": [
    "# model hub: duration, daily\n",
    "duration = of.model_hub.aggregate.session_duration(time_aggregation='YYYY-MM-DD')\n",
    "duration.sort_index(ascending=False).head()"
   ]
  },
  {
   "cell_type": "code",
   "execution_count": null,
   "id": "4f929f0a",
   "metadata": {},
   "outputs": [],
   "source": [
    "# duration by RootLocation\n",
    "of[(of.root_location == 'home')].model_hub.aggregate.session_duration(time_aggregation='YYYY-MM').head()"
   ]
  },
  {
   "cell_type": "code",
   "execution_count": null,
   "id": "5d8dce27",
   "metadata": {},
   "outputs": [],
   "source": [
    "of[(of.root_location == 'docs')].model_hub.aggregate.session_duration(time_aggregation='YYYY-MM').head()"
   ]
  },
  {
   "cell_type": "code",
   "execution_count": null,
   "id": "488718ce",
   "metadata": {},
   "outputs": [],
   "source": [
    "of[(of.root_location == 'docs')].model_hub.aggregate.session_duration(time_aggregation='YYYY-MM').head()"
   ]
  },
  {
   "cell_type": "markdown",
   "id": "c0e6a29a",
   "metadata": {},
   "source": [
    "## Top user interactions"
   ]
  },
  {
   "cell_type": "code",
   "execution_count": null,
   "id": "4eae1d95",
   "metadata": {
    "scrolled": true
   },
   "outputs": [],
   "source": [
    "# select PressEvent and MediaStart event, to focus on user actions\n",
    "users_feature = of[(of.event_type == 'PressEvent') |\n",
    "                   (of.event_type == 'MediaStartEvent')]\n",
    "\n",
    "# users by feature\n",
    "users_feature = users_feature.groupby(['feature_nice_name', 'event_type']).agg({'user_id':'nunique'})\n",
    "users_feature.sort_values('user_id_nunique', ascending=False).head()"
   ]
  },
  {
   "cell_type": "markdown",
   "id": "dcf82009",
   "metadata": {},
   "source": [
    "## What did users do most on home?"
   ]
  },
  {
   "cell_type": "code",
   "execution_count": null,
   "id": "a757be5a",
   "metadata": {},
   "outputs": [],
   "source": [
    "# select homepage RootLocation only\n",
    "home_users = of[(of.root_location == 'home')]\n",
    "\n",
    "# select PressEvent and MediaStart event, to focus on user actions\n",
    "home_users = home_users[(home_users.event_type == 'PressEvent') |\n",
    "                   (home_users.event_type == 'MediaStartEvent')]\n",
    "\n",
    "# home users by feature\n",
    "home_users = home_users.groupby(['feature_nice_name']).agg({'user_id':'nunique'})\n",
    "home_users.sort_values('user_id_nunique', ascending=False).head()"
   ]
  },
  {
   "cell_type": "markdown",
   "id": "e9e5de5a",
   "metadata": {},
   "source": [
    "## What did users do most in docs?"
   ]
  },
  {
   "cell_type": "code",
   "execution_count": null,
   "id": "3f8c4ae0",
   "metadata": {},
   "outputs": [],
   "source": [
    "# select docs RootLocation only\n",
    "docs_users = of[(of.root_location == 'docs')]\n",
    "\n",
    "# select PressEvent and MediaStart event, to focus on user actions\n",
    "docs_users = docs_users[(docs_users.event_type == 'PressEvent') |\n",
    "                   (docs_users.event_type == 'MediaStartEvent')]\n",
    "\n",
    "# docs users by feature\n",
    "docs_users = docs_users.groupby(['feature_nice_name']).agg({'user_id':'nunique'})\n",
    "docs_users.sort_values('user_id_nunique', ascending=False).head()"
   ]
  },
  {
   "cell_type": "markdown",
   "id": "3bda262d",
   "metadata": {},
   "source": [
    "## Set conversion"
   ]
  },
  {
   "cell_type": "code",
   "execution_count": null,
   "id": "897180ac",
   "metadata": {
    "scrolled": true
   },
   "outputs": [],
   "source": [
    "# NOTE: CAN WE DO THIS IN 1 GO AND DEFINE 1 CONVERSION EVENT NAME?\n",
    "\n",
    "# define which events to use as conversion events\n",
    "of.add_conversion_event(location_stack=of.location_stack.json[{'id': 'objectiv-on-github', '_type': 'LinkContext'}:],\n",
    "                        event_type='PressEvent',\n",
    "                        name='github_cta')\n",
    "\n",
    "of.add_conversion_event(location_stack=of.location_stack.json[{'id': 'github', '_type': 'LinkContext'}:],\n",
    "                        event_type='PressEvent',\n",
    "                        name='github_nav')\n",
    "\n",
    "# add conversion events to the dataframe\n",
    "conversion_events = (of.model_hub.map.is_conversion_event('github_cta')|\n",
    "                    of.model_hub.map.is_conversion_event('github_nav'))"
   ]
  },
  {
   "cell_type": "markdown",
   "id": "23b03791",
   "metadata": {},
   "source": [
    "## Number of daily conversions"
   ]
  },
  {
   "cell_type": "code",
   "execution_count": null,
   "id": "f4f6f7e7",
   "metadata": {},
   "outputs": [],
   "source": [
    "of.model_hub.filter(conversion_events).model_hub.aggregate.unique_users().sort_index(ascending=False).head(10)"
   ]
  },
  {
   "cell_type": "markdown",
   "id": "a1335d5d",
   "metadata": {},
   "source": [
    "## From where do users convert most?"
   ]
  },
  {
   "cell_type": "code",
   "execution_count": null,
   "id": "88a0e85b",
   "metadata": {},
   "outputs": [],
   "source": [
    "# filter conversion events\n",
    "conversion_locations = of.model_hub.filter(conversion_events).groupby(['feature_nice_name', 'event_type'])\\\n",
    "    .agg({'user_id':'nunique'})\n",
    "\n",
    "conversion_locations.sort_values('user_id_nunique', ascending=False).head()"
   ]
  },
  {
   "cell_type": "markdown",
   "id": "5685ec0e",
   "metadata": {},
   "source": [
    "## Time spent for converting users?"
   ]
  },
  {
   "cell_type": "code",
   "execution_count": null,
   "id": "933d61a3",
   "metadata": {},
   "outputs": [],
   "source": [
    "# NOTE: NOW ONLY TAKES 1 OF THE CONVERSION EVENTS\n",
    "\n",
    "# use model hub to filter converting users and calculate duration\n",
    "of.model_hub.filter(of.model_hub.map.conversion_count(name='github_cta')>=1)\\\n",
    "  .model_hub.agg.session_duration()\\\n",
    "  .head()"
   ]
  },
  {
   "cell_type": "markdown",
   "id": "30c7df8c",
   "metadata": {},
   "source": [
    "## Top user interactions before conversions"
   ]
  },
  {
   "cell_type": "code",
   "execution_count": null,
   "id": "c24b0d9a",
   "metadata": {},
   "outputs": [],
   "source": [
    "## LET'S DISCUSS MAKING A BACH FUNCTION, OTHERWISE LOTS OF MERGING AND SORTING DFs\n"
   ]
  }
 ],
 "metadata": {
  "kernelspec": {
   "display_name": "Python 3 (ipykernel)",
   "language": "python",
   "name": "python3"
  },
  "language_info": {
   "codemirror_mode": {
    "name": "ipython",
    "version": 3
   },
   "file_extension": ".py",
   "mimetype": "text/x-python",
   "name": "python",
   "nbconvert_exporter": "python",
   "pygments_lexer": "ipython3",
   "version": "3.9.10"
  }
 },
 "nbformat": 4,
 "nbformat_minor": 5
}
