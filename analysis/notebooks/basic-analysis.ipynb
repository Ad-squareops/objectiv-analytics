{
 "cells": [
  {
   "cell_type": "markdown",
   "id": "277e303e",
   "metadata": {},
   "source": [
    "# Basic analysis"
   ]
  },
  {
   "cell_type": "code",
   "execution_count": 1,
   "id": "4bd369f6",
   "metadata": {},
   "outputs": [],
   "source": [
    "# import Bach\n",
    "from bach_open_taxonomy import ObjectivFrame "
   ]
  },
  {
   "cell_type": "code",
   "execution_count": 2,
   "id": "da4ec1a0",
   "metadata": {},
   "outputs": [],
   "source": [
    "# connect to SQL db\n",
    "of = ObjectivFrame.from_objectiv_data(db_url='postgresql://@localhost:5433/objectiv',\n",
    "                                      table_name='data',\n",
    "                                      time_aggregation='YYYY-MM-DD',\n",
    "                                      start_date='2022-02-02')"
   ]
  },
  {
   "cell_type": "code",
   "execution_count": 3,
   "id": "4e130b67",
   "metadata": {},
   "outputs": [],
   "source": [
    "# adding specific contexts to the data\n",
    "of['application'] = of.global_contexts.gc.get_from_context_with_type_series(type='ApplicationContext', key='id')\n",
    "of['root_location'] = of.location_stack.ls.get_from_context_with_type_series(type='RootLocationContext', key='id')\n",
    "of['referrer'] = of.global_contexts.gc.get_from_context_with_type_series(type='HttpContext', key='referrer')\n",
    "of['feature_nice_name'] = of.location_stack.ls.nice_name"
   ]
  },
  {
   "cell_type": "code",
   "execution_count": 4,
   "id": "3c4ad65e",
   "metadata": {},
   "outputs": [
    {
     "data": {
      "text/html": [
       "<div>\n",
       "<style scoped>\n",
       "    .dataframe tbody tr th:only-of-type {\n",
       "        vertical-align: middle;\n",
       "    }\n",
       "\n",
       "    .dataframe tbody tr th {\n",
       "        vertical-align: top;\n",
       "    }\n",
       "\n",
       "    .dataframe thead th {\n",
       "        text-align: right;\n",
       "    }\n",
       "</style>\n",
       "<table border=\"1\" class=\"dataframe\">\n",
       "  <thead>\n",
       "    <tr style=\"text-align: right;\">\n",
       "      <th></th>\n",
       "      <th>day</th>\n",
       "      <th>moment</th>\n",
       "      <th>user_id</th>\n",
       "      <th>global_contexts</th>\n",
       "      <th>location_stack</th>\n",
       "      <th>event_type</th>\n",
       "      <th>stack_event_types</th>\n",
       "      <th>session_id</th>\n",
       "      <th>session_hit_number</th>\n",
       "      <th>application</th>\n",
       "      <th>root_location</th>\n",
       "      <th>referrer</th>\n",
       "      <th>feature_nice_name</th>\n",
       "    </tr>\n",
       "    <tr>\n",
       "      <th>event_id</th>\n",
       "      <th></th>\n",
       "      <th></th>\n",
       "      <th></th>\n",
       "      <th></th>\n",
       "      <th></th>\n",
       "      <th></th>\n",
       "      <th></th>\n",
       "      <th></th>\n",
       "      <th></th>\n",
       "      <th></th>\n",
       "      <th></th>\n",
       "      <th></th>\n",
       "      <th></th>\n",
       "    </tr>\n",
       "  </thead>\n",
       "  <tbody>\n",
       "    <tr>\n",
       "      <th>81b19582-e106-4115-a0be-1165c2d6be0d</th>\n",
       "      <td>2022-02-16</td>\n",
       "      <td>2022-02-16 14:52:29.662</td>\n",
       "      <td>30ea7fc7-7dbe-4080-b980-55120503479d</td>\n",
       "      <td>[{'id': 'http_context', '_type': 'HttpContext'...</td>\n",
       "      <td>[{'id': 'tracking', '_type': 'RootLocationCont...</td>\n",
       "      <td>ApplicationLoadedEvent</td>\n",
       "      <td>[AbstractEvent, ApplicationLoadedEvent, NonInt...</td>\n",
       "      <td>1034</td>\n",
       "      <td>3</td>\n",
       "      <td>objectiv-docs</td>\n",
       "      <td>tracking</td>\n",
       "      <td></td>\n",
       "      <td>Root Location: tracking</td>\n",
       "    </tr>\n",
       "    <tr>\n",
       "      <th>5623f530-81c1-425d-9b0e-1504f9b3170c</th>\n",
       "      <td>2022-02-16</td>\n",
       "      <td>2022-02-16 14:52:29.658</td>\n",
       "      <td>30ea7fc7-7dbe-4080-b980-55120503479d</td>\n",
       "      <td>[{'id': 'http_context', '_type': 'HttpContext'...</td>\n",
       "      <td>[{'id': 'tracking', '_type': 'RootLocationCont...</td>\n",
       "      <td>VisibleEvent</td>\n",
       "      <td>[AbstractEvent, NonInteractiveEvent, VisibleEv...</td>\n",
       "      <td>1034</td>\n",
       "      <td>2</td>\n",
       "      <td>objectiv-docs</td>\n",
       "      <td>tracking</td>\n",
       "      <td></td>\n",
       "      <td>Expandable: Angular SDK located at Root Locati...</td>\n",
       "    </tr>\n",
       "    <tr>\n",
       "      <th>332f409d-cfc2-4cf3-81a8-3bde3054257c</th>\n",
       "      <td>2022-02-16</td>\n",
       "      <td>2022-02-16 14:52:29.658</td>\n",
       "      <td>30ea7fc7-7dbe-4080-b980-55120503479d</td>\n",
       "      <td>[{'id': 'http_context', '_type': 'HttpContext'...</td>\n",
       "      <td>[{'id': 'tracking', '_type': 'RootLocationCont...</td>\n",
       "      <td>VisibleEvent</td>\n",
       "      <td>[AbstractEvent, NonInteractiveEvent, VisibleEv...</td>\n",
       "      <td>1034</td>\n",
       "      <td>1</td>\n",
       "      <td>objectiv-docs</td>\n",
       "      <td>tracking</td>\n",
       "      <td></td>\n",
       "      <td>Expandable: How-to-Guides located at Root Loca...</td>\n",
       "    </tr>\n",
       "    <tr>\n",
       "      <th>6d80c41e-b3da-4fd5-be64-d211afb0d78c</th>\n",
       "      <td>2022-02-16</td>\n",
       "      <td>2022-02-16 14:48:23.147</td>\n",
       "      <td>7c406acb-3d85-416f-a515-1caf6bc2a8a1</td>\n",
       "      <td>[{'id': 'http_context', '_type': 'HttpContext'...</td>\n",
       "      <td>[{'id': 'tracking', '_type': 'RootLocationCont...</td>\n",
       "      <td>VisibleEvent</td>\n",
       "      <td>[AbstractEvent, NonInteractiveEvent, VisibleEv...</td>\n",
       "      <td>1033</td>\n",
       "      <td>1</td>\n",
       "      <td>objectiv-docs</td>\n",
       "      <td>tracking</td>\n",
       "      <td></td>\n",
       "      <td>Expandable: Angular SDK located at Root Locati...</td>\n",
       "    </tr>\n",
       "    <tr>\n",
       "      <th>b008f3bc-5c75-4241-a658-f19df13b59ab</th>\n",
       "      <td>2022-02-16</td>\n",
       "      <td>2022-02-16 14:48:23.147</td>\n",
       "      <td>7c406acb-3d85-416f-a515-1caf6bc2a8a1</td>\n",
       "      <td>[{'id': 'http_context', '_type': 'HttpContext'...</td>\n",
       "      <td>[{'id': 'tracking', '_type': 'RootLocationCont...</td>\n",
       "      <td>VisibleEvent</td>\n",
       "      <td>[AbstractEvent, NonInteractiveEvent, VisibleEv...</td>\n",
       "      <td>1033</td>\n",
       "      <td>2</td>\n",
       "      <td>objectiv-docs</td>\n",
       "      <td>tracking</td>\n",
       "      <td></td>\n",
       "      <td>Expandable: How-to-Guides located at Root Loca...</td>\n",
       "    </tr>\n",
       "  </tbody>\n",
       "</table>\n",
       "</div>"
      ],
      "text/plain": [
       "                                             day                  moment  \\\n",
       "event_id                                                                   \n",
       "81b19582-e106-4115-a0be-1165c2d6be0d  2022-02-16 2022-02-16 14:52:29.662   \n",
       "5623f530-81c1-425d-9b0e-1504f9b3170c  2022-02-16 2022-02-16 14:52:29.658   \n",
       "332f409d-cfc2-4cf3-81a8-3bde3054257c  2022-02-16 2022-02-16 14:52:29.658   \n",
       "6d80c41e-b3da-4fd5-be64-d211afb0d78c  2022-02-16 2022-02-16 14:48:23.147   \n",
       "b008f3bc-5c75-4241-a658-f19df13b59ab  2022-02-16 2022-02-16 14:48:23.147   \n",
       "\n",
       "                                                                   user_id  \\\n",
       "event_id                                                                     \n",
       "81b19582-e106-4115-a0be-1165c2d6be0d  30ea7fc7-7dbe-4080-b980-55120503479d   \n",
       "5623f530-81c1-425d-9b0e-1504f9b3170c  30ea7fc7-7dbe-4080-b980-55120503479d   \n",
       "332f409d-cfc2-4cf3-81a8-3bde3054257c  30ea7fc7-7dbe-4080-b980-55120503479d   \n",
       "6d80c41e-b3da-4fd5-be64-d211afb0d78c  7c406acb-3d85-416f-a515-1caf6bc2a8a1   \n",
       "b008f3bc-5c75-4241-a658-f19df13b59ab  7c406acb-3d85-416f-a515-1caf6bc2a8a1   \n",
       "\n",
       "                                                                        global_contexts  \\\n",
       "event_id                                                                                  \n",
       "81b19582-e106-4115-a0be-1165c2d6be0d  [{'id': 'http_context', '_type': 'HttpContext'...   \n",
       "5623f530-81c1-425d-9b0e-1504f9b3170c  [{'id': 'http_context', '_type': 'HttpContext'...   \n",
       "332f409d-cfc2-4cf3-81a8-3bde3054257c  [{'id': 'http_context', '_type': 'HttpContext'...   \n",
       "6d80c41e-b3da-4fd5-be64-d211afb0d78c  [{'id': 'http_context', '_type': 'HttpContext'...   \n",
       "b008f3bc-5c75-4241-a658-f19df13b59ab  [{'id': 'http_context', '_type': 'HttpContext'...   \n",
       "\n",
       "                                                                         location_stack  \\\n",
       "event_id                                                                                  \n",
       "81b19582-e106-4115-a0be-1165c2d6be0d  [{'id': 'tracking', '_type': 'RootLocationCont...   \n",
       "5623f530-81c1-425d-9b0e-1504f9b3170c  [{'id': 'tracking', '_type': 'RootLocationCont...   \n",
       "332f409d-cfc2-4cf3-81a8-3bde3054257c  [{'id': 'tracking', '_type': 'RootLocationCont...   \n",
       "6d80c41e-b3da-4fd5-be64-d211afb0d78c  [{'id': 'tracking', '_type': 'RootLocationCont...   \n",
       "b008f3bc-5c75-4241-a658-f19df13b59ab  [{'id': 'tracking', '_type': 'RootLocationCont...   \n",
       "\n",
       "                                                  event_type  \\\n",
       "event_id                                                       \n",
       "81b19582-e106-4115-a0be-1165c2d6be0d  ApplicationLoadedEvent   \n",
       "5623f530-81c1-425d-9b0e-1504f9b3170c            VisibleEvent   \n",
       "332f409d-cfc2-4cf3-81a8-3bde3054257c            VisibleEvent   \n",
       "6d80c41e-b3da-4fd5-be64-d211afb0d78c            VisibleEvent   \n",
       "b008f3bc-5c75-4241-a658-f19df13b59ab            VisibleEvent   \n",
       "\n",
       "                                                                      stack_event_types  \\\n",
       "event_id                                                                                  \n",
       "81b19582-e106-4115-a0be-1165c2d6be0d  [AbstractEvent, ApplicationLoadedEvent, NonInt...   \n",
       "5623f530-81c1-425d-9b0e-1504f9b3170c  [AbstractEvent, NonInteractiveEvent, VisibleEv...   \n",
       "332f409d-cfc2-4cf3-81a8-3bde3054257c  [AbstractEvent, NonInteractiveEvent, VisibleEv...   \n",
       "6d80c41e-b3da-4fd5-be64-d211afb0d78c  [AbstractEvent, NonInteractiveEvent, VisibleEv...   \n",
       "b008f3bc-5c75-4241-a658-f19df13b59ab  [AbstractEvent, NonInteractiveEvent, VisibleEv...   \n",
       "\n",
       "                                      session_id  session_hit_number  \\\n",
       "event_id                                                               \n",
       "81b19582-e106-4115-a0be-1165c2d6be0d        1034                   3   \n",
       "5623f530-81c1-425d-9b0e-1504f9b3170c        1034                   2   \n",
       "332f409d-cfc2-4cf3-81a8-3bde3054257c        1034                   1   \n",
       "6d80c41e-b3da-4fd5-be64-d211afb0d78c        1033                   1   \n",
       "b008f3bc-5c75-4241-a658-f19df13b59ab        1033                   2   \n",
       "\n",
       "                                        application root_location referrer  \\\n",
       "event_id                                                                     \n",
       "81b19582-e106-4115-a0be-1165c2d6be0d  objectiv-docs      tracking            \n",
       "5623f530-81c1-425d-9b0e-1504f9b3170c  objectiv-docs      tracking            \n",
       "332f409d-cfc2-4cf3-81a8-3bde3054257c  objectiv-docs      tracking            \n",
       "6d80c41e-b3da-4fd5-be64-d211afb0d78c  objectiv-docs      tracking            \n",
       "b008f3bc-5c75-4241-a658-f19df13b59ab  objectiv-docs      tracking            \n",
       "\n",
       "                                                                      feature_nice_name  \n",
       "event_id                                                                                 \n",
       "81b19582-e106-4115-a0be-1165c2d6be0d                            Root Location: tracking  \n",
       "5623f530-81c1-425d-9b0e-1504f9b3170c  Expandable: Angular SDK located at Root Locati...  \n",
       "332f409d-cfc2-4cf3-81a8-3bde3054257c  Expandable: How-to-Guides located at Root Loca...  \n",
       "6d80c41e-b3da-4fd5-be64-d211afb0d78c  Expandable: Angular SDK located at Root Locati...  \n",
       "b008f3bc-5c75-4241-a658-f19df13b59ab  Expandable: How-to-Guides located at Root Loca...  "
      ]
     },
     "execution_count": 4,
     "metadata": {},
     "output_type": "execute_result"
    }
   ],
   "source": [
    "# explore the data\n",
    "of.sort_values('session_id', ascending=False).head()"
   ]
  },
  {
   "cell_type": "code",
   "execution_count": 5,
   "id": "38aa346a",
   "metadata": {},
   "outputs": [
    {
     "data": {
      "text/html": [
       "<div>\n",
       "<style scoped>\n",
       "    .dataframe tbody tr th:only-of-type {\n",
       "        vertical-align: middle;\n",
       "    }\n",
       "\n",
       "    .dataframe tbody tr th {\n",
       "        vertical-align: top;\n",
       "    }\n",
       "\n",
       "    .dataframe thead th {\n",
       "        text-align: right;\n",
       "    }\n",
       "</style>\n",
       "<table border=\"1\" class=\"dataframe\">\n",
       "  <thead>\n",
       "    <tr style=\"text-align: right;\">\n",
       "      <th></th>\n",
       "      <th>day</th>\n",
       "      <th>moment</th>\n",
       "      <th>event_type</th>\n",
       "      <th>session_id</th>\n",
       "      <th>session_hit_number</th>\n",
       "      <th>application</th>\n",
       "      <th>root_location</th>\n",
       "      <th>referrer</th>\n",
       "      <th>feature_nice_name</th>\n",
       "    </tr>\n",
       "    <tr>\n",
       "      <th>__stat</th>\n",
       "      <th></th>\n",
       "      <th></th>\n",
       "      <th></th>\n",
       "      <th></th>\n",
       "      <th></th>\n",
       "      <th></th>\n",
       "      <th></th>\n",
       "      <th></th>\n",
       "      <th></th>\n",
       "    </tr>\n",
       "  </thead>\n",
       "  <tbody>\n",
       "    <tr>\n",
       "      <th>count</th>\n",
       "      <td>10039</td>\n",
       "      <td>10039</td>\n",
       "      <td>10039</td>\n",
       "      <td>10039.00</td>\n",
       "      <td>10039.00</td>\n",
       "      <td>10039</td>\n",
       "      <td>10039</td>\n",
       "      <td>1665</td>\n",
       "      <td>10039</td>\n",
       "    </tr>\n",
       "    <tr>\n",
       "      <th>mean</th>\n",
       "      <td>None</td>\n",
       "      <td>None</td>\n",
       "      <td>None</td>\n",
       "      <td>442.15</td>\n",
       "      <td>22.43</td>\n",
       "      <td>None</td>\n",
       "      <td>None</td>\n",
       "      <td>None</td>\n",
       "      <td>None</td>\n",
       "    </tr>\n",
       "    <tr>\n",
       "      <th>std</th>\n",
       "      <td>None</td>\n",
       "      <td>None</td>\n",
       "      <td>None</td>\n",
       "      <td>339.51</td>\n",
       "      <td>36.73</td>\n",
       "      <td>None</td>\n",
       "      <td>None</td>\n",
       "      <td>None</td>\n",
       "      <td>None</td>\n",
       "    </tr>\n",
       "    <tr>\n",
       "      <th>min</th>\n",
       "      <td>2022-02-02</td>\n",
       "      <td>2022-02-02 06:49:11.152</td>\n",
       "      <td>ApplicationLoadedEvent</td>\n",
       "      <td>1.00</td>\n",
       "      <td>1.00</td>\n",
       "      <td>objectiv-docs</td>\n",
       "      <td>about</td>\n",
       "      <td></td>\n",
       "      <td>Expandable: Aggregation &amp; windowing located at...</td>\n",
       "    </tr>\n",
       "    <tr>\n",
       "      <th>max</th>\n",
       "      <td>2022-02-16</td>\n",
       "      <td>2022-02-16 14:52:29.662</td>\n",
       "      <td>VisibleEvent</td>\n",
       "      <td>1034.00</td>\n",
       "      <td>308.00</td>\n",
       "      <td>objectiv-website</td>\n",
       "      <td>tracking</td>\n",
       "      <td>https://www.objectiv.io/</td>\n",
       "      <td>Root Location: tracking</td>\n",
       "    </tr>\n",
       "  </tbody>\n",
       "</table>\n",
       "</div>"
      ],
      "text/plain": [
       "               day                   moment              event_type  \\\n",
       "__stat                                                                \n",
       "count        10039                    10039                   10039   \n",
       "mean          None                     None                    None   \n",
       "std           None                     None                    None   \n",
       "min     2022-02-02  2022-02-02 06:49:11.152  ApplicationLoadedEvent   \n",
       "max     2022-02-16  2022-02-16 14:52:29.662            VisibleEvent   \n",
       "\n",
       "        session_id  session_hit_number       application root_location  \\\n",
       "__stat                                                                   \n",
       "count     10039.00            10039.00             10039         10039   \n",
       "mean        442.15               22.43              None          None   \n",
       "std         339.51               36.73              None          None   \n",
       "min           1.00                1.00     objectiv-docs         about   \n",
       "max        1034.00              308.00  objectiv-website      tracking   \n",
       "\n",
       "                        referrer  \\\n",
       "__stat                             \n",
       "count                       1665   \n",
       "mean                        None   \n",
       "std                         None   \n",
       "min                                \n",
       "max     https://www.objectiv.io/   \n",
       "\n",
       "                                        feature_nice_name  \n",
       "__stat                                                     \n",
       "count                                               10039  \n",
       "mean                                                 None  \n",
       "std                                                  None  \n",
       "min     Expandable: Aggregation & windowing located at...  \n",
       "max                               Root Location: tracking  "
      ]
     },
     "execution_count": 5,
     "metadata": {},
     "output_type": "execute_result"
    }
   ],
   "source": [
    "# explore the data with describe\n",
    "of.describe(include='all').head()"
   ]
  },
  {
   "cell_type": "markdown",
   "id": "03bfa810",
   "metadata": {},
   "source": [
    "## Users"
   ]
  },
  {
   "cell_type": "code",
   "execution_count": 6,
   "id": "08ad4e39",
   "metadata": {},
   "outputs": [
    {
     "data": {
      "text/plain": [
       "moment\n",
       "2022-02    538\n",
       "Name: unique_users, dtype: int64"
      ]
     },
     "execution_count": 6,
     "metadata": {},
     "output_type": "execute_result"
    }
   ],
   "source": [
    "# model hub: unique users, total month\n",
    "users = of.model_hub.aggregate.unique_users(time_aggregation='YYYY-MM')\n",
    "users.sort_index(ascending=False).head()"
   ]
  },
  {
   "cell_type": "code",
   "execution_count": 7,
   "id": "172f431c",
   "metadata": {},
   "outputs": [
    {
     "data": {
      "text/plain": [
       "moment\n",
       "2022-02-16     19\n",
       "2022-02-15     21\n",
       "2022-02-14     28\n",
       "2022-02-13      3\n",
       "2022-02-12      8\n",
       "2022-02-11     24\n",
       "2022-02-10     16\n",
       "2022-02-09     26\n",
       "2022-02-08     35\n",
       "2022-02-07     52\n",
       "2022-02-06     21\n",
       "2022-02-05     34\n",
       "2022-02-04     58\n",
       "2022-02-03    115\n",
       "2022-02-02    245\n",
       "Name: unique_users, dtype: int64"
      ]
     },
     "execution_count": 7,
     "metadata": {},
     "output_type": "execute_result"
    }
   ],
   "source": [
    "# model hub: unique users, daily\n",
    "users = of.model_hub.aggregate.unique_users()\n",
    "users.sort_index(ascending=False).head(15)"
   ]
  },
  {
   "cell_type": "code",
   "execution_count": 8,
   "id": "fec344a2",
   "metadata": {},
   "outputs": [
    {
     "data": {
      "text/html": [
       "<div>\n",
       "<style scoped>\n",
       "    .dataframe tbody tr th:only-of-type {\n",
       "        vertical-align: middle;\n",
       "    }\n",
       "\n",
       "    .dataframe tbody tr th {\n",
       "        vertical-align: top;\n",
       "    }\n",
       "\n",
       "    .dataframe thead th {\n",
       "        text-align: right;\n",
       "    }\n",
       "</style>\n",
       "<table border=\"1\" class=\"dataframe\">\n",
       "  <thead>\n",
       "    <tr style=\"text-align: right;\">\n",
       "      <th></th>\n",
       "      <th></th>\n",
       "      <th>user_id_nunique</th>\n",
       "    </tr>\n",
       "    <tr>\n",
       "      <th>application</th>\n",
       "      <th>root_location</th>\n",
       "      <th></th>\n",
       "    </tr>\n",
       "  </thead>\n",
       "  <tbody>\n",
       "    <tr>\n",
       "      <th rowspan=\"2\" valign=\"top\">objectiv-website</th>\n",
       "      <th>blog</th>\n",
       "      <td>281</td>\n",
       "    </tr>\n",
       "    <tr>\n",
       "      <th>home</th>\n",
       "      <td>274</td>\n",
       "    </tr>\n",
       "    <tr>\n",
       "      <th>objectiv-docs</th>\n",
       "      <th>docs</th>\n",
       "      <td>175</td>\n",
       "    </tr>\n",
       "    <tr>\n",
       "      <th rowspan=\"2\" valign=\"top\">objectiv-website</th>\n",
       "      <th>about</th>\n",
       "      <td>90</td>\n",
       "    </tr>\n",
       "    <tr>\n",
       "      <th>jobs</th>\n",
       "      <td>79</td>\n",
       "    </tr>\n",
       "    <tr>\n",
       "      <th rowspan=\"4\" valign=\"top\">objectiv-docs</th>\n",
       "      <th>home</th>\n",
       "      <td>18</td>\n",
       "    </tr>\n",
       "    <tr>\n",
       "      <th>modeling</th>\n",
       "      <td>12</td>\n",
       "    </tr>\n",
       "    <tr>\n",
       "      <th>tracking</th>\n",
       "      <td>11</td>\n",
       "    </tr>\n",
       "    <tr>\n",
       "      <th>taxonomy</th>\n",
       "      <td>10</td>\n",
       "    </tr>\n",
       "    <tr>\n",
       "      <th>objectiv-website</th>\n",
       "      <th>privacy</th>\n",
       "      <td>8</td>\n",
       "    </tr>\n",
       "  </tbody>\n",
       "</table>\n",
       "</div>"
      ],
      "text/plain": [
       "                                user_id_nunique\n",
       "application      root_location                 \n",
       "objectiv-website blog                       281\n",
       "                 home                       274\n",
       "objectiv-docs    docs                       175\n",
       "objectiv-website about                       90\n",
       "                 jobs                        79\n",
       "objectiv-docs    home                        18\n",
       "                 modeling                    12\n",
       "                 tracking                    11\n",
       "                 taxonomy                    10\n",
       "objectiv-website privacy                      8"
      ]
     },
     "execution_count": 8,
     "metadata": {},
     "output_type": "execute_result"
    }
   ],
   "source": [
    "# users by RootLocation\n",
    "users_root = of.groupby(['application', 'root_location']).agg({'user_id':'nunique'})\n",
    "users_root.sort_values('user_id_nunique', ascending=False).head(10)"
   ]
  },
  {
   "cell_type": "markdown",
   "id": "1a6de3da",
   "metadata": {},
   "source": [
    "## Time spent"
   ]
  },
  {
   "cell_type": "code",
   "execution_count": 9,
   "id": "51af4b82",
   "metadata": {
    "scrolled": true
   },
   "outputs": [
    {
     "data": {
      "text/plain": [
       "moment\n",
       "2022-02   0 days 00:05:44.041577\n",
       "Name: session_duration, dtype: timedelta64[ns]"
      ]
     },
     "execution_count": 9,
     "metadata": {},
     "output_type": "execute_result"
    }
   ],
   "source": [
    "# model hub: duration, total month\n",
    "duration = of.model_hub.aggregate.session_duration(time_aggregation='YYYY-MM')\n",
    "duration.sort_index(ascending=False).head()"
   ]
  },
  {
   "cell_type": "code",
   "execution_count": 10,
   "id": "9fb041b2",
   "metadata": {},
   "outputs": [
    {
     "data": {
      "text/plain": [
       "moment\n",
       "2022-02-16   0 days 00:08:05.394577\n",
       "2022-02-15   0 days 00:11:16.813353\n",
       "2022-02-14   0 days 00:11:33.540325\n",
       "2022-02-13   0 days 00:00:24.635000\n",
       "2022-02-12   0 days 00:02:30.655000\n",
       "Name: session_duration, dtype: timedelta64[ns]"
      ]
     },
     "execution_count": 10,
     "metadata": {},
     "output_type": "execute_result"
    }
   ],
   "source": [
    "# model hub: duration, daily\n",
    "duration = of.model_hub.aggregate.session_duration(time_aggregation='YYYY-MM-DD')\n",
    "duration.sort_index(ascending=False).head()"
   ]
  },
  {
   "cell_type": "code",
   "execution_count": 11,
   "id": "4f929f0a",
   "metadata": {},
   "outputs": [
    {
     "data": {
      "text/plain": [
       "moment\n",
       "2022-02   0 days 00:06:23.925473\n",
       "Name: session_duration, dtype: timedelta64[ns]"
      ]
     },
     "execution_count": 11,
     "metadata": {},
     "output_type": "execute_result"
    }
   ],
   "source": [
    "# duration for RootLocation home \n",
    "of[(of.root_location == 'home')].model_hub.aggregate.session_duration(time_aggregation='YYYY-MM').head()"
   ]
  },
  {
   "cell_type": "code",
   "execution_count": 12,
   "id": "488718ce",
   "metadata": {},
   "outputs": [
    {
     "data": {
      "text/plain": [
       "moment\n",
       "2022-02   0 days 00:02:58.632819\n",
       "Name: session_duration, dtype: timedelta64[ns]"
      ]
     },
     "execution_count": 12,
     "metadata": {},
     "output_type": "execute_result"
    }
   ],
   "source": [
    "# duration for RootLocation blog\n",
    "of[(of.root_location == 'blog')].model_hub.aggregate.session_duration(time_aggregation='YYYY-MM').head()"
   ]
  },
  {
   "cell_type": "code",
   "execution_count": 13,
   "id": "5d8dce27",
   "metadata": {
    "scrolled": true
   },
   "outputs": [
    {
     "data": {
      "text/plain": [
       "moment\n",
       "2022-02   0 days 00:08:03.566851\n",
       "Name: session_duration, dtype: timedelta64[ns]"
      ]
     },
     "execution_count": 13,
     "metadata": {},
     "output_type": "execute_result"
    }
   ],
   "source": [
    "# duration for the whole docs\n",
    "of[(of.application == 'objectiv-docs')].model_hub.aggregate.session_duration(time_aggregation='YYYY-MM').head()"
   ]
  },
  {
   "cell_type": "markdown",
   "id": "12f3be2a",
   "metadata": {},
   "source": [
    "## Distribution of time spent"
   ]
  },
  {
   "cell_type": "code",
   "execution_count": 14,
   "id": "3cdd1e88",
   "metadata": {},
   "outputs": [
    {
     "data": {
      "text/plain": [
       "__stat\n",
       "count                 1034\n",
       "mean       00:04:55.463172\n",
       "min               00:00:00\n",
       "max            06:03:47.69\n",
       "nunique                843\n",
       "Name: duration, dtype: object"
      ]
     },
     "execution_count": 14,
     "metadata": {},
     "output_type": "execute_result"
    }
   ],
   "source": [
    "# first calculate the duration of each session\n",
    "session_duration = of.groupby(['session_id']).agg({'moment':['min', 'max']})\n",
    "session_duration['duration'] = session_duration['moment_max'] - session_duration['moment_min']\n",
    "\n",
    "# explore the durations with describe\n",
    "session_duration['duration'].describe().head()"
   ]
  },
  {
   "cell_type": "code",
   "execution_count": 15,
   "id": "9dfcb7e5",
   "metadata": {},
   "outputs": [
    {
     "data": {
      "text/plain": [
       "q\n",
       "0.25   0 days 00:00:00.682000\n",
       "0.25   0 days 00:00:00.682000\n",
       "0.75   0 days 00:03:05.253500\n",
       "Name: duration_duration_duration, dtype: timedelta64[ns]"
      ]
     },
     "execution_count": 15,
     "metadata": {},
     "output_type": "execute_result"
    }
   ],
   "source": [
    "# materizalize the df\n",
    "session_duration.materialize(inplace=True)\n",
    "\n",
    "# define the quantiles \n",
    "quantiles = [0.25, 0.25, 0.75]\n",
    "\n",
    "# distribution of time spemt\n",
    "session_duration['duration'].quantile(q=quantiles).head()"
   ]
  },
  {
   "cell_type": "markdown",
   "id": "c0e6a29a",
   "metadata": {},
   "source": [
    "## Top user interactions"
   ]
  },
  {
   "cell_type": "code",
   "execution_count": 16,
   "id": "4eae1d95",
   "metadata": {
    "scrolled": true
   },
   "outputs": [
    {
     "data": {
      "text/html": [
       "<div>\n",
       "<style scoped>\n",
       "    .dataframe tbody tr th:only-of-type {\n",
       "        vertical-align: middle;\n",
       "    }\n",
       "\n",
       "    .dataframe tbody tr th {\n",
       "        vertical-align: top;\n",
       "    }\n",
       "\n",
       "    .dataframe thead th {\n",
       "        text-align: right;\n",
       "    }\n",
       "</style>\n",
       "<table border=\"1\" class=\"dataframe\">\n",
       "  <thead>\n",
       "    <tr style=\"text-align: right;\">\n",
       "      <th></th>\n",
       "      <th></th>\n",
       "      <th></th>\n",
       "      <th>user_id_nunique</th>\n",
       "    </tr>\n",
       "    <tr>\n",
       "      <th>application</th>\n",
       "      <th>feature_nice_name</th>\n",
       "      <th>event_type</th>\n",
       "      <th></th>\n",
       "    </tr>\n",
       "  </thead>\n",
       "  <tbody>\n",
       "    <tr>\n",
       "      <th rowspan=\"5\" valign=\"top\">objectiv-website</th>\n",
       "      <th>Media Player: objectiv-in-2-minutes located at Root Location: blog =&gt; Content: post-meet-objectiv-open-source-product-analytics-designed-for-data-sc</th>\n",
       "      <th>MediaStartEvent</th>\n",
       "      <td>104</td>\n",
       "    </tr>\n",
       "    <tr>\n",
       "      <th>Media Player: 2-minute-video located at Root Location: home</th>\n",
       "      <th>MediaStartEvent</th>\n",
       "      <td>78</td>\n",
       "    </tr>\n",
       "    <tr>\n",
       "      <th>Link: about-us located at Root Location: home =&gt; Navigation: navbar-top</th>\n",
       "      <th>PressEvent</th>\n",
       "      <td>53</td>\n",
       "    </tr>\n",
       "    <tr>\n",
       "      <th>Pressable: hamburger located at Root Location: home =&gt; Navigation: navbar-top</th>\n",
       "      <th>PressEvent</th>\n",
       "      <td>43</td>\n",
       "    </tr>\n",
       "    <tr>\n",
       "      <th>Link: logo located at Root Location: blog =&gt; Navigation: navbar-top</th>\n",
       "      <th>PressEvent</th>\n",
       "      <td>38</td>\n",
       "    </tr>\n",
       "  </tbody>\n",
       "</table>\n",
       "</div>"
      ],
      "text/plain": [
       "                                                                                     user_id_nunique\n",
       "application      feature_nice_name                                  event_type                      \n",
       "objectiv-website Media Player: objectiv-in-2-minutes located at ... MediaStartEvent              104\n",
       "                 Media Player: 2-minute-video located at Root Lo... MediaStartEvent               78\n",
       "                 Link: about-us located at Root Location: home =... PressEvent                    53\n",
       "                 Pressable: hamburger located at Root Location: ... PressEvent                    43\n",
       "                 Link: logo located at Root Location: blog => Na... PressEvent                    38"
      ]
     },
     "execution_count": 16,
     "metadata": {},
     "output_type": "execute_result"
    }
   ],
   "source": [
    "# select PressEvent and MediaStart event, to focus on user actions\n",
    "users_feature = of[(of.event_type == 'PressEvent') |\n",
    "                   (of.event_type == 'MediaStartEvent')]\n",
    "\n",
    "# users by feature\n",
    "users_feature = users_feature.groupby(['application', 'feature_nice_name', 'event_type']).agg({'user_id':'nunique'})\n",
    "users_feature.sort_values('user_id_nunique', ascending=False).head()"
   ]
  },
  {
   "cell_type": "markdown",
   "id": "dcf82009",
   "metadata": {},
   "source": [
    "## What did users do most on home?"
   ]
  },
  {
   "cell_type": "code",
   "execution_count": 17,
   "id": "a757be5a",
   "metadata": {},
   "outputs": [
    {
     "data": {
      "text/html": [
       "<div>\n",
       "<style scoped>\n",
       "    .dataframe tbody tr th:only-of-type {\n",
       "        vertical-align: middle;\n",
       "    }\n",
       "\n",
       "    .dataframe tbody tr th {\n",
       "        vertical-align: top;\n",
       "    }\n",
       "\n",
       "    .dataframe thead th {\n",
       "        text-align: right;\n",
       "    }\n",
       "</style>\n",
       "<table border=\"1\" class=\"dataframe\">\n",
       "  <thead>\n",
       "    <tr style=\"text-align: right;\">\n",
       "      <th></th>\n",
       "      <th></th>\n",
       "      <th>user_id_nunique</th>\n",
       "    </tr>\n",
       "    <tr>\n",
       "      <th>feature_nice_name</th>\n",
       "      <th>event_type</th>\n",
       "      <th></th>\n",
       "    </tr>\n",
       "  </thead>\n",
       "  <tbody>\n",
       "    <tr>\n",
       "      <th>Media Player: 2-minute-video located at Root Location: home</th>\n",
       "      <th>MediaStartEvent</th>\n",
       "      <td>78</td>\n",
       "    </tr>\n",
       "    <tr>\n",
       "      <th>Link: about-us located at Root Location: home =&gt; Navigation: navbar-top</th>\n",
       "      <th>PressEvent</th>\n",
       "      <td>53</td>\n",
       "    </tr>\n",
       "    <tr>\n",
       "      <th>Pressable: hamburger located at Root Location: home =&gt; Navigation: navbar-top</th>\n",
       "      <th>PressEvent</th>\n",
       "      <td>43</td>\n",
       "    </tr>\n",
       "    <tr>\n",
       "      <th>Link: docs located at Root Location: home =&gt; Navigation: navbar-top</th>\n",
       "      <th>PressEvent</th>\n",
       "      <td>24</td>\n",
       "    </tr>\n",
       "    <tr>\n",
       "      <th>Link: blog located at Root Location: home =&gt; Navigation: navbar-top</th>\n",
       "      <th>PressEvent</th>\n",
       "      <td>23</td>\n",
       "    </tr>\n",
       "  </tbody>\n",
       "</table>\n",
       "</div>"
      ],
      "text/plain": [
       "                                                                    user_id_nunique\n",
       "feature_nice_name                                  event_type                      \n",
       "Media Player: 2-minute-video located at Root Lo... MediaStartEvent               78\n",
       "Link: about-us located at Root Location: home =... PressEvent                    53\n",
       "Pressable: hamburger located at Root Location: ... PressEvent                    43\n",
       "Link: docs located at Root Location: home => Na... PressEvent                    24\n",
       "Link: blog located at Root Location: home => Na... PressEvent                    23"
      ]
     },
     "execution_count": 17,
     "metadata": {},
     "output_type": "execute_result"
    }
   ],
   "source": [
    "# select homepage RootLocation only\n",
    "home_users = of[(of.root_location == 'home')]\n",
    "\n",
    "# select website only and exclude the docs\n",
    "home_users = home_users[(home_users.application == 'objectiv-website')]\n",
    "\n",
    "# select PressEvent and MediaStart event, to focus on user actions\n",
    "home_users = home_users[(home_users.event_type == 'PressEvent') |\n",
    "                   (home_users.event_type == 'MediaStartEvent')]\n",
    "\n",
    "# home users by feature\n",
    "home_users = home_users.groupby(['feature_nice_name', 'event_type']).agg({'user_id':'nunique'})\n",
    "home_users.sort_values('user_id_nunique', ascending=False).head()"
   ]
  },
  {
   "cell_type": "markdown",
   "id": "e9e5de5a",
   "metadata": {},
   "source": [
    "## What did users do most in docs?"
   ]
  },
  {
   "cell_type": "code",
   "execution_count": 18,
   "id": "3f8c4ae0",
   "metadata": {},
   "outputs": [
    {
     "data": {
      "text/html": [
       "<div>\n",
       "<style scoped>\n",
       "    .dataframe tbody tr th:only-of-type {\n",
       "        vertical-align: middle;\n",
       "    }\n",
       "\n",
       "    .dataframe tbody tr th {\n",
       "        vertical-align: top;\n",
       "    }\n",
       "\n",
       "    .dataframe thead th {\n",
       "        text-align: right;\n",
       "    }\n",
       "</style>\n",
       "<table border=\"1\" class=\"dataframe\">\n",
       "  <thead>\n",
       "    <tr style=\"text-align: right;\">\n",
       "      <th></th>\n",
       "      <th></th>\n",
       "      <th>user_id_nunique</th>\n",
       "    </tr>\n",
       "    <tr>\n",
       "      <th>feature_nice_name</th>\n",
       "      <th>event_type</th>\n",
       "      <th></th>\n",
       "    </tr>\n",
       "  </thead>\n",
       "  <tbody>\n",
       "    <tr>\n",
       "      <th>Link: Modeling located at Root Location: docs =&gt; Navigation: navbar-top</th>\n",
       "      <th>PressEvent</th>\n",
       "      <td>25</td>\n",
       "    </tr>\n",
       "    <tr>\n",
       "      <th>Link: Tracking located at Root Location: docs =&gt; Navigation: navbar-top</th>\n",
       "      <th>PressEvent</th>\n",
       "      <td>24</td>\n",
       "    </tr>\n",
       "    <tr>\n",
       "      <th>Link: logo located at Root Location: docs =&gt; Navigation: navbar-top</th>\n",
       "      <th>PressEvent</th>\n",
       "      <td>23</td>\n",
       "    </tr>\n",
       "    <tr>\n",
       "      <th>Link: Taxonomy located at Root Location: docs =&gt; Navigation: navbar-top</th>\n",
       "      <th>PressEvent</th>\n",
       "      <td>18</td>\n",
       "    </tr>\n",
       "    <tr>\n",
       "      <th>Link: Core Concepts located at Root Location: docs =&gt; Navigation: docs-sidebar</th>\n",
       "      <th>PressEvent</th>\n",
       "      <td>14</td>\n",
       "    </tr>\n",
       "  </tbody>\n",
       "</table>\n",
       "</div>"
      ],
      "text/plain": [
       "                                                               user_id_nunique\n",
       "feature_nice_name                                  event_type                 \n",
       "Link: Modeling located at Root Location: docs =... PressEvent               25\n",
       "Link: Tracking located at Root Location: docs =... PressEvent               24\n",
       "Link: logo located at Root Location: docs => Na... PressEvent               23\n",
       "Link: Taxonomy located at Root Location: docs =... PressEvent               18\n",
       "Link: Core Concepts located at Root Location: d... PressEvent               14"
      ]
     },
     "execution_count": 18,
     "metadata": {},
     "output_type": "execute_result"
    }
   ],
   "source": [
    "# select docs RootLocation only\n",
    "docs_users = of[(of.application == 'objectiv-docs')]\n",
    "\n",
    "# select PressEvent and MediaStart event, to focus on user actions\n",
    "docs_users = docs_users[(docs_users.event_type == 'PressEvent') |\n",
    "                   (docs_users.event_type == 'MediaStartEvent')]\n",
    "\n",
    "# docs users by feature\n",
    "docs_users = docs_users.groupby(['feature_nice_name', 'event_type']).agg({'user_id':'nunique'})\n",
    "docs_users.sort_values('user_id_nunique', ascending=False).head()"
   ]
  },
  {
   "cell_type": "markdown",
   "id": "eb7374f3",
   "metadata": {},
   "source": [
    "## Where did users come from?"
   ]
  },
  {
   "cell_type": "code",
   "execution_count": 19,
   "id": "6aa28364",
   "metadata": {},
   "outputs": [
    {
     "data": {
      "text/html": [
       "<div>\n",
       "<style scoped>\n",
       "    .dataframe tbody tr th:only-of-type {\n",
       "        vertical-align: middle;\n",
       "    }\n",
       "\n",
       "    .dataframe tbody tr th {\n",
       "        vertical-align: top;\n",
       "    }\n",
       "\n",
       "    .dataframe thead th {\n",
       "        text-align: right;\n",
       "    }\n",
       "</style>\n",
       "<table border=\"1\" class=\"dataframe\">\n",
       "  <thead>\n",
       "    <tr style=\"text-align: right;\">\n",
       "      <th></th>\n",
       "      <th>user_id_nunique</th>\n",
       "    </tr>\n",
       "    <tr>\n",
       "      <th>referrer</th>\n",
       "      <th></th>\n",
       "    </tr>\n",
       "  </thead>\n",
       "  <tbody>\n",
       "    <tr>\n",
       "      <th>None</th>\n",
       "      <td>482</td>\n",
       "    </tr>\n",
       "    <tr>\n",
       "      <th></th>\n",
       "      <td>61</td>\n",
       "    </tr>\n",
       "    <tr>\n",
       "      <th>https://www.google.com/</th>\n",
       "      <td>5</td>\n",
       "    </tr>\n",
       "    <tr>\n",
       "      <th>https://t.co/</th>\n",
       "      <td>4</td>\n",
       "    </tr>\n",
       "    <tr>\n",
       "      <th>https://t.co/4EqHiQfiOf</th>\n",
       "      <td>3</td>\n",
       "    </tr>\n",
       "  </tbody>\n",
       "</table>\n",
       "</div>"
      ],
      "text/plain": [
       "                         user_id_nunique\n",
       "referrer                                \n",
       "None                                 482\n",
       "                                      61\n",
       "https://www.google.com/                5\n",
       "https://t.co/                          4\n",
       "https://t.co/4EqHiQfiOf                3"
      ]
     },
     "execution_count": 19,
     "metadata": {},
     "output_type": "execute_result"
    }
   ],
   "source": [
    "# users by referrer\n",
    "referrer_users = of.groupby(['referrer']).agg({'user_id':'nunique'})\n",
    "referrer_users.sort_values('user_id_nunique', ascending=False).head()"
   ]
  },
  {
   "cell_type": "markdown",
   "id": "3bda262d",
   "metadata": {},
   "source": [
    "## Set conversion"
   ]
  },
  {
   "cell_type": "code",
   "execution_count": 20,
   "id": "897180ac",
   "metadata": {
    "scrolled": true
   },
   "outputs": [],
   "source": [
    "# define which events to use as conversion events\n",
    "of.add_conversion_event(location_stack=of.location_stack.json[{'id': 'objectiv-on-github', \n",
    "                                                        '_type': 'LinkContext'}:].fillna(\n",
    "                                       of.location_stack.json[{'id': 'github', '_type': 'LinkContext'}:]),\n",
    "                        event_type='PressEvent',\n",
    "                        name='github_press')"
   ]
  },
  {
   "cell_type": "markdown",
   "id": "23b03791",
   "metadata": {},
   "source": [
    "## Number of daily conversions"
   ]
  },
  {
   "cell_type": "code",
   "execution_count": 21,
   "id": "f4f6f7e7",
   "metadata": {},
   "outputs": [
    {
     "data": {
      "text/plain": [
       "moment\n",
       "2022-02-16    2\n",
       "2022-02-14    1\n",
       "2022-02-13    1\n",
       "2022-02-12    1\n",
       "2022-02-11    2\n",
       "2022-02-10    2\n",
       "2022-02-09    3\n",
       "2022-02-07    3\n",
       "2022-02-04    5\n",
       "2022-02-03    7\n",
       "Name: unique_users, dtype: int64"
      ]
     },
     "execution_count": 21,
     "metadata": {},
     "output_type": "execute_result"
    }
   ],
   "source": [
    "of.model_hub.filter(of.model_hub.map.is_conversion_event('github_press'))\\\n",
    "    .model_hub.aggregate.unique_users()\\\n",
    "    .sort_index(ascending=False).head(10)"
   ]
  },
  {
   "cell_type": "markdown",
   "id": "a1335d5d",
   "metadata": {},
   "source": [
    "## From where do users convert most?"
   ]
  },
  {
   "cell_type": "code",
   "execution_count": 22,
   "id": "88a0e85b",
   "metadata": {},
   "outputs": [
    {
     "data": {
      "text/html": [
       "<div>\n",
       "<style scoped>\n",
       "    .dataframe tbody tr th:only-of-type {\n",
       "        vertical-align: middle;\n",
       "    }\n",
       "\n",
       "    .dataframe tbody tr th {\n",
       "        vertical-align: top;\n",
       "    }\n",
       "\n",
       "    .dataframe thead th {\n",
       "        text-align: right;\n",
       "    }\n",
       "</style>\n",
       "<table border=\"1\" class=\"dataframe\">\n",
       "  <thead>\n",
       "    <tr style=\"text-align: right;\">\n",
       "      <th></th>\n",
       "      <th></th>\n",
       "      <th></th>\n",
       "      <th>user_id_nunique</th>\n",
       "    </tr>\n",
       "    <tr>\n",
       "      <th>application</th>\n",
       "      <th>feature_nice_name</th>\n",
       "      <th>event_type</th>\n",
       "      <th></th>\n",
       "    </tr>\n",
       "  </thead>\n",
       "  <tbody>\n",
       "    <tr>\n",
       "      <th rowspan=\"5\" valign=\"top\">objectiv-website</th>\n",
       "      <th>Link: objectiv-on-github located at Root Location: home =&gt; Content: the-stack</th>\n",
       "      <th>PressEvent</th>\n",
       "      <td>20</td>\n",
       "    </tr>\n",
       "    <tr>\n",
       "      <th>Link: objectiv-on-github located at Root Location: blog =&gt; Content: post-meet-objectiv-open-source-product-analytics-designed-for-data-sc =&gt; Content: blog-post-try-objectiv</th>\n",
       "      <th>PressEvent</th>\n",
       "      <td>12</td>\n",
       "    </tr>\n",
       "    <tr>\n",
       "      <th>Link: github located at Root Location: home =&gt; Navigation: navbar-top</th>\n",
       "      <th>PressEvent</th>\n",
       "      <td>8</td>\n",
       "    </tr>\n",
       "    <tr>\n",
       "      <th>Link: github located at Root Location: blog =&gt; Navigation: navbar-top =&gt; Overlay: hamburger-menu</th>\n",
       "      <th>PressEvent</th>\n",
       "      <td>2</td>\n",
       "    </tr>\n",
       "    <tr>\n",
       "      <th>Link: github located at Root Location: home =&gt; Navigation: navbar-top =&gt; Overlay: hamburger-menu</th>\n",
       "      <th>PressEvent</th>\n",
       "      <td>2</td>\n",
       "    </tr>\n",
       "  </tbody>\n",
       "</table>\n",
       "</div>"
      ],
      "text/plain": [
       "                                                                                user_id_nunique\n",
       "application      feature_nice_name                                  event_type                 \n",
       "objectiv-website Link: objectiv-on-github located at Root Locati... PressEvent               20\n",
       "                 Link: objectiv-on-github located at Root Locati... PressEvent               12\n",
       "                 Link: github located at Root Location: home => ... PressEvent                8\n",
       "                 Link: github located at Root Location: blog => ... PressEvent                2\n",
       "                 Link: github located at Root Location: home => ... PressEvent                2"
      ]
     },
     "execution_count": 22,
     "metadata": {},
     "output_type": "execute_result"
    }
   ],
   "source": [
    "# filter conversion events\n",
    "conversion_locations = of.model_hub.filter(of.model_hub.map.is_conversion_event('github_press'))\\\n",
    "    .groupby(['application', 'feature_nice_name', 'event_type'])\\\n",
    "    .agg({'user_id':'nunique'})\n",
    "\n",
    "conversion_locations.sort_values('user_id_nunique', ascending=False).head()"
   ]
  },
  {
   "cell_type": "markdown",
   "id": "5685ec0e",
   "metadata": {},
   "source": [
    "## Time spent for converting users?"
   ]
  },
  {
   "cell_type": "code",
   "execution_count": 23,
   "id": "9c37a664",
   "metadata": {},
   "outputs": [
    {
     "data": {
      "text/plain": [
       "moment\n",
       "2022-02-16   0 days 00:11:50.661182\n",
       "2022-02-15   0 days 00:11:02.535125\n",
       "2022-02-14   0 days 00:25:53.118500\n",
       "2022-02-13   0 days 00:00:06.779000\n",
       "2022-02-12   0 days 00:03:10.018000\n",
       "Name: session_duration, dtype: timedelta64[ns]"
      ]
     },
     "execution_count": 23,
     "metadata": {},
     "output_type": "execute_result"
    }
   ],
   "source": [
    "# use model hub to filter converting users and calculate duration\n",
    "of.model_hub.filter(of.model_hub.map.conversions_counter(name='github_press', partition='user_id')>=1)\\\n",
    "  .model_hub.agg.session_duration()\\\n",
    "  .sort_index(ascending=False).head()"
   ]
  },
  {
   "cell_type": "markdown",
   "id": "30c7df8c",
   "metadata": {},
   "source": [
    "## Top user interactions before conversions"
   ]
  },
  {
   "cell_type": "code",
   "execution_count": 24,
   "id": "c24b0d9a",
   "metadata": {},
   "outputs": [
    {
     "data": {
      "text/html": [
       "<div>\n",
       "<style scoped>\n",
       "    .dataframe tbody tr th:only-of-type {\n",
       "        vertical-align: middle;\n",
       "    }\n",
       "\n",
       "    .dataframe tbody tr th {\n",
       "        vertical-align: top;\n",
       "    }\n",
       "\n",
       "    .dataframe thead th {\n",
       "        text-align: right;\n",
       "    }\n",
       "</style>\n",
       "<table border=\"1\" class=\"dataframe\">\n",
       "  <thead>\n",
       "    <tr style=\"text-align: right;\">\n",
       "      <th></th>\n",
       "      <th></th>\n",
       "      <th></th>\n",
       "      <th>user_id_nunique</th>\n",
       "    </tr>\n",
       "    <tr>\n",
       "      <th>application</th>\n",
       "      <th>feature_nice_name</th>\n",
       "      <th>event_type</th>\n",
       "      <th></th>\n",
       "    </tr>\n",
       "  </thead>\n",
       "  <tbody>\n",
       "    <tr>\n",
       "      <th rowspan=\"8\" valign=\"top\">objectiv-website</th>\n",
       "      <th>Media Player: 2-minute-video located at Root Location: home</th>\n",
       "      <th>MediaStartEvent</th>\n",
       "      <td>6</td>\n",
       "    </tr>\n",
       "    <tr>\n",
       "      <th>Link: logo located at Root Location: blog =&gt; Navigation: navbar-top</th>\n",
       "      <th>PressEvent</th>\n",
       "      <td>5</td>\n",
       "    </tr>\n",
       "    <tr>\n",
       "      <th>Media Player: objectiv-in-2-minutes located at Root Location: blog =&gt; Content: post-meet-objectiv-open-source-product-analytics-designed-for-data-sc</th>\n",
       "      <th>MediaStartEvent</th>\n",
       "      <td>5</td>\n",
       "    </tr>\n",
       "    <tr>\n",
       "      <th>Link: blog located at Root Location: home =&gt; Navigation: navbar-top</th>\n",
       "      <th>PressEvent</th>\n",
       "      <td>4</td>\n",
       "    </tr>\n",
       "    <tr>\n",
       "      <th>Link: meet-objectiv-open-source-product-analytics-designed-for-data-sc located at Root Location: blog =&gt; Content: post-meet-objectiv-open-source-product-analytics-designed-for-data-sc =&gt; Navigation: header</th>\n",
       "      <th>PressEvent</th>\n",
       "      <td>3</td>\n",
       "    </tr>\n",
       "    <tr>\n",
       "      <th>Link: faq located at Root Location: home =&gt; Navigation: navbar-top</th>\n",
       "      <th>PressEvent</th>\n",
       "      <td>3</td>\n",
       "    </tr>\n",
       "    <tr>\n",
       "      <th>Pressable: hamburger located at Root Location: blog =&gt; Navigation: navbar-top</th>\n",
       "      <th>PressEvent</th>\n",
       "      <td>3</td>\n",
       "    </tr>\n",
       "    <tr>\n",
       "      <th>Link: jobs located at Root Location: blog =&gt; Navigation: navbar-top</th>\n",
       "      <th>PressEvent</th>\n",
       "      <td>2</td>\n",
       "    </tr>\n",
       "    <tr>\n",
       "      <th>objectiv-docs</th>\n",
       "      <th>Link: HttpContext located at Root Location: docs =&gt; Navigation: docs-sidebar =&gt; Expandable: Reference =&gt; Expandable: Global Contexts</th>\n",
       "      <th>PressEvent</th>\n",
       "      <td>2</td>\n",
       "    </tr>\n",
       "    <tr>\n",
       "      <th>objectiv-website</th>\n",
       "      <th>Link: docs located at Root Location: home =&gt; Navigation: navbar-top</th>\n",
       "      <th>PressEvent</th>\n",
       "      <td>2</td>\n",
       "    </tr>\n",
       "  </tbody>\n",
       "</table>\n",
       "</div>"
      ],
      "text/plain": [
       "                                                                                     user_id_nunique\n",
       "application      feature_nice_name                                  event_type                      \n",
       "objectiv-website Media Player: 2-minute-video located at Root Lo... MediaStartEvent                6\n",
       "                 Link: logo located at Root Location: blog => Na... PressEvent                     5\n",
       "                 Media Player: objectiv-in-2-minutes located at ... MediaStartEvent                5\n",
       "                 Link: blog located at Root Location: home => Na... PressEvent                     4\n",
       "                 Link: meet-objectiv-open-source-product-analyti... PressEvent                     3\n",
       "                 Link: faq located at Root Location: home => Nav... PressEvent                     3\n",
       "                 Pressable: hamburger located at Root Location: ... PressEvent                     3\n",
       "                 Link: jobs located at Root Location: blog => Na... PressEvent                     2\n",
       "objectiv-docs    Link: HttpContext located at Root Location: doc... PressEvent                     2\n",
       "objectiv-website Link: docs located at Root Location: home => Na... PressEvent                     2"
      ]
     },
     "execution_count": 24,
     "metadata": {},
     "output_type": "execute_result"
    }
   ],
   "source": [
    "# select sessions with a conversion\n",
    "converted_users = of.model_hub.filter(of.model_hub.map.conversions_counter(name='github_press')>=1)\n",
    "\n",
    "# from those, select hits where number of conversions was still 0\n",
    "converted_users = converted_users.mh.filter(converted_users.model_hub.map.conversions_in_time('github_press')==0)\n",
    "\n",
    "# select PressEvent and MediaStart event, to focus on user actions\n",
    "converted_users = converted_users[(converted_users.event_type == 'PressEvent') |\n",
    "                   (converted_users.event_type == 'MediaStartEvent')]\n",
    "\n",
    "converted_users.groupby(['application', 'feature_nice_name', 'event_type']).agg({'user_id':'nunique'})\\\n",
    "    .sort_values('user_id_nunique', ascending=False).head(10)"
   ]
  },
  {
   "cell_type": "markdown",
   "id": "e7fb8835",
   "metadata": {},
   "source": [
    "## Time spent before conversions"
   ]
  },
  {
   "cell_type": "code",
   "execution_count": 25,
   "id": "a92b905b",
   "metadata": {},
   "outputs": [
    {
     "data": {
      "text/plain": [
       "moment\n",
       "2022-02   0 days 00:04:47.335706\n",
       "Name: session_duration, dtype: timedelta64[ns]"
      ]
     },
     "execution_count": 25,
     "metadata": {},
     "output_type": "execute_result"
    }
   ],
   "source": [
    "# use model hub to calculate duration, converted users contains events before 1st conversion\n",
    "converted_users.model_hub.aggregate.session_duration(time_aggregation='YYYY-MM').head()"
   ]
  }
 ],
 "metadata": {
  "kernelspec": {
   "display_name": "Python 3 (ipykernel)",
   "language": "python",
   "name": "python3"
  },
  "language_info": {
   "codemirror_mode": {
    "name": "ipython",
    "version": 3
   },
   "file_extension": ".py",
   "mimetype": "text/x-python",
   "name": "python",
   "nbconvert_exporter": "python",
   "pygments_lexer": "ipython3",
   "version": "3.9.10"
  }
 },
 "nbformat": 4,
 "nbformat_minor": 5
}
