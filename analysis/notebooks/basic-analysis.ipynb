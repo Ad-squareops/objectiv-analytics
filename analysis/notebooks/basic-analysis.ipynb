{
 "cells": [
  {
   "cell_type": "markdown",
   "id": "277e303e",
   "metadata": {},
   "source": [
    "# Basic analysis"
   ]
  },
  {
   "cell_type": "code",
   "execution_count": 1,
   "id": "4bd369f6",
   "metadata": {},
   "outputs": [],
   "source": [
    "# import Bach\n",
    "from bach_open_taxonomy import ObjectivFrame"
   ]
  },
  {
   "cell_type": "code",
   "execution_count": 2,
   "id": "da4ec1a0",
   "metadata": {},
   "outputs": [],
   "source": [
    "# connect to SQL db\n",
    "of = ObjectivFrame.from_objectiv_data(db_url='postgresql://postgres:@localhost:5432/objectiv',\n",
    "                                      table_name='data',\n",
    "                                      time_aggregation='YYYY-MM-DD',\n",
    "                                      start_date='2022-02-02')"
   ]
  },
  {
   "cell_type": "code",
   "execution_count": 3,
   "id": "4e130b67",
   "metadata": {},
   "outputs": [],
   "source": [
    "# adding specific contexts to the data\n",
    "of['application'] = of.global_contexts.gc.get_from_context_with_type_series(type='ApplicationContext', key='id')\n",
    "of['root_location'] = of.location_stack.ls.get_from_context_with_type_series(type='RootLocationContext', key='id')\n",
    "of['feature_nice_name'] = of.location_stack.ls.nice_name"
   ]
  },
  {
   "cell_type": "code",
   "execution_count": 4,
   "id": "3c4ad65e",
   "metadata": {},
   "outputs": [
    {
     "data": {
      "text/html": [
       "<div>\n",
       "<style scoped>\n",
       "    .dataframe tbody tr th:only-of-type {\n",
       "        vertical-align: middle;\n",
       "    }\n",
       "\n",
       "    .dataframe tbody tr th {\n",
       "        vertical-align: top;\n",
       "    }\n",
       "\n",
       "    .dataframe thead th {\n",
       "        text-align: right;\n",
       "    }\n",
       "</style>\n",
       "<table border=\"1\" class=\"dataframe\">\n",
       "  <thead>\n",
       "    <tr style=\"text-align: right;\">\n",
       "      <th></th>\n",
       "      <th>day</th>\n",
       "      <th>moment</th>\n",
       "      <th>user_id</th>\n",
       "      <th>global_contexts</th>\n",
       "      <th>location_stack</th>\n",
       "      <th>event_type</th>\n",
       "      <th>stack_event_types</th>\n",
       "      <th>session_id</th>\n",
       "      <th>session_hit_number</th>\n",
       "      <th>application</th>\n",
       "      <th>root_location</th>\n",
       "      <th>feature_nice_name</th>\n",
       "    </tr>\n",
       "    <tr>\n",
       "      <th>event_id</th>\n",
       "      <th></th>\n",
       "      <th></th>\n",
       "      <th></th>\n",
       "      <th></th>\n",
       "      <th></th>\n",
       "      <th></th>\n",
       "      <th></th>\n",
       "      <th></th>\n",
       "      <th></th>\n",
       "      <th></th>\n",
       "      <th></th>\n",
       "      <th></th>\n",
       "    </tr>\n",
       "  </thead>\n",
       "  <tbody>\n",
       "    <tr>\n",
       "      <th>89fc7524-d960-4dee-94bb-778ab2e82b7a</th>\n",
       "      <td>2022-02-09</td>\n",
       "      <td>2022-02-09 08:42:05.775</td>\n",
       "      <td>7c406acb-3d85-416f-a515-1caf6bc2a8a1</td>\n",
       "      <td>[{'id': 'objectiv-website', '_type': 'Applicat...</td>\n",
       "      <td>[{'id': 'home', '_type': 'RootLocationContext'...</td>\n",
       "      <td>PressEvent</td>\n",
       "      <td>[AbstractEvent, InteractiveEvent, PressEvent]</td>\n",
       "      <td>709</td>\n",
       "      <td>3</td>\n",
       "      <td>objectiv-website</td>\n",
       "      <td>home</td>\n",
       "      <td>Link: blog located at Root Location: home =&gt; N...</td>\n",
       "    </tr>\n",
       "    <tr>\n",
       "      <th>ca6c4155-db00-4ffa-92fa-bb9e7858bd87</th>\n",
       "      <td>2022-02-09</td>\n",
       "      <td>2022-02-09 08:42:06.789</td>\n",
       "      <td>7c406acb-3d85-416f-a515-1caf6bc2a8a1</td>\n",
       "      <td>[{'id': 'objectiv-website', '_type': 'Applicat...</td>\n",
       "      <td>[{'id': 'blog', '_type': 'RootLocationContext'...</td>\n",
       "      <td>PressEvent</td>\n",
       "      <td>[AbstractEvent, InteractiveEvent, PressEvent]</td>\n",
       "      <td>709</td>\n",
       "      <td>4</td>\n",
       "      <td>objectiv-website</td>\n",
       "      <td>blog</td>\n",
       "      <td>Link: meet-objectiv-open-source-product-analyt...</td>\n",
       "    </tr>\n",
       "    <tr>\n",
       "      <th>c6777b55-c184-490c-bc1f-01ef3f0cafee</th>\n",
       "      <td>2022-02-09</td>\n",
       "      <td>2022-02-09 08:41:55.744</td>\n",
       "      <td>7c406acb-3d85-416f-a515-1caf6bc2a8a1</td>\n",
       "      <td>[{'id': 'objectiv-website', '_type': 'Applicat...</td>\n",
       "      <td>[{'id': 'home', '_type': 'RootLocationContext'...</td>\n",
       "      <td>ApplicationLoadedEvent</td>\n",
       "      <td>[AbstractEvent, ApplicationLoadedEvent, NonInt...</td>\n",
       "      <td>709</td>\n",
       "      <td>1</td>\n",
       "      <td>objectiv-website</td>\n",
       "      <td>home</td>\n",
       "      <td>Root Location: home</td>\n",
       "    </tr>\n",
       "    <tr>\n",
       "      <th>734bdd87-da54-426a-959c-bc3147e5f691</th>\n",
       "      <td>2022-02-09</td>\n",
       "      <td>2022-02-09 08:41:56.623</td>\n",
       "      <td>7c406acb-3d85-416f-a515-1caf6bc2a8a1</td>\n",
       "      <td>[{'id': 'objectiv-website', '_type': 'Applicat...</td>\n",
       "      <td>[{'id': 'home', '_type': 'RootLocationContext'...</td>\n",
       "      <td>MediaLoadEvent</td>\n",
       "      <td>[AbstractEvent, MediaEvent, MediaLoadEvent, No...</td>\n",
       "      <td>709</td>\n",
       "      <td>2</td>\n",
       "      <td>objectiv-website</td>\n",
       "      <td>home</td>\n",
       "      <td>Media Player: 2-minute-video located at Root L...</td>\n",
       "    </tr>\n",
       "    <tr>\n",
       "      <th>ed35fd32-f5ad-4fdf-be50-4bd5224acd7e</th>\n",
       "      <td>2022-02-09</td>\n",
       "      <td>2022-02-09 08:42:07.623</td>\n",
       "      <td>7c406acb-3d85-416f-a515-1caf6bc2a8a1</td>\n",
       "      <td>[{'id': 'objectiv-website', '_type': 'Applicat...</td>\n",
       "      <td>[{'id': 'blog', '_type': 'RootLocationContext'...</td>\n",
       "      <td>MediaLoadEvent</td>\n",
       "      <td>[AbstractEvent, MediaEvent, MediaLoadEvent, No...</td>\n",
       "      <td>709</td>\n",
       "      <td>5</td>\n",
       "      <td>objectiv-website</td>\n",
       "      <td>blog</td>\n",
       "      <td>Media Player: objectiv-in-2-minutes located at...</td>\n",
       "    </tr>\n",
       "  </tbody>\n",
       "</table>\n",
       "</div>"
      ],
      "text/plain": [
       "                                             day                  moment  \\\n",
       "event_id                                                                   \n",
       "89fc7524-d960-4dee-94bb-778ab2e82b7a  2022-02-09 2022-02-09 08:42:05.775   \n",
       "ca6c4155-db00-4ffa-92fa-bb9e7858bd87  2022-02-09 2022-02-09 08:42:06.789   \n",
       "c6777b55-c184-490c-bc1f-01ef3f0cafee  2022-02-09 2022-02-09 08:41:55.744   \n",
       "734bdd87-da54-426a-959c-bc3147e5f691  2022-02-09 2022-02-09 08:41:56.623   \n",
       "ed35fd32-f5ad-4fdf-be50-4bd5224acd7e  2022-02-09 2022-02-09 08:42:07.623   \n",
       "\n",
       "                                                                   user_id  \\\n",
       "event_id                                                                     \n",
       "89fc7524-d960-4dee-94bb-778ab2e82b7a  7c406acb-3d85-416f-a515-1caf6bc2a8a1   \n",
       "ca6c4155-db00-4ffa-92fa-bb9e7858bd87  7c406acb-3d85-416f-a515-1caf6bc2a8a1   \n",
       "c6777b55-c184-490c-bc1f-01ef3f0cafee  7c406acb-3d85-416f-a515-1caf6bc2a8a1   \n",
       "734bdd87-da54-426a-959c-bc3147e5f691  7c406acb-3d85-416f-a515-1caf6bc2a8a1   \n",
       "ed35fd32-f5ad-4fdf-be50-4bd5224acd7e  7c406acb-3d85-416f-a515-1caf6bc2a8a1   \n",
       "\n",
       "                                                                        global_contexts  \\\n",
       "event_id                                                                                  \n",
       "89fc7524-d960-4dee-94bb-778ab2e82b7a  [{'id': 'objectiv-website', '_type': 'Applicat...   \n",
       "ca6c4155-db00-4ffa-92fa-bb9e7858bd87  [{'id': 'objectiv-website', '_type': 'Applicat...   \n",
       "c6777b55-c184-490c-bc1f-01ef3f0cafee  [{'id': 'objectiv-website', '_type': 'Applicat...   \n",
       "734bdd87-da54-426a-959c-bc3147e5f691  [{'id': 'objectiv-website', '_type': 'Applicat...   \n",
       "ed35fd32-f5ad-4fdf-be50-4bd5224acd7e  [{'id': 'objectiv-website', '_type': 'Applicat...   \n",
       "\n",
       "                                                                         location_stack  \\\n",
       "event_id                                                                                  \n",
       "89fc7524-d960-4dee-94bb-778ab2e82b7a  [{'id': 'home', '_type': 'RootLocationContext'...   \n",
       "ca6c4155-db00-4ffa-92fa-bb9e7858bd87  [{'id': 'blog', '_type': 'RootLocationContext'...   \n",
       "c6777b55-c184-490c-bc1f-01ef3f0cafee  [{'id': 'home', '_type': 'RootLocationContext'...   \n",
       "734bdd87-da54-426a-959c-bc3147e5f691  [{'id': 'home', '_type': 'RootLocationContext'...   \n",
       "ed35fd32-f5ad-4fdf-be50-4bd5224acd7e  [{'id': 'blog', '_type': 'RootLocationContext'...   \n",
       "\n",
       "                                                  event_type  \\\n",
       "event_id                                                       \n",
       "89fc7524-d960-4dee-94bb-778ab2e82b7a              PressEvent   \n",
       "ca6c4155-db00-4ffa-92fa-bb9e7858bd87              PressEvent   \n",
       "c6777b55-c184-490c-bc1f-01ef3f0cafee  ApplicationLoadedEvent   \n",
       "734bdd87-da54-426a-959c-bc3147e5f691          MediaLoadEvent   \n",
       "ed35fd32-f5ad-4fdf-be50-4bd5224acd7e          MediaLoadEvent   \n",
       "\n",
       "                                                                      stack_event_types  \\\n",
       "event_id                                                                                  \n",
       "89fc7524-d960-4dee-94bb-778ab2e82b7a      [AbstractEvent, InteractiveEvent, PressEvent]   \n",
       "ca6c4155-db00-4ffa-92fa-bb9e7858bd87      [AbstractEvent, InteractiveEvent, PressEvent]   \n",
       "c6777b55-c184-490c-bc1f-01ef3f0cafee  [AbstractEvent, ApplicationLoadedEvent, NonInt...   \n",
       "734bdd87-da54-426a-959c-bc3147e5f691  [AbstractEvent, MediaEvent, MediaLoadEvent, No...   \n",
       "ed35fd32-f5ad-4fdf-be50-4bd5224acd7e  [AbstractEvent, MediaEvent, MediaLoadEvent, No...   \n",
       "\n",
       "                                      session_id  session_hit_number  \\\n",
       "event_id                                                               \n",
       "89fc7524-d960-4dee-94bb-778ab2e82b7a         709                   3   \n",
       "ca6c4155-db00-4ffa-92fa-bb9e7858bd87         709                   4   \n",
       "c6777b55-c184-490c-bc1f-01ef3f0cafee         709                   1   \n",
       "734bdd87-da54-426a-959c-bc3147e5f691         709                   2   \n",
       "ed35fd32-f5ad-4fdf-be50-4bd5224acd7e         709                   5   \n",
       "\n",
       "                                           application root_location  \\\n",
       "event_id                                                               \n",
       "89fc7524-d960-4dee-94bb-778ab2e82b7a  objectiv-website          home   \n",
       "ca6c4155-db00-4ffa-92fa-bb9e7858bd87  objectiv-website          blog   \n",
       "c6777b55-c184-490c-bc1f-01ef3f0cafee  objectiv-website          home   \n",
       "734bdd87-da54-426a-959c-bc3147e5f691  objectiv-website          home   \n",
       "ed35fd32-f5ad-4fdf-be50-4bd5224acd7e  objectiv-website          blog   \n",
       "\n",
       "                                                                      feature_nice_name  \n",
       "event_id                                                                                 \n",
       "89fc7524-d960-4dee-94bb-778ab2e82b7a  Link: blog located at Root Location: home => N...  \n",
       "ca6c4155-db00-4ffa-92fa-bb9e7858bd87  Link: meet-objectiv-open-source-product-analyt...  \n",
       "c6777b55-c184-490c-bc1f-01ef3f0cafee                                Root Location: home  \n",
       "734bdd87-da54-426a-959c-bc3147e5f691  Media Player: 2-minute-video located at Root L...  \n",
       "ed35fd32-f5ad-4fdf-be50-4bd5224acd7e  Media Player: objectiv-in-2-minutes located at...  "
      ]
     },
     "execution_count": 4,
     "metadata": {},
     "output_type": "execute_result"
    }
   ],
   "source": [
    "# explore the data\n",
    "of.sort_values('session_id', ascending=False).head()"
   ]
  },
  {
   "cell_type": "code",
   "execution_count": 23,
   "id": "38aa346a",
   "metadata": {},
   "outputs": [
    {
     "data": {
      "text/html": [
       "<div>\n",
       "<style scoped>\n",
       "    .dataframe tbody tr th:only-of-type {\n",
       "        vertical-align: middle;\n",
       "    }\n",
       "\n",
       "    .dataframe tbody tr th {\n",
       "        vertical-align: top;\n",
       "    }\n",
       "\n",
       "    .dataframe thead th {\n",
       "        text-align: right;\n",
       "    }\n",
       "</style>\n",
       "<table border=\"1\" class=\"dataframe\">\n",
       "  <thead>\n",
       "    <tr style=\"text-align: right;\">\n",
       "      <th></th>\n",
       "      <th>day</th>\n",
       "      <th>moment</th>\n",
       "      <th>event_type</th>\n",
       "      <th>session_id</th>\n",
       "      <th>session_hit_number</th>\n",
       "      <th>application</th>\n",
       "      <th>root_location</th>\n",
       "      <th>feature_nice_name</th>\n",
       "    </tr>\n",
       "    <tr>\n",
       "      <th>__stat</th>\n",
       "      <th></th>\n",
       "      <th></th>\n",
       "      <th></th>\n",
       "      <th></th>\n",
       "      <th></th>\n",
       "      <th></th>\n",
       "      <th></th>\n",
       "      <th></th>\n",
       "    </tr>\n",
       "  </thead>\n",
       "  <tbody>\n",
       "    <tr>\n",
       "      <th>count</th>\n",
       "      <td>6323</td>\n",
       "      <td>6323</td>\n",
       "      <td>6323</td>\n",
       "      <td>6323.00</td>\n",
       "      <td>6323.00</td>\n",
       "      <td>6323</td>\n",
       "      <td>6323</td>\n",
       "      <td>6323</td>\n",
       "    </tr>\n",
       "    <tr>\n",
       "      <th>mean</th>\n",
       "      <td>None</td>\n",
       "      <td>None</td>\n",
       "      <td>None</td>\n",
       "      <td>250.61</td>\n",
       "      <td>22.35</td>\n",
       "      <td>None</td>\n",
       "      <td>None</td>\n",
       "      <td>None</td>\n",
       "    </tr>\n",
       "    <tr>\n",
       "      <th>std</th>\n",
       "      <td>None</td>\n",
       "      <td>None</td>\n",
       "      <td>None</td>\n",
       "      <td>231.69</td>\n",
       "      <td>39.97</td>\n",
       "      <td>None</td>\n",
       "      <td>None</td>\n",
       "      <td>None</td>\n",
       "    </tr>\n",
       "    <tr>\n",
       "      <th>min</th>\n",
       "      <td>2022-02-02</td>\n",
       "      <td>2022-02-02 07:42:11.957</td>\n",
       "      <td>ApplicationLoadedEvent</td>\n",
       "      <td>1.00</td>\n",
       "      <td>1.00</td>\n",
       "      <td>objectiv-docs</td>\n",
       "      <td>about</td>\n",
       "      <td>Expandable: Aggregation &amp; windowing located at...</td>\n",
       "    </tr>\n",
       "    <tr>\n",
       "      <th>max</th>\n",
       "      <td>2022-02-09</td>\n",
       "      <td>2022-02-09 08:42:37.659</td>\n",
       "      <td>VisibleEvent</td>\n",
       "      <td>709.00</td>\n",
       "      <td>308.00</td>\n",
       "      <td>objectiv-website</td>\n",
       "      <td>privacy</td>\n",
       "      <td>Root Location: privacy</td>\n",
       "    </tr>\n",
       "  </tbody>\n",
       "</table>\n",
       "</div>"
      ],
      "text/plain": [
       "               day                   moment              event_type  \\\n",
       "__stat                                                                \n",
       "count         6323                     6323                    6323   \n",
       "mean          None                     None                    None   \n",
       "std           None                     None                    None   \n",
       "min     2022-02-02  2022-02-02 07:42:11.957  ApplicationLoadedEvent   \n",
       "max     2022-02-09  2022-02-09 08:42:37.659            VisibleEvent   \n",
       "\n",
       "        session_id  session_hit_number       application root_location  \\\n",
       "__stat                                                                   \n",
       "count      6323.00             6323.00              6323          6323   \n",
       "mean        250.61               22.35              None          None   \n",
       "std         231.69               39.97              None          None   \n",
       "min           1.00                1.00     objectiv-docs         about   \n",
       "max         709.00              308.00  objectiv-website       privacy   \n",
       "\n",
       "                                        feature_nice_name  \n",
       "__stat                                                     \n",
       "count                                                6323  \n",
       "mean                                                 None  \n",
       "std                                                  None  \n",
       "min     Expandable: Aggregation & windowing located at...  \n",
       "max                                Root Location: privacy  "
      ]
     },
     "execution_count": 23,
     "metadata": {},
     "output_type": "execute_result"
    }
   ],
   "source": [
    "# explore the data with describe\n",
    "of.describe(include='all').head()"
   ]
  },
  {
   "cell_type": "markdown",
   "id": "03bfa810",
   "metadata": {},
   "source": [
    "## Users"
   ]
  },
  {
   "cell_type": "code",
   "execution_count": 6,
   "id": "08ad4e39",
   "metadata": {},
   "outputs": [
    {
     "data": {
      "text/plain": [
       "moment\n",
       "2022-02    449\n",
       "Name: unique_users, dtype: int64"
      ]
     },
     "execution_count": 6,
     "metadata": {},
     "output_type": "execute_result"
    }
   ],
   "source": [
    "# model hub: unique users, total month\n",
    "users = of.model_hub.aggregate.unique_users(time_aggregation='YYYY-MM')\n",
    "users.sort_index(ascending=False).head()"
   ]
  },
  {
   "cell_type": "code",
   "execution_count": 7,
   "id": "172f431c",
   "metadata": {},
   "outputs": [
    {
     "data": {
      "text/plain": [
       "moment\n",
       "2022-02-09      6\n",
       "2022-02-08     33\n",
       "2022-02-07     50\n",
       "2022-02-06     20\n",
       "2022-02-05     33\n",
       "2022-02-04     53\n",
       "2022-02-03    100\n",
       "2022-02-02    239\n",
       "Name: unique_users, dtype: int64"
      ]
     },
     "execution_count": 7,
     "metadata": {},
     "output_type": "execute_result"
    }
   ],
   "source": [
    "# model hub: unique users, daily\n",
    "users = of.model_hub.aggregate.unique_users()\n",
    "users.sort_index(ascending=False).head(10)"
   ]
  },
  {
   "cell_type": "code",
   "execution_count": 8,
   "id": "fec344a2",
   "metadata": {},
   "outputs": [
    {
     "data": {
      "text/html": [
       "<div>\n",
       "<style scoped>\n",
       "    .dataframe tbody tr th:only-of-type {\n",
       "        vertical-align: middle;\n",
       "    }\n",
       "\n",
       "    .dataframe tbody tr th {\n",
       "        vertical-align: top;\n",
       "    }\n",
       "\n",
       "    .dataframe thead th {\n",
       "        text-align: right;\n",
       "    }\n",
       "</style>\n",
       "<table border=\"1\" class=\"dataframe\">\n",
       "  <thead>\n",
       "    <tr style=\"text-align: right;\">\n",
       "      <th></th>\n",
       "      <th>user_id_nunique</th>\n",
       "    </tr>\n",
       "    <tr>\n",
       "      <th>root_location</th>\n",
       "      <th></th>\n",
       "    </tr>\n",
       "  </thead>\n",
       "  <tbody>\n",
       "    <tr>\n",
       "      <th>blog</th>\n",
       "      <td>253</td>\n",
       "    </tr>\n",
       "    <tr>\n",
       "      <th>home</th>\n",
       "      <td>211</td>\n",
       "    </tr>\n",
       "    <tr>\n",
       "      <th>docs</th>\n",
       "      <td>153</td>\n",
       "    </tr>\n",
       "    <tr>\n",
       "      <th>about</th>\n",
       "      <td>71</td>\n",
       "    </tr>\n",
       "    <tr>\n",
       "      <th>jobs</th>\n",
       "      <td>63</td>\n",
       "    </tr>\n",
       "  </tbody>\n",
       "</table>\n",
       "</div>"
      ],
      "text/plain": [
       "               user_id_nunique\n",
       "root_location                 \n",
       "blog                       253\n",
       "home                       211\n",
       "docs                       153\n",
       "about                       71\n",
       "jobs                        63"
      ]
     },
     "execution_count": 8,
     "metadata": {},
     "output_type": "execute_result"
    }
   ],
   "source": [
    "# users by RootLocation\n",
    "users_root = of.groupby(['root_location']).agg({'user_id':'nunique'})\n",
    "users_root.sort_values('user_id_nunique', ascending=False).head()"
   ]
  },
  {
   "cell_type": "markdown",
   "id": "1a6de3da",
   "metadata": {},
   "source": [
    "## Time spent"
   ]
  },
  {
   "cell_type": "code",
   "execution_count": 9,
   "id": "51af4b82",
   "metadata": {
    "scrolled": true
   },
   "outputs": [
    {
     "data": {
      "text/plain": [
       "moment\n",
       "2022-02   0 days 00:04:09.810404\n",
       "Name: session_duration, dtype: timedelta64[ns]"
      ]
     },
     "execution_count": 9,
     "metadata": {},
     "output_type": "execute_result"
    }
   ],
   "source": [
    "# model hub: duration, total month\n",
    "duration = of.model_hub.aggregate.session_duration(time_aggregation='YYYY-MM')\n",
    "duration.sort_index(ascending=False).head()"
   ]
  },
  {
   "cell_type": "code",
   "execution_count": 10,
   "id": "9fb041b2",
   "metadata": {},
   "outputs": [
    {
     "data": {
      "text/plain": [
       "moment\n",
       "2022-02-09   0 days 00:03:30.955000\n",
       "2022-02-08   0 days 00:02:07.429182\n",
       "2022-02-07   0 days 00:03:25.079214\n",
       "2022-02-06   0 days 00:00:34.271120\n",
       "2022-02-05   0 days 00:01:55.235333\n",
       "Name: session_duration, dtype: timedelta64[ns]"
      ]
     },
     "execution_count": 10,
     "metadata": {},
     "output_type": "execute_result"
    }
   ],
   "source": [
    "# model hub: duration, daily\n",
    "duration = of.model_hub.aggregate.session_duration(time_aggregation='YYYY-MM-DD')\n",
    "duration.sort_index(ascending=False).head()"
   ]
  },
  {
   "cell_type": "code",
   "execution_count": 11,
   "id": "4f929f0a",
   "metadata": {},
   "outputs": [
    {
     "data": {
      "text/plain": [
       "moment\n",
       "2022-02   0 days 00:05:33.257737\n",
       "Name: session_duration, dtype: timedelta64[ns]"
      ]
     },
     "execution_count": 11,
     "metadata": {},
     "output_type": "execute_result"
    }
   ],
   "source": [
    "# duration by RootLocation\n",
    "of[(of.root_location == 'home')].model_hub.aggregate.session_duration(time_aggregation='YYYY-MM').head()"
   ]
  },
  {
   "cell_type": "code",
   "execution_count": 12,
   "id": "5d8dce27",
   "metadata": {},
   "outputs": [
    {
     "data": {
      "text/plain": [
       "moment\n",
       "2022-02   0 days 00:05:24.889905\n",
       "Name: session_duration, dtype: timedelta64[ns]"
      ]
     },
     "execution_count": 12,
     "metadata": {},
     "output_type": "execute_result"
    }
   ],
   "source": [
    "of[(of.root_location == 'docs')].model_hub.aggregate.session_duration(time_aggregation='YYYY-MM').head()"
   ]
  },
  {
   "cell_type": "code",
   "execution_count": 13,
   "id": "488718ce",
   "metadata": {},
   "outputs": [
    {
     "data": {
      "text/plain": [
       "moment\n",
       "2022-02   0 days 00:05:24.889905\n",
       "Name: session_duration, dtype: timedelta64[ns]"
      ]
     },
     "execution_count": 13,
     "metadata": {},
     "output_type": "execute_result"
    }
   ],
   "source": [
    "of[(of.root_location == 'docs')].model_hub.aggregate.session_duration(time_aggregation='YYYY-MM').head()"
   ]
  },
  {
   "cell_type": "markdown",
   "id": "c0e6a29a",
   "metadata": {},
   "source": [
    "## Top user interactions"
   ]
  },
  {
   "cell_type": "code",
   "execution_count": 14,
   "id": "4eae1d95",
   "metadata": {
    "scrolled": true
   },
   "outputs": [
    {
     "data": {
      "text/html": [
       "<div>\n",
       "<style scoped>\n",
       "    .dataframe tbody tr th:only-of-type {\n",
       "        vertical-align: middle;\n",
       "    }\n",
       "\n",
       "    .dataframe tbody tr th {\n",
       "        vertical-align: top;\n",
       "    }\n",
       "\n",
       "    .dataframe thead th {\n",
       "        text-align: right;\n",
       "    }\n",
       "</style>\n",
       "<table border=\"1\" class=\"dataframe\">\n",
       "  <thead>\n",
       "    <tr style=\"text-align: right;\">\n",
       "      <th></th>\n",
       "      <th></th>\n",
       "      <th>user_id_nunique</th>\n",
       "    </tr>\n",
       "    <tr>\n",
       "      <th>feature_nice_name</th>\n",
       "      <th>event_type</th>\n",
       "      <th></th>\n",
       "    </tr>\n",
       "  </thead>\n",
       "  <tbody>\n",
       "    <tr>\n",
       "      <th>Media Player: objectiv-in-2-minutes located at Root Location: blog =&gt; Content: post-meet-objectiv-open-source-product-analytics-designed-for-data-sc</th>\n",
       "      <th>MediaStartEvent</th>\n",
       "      <td>95</td>\n",
       "    </tr>\n",
       "    <tr>\n",
       "      <th>Media Player: 2-minute-video located at Root Location: home</th>\n",
       "      <th>MediaStartEvent</th>\n",
       "      <td>65</td>\n",
       "    </tr>\n",
       "    <tr>\n",
       "      <th>Link: about-us located at Root Location: home =&gt; Navigation: navbar-top</th>\n",
       "      <th>PressEvent</th>\n",
       "      <td>43</td>\n",
       "    </tr>\n",
       "    <tr>\n",
       "      <th>Link: logo located at Root Location: blog =&gt; Navigation: navbar-top</th>\n",
       "      <th>PressEvent</th>\n",
       "      <td>35</td>\n",
       "    </tr>\n",
       "    <tr>\n",
       "      <th>Pressable: hamburger located at Root Location: home =&gt; Navigation: navbar-top</th>\n",
       "      <th>PressEvent</th>\n",
       "      <td>34</td>\n",
       "    </tr>\n",
       "  </tbody>\n",
       "</table>\n",
       "</div>"
      ],
      "text/plain": [
       "                                                                    user_id_nunique\n",
       "feature_nice_name                                  event_type                      \n",
       "Media Player: objectiv-in-2-minutes located at ... MediaStartEvent               95\n",
       "Media Player: 2-minute-video located at Root Lo... MediaStartEvent               65\n",
       "Link: about-us located at Root Location: home =... PressEvent                    43\n",
       "Link: logo located at Root Location: blog => Na... PressEvent                    35\n",
       "Pressable: hamburger located at Root Location: ... PressEvent                    34"
      ]
     },
     "execution_count": 14,
     "metadata": {},
     "output_type": "execute_result"
    }
   ],
   "source": [
    "# select PressEvent and MediaStart event, to focus on user actions\n",
    "users_feature = of[(of.event_type == 'PressEvent') |\n",
    "                   (of.event_type == 'MediaStartEvent')]\n",
    "\n",
    "# users by feature\n",
    "users_feature = users_feature.groupby(['feature_nice_name', 'event_type']).agg({'user_id':'nunique'})\n",
    "users_feature.sort_values('user_id_nunique', ascending=False).head()"
   ]
  },
  {
   "cell_type": "markdown",
   "id": "dcf82009",
   "metadata": {},
   "source": [
    "## What did users do most on home?"
   ]
  },
  {
   "cell_type": "code",
   "execution_count": 15,
   "id": "a757be5a",
   "metadata": {},
   "outputs": [
    {
     "data": {
      "text/html": [
       "<div>\n",
       "<style scoped>\n",
       "    .dataframe tbody tr th:only-of-type {\n",
       "        vertical-align: middle;\n",
       "    }\n",
       "\n",
       "    .dataframe tbody tr th {\n",
       "        vertical-align: top;\n",
       "    }\n",
       "\n",
       "    .dataframe thead th {\n",
       "        text-align: right;\n",
       "    }\n",
       "</style>\n",
       "<table border=\"1\" class=\"dataframe\">\n",
       "  <thead>\n",
       "    <tr style=\"text-align: right;\">\n",
       "      <th></th>\n",
       "      <th></th>\n",
       "      <th>user_id_nunique</th>\n",
       "    </tr>\n",
       "    <tr>\n",
       "      <th>feature_nice_name</th>\n",
       "      <th>event_type</th>\n",
       "      <th></th>\n",
       "    </tr>\n",
       "  </thead>\n",
       "  <tbody>\n",
       "    <tr>\n",
       "      <th>Media Player: 2-minute-video located at Root Location: home</th>\n",
       "      <th>MediaStartEvent</th>\n",
       "      <td>65</td>\n",
       "    </tr>\n",
       "    <tr>\n",
       "      <th>Link: about-us located at Root Location: home =&gt; Navigation: navbar-top</th>\n",
       "      <th>PressEvent</th>\n",
       "      <td>43</td>\n",
       "    </tr>\n",
       "    <tr>\n",
       "      <th>Pressable: hamburger located at Root Location: home =&gt; Navigation: navbar-top</th>\n",
       "      <th>PressEvent</th>\n",
       "      <td>34</td>\n",
       "    </tr>\n",
       "    <tr>\n",
       "      <th>Link: docs located at Root Location: home =&gt; Navigation: navbar-top</th>\n",
       "      <th>PressEvent</th>\n",
       "      <td>18</td>\n",
       "    </tr>\n",
       "    <tr>\n",
       "      <th>Link: blog located at Root Location: home =&gt; Navigation: navbar-top</th>\n",
       "      <th>PressEvent</th>\n",
       "      <td>17</td>\n",
       "    </tr>\n",
       "  </tbody>\n",
       "</table>\n",
       "</div>"
      ],
      "text/plain": [
       "                                                                    user_id_nunique\n",
       "feature_nice_name                                  event_type                      \n",
       "Media Player: 2-minute-video located at Root Lo... MediaStartEvent               65\n",
       "Link: about-us located at Root Location: home =... PressEvent                    43\n",
       "Pressable: hamburger located at Root Location: ... PressEvent                    34\n",
       "Link: docs located at Root Location: home => Na... PressEvent                    18\n",
       "Link: blog located at Root Location: home => Na... PressEvent                    17"
      ]
     },
     "execution_count": 15,
     "metadata": {},
     "output_type": "execute_result"
    }
   ],
   "source": [
    "# select homepage RootLocation only\n",
    "home_users = of[(of.root_location == 'home')]\n",
    "\n",
    "# select PressEvent and MediaStart event, to focus on user actions\n",
    "home_users = home_users[(home_users.event_type == 'PressEvent') |\n",
    "                   (home_users.event_type == 'MediaStartEvent')]\n",
    "\n",
    "# home users by feature\n",
    "home_users = home_users.groupby(['feature_nice_name', 'event_type']).agg({'user_id':'nunique'})\n",
    "home_users.sort_values('user_id_nunique', ascending=False).head()"
   ]
  },
  {
   "cell_type": "markdown",
   "id": "e9e5de5a",
   "metadata": {},
   "source": [
    "## What did users do most in docs?"
   ]
  },
  {
   "cell_type": "code",
   "execution_count": 16,
   "id": "3f8c4ae0",
   "metadata": {},
   "outputs": [
    {
     "data": {
      "text/html": [
       "<div>\n",
       "<style scoped>\n",
       "    .dataframe tbody tr th:only-of-type {\n",
       "        vertical-align: middle;\n",
       "    }\n",
       "\n",
       "    .dataframe tbody tr th {\n",
       "        vertical-align: top;\n",
       "    }\n",
       "\n",
       "    .dataframe thead th {\n",
       "        text-align: right;\n",
       "    }\n",
       "</style>\n",
       "<table border=\"1\" class=\"dataframe\">\n",
       "  <thead>\n",
       "    <tr style=\"text-align: right;\">\n",
       "      <th></th>\n",
       "      <th></th>\n",
       "      <th>user_id_nunique</th>\n",
       "    </tr>\n",
       "    <tr>\n",
       "      <th>feature_nice_name</th>\n",
       "      <th>event_type</th>\n",
       "      <th></th>\n",
       "    </tr>\n",
       "  </thead>\n",
       "  <tbody>\n",
       "    <tr>\n",
       "      <th>Link: Tracking located at Root Location: docs =&gt; Navigation: navbar-top</th>\n",
       "      <th>PressEvent</th>\n",
       "      <td>18</td>\n",
       "    </tr>\n",
       "    <tr>\n",
       "      <th>Link: Modeling located at Root Location: docs =&gt; Navigation: navbar-top</th>\n",
       "      <th>PressEvent</th>\n",
       "      <td>18</td>\n",
       "    </tr>\n",
       "    <tr>\n",
       "      <th>Link: logo located at Root Location: docs =&gt; Navigation: navbar-top</th>\n",
       "      <th>PressEvent</th>\n",
       "      <td>16</td>\n",
       "    </tr>\n",
       "    <tr>\n",
       "      <th>Link: Taxonomy located at Root Location: docs =&gt; Navigation: navbar-top</th>\n",
       "      <th>PressEvent</th>\n",
       "      <td>10</td>\n",
       "    </tr>\n",
       "    <tr>\n",
       "      <th>Link: Core Concepts located at Root Location: docs =&gt; Navigation: docs-sidebar</th>\n",
       "      <th>PressEvent</th>\n",
       "      <td>8</td>\n",
       "    </tr>\n",
       "  </tbody>\n",
       "</table>\n",
       "</div>"
      ],
      "text/plain": [
       "                                                               user_id_nunique\n",
       "feature_nice_name                                  event_type                 \n",
       "Link: Tracking located at Root Location: docs =... PressEvent               18\n",
       "Link: Modeling located at Root Location: docs =... PressEvent               18\n",
       "Link: logo located at Root Location: docs => Na... PressEvent               16\n",
       "Link: Taxonomy located at Root Location: docs =... PressEvent               10\n",
       "Link: Core Concepts located at Root Location: d... PressEvent                8"
      ]
     },
     "execution_count": 16,
     "metadata": {},
     "output_type": "execute_result"
    }
   ],
   "source": [
    "# select docs RootLocation only\n",
    "docs_users = of[(of.root_location == 'docs')]\n",
    "\n",
    "# select PressEvent and MediaStart event, to focus on user actions\n",
    "docs_users = docs_users[(docs_users.event_type == 'PressEvent') |\n",
    "                   (docs_users.event_type == 'MediaStartEvent')]\n",
    "\n",
    "# docs users by feature\n",
    "docs_users = docs_users.groupby(['feature_nice_name', 'event_type']).agg({'user_id':'nunique'})\n",
    "docs_users.sort_values('user_id_nunique', ascending=False).head()"
   ]
  },
  {
   "cell_type": "markdown",
   "id": "3bda262d",
   "metadata": {},
   "source": [
    "## Set conversion"
   ]
  },
  {
   "cell_type": "code",
   "execution_count": 17,
   "id": "897180ac",
   "metadata": {
    "scrolled": true
   },
   "outputs": [],
   "source": [
    "# NOTE: CAN WE DO THIS IN 1 GO AND DEFINE 1 CONVERSION EVENT NAME?\n",
    "\n",
    "# define which events to use as conversion events\n",
    "of.add_conversion_event(location_stack=of.location_stack.json[{'id': 'objectiv-on-github', '_type': 'LinkContext'}:],\n",
    "                        event_type='PressEvent',\n",
    "                        name='github_cta')\n",
    "\n",
    "of.add_conversion_event(location_stack=of.location_stack.json[{'id': 'github', '_type': 'LinkContext'}:],\n",
    "                        event_type='PressEvent',\n",
    "                        name='github_nav')\n",
    "\n",
    "# add conversion events to the dataframe\n",
    "conversion_events = (of.model_hub.map.is_conversion_event('github_cta')|\n",
    "                    of.model_hub.map.is_conversion_event('github_nav'))"
   ]
  },
  {
   "cell_type": "markdown",
   "id": "23b03791",
   "metadata": {},
   "source": [
    "## Number of daily conversions"
   ]
  },
  {
   "cell_type": "code",
   "execution_count": 18,
   "id": "f4f6f7e7",
   "metadata": {},
   "outputs": [
    {
     "data": {
      "text/plain": [
       "moment\n",
       "2022-02-09     2\n",
       "2022-02-07     3\n",
       "2022-02-04     5\n",
       "2022-02-03     7\n",
       "2022-02-02    16\n",
       "Name: unique_users, dtype: int64"
      ]
     },
     "execution_count": 18,
     "metadata": {},
     "output_type": "execute_result"
    }
   ],
   "source": [
    "of.model_hub.filter(conversion_events).model_hub.aggregate.unique_users().sort_index(ascending=False).head(10)"
   ]
  },
  {
   "cell_type": "markdown",
   "id": "a1335d5d",
   "metadata": {},
   "source": [
    "## From where do users convert most?"
   ]
  },
  {
   "cell_type": "code",
   "execution_count": 19,
   "id": "88a0e85b",
   "metadata": {},
   "outputs": [
    {
     "data": {
      "text/html": [
       "<div>\n",
       "<style scoped>\n",
       "    .dataframe tbody tr th:only-of-type {\n",
       "        vertical-align: middle;\n",
       "    }\n",
       "\n",
       "    .dataframe tbody tr th {\n",
       "        vertical-align: top;\n",
       "    }\n",
       "\n",
       "    .dataframe thead th {\n",
       "        text-align: right;\n",
       "    }\n",
       "</style>\n",
       "<table border=\"1\" class=\"dataframe\">\n",
       "  <thead>\n",
       "    <tr style=\"text-align: right;\">\n",
       "      <th></th>\n",
       "      <th></th>\n",
       "      <th>user_id_nunique</th>\n",
       "    </tr>\n",
       "    <tr>\n",
       "      <th>feature_nice_name</th>\n",
       "      <th>event_type</th>\n",
       "      <th></th>\n",
       "    </tr>\n",
       "  </thead>\n",
       "  <tbody>\n",
       "    <tr>\n",
       "      <th>Link: objectiv-on-github located at Root Location: blog =&gt; Content: post-meet-objectiv-open-source-product-analytics-designed-for-data-sc =&gt; Content: blog-post-try-objectiv</th>\n",
       "      <th>PressEvent</th>\n",
       "      <td>11</td>\n",
       "    </tr>\n",
       "    <tr>\n",
       "      <th>Link: objectiv-on-github located at Root Location: home =&gt; Content: the-stack</th>\n",
       "      <th>PressEvent</th>\n",
       "      <td>11</td>\n",
       "    </tr>\n",
       "    <tr>\n",
       "      <th>Link: github located at Root Location: home =&gt; Navigation: navbar-top</th>\n",
       "      <th>PressEvent</th>\n",
       "      <td>7</td>\n",
       "    </tr>\n",
       "    <tr>\n",
       "      <th>Link: github located at Root Location: blog =&gt; Navigation: navbar-top =&gt; Overlay: hamburger-menu</th>\n",
       "      <th>PressEvent</th>\n",
       "      <td>2</td>\n",
       "    </tr>\n",
       "    <tr>\n",
       "      <th>Link: github located at Root Location: home =&gt; Navigation: navbar-top =&gt; Overlay: hamburger-menu</th>\n",
       "      <th>PressEvent</th>\n",
       "      <td>2</td>\n",
       "    </tr>\n",
       "  </tbody>\n",
       "</table>\n",
       "</div>"
      ],
      "text/plain": [
       "                                                               user_id_nunique\n",
       "feature_nice_name                                  event_type                 \n",
       "Link: objectiv-on-github located at Root Locati... PressEvent               11\n",
       "Link: objectiv-on-github located at Root Locati... PressEvent               11\n",
       "Link: github located at Root Location: home => ... PressEvent                7\n",
       "Link: github located at Root Location: blog => ... PressEvent                2\n",
       "Link: github located at Root Location: home => ... PressEvent                2"
      ]
     },
     "execution_count": 19,
     "metadata": {},
     "output_type": "execute_result"
    }
   ],
   "source": [
    "# filter conversion events\n",
    "conversion_locations = of.model_hub.filter(conversion_events).groupby(['feature_nice_name', 'event_type'])\\\n",
    "    .agg({'user_id':'nunique'})\n",
    "\n",
    "conversion_locations.sort_values('user_id_nunique', ascending=False).head()"
   ]
  },
  {
   "cell_type": "markdown",
   "id": "5685ec0e",
   "metadata": {},
   "source": [
    "## Time spent for converting users?"
   ]
  },
  {
   "cell_type": "code",
   "execution_count": 20,
   "id": "933d61a3",
   "metadata": {},
   "outputs": [
    {
     "data": {
      "text/plain": [
       "moment\n",
       "2022-02-02   0 days 00:46:28.725375\n",
       "2022-02-03   0 days 00:07:56.027600\n",
       "2022-02-04   0 days 00:00:54.977500\n",
       "2022-02-07   0 days 00:00:36.135500\n",
       "Name: session_duration, dtype: timedelta64[ns]"
      ]
     },
     "execution_count": 20,
     "metadata": {},
     "output_type": "execute_result"
    }
   ],
   "source": [
    "# NOTE: NOW ONLY TAKES 1 OF THE CONVERSION EVENTS\n",
    "\n",
    "# use model hub to filter converting users and calculate duration\n",
    "of.model_hub.filter(of.model_hub.map.conversion_count(name='github_cta')>=1)\\\n",
    "  .model_hub.agg.session_duration()\\\n",
    "  .head()"
   ]
  },
  {
   "cell_type": "markdown",
   "id": "30c7df8c",
   "metadata": {},
   "source": [
    "## Top user interactions before conversions"
   ]
  },
  {
   "cell_type": "code",
   "execution_count": 21,
   "id": "c24b0d9a",
   "metadata": {},
   "outputs": [
    {
     "data": {
      "text/html": [
       "<div>\n",
       "<style scoped>\n",
       "    .dataframe tbody tr th:only-of-type {\n",
       "        vertical-align: middle;\n",
       "    }\n",
       "\n",
       "    .dataframe tbody tr th {\n",
       "        vertical-align: top;\n",
       "    }\n",
       "\n",
       "    .dataframe thead th {\n",
       "        text-align: right;\n",
       "    }\n",
       "</style>\n",
       "<table border=\"1\" class=\"dataframe\">\n",
       "  <thead>\n",
       "    <tr style=\"text-align: right;\">\n",
       "      <th></th>\n",
       "      <th></th>\n",
       "      <th>user_id_nunique</th>\n",
       "    </tr>\n",
       "    <tr>\n",
       "      <th>feature_nice_name</th>\n",
       "      <th>event_type</th>\n",
       "      <th></th>\n",
       "    </tr>\n",
       "  </thead>\n",
       "  <tbody>\n",
       "    <tr>\n",
       "      <th>Link: objectiv-on-github located at Root Location: home =&gt; Content: the-stack</th>\n",
       "      <th>PressEvent</th>\n",
       "      <td>11</td>\n",
       "    </tr>\n",
       "    <tr>\n",
       "      <th>Link: objectiv-on-github located at Root Location: blog =&gt; Content: post-meet-objectiv-open-source-product-analytics-designed-for-data-sc =&gt; Content: blog-post-try-objectiv</th>\n",
       "      <th>PressEvent</th>\n",
       "      <td>11</td>\n",
       "    </tr>\n",
       "    <tr>\n",
       "      <th>Link: logo located at Root Location: docs =&gt; Navigation: navbar-top</th>\n",
       "      <th>PressEvent</th>\n",
       "      <td>3</td>\n",
       "    </tr>\n",
       "    <tr>\n",
       "      <th>Link: fly-ventures located at Root Location: jobs =&gt; Content: what-we-offer</th>\n",
       "      <th>PressEvent</th>\n",
       "      <td>2</td>\n",
       "    </tr>\n",
       "    <tr>\n",
       "      <th>Link: docs-open-analytics-taxonomy located at Root Location: home</th>\n",
       "      <th>PressEvent</th>\n",
       "      <td>2</td>\n",
       "    </tr>\n",
       "    <tr>\n",
       "      <th>Link: localglobe located at Root Location: jobs =&gt; Content: what-we-offer</th>\n",
       "      <th>PressEvent</th>\n",
       "      <td>2</td>\n",
       "    </tr>\n",
       "    <tr>\n",
       "      <th>Link: blog located at Root Location: jobs =&gt; Navigation: navbar-top</th>\n",
       "      <th>PressEvent</th>\n",
       "      <td>1</td>\n",
       "    </tr>\n",
       "    <tr>\n",
       "      <th>Link: blog located at Root Location: home =&gt; Navigation: navbar-top</th>\n",
       "      <th>PressEvent</th>\n",
       "      <td>1</td>\n",
       "    </tr>\n",
       "    <tr>\n",
       "      <th>Link: about-us located at Root Location: home =&gt; Navigation: navbar-top =&gt; Overlay: hamburger-menu</th>\n",
       "      <th>PressEvent</th>\n",
       "      <td>1</td>\n",
       "    </tr>\n",
       "    <tr>\n",
       "      <th>Link: docs located at Root Location: home =&gt; Navigation: navbar-top</th>\n",
       "      <th>PressEvent</th>\n",
       "      <td>1</td>\n",
       "    </tr>\n",
       "  </tbody>\n",
       "</table>\n",
       "</div>"
      ],
      "text/plain": [
       "                                                               user_id_nunique\n",
       "feature_nice_name                                  event_type                 \n",
       "Link: objectiv-on-github located at Root Locati... PressEvent               11\n",
       "Link: objectiv-on-github located at Root Locati... PressEvent               11\n",
       "Link: logo located at Root Location: docs => Na... PressEvent                3\n",
       "Link: fly-ventures located at Root Location: jo... PressEvent                2\n",
       "Link: docs-open-analytics-taxonomy located at R... PressEvent                2\n",
       "Link: localglobe located at Root Location: jobs... PressEvent                2\n",
       "Link: blog located at Root Location: jobs => Na... PressEvent                1\n",
       "Link: blog located at Root Location: home => Na... PressEvent                1\n",
       "Link: about-us located at Root Location: home =... PressEvent                1\n",
       "Link: docs located at Root Location: home => Na... PressEvent                1"
      ]
     },
     "execution_count": 21,
     "metadata": {},
     "output_type": "execute_result"
    }
   ],
   "source": [
    "## LET'S DISCUSS MAKING A BACH FUNCTION, OTHERWISE LOTS OF MERGING AND SORTING DFs\n",
    "## for now, easy way, just look at all events that users that have converted had, also after conversion\n",
    "\n",
    "converted_users = of.model_hub.filter(of.model_hub.map.conversion_count(name='github_cta')>=1)\n",
    "\n",
    "# select PressEvent and MediaStart event, to focus on user actions\n",
    "converted_users = converted_users[(converted_users.event_type == 'PressEvent') |\n",
    "                   (converted_users.event_type == 'MediaStartEvent')]\n",
    "\n",
    "converted_users.groupby(['feature_nice_name', 'event_type']).agg({'user_id':'nunique'})\\\n",
    "    .sort_values('user_id_nunique', ascending=False).head(10)"
   ]
  }
 ],
 "metadata": {
  "kernelspec": {
   "display_name": "Python 3 (ipykernel)",
   "language": "python",
   "name": "python3"
  },
  "language_info": {
   "codemirror_mode": {
    "name": "ipython",
    "version": 3
   },
   "file_extension": ".py",
   "mimetype": "text/x-python",
   "name": "python",
   "nbconvert_exporter": "python",
   "pygments_lexer": "ipython3",
   "version": "3.9.10"
  }
 },
 "nbformat": 4,
 "nbformat_minor": 5
}
