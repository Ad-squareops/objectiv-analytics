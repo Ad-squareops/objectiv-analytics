{
 "cells": [
  {
   "cell_type": "markdown",
   "id": "277e303e",
   "metadata": {},
   "source": [
    "# Basic analysis"
   ]
  },
  {
   "cell_type": "code",
   "execution_count": 1,
   "id": "4bd369f6",
   "metadata": {},
   "outputs": [],
   "source": [
    "# import Bach\n",
    "from bach_open_taxonomy import ObjectivFrame "
   ]
  },
  {
   "cell_type": "code",
   "execution_count": 2,
   "id": "da4ec1a0",
   "metadata": {},
   "outputs": [],
   "source": [
    "# connect to SQL db\n",
    "of = ObjectivFrame.from_objectiv_data(db_url='postgresql://postgres:@localhost:5432/objectiv',\n",
    "                                      table_name='data',\n",
    "                                      time_aggregation='YYYY-MM-DD',\n",
    "                                      start_date='2022-02-02')"
   ]
  },
  {
   "cell_type": "code",
   "execution_count": 3,
   "id": "4e130b67",
   "metadata": {},
   "outputs": [],
   "source": [
    "# adding specific contexts to the data\n",
    "of['application'] = of.global_contexts.gc.get_from_context_with_type_series(type='ApplicationContext', key='id')\n",
    "of['root_location'] = of.location_stack.ls.get_from_context_with_type_series(type='RootLocationContext', key='id')\n",
    "of['referrer'] = of.global_contexts.gc.get_from_context_with_type_series(type='HttpContext', key='referrer')\n",
    "of['feature_nice_name'] = of.location_stack.ls.nice_name"
   ]
  },
  {
   "cell_type": "code",
   "execution_count": 4,
   "id": "3c4ad65e",
   "metadata": {},
   "outputs": [
    {
     "data": {
      "text/html": [
       "<div>\n",
       "<style scoped>\n",
       "    .dataframe tbody tr th:only-of-type {\n",
       "        vertical-align: middle;\n",
       "    }\n",
       "\n",
       "    .dataframe tbody tr th {\n",
       "        vertical-align: top;\n",
       "    }\n",
       "\n",
       "    .dataframe thead th {\n",
       "        text-align: right;\n",
       "    }\n",
       "</style>\n",
       "<table border=\"1\" class=\"dataframe\">\n",
       "  <thead>\n",
       "    <tr style=\"text-align: right;\">\n",
       "      <th></th>\n",
       "      <th>day</th>\n",
       "      <th>moment</th>\n",
       "      <th>user_id</th>\n",
       "      <th>global_contexts</th>\n",
       "      <th>location_stack</th>\n",
       "      <th>event_type</th>\n",
       "      <th>stack_event_types</th>\n",
       "      <th>session_id</th>\n",
       "      <th>session_hit_number</th>\n",
       "      <th>application</th>\n",
       "      <th>root_location</th>\n",
       "      <th>referrer</th>\n",
       "      <th>feature_nice_name</th>\n",
       "    </tr>\n",
       "    <tr>\n",
       "      <th>event_id</th>\n",
       "      <th></th>\n",
       "      <th></th>\n",
       "      <th></th>\n",
       "      <th></th>\n",
       "      <th></th>\n",
       "      <th></th>\n",
       "      <th></th>\n",
       "      <th></th>\n",
       "      <th></th>\n",
       "      <th></th>\n",
       "      <th></th>\n",
       "      <th></th>\n",
       "      <th></th>\n",
       "    </tr>\n",
       "  </thead>\n",
       "  <tbody>\n",
       "    <tr>\n",
       "      <th>a0e92481-153e-4673-8991-50028e5b7988</th>\n",
       "      <td>2022-02-14</td>\n",
       "      <td>2022-02-14 09:13:09.907</td>\n",
       "      <td>8299fb69-22da-48a7-9ae4-4de8ddb47068</td>\n",
       "      <td>[{'id': 'http_context', '_type': 'HttpContext'...</td>\n",
       "      <td>[{'id': 'home', '_type': 'RootLocationContext'...</td>\n",
       "      <td>PressEvent</td>\n",
       "      <td>[AbstractEvent, InteractiveEvent, PressEvent]</td>\n",
       "      <td>806</td>\n",
       "      <td>1</td>\n",
       "      <td>objectiv-website</td>\n",
       "      <td>home</td>\n",
       "      <td></td>\n",
       "      <td>Link: objectiv-on-github located at Root Locat...</td>\n",
       "    </tr>\n",
       "    <tr>\n",
       "      <th>2926d1f0-05f3-4d92-8f84-95338678e041</th>\n",
       "      <td>2022-02-14</td>\n",
       "      <td>2022-02-14 09:13:07.846</td>\n",
       "      <td>7c406acb-3d85-416f-a515-1caf6bc2a8a1</td>\n",
       "      <td>[{'id': 'http_context', '_type': 'HttpContext'...</td>\n",
       "      <td>[{'id': 'blog', '_type': 'RootLocationContext'...</td>\n",
       "      <td>PressEvent</td>\n",
       "      <td>[AbstractEvent, InteractiveEvent, PressEvent]</td>\n",
       "      <td>805</td>\n",
       "      <td>4</td>\n",
       "      <td>objectiv-website</td>\n",
       "      <td>blog</td>\n",
       "      <td></td>\n",
       "      <td>Link: meet-objectiv-open-source-product-analyt...</td>\n",
       "    </tr>\n",
       "    <tr>\n",
       "      <th>cbbbbca4-e076-4a3f-b698-cd9e646c6947</th>\n",
       "      <td>2022-02-14</td>\n",
       "      <td>2022-02-14 09:13:05.155</td>\n",
       "      <td>7c406acb-3d85-416f-a515-1caf6bc2a8a1</td>\n",
       "      <td>[{'id': 'http_context', '_type': 'HttpContext'...</td>\n",
       "      <td>[{'id': 'home', '_type': 'RootLocationContext'...</td>\n",
       "      <td>ApplicationLoadedEvent</td>\n",
       "      <td>[AbstractEvent, ApplicationLoadedEvent, NonInt...</td>\n",
       "      <td>805</td>\n",
       "      <td>1</td>\n",
       "      <td>objectiv-website</td>\n",
       "      <td>home</td>\n",
       "      <td></td>\n",
       "      <td>Root Location: home</td>\n",
       "    </tr>\n",
       "    <tr>\n",
       "      <th>ac1075d2-a1a2-4ea6-bd00-22675ffc26e7</th>\n",
       "      <td>2022-02-14</td>\n",
       "      <td>2022-02-14 09:13:06.084</td>\n",
       "      <td>7c406acb-3d85-416f-a515-1caf6bc2a8a1</td>\n",
       "      <td>[{'id': 'http_context', '_type': 'HttpContext'...</td>\n",
       "      <td>[{'id': 'home', '_type': 'RootLocationContext'...</td>\n",
       "      <td>MediaLoadEvent</td>\n",
       "      <td>[AbstractEvent, MediaEvent, MediaLoadEvent, No...</td>\n",
       "      <td>805</td>\n",
       "      <td>2</td>\n",
       "      <td>objectiv-website</td>\n",
       "      <td>home</td>\n",
       "      <td></td>\n",
       "      <td>Media Player: 2-minute-video located at Root L...</td>\n",
       "    </tr>\n",
       "    <tr>\n",
       "      <th>248a4052-aa5c-484e-bf66-01e2e7be0f4f</th>\n",
       "      <td>2022-02-14</td>\n",
       "      <td>2022-02-14 09:13:06.741</td>\n",
       "      <td>7c406acb-3d85-416f-a515-1caf6bc2a8a1</td>\n",
       "      <td>[{'id': 'http_context', '_type': 'HttpContext'...</td>\n",
       "      <td>[{'id': 'home', '_type': 'RootLocationContext'...</td>\n",
       "      <td>PressEvent</td>\n",
       "      <td>[AbstractEvent, InteractiveEvent, PressEvent]</td>\n",
       "      <td>805</td>\n",
       "      <td>3</td>\n",
       "      <td>objectiv-website</td>\n",
       "      <td>home</td>\n",
       "      <td></td>\n",
       "      <td>Link: blog located at Root Location: home =&gt; N...</td>\n",
       "    </tr>\n",
       "  </tbody>\n",
       "</table>\n",
       "</div>"
      ],
      "text/plain": [
       "                                             day                  moment  \\\n",
       "event_id                                                                   \n",
       "a0e92481-153e-4673-8991-50028e5b7988  2022-02-14 2022-02-14 09:13:09.907   \n",
       "2926d1f0-05f3-4d92-8f84-95338678e041  2022-02-14 2022-02-14 09:13:07.846   \n",
       "cbbbbca4-e076-4a3f-b698-cd9e646c6947  2022-02-14 2022-02-14 09:13:05.155   \n",
       "ac1075d2-a1a2-4ea6-bd00-22675ffc26e7  2022-02-14 2022-02-14 09:13:06.084   \n",
       "248a4052-aa5c-484e-bf66-01e2e7be0f4f  2022-02-14 2022-02-14 09:13:06.741   \n",
       "\n",
       "                                                                   user_id  \\\n",
       "event_id                                                                     \n",
       "a0e92481-153e-4673-8991-50028e5b7988  8299fb69-22da-48a7-9ae4-4de8ddb47068   \n",
       "2926d1f0-05f3-4d92-8f84-95338678e041  7c406acb-3d85-416f-a515-1caf6bc2a8a1   \n",
       "cbbbbca4-e076-4a3f-b698-cd9e646c6947  7c406acb-3d85-416f-a515-1caf6bc2a8a1   \n",
       "ac1075d2-a1a2-4ea6-bd00-22675ffc26e7  7c406acb-3d85-416f-a515-1caf6bc2a8a1   \n",
       "248a4052-aa5c-484e-bf66-01e2e7be0f4f  7c406acb-3d85-416f-a515-1caf6bc2a8a1   \n",
       "\n",
       "                                                                        global_contexts  \\\n",
       "event_id                                                                                  \n",
       "a0e92481-153e-4673-8991-50028e5b7988  [{'id': 'http_context', '_type': 'HttpContext'...   \n",
       "2926d1f0-05f3-4d92-8f84-95338678e041  [{'id': 'http_context', '_type': 'HttpContext'...   \n",
       "cbbbbca4-e076-4a3f-b698-cd9e646c6947  [{'id': 'http_context', '_type': 'HttpContext'...   \n",
       "ac1075d2-a1a2-4ea6-bd00-22675ffc26e7  [{'id': 'http_context', '_type': 'HttpContext'...   \n",
       "248a4052-aa5c-484e-bf66-01e2e7be0f4f  [{'id': 'http_context', '_type': 'HttpContext'...   \n",
       "\n",
       "                                                                         location_stack  \\\n",
       "event_id                                                                                  \n",
       "a0e92481-153e-4673-8991-50028e5b7988  [{'id': 'home', '_type': 'RootLocationContext'...   \n",
       "2926d1f0-05f3-4d92-8f84-95338678e041  [{'id': 'blog', '_type': 'RootLocationContext'...   \n",
       "cbbbbca4-e076-4a3f-b698-cd9e646c6947  [{'id': 'home', '_type': 'RootLocationContext'...   \n",
       "ac1075d2-a1a2-4ea6-bd00-22675ffc26e7  [{'id': 'home', '_type': 'RootLocationContext'...   \n",
       "248a4052-aa5c-484e-bf66-01e2e7be0f4f  [{'id': 'home', '_type': 'RootLocationContext'...   \n",
       "\n",
       "                                                  event_type  \\\n",
       "event_id                                                       \n",
       "a0e92481-153e-4673-8991-50028e5b7988              PressEvent   \n",
       "2926d1f0-05f3-4d92-8f84-95338678e041              PressEvent   \n",
       "cbbbbca4-e076-4a3f-b698-cd9e646c6947  ApplicationLoadedEvent   \n",
       "ac1075d2-a1a2-4ea6-bd00-22675ffc26e7          MediaLoadEvent   \n",
       "248a4052-aa5c-484e-bf66-01e2e7be0f4f              PressEvent   \n",
       "\n",
       "                                                                      stack_event_types  \\\n",
       "event_id                                                                                  \n",
       "a0e92481-153e-4673-8991-50028e5b7988      [AbstractEvent, InteractiveEvent, PressEvent]   \n",
       "2926d1f0-05f3-4d92-8f84-95338678e041      [AbstractEvent, InteractiveEvent, PressEvent]   \n",
       "cbbbbca4-e076-4a3f-b698-cd9e646c6947  [AbstractEvent, ApplicationLoadedEvent, NonInt...   \n",
       "ac1075d2-a1a2-4ea6-bd00-22675ffc26e7  [AbstractEvent, MediaEvent, MediaLoadEvent, No...   \n",
       "248a4052-aa5c-484e-bf66-01e2e7be0f4f      [AbstractEvent, InteractiveEvent, PressEvent]   \n",
       "\n",
       "                                      session_id  session_hit_number  \\\n",
       "event_id                                                               \n",
       "a0e92481-153e-4673-8991-50028e5b7988         806                   1   \n",
       "2926d1f0-05f3-4d92-8f84-95338678e041         805                   4   \n",
       "cbbbbca4-e076-4a3f-b698-cd9e646c6947         805                   1   \n",
       "ac1075d2-a1a2-4ea6-bd00-22675ffc26e7         805                   2   \n",
       "248a4052-aa5c-484e-bf66-01e2e7be0f4f         805                   3   \n",
       "\n",
       "                                           application root_location referrer  \\\n",
       "event_id                                                                        \n",
       "a0e92481-153e-4673-8991-50028e5b7988  objectiv-website          home            \n",
       "2926d1f0-05f3-4d92-8f84-95338678e041  objectiv-website          blog            \n",
       "cbbbbca4-e076-4a3f-b698-cd9e646c6947  objectiv-website          home            \n",
       "ac1075d2-a1a2-4ea6-bd00-22675ffc26e7  objectiv-website          home            \n",
       "248a4052-aa5c-484e-bf66-01e2e7be0f4f  objectiv-website          home            \n",
       "\n",
       "                                                                      feature_nice_name  \n",
       "event_id                                                                                 \n",
       "a0e92481-153e-4673-8991-50028e5b7988  Link: objectiv-on-github located at Root Locat...  \n",
       "2926d1f0-05f3-4d92-8f84-95338678e041  Link: meet-objectiv-open-source-product-analyt...  \n",
       "cbbbbca4-e076-4a3f-b698-cd9e646c6947                                Root Location: home  \n",
       "ac1075d2-a1a2-4ea6-bd00-22675ffc26e7  Media Player: 2-minute-video located at Root L...  \n",
       "248a4052-aa5c-484e-bf66-01e2e7be0f4f  Link: blog located at Root Location: home => N...  "
      ]
     },
     "execution_count": 4,
     "metadata": {},
     "output_type": "execute_result"
    }
   ],
   "source": [
    "# explore the data\n",
    "of.sort_values('session_id', ascending=False).head()"
   ]
  },
  {
   "cell_type": "code",
   "execution_count": 5,
   "id": "38aa346a",
   "metadata": {},
   "outputs": [
    {
     "data": {
      "text/html": [
       "<div>\n",
       "<style scoped>\n",
       "    .dataframe tbody tr th:only-of-type {\n",
       "        vertical-align: middle;\n",
       "    }\n",
       "\n",
       "    .dataframe tbody tr th {\n",
       "        vertical-align: top;\n",
       "    }\n",
       "\n",
       "    .dataframe thead th {\n",
       "        text-align: right;\n",
       "    }\n",
       "</style>\n",
       "<table border=\"1\" class=\"dataframe\">\n",
       "  <thead>\n",
       "    <tr style=\"text-align: right;\">\n",
       "      <th></th>\n",
       "      <th>day</th>\n",
       "      <th>moment</th>\n",
       "      <th>event_type</th>\n",
       "      <th>session_id</th>\n",
       "      <th>session_hit_number</th>\n",
       "      <th>application</th>\n",
       "      <th>root_location</th>\n",
       "      <th>referrer</th>\n",
       "      <th>feature_nice_name</th>\n",
       "    </tr>\n",
       "    <tr>\n",
       "      <th>__stat</th>\n",
       "      <th></th>\n",
       "      <th></th>\n",
       "      <th></th>\n",
       "      <th></th>\n",
       "      <th></th>\n",
       "      <th></th>\n",
       "      <th></th>\n",
       "      <th></th>\n",
       "      <th></th>\n",
       "    </tr>\n",
       "  </thead>\n",
       "  <tbody>\n",
       "    <tr>\n",
       "      <th>count</th>\n",
       "      <td>6979</td>\n",
       "      <td>6979</td>\n",
       "      <td>6979</td>\n",
       "      <td>6979.00</td>\n",
       "      <td>6979.00</td>\n",
       "      <td>6979</td>\n",
       "      <td>6979</td>\n",
       "      <td>353</td>\n",
       "      <td>6979</td>\n",
       "    </tr>\n",
       "    <tr>\n",
       "      <th>mean</th>\n",
       "      <td>None</td>\n",
       "      <td>None</td>\n",
       "      <td>None</td>\n",
       "      <td>298.74</td>\n",
       "      <td>21.07</td>\n",
       "      <td>None</td>\n",
       "      <td>None</td>\n",
       "      <td>None</td>\n",
       "      <td>None</td>\n",
       "    </tr>\n",
       "    <tr>\n",
       "      <th>std</th>\n",
       "      <td>None</td>\n",
       "      <td>None</td>\n",
       "      <td>None</td>\n",
       "      <td>266.55</td>\n",
       "      <td>38.34</td>\n",
       "      <td>None</td>\n",
       "      <td>None</td>\n",
       "      <td>None</td>\n",
       "      <td>None</td>\n",
       "    </tr>\n",
       "    <tr>\n",
       "      <th>min</th>\n",
       "      <td>2022-02-02</td>\n",
       "      <td>2022-02-02 07:42:11.957</td>\n",
       "      <td>ApplicationLoadedEvent</td>\n",
       "      <td>1.00</td>\n",
       "      <td>1.00</td>\n",
       "      <td>objectiv-docs</td>\n",
       "      <td>about</td>\n",
       "      <td></td>\n",
       "      <td>Expandable: Aggregation &amp; windowing located at...</td>\n",
       "    </tr>\n",
       "    <tr>\n",
       "      <th>max</th>\n",
       "      <td>2022-02-14</td>\n",
       "      <td>2022-02-14 10:01:08.329</td>\n",
       "      <td>VisibleEvent</td>\n",
       "      <td>806.00</td>\n",
       "      <td>308.00</td>\n",
       "      <td>objectiv-website</td>\n",
       "      <td>tracking</td>\n",
       "      <td>https://www.google.com/</td>\n",
       "      <td>Root Location: tracking</td>\n",
       "    </tr>\n",
       "  </tbody>\n",
       "</table>\n",
       "</div>"
      ],
      "text/plain": [
       "               day                   moment              event_type  \\\n",
       "__stat                                                                \n",
       "count         6979                     6979                    6979   \n",
       "mean          None                     None                    None   \n",
       "std           None                     None                    None   \n",
       "min     2022-02-02  2022-02-02 07:42:11.957  ApplicationLoadedEvent   \n",
       "max     2022-02-14  2022-02-14 10:01:08.329            VisibleEvent   \n",
       "\n",
       "        session_id  session_hit_number       application root_location  \\\n",
       "__stat                                                                   \n",
       "count      6979.00             6979.00              6979          6979   \n",
       "mean        298.74               21.07              None          None   \n",
       "std         266.55               38.34              None          None   \n",
       "min           1.00                1.00     objectiv-docs         about   \n",
       "max         806.00              308.00  objectiv-website      tracking   \n",
       "\n",
       "                       referrer  \\\n",
       "__stat                            \n",
       "count                       353   \n",
       "mean                       None   \n",
       "std                        None   \n",
       "min                               \n",
       "max     https://www.google.com/   \n",
       "\n",
       "                                        feature_nice_name  \n",
       "__stat                                                     \n",
       "count                                                6979  \n",
       "mean                                                 None  \n",
       "std                                                  None  \n",
       "min     Expandable: Aggregation & windowing located at...  \n",
       "max                               Root Location: tracking  "
      ]
     },
     "execution_count": 5,
     "metadata": {},
     "output_type": "execute_result"
    }
   ],
   "source": [
    "# explore the data with describe\n",
    "of.describe(include='all').head()"
   ]
  },
  {
   "cell_type": "markdown",
   "id": "03bfa810",
   "metadata": {},
   "source": [
    "## Users"
   ]
  },
  {
   "cell_type": "code",
   "execution_count": 6,
   "id": "08ad4e39",
   "metadata": {},
   "outputs": [
    {
     "data": {
      "text/plain": [
       "moment\n",
       "2022-02    485\n",
       "Name: unique_users, dtype: int64"
      ]
     },
     "execution_count": 6,
     "metadata": {},
     "output_type": "execute_result"
    }
   ],
   "source": [
    "# model hub: unique users, total month\n",
    "users = of.model_hub.aggregate.unique_users(time_aggregation='YYYY-MM')\n",
    "users.sort_index(ascending=False).head()"
   ]
  },
  {
   "cell_type": "code",
   "execution_count": 7,
   "id": "172f431c",
   "metadata": {},
   "outputs": [
    {
     "data": {
      "text/plain": [
       "moment\n",
       "2022-02-14      9\n",
       "2022-02-13      3\n",
       "2022-02-12      8\n",
       "2022-02-11     14\n",
       "2022-02-10     13\n",
       "2022-02-09     23\n",
       "2022-02-08     33\n",
       "2022-02-07     50\n",
       "2022-02-06     20\n",
       "2022-02-05     33\n",
       "2022-02-04     53\n",
       "2022-02-03    100\n",
       "2022-02-02    239\n",
       "Name: unique_users, dtype: int64"
      ]
     },
     "execution_count": 7,
     "metadata": {},
     "output_type": "execute_result"
    }
   ],
   "source": [
    "# model hub: unique users, daily\n",
    "users = of.model_hub.aggregate.unique_users()\n",
    "users.sort_index(ascending=False).head(15)"
   ]
  },
  {
   "cell_type": "code",
   "execution_count": 8,
   "id": "fec344a2",
   "metadata": {},
   "outputs": [
    {
     "data": {
      "text/html": [
       "<div>\n",
       "<style scoped>\n",
       "    .dataframe tbody tr th:only-of-type {\n",
       "        vertical-align: middle;\n",
       "    }\n",
       "\n",
       "    .dataframe tbody tr th {\n",
       "        vertical-align: top;\n",
       "    }\n",
       "\n",
       "    .dataframe thead th {\n",
       "        text-align: right;\n",
       "    }\n",
       "</style>\n",
       "<table border=\"1\" class=\"dataframe\">\n",
       "  <thead>\n",
       "    <tr style=\"text-align: right;\">\n",
       "      <th></th>\n",
       "      <th></th>\n",
       "      <th>user_id_nunique</th>\n",
       "    </tr>\n",
       "    <tr>\n",
       "      <th>application</th>\n",
       "      <th>root_location</th>\n",
       "      <th></th>\n",
       "    </tr>\n",
       "  </thead>\n",
       "  <tbody>\n",
       "    <tr>\n",
       "      <th rowspan=\"2\" valign=\"top\">objectiv-website</th>\n",
       "      <th>blog</th>\n",
       "      <td>263</td>\n",
       "    </tr>\n",
       "    <tr>\n",
       "      <th>home</th>\n",
       "      <td>241</td>\n",
       "    </tr>\n",
       "    <tr>\n",
       "      <th>objectiv-docs</th>\n",
       "      <th>docs</th>\n",
       "      <td>160</td>\n",
       "    </tr>\n",
       "    <tr>\n",
       "      <th rowspan=\"2\" valign=\"top\">objectiv-website</th>\n",
       "      <th>about</th>\n",
       "      <td>77</td>\n",
       "    </tr>\n",
       "    <tr>\n",
       "      <th>jobs</th>\n",
       "      <td>66</td>\n",
       "    </tr>\n",
       "    <tr>\n",
       "      <th rowspan=\"3\" valign=\"top\">objectiv-docs</th>\n",
       "      <th>home</th>\n",
       "      <td>7</td>\n",
       "    </tr>\n",
       "    <tr>\n",
       "      <th>tracking</th>\n",
       "      <td>4</td>\n",
       "    </tr>\n",
       "    <tr>\n",
       "      <th>taxonomy</th>\n",
       "      <td>4</td>\n",
       "    </tr>\n",
       "    <tr>\n",
       "      <th>objectiv-website</th>\n",
       "      <th>privacy</th>\n",
       "      <td>2</td>\n",
       "    </tr>\n",
       "    <tr>\n",
       "      <th>objectiv-docs</th>\n",
       "      <th>modeling</th>\n",
       "      <td>1</td>\n",
       "    </tr>\n",
       "  </tbody>\n",
       "</table>\n",
       "</div>"
      ],
      "text/plain": [
       "                                user_id_nunique\n",
       "application      root_location                 \n",
       "objectiv-website blog                       263\n",
       "                 home                       241\n",
       "objectiv-docs    docs                       160\n",
       "objectiv-website about                       77\n",
       "                 jobs                        66\n",
       "objectiv-docs    home                         7\n",
       "                 tracking                     4\n",
       "                 taxonomy                     4\n",
       "objectiv-website privacy                      2\n",
       "objectiv-docs    modeling                     1"
      ]
     },
     "execution_count": 8,
     "metadata": {},
     "output_type": "execute_result"
    }
   ],
   "source": [
    "# users by RootLocation\n",
    "users_root = of.groupby(['application', 'root_location']).agg({'user_id':'nunique'})\n",
    "users_root.sort_values('user_id_nunique', ascending=False).head(10)"
   ]
  },
  {
   "cell_type": "markdown",
   "id": "1a6de3da",
   "metadata": {},
   "source": [
    "## Time spent"
   ]
  },
  {
   "cell_type": "code",
   "execution_count": 9,
   "id": "51af4b82",
   "metadata": {
    "scrolled": true
   },
   "outputs": [
    {
     "data": {
      "text/plain": [
       "moment\n",
       "2022-02   0 days 00:04:09.943920\n",
       "Name: session_duration, dtype: timedelta64[ns]"
      ]
     },
     "execution_count": 9,
     "metadata": {},
     "output_type": "execute_result"
    }
   ],
   "source": [
    "# model hub: duration, total month\n",
    "duration = of.model_hub.aggregate.session_duration(time_aggregation='YYYY-MM')\n",
    "duration.sort_index(ascending=False).head()"
   ]
  },
  {
   "cell_type": "code",
   "execution_count": 10,
   "id": "9fb041b2",
   "metadata": {},
   "outputs": [
    {
     "data": {
      "text/plain": [
       "moment\n",
       "2022-02-14   0 days 00:07:16.427273\n",
       "2022-02-13   0 days 00:00:24.635000\n",
       "2022-02-12   0 days 00:02:30.655000\n",
       "2022-02-11   0 days 00:03:09.692500\n",
       "2022-02-10   0 days 00:04:31.578263\n",
       "Name: session_duration, dtype: timedelta64[ns]"
      ]
     },
     "execution_count": 10,
     "metadata": {},
     "output_type": "execute_result"
    }
   ],
   "source": [
    "# model hub: duration, daily\n",
    "duration = of.model_hub.aggregate.session_duration(time_aggregation='YYYY-MM-DD')\n",
    "duration.sort_index(ascending=False).head()"
   ]
  },
  {
   "cell_type": "code",
   "execution_count": 11,
   "id": "4f929f0a",
   "metadata": {},
   "outputs": [
    {
     "data": {
      "text/plain": [
       "moment\n",
       "2022-02   0 days 00:05:06.371854\n",
       "Name: session_duration, dtype: timedelta64[ns]"
      ]
     },
     "execution_count": 11,
     "metadata": {},
     "output_type": "execute_result"
    }
   ],
   "source": [
    "# duration for RootLocation home \n",
    "of[(of.root_location == 'home')].model_hub.aggregate.session_duration(time_aggregation='YYYY-MM').head()"
   ]
  },
  {
   "cell_type": "code",
   "execution_count": 12,
   "id": "488718ce",
   "metadata": {},
   "outputs": [
    {
     "data": {
      "text/plain": [
       "moment\n",
       "2022-02   0 days 00:02:26.030345\n",
       "Name: session_duration, dtype: timedelta64[ns]"
      ]
     },
     "execution_count": 12,
     "metadata": {},
     "output_type": "execute_result"
    }
   ],
   "source": [
    "# duration for RootLocation blog\n",
    "of[(of.root_location == 'blog')].model_hub.aggregate.session_duration(time_aggregation='YYYY-MM').head()"
   ]
  },
  {
   "cell_type": "code",
   "execution_count": 13,
   "id": "5d8dce27",
   "metadata": {
    "scrolled": true
   },
   "outputs": [
    {
     "data": {
      "text/plain": [
       "moment\n",
       "2022-02   0 days 00:05:16.982017\n",
       "Name: session_duration, dtype: timedelta64[ns]"
      ]
     },
     "execution_count": 13,
     "metadata": {},
     "output_type": "execute_result"
    }
   ],
   "source": [
    "# duration for the whole docs\n",
    "of[(of.application == 'objectiv-docs')].model_hub.aggregate.session_duration(time_aggregation='YYYY-MM').head()"
   ]
  },
  {
   "cell_type": "markdown",
   "id": "c0e6a29a",
   "metadata": {},
   "source": [
    "## Top user interactions"
   ]
  },
  {
   "cell_type": "code",
   "execution_count": 14,
   "id": "4eae1d95",
   "metadata": {
    "scrolled": true
   },
   "outputs": [
    {
     "data": {
      "text/html": [
       "<div>\n",
       "<style scoped>\n",
       "    .dataframe tbody tr th:only-of-type {\n",
       "        vertical-align: middle;\n",
       "    }\n",
       "\n",
       "    .dataframe tbody tr th {\n",
       "        vertical-align: top;\n",
       "    }\n",
       "\n",
       "    .dataframe thead th {\n",
       "        text-align: right;\n",
       "    }\n",
       "</style>\n",
       "<table border=\"1\" class=\"dataframe\">\n",
       "  <thead>\n",
       "    <tr style=\"text-align: right;\">\n",
       "      <th></th>\n",
       "      <th></th>\n",
       "      <th></th>\n",
       "      <th>user_id_nunique</th>\n",
       "    </tr>\n",
       "    <tr>\n",
       "      <th>application</th>\n",
       "      <th>feature_nice_name</th>\n",
       "      <th>event_type</th>\n",
       "      <th></th>\n",
       "    </tr>\n",
       "  </thead>\n",
       "  <tbody>\n",
       "    <tr>\n",
       "      <th rowspan=\"5\" valign=\"top\">objectiv-website</th>\n",
       "      <th>Media Player: objectiv-in-2-minutes located at Root Location: blog =&gt; Content: post-meet-objectiv-open-source-product-analytics-designed-for-data-sc</th>\n",
       "      <th>MediaStartEvent</th>\n",
       "      <td>96</td>\n",
       "    </tr>\n",
       "    <tr>\n",
       "      <th>Media Player: 2-minute-video located at Root Location: home</th>\n",
       "      <th>MediaStartEvent</th>\n",
       "      <td>69</td>\n",
       "    </tr>\n",
       "    <tr>\n",
       "      <th>Link: about-us located at Root Location: home =&gt; Navigation: navbar-top</th>\n",
       "      <th>PressEvent</th>\n",
       "      <td>48</td>\n",
       "    </tr>\n",
       "    <tr>\n",
       "      <th>Pressable: hamburger located at Root Location: home =&gt; Navigation: navbar-top</th>\n",
       "      <th>PressEvent</th>\n",
       "      <td>36</td>\n",
       "    </tr>\n",
       "    <tr>\n",
       "      <th>Link: logo located at Root Location: blog =&gt; Navigation: navbar-top</th>\n",
       "      <th>PressEvent</th>\n",
       "      <td>35</td>\n",
       "    </tr>\n",
       "  </tbody>\n",
       "</table>\n",
       "</div>"
      ],
      "text/plain": [
       "                                                                                     user_id_nunique\n",
       "application      feature_nice_name                                  event_type                      \n",
       "objectiv-website Media Player: objectiv-in-2-minutes located at ... MediaStartEvent               96\n",
       "                 Media Player: 2-minute-video located at Root Lo... MediaStartEvent               69\n",
       "                 Link: about-us located at Root Location: home =... PressEvent                    48\n",
       "                 Pressable: hamburger located at Root Location: ... PressEvent                    36\n",
       "                 Link: logo located at Root Location: blog => Na... PressEvent                    35"
      ]
     },
     "execution_count": 14,
     "metadata": {},
     "output_type": "execute_result"
    }
   ],
   "source": [
    "# select PressEvent and MediaStart event, to focus on user actions\n",
    "users_feature = of[(of.event_type == 'PressEvent') |\n",
    "                   (of.event_type == 'MediaStartEvent')]\n",
    "\n",
    "# users by feature\n",
    "users_feature = users_feature.groupby(['application', 'feature_nice_name', 'event_type']).agg({'user_id':'nunique'})\n",
    "users_feature.sort_values('user_id_nunique', ascending=False).head()"
   ]
  },
  {
   "cell_type": "markdown",
   "id": "dcf82009",
   "metadata": {},
   "source": [
    "## What did users do most on home?"
   ]
  },
  {
   "cell_type": "code",
   "execution_count": 15,
   "id": "a757be5a",
   "metadata": {},
   "outputs": [
    {
     "data": {
      "text/html": [
       "<div>\n",
       "<style scoped>\n",
       "    .dataframe tbody tr th:only-of-type {\n",
       "        vertical-align: middle;\n",
       "    }\n",
       "\n",
       "    .dataframe tbody tr th {\n",
       "        vertical-align: top;\n",
       "    }\n",
       "\n",
       "    .dataframe thead th {\n",
       "        text-align: right;\n",
       "    }\n",
       "</style>\n",
       "<table border=\"1\" class=\"dataframe\">\n",
       "  <thead>\n",
       "    <tr style=\"text-align: right;\">\n",
       "      <th></th>\n",
       "      <th></th>\n",
       "      <th>user_id_nunique</th>\n",
       "    </tr>\n",
       "    <tr>\n",
       "      <th>feature_nice_name</th>\n",
       "      <th>event_type</th>\n",
       "      <th></th>\n",
       "    </tr>\n",
       "  </thead>\n",
       "  <tbody>\n",
       "    <tr>\n",
       "      <th>Media Player: 2-minute-video located at Root Location: home</th>\n",
       "      <th>MediaStartEvent</th>\n",
       "      <td>69</td>\n",
       "    </tr>\n",
       "    <tr>\n",
       "      <th>Link: about-us located at Root Location: home =&gt; Navigation: navbar-top</th>\n",
       "      <th>PressEvent</th>\n",
       "      <td>48</td>\n",
       "    </tr>\n",
       "    <tr>\n",
       "      <th>Pressable: hamburger located at Root Location: home =&gt; Navigation: navbar-top</th>\n",
       "      <th>PressEvent</th>\n",
       "      <td>36</td>\n",
       "    </tr>\n",
       "    <tr>\n",
       "      <th>Link: docs located at Root Location: home =&gt; Navigation: navbar-top</th>\n",
       "      <th>PressEvent</th>\n",
       "      <td>19</td>\n",
       "    </tr>\n",
       "    <tr>\n",
       "      <th>Link: blog located at Root Location: home =&gt; Navigation: navbar-top</th>\n",
       "      <th>PressEvent</th>\n",
       "      <td>18</td>\n",
       "    </tr>\n",
       "  </tbody>\n",
       "</table>\n",
       "</div>"
      ],
      "text/plain": [
       "                                                                    user_id_nunique\n",
       "feature_nice_name                                  event_type                      \n",
       "Media Player: 2-minute-video located at Root Lo... MediaStartEvent               69\n",
       "Link: about-us located at Root Location: home =... PressEvent                    48\n",
       "Pressable: hamburger located at Root Location: ... PressEvent                    36\n",
       "Link: docs located at Root Location: home => Na... PressEvent                    19\n",
       "Link: blog located at Root Location: home => Na... PressEvent                    18"
      ]
     },
     "execution_count": 15,
     "metadata": {},
     "output_type": "execute_result"
    }
   ],
   "source": [
    "# select homepage RootLocation only\n",
    "home_users = of[(of.root_location == 'home')]\n",
    "\n",
    "# select website only and exclude the docs\n",
    "home_users = home_users[(home_users.application == 'objectiv-website')]\n",
    "\n",
    "# select PressEvent and MediaStart event, to focus on user actions\n",
    "home_users = home_users[(home_users.event_type == 'PressEvent') |\n",
    "                   (home_users.event_type == 'MediaStartEvent')]\n",
    "\n",
    "# home users by feature\n",
    "home_users = home_users.groupby(['feature_nice_name', 'event_type']).agg({'user_id':'nunique'})\n",
    "home_users.sort_values('user_id_nunique', ascending=False).head()"
   ]
  },
  {
   "cell_type": "markdown",
   "id": "e9e5de5a",
   "metadata": {},
   "source": [
    "## What did users do most in docs?"
   ]
  },
  {
   "cell_type": "code",
   "execution_count": 16,
   "id": "3f8c4ae0",
   "metadata": {},
   "outputs": [
    {
     "data": {
      "text/html": [
       "<div>\n",
       "<style scoped>\n",
       "    .dataframe tbody tr th:only-of-type {\n",
       "        vertical-align: middle;\n",
       "    }\n",
       "\n",
       "    .dataframe tbody tr th {\n",
       "        vertical-align: top;\n",
       "    }\n",
       "\n",
       "    .dataframe thead th {\n",
       "        text-align: right;\n",
       "    }\n",
       "</style>\n",
       "<table border=\"1\" class=\"dataframe\">\n",
       "  <thead>\n",
       "    <tr style=\"text-align: right;\">\n",
       "      <th></th>\n",
       "      <th></th>\n",
       "      <th>user_id_nunique</th>\n",
       "    </tr>\n",
       "    <tr>\n",
       "      <th>feature_nice_name</th>\n",
       "      <th>event_type</th>\n",
       "      <th></th>\n",
       "    </tr>\n",
       "  </thead>\n",
       "  <tbody>\n",
       "    <tr>\n",
       "      <th>Link: Tracking located at Root Location: docs =&gt; Navigation: navbar-top</th>\n",
       "      <th>PressEvent</th>\n",
       "      <td>20</td>\n",
       "    </tr>\n",
       "    <tr>\n",
       "      <th>Link: logo located at Root Location: docs =&gt; Navigation: navbar-top</th>\n",
       "      <th>PressEvent</th>\n",
       "      <td>18</td>\n",
       "    </tr>\n",
       "    <tr>\n",
       "      <th>Link: Modeling located at Root Location: docs =&gt; Navigation: navbar-top</th>\n",
       "      <th>PressEvent</th>\n",
       "      <td>18</td>\n",
       "    </tr>\n",
       "    <tr>\n",
       "      <th>Link: Taxonomy located at Root Location: docs =&gt; Navigation: navbar-top</th>\n",
       "      <th>PressEvent</th>\n",
       "      <td>13</td>\n",
       "    </tr>\n",
       "    <tr>\n",
       "      <th>Link: Introduction located at Root Location: docs =&gt; Navigation: docs-sidebar</th>\n",
       "      <th>PressEvent</th>\n",
       "      <td>9</td>\n",
       "    </tr>\n",
       "  </tbody>\n",
       "</table>\n",
       "</div>"
      ],
      "text/plain": [
       "                                                               user_id_nunique\n",
       "feature_nice_name                                  event_type                 \n",
       "Link: Tracking located at Root Location: docs =... PressEvent               20\n",
       "Link: logo located at Root Location: docs => Na... PressEvent               18\n",
       "Link: Modeling located at Root Location: docs =... PressEvent               18\n",
       "Link: Taxonomy located at Root Location: docs =... PressEvent               13\n",
       "Link: Introduction located at Root Location: do... PressEvent                9"
      ]
     },
     "execution_count": 16,
     "metadata": {},
     "output_type": "execute_result"
    }
   ],
   "source": [
    "# select docs RootLocation only\n",
    "docs_users = of[(of.application == 'objectiv-docs')]\n",
    "\n",
    "# select PressEvent and MediaStart event, to focus on user actions\n",
    "docs_users = docs_users[(docs_users.event_type == 'PressEvent') |\n",
    "                   (docs_users.event_type == 'MediaStartEvent')]\n",
    "\n",
    "# docs users by feature\n",
    "docs_users = docs_users.groupby(['feature_nice_name', 'event_type']).agg({'user_id':'nunique'})\n",
    "docs_users.sort_values('user_id_nunique', ascending=False).head()"
   ]
  },
  {
   "cell_type": "markdown",
   "id": "eb7374f3",
   "metadata": {},
   "source": [
    "## Where did users come from?"
   ]
  },
  {
   "cell_type": "code",
   "execution_count": 17,
   "id": "6aa28364",
   "metadata": {},
   "outputs": [
    {
     "data": {
      "text/html": [
       "<div>\n",
       "<style scoped>\n",
       "    .dataframe tbody tr th:only-of-type {\n",
       "        vertical-align: middle;\n",
       "    }\n",
       "\n",
       "    .dataframe tbody tr th {\n",
       "        vertical-align: top;\n",
       "    }\n",
       "\n",
       "    .dataframe thead th {\n",
       "        text-align: right;\n",
       "    }\n",
       "</style>\n",
       "<table border=\"1\" class=\"dataframe\">\n",
       "  <thead>\n",
       "    <tr style=\"text-align: right;\">\n",
       "      <th></th>\n",
       "      <th>user_id_nunique</th>\n",
       "    </tr>\n",
       "    <tr>\n",
       "      <th>referrer</th>\n",
       "      <th></th>\n",
       "    </tr>\n",
       "  </thead>\n",
       "  <tbody>\n",
       "    <tr>\n",
       "      <th>None</th>\n",
       "      <td>467</td>\n",
       "    </tr>\n",
       "    <tr>\n",
       "      <th></th>\n",
       "      <td>24</td>\n",
       "    </tr>\n",
       "    <tr>\n",
       "      <th>android-app://com.slack/</th>\n",
       "      <td>1</td>\n",
       "    </tr>\n",
       "    <tr>\n",
       "      <th>https://www.google.com</th>\n",
       "      <td>1</td>\n",
       "    </tr>\n",
       "    <tr>\n",
       "      <th>https://www.google.com/</th>\n",
       "      <td>1</td>\n",
       "    </tr>\n",
       "  </tbody>\n",
       "</table>\n",
       "</div>"
      ],
      "text/plain": [
       "                          user_id_nunique\n",
       "referrer                                 \n",
       "None                                  467\n",
       "                                       24\n",
       "android-app://com.slack/                1\n",
       "https://www.google.com                  1\n",
       "https://www.google.com/                 1"
      ]
     },
     "execution_count": 17,
     "metadata": {},
     "output_type": "execute_result"
    }
   ],
   "source": [
    "# users by referrer\n",
    "referrer_users = of.groupby(['referrer']).agg({'user_id':'nunique'})\n",
    "referrer_users.sort_values('user_id_nunique', ascending=False).head()"
   ]
  },
  {
   "cell_type": "markdown",
   "id": "3bda262d",
   "metadata": {},
   "source": [
    "## Set conversion"
   ]
  },
  {
   "cell_type": "code",
   "execution_count": 18,
   "id": "897180ac",
   "metadata": {
    "scrolled": true
   },
   "outputs": [],
   "source": [
    "# define which events to use as conversion events\n",
    "of.add_conversion_event(location_stack=of.location_stack.json[{'id': 'objectiv-on-github', \n",
    "                                                        '_type': 'LinkContext'}:].fillna(\n",
    "                                       of.location_stack.json[{'id': 'github', '_type': 'LinkContext'}:]),\n",
    "                        event_type='PressEvent',\n",
    "                        name='github_press')"
   ]
  },
  {
   "cell_type": "markdown",
   "id": "23b03791",
   "metadata": {},
   "source": [
    "## Number of daily conversions"
   ]
  },
  {
   "cell_type": "code",
   "execution_count": 19,
   "id": "f4f6f7e7",
   "metadata": {},
   "outputs": [
    {
     "data": {
      "text/plain": [
       "moment\n",
       "2022-02-14     1\n",
       "2022-02-13     1\n",
       "2022-02-12     1\n",
       "2022-02-10     2\n",
       "2022-02-09     3\n",
       "2022-02-07     3\n",
       "2022-02-04     5\n",
       "2022-02-03     7\n",
       "2022-02-02    16\n",
       "Name: unique_users, dtype: int64"
      ]
     },
     "execution_count": 19,
     "metadata": {},
     "output_type": "execute_result"
    }
   ],
   "source": [
    "of.model_hub.filter(of.model_hub.map.is_conversion_event('github_press'))\\\n",
    "    .model_hub.aggregate.unique_users()\\\n",
    "    .sort_index(ascending=False).head(10)"
   ]
  },
  {
   "cell_type": "markdown",
   "id": "a1335d5d",
   "metadata": {},
   "source": [
    "## From where do users convert most?"
   ]
  },
  {
   "cell_type": "code",
   "execution_count": 20,
   "id": "88a0e85b",
   "metadata": {},
   "outputs": [
    {
     "data": {
      "text/html": [
       "<div>\n",
       "<style scoped>\n",
       "    .dataframe tbody tr th:only-of-type {\n",
       "        vertical-align: middle;\n",
       "    }\n",
       "\n",
       "    .dataframe tbody tr th {\n",
       "        vertical-align: top;\n",
       "    }\n",
       "\n",
       "    .dataframe thead th {\n",
       "        text-align: right;\n",
       "    }\n",
       "</style>\n",
       "<table border=\"1\" class=\"dataframe\">\n",
       "  <thead>\n",
       "    <tr style=\"text-align: right;\">\n",
       "      <th></th>\n",
       "      <th></th>\n",
       "      <th></th>\n",
       "      <th>user_id_nunique</th>\n",
       "    </tr>\n",
       "    <tr>\n",
       "      <th>application</th>\n",
       "      <th>feature_nice_name</th>\n",
       "      <th>event_type</th>\n",
       "      <th></th>\n",
       "    </tr>\n",
       "  </thead>\n",
       "  <tbody>\n",
       "    <tr>\n",
       "      <th rowspan=\"5\" valign=\"top\">objectiv-website</th>\n",
       "      <th>Link: objectiv-on-github located at Root Location: home =&gt; Content: the-stack</th>\n",
       "      <th>PressEvent</th>\n",
       "      <td>16</td>\n",
       "    </tr>\n",
       "    <tr>\n",
       "      <th>Link: objectiv-on-github located at Root Location: blog =&gt; Content: post-meet-objectiv-open-source-product-analytics-designed-for-data-sc =&gt; Content: blog-post-try-objectiv</th>\n",
       "      <th>PressEvent</th>\n",
       "      <td>11</td>\n",
       "    </tr>\n",
       "    <tr>\n",
       "      <th>Link: github located at Root Location: home =&gt; Navigation: navbar-top</th>\n",
       "      <th>PressEvent</th>\n",
       "      <td>8</td>\n",
       "    </tr>\n",
       "    <tr>\n",
       "      <th>Link: github located at Root Location: blog =&gt; Navigation: navbar-top =&gt; Overlay: hamburger-menu</th>\n",
       "      <th>PressEvent</th>\n",
       "      <td>2</td>\n",
       "    </tr>\n",
       "    <tr>\n",
       "      <th>Link: github located at Root Location: home =&gt; Navigation: navbar-top =&gt; Overlay: hamburger-menu</th>\n",
       "      <th>PressEvent</th>\n",
       "      <td>2</td>\n",
       "    </tr>\n",
       "  </tbody>\n",
       "</table>\n",
       "</div>"
      ],
      "text/plain": [
       "                                                                                user_id_nunique\n",
       "application      feature_nice_name                                  event_type                 \n",
       "objectiv-website Link: objectiv-on-github located at Root Locati... PressEvent               16\n",
       "                 Link: objectiv-on-github located at Root Locati... PressEvent               11\n",
       "                 Link: github located at Root Location: home => ... PressEvent                8\n",
       "                 Link: github located at Root Location: blog => ... PressEvent                2\n",
       "                 Link: github located at Root Location: home => ... PressEvent                2"
      ]
     },
     "execution_count": 20,
     "metadata": {},
     "output_type": "execute_result"
    }
   ],
   "source": [
    "# filter conversion events\n",
    "conversion_locations = of.model_hub.filter(of.model_hub.map.is_conversion_event('github_press'))\\\n",
    "    .groupby(['application', 'feature_nice_name', 'event_type'])\\\n",
    "    .agg({'user_id':'nunique'})\n",
    "\n",
    "conversion_locations.sort_values('user_id_nunique', ascending=False).head()"
   ]
  },
  {
   "cell_type": "markdown",
   "id": "5685ec0e",
   "metadata": {},
   "source": [
    "## Time spent for converting users?"
   ]
  },
  {
   "cell_type": "code",
   "execution_count": 21,
   "id": "9c37a664",
   "metadata": {},
   "outputs": [
    {
     "data": {
      "text/plain": [
       "moment\n",
       "2022-02-14   0 days 00:14:37.563250\n",
       "2022-02-13   0 days 00:00:06.779000\n",
       "2022-02-12   0 days 00:03:10.018000\n",
       "2022-02-10   0 days 00:00:50.597000\n",
       "2022-02-09   0 days 00:05:40.884571\n",
       "Name: session_duration, dtype: timedelta64[ns]"
      ]
     },
     "execution_count": 21,
     "metadata": {},
     "output_type": "execute_result"
    }
   ],
   "source": [
    "# use model hub to filter converting users and calculate duration\n",
    "of.model_hub.filter(of.model_hub.map.conversions_counter(name='github_press', partition='user_id')>=1)\\\n",
    "  .model_hub.agg.session_duration()\\\n",
    "  .sort_index(ascending=False).head()"
   ]
  },
  {
   "cell_type": "markdown",
   "id": "30c7df8c",
   "metadata": {},
   "source": [
    "## Top user interactions before conversions"
   ]
  },
  {
   "cell_type": "code",
   "execution_count": 22,
   "id": "c24b0d9a",
   "metadata": {
    "scrolled": false
   },
   "outputs": [
    {
     "data": {
      "text/html": [
       "<div>\n",
       "<style scoped>\n",
       "    .dataframe tbody tr th:only-of-type {\n",
       "        vertical-align: middle;\n",
       "    }\n",
       "\n",
       "    .dataframe tbody tr th {\n",
       "        vertical-align: top;\n",
       "    }\n",
       "\n",
       "    .dataframe thead th {\n",
       "        text-align: right;\n",
       "    }\n",
       "</style>\n",
       "<table border=\"1\" class=\"dataframe\">\n",
       "  <thead>\n",
       "    <tr style=\"text-align: right;\">\n",
       "      <th></th>\n",
       "      <th></th>\n",
       "      <th></th>\n",
       "      <th>user_id_nunique</th>\n",
       "    </tr>\n",
       "    <tr>\n",
       "      <th>application</th>\n",
       "      <th>feature_nice_name</th>\n",
       "      <th>event_type</th>\n",
       "      <th></th>\n",
       "    </tr>\n",
       "  </thead>\n",
       "  <tbody>\n",
       "    <tr>\n",
       "      <th rowspan=\"7\" valign=\"top\">objectiv-website</th>\n",
       "      <th>Media Player: objectiv-in-2-minutes located at Root Location: blog =&gt; Content: post-meet-objectiv-open-source-product-analytics-designed-for-data-sc</th>\n",
       "      <th>MediaStartEvent</th>\n",
       "      <td>5</td>\n",
       "    </tr>\n",
       "    <tr>\n",
       "      <th>Link: logo located at Root Location: blog =&gt; Navigation: navbar-top</th>\n",
       "      <th>PressEvent</th>\n",
       "      <td>4</td>\n",
       "    </tr>\n",
       "    <tr>\n",
       "      <th>Media Player: 2-minute-video located at Root Location: home</th>\n",
       "      <th>MediaStartEvent</th>\n",
       "      <td>4</td>\n",
       "    </tr>\n",
       "    <tr>\n",
       "      <th>Pressable: hamburger located at Root Location: blog =&gt; Navigation: navbar-top</th>\n",
       "      <th>PressEvent</th>\n",
       "      <td>3</td>\n",
       "    </tr>\n",
       "    <tr>\n",
       "      <th>Link: blog located at Root Location: home =&gt; Navigation: navbar-top</th>\n",
       "      <th>PressEvent</th>\n",
       "      <td>3</td>\n",
       "    </tr>\n",
       "    <tr>\n",
       "      <th>Link: faq located at Root Location: home =&gt; Navigation: navbar-top</th>\n",
       "      <th>PressEvent</th>\n",
       "      <td>2</td>\n",
       "    </tr>\n",
       "    <tr>\n",
       "      <th>Link: meet-objectiv-open-source-product-analytics-designed-for-data-sc located at Root Location: blog =&gt; Content: post-meet-objectiv-open-source-product-analytics-designed-for-data-sc =&gt; Navigation: header</th>\n",
       "      <th>PressEvent</th>\n",
       "      <td>2</td>\n",
       "    </tr>\n",
       "    <tr>\n",
       "      <th rowspan=\"3\" valign=\"top\">objectiv-docs</th>\n",
       "      <th>Link: Modeling located at Root Location: docs =&gt; Navigation: navbar-top</th>\n",
       "      <th>PressEvent</th>\n",
       "      <td>2</td>\n",
       "    </tr>\n",
       "    <tr>\n",
       "      <th>Link: HttpContext located at Root Location: docs =&gt; Navigation: docs-sidebar =&gt; Expandable: Reference =&gt; Expandable: Global Contexts</th>\n",
       "      <th>PressEvent</th>\n",
       "      <td>2</td>\n",
       "    </tr>\n",
       "    <tr>\n",
       "      <th>Link: Tracking located at Root Location: docs =&gt; Navigation: navbar-top</th>\n",
       "      <th>PressEvent</th>\n",
       "      <td>2</td>\n",
       "    </tr>\n",
       "  </tbody>\n",
       "</table>\n",
       "</div>"
      ],
      "text/plain": [
       "                                                                                     user_id_nunique\n",
       "application      feature_nice_name                                  event_type                      \n",
       "objectiv-website Media Player: objectiv-in-2-minutes located at ... MediaStartEvent                5\n",
       "                 Link: logo located at Root Location: blog => Na... PressEvent                     4\n",
       "                 Media Player: 2-minute-video located at Root Lo... MediaStartEvent                4\n",
       "                 Pressable: hamburger located at Root Location: ... PressEvent                     3\n",
       "                 Link: blog located at Root Location: home => Na... PressEvent                     3\n",
       "                 Link: faq located at Root Location: home => Nav... PressEvent                     2\n",
       "                 Link: meet-objectiv-open-source-product-analyti... PressEvent                     2\n",
       "objectiv-docs    Link: Modeling located at Root Location: docs =... PressEvent                     2\n",
       "                 Link: HttpContext located at Root Location: doc... PressEvent                     2\n",
       "                 Link: Tracking located at Root Location: docs =... PressEvent                     2"
      ]
     },
     "execution_count": 22,
     "metadata": {},
     "output_type": "execute_result"
    }
   ],
   "source": [
    "# select sessions with a conversion\n",
    "converted_users = of.model_hub.filter(of.model_hub.map.conversions_counter(name='github_press')>=1)\n",
    "\n",
    "# from those, select hits where number of conversions was still 0\n",
    "converted_users = converted_users.mh.filter(converted_users.model_hub.map.conversions_in_time('github_press')==0)\n",
    "\n",
    "# select PressEvent and MediaStart event, to focus on user actions\n",
    "converted_users = converted_users[(converted_users.event_type == 'PressEvent') |\n",
    "                   (converted_users.event_type == 'MediaStartEvent')]\n",
    "\n",
    "converted_users.groupby(['application', 'feature_nice_name', 'event_type']).agg({'user_id':'nunique'})\\\n",
    "    .sort_values('user_id_nunique', ascending=False).head(10)"
   ]
  },
  {
   "cell_type": "markdown",
   "id": "e7fb8835",
   "metadata": {},
   "source": [
    "## Time spent before conversions"
   ]
  },
  {
   "cell_type": "code",
   "execution_count": 23,
   "id": "a92b905b",
   "metadata": {},
   "outputs": [
    {
     "data": {
      "text/plain": [
       "moment\n",
       "2022-02   0 days 00:05:13.075933\n",
       "Name: session_duration, dtype: timedelta64[ns]"
      ]
     },
     "execution_count": 23,
     "metadata": {},
     "output_type": "execute_result"
    }
   ],
   "source": [
    "# use model hub to calculate duration, converted users contains events before 1st conversion\n",
    "converted_users.model_hub.aggregate.session_duration(time_aggregation='YYYY-MM').head()"
   ]
  }
 ],
 "metadata": {
  "kernelspec": {
   "display_name": "Python 3 (ipykernel)",
   "language": "python",
   "name": "python3"
  },
  "language_info": {
   "codemirror_mode": {
    "name": "ipython",
    "version": 3
   },
   "file_extension": ".py",
   "mimetype": "text/x-python",
   "name": "python",
   "nbconvert_exporter": "python",
   "pygments_lexer": "ipython3",
   "version": "3.9.10"
  }
 },
 "nbformat": 4,
 "nbformat_minor": 5
}
