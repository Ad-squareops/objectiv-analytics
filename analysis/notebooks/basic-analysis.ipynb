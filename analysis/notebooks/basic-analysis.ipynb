{
 "cells": [
  {
   "cell_type": "markdown",
   "id": "990f0ae2-48cd-4220-8960-844af284fcce",
   "metadata": {},
   "source": [
    "# Basic product analysis"
   ]
  },
  {
   "cell_type": "markdown",
   "id": "fc19e049-754f-4c0e-8a5a-0ff89bdb7724",
   "metadata": {},
   "source": [
    "In this notebook, we briefly demonstrate how you can easily do basic product analysis on your data."
   ]
  },
  {
   "cell_type": "markdown",
   "id": "277e303e",
   "metadata": {},
   "source": [
    "## Getting started"
   ]
  },
  {
   "cell_type": "code",
   "execution_count": null,
   "id": "4bd369f6",
   "metadata": {},
   "outputs": [],
   "source": [
    "# import Bach\n",
    "from bach_open_taxonomy import ObjectivFrame \n",
    "from bach import display_sql_as_markdown"
   ]
  },
  {
   "cell_type": "code",
   "execution_count": null,
   "id": "da4ec1a0",
   "metadata": {},
   "outputs": [],
   "source": [
    "# connect to SQL db\n",
    "of = ObjectivFrame.from_objectiv_data(time_aggregation='YYYY-MM-DD', start_date='2022-02-02')"
   ]
  },
  {
   "cell_type": "code",
   "execution_count": null,
   "id": "4e130b67",
   "metadata": {},
   "outputs": [],
   "source": [
    "# adding specific contexts to the data\n",
    "of['application'] = of.global_contexts.gc.application\n",
    "of['root_location'] = of.location_stack.ls.get_from_context_with_type_series(type='RootLocationContext', key='id')\n",
    "of['referrer'] = of.global_contexts.gc.get_from_context_with_type_series(type='HttpContext', key='referrer')\n",
    "of['feature_nice_name'] = of.location_stack.ls.nice_name"
   ]
  },
  {
   "cell_type": "code",
   "execution_count": null,
   "id": "3c4ad65e",
   "metadata": {},
   "outputs": [],
   "source": [
    "# have a look at the data\n",
    "of.sort_values('session_id', ascending=False).head()"
   ]
  },
  {
   "cell_type": "code",
   "execution_count": null,
   "id": "38aa346a",
   "metadata": {},
   "outputs": [],
   "source": [
    "# explore the data with describe\n",
    "of.describe(include='all').head()"
   ]
  },
  {
   "cell_type": "markdown",
   "id": "03bfa810",
   "metadata": {},
   "source": [
    "## How many users do we have?"
   ]
  },
  {
   "cell_type": "code",
   "execution_count": null,
   "id": "08ad4e39",
   "metadata": {},
   "outputs": [],
   "source": [
    "# model hub: unique users, monthly\n",
    "montly_users = of.model_hub.aggregate.unique_users(groupby=of.mh.time_agg('YYYY-MM'))\n",
    "montly_users.head()"
   ]
  },
  {
   "cell_type": "code",
   "execution_count": null,
   "id": "172f431c",
   "metadata": {},
   "outputs": [],
   "source": [
    "# model hub: unique users, daily\n",
    "daily_users = of.model_hub.aggregate.unique_users()\n",
    "daily_users.sort_index(ascending=False).head(10)"
   ]
  },
  {
   "cell_type": "code",
   "execution_count": null,
   "id": "fec344a2",
   "metadata": {},
   "outputs": [],
   "source": [
    "users_root = of.model_hub.aggregate.unique_users(groupby=['application', 'root_location'])\n",
    "users_root.sort_index(ascending=False).head(10)"
   ]
  },
  {
   "cell_type": "markdown",
   "id": "1a6de3da",
   "metadata": {},
   "source": [
    "## What is their time spent?"
   ]
  },
  {
   "cell_type": "code",
   "execution_count": null,
   "id": "5ad07abd-e62e-41d3-9033-cdacb906551f",
   "metadata": {},
   "outputs": [],
   "source": [
    "# model hub: duration, total month\n",
    "duration_monthly = of.model_hub.aggregate.session_duration(groupby=of.mh.time_agg('YYYY-MM'))\n",
    "duration_monthly.sort_index(ascending=False).head()"
   ]
  },
  {
   "cell_type": "code",
   "execution_count": null,
   "id": "9fb041b2",
   "metadata": {},
   "outputs": [],
   "source": [
    "# model hub: duration, daily\n",
    "duration_daily = of.model_hub.aggregate.session_duration()\n",
    "duration_daily.sort_index(ascending=False).head()"
   ]
  },
  {
   "cell_type": "code",
   "execution_count": null,
   "id": "4f929f0a",
   "metadata": {},
   "outputs": [],
   "source": [
    "of.model_hub.aggregate.session_duration(groupby=['root_location',of.mh.time_agg('YYYY-MM')]).sort_index().head(10)"
   ]
  },
  {
   "cell_type": "code",
   "execution_count": null,
   "id": "3cdd1e88",
   "metadata": {},
   "outputs": [],
   "source": [
    "# how is this time spent distributed?\n",
    "session_duration = of.mh.aggregate.session_duration(groupby='session_id', exclude_bounces=False)\n",
    "session_duration.to_frame().materialize()['session_duration'].quantile(q=[0.25, 0.50, 0.75]).head()"
   ]
  },
  {
   "cell_type": "markdown",
   "id": "c0e6a29a",
   "metadata": {},
   "source": [
    "## What are the top user interactions?"
   ]
  },
  {
   "cell_type": "code",
   "execution_count": null,
   "id": "63a3c654-0871-4392-8bdc-cc92b783b22c",
   "metadata": {},
   "outputs": [],
   "source": [
    "# select only user interactions\n",
    "interactive_events = of[of.stack_event_types>=['InteractiveEvent']]\n",
    "\n",
    "# users by feature\n",
    "users_feature = interactive_events.groupby(['application', 'feature_nice_name', 'event_type']).agg({'user_id':'nunique'})\n",
    "users_feature.sort_values('user_id_nunique', ascending=False).head()"
   ]
  },
  {
   "cell_type": "markdown",
   "id": "dcf82009",
   "metadata": {},
   "source": [
    "## What users do in each of the main product areas?"
   ]
  },
  {
   "cell_type": "code",
   "execution_count": null,
   "id": "a757be5a",
   "metadata": {},
   "outputs": [],
   "source": [
    "most_interactions = interactive_events.mh.agg.unique_users(groupby=['application','root_location','feature_nice_name', 'event_type'])\n",
    "most_interactions = most_interactions.to_frame().reset_index()"
   ]
  },
  {
   "cell_type": "code",
   "execution_count": null,
   "id": "3ba9b3cf",
   "metadata": {},
   "outputs": [],
   "source": [
    "home_users = most_interactions[(most_interactions.application == 'objectiv-website') &\n",
    "                               (most_interactions.root_location == 'home')]\n",
    "home_users.sort_values('unique_users', ascending=False).head()"
   ]
  },
  {
   "cell_type": "markdown",
   "id": "e9e5de5a",
   "metadata": {},
   "source": [
    "## What users do most in docs?"
   ]
  },
  {
   "cell_type": "code",
   "execution_count": null,
   "id": "3f8c4ae0",
   "metadata": {},
   "outputs": [],
   "source": [
    "docs_users = most_interactions[most_interactions.application == 'objectiv-docs']\n",
    "docs_users.sort_values('unique_users', ascending=False).head()"
   ]
  },
  {
   "cell_type": "markdown",
   "id": "eb7374f3",
   "metadata": {},
   "source": [
    "## Where are users coming from?"
   ]
  },
  {
   "cell_type": "code",
   "execution_count": null,
   "id": "6aa28364",
   "metadata": {},
   "outputs": [],
   "source": [
    "# users by referrer\n",
    "of.mh.agg.unique_users(groupby='referrer').sort_values(ascending=False).head()"
   ]
  },
  {
   "cell_type": "markdown",
   "id": "3bda262d",
   "metadata": {},
   "source": [
    "## How are conversions doing?"
   ]
  },
  {
   "cell_type": "code",
   "execution_count": null,
   "id": "897180ac",
   "metadata": {
    "scrolled": true
   },
   "outputs": [],
   "source": [
    "# define which events to use as conversion events\n",
    "of.add_conversion_event(location_stack=of.location_stack.json[{'id': 'objectiv-on-github', \n",
    "                                                               '_type': 'LinkContext'}:].fillna(\n",
    "                                       of.location_stack.json[{'id': 'github', '_type': 'LinkContext'}:]),\n",
    "                        event_type='PressEvent',\n",
    "                        name='github_press')"
   ]
  },
  {
   "cell_type": "code",
   "execution_count": null,
   "id": "f4f6f7e7",
   "metadata": {},
   "outputs": [],
   "source": [
    "# model hub: calculate conversions\n",
    "conversions = of.model_hub.filter(of.model_hub.map.is_conversion_event('github_press'))\\\n",
    "                .model_hub.aggregate.unique_users()\n",
    "\n",
    "conversions.to_frame().sort_index(ascending=False).head(10)"
   ]
  },
  {
   "cell_type": "code",
   "execution_count": null,
   "id": "f4fa4649-1300-4647-bd67-616e95bc96d6",
   "metadata": {},
   "outputs": [],
   "source": [
    "# use earlier model hub outputs to calculate conversion rate\n",
    "conversion_rate = conversions / daily_users\n",
    "conversion_rate.sort_index(ascending=False).head(10)"
   ]
  },
  {
   "cell_type": "code",
   "execution_count": null,
   "id": "88a0e85b",
   "metadata": {},
   "outputs": [],
   "source": [
    "# from where do users convert most?\n",
    "conversion_locations = of.model_hub.filter(of.model_hub.map.is_conversion_event('github_press'))\\\n",
    "                         .model_hub.agg.unique_users(groupby=['application', 'feature_nice_name', 'event_type'])\n",
    "\n",
    "conversion_locations.sort_values(ascending=False).head()"
   ]
  },
  {
   "cell_type": "code",
   "execution_count": null,
   "id": "c24b0d9a",
   "metadata": {},
   "outputs": [],
   "source": [
    "# what are users doing before they convert?\n",
    "\n",
    "# select sessions with a conversion\n",
    "converted_users = of.model_hub.filter(of.model_hub.map.conversions_counter(name='github_press')>=1)\n",
    "\n",
    "# from those, select hits where number of conversions was still 0\n",
    "converted_users = converted_users.mh.filter(converted_users.model_hub.map.conversions_in_time('github_press')==0)\n",
    "\n",
    "# select only user interactions\n",
    "converted_users_filtered = converted_users[converted_users.stack_event_types>=['InteractiveEvent']]\n",
    "\n",
    "converted_users_features = converted_users_filtered.model_hub.agg.unique_users(groupby=['application',\n",
    "                                                                                        'feature_nice_name',\n",
    "                                                                                        'event_type'])\n",
    "\n",
    "converted_users_features.sort_values(ascending=False).to_frame().head(10)"
   ]
  },
  {
   "cell_type": "code",
   "execution_count": null,
   "id": "a92b905b",
   "metadata": {},
   "outputs": [],
   "source": [
    "# how much time do users spent before they convert?\n",
    "converted_users.model_hub.aggregate.session_duration(groupby=None).to_frame().head()"
   ]
  },
  {
   "cell_type": "markdown",
   "id": "c4b5b4d2-d72b-4f10-9702-afe22015b74f",
   "metadata": {},
   "source": [
    "## Get the SQL for any analysis"
   ]
  },
  {
   "cell_type": "code",
   "execution_count": null,
   "id": "3503632c-bd17-462f-a7e2-9b27a390c673",
   "metadata": {
    "scrolled": false
   },
   "outputs": [],
   "source": [
    "# just one analysis as an example, this works for anything you do with Objectiv Bach\n",
    "display_sql_as_markdown(conversions)"
   ]
  }
 ],
 "metadata": {
  "kernelspec": {
   "display_name": "Python 3 (ipykernel)",
   "language": "python",
   "name": "python3"
  },
  "language_info": {
   "codemirror_mode": {
    "name": "ipython",
    "version": 3
   },
   "file_extension": ".py",
   "mimetype": "text/x-python",
   "name": "python",
   "nbconvert_exporter": "python",
   "pygments_lexer": "ipython3",
   "version": "3.9.4"
  }
 },
 "nbformat": 4,
 "nbformat_minor": 5
}
