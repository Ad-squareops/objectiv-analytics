{
 "cells": [
  {
   "cell_type": "markdown",
   "id": "277e303e",
   "metadata": {},
   "source": [
    "# Blog post analysis"
   ]
  },
  {
   "cell_type": "code",
   "execution_count": 1,
   "id": "4bd369f6",
   "metadata": {},
   "outputs": [],
   "source": [
    "# import Bach\n",
    "from bach_open_taxonomy import ObjectivFrame"
   ]
  },
  {
   "cell_type": "code",
   "execution_count": 2,
   "id": "da4ec1a0",
   "metadata": {},
   "outputs": [],
   "source": [
    "# connect to SQL db\n",
    "of = ObjectivFrame.from_objectiv_data(db_url='postgresql://postgres:@localhost:5432/objectiv',\n",
    "                                      table_name='data',\n",
    "                                      time_aggregation='YYYY-MM-DD',\n",
    "                                      start_date='2022-02-02')"
   ]
  },
  {
   "cell_type": "code",
   "execution_count": 3,
   "id": "4e130b67",
   "metadata": {},
   "outputs": [],
   "source": [
    "# adding specific contexts to the data\n",
    "of['application'] = of.global_contexts.gc.get_from_context_with_type_series(type='ApplicationContext', key='id')\n",
    "of['root_location'] = of.location_stack.ls.get_from_context_with_type_series(type='RootLocationContext', key='id')\n",
    "of['feature_nice_name'] = of.location_stack.ls.nice_name"
   ]
  },
  {
   "cell_type": "markdown",
   "id": "03bfa810",
   "metadata": {},
   "source": [
    "## We had 400 users on the site following the post"
   ]
  },
  {
   "cell_type": "code",
   "execution_count": 4,
   "id": "08ad4e39",
   "metadata": {},
   "outputs": [
    {
     "data": {
      "text/plain": [
       "moment\n",
       "2022-02    400\n",
       "Name: unique_users, dtype: int64"
      ]
     },
     "execution_count": 4,
     "metadata": {},
     "output_type": "execute_result"
    }
   ],
   "source": [
    "# model hub: unique users, total month\n",
    "users = of.model_hub.aggregate.unique_users(time_aggregation='YYYY-MM')\n",
    "users.sort_index(ascending=False).head(10)"
   ]
  },
  {
   "cell_type": "code",
   "execution_count": 5,
   "id": "172f431c",
   "metadata": {},
   "outputs": [
    {
     "data": {
      "text/plain": [
       "moment\n",
       "2022-02-07     10\n",
       "2022-02-06     20\n",
       "2022-02-05     33\n",
       "2022-02-04     53\n",
       "2022-02-03    100\n",
       "2022-02-02    239\n",
       "Name: unique_users, dtype: int64"
      ]
     },
     "execution_count": 5,
     "metadata": {},
     "output_type": "execute_result"
    }
   ],
   "source": [
    "# model hub: unique users, daily\n",
    "users = of.model_hub.aggregate.unique_users()\n",
    "users.sort_index(ascending=False).head(10)"
   ]
  },
  {
   "cell_type": "markdown",
   "id": "1a6de3da",
   "metadata": {},
   "source": [
    "## They spent on average 4.24 mins on site"
   ]
  },
  {
   "cell_type": "code",
   "execution_count": 6,
   "id": "51af4b82",
   "metadata": {},
   "outputs": [
    {
     "data": {
      "text/plain": [
       "moment\n",
       "2022-02   0 days 00:04:24.078493\n",
       "Name: session_duration, dtype: timedelta64[ns]"
      ]
     },
     "execution_count": 6,
     "metadata": {},
     "output_type": "execute_result"
    }
   ],
   "source": [
    "# model hub: duration\n",
    "duration = of.model_hub.aggregate.session_duration(time_aggregation='YYYY-MM')\n",
    "duration.sort_index(ascending=False).head(10)"
   ]
  },
  {
   "cell_type": "markdown",
   "id": "65f159c2",
   "metadata": {},
   "source": [
    "## Most users on blog, then home, then docs"
   ]
  },
  {
   "cell_type": "code",
   "execution_count": 7,
   "id": "fec344a2",
   "metadata": {},
   "outputs": [
    {
     "data": {
      "text/html": [
       "<div>\n",
       "<style scoped>\n",
       "    .dataframe tbody tr th:only-of-type {\n",
       "        vertical-align: middle;\n",
       "    }\n",
       "\n",
       "    .dataframe tbody tr th {\n",
       "        vertical-align: top;\n",
       "    }\n",
       "\n",
       "    .dataframe thead th {\n",
       "        text-align: right;\n",
       "    }\n",
       "</style>\n",
       "<table border=\"1\" class=\"dataframe\">\n",
       "  <thead>\n",
       "    <tr style=\"text-align: right;\">\n",
       "      <th></th>\n",
       "      <th>user_id_nunique</th>\n",
       "    </tr>\n",
       "    <tr>\n",
       "      <th>root_location</th>\n",
       "      <th></th>\n",
       "    </tr>\n",
       "  </thead>\n",
       "  <tbody>\n",
       "    <tr>\n",
       "      <th>blog</th>\n",
       "      <td>228</td>\n",
       "    </tr>\n",
       "    <tr>\n",
       "      <th>home</th>\n",
       "      <td>174</td>\n",
       "    </tr>\n",
       "    <tr>\n",
       "      <th>docs</th>\n",
       "      <td>132</td>\n",
       "    </tr>\n",
       "    <tr>\n",
       "      <th>about</th>\n",
       "      <td>56</td>\n",
       "    </tr>\n",
       "    <tr>\n",
       "      <th>jobs</th>\n",
       "      <td>49</td>\n",
       "    </tr>\n",
       "  </tbody>\n",
       "</table>\n",
       "</div>"
      ],
      "text/plain": [
       "               user_id_nunique\n",
       "root_location                 \n",
       "blog                       228\n",
       "home                       174\n",
       "docs                       132\n",
       "about                       56\n",
       "jobs                        49"
      ]
     },
     "execution_count": 7,
     "metadata": {},
     "output_type": "execute_result"
    }
   ],
   "source": [
    "# users by RootLocation\n",
    "users_root = of.groupby(['root_location']).agg({'user_id':'nunique'})\n",
    "users_root.sort_values('user_id_nunique', ascending=False).head()"
   ]
  },
  {
   "cell_type": "markdown",
   "id": "08c728e4",
   "metadata": {},
   "source": [
    "## Users spent 6.24 mins(!) on home, 6.01 in docs "
   ]
  },
  {
   "cell_type": "code",
   "execution_count": 8,
   "id": "06e96c5f",
   "metadata": {},
   "outputs": [
    {
     "data": {
      "text/plain": [
       "moment\n",
       "2022-02   0 days 00:06:24.071506\n",
       "Name: session_duration, dtype: timedelta64[ns]"
      ]
     },
     "execution_count": 8,
     "metadata": {},
     "output_type": "execute_result"
    }
   ],
   "source": [
    "of[(of.root_location == 'home')].model_hub.aggregate.session_duration(time_aggregation='YYYY-MM').head()"
   ]
  },
  {
   "cell_type": "code",
   "execution_count": 10,
   "id": "11cdbe6b",
   "metadata": {},
   "outputs": [
    {
     "data": {
      "text/plain": [
       "moment\n",
       "2022-02   0 days 00:06:01.047539\n",
       "Name: session_duration, dtype: timedelta64[ns]"
      ]
     },
     "execution_count": 10,
     "metadata": {},
     "output_type": "execute_result"
    }
   ],
   "source": [
    "of[(of.root_location == 'docs')].model_hub.aggregate.session_duration(time_aggregation='YYYY-MM').head()"
   ]
  },
  {
   "cell_type": "code",
   "execution_count": 11,
   "id": "f03c965a",
   "metadata": {},
   "outputs": [
    {
     "data": {
      "text/plain": [
       "moment\n",
       "2022-02   0 days 00:02:29.157431\n",
       "Name: session_duration, dtype: timedelta64[ns]"
      ]
     },
     "execution_count": 11,
     "metadata": {},
     "output_type": "execute_result"
    }
   ],
   "source": [
    "of[(of.root_location == 'blog')].model_hub.aggregate.session_duration(time_aggregation='YYYY-MM').head()"
   ]
  },
  {
   "cell_type": "markdown",
   "id": "c0e6a29a",
   "metadata": {},
   "source": [
    "## Video Bach did well in blog and on home (adding in blog was good)"
   ]
  },
  {
   "cell_type": "code",
   "execution_count": 12,
   "id": "4eae1d95",
   "metadata": {
    "scrolled": true
   },
   "outputs": [
    {
     "data": {
      "text/html": [
       "<div>\n",
       "<style scoped>\n",
       "    .dataframe tbody tr th:only-of-type {\n",
       "        vertical-align: middle;\n",
       "    }\n",
       "\n",
       "    .dataframe tbody tr th {\n",
       "        vertical-align: top;\n",
       "    }\n",
       "\n",
       "    .dataframe thead th {\n",
       "        text-align: right;\n",
       "    }\n",
       "</style>\n",
       "<table border=\"1\" class=\"dataframe\">\n",
       "  <thead>\n",
       "    <tr style=\"text-align: right;\">\n",
       "      <th></th>\n",
       "      <th></th>\n",
       "      <th>user_id_nunique</th>\n",
       "    </tr>\n",
       "    <tr>\n",
       "      <th>feature_nice_name</th>\n",
       "      <th>event_type</th>\n",
       "      <th></th>\n",
       "    </tr>\n",
       "  </thead>\n",
       "  <tbody>\n",
       "    <tr>\n",
       "      <th>Media Player: objectiv-in-2-minutes located at Root Location: blog =&gt; Content: post-meet-objectiv-open-source-product-analytics-designed-for-data-sc</th>\n",
       "      <th>MediaStartEvent</th>\n",
       "      <td>92</td>\n",
       "    </tr>\n",
       "    <tr>\n",
       "      <th>Media Player: 2-minute-video located at Root Location: home</th>\n",
       "      <th>MediaStartEvent</th>\n",
       "      <td>50</td>\n",
       "    </tr>\n",
       "    <tr>\n",
       "      <th>Link: about-us located at Root Location: home =&gt; Navigation: navbar-top</th>\n",
       "      <th>PressEvent</th>\n",
       "      <td>32</td>\n",
       "    </tr>\n",
       "    <tr>\n",
       "      <th>Pressable: hamburger located at Root Location: home =&gt; Navigation: navbar-top</th>\n",
       "      <th>PressEvent</th>\n",
       "      <td>30</td>\n",
       "    </tr>\n",
       "    <tr>\n",
       "      <th>Link: logo located at Root Location: blog =&gt; Navigation: navbar-top</th>\n",
       "      <th>PressEvent</th>\n",
       "      <td>28</td>\n",
       "    </tr>\n",
       "  </tbody>\n",
       "</table>\n",
       "</div>"
      ],
      "text/plain": [
       "                                                                    user_id_nunique\n",
       "feature_nice_name                                  event_type                      \n",
       "Media Player: objectiv-in-2-minutes located at ... MediaStartEvent               92\n",
       "Media Player: 2-minute-video located at Root Lo... MediaStartEvent               50\n",
       "Link: about-us located at Root Location: home =... PressEvent                    32\n",
       "Pressable: hamburger located at Root Location: ... PressEvent                    30\n",
       "Link: logo located at Root Location: blog => Na... PressEvent                    28"
      ]
     },
     "execution_count": 12,
     "metadata": {},
     "output_type": "execute_result"
    }
   ],
   "source": [
    "# select PressEvent and MediaStart event, to focus on user actions\n",
    "users_feature = of[(of.event_type == 'PressEvent') |\n",
    "                   (of.event_type == 'MediaStartEvent')]\n",
    "\n",
    "# users by feature\n",
    "users_feature = users_feature.groupby(['feature_nice_name', 'event_type']).agg({'user_id':'nunique'})\n",
    "users_feature.sort_values('user_id_nunique', ascending=False).head()"
   ]
  },
  {
   "cell_type": "markdown",
   "id": "2fe63e1a",
   "metadata": {},
   "source": [
    "## Docs: Modeling, Tracking, Quickstart even"
   ]
  },
  {
   "cell_type": "code",
   "execution_count": 14,
   "id": "4faecce7",
   "metadata": {},
   "outputs": [
    {
     "data": {
      "text/html": [
       "<div>\n",
       "<style scoped>\n",
       "    .dataframe tbody tr th:only-of-type {\n",
       "        vertical-align: middle;\n",
       "    }\n",
       "\n",
       "    .dataframe tbody tr th {\n",
       "        vertical-align: top;\n",
       "    }\n",
       "\n",
       "    .dataframe thead th {\n",
       "        text-align: right;\n",
       "    }\n",
       "</style>\n",
       "<table border=\"1\" class=\"dataframe\">\n",
       "  <thead>\n",
       "    <tr style=\"text-align: right;\">\n",
       "      <th></th>\n",
       "      <th></th>\n",
       "      <th>user_id_nunique</th>\n",
       "    </tr>\n",
       "    <tr>\n",
       "      <th>feature_nice_name</th>\n",
       "      <th>event_type</th>\n",
       "      <th></th>\n",
       "    </tr>\n",
       "  </thead>\n",
       "  <tbody>\n",
       "    <tr>\n",
       "      <th>Media Player: objectiv-in-2-minutes located at Root Location: blog =&gt; Content: post-meet-objectiv-open-source-product-analytics-designed-for-data-sc</th>\n",
       "      <th>MediaStartEvent</th>\n",
       "      <td>92</td>\n",
       "    </tr>\n",
       "    <tr>\n",
       "      <th>Media Player: 2-minute-video located at Root Location: home</th>\n",
       "      <th>MediaStartEvent</th>\n",
       "      <td>50</td>\n",
       "    </tr>\n",
       "    <tr>\n",
       "      <th>Link: about-us located at Root Location: home =&gt; Navigation: navbar-top</th>\n",
       "      <th>PressEvent</th>\n",
       "      <td>32</td>\n",
       "    </tr>\n",
       "    <tr>\n",
       "      <th>Pressable: hamburger located at Root Location: home =&gt; Navigation: navbar-top</th>\n",
       "      <th>PressEvent</th>\n",
       "      <td>30</td>\n",
       "    </tr>\n",
       "    <tr>\n",
       "      <th>Link: logo located at Root Location: blog =&gt; Navigation: navbar-top</th>\n",
       "      <th>PressEvent</th>\n",
       "      <td>28</td>\n",
       "    </tr>\n",
       "    <tr>\n",
       "      <th>Pressable: hamburger located at Root Location: blog =&gt; Navigation: navbar-top</th>\n",
       "      <th>PressEvent</th>\n",
       "      <td>27</td>\n",
       "    </tr>\n",
       "    <tr>\n",
       "      <th>Link: quickstart-guide located at Root Location: blog =&gt; Content: post-meet-objectiv-open-source-product-analytics-designed-for-data-sc =&gt; Content: blog-post-try-objectiv</th>\n",
       "      <th>PressEvent</th>\n",
       "      <td>16</td>\n",
       "    </tr>\n",
       "    <tr>\n",
       "      <th>Link: docs located at Root Location: home =&gt; Navigation: navbar-top</th>\n",
       "      <th>PressEvent</th>\n",
       "      <td>14</td>\n",
       "    </tr>\n",
       "    <tr>\n",
       "      <th>Link: Modeling located at Root Location: docs =&gt; Navigation: navbar-top</th>\n",
       "      <th>PressEvent</th>\n",
       "      <td>14</td>\n",
       "    </tr>\n",
       "    <tr>\n",
       "      <th>Link: logo located at Root Location: home =&gt; Navigation: navbar-top</th>\n",
       "      <th>PressEvent</th>\n",
       "      <td>13</td>\n",
       "    </tr>\n",
       "    <tr>\n",
       "      <th>Link: Tracking located at Root Location: docs =&gt; Navigation: navbar-top</th>\n",
       "      <th>PressEvent</th>\n",
       "      <td>12</td>\n",
       "    </tr>\n",
       "    <tr>\n",
       "      <th>Link: meet-objectiv-open-source-product-analytics-designed-for-data-sc located at Root Location: blog =&gt; Content: post-meet-objectiv-open-source-product-analytics-designed-for-data-sc =&gt; Navigation: header</th>\n",
       "      <th>PressEvent</th>\n",
       "      <td>12</td>\n",
       "    </tr>\n",
       "    <tr>\n",
       "      <th>Link: about-us located at Root Location: blog =&gt; Navigation: navbar-top =&gt; Overlay: hamburger-menu</th>\n",
       "      <th>PressEvent</th>\n",
       "      <td>12</td>\n",
       "    </tr>\n",
       "    <tr>\n",
       "      <th>Link: blog located at Root Location: home =&gt; Navigation: navbar-top</th>\n",
       "      <th>PressEvent</th>\n",
       "      <td>12</td>\n",
       "    </tr>\n",
       "    <tr>\n",
       "      <th>Link: jobs located at Root Location: blog =&gt; Navigation: navbar-top</th>\n",
       "      <th>PressEvent</th>\n",
       "      <td>12</td>\n",
       "    </tr>\n",
       "  </tbody>\n",
       "</table>\n",
       "</div>"
      ],
      "text/plain": [
       "                                                                    user_id_nunique\n",
       "feature_nice_name                                  event_type                      \n",
       "Media Player: objectiv-in-2-minutes located at ... MediaStartEvent               92\n",
       "Media Player: 2-minute-video located at Root Lo... MediaStartEvent               50\n",
       "Link: about-us located at Root Location: home =... PressEvent                    32\n",
       "Pressable: hamburger located at Root Location: ... PressEvent                    30\n",
       "Link: logo located at Root Location: blog => Na... PressEvent                    28\n",
       "Pressable: hamburger located at Root Location: ... PressEvent                    27\n",
       "Link: quickstart-guide located at Root Location... PressEvent                    16\n",
       "Link: docs located at Root Location: home => Na... PressEvent                    14\n",
       "Link: Modeling located at Root Location: docs =... PressEvent                    14\n",
       "Link: logo located at Root Location: home => Na... PressEvent                    13\n",
       "Link: Tracking located at Root Location: docs =... PressEvent                    12\n",
       "Link: meet-objectiv-open-source-product-analyti... PressEvent                    12\n",
       "Link: about-us located at Root Location: blog =... PressEvent                    12\n",
       "Link: blog located at Root Location: home => Na... PressEvent                    12\n",
       "Link: jobs located at Root Location: blog => Na... PressEvent                    12"
      ]
     },
     "execution_count": 14,
     "metadata": {},
     "output_type": "execute_result"
    }
   ],
   "source": [
    "# users by feature\n",
    "users_feature.sort_values('user_id_nunique', ascending=False).head(15)"
   ]
  },
  {
   "cell_type": "markdown",
   "id": "51beca54",
   "metadata": {},
   "source": [
    "## GitHub links small numbers, on blog & home did better than top nav"
   ]
  },
  {
   "cell_type": "code",
   "execution_count": 15,
   "id": "933d61a3",
   "metadata": {},
   "outputs": [
    {
     "data": {
      "text/html": [
       "<div>\n",
       "<style scoped>\n",
       "    .dataframe tbody tr th:only-of-type {\n",
       "        vertical-align: middle;\n",
       "    }\n",
       "\n",
       "    .dataframe tbody tr th {\n",
       "        vertical-align: top;\n",
       "    }\n",
       "\n",
       "    .dataframe thead th {\n",
       "        text-align: right;\n",
       "    }\n",
       "</style>\n",
       "<table border=\"1\" class=\"dataframe\">\n",
       "  <thead>\n",
       "    <tr style=\"text-align: right;\">\n",
       "      <th></th>\n",
       "      <th>user_id_nunique</th>\n",
       "    </tr>\n",
       "    <tr>\n",
       "      <th>feature_nice_name</th>\n",
       "      <th></th>\n",
       "    </tr>\n",
       "  </thead>\n",
       "  <tbody>\n",
       "    <tr>\n",
       "      <th>Link: objectiv-on-github located at Root Location: home =&gt; Content: the-stack</th>\n",
       "      <td>11</td>\n",
       "    </tr>\n",
       "    <tr>\n",
       "      <th>Link: objectiv-on-github located at Root Location: blog =&gt; Content: post-meet-objectiv-open-source-product-analytics-designed-for-data-sc =&gt; Content: blog-post-try-objectiv</th>\n",
       "      <td>10</td>\n",
       "    </tr>\n",
       "    <tr>\n",
       "      <th>Link: github located at Root Location: home =&gt; Navigation: navbar-top</th>\n",
       "      <td>5</td>\n",
       "    </tr>\n",
       "    <tr>\n",
       "      <th>Link: github located at Root Location: blog =&gt; Navigation: navbar-top =&gt; Overlay: hamburger-menu</th>\n",
       "      <td>2</td>\n",
       "    </tr>\n",
       "    <tr>\n",
       "      <th>Link: github located at Root Location: home =&gt; Navigation: navbar-top =&gt; Overlay: hamburger-menu</th>\n",
       "      <td>2</td>\n",
       "    </tr>\n",
       "  </tbody>\n",
       "</table>\n",
       "</div>"
      ],
      "text/plain": [
       "                                                    user_id_nunique\n",
       "feature_nice_name                                                  \n",
       "Link: objectiv-on-github located at Root Locati...               11\n",
       "Link: objectiv-on-github located at Root Locati...               10\n",
       "Link: github located at Root Location: home => ...                5\n",
       "Link: github located at Root Location: blog => ...                2\n",
       "Link: github located at Root Location: home => ...                2"
      ]
     },
     "execution_count": 15,
     "metadata": {},
     "output_type": "execute_result"
    }
   ],
   "source": [
    "# select github LinkContext only\n",
    "of['link_id'] = of.location_stack.ls.get_from_context_with_type_series(type='LinkContext', key='id')\n",
    "github_users = of[(of.link_id == 'objectiv-on-github')|\n",
    "                  (of.link_id == 'github')]\n",
    "\n",
    "# github users by feature\n",
    "github_users = github_users.groupby(['feature_nice_name']).agg({'user_id':'nunique'})\n",
    "github_users.sort_values('user_id_nunique', ascending=False).head()"
   ]
  },
  {
   "cell_type": "markdown",
   "id": "dcf82009",
   "metadata": {},
   "source": [
    "## What did users do most on home?"
   ]
  },
  {
   "cell_type": "code",
   "execution_count": 16,
   "id": "a757be5a",
   "metadata": {},
   "outputs": [
    {
     "data": {
      "text/html": [
       "<div>\n",
       "<style scoped>\n",
       "    .dataframe tbody tr th:only-of-type {\n",
       "        vertical-align: middle;\n",
       "    }\n",
       "\n",
       "    .dataframe tbody tr th {\n",
       "        vertical-align: top;\n",
       "    }\n",
       "\n",
       "    .dataframe thead th {\n",
       "        text-align: right;\n",
       "    }\n",
       "</style>\n",
       "<table border=\"1\" class=\"dataframe\">\n",
       "  <thead>\n",
       "    <tr style=\"text-align: right;\">\n",
       "      <th></th>\n",
       "      <th>user_id_nunique</th>\n",
       "    </tr>\n",
       "    <tr>\n",
       "      <th>feature_nice_name</th>\n",
       "      <th></th>\n",
       "    </tr>\n",
       "  </thead>\n",
       "  <tbody>\n",
       "    <tr>\n",
       "      <th>Media Player: 2-minute-video located at Root Location: home</th>\n",
       "      <td>50</td>\n",
       "    </tr>\n",
       "    <tr>\n",
       "      <th>Link: about-us located at Root Location: home =&gt; Navigation: navbar-top</th>\n",
       "      <td>32</td>\n",
       "    </tr>\n",
       "    <tr>\n",
       "      <th>Pressable: hamburger located at Root Location: home =&gt; Navigation: navbar-top</th>\n",
       "      <td>30</td>\n",
       "    </tr>\n",
       "    <tr>\n",
       "      <th>Link: docs located at Root Location: home =&gt; Navigation: navbar-top</th>\n",
       "      <td>14</td>\n",
       "    </tr>\n",
       "    <tr>\n",
       "      <th>Link: logo located at Root Location: home =&gt; Navigation: navbar-top</th>\n",
       "      <td>13</td>\n",
       "    </tr>\n",
       "    <tr>\n",
       "      <th>Link: blog located at Root Location: home =&gt; Navigation: navbar-top</th>\n",
       "      <td>12</td>\n",
       "    </tr>\n",
       "    <tr>\n",
       "      <th>Link: objectiv-on-github located at Root Location: home =&gt; Content: the-stack</th>\n",
       "      <td>11</td>\n",
       "    </tr>\n",
       "    <tr>\n",
       "      <th>Link: about-us located at Root Location: home =&gt; Navigation: navbar-top =&gt; Overlay: hamburger-menu</th>\n",
       "      <td>11</td>\n",
       "    </tr>\n",
       "    <tr>\n",
       "      <th>Link: faq located at Root Location: home =&gt; Navigation: navbar-top</th>\n",
       "      <td>7</td>\n",
       "    </tr>\n",
       "    <tr>\n",
       "      <th>Link: jobs located at Root Location: home =&gt; Navigation: navbar-top =&gt; Overlay: hamburger-menu</th>\n",
       "      <td>6</td>\n",
       "    </tr>\n",
       "  </tbody>\n",
       "</table>\n",
       "</div>"
      ],
      "text/plain": [
       "                                                    user_id_nunique\n",
       "feature_nice_name                                                  \n",
       "Media Player: 2-minute-video located at Root Lo...               50\n",
       "Link: about-us located at Root Location: home =...               32\n",
       "Pressable: hamburger located at Root Location: ...               30\n",
       "Link: docs located at Root Location: home => Na...               14\n",
       "Link: logo located at Root Location: home => Na...               13\n",
       "Link: blog located at Root Location: home => Na...               12\n",
       "Link: objectiv-on-github located at Root Locati...               11\n",
       "Link: about-us located at Root Location: home =...               11\n",
       "Link: faq located at Root Location: home => Nav...                7\n",
       "Link: jobs located at Root Location: home => Na...                6"
      ]
     },
     "execution_count": 16,
     "metadata": {},
     "output_type": "execute_result"
    }
   ],
   "source": [
    "# select homepage RootLocation only\n",
    "home_users = of[(of.root_location == 'home')]\n",
    "\n",
    "# select PressEvent and MediaStart event, to focus on user actions\n",
    "home_users = home_users[(home_users.event_type == 'PressEvent') |\n",
    "                   (home_users.event_type == 'MediaStartEvent')]\n",
    "\n",
    "# home users by feature\n",
    "home_users = home_users.groupby(['feature_nice_name']).agg({'user_id':'nunique'})\n",
    "home_users.sort_values('user_id_nunique', ascending=False).head(10)"
   ]
  }
 ],
 "metadata": {
  "kernelspec": {
   "display_name": "Python 3 (ipykernel)",
   "language": "python",
   "name": "python3"
  },
  "language_info": {
   "codemirror_mode": {
    "name": "ipython",
    "version": 3
   },
   "file_extension": ".py",
   "mimetype": "text/x-python",
   "name": "python",
   "nbconvert_exporter": "python",
   "pygments_lexer": "ipython3",
   "version": "3.9.10"
  }
 },
 "nbformat": 4,
 "nbformat_minor": 5
}
