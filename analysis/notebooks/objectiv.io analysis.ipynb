{
 "cells": [
  {
   "cell_type": "markdown",
   "id": "277e303e",
   "metadata": {},
   "source": [
    "# Blog post analysis"
   ]
  },
  {
   "cell_type": "code",
   "execution_count": 1,
   "id": "4bd369f6",
   "metadata": {},
   "outputs": [],
   "source": [
    "# import Bach\n",
    "from bach_open_taxonomy import ObjectivFrame"
   ]
  },
  {
   "cell_type": "code",
   "execution_count": 2,
   "id": "da4ec1a0",
   "metadata": {},
   "outputs": [],
   "source": [
    "# connect to SQL db\n",
    "of = ObjectivFrame.from_objectiv_data(db_url='postgresql://postgres:@localhost:5432/objectiv',\n",
    "                                      table_name='data',\n",
    "                                      time_aggregation='YYYY-MM-DD',\n",
    "                                      start_date='2022-02-02')"
   ]
  },
  {
   "cell_type": "code",
   "execution_count": 3,
   "id": "4e130b67",
   "metadata": {},
   "outputs": [],
   "source": [
    "# adding specific contexts to the data\n",
    "of['application'] = of.global_contexts.gc.get_from_context_with_type_series(type='ApplicationContext', key='id')\n",
    "of['root_location'] = of.location_stack.ls.get_from_context_with_type_series(type='RootLocationContext', key='id')\n",
    "of['feature_nice_name'] = of.location_stack.ls.nice_name"
   ]
  },
  {
   "cell_type": "markdown",
   "id": "03bfa810",
   "metadata": {},
   "source": [
    "## We had 315 users on the site following the post"
   ]
  },
  {
   "cell_type": "code",
   "execution_count": 4,
   "id": "08ad4e39",
   "metadata": {},
   "outputs": [
    {
     "data": {
      "text/plain": [
       "moment\n",
       "2022-02    315\n",
       "Name: unique_users, dtype: int64"
      ]
     },
     "execution_count": 4,
     "metadata": {},
     "output_type": "execute_result"
    }
   ],
   "source": [
    "# model hub: unique users, total month\n",
    "users = of.model_hub.aggregate.unique_users(time_aggregation='YYYY-MM')\n",
    "users.sort_index(ascending=False).head(10)"
   ]
  },
  {
   "cell_type": "code",
   "execution_count": 5,
   "id": "172f431c",
   "metadata": {},
   "outputs": [
    {
     "data": {
      "text/plain": [
       "moment\n",
       "2022-02-04     13\n",
       "2022-02-03    100\n",
       "2022-02-02    239\n",
       "Name: unique_users, dtype: int64"
      ]
     },
     "execution_count": 5,
     "metadata": {},
     "output_type": "execute_result"
    }
   ],
   "source": [
    "# model hub: unique users, daily\n",
    "users = of.model_hub.aggregate.unique_users()\n",
    "users.sort_index(ascending=False).head(10)"
   ]
  },
  {
   "cell_type": "markdown",
   "id": "1a6de3da",
   "metadata": {},
   "source": [
    "## They spent on average 4.36 mins on site"
   ]
  },
  {
   "cell_type": "code",
   "execution_count": 6,
   "id": "51af4b82",
   "metadata": {},
   "outputs": [
    {
     "data": {
      "text/plain": [
       "moment\n",
       "2022-02   0 days 00:04:36.909768\n",
       "Name: session_duration, dtype: timedelta64[ns]"
      ]
     },
     "execution_count": 6,
     "metadata": {},
     "output_type": "execute_result"
    }
   ],
   "source": [
    "# model hub: duration\n",
    "duration = of.model_hub.aggregate.session_duration(time_aggregation='YYYY-MM')\n",
    "duration.sort_index(ascending=False).head(10)"
   ]
  },
  {
   "cell_type": "markdown",
   "id": "65f159c2",
   "metadata": {},
   "source": [
    "## Most users on blog, then home, then closely docs"
   ]
  },
  {
   "cell_type": "code",
   "execution_count": 7,
   "id": "fec344a2",
   "metadata": {},
   "outputs": [
    {
     "data": {
      "text/html": [
       "<div>\n",
       "<style scoped>\n",
       "    .dataframe tbody tr th:only-of-type {\n",
       "        vertical-align: middle;\n",
       "    }\n",
       "\n",
       "    .dataframe tbody tr th {\n",
       "        vertical-align: top;\n",
       "    }\n",
       "\n",
       "    .dataframe thead th {\n",
       "        text-align: right;\n",
       "    }\n",
       "</style>\n",
       "<table border=\"1\" class=\"dataframe\">\n",
       "  <thead>\n",
       "    <tr style=\"text-align: right;\">\n",
       "      <th></th>\n",
       "      <th>user_id_nunique</th>\n",
       "    </tr>\n",
       "    <tr>\n",
       "      <th>root_location</th>\n",
       "      <th></th>\n",
       "    </tr>\n",
       "  </thead>\n",
       "  <tbody>\n",
       "    <tr>\n",
       "      <th>blog</th>\n",
       "      <td>182</td>\n",
       "    </tr>\n",
       "    <tr>\n",
       "      <th>home</th>\n",
       "      <td>126</td>\n",
       "    </tr>\n",
       "    <tr>\n",
       "      <th>docs</th>\n",
       "      <td>116</td>\n",
       "    </tr>\n",
       "    <tr>\n",
       "      <th>about</th>\n",
       "      <td>42</td>\n",
       "    </tr>\n",
       "    <tr>\n",
       "      <th>jobs</th>\n",
       "      <td>40</td>\n",
       "    </tr>\n",
       "  </tbody>\n",
       "</table>\n",
       "</div>"
      ],
      "text/plain": [
       "               user_id_nunique\n",
       "root_location                 \n",
       "blog                       182\n",
       "home                       126\n",
       "docs                       116\n",
       "about                       42\n",
       "jobs                        40"
      ]
     },
     "execution_count": 7,
     "metadata": {},
     "output_type": "execute_result"
    }
   ],
   "source": [
    "# users by RootLocation\n",
    "users_root = of.groupby(['root_location']).agg({'user_id':'nunique'})\n",
    "users_root.sort_values('user_id_nunique', ascending=False).head()"
   ]
  },
  {
   "cell_type": "markdown",
   "id": "089dc2ee",
   "metadata": {},
   "source": [
    "## Users spent 7 mins(!) on home, 6.36 in docs "
   ]
  },
  {
   "cell_type": "code",
   "execution_count": 18,
   "id": "a767b86c",
   "metadata": {},
   "outputs": [
    {
     "data": {
      "text/plain": [
       "moment\n",
       "2022-02   0 days 00:07:15.380532\n",
       "Name: session_duration, dtype: timedelta64[ns]"
      ]
     },
     "execution_count": 18,
     "metadata": {},
     "output_type": "execute_result"
    }
   ],
   "source": [
    "of[(of.root_location == 'home')].model_hub.aggregate.session_duration(time_aggregation='YYYY-MM').head()"
   ]
  },
  {
   "cell_type": "code",
   "execution_count": 17,
   "id": "6c2a2f3a",
   "metadata": {},
   "outputs": [
    {
     "data": {
      "text/plain": [
       "moment\n",
       "2022-02   0 days 00:06:36.085650\n",
       "Name: session_duration, dtype: timedelta64[ns]"
      ]
     },
     "execution_count": 17,
     "metadata": {},
     "output_type": "execute_result"
    }
   ],
   "source": [
    "of[(of.root_location == 'docs')].model_hub.aggregate.session_duration(time_aggregation='YYYY-MM').head()"
   ]
  },
  {
   "cell_type": "code",
   "execution_count": 16,
   "id": "ba09593d",
   "metadata": {},
   "outputs": [
    {
     "data": {
      "text/plain": [
       "moment\n",
       "2022-02   0 days 00:02:40.471593\n",
       "Name: session_duration, dtype: timedelta64[ns]"
      ]
     },
     "execution_count": 16,
     "metadata": {},
     "output_type": "execute_result"
    }
   ],
   "source": [
    "of[(of.root_location == 'blog')].model_hub.aggregate.session_duration(time_aggregation='YYYY-MM').head()"
   ]
  },
  {
   "cell_type": "markdown",
   "id": "41b428c5",
   "metadata": {},
   "source": [
    "## Quantile"
   ]
  },
  {
   "cell_type": "code",
   "execution_count": 24,
   "id": "09fb733a",
   "metadata": {},
   "outputs": [
    {
     "ename": "TypeError",
     "evalue": "'<' not supported between instances of 'str' and 'int'",
     "output_type": "error",
     "traceback": [
      "\u001b[0;31m---------------------------------------------------------------------------\u001b[0m",
      "\u001b[0;31mTypeError\u001b[0m                                 Traceback (most recent call last)",
      "Input \u001b[0;32mIn [24]\u001b[0m, in \u001b[0;36m<module>\u001b[0;34m\u001b[0m\n\u001b[0;32m----> 1\u001b[0m x \u001b[38;5;241m=\u001b[39m \u001b[43mof\u001b[49m\u001b[38;5;241;43m.\u001b[39;49m\u001b[43mquantile\u001b[49m\u001b[43m(\u001b[49m\u001b[38;5;124;43m'\u001b[39;49m\u001b[38;5;124;43muser_id\u001b[39;49m\u001b[38;5;124;43m'\u001b[39;49m\u001b[43m)\u001b[49m\n",
      "File \u001b[0;32m~/objectiv-analytics/bach/bach/dataframe.py:2085\u001b[0m, in \u001b[0;36mDataFrame.quantile\u001b[0;34m(self, q, axis, **kwargs)\u001b[0m\n\u001b[1;32m   2083\u001b[0m all_quantile_dfs \u001b[38;5;241m=\u001b[39m []\n\u001b[1;32m   2084\u001b[0m \u001b[38;5;28;01mfor\u001b[39;00m qt \u001b[38;5;129;01min\u001b[39;00m quantiles:\n\u001b[0;32m-> 2085\u001b[0m     new_series \u001b[38;5;241m=\u001b[39m \u001b[43mdf\u001b[49m\u001b[38;5;241;43m.\u001b[39;49m\u001b[43m_apply_func_to_series\u001b[49m\u001b[43m(\u001b[49m\n\u001b[1;32m   2086\u001b[0m \u001b[43m        \u001b[49m\u001b[43mfunc\u001b[49m\u001b[38;5;241;43m=\u001b[39;49m\u001b[38;5;124;43m'\u001b[39;49m\u001b[38;5;124;43mquantile\u001b[39;49m\u001b[38;5;124;43m'\u001b[39;49m\u001b[43m,\u001b[49m\n\u001b[1;32m   2087\u001b[0m \u001b[43m        \u001b[49m\u001b[43maxis\u001b[49m\u001b[38;5;241;43m=\u001b[39;49m\u001b[43maxis\u001b[49m\u001b[43m,\u001b[49m\n\u001b[1;32m   2088\u001b[0m \u001b[43m        \u001b[49m\u001b[43mnumeric_only\u001b[49m\u001b[38;5;241;43m=\u001b[39;49m\u001b[38;5;28;43;01mTrue\u001b[39;49;00m\u001b[43m,\u001b[49m\n\u001b[1;32m   2089\u001b[0m \u001b[43m        \u001b[49m\u001b[43mexclude_non_applied\u001b[49m\u001b[38;5;241;43m=\u001b[39;49m\u001b[38;5;28;43;01mTrue\u001b[39;49;00m\u001b[43m,\u001b[49m\n\u001b[1;32m   2090\u001b[0m \u001b[43m        \u001b[49m\u001b[43mpartition\u001b[49m\u001b[38;5;241;43m=\u001b[39;49m\u001b[43mdf\u001b[49m\u001b[38;5;241;43m.\u001b[39;49m\u001b[43mgroup_by\u001b[49m\u001b[43m,\u001b[49m\n\u001b[1;32m   2091\u001b[0m \u001b[43m        \u001b[49m\u001b[43mq\u001b[49m\u001b[38;5;241;43m=\u001b[39;49m\u001b[43mqt\u001b[49m\u001b[43m,\u001b[49m\n\u001b[1;32m   2092\u001b[0m \u001b[43m        \u001b[49m\u001b[38;5;241;43m*\u001b[39;49m\u001b[38;5;241;43m*\u001b[39;49m\u001b[43mkwargs\u001b[49m\u001b[43m,\u001b[49m\n\u001b[1;32m   2093\u001b[0m \u001b[43m    \u001b[49m\u001b[43m)\u001b[49m\n\u001b[1;32m   2094\u001b[0m     initial_series \u001b[38;5;241m=\u001b[39m new_series[\u001b[38;5;241m0\u001b[39m]\n\u001b[1;32m   2095\u001b[0m     quantile_df \u001b[38;5;241m=\u001b[39m df\u001b[38;5;241m.\u001b[39mcopy_override(\n\u001b[1;32m   2096\u001b[0m         base_node\u001b[38;5;241m=\u001b[39minitial_series\u001b[38;5;241m.\u001b[39mbase_node,\n\u001b[1;32m   2097\u001b[0m         series\u001b[38;5;241m=\u001b[39m{s\u001b[38;5;241m.\u001b[39mname: s \u001b[38;5;28;01mfor\u001b[39;00m s \u001b[38;5;129;01min\u001b[39;00m new_series},\n\u001b[1;32m   2098\u001b[0m         index\u001b[38;5;241m=\u001b[39m{},\n\u001b[1;32m   2099\u001b[0m         group_by\u001b[38;5;241m=\u001b[39minitial_series\u001b[38;5;241m.\u001b[39mgroup_by,\n\u001b[1;32m   2100\u001b[0m     )\n",
      "File \u001b[0;32m~/objectiv-analytics/bach/bach/dataframe.py:1867\u001b[0m, in \u001b[0;36mDataFrame._apply_func_to_series\u001b[0;34m(self, func, axis, numeric_only, exclude_non_applied, *args, **kwargs)\u001b[0m\n\u001b[1;32m   1865\u001b[0m new_series \u001b[38;5;241m=\u001b[39m {}\n\u001b[1;32m   1866\u001b[0m \u001b[38;5;28;01mfor\u001b[39;00m name, apply_func \u001b[38;5;129;01min\u001b[39;00m apply_dict\u001b[38;5;241m.\u001b[39mitems():\n\u001b[0;32m-> 1867\u001b[0m     \u001b[38;5;28;01mfor\u001b[39;00m applied \u001b[38;5;129;01min\u001b[39;00m \u001b[38;5;28;43mself\u001b[39;49m\u001b[38;5;241;43m.\u001b[39;49m\u001b[43m_data\u001b[49m\u001b[43m[\u001b[49m\u001b[43mname\u001b[49m\u001b[43m]\u001b[49m\u001b[38;5;241;43m.\u001b[39;49m\u001b[43mapply_func\u001b[49m\u001b[43m(\u001b[49m\u001b[43mapply_func\u001b[49m\u001b[43m,\u001b[49m\u001b[43m \u001b[49m\u001b[38;5;241;43m*\u001b[39;49m\u001b[43margs\u001b[49m\u001b[43m,\u001b[49m\u001b[43m \u001b[49m\u001b[38;5;241;43m*\u001b[39;49m\u001b[38;5;241;43m*\u001b[39;49m\u001b[43mkwargs\u001b[49m\u001b[43m)\u001b[49m:\n\u001b[1;32m   1868\u001b[0m         \u001b[38;5;28;01mif\u001b[39;00m applied\u001b[38;5;241m.\u001b[39mname \u001b[38;5;129;01min\u001b[39;00m new_series:\n\u001b[1;32m   1869\u001b[0m             \u001b[38;5;28;01mraise\u001b[39;00m \u001b[38;5;167;01mValueError\u001b[39;00m(\u001b[38;5;124mf\u001b[39m\u001b[38;5;124m'\u001b[39m\u001b[38;5;124mduplicate result series: \u001b[39m\u001b[38;5;132;01m{\u001b[39;00mapplied\u001b[38;5;241m.\u001b[39mname\u001b[38;5;132;01m}\u001b[39;00m\u001b[38;5;124m'\u001b[39m)\n",
      "File \u001b[0;32m~/objectiv-analytics/bach/bach/series/series.py:912\u001b[0m, in \u001b[0;36mSeries.apply_func\u001b[0;34m(self, func, *args, **kwargs)\u001b[0m\n\u001b[1;32m    909\u001b[0m \u001b[38;5;28;01mif\u001b[39;00m \u001b[38;5;28mhasattr\u001b[39m(fn, \u001b[38;5;124m'\u001b[39m\u001b[38;5;124m__self__\u001b[39m\u001b[38;5;124m'\u001b[39m):\n\u001b[1;32m    910\u001b[0m     fn \u001b[38;5;241m=\u001b[39m cast(Callable, fn\u001b[38;5;241m.\u001b[39m\u001b[38;5;18m__func__\u001b[39m)  \u001b[38;5;66;03m# type: ignore[attr-defined]\u001b[39;00m\n\u001b[0;32m--> 912\u001b[0m fn_applied_series \u001b[38;5;241m=\u001b[39m \u001b[43mfn\u001b[49m\u001b[43m(\u001b[49m\u001b[38;5;28;43mself\u001b[39;49m\u001b[43m,\u001b[49m\u001b[43m \u001b[49m\u001b[38;5;241;43m*\u001b[39;49m\u001b[43margs\u001b[49m\u001b[43m,\u001b[49m\u001b[43m \u001b[49m\u001b[38;5;241;43m*\u001b[39;49m\u001b[38;5;241;43m*\u001b[39;49m\u001b[43mkwargs\u001b[49m\u001b[43m)\u001b[49m\n\u001b[1;32m    913\u001b[0m \u001b[38;5;28;01mif\u001b[39;00m series_name \u001b[38;5;129;01min\u001b[39;00m series:\n\u001b[1;32m    914\u001b[0m     \u001b[38;5;28;01mraise\u001b[39;00m \u001b[38;5;167;01mValueError\u001b[39;00m(\u001b[38;5;124mf\u001b[39m\u001b[38;5;124m'\u001b[39m\u001b[38;5;124mduplicate series target name \u001b[39m\u001b[38;5;132;01m{\u001b[39;00mseries_name\u001b[38;5;132;01m}\u001b[39;00m\u001b[38;5;124m'\u001b[39m)\n",
      "File \u001b[0;32m~/objectiv-analytics/bach/bach/series/series_numeric.py:137\u001b[0m, in \u001b[0;36mSeriesAbstractNumeric.quantile\u001b[0;34m(self, partition, q)\u001b[0m\n\u001b[1;32m    135\u001b[0m quantile_results \u001b[38;5;241m=\u001b[39m []\n\u001b[1;32m    136\u001b[0m \u001b[38;5;28;01mfor\u001b[39;00m qt \u001b[38;5;129;01min\u001b[39;00m quantiles:\n\u001b[0;32m--> 137\u001b[0m     \u001b[38;5;28;01mif\u001b[39;00m \u001b[43mqt\u001b[49m\u001b[43m \u001b[49m\u001b[38;5;241;43m<\u001b[39;49m\u001b[43m \u001b[49m\u001b[38;5;241;43m0\u001b[39;49m \u001b[38;5;129;01mor\u001b[39;00m qt \u001b[38;5;241m>\u001b[39m \u001b[38;5;241m1\u001b[39m:\n\u001b[1;32m    138\u001b[0m         \u001b[38;5;28;01mraise\u001b[39;00m \u001b[38;5;167;01mValueError\u001b[39;00m(\u001b[38;5;124mf\u001b[39m\u001b[38;5;124m'\u001b[39m\u001b[38;5;124mvalue \u001b[39m\u001b[38;5;132;01m{\u001b[39;00mqt\u001b[38;5;132;01m}\u001b[39;00m\u001b[38;5;124m should be between 0 and 1.\u001b[39m\u001b[38;5;124m'\u001b[39m)\n\u001b[1;32m    140\u001b[0m     agg_result \u001b[38;5;241m=\u001b[39m cast(\n\u001b[1;32m    141\u001b[0m         \u001b[38;5;124m'\u001b[39m\u001b[38;5;124mSeriesFloat64\u001b[39m\u001b[38;5;124m'\u001b[39m,\n\u001b[1;32m    142\u001b[0m         \u001b[38;5;28mself\u001b[39m\u001b[38;5;241m.\u001b[39m_derived_agg_func(\n\u001b[0;32m   (...)\u001b[0m\n\u001b[1;32m    148\u001b[0m         ),\n\u001b[1;32m    149\u001b[0m     )\n",
      "\u001b[0;31mTypeError\u001b[0m: '<' not supported between instances of 'str' and 'int'"
     ]
    }
   ],
   "source": [
    "x = of.quantile('user_id')"
   ]
  },
  {
   "cell_type": "markdown",
   "id": "c0e6a29a",
   "metadata": {},
   "source": [
    "## Video Bach did well in blog and on home (adding in blog was good)"
   ]
  },
  {
   "cell_type": "code",
   "execution_count": 8,
   "id": "4eae1d95",
   "metadata": {
    "scrolled": true
   },
   "outputs": [
    {
     "data": {
      "text/html": [
       "<div>\n",
       "<style scoped>\n",
       "    .dataframe tbody tr th:only-of-type {\n",
       "        vertical-align: middle;\n",
       "    }\n",
       "\n",
       "    .dataframe tbody tr th {\n",
       "        vertical-align: top;\n",
       "    }\n",
       "\n",
       "    .dataframe thead th {\n",
       "        text-align: right;\n",
       "    }\n",
       "</style>\n",
       "<table border=\"1\" class=\"dataframe\">\n",
       "  <thead>\n",
       "    <tr style=\"text-align: right;\">\n",
       "      <th></th>\n",
       "      <th></th>\n",
       "      <th>user_id_nunique</th>\n",
       "    </tr>\n",
       "    <tr>\n",
       "      <th>feature_nice_name</th>\n",
       "      <th>event_type</th>\n",
       "      <th></th>\n",
       "    </tr>\n",
       "  </thead>\n",
       "  <tbody>\n",
       "    <tr>\n",
       "      <th>Media Player: objectiv-in-2-minutes located at Root Location: blog =&gt; Content: post-meet-objectiv-open-source-product-analytics-designed-for-data-sc</th>\n",
       "      <th>MediaStartEvent</th>\n",
       "      <td>74</td>\n",
       "    </tr>\n",
       "    <tr>\n",
       "      <th>Media Player: 2-minute-video located at Root Location: home</th>\n",
       "      <th>MediaStartEvent</th>\n",
       "      <td>36</td>\n",
       "    </tr>\n",
       "    <tr>\n",
       "      <th>Link: logo located at Root Location: blog =&gt; Navigation: navbar-top</th>\n",
       "      <th>PressEvent</th>\n",
       "      <td>24</td>\n",
       "    </tr>\n",
       "    <tr>\n",
       "      <th>Pressable: hamburger located at Root Location: blog =&gt; Navigation: navbar-top</th>\n",
       "      <th>PressEvent</th>\n",
       "      <td>21</td>\n",
       "    </tr>\n",
       "    <tr>\n",
       "      <th>Link: about-us located at Root Location: home =&gt; Navigation: navbar-top</th>\n",
       "      <th>PressEvent</th>\n",
       "      <td>20</td>\n",
       "    </tr>\n",
       "  </tbody>\n",
       "</table>\n",
       "</div>"
      ],
      "text/plain": [
       "                                                                    user_id_nunique\n",
       "feature_nice_name                                  event_type                      \n",
       "Media Player: objectiv-in-2-minutes located at ... MediaStartEvent               74\n",
       "Media Player: 2-minute-video located at Root Lo... MediaStartEvent               36\n",
       "Link: logo located at Root Location: blog => Na... PressEvent                    24\n",
       "Pressable: hamburger located at Root Location: ... PressEvent                    21\n",
       "Link: about-us located at Root Location: home =... PressEvent                    20"
      ]
     },
     "execution_count": 8,
     "metadata": {},
     "output_type": "execute_result"
    }
   ],
   "source": [
    "# select PressEvent and MediaStart event, to focus on user actions\n",
    "users_feature = of[(of.event_type == 'PressEvent') |\n",
    "                   (of.event_type == 'MediaStartEvent')]\n",
    "\n",
    "# users by feature\n",
    "users_feature = users_feature.groupby(['feature_nice_name', 'event_type']).agg({'user_id':'nunique'})\n",
    "users_feature.sort_values('user_id_nunique', ascending=False).head()"
   ]
  },
  {
   "cell_type": "markdown",
   "id": "2fe63e1a",
   "metadata": {},
   "source": [
    "## Docs: Modeling, Tracking, Quickstart even"
   ]
  },
  {
   "cell_type": "code",
   "execution_count": 9,
   "id": "4faecce7",
   "metadata": {},
   "outputs": [
    {
     "data": {
      "text/html": [
       "<div>\n",
       "<style scoped>\n",
       "    .dataframe tbody tr th:only-of-type {\n",
       "        vertical-align: middle;\n",
       "    }\n",
       "\n",
       "    .dataframe tbody tr th {\n",
       "        vertical-align: top;\n",
       "    }\n",
       "\n",
       "    .dataframe thead th {\n",
       "        text-align: right;\n",
       "    }\n",
       "</style>\n",
       "<table border=\"1\" class=\"dataframe\">\n",
       "  <thead>\n",
       "    <tr style=\"text-align: right;\">\n",
       "      <th></th>\n",
       "      <th></th>\n",
       "      <th>user_id_nunique</th>\n",
       "    </tr>\n",
       "    <tr>\n",
       "      <th>feature_nice_name</th>\n",
       "      <th>event_type</th>\n",
       "      <th></th>\n",
       "    </tr>\n",
       "  </thead>\n",
       "  <tbody>\n",
       "    <tr>\n",
       "      <th>Media Player: objectiv-in-2-minutes located at Root Location: blog =&gt; Content: post-meet-objectiv-open-source-product-analytics-designed-for-data-sc</th>\n",
       "      <th>MediaStartEvent</th>\n",
       "      <td>74</td>\n",
       "    </tr>\n",
       "    <tr>\n",
       "      <th>Media Player: 2-minute-video located at Root Location: home</th>\n",
       "      <th>MediaStartEvent</th>\n",
       "      <td>36</td>\n",
       "    </tr>\n",
       "    <tr>\n",
       "      <th>Link: logo located at Root Location: blog =&gt; Navigation: navbar-top</th>\n",
       "      <th>PressEvent</th>\n",
       "      <td>24</td>\n",
       "    </tr>\n",
       "    <tr>\n",
       "      <th>Pressable: hamburger located at Root Location: blog =&gt; Navigation: navbar-top</th>\n",
       "      <th>PressEvent</th>\n",
       "      <td>21</td>\n",
       "    </tr>\n",
       "    <tr>\n",
       "      <th>Link: about-us located at Root Location: home =&gt; Navigation: navbar-top</th>\n",
       "      <th>PressEvent</th>\n",
       "      <td>20</td>\n",
       "    </tr>\n",
       "    <tr>\n",
       "      <th>Pressable: hamburger located at Root Location: home =&gt; Navigation: navbar-top</th>\n",
       "      <th>PressEvent</th>\n",
       "      <td>18</td>\n",
       "    </tr>\n",
       "    <tr>\n",
       "      <th>Link: docs located at Root Location: home =&gt; Navigation: navbar-top</th>\n",
       "      <th>PressEvent</th>\n",
       "      <td>13</td>\n",
       "    </tr>\n",
       "    <tr>\n",
       "      <th>Link: Modeling located at Root Location: docs =&gt; Navigation: navbar-top</th>\n",
       "      <th>PressEvent</th>\n",
       "      <td>12</td>\n",
       "    </tr>\n",
       "    <tr>\n",
       "      <th>Link: quickstart-guide located at Root Location: blog =&gt; Content: post-meet-objectiv-open-source-product-analytics-designed-for-data-sc =&gt; Content: blog-post-try-objectiv</th>\n",
       "      <th>PressEvent</th>\n",
       "      <td>11</td>\n",
       "    </tr>\n",
       "    <tr>\n",
       "      <th>Link: Tracking located at Root Location: docs =&gt; Navigation: navbar-top</th>\n",
       "      <th>PressEvent</th>\n",
       "      <td>11</td>\n",
       "    </tr>\n",
       "  </tbody>\n",
       "</table>\n",
       "</div>"
      ],
      "text/plain": [
       "                                                                    user_id_nunique\n",
       "feature_nice_name                                  event_type                      \n",
       "Media Player: objectiv-in-2-minutes located at ... MediaStartEvent               74\n",
       "Media Player: 2-minute-video located at Root Lo... MediaStartEvent               36\n",
       "Link: logo located at Root Location: blog => Na... PressEvent                    24\n",
       "Pressable: hamburger located at Root Location: ... PressEvent                    21\n",
       "Link: about-us located at Root Location: home =... PressEvent                    20\n",
       "Pressable: hamburger located at Root Location: ... PressEvent                    18\n",
       "Link: docs located at Root Location: home => Na... PressEvent                    13\n",
       "Link: Modeling located at Root Location: docs =... PressEvent                    12\n",
       "Link: quickstart-guide located at Root Location... PressEvent                    11\n",
       "Link: Tracking located at Root Location: docs =... PressEvent                    11"
      ]
     },
     "execution_count": 9,
     "metadata": {},
     "output_type": "execute_result"
    }
   ],
   "source": [
    "# users by feature\n",
    "users_feature.sort_values('user_id_nunique', ascending=False).head(10)"
   ]
  },
  {
   "cell_type": "markdown",
   "id": "51beca54",
   "metadata": {},
   "source": [
    "## GitHub links small numbers, on blog & home did better than top nav"
   ]
  },
  {
   "cell_type": "code",
   "execution_count": 10,
   "id": "933d61a3",
   "metadata": {},
   "outputs": [
    {
     "data": {
      "text/html": [
       "<div>\n",
       "<style scoped>\n",
       "    .dataframe tbody tr th:only-of-type {\n",
       "        vertical-align: middle;\n",
       "    }\n",
       "\n",
       "    .dataframe tbody tr th {\n",
       "        vertical-align: top;\n",
       "    }\n",
       "\n",
       "    .dataframe thead th {\n",
       "        text-align: right;\n",
       "    }\n",
       "</style>\n",
       "<table border=\"1\" class=\"dataframe\">\n",
       "  <thead>\n",
       "    <tr style=\"text-align: right;\">\n",
       "      <th></th>\n",
       "      <th>user_id_nunique</th>\n",
       "    </tr>\n",
       "    <tr>\n",
       "      <th>feature_nice_name</th>\n",
       "      <th></th>\n",
       "    </tr>\n",
       "  </thead>\n",
       "  <tbody>\n",
       "    <tr>\n",
       "      <th>Link: objectiv-on-github located at Root Location: blog =&gt; Content: post-meet-objectiv-open-source-product-analytics-designed-for-data-sc =&gt; Content: blog-post-try-objectiv</th>\n",
       "      <td>9</td>\n",
       "    </tr>\n",
       "    <tr>\n",
       "      <th>Link: objectiv-on-github located at Root Location: home =&gt; Content: the-stack</th>\n",
       "      <td>9</td>\n",
       "    </tr>\n",
       "    <tr>\n",
       "      <th>Link: github located at Root Location: home =&gt; Navigation: navbar-top</th>\n",
       "      <td>3</td>\n",
       "    </tr>\n",
       "    <tr>\n",
       "      <th>Link: github located at Root Location: blog =&gt; Navigation: navbar-top =&gt; Overlay: hamburger-menu</th>\n",
       "      <td>2</td>\n",
       "    </tr>\n",
       "    <tr>\n",
       "      <th>Link: github located at Root Location: home =&gt; Navigation: navbar-top =&gt; Overlay: hamburger-menu</th>\n",
       "      <td>1</td>\n",
       "    </tr>\n",
       "  </tbody>\n",
       "</table>\n",
       "</div>"
      ],
      "text/plain": [
       "                                                    user_id_nunique\n",
       "feature_nice_name                                                  \n",
       "Link: objectiv-on-github located at Root Locati...                9\n",
       "Link: objectiv-on-github located at Root Locati...                9\n",
       "Link: github located at Root Location: home => ...                3\n",
       "Link: github located at Root Location: blog => ...                2\n",
       "Link: github located at Root Location: home => ...                1"
      ]
     },
     "execution_count": 10,
     "metadata": {},
     "output_type": "execute_result"
    }
   ],
   "source": [
    "# select github LinkContext only\n",
    "of['link_id'] = of.location_stack.ls.get_from_context_with_type_series(type='LinkContext', key='id')\n",
    "github_users = of[(of.link_id == 'objectiv-on-github')|\n",
    "                  (of.link_id == 'github')]\n",
    "\n",
    "# github users by feature\n",
    "github_users = github_users.groupby(['feature_nice_name']).agg({'user_id':'nunique'})\n",
    "github_users.sort_values('user_id_nunique', ascending=False).head()"
   ]
  },
  {
   "cell_type": "markdown",
   "id": "dcf82009",
   "metadata": {},
   "source": [
    "## What did users do most on home?"
   ]
  },
  {
   "cell_type": "code",
   "execution_count": 11,
   "id": "a757be5a",
   "metadata": {},
   "outputs": [
    {
     "data": {
      "text/html": [
       "<div>\n",
       "<style scoped>\n",
       "    .dataframe tbody tr th:only-of-type {\n",
       "        vertical-align: middle;\n",
       "    }\n",
       "\n",
       "    .dataframe tbody tr th {\n",
       "        vertical-align: top;\n",
       "    }\n",
       "\n",
       "    .dataframe thead th {\n",
       "        text-align: right;\n",
       "    }\n",
       "</style>\n",
       "<table border=\"1\" class=\"dataframe\">\n",
       "  <thead>\n",
       "    <tr style=\"text-align: right;\">\n",
       "      <th></th>\n",
       "      <th>user_id_nunique</th>\n",
       "    </tr>\n",
       "    <tr>\n",
       "      <th>feature_nice_name</th>\n",
       "      <th></th>\n",
       "    </tr>\n",
       "  </thead>\n",
       "  <tbody>\n",
       "    <tr>\n",
       "      <th>Media Player: 2-minute-video located at Root Location: home</th>\n",
       "      <td>36</td>\n",
       "    </tr>\n",
       "    <tr>\n",
       "      <th>Link: about-us located at Root Location: home =&gt; Navigation: navbar-top</th>\n",
       "      <td>20</td>\n",
       "    </tr>\n",
       "    <tr>\n",
       "      <th>Pressable: hamburger located at Root Location: home =&gt; Navigation: navbar-top</th>\n",
       "      <td>18</td>\n",
       "    </tr>\n",
       "    <tr>\n",
       "      <th>Link: docs located at Root Location: home =&gt; Navigation: navbar-top</th>\n",
       "      <td>13</td>\n",
       "    </tr>\n",
       "    <tr>\n",
       "      <th>Link: blog located at Root Location: home =&gt; Navigation: navbar-top</th>\n",
       "      <td>10</td>\n",
       "    </tr>\n",
       "    <tr>\n",
       "      <th>Link: objectiv-on-github located at Root Location: home =&gt; Content: the-stack</th>\n",
       "      <td>9</td>\n",
       "    </tr>\n",
       "    <tr>\n",
       "      <th>Link: about-us located at Root Location: home =&gt; Navigation: navbar-top =&gt; Overlay: hamburger-menu</th>\n",
       "      <td>9</td>\n",
       "    </tr>\n",
       "    <tr>\n",
       "      <th>Link: logo located at Root Location: home =&gt; Navigation: navbar-top</th>\n",
       "      <td>8</td>\n",
       "    </tr>\n",
       "    <tr>\n",
       "      <th>Link: faq located at Root Location: home =&gt; Navigation: navbar-top</th>\n",
       "      <td>7</td>\n",
       "    </tr>\n",
       "    <tr>\n",
       "      <th>Link: jobs located at Root Location: home =&gt; Navigation: navbar-top</th>\n",
       "      <td>4</td>\n",
       "    </tr>\n",
       "  </tbody>\n",
       "</table>\n",
       "</div>"
      ],
      "text/plain": [
       "                                                    user_id_nunique\n",
       "feature_nice_name                                                  \n",
       "Media Player: 2-minute-video located at Root Lo...               36\n",
       "Link: about-us located at Root Location: home =...               20\n",
       "Pressable: hamburger located at Root Location: ...               18\n",
       "Link: docs located at Root Location: home => Na...               13\n",
       "Link: blog located at Root Location: home => Na...               10\n",
       "Link: objectiv-on-github located at Root Locati...                9\n",
       "Link: about-us located at Root Location: home =...                9\n",
       "Link: logo located at Root Location: home => Na...                8\n",
       "Link: faq located at Root Location: home => Nav...                7\n",
       "Link: jobs located at Root Location: home => Na...                4"
      ]
     },
     "execution_count": 11,
     "metadata": {},
     "output_type": "execute_result"
    }
   ],
   "source": [
    "# select homepage RootLocation only\n",
    "home_users = of[(of.root_location == 'home')]\n",
    "\n",
    "# select PressEvent and MediaStart event, to focus on user actions\n",
    "home_users = home_users[(home_users.event_type == 'PressEvent') |\n",
    "                   (home_users.event_type == 'MediaStartEvent')]\n",
    "\n",
    "# home users by feature\n",
    "home_users = home_users.groupby(['feature_nice_name']).agg({'user_id':'nunique'})\n",
    "home_users.sort_values('user_id_nunique', ascending=False).head(10)"
   ]
  }
 ],
 "metadata": {
  "kernelspec": {
   "display_name": "Python 3 (ipykernel)",
   "language": "python",
   "name": "python3"
  },
  "language_info": {
   "codemirror_mode": {
    "name": "ipython",
    "version": 3
   },
   "file_extension": ".py",
   "mimetype": "text/x-python",
   "name": "python",
   "nbconvert_exporter": "python",
   "pygments_lexer": "ipython3",
   "version": "3.9.10"
  }
 },
 "nbformat": 4,
 "nbformat_minor": 5
}
