{
 "cells": [
  {
   "cell_type": "code",
   "execution_count": null,
   "id": "e97ff289",
   "metadata": {},
   "outputs": [],
   "source": [
    "from bach_open_taxonomy import ObjectivFrame"
   ]
  },
  {
   "cell_type": "code",
   "execution_count": null,
   "id": "881322d3",
   "metadata": {},
   "outputs": [],
   "source": [
    "time_aggregation = 'YYYY-MM-DD'"
   ]
  },
  {
   "cell_type": "code",
   "execution_count": null,
   "id": "d582b77f",
   "metadata": {},
   "outputs": [],
   "source": [
    "df = ObjectivFrame.from_objectiv_data(time_aggregation=time_aggregation, start_date='2021-11-16')"
   ]
  },
  {
   "cell_type": "code",
   "execution_count": null,
   "id": "271b1f44",
   "metadata": {},
   "outputs": [],
   "source": [
    "df.head()"
   ]
  },
  {
   "cell_type": "markdown",
   "id": "068246c6",
   "metadata": {},
   "source": [
    "# model hub structure:\n",
    "* `map` functions: adds a column, same number of rows as df. They can be added to the df as they have:\n",
    "  * same base node. *or*,\n",
    "  * same index\n",
    "    * future: always same index, so you can also add it to df after df is materialized\n",
    "* `filter`: function, boolean series with same index can be used to filter the df; results in less rows\n",
    "* `aggregate` functions: returns aggregated data; different index than original df. also takes a `filter` argument.\n",
    "  * future: functions from `aggregate` can also be used as `map` function; so it adds a column to df with results of the `aggregate` model.\n",
    "  \n",
    "  "
   ]
  },
  {
   "cell_type": "markdown",
   "id": "2d72df81",
   "metadata": {},
   "source": [
    "Just 19 cells"
   ]
  },
  {
   "cell_type": "markdown",
   "id": "c34a8893",
   "metadata": {},
   "source": [
    "## map"
   ]
  },
  {
   "cell_type": "code",
   "execution_count": null,
   "id": "99d9c196",
   "metadata": {},
   "outputs": [],
   "source": [
    "df.model_hub.map.is_first_session().head()"
   ]
  },
  {
   "cell_type": "code",
   "execution_count": null,
   "id": "5e5fc435",
   "metadata": {},
   "outputs": [],
   "source": [
    "df['ifs'] = df.model_hub.map.is_first_session()\n",
    "df.head()"
   ]
  },
  {
   "cell_type": "code",
   "execution_count": null,
   "id": "3fcc2951",
   "metadata": {},
   "outputs": [],
   "source": [
    "new_users = df.model_hub.map.is_new_user()\n",
    "new_users.head()"
   ]
  },
  {
   "cell_type": "code",
   "execution_count": null,
   "id": "f13f37d3",
   "metadata": {},
   "outputs": [],
   "source": [
    "df.add_conversion_event(location_stack=df.location_stack.json[{'id': 'page-about', '_type': 'SectionContext'}:],\n",
    "                        event_type='ClickEvent',\n",
    "                        name='about_clicks')"
   ]
  },
  {
   "cell_type": "code",
   "execution_count": null,
   "id": "ffb616d7",
   "metadata": {},
   "outputs": [],
   "source": [
    "df.mh.map.conversion_count('about_clicks').head()"
   ]
  },
  {
   "cell_type": "markdown",
   "id": "d139247b",
   "metadata": {},
   "source": [
    "## aggregate"
   ]
  },
  {
   "cell_type": "code",
   "execution_count": null,
   "id": "b646c505",
   "metadata": {},
   "outputs": [],
   "source": [
    "df.model_hub.aggregate.unique_users().head()"
   ]
  },
  {
   "cell_type": "code",
   "execution_count": null,
   "id": "bd989bdd",
   "metadata": {},
   "outputs": [],
   "source": [
    "df.model_hub.aggregate.unique_users(filter=new_users).head()"
   ]
  },
  {
   "cell_type": "code",
   "execution_count": null,
   "id": "579a6a4c",
   "metadata": {},
   "outputs": [],
   "source": [
    "# divide with different base nodes\n",
    "ratio = df.model_hub.aggregate.unique_users(filter=new_users) / df.model_hub.aggregate.unique_users()\n",
    "ratio.head()"
   ]
  },
  {
   "cell_type": "markdown",
   "id": "c2d1ce92",
   "metadata": {},
   "source": [
    "## filter"
   ]
  },
  {
   "cell_type": "code",
   "execution_count": null,
   "id": "3fec4e50",
   "metadata": {},
   "outputs": [],
   "source": [
    "df.moment.count().head()"
   ]
  },
  {
   "cell_type": "code",
   "execution_count": null,
   "id": "b0dbb27a",
   "metadata": {
    "scrolled": true
   },
   "outputs": [],
   "source": [
    "new_df = df.mh.filter(df.model_hub.map.is_new_user())"
   ]
  },
  {
   "cell_type": "code",
   "execution_count": null,
   "id": "4c575991",
   "metadata": {},
   "outputs": [],
   "source": [
    "new_df.moment.count().head()"
   ]
  },
  {
   "cell_type": "code",
   "execution_count": null,
   "id": "2c709dcf",
   "metadata": {},
   "outputs": [],
   "source": [
    "df.model_hub.filter(new_users).model_hub.aggregate.unique_users().head()"
   ]
  },
  {
   "cell_type": "markdown",
   "id": "4f698048",
   "metadata": {},
   "source": [
    "## stack"
   ]
  },
  {
   "cell_type": "code",
   "execution_count": null,
   "id": "385b5b70",
   "metadata": {},
   "outputs": [],
   "source": [
    "df.mh.agg.unique_users(filter=df.mh.map.is_conversion_event('about_clicks')).to_pandas()"
   ]
  },
  {
   "cell_type": "code",
   "execution_count": null,
   "id": "821f40ac",
   "metadata": {},
   "outputs": [],
   "source": [
    "df.mh.agg.unique_users(filter=df.mh.map.conversion_count(name='about_clicks')==1).to_pandas()"
   ]
  },
  {
   "cell_type": "code",
   "execution_count": null,
   "id": "6c863b85",
   "metadata": {},
   "outputs": [],
   "source": [
    "df.mh.agg.unique_users(filter=df.mh.map.conversion_count(name='about_clicks')==2).to_pandas()"
   ]
  },
  {
   "cell_type": "code",
   "execution_count": null,
   "id": "8cae485f",
   "metadata": {},
   "outputs": [],
   "source": [
    "twice_converted = df.mh.agg.unique_users(filter=df.mh.map.conversion_count(name='about_clicks')==2) / df.mh.agg.unique_users()\n",
    "twice_converted.head()"
   ]
  },
  {
   "cell_type": "code",
   "execution_count": null,
   "id": "7d432477",
   "metadata": {},
   "outputs": [],
   "source": [
    "# stackin': unique new users that converted three times in a session\n",
    "df.mh.filter(df.mh.map.is_new_user(time_aggregation = 'YYYY-MM-DD'))\\\n",
    "  .mh.filter(df.mh.map.conversion_count(name='about_clicks')==3)\\\n",
    "  .mh.agg.unique_users()\\\n",
    "  .head()"
   ]
  },
  {
   "cell_type": "code",
   "execution_count": null,
   "id": "3b10de16",
   "metadata": {},
   "outputs": [],
   "source": [
    "# stackin' cont'd: filter last two hits before converting\n",
    "df.mh.map.pre_conversion_hit_number(name='about_clicks').head()"
   ]
  },
  {
   "cell_type": "code",
   "execution_count": null,
   "id": "4516340f",
   "metadata": {},
   "outputs": [],
   "source": [
    "df.mh.filter(df.mh.map.pre_conversion_hit_number(name='about_clicks')<5).head()"
   ]
  }
 ],
 "metadata": {
  "kernelspec": {
   "display_name": "Python 3 (ipykernel)",
   "language": "python",
   "name": "python3"
  },
  "language_info": {
   "codemirror_mode": {
    "name": "ipython",
    "version": 3
   },
   "file_extension": ".py",
   "mimetype": "text/x-python",
   "name": "python",
   "nbconvert_exporter": "python",
   "pygments_lexer": "ipython3",
   "version": "3.9.4"
  }
 },
 "nbformat": 4,
 "nbformat_minor": 5
}
