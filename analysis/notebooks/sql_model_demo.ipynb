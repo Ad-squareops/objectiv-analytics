{
 "cells": [
  {
   "cell_type": "code",
   "execution_count": null,
   "metadata": {},
   "outputs": [],
   "source": [
    "import sys\n",
    "sys.path.extend([\n",
    "    '../../bach',\n",
    "    '../'\n",
    "])\n",
    "\n",
    "from sql_models.graph_operations import get_node\n",
    "from sql_models.model import CustomSqlModel, Materialization\n",
    "from sql_models.sql_generator import to_sql\n",
    "from sql_models.cli_util import print_graph_info\n",
    "\n",
    "from objectiv_bach.util import duplo_basic_features\n",
    "\n",
    "import sqlalchemy"
   ]
  },
  {
   "cell_type": "code",
   "execution_count": null,
   "metadata": {
    "pycharm": {
     "name": "#%%%\n"
    }
   },
   "outputs": [],
   "source": [
    "engine = sqlalchemy.create_engine('postgresql://objectiv:@localhost:5432/objectiv')\n",
    "def run_query(sql):\n",
    "    with engine.connect() as conn:\n",
    "        result = conn.execute(sql)\n",
    "        return list(result)"
   ]
  },
  {
   "cell_type": "code",
   "execution_count": null,
   "metadata": {},
   "outputs": [],
   "source": [
    "basic_features = duplo_basic_features()\n",
    "# Show graph\n",
    "print_graph_info(basic_features)"
   ]
  },
  {
   "cell_type": "code",
   "execution_count": null,
   "metadata": {
    "pycharm": {
     "name": "#%%\n"
    }
   },
   "outputs": [],
   "source": [
    "#print(to_sql(basic_features)[:100])\n",
    "print(to_sql(basic_features))"
   ]
  },
  {
   "cell_type": "code",
   "execution_count": null,
   "metadata": {
    "pycharm": {
     "name": "#%%\n"
    }
   },
   "outputs": [],
   "source": [
    "rows = run_query(to_sql(basic_features))\n",
    "print(len(rows))"
   ]
  },
  {
   "cell_type": "code",
   "execution_count": null,
   "metadata": {
    "pycharm": {
     "name": "#%%\n"
    }
   },
   "outputs": [],
   "source": [
    "sub_graph = get_node(basic_features, ('feature_table',))\n",
    "print_graph_info(sub_graph)\n",
    "print('\\n\\n')\n",
    "print(to_sql(sub_graph))\n"
   ]
  },
  {
   "cell_type": "code",
   "execution_count": null,
   "metadata": {
    "pycharm": {
     "name": "#%%\n"
    }
   },
   "outputs": [],
   "source": [
    "custom_model_builder = CustomSqlModel(\n",
    "    sql='''\n",
    "    select *\n",
    "    from {{basic}}\n",
    "    limit {limit}\n",
    "    '''\n",
    ")\n",
    "custom_model = custom_model_builder(limit=5, basic=basic_features)\n",
    "print_graph_info(custom_model)\n",
    "rows = run_query(to_sql(custom_model))\n",
    "print(len(rows))"
   ]
  },
  {
   "cell_type": "code",
   "execution_count": null,
   "metadata": {
    "pycharm": {
     "name": "#%%\n"
    }
   },
   "outputs": [],
   "source": [
    "modified_graph1 = custom_model.set(\n",
    "    reference_path=('basic', 'sessionized_data'),\n",
    "    session_gap_seconds=5\n",
    ")\n",
    "modified_graph2 = custom_model.set(\n",
    "    reference_path=(),\n",
    "    limit=10\n",
    ")\n"
   ]
  },
  {
   "cell_type": "code",
   "execution_count": null,
   "metadata": {
    "pycharm": {
     "name": "#%%\n"
    }
   },
   "outputs": [],
   "source": [
    "print_graph_info(modified_graph1)"
   ]
  },
  {
   "cell_type": "code",
   "execution_count": null,
   "metadata": {
    "pycharm": {
     "name": "#%%\n"
    }
   },
   "outputs": [],
   "source": [
    "print_graph_info(modified_graph2)"
   ]
  },
  {
   "cell_type": "code",
   "execution_count": null,
   "metadata": {
    "pycharm": {
     "name": "#%%\n"
    }
   },
   "outputs": [],
   "source": [
    "modified_graph_combined = modified_graph1\\\n",
    ".set(\n",
    "    reference_path=(),\n",
    "    limit=1337\n",
    ").set_materialization(\n",
    "    reference_path=('basic', 'sessionized_data'),\n",
    "    materialization=Materialization.VIEW\n",
    ")\n",
    "\n",
    "# note: Materialization.VIEW does not yet have any effect"
   ]
  },
  {
   "cell_type": "code",
   "execution_count": null,
   "metadata": {
    "pycharm": {
     "name": "#%%\n"
    }
   },
   "outputs": [],
   "source": [
    "print_graph_info(modified_graph_combined)\n",
    "\n"
   ]
  }
 ],
 "metadata": {
  "kernelspec": {
   "display_name": "Python 3",
   "language": "python",
   "name": "python3"
  },
  "language_info": {
   "codemirror_mode": {
    "name": "ipython",
    "version": 3
   },
   "file_extension": ".py",
   "mimetype": "text/x-python",
   "name": "python",
   "nbconvert_exporter": "python",
   "pygments_lexer": "ipython3",
   "version": "3.8.10"
  }
 },
 "nbformat": 4,
 "nbformat_minor": 1
}
