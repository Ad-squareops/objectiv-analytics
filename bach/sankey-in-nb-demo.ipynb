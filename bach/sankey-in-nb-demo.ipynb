{
 "cells": [
  {
   "cell_type": "code",
   "execution_count": null,
   "id": "6336aea6",
   "metadata": {},
   "outputs": [],
   "source": [
    "from bach import DataFrame\n",
    "import sqlalchemy\n",
    "import pandas as pd\n",
    "# from tests.functional.bach.test_data_and_utils import get_bt_with_json_data, get_bt_with_test_data, get_bt_with_food_data\n",
    "\n",
    "engine = sqlalchemy.create_engine('postgresql://@localhost:5432/postgres')\n"
   ]
  },
  {
   "cell_type": "code",
   "execution_count": null,
   "id": "8bb32986",
   "metadata": {},
   "outputs": [],
   "source": [
    "import sys\n",
    "# import Objectiv buh_tuh\n",
    "\n",
    "sys.path.extend([\n",
    "    '../analysis'\n",
    "])\n",
    "\n",
    "from objectiv_bach.util import duplo_basic_features"
   ]
  },
  {
   "cell_type": "code",
   "execution_count": null,
   "id": "979fc9ab",
   "metadata": {},
   "outputs": [],
   "source": [
    "# from bach.series.series_json import SeriesJsonb, SeriesJson"
   ]
  },
  {
   "cell_type": "code",
   "execution_count": null,
   "id": "f1ca75cf",
   "metadata": {},
   "outputs": [],
   "source": [
    "from bach.series.series_objectiv import FeatureFrame"
   ]
  },
  {
   "cell_type": "code",
   "execution_count": null,
   "id": "932fbbde",
   "metadata": {},
   "outputs": [],
   "source": [
    "from bach.series.series_objectiv import SeriesGlobalContexts, SeriesLocationStack\n",
    "from bach.types import _registry\n",
    "_registry.register_dtype_series(SeriesGlobalContexts, [], override_registered_types=True)\n",
    "_registry.register_dtype_series(SeriesLocationStack, [], override_registered_types=True)"
   ]
  },
  {
   "cell_type": "code",
   "execution_count": null,
   "id": "fc87432c",
   "metadata": {},
   "outputs": [],
   "source": [
    "basic_features = duplo_basic_features()\n",
    "full_df = DataFrame.from_model(engine=engine, model=basic_features, index=['event_id'])#[['global_contexts','location_stack']]"
   ]
  },
  {
   "cell_type": "code",
   "execution_count": null,
   "id": "38e28dbd",
   "metadata": {},
   "outputs": [],
   "source": [
    "full_df['global_contexts'] = full_df.global_contexts.astype('objectiv_global_context')\n",
    "full_df['location_stack'] = full_df.location_stack.astype('objectiv_location_stack')"
   ]
  },
  {
   "cell_type": "code",
   "execution_count": null,
   "id": "2849693e",
   "metadata": {},
   "outputs": [],
   "source": [
    "full_df=full_df[full_df.global_contexts.gc.application=='rod-web-demo']"
   ]
  },
  {
   "cell_type": "code",
   "execution_count": null,
   "id": "1894f57b",
   "metadata": {},
   "outputs": [],
   "source": [
    "feature_frame = FeatureFrame.from_data_frame(bt=full_df, location_stack_column='location_stack', event_column='event_type')"
   ]
  },
  {
   "cell_type": "code",
   "execution_count": null,
   "id": "a5574c00",
   "metadata": {},
   "outputs": [],
   "source": [
    "feature_frame['test_feature'] = feature_frame['location_stack'].json[1:]"
   ]
  },
  {
   "cell_type": "code",
   "execution_count": null,
   "id": "df10aea9",
   "metadata": {},
   "outputs": [],
   "source": [
    "# small data set\n",
    "feature_frame.count().head()"
   ]
  },
  {
   "cell_type": "code",
   "execution_count": null,
   "id": "784aa9db",
   "metadata": {},
   "outputs": [],
   "source": [
    "full_df_with_created_feature = feature_frame.write_to_full_frame()"
   ]
  },
  {
   "cell_type": "code",
   "execution_count": null,
   "id": "a8b4b76b",
   "metadata": {},
   "outputs": [],
   "source": [
    "full_df_with_created_feature.count().head()"
   ]
  },
  {
   "cell_type": "code",
   "execution_count": null,
   "id": "f328da16",
   "metadata": {},
   "outputs": [],
   "source": [
    "# new feature on entire dataset\n",
    "print(f'rows: {full_df_with_created_feature.count().head()[\"session_id_count\"]}')\n",
    "full_df_with_created_feature.head()"
   ]
  },
  {
   "cell_type": "markdown",
   "id": "43f33618",
   "metadata": {},
   "source": [
    "## do sankey plot only, no interactive graph"
   ]
  },
  {
   "cell_type": "code",
   "execution_count": null,
   "id": "f8333dba",
   "metadata": {},
   "outputs": [],
   "source": [
    "# prepare sankey numbers\n",
    "feature_frame.stack_flows_from_feature_df()"
   ]
  },
  {
   "cell_type": "code",
   "execution_count": null,
   "id": "e2055c3a",
   "metadata": {},
   "outputs": [],
   "source": [
    "feature_frame.display_sankey()"
   ]
  },
  {
   "cell_type": "markdown",
   "id": "0c897cb5",
   "metadata": {},
   "source": [
    "## run dash app in nb"
   ]
  },
  {
   "cell_type": "code",
   "execution_count": null,
   "id": "fd9c5c6c",
   "metadata": {},
   "outputs": [],
   "source": [
    "from jupyter_dash import JupyterDash as Dash"
   ]
  },
  {
   "cell_type": "code",
   "execution_count": null,
   "id": "6fe696da",
   "metadata": {},
   "outputs": [],
   "source": [
    "from sankey_dash import get_app"
   ]
  },
  {
   "cell_type": "code",
   "execution_count": null,
   "id": "cf48a13a",
   "metadata": {},
   "outputs": [],
   "source": [
    "app = get_app(Dash, feature_frame)"
   ]
  },
  {
   "cell_type": "code",
   "execution_count": null,
   "id": "ea11ef71",
   "metadata": {
    "scrolled": false
   },
   "outputs": [],
   "source": [
    "app.run_server(mode='inline', height = 1000, port=8053)"
   ]
  },
  {
   "cell_type": "code",
   "execution_count": null,
   "id": "ca727fee",
   "metadata": {},
   "outputs": [],
   "source": [
    "# create features in the sankey, see them here\n",
    "feature_frame.head()"
   ]
  }
 ],
 "metadata": {
  "kernelspec": {
   "display_name": "Python 3 (ipykernel)",
   "language": "python",
   "name": "python3"
  },
  "language_info": {
   "codemirror_mode": {
    "name": "ipython",
    "version": 3
   },
   "file_extension": ".py",
   "mimetype": "text/x-python",
   "name": "python",
   "nbconvert_exporter": "python",
   "pygments_lexer": "ipython3",
   "version": "3.9.4"
  }
 },
 "nbformat": 4,
 "nbformat_minor": 5
}
