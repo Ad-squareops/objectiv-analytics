{
 "cells": [
  {
   "cell_type": "markdown",
   "id": "f983911b",
   "metadata": {},
   "source": [
    "This is one of the Objectiv example notebooks. For more examples visit the \n",
    "[example notebooks](https://objectiv.io/docs/modeling/example-notebooks/) section of our docs. The notebooks can run with the demo data set that comes with the our [quickstart](https://objectiv.io/docs/home/quickstart-guide/), but can be used to run on your own collected data as well.\n",
    "\n",
    "All example notebooks are also available in our [quickstart](https://objectiv.io/docs/home/quickstart-guide/). With the quickstart you can spin up a fully functional Objectiv demo pipeline in five minutes. This also allows you to run these notebooks and experiment with them on a demo data set."
   ]
  },
  {
   "cell_type": "markdown",
   "id": "7933eb60",
   "metadata": {},
   "source": [
    "In this example we will demo how the model hub provides a tool kit for modeling the importance of features\n",
    "on achieving a conversion goal."
   ]
  },
  {
   "cell_type": "markdown",
   "id": "daee4e63",
   "metadata": {},
   "source": [
    "### Import the required packages for this notebook\n",
    "The open model hub package can be installed with `pip install objectiv-modelhub` (this installs Bach as well).  \n",
    "If you are running this notebook from our quickstart, the model hub and Bach are already installed, so you don't have to install it separately."
   ]
  },
  {
   "cell_type": "code",
   "execution_count": null,
   "id": "08f492f8",
   "metadata": {},
   "outputs": [],
   "source": [
    "from modelhub import ModelHub\n",
    "from matplotlib import pyplot as plt"
   ]
  },
  {
   "cell_type": "markdown",
   "id": "7f833b52",
   "metadata": {},
   "source": [
    "At first we have to instantiate the Objectiv DataFrame object and the model hub."
   ]
  },
  {
   "cell_type": "code",
   "execution_count": null,
   "id": "7c6c189f",
   "metadata": {},
   "outputs": [],
   "source": [
    "# instantiate the model hub\n",
    "modelhub = ModelHub(time_aggregation='YYYY-MM-DD')\n",
    "# get the Bach DataFrame with Objectiv data\n",
    "df = modelhub.get_objectiv_dataframe(start_date='2022-02-15', end_date='2022-05-16')"
   ]
  },
  {
   "cell_type": "markdown",
   "id": "ec7919ec",
   "metadata": {},
   "source": [
    "The feature importance model from the open model hub creates a Bach data set that can be used for the model\n",
    "as well as the model that returns the results. The model includes tools to assess the accuracy of your\n",
    "model as well.\n",
    "\n",
    "First we have to define the conversion goal that we are predicting as well as the features that we want to\n",
    "use as predictors."
   ]
  },
  {
   "cell_type": "code",
   "execution_count": null,
   "id": "ac3768bb",
   "metadata": {},
   "outputs": [],
   "source": [
    "# define which events to use as conversion events\n",
    "modelhub.add_conversion_event(location_stack=df.location_stack.json[{'id': 'modeling', '_type': 'RootLocationContext'}:],\n",
    "                              event_type='PressEvent',\n",
    "                              name='use_modeling')"
   ]
  },
  {
   "cell_type": "code",
   "execution_count": null,
   "id": "236d8e3e",
   "metadata": {},
   "outputs": [],
   "source": [
    "df['root'] = df.location_stack.ls.get_from_context_with_type_series(type='RootLocationContext', key='id')"
   ]
  },
  {
   "cell_type": "markdown",
   "id": "f83e7206",
   "metadata": {},
   "source": [
    "In our example, the conversion goal is reaching the modeling section. We want to obtain the impact of\n",
    "pressing in individual sections (root location) on our website. We assume there is as causal relation\n",
    "between the number of clicks of a user per root location and conversion. For demonstration purposes these\n",
    "are appropriate features because of the limited amount of root locations in this data set.\n",
    "Make sure to think of this assumption when using this model on your own data. Therefore we estimate\n",
    "conversion by the number of presses in each root location on our site per user using a logistic regression\n",
    "model. The coefficients of this regression can be interpreted as the contribution to conversion (direction and\n",
    "magnitude).\n",
    "\n",
    "Now the data set and untrained model can be instantiated."
   ]
  },
  {
   "cell_type": "code",
   "execution_count": null,
   "id": "e08485d6",
   "metadata": {},
   "outputs": [],
   "source": [
    "X_temp, y_temp, model = modelhub.agg.feature_importance(\n",
    "    data=df[df.event_type=='PressEvent'],\n",
    "    name='use_modeling',\n",
    "    feature_column='root'\n",
    ")"
   ]
  },
  {
   "cell_type": "markdown",
   "id": "97af36d2",
   "metadata": {},
   "source": [
    "This let's you adjust the data set further or use the model as is. `y_temp` is a BooleanSeries that\n",
    "indicates conversion per user. `X_temp` is a DataFrame with the number\n",
    "of presses per user_id. For users that did converted in the selected data, only usage from _before_\n",
    "reaching conversion is counted. The `model` is the\n",
    "toolkit that can be used to assess the feature importance on our conversion goal.\n",
    "In this example we first review the data set with Bach before using it for the actual model training (hence\n",
    "the `_temp` suffix). We create a single DataFrame that has all the features, the target and a sum of all\n",
    "features."
   ]
  },
  {
   "cell_type": "code",
   "execution_count": null,
   "id": "3cd9af71",
   "metadata": {},
   "outputs": [],
   "source": [
    "y_temp"
   ]
  },
  {
   "cell_type": "code",
   "execution_count": null,
   "id": "e1eb9035",
   "metadata": {},
   "outputs": [],
   "source": [
    "y_temp.head()"
   ]
  },
  {
   "cell_type": "code",
   "execution_count": null,
   "id": "89a98eda",
   "metadata": {},
   "outputs": [],
   "source": [
    "X_temp"
   ]
  },
  {
   "cell_type": "code",
   "execution_count": null,
   "id": "e4c88e2d",
   "metadata": {},
   "outputs": [],
   "source": [
    "X_temp.head()"
   ]
  },
  {
   "cell_type": "markdown",
   "id": "7580bbc6",
   "metadata": {},
   "source": [
    "In our example, we will go into detailed assessment of the model's accuracy, so we won't jumpt to the model results, but instead first look at our data set and prepare a proper data set for the model."
   ]
  },
  {
   "cell_type": "code",
   "execution_count": null,
   "id": "f4add891",
   "metadata": {},
   "outputs": [],
   "source": [
    "data_set_temp = X_temp.copy()\n",
    "# we save the columns that are in our data set, these will be used later.\n",
    "columns = X_temp.data_columns\n",
    "data_set_temp['is_converted'] = y_temp\n",
    "data_set_temp['total_press'] = modelhub.map.sum_feature_rows(X_temp)"
   ]
  },
  {
   "cell_type": "markdown",
   "id": "892c7955",
   "metadata": {},
   "source": [
    "### Reviewing the data set"
   ]
  },
  {
   "cell_type": "markdown",
   "id": "8a364490",
   "metadata": {},
   "source": [
    "For a logistic regression several assumptions, such as sample size, no influential outliers and linear\n",
    "relation between the features and the logit of the goal should be fulfilled. We will look at our data to\n",
    "get the best possible data set for our model."
   ]
  },
  {
   "cell_type": "code",
   "execution_count": null,
   "id": "7e505d25",
   "metadata": {},
   "outputs": [],
   "source": [
    "data_set_temp.describe().head()"
   ]
  },
  {
   "cell_type": "markdown",
   "id": "7e382af5",
   "metadata": {},
   "source": [
    "We have 543 samples in our data. The description of our data set learns us that the mean is quite low for\n",
    "most features and the standard deviation as well. This indicates that the feature usage is not distributed\n",
    "very well."
   ]
  },
  {
   "cell_type": "code",
   "execution_count": null,
   "id": "99d41954",
   "metadata": {},
   "outputs": [],
   "source": [
    "data_set_temp.is_converted.value_counts().head()"
   ]
  },
  {
   "cell_type": "code",
   "execution_count": null,
   "id": "032873b3",
   "metadata": {},
   "outputs": [],
   "source": [
    "(data_set_temp.is_converted.value_counts()/data_set_temp.is_converted.count()).head()"
   ]
  },
  {
   "cell_type": "markdown",
   "id": "0d1a07fc",
   "metadata": {},
   "source": [
    "The data set is not balanced in terms of users that did or did not reach conversion: 74 converted users (13\n",
    ".6%). While this is not necessarily a problem, it influences the metric we choose to look at for model\n",
    "performance. The model that we instantiated already accommodates for this.\n",
    "\n",
    "We can also plot histograms with Bach of the features so we can inspect the distributions more closely."
   ]
  },
  {
   "cell_type": "code",
   "execution_count": null,
   "id": "c9949439",
   "metadata": {
    "scrolled": false
   },
   "outputs": [],
   "source": [
    "figure, axis = plt.subplots(len(columns), 2, figsize=(15,30))\n",
    "\n",
    "for idx, name in enumerate(columns):\n",
    "    data_set_temp[data_set_temp.is_converted==True][[name]].plot.hist(bins=20, title='Converted', ax=axis[idx][0])\n",
    "    data_set_temp[data_set_temp.is_converted==False][[name]].plot.hist(bins=20, title='Not converted', ax=axis[idx][1])\n",
    "plt.tight_layout()"
   ]
  },
  {
   "cell_type": "markdown",
   "id": "2053a4a5",
   "metadata": {},
   "source": [
    "We see that some features are not useful at all ('join-slack' and 'privacy'), so we will remove them. Moreover\n",
    "we think that users that clicking only once in any of the root locations will not provide us with any\n",
    "explantory behavior for the goal.\n",
    "\n",
    "Those users might, for instance, be users that wanted to go to our modeling section, and this was the\n",
    "quickest way to get there with the results Google provided them. In that case, the intent of the user\n",
    "(something of which we can never be sure), was going to the modeling section. The features did not convince them.\n",
    "\n",
    "By filtering like this, it is more likely that the used features on our website did, or did not convince a\n",
    "user to check out the modeling section of our docs. This is exactly what we are after. An additional\n",
    "advantage is that the distribution of feature usage will most likely get more favorable after removing\n",
    "1-press-users."
   ]
  },
  {
   "cell_type": "code",
   "execution_count": null,
   "id": "488eead9",
   "metadata": {},
   "outputs": [],
   "source": [
    "data_set_temp = data_set_temp.drop(columns=['privacy','join-slack'])\n",
    "# we update the columns that are still in our data set.\n",
    "columns = [x for x in data_set_temp.data_columns if x in X_temp.data_columns]"
   ]
  },
  {
   "cell_type": "code",
   "execution_count": null,
   "id": "637fb4d4",
   "metadata": {},
   "outputs": [],
   "source": [
    "data_set_temp = data_set_temp[data_set_temp.total_press>1]"
   ]
  },
  {
   "cell_type": "markdown",
   "id": "411450d5",
   "metadata": {},
   "source": [
    "If we rerun the code above to review the data set we find that the data set is more balanced (16.5%\n",
    "converted), although it is a bit small now (406 samples). The distributions as shown by describing the data\n",
    "set and the histograms look indeed better for our model now. We will use this data set to create our X and\n",
    "y data set that we will use in the model."
   ]
  },
  {
   "cell_type": "code",
   "execution_count": null,
   "id": "0d560011",
   "metadata": {},
   "outputs": [],
   "source": [
    "data_set_temp.describe().head()"
   ]
  },
  {
   "cell_type": "code",
   "execution_count": null,
   "id": "b2a72e92",
   "metadata": {},
   "outputs": [],
   "source": [
    "data_set_temp.is_converted.value_counts().head()"
   ]
  },
  {
   "cell_type": "code",
   "execution_count": null,
   "id": "955a482e",
   "metadata": {},
   "outputs": [],
   "source": [
    "(data_set_temp.is_converted.value_counts()/data_set_temp.is_converted.count()).head()"
   ]
  },
  {
   "cell_type": "code",
   "execution_count": null,
   "id": "218150c8",
   "metadata": {
    "scrolled": false
   },
   "outputs": [],
   "source": [
    "figure, axis = plt.subplots(len(columns), 2, figsize=(15,30))\n",
    "\n",
    "for idx, name in enumerate(columns):\n",
    "    data_set_temp[data_set_temp.is_converted==True][[name]].plot.hist(bins=20, title='Converted', ax=axis[idx][0])\n",
    "    data_set_temp[data_set_temp.is_converted==False][[name]].plot.hist(bins=20, title='Not converted', ax=axis[idx][1])\n",
    "plt.tight_layout()"
   ]
  },
  {
   "cell_type": "code",
   "execution_count": null,
   "id": "d97ea37d",
   "metadata": {},
   "outputs": [],
   "source": [
    "X = data_set_temp[columns]\n",
    "y = data_set_temp.is_converted"
   ]
  },
  {
   "cell_type": "markdown",
   "id": "8b5936f0",
   "metadata": {},
   "source": [
    "### Train and evaluate the model"
   ]
  },
  {
   "cell_type": "markdown",
   "id": "4381230f",
   "metadata": {},
   "source": [
    "As mentioned above, the model is based on logistic regression. Logistic regression seems sensible as it is\n",
    "used for classification, but also has relatively easy to interpret coefficients for the features. The\n",
    "feature importance model uses the AUC to assess the performance. This is because we are more interested in\n",
    "the coefficients than the actual predicted labels, and also because this metric can handle imbalanced data\n",
    "sets. The feature importance model by default trains a logistic regression model three times on the entire\n",
    "data set split in three folds. This way we can not only calculate the AUC on one test after training the\n",
    "model. But also see whether the coefficients for the model are relatively stable when trained on different\n",
    "data. After fitting the model, the results (the average coefficients of the three models) as well as the\n",
    "performace of the three models can be retrieved with `model` methods."
   ]
  },
  {
   "cell_type": "code",
   "execution_count": null,
   "id": "04c8d733",
   "metadata": {},
   "outputs": [],
   "source": [
    "model.fit(X, y, seed=.4)"
   ]
  },
  {
   "cell_type": "code",
   "execution_count": null,
   "id": "d5b67bd5",
   "metadata": {},
   "outputs": [],
   "source": [
    "model.results()"
   ]
  },
  {
   "cell_type": "markdown",
   "id": "4191d818",
   "metadata": {},
   "source": [
    "The mean of the coefficients are returned together with the standard deviation. The lower the standard\n",
    "deviation, the more stable the coefficients in the various runs. Our results show that 'about' has most\n",
    "negative impact on conversion, while 'tracking', 'blog' and 'taxonomy' most positive."
   ]
  },
  {
   "cell_type": "code",
   "execution_count": null,
   "id": "49947877",
   "metadata": {},
   "outputs": [],
   "source": [
    "model.auc()"
   ]
  },
  {
   "cell_type": "markdown",
   "id": "978e9ca3",
   "metadata": {},
   "source": [
    "The average AUC of our models is 0.69. This is better than a baseline model (0.5 AUC). However, it also\n",
    "means that it is not a perfect model and therefore the chosen features don't fully explain the conversion.\n",
    "Among others, some things that might improve further models are a larger test set, other explanatory\n",
    "variables (i.e. more detailed locations instead of only root locations), more information on the users (i.e. user referrer as a proxy for user intent)."
   ]
  },
  {
   "cell_type": "code",
   "execution_count": null,
   "id": "f1d3059c",
   "metadata": {},
   "outputs": [],
   "source": [
    "model.results(full=True)"
   ]
  },
  {
   "cell_type": "markdown",
   "id": "5e37fe0a",
   "metadata": {},
   "source": [
    "This concludes the example of our feature importance model in the model hub.\n",
    "\n",
    "For an overview of all currently available models, check out the :ref:`models <models>`."
   ]
  }
 ],
 "metadata": {
  "kernelspec": {
   "display_name": "Python 3 (ipykernel)",
   "language": "python",
   "name": "python3"
  },
  "language_info": {
   "codemirror_mode": {
    "name": "ipython",
    "version": 3
   },
   "file_extension": ".py",
   "mimetype": "text/x-python",
   "name": "python",
   "nbconvert_exporter": "python",
   "pygments_lexer": "ipython3",
   "version": "3.9.4"
  }
 },
 "nbformat": 4,
 "nbformat_minor": 5
}
