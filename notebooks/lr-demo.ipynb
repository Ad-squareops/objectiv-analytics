{
 "cells": [
  {
   "cell_type": "code",
   "execution_count": null,
   "id": "08f492f8",
   "metadata": {},
   "outputs": [],
   "source": [
    "from modelhub import ModelHub"
   ]
  },
  {
   "cell_type": "code",
   "execution_count": null,
   "id": "7c6c189f",
   "metadata": {},
   "outputs": [],
   "source": [
    "# instantiate the model hub\n",
    "modelhub = ModelHub(time_aggregation='YYYY-MM-DD')\n",
    "# get the Bach DataFrame with Objectiv data\n",
    "df = modelhub.get_objectiv_dataframe(start_date='2022-02-01')"
   ]
  },
  {
   "cell_type": "code",
   "execution_count": null,
   "id": "ac3768bb",
   "metadata": {},
   "outputs": [],
   "source": [
    "# define which events to use as conversion events\n",
    "modelhub.add_conversion_event(location_stack=df.location_stack.json[{'id': 'objectiv-on-github', \n",
    "                                                                     '_type': 'LinkContext'}:].fillna(\n",
    "                                             df.location_stack.json[{'id': 'github', '_type': 'LinkContext'}:]),\n",
    "                              event_type='PressEvent',\n",
    "                              name='github_press')"
   ]
  },
  {
   "cell_type": "code",
   "execution_count": null,
   "id": "236d8e3e",
   "metadata": {},
   "outputs": [],
   "source": [
    "df['root'] = df.location_stack.ls.get_from_context_with_type_series(type='RootLocationContext', key='id')\n",
    "df['nice_name'] = df.location_stack.ls.nice_name"
   ]
  },
  {
   "cell_type": "markdown",
   "id": "7caa31e6",
   "metadata": {},
   "source": [
    "### Three levels to new models\n",
    "1. [Tools to help you prepare a data set for a model.](#1.-Prepare-the-data-set)\n",
    "2. [The model itself, that works with Bach DataFrames.](#2.-Run-a-logistic-regression-directly-on-Bach-data) This model can be tested against sklearn.\n",
    "3. [Classes and methods to run a full model](#3.-Run-a-full-model-on-Objectiv-data)\n",
    "  - A wrapper class around the model that has methods to get the desired output for business questions. Currently not a lot there, but can include a lot more like sampling etc.\n",
    "  - A method in the model hub that transforms the data _and_ fits a model (using the wrapper class) directly. Returns the data set the model used and the fitted model itself. This allows users to modify model parameters etc."
   ]
  },
  {
   "cell_type": "markdown",
   "id": "31f6275c",
   "metadata": {},
   "source": [
    "#### 1. Prepare the data set"
   ]
  },
  {
   "cell_type": "code",
   "execution_count": null,
   "id": "e08485d6",
   "metadata": {},
   "outputs": [],
   "source": [
    "X, y = modelhub.agg.create_feature_usage_data_set(\n",
    "    data=df[df.event_type=='PressEvent'],\n",
    "    name='github_press',\n",
    "    feature_column='root'\n",
    ")"
   ]
  },
  {
   "cell_type": "code",
   "execution_count": null,
   "id": "f946c8e5",
   "metadata": {},
   "outputs": [],
   "source": [
    "X.head()"
   ]
  },
  {
   "cell_type": "code",
   "execution_count": null,
   "id": "cb4c806d",
   "metadata": {},
   "outputs": [],
   "source": [
    "y.head()"
   ]
  },
  {
   "cell_type": "markdown",
   "id": "fdfc7cbc",
   "metadata": {},
   "source": [
    "#### 2. Run a logistic regression directly on Bach data\n",
    "Using any dataset with the right dimensions. In the example use the data set created above."
   ]
  },
  {
   "cell_type": "code",
   "execution_count": null,
   "id": "8500651f",
   "metadata": {},
   "outputs": [],
   "source": [
    "lr = modelhub.agg.LogisticRegression()"
   ]
  },
  {
   "cell_type": "code",
   "execution_count": null,
   "id": "b23f0b86",
   "metadata": {},
   "outputs": [],
   "source": [
    "lr.fit(X, y, sample_weight=range(471))"
   ]
  },
  {
   "cell_type": "code",
   "execution_count": null,
   "id": "57b5c952",
   "metadata": {},
   "outputs": [],
   "source": [
    "lr.fit(X, y)"
   ]
  },
  {
   "cell_type": "code",
   "execution_count": null,
   "id": "5e8fd678",
   "metadata": {},
   "outputs": [],
   "source": [
    "X"
   ]
  },
  {
   "cell_type": "code",
   "execution_count": null,
   "id": "1c2fe600",
   "metadata": {
    "scrolled": false
   },
   "outputs": [],
   "source": [
    "lr.decision_function(X)"
   ]
  },
  {
   "cell_type": "code",
   "execution_count": null,
   "id": "802bd737",
   "metadata": {},
   "outputs": [],
   "source": [
    "lr.decision_function(X, return_bach=True).head()"
   ]
  },
  {
   "cell_type": "code",
   "execution_count": null,
   "id": "ed29697a",
   "metadata": {},
   "outputs": [],
   "source": [
    "lr.coef_"
   ]
  },
  {
   "cell_type": "code",
   "execution_count": null,
   "id": "2ea64710",
   "metadata": {},
   "outputs": [],
   "source": [
    "lr.sparsify()"
   ]
  },
  {
   "cell_type": "code",
   "execution_count": null,
   "id": "79cbf165",
   "metadata": {},
   "outputs": [],
   "source": [
    "lr.coef_"
   ]
  },
  {
   "cell_type": "code",
   "execution_count": null,
   "id": "42815606",
   "metadata": {},
   "outputs": [],
   "source": [
    "lr.densify()"
   ]
  },
  {
   "cell_type": "code",
   "execution_count": null,
   "id": "8806d6b6",
   "metadata": {},
   "outputs": [],
   "source": [
    "lr.coef_"
   ]
  },
  {
   "cell_type": "code",
   "execution_count": null,
   "id": "20e3a5b5",
   "metadata": {},
   "outputs": [],
   "source": [
    "lr.get_params(deep=False)"
   ]
  },
  {
   "cell_type": "code",
   "execution_count": null,
   "id": "6e31c5ab",
   "metadata": {},
   "outputs": [],
   "source": [
    "lr.get_params(deep=True)"
   ]
  },
  {
   "cell_type": "code",
   "execution_count": null,
   "id": "f2fe6ec0",
   "metadata": {},
   "outputs": [],
   "source": [
    "lr.predict(X)"
   ]
  },
  {
   "cell_type": "code",
   "execution_count": null,
   "id": "a1499351",
   "metadata": {},
   "outputs": [],
   "source": [
    "lr.predict_log_proba(X).head()"
   ]
  },
  {
   "cell_type": "code",
   "execution_count": null,
   "id": "d71e21c7",
   "metadata": {
    "scrolled": false
   },
   "outputs": [],
   "source": [
    "lr.predict_proba(X, return_bach=False)"
   ]
  },
  {
   "cell_type": "code",
   "execution_count": null,
   "id": "17b7c9b9",
   "metadata": {},
   "outputs": [],
   "source": [
    "lr.predict_proba(X).head()"
   ]
  },
  {
   "cell_type": "code",
   "execution_count": null,
   "id": "8bec410e",
   "metadata": {},
   "outputs": [],
   "source": [
    "lr.score(X, y)"
   ]
  },
  {
   "cell_type": "markdown",
   "id": "a2f9ae82",
   "metadata": {},
   "source": [
    "**testing framework**"
   ]
  },
  {
   "cell_type": "code",
   "execution_count": null,
   "id": "a371b06f",
   "metadata": {},
   "outputs": [],
   "source": [
    "from tests_modelhub.functional.modelhub.data_and_utils import TestLR"
   ]
  },
  {
   "cell_type": "code",
   "execution_count": null,
   "id": "dc52cbe8",
   "metadata": {},
   "outputs": [],
   "source": [
    "test_lr = TestLR()"
   ]
  },
  {
   "cell_type": "code",
   "execution_count": null,
   "id": "f34697ea",
   "metadata": {},
   "outputs": [],
   "source": [
    "test_lr.test_fit()"
   ]
  },
  {
   "cell_type": "code",
   "execution_count": null,
   "id": "797597b9",
   "metadata": {},
   "outputs": [],
   "source": [
    "test_lr.test_method(method_name='predict', X=True)"
   ]
  },
  {
   "cell_type": "code",
   "execution_count": null,
   "id": "c166a138",
   "metadata": {},
   "outputs": [],
   "source": [
    "test_lr.test_method(method_name='predict_proba', X=True)"
   ]
  },
  {
   "cell_type": "markdown",
   "id": "e67cdd63",
   "metadata": {},
   "source": [
    "**considerations**\n",
    "- runs a lot of queries\n",
    "- only the ported model works, not other things like pipelines, metrics or gridsearch. all quite important to effective modeling."
   ]
  },
  {
   "cell_type": "markdown",
   "id": "ce14ec5e",
   "metadata": {},
   "source": [
    "#### 3. Run a full model on Objectiv data "
   ]
  },
  {
   "cell_type": "code",
   "execution_count": null,
   "id": "1cbf4885",
   "metadata": {},
   "outputs": [],
   "source": [
    "X, y, model = modelhub.agg.feature_importance(data=df[df.event_type=='PressEvent'],\n",
    "                     name='github_press',\n",
    "                     feature_column='root')"
   ]
  },
  {
   "cell_type": "code",
   "execution_count": null,
   "id": "d5f9ffc6",
   "metadata": {},
   "outputs": [],
   "source": [
    "model.get_results()"
   ]
  },
  {
   "cell_type": "code",
   "execution_count": null,
   "id": "9ff9b1ae",
   "metadata": {},
   "outputs": [],
   "source": [
    "model.underlyingmodel.set_params(fit_intercept=False)\n",
    "model.underlyingmodel.fit(X, y)\n",
    "model.get_results()"
   ]
  }
 ],
 "metadata": {
  "kernelspec": {
   "display_name": "Python 3 (ipykernel)",
   "language": "python",
   "name": "python3"
  },
  "language_info": {
   "codemirror_mode": {
    "name": "ipython",
    "version": 3
   },
   "file_extension": ".py",
   "mimetype": "text/x-python",
   "name": "python",
   "nbconvert_exporter": "python",
   "pygments_lexer": "ipython3",
   "version": "3.9.4"
  }
 },
 "nbformat": 4,
 "nbformat_minor": 5
}
