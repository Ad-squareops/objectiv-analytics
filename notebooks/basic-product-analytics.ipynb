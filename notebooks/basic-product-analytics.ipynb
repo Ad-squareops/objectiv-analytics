{
 "cells": [
  {
   "cell_type": "markdown",
   "id": "afb5dddf",
   "metadata": {},
   "source": [
    "This is one of the Objectiv [example notebooks](https://objectiv.io/docs/modeling/example-notebooks/). These notebooks can run [on your own data](https://objectiv.io/docs/modeling/get-started-in-your-notebook/), or you can instead run the [Demo](https://objectiv.io/docs/home/quickstart-guide/) to quickly try them out."
   ]
  },
  {
   "cell_type": "markdown",
   "id": "990f0ae2-48cd-4220-8960-844af284fcce",
   "metadata": {},
   "source": [
    "# Basic product analytics"
   ]
  },
  {
   "cell_type": "markdown",
   "id": "fc19e049-754f-4c0e-8a5a-0ff89bdb7724",
   "metadata": {},
   "source": [
    "This example notebook shows how you can easily do basic product analytics on your data. [See here how to get started in your notebook](https://objectiv.io/docs/modeling/get-started-in-your-notebook/)."
   ]
  },
  {
   "cell_type": "markdown",
   "id": "277e303e",
   "metadata": {},
   "source": [
    "## Setup\n",
    "We first have to instantiate the model hub and an Objectiv DataFrame object."
   ]
  },
  {
   "cell_type": "code",
   "execution_count": 38,
   "id": "4bd369f6",
   "metadata": {},
   "outputs": [],
   "source": [
    "from modelhub import ModelHub\n",
    "from bach import display_sql_as_markdown\n",
    "from datetime import datetime\n",
    "\n",
    "# instantiate the model hub and set the default time aggregation to daily\n",
    "modelhub = ModelHub(time_aggregation='%Y-%m-%d')\n",
    "# get a Bach DataFrame with Objectiv data within a defined timeframe\n",
    "df = modelhub.get_objectiv_dataframe(start_date='2022-02-01', end_date='2022-06-30')"
   ]
  },
  {
   "cell_type": "code",
   "execution_count": 39,
   "id": "4e130b67",
   "metadata": {},
   "outputs": [],
   "source": [
    "# The columns 'global_contexts' and the 'location_stack' contain most of the event specific data. These columns are json type \n",
    "# columns and we can extract data from it based on the keys of the json objects using `SeriesGlobalContexts` or \n",
    "# `SeriesLocationStack` methods to extract the data.\n",
    "\n",
    "# add 'application', 'feature_nice_name' and 'root_location' as columns, so that we can use it for grouping etc later\n",
    "df['application'] = df.global_contexts.gc.application\n",
    "df['feature_nice_name'] = df.location_stack.ls.nice_name\n",
    "df['root_location'] = df.location_stack.ls.get_from_context_with_type_series(type='RootLocationContext', key='id')"
   ]
  },
  {
   "cell_type": "markdown",
   "id": "69df48a1",
   "metadata": {},
   "source": [
    "### Have a look at the data"
   ]
  },
  {
   "cell_type": "code",
   "execution_count": 40,
   "id": "3c4ad65e",
   "metadata": {},
   "outputs": [
    {
     "data": {
      "text/html": [
       "<div>\n",
       "<style scoped>\n",
       "    .dataframe tbody tr th:only-of-type {\n",
       "        vertical-align: middle;\n",
       "    }\n",
       "\n",
       "    .dataframe tbody tr th {\n",
       "        vertical-align: top;\n",
       "    }\n",
       "\n",
       "    .dataframe thead th {\n",
       "        text-align: right;\n",
       "    }\n",
       "</style>\n",
       "<table border=\"1\" class=\"dataframe\">\n",
       "  <thead>\n",
       "    <tr style=\"text-align: right;\">\n",
       "      <th></th>\n",
       "      <th>day</th>\n",
       "      <th>moment</th>\n",
       "      <th>user_id</th>\n",
       "      <th>global_contexts</th>\n",
       "      <th>location_stack</th>\n",
       "      <th>event_type</th>\n",
       "      <th>stack_event_types</th>\n",
       "      <th>session_id</th>\n",
       "      <th>session_hit_number</th>\n",
       "      <th>application</th>\n",
       "      <th>feature_nice_name</th>\n",
       "      <th>root_location</th>\n",
       "    </tr>\n",
       "    <tr>\n",
       "      <th>event_id</th>\n",
       "      <th></th>\n",
       "      <th></th>\n",
       "      <th></th>\n",
       "      <th></th>\n",
       "      <th></th>\n",
       "      <th></th>\n",
       "      <th></th>\n",
       "      <th></th>\n",
       "      <th></th>\n",
       "      <th></th>\n",
       "      <th></th>\n",
       "      <th></th>\n",
       "    </tr>\n",
       "  </thead>\n",
       "  <tbody>\n",
       "    <tr>\n",
       "      <th>96b5e709-bb8a-46de-ac82-245be25dac29</th>\n",
       "      <td>2022-06-30</td>\n",
       "      <td>2022-06-30 21:40:32.401</td>\n",
       "      <td>2d718142-9be7-4975-a669-ba022fd8fd48</td>\n",
       "      <td>[{'id': 'http_context', '_type': 'HttpContext'...</td>\n",
       "      <td>[{'id': 'home', '_type': 'RootLocationContext'...</td>\n",
       "      <td>VisibleEvent</td>\n",
       "      <td>[AbstractEvent, NonInteractiveEvent, VisibleEv...</td>\n",
       "      <td>5325</td>\n",
       "      <td>3</td>\n",
       "      <td>objectiv-website</td>\n",
       "      <td>Overlay: star-us-notification-overlay located ...</td>\n",
       "      <td>home</td>\n",
       "    </tr>\n",
       "    <tr>\n",
       "      <th>252d7d87-5600-4d90-b24f-2a6fb8986c5e</th>\n",
       "      <td>2022-06-30</td>\n",
       "      <td>2022-06-30 21:40:30.117</td>\n",
       "      <td>2d718142-9be7-4975-a669-ba022fd8fd48</td>\n",
       "      <td>[{'id': 'http_context', '_type': 'HttpContext'...</td>\n",
       "      <td>[{'id': 'home', '_type': 'RootLocationContext'...</td>\n",
       "      <td>PressEvent</td>\n",
       "      <td>[AbstractEvent, InteractiveEvent, PressEvent]</td>\n",
       "      <td>5325</td>\n",
       "      <td>2</td>\n",
       "      <td>objectiv-website</td>\n",
       "      <td>Pressable: after located at Root Location: hom...</td>\n",
       "      <td>home</td>\n",
       "    </tr>\n",
       "    <tr>\n",
       "      <th>157a3000-bbfc-42e0-b857-901bd578ea7c</th>\n",
       "      <td>2022-06-30</td>\n",
       "      <td>2022-06-30 21:40:16.908</td>\n",
       "      <td>2d718142-9be7-4975-a669-ba022fd8fd48</td>\n",
       "      <td>[{'id': 'http_context', '_type': 'HttpContext'...</td>\n",
       "      <td>[{'id': 'home', '_type': 'RootLocationContext'...</td>\n",
       "      <td>PressEvent</td>\n",
       "      <td>[AbstractEvent, InteractiveEvent, PressEvent]</td>\n",
       "      <td>5325</td>\n",
       "      <td>1</td>\n",
       "      <td>objectiv-website</td>\n",
       "      <td>Pressable: after located at Root Location: hom...</td>\n",
       "      <td>home</td>\n",
       "    </tr>\n",
       "    <tr>\n",
       "      <th>8543f519-d3a4-4af6-89f5-cb04393944b8</th>\n",
       "      <td>2022-06-30</td>\n",
       "      <td>2022-06-30 20:43:50.962</td>\n",
       "      <td>bb127c9e-3067-4375-9c73-cb86be332660</td>\n",
       "      <td>[{'id': 'http_context', '_type': 'HttpContext'...</td>\n",
       "      <td>[{'id': 'home', '_type': 'RootLocationContext'...</td>\n",
       "      <td>MediaLoadEvent</td>\n",
       "      <td>[AbstractEvent, MediaEvent, MediaLoadEvent, No...</td>\n",
       "      <td>5324</td>\n",
       "      <td>2</td>\n",
       "      <td>objectiv-website</td>\n",
       "      <td>Media Player: 2-minute-video located at Root L...</td>\n",
       "      <td>home</td>\n",
       "    </tr>\n",
       "    <tr>\n",
       "      <th>a0ad4364-57e0-4da9-a266-057744550cc2</th>\n",
       "      <td>2022-06-30</td>\n",
       "      <td>2022-06-30 20:43:49.820</td>\n",
       "      <td>bb127c9e-3067-4375-9c73-cb86be332660</td>\n",
       "      <td>[{'id': 'http_context', '_type': 'HttpContext'...</td>\n",
       "      <td>[{'id': 'home', '_type': 'RootLocationContext'...</td>\n",
       "      <td>ApplicationLoadedEvent</td>\n",
       "      <td>[AbstractEvent, ApplicationLoadedEvent, NonInt...</td>\n",
       "      <td>5324</td>\n",
       "      <td>1</td>\n",
       "      <td>objectiv-website</td>\n",
       "      <td>Root Location: home</td>\n",
       "      <td>home</td>\n",
       "    </tr>\n",
       "  </tbody>\n",
       "</table>\n",
       "</div>"
      ],
      "text/plain": [
       "                                             day                  moment  \\\n",
       "event_id                                                                   \n",
       "96b5e709-bb8a-46de-ac82-245be25dac29  2022-06-30 2022-06-30 21:40:32.401   \n",
       "252d7d87-5600-4d90-b24f-2a6fb8986c5e  2022-06-30 2022-06-30 21:40:30.117   \n",
       "157a3000-bbfc-42e0-b857-901bd578ea7c  2022-06-30 2022-06-30 21:40:16.908   \n",
       "8543f519-d3a4-4af6-89f5-cb04393944b8  2022-06-30 2022-06-30 20:43:50.962   \n",
       "a0ad4364-57e0-4da9-a266-057744550cc2  2022-06-30 2022-06-30 20:43:49.820   \n",
       "\n",
       "                                                                   user_id  \\\n",
       "event_id                                                                     \n",
       "96b5e709-bb8a-46de-ac82-245be25dac29  2d718142-9be7-4975-a669-ba022fd8fd48   \n",
       "252d7d87-5600-4d90-b24f-2a6fb8986c5e  2d718142-9be7-4975-a669-ba022fd8fd48   \n",
       "157a3000-bbfc-42e0-b857-901bd578ea7c  2d718142-9be7-4975-a669-ba022fd8fd48   \n",
       "8543f519-d3a4-4af6-89f5-cb04393944b8  bb127c9e-3067-4375-9c73-cb86be332660   \n",
       "a0ad4364-57e0-4da9-a266-057744550cc2  bb127c9e-3067-4375-9c73-cb86be332660   \n",
       "\n",
       "                                                                        global_contexts  \\\n",
       "event_id                                                                                  \n",
       "96b5e709-bb8a-46de-ac82-245be25dac29  [{'id': 'http_context', '_type': 'HttpContext'...   \n",
       "252d7d87-5600-4d90-b24f-2a6fb8986c5e  [{'id': 'http_context', '_type': 'HttpContext'...   \n",
       "157a3000-bbfc-42e0-b857-901bd578ea7c  [{'id': 'http_context', '_type': 'HttpContext'...   \n",
       "8543f519-d3a4-4af6-89f5-cb04393944b8  [{'id': 'http_context', '_type': 'HttpContext'...   \n",
       "a0ad4364-57e0-4da9-a266-057744550cc2  [{'id': 'http_context', '_type': 'HttpContext'...   \n",
       "\n",
       "                                                                         location_stack  \\\n",
       "event_id                                                                                  \n",
       "96b5e709-bb8a-46de-ac82-245be25dac29  [{'id': 'home', '_type': 'RootLocationContext'...   \n",
       "252d7d87-5600-4d90-b24f-2a6fb8986c5e  [{'id': 'home', '_type': 'RootLocationContext'...   \n",
       "157a3000-bbfc-42e0-b857-901bd578ea7c  [{'id': 'home', '_type': 'RootLocationContext'...   \n",
       "8543f519-d3a4-4af6-89f5-cb04393944b8  [{'id': 'home', '_type': 'RootLocationContext'...   \n",
       "a0ad4364-57e0-4da9-a266-057744550cc2  [{'id': 'home', '_type': 'RootLocationContext'...   \n",
       "\n",
       "                                                  event_type  \\\n",
       "event_id                                                       \n",
       "96b5e709-bb8a-46de-ac82-245be25dac29            VisibleEvent   \n",
       "252d7d87-5600-4d90-b24f-2a6fb8986c5e              PressEvent   \n",
       "157a3000-bbfc-42e0-b857-901bd578ea7c              PressEvent   \n",
       "8543f519-d3a4-4af6-89f5-cb04393944b8          MediaLoadEvent   \n",
       "a0ad4364-57e0-4da9-a266-057744550cc2  ApplicationLoadedEvent   \n",
       "\n",
       "                                                                      stack_event_types  \\\n",
       "event_id                                                                                  \n",
       "96b5e709-bb8a-46de-ac82-245be25dac29  [AbstractEvent, NonInteractiveEvent, VisibleEv...   \n",
       "252d7d87-5600-4d90-b24f-2a6fb8986c5e      [AbstractEvent, InteractiveEvent, PressEvent]   \n",
       "157a3000-bbfc-42e0-b857-901bd578ea7c      [AbstractEvent, InteractiveEvent, PressEvent]   \n",
       "8543f519-d3a4-4af6-89f5-cb04393944b8  [AbstractEvent, MediaEvent, MediaLoadEvent, No...   \n",
       "a0ad4364-57e0-4da9-a266-057744550cc2  [AbstractEvent, ApplicationLoadedEvent, NonInt...   \n",
       "\n",
       "                                      session_id  session_hit_number  \\\n",
       "event_id                                                               \n",
       "96b5e709-bb8a-46de-ac82-245be25dac29        5325                   3   \n",
       "252d7d87-5600-4d90-b24f-2a6fb8986c5e        5325                   2   \n",
       "157a3000-bbfc-42e0-b857-901bd578ea7c        5325                   1   \n",
       "8543f519-d3a4-4af6-89f5-cb04393944b8        5324                   2   \n",
       "a0ad4364-57e0-4da9-a266-057744550cc2        5324                   1   \n",
       "\n",
       "                                           application  \\\n",
       "event_id                                                 \n",
       "96b5e709-bb8a-46de-ac82-245be25dac29  objectiv-website   \n",
       "252d7d87-5600-4d90-b24f-2a6fb8986c5e  objectiv-website   \n",
       "157a3000-bbfc-42e0-b857-901bd578ea7c  objectiv-website   \n",
       "8543f519-d3a4-4af6-89f5-cb04393944b8  objectiv-website   \n",
       "a0ad4364-57e0-4da9-a266-057744550cc2  objectiv-website   \n",
       "\n",
       "                                                                      feature_nice_name  \\\n",
       "event_id                                                                                  \n",
       "96b5e709-bb8a-46de-ac82-245be25dac29  Overlay: star-us-notification-overlay located ...   \n",
       "252d7d87-5600-4d90-b24f-2a6fb8986c5e  Pressable: after located at Root Location: hom...   \n",
       "157a3000-bbfc-42e0-b857-901bd578ea7c  Pressable: after located at Root Location: hom...   \n",
       "8543f519-d3a4-4af6-89f5-cb04393944b8  Media Player: 2-minute-video located at Root L...   \n",
       "a0ad4364-57e0-4da9-a266-057744550cc2                                Root Location: home   \n",
       "\n",
       "                                     root_location  \n",
       "event_id                                            \n",
       "96b5e709-bb8a-46de-ac82-245be25dac29          home  \n",
       "252d7d87-5600-4d90-b24f-2a6fb8986c5e          home  \n",
       "157a3000-bbfc-42e0-b857-901bd578ea7c          home  \n",
       "8543f519-d3a4-4af6-89f5-cb04393944b8          home  \n",
       "a0ad4364-57e0-4da9-a266-057744550cc2          home  "
      ]
     },
     "execution_count": 40,
     "metadata": {},
     "output_type": "execute_result"
    }
   ],
   "source": [
    "# sort by users sessions\n",
    "df.sort_values(['session_id', 'session_hit_number'], ascending=False).head()"
   ]
  },
  {
   "cell_type": "code",
   "execution_count": 41,
   "id": "38aa346a",
   "metadata": {},
   "outputs": [
    {
     "data": {
      "text/html": [
       "<div>\n",
       "<style scoped>\n",
       "    .dataframe tbody tr th:only-of-type {\n",
       "        vertical-align: middle;\n",
       "    }\n",
       "\n",
       "    .dataframe tbody tr th {\n",
       "        vertical-align: top;\n",
       "    }\n",
       "\n",
       "    .dataframe thead th {\n",
       "        text-align: right;\n",
       "    }\n",
       "</style>\n",
       "<table border=\"1\" class=\"dataframe\">\n",
       "  <thead>\n",
       "    <tr style=\"text-align: right;\">\n",
       "      <th></th>\n",
       "      <th>day</th>\n",
       "      <th>moment</th>\n",
       "      <th>user_id</th>\n",
       "      <th>global_contexts</th>\n",
       "      <th>location_stack</th>\n",
       "      <th>event_type</th>\n",
       "      <th>stack_event_types</th>\n",
       "      <th>session_id</th>\n",
       "      <th>session_hit_number</th>\n",
       "      <th>application</th>\n",
       "      <th>feature_nice_name</th>\n",
       "      <th>root_location</th>\n",
       "    </tr>\n",
       "    <tr>\n",
       "      <th>__stat</th>\n",
       "      <th></th>\n",
       "      <th></th>\n",
       "      <th></th>\n",
       "      <th></th>\n",
       "      <th></th>\n",
       "      <th></th>\n",
       "      <th></th>\n",
       "      <th></th>\n",
       "      <th></th>\n",
       "      <th></th>\n",
       "      <th></th>\n",
       "      <th></th>\n",
       "    </tr>\n",
       "  </thead>\n",
       "  <tbody>\n",
       "    <tr>\n",
       "      <th>count</th>\n",
       "      <td>35808</td>\n",
       "      <td>35808</td>\n",
       "      <td>35808</td>\n",
       "      <td>35808</td>\n",
       "      <td>35808</td>\n",
       "      <td>35808</td>\n",
       "      <td>35808</td>\n",
       "      <td>35808.00</td>\n",
       "      <td>35808.00</td>\n",
       "      <td>35808</td>\n",
       "      <td>35808</td>\n",
       "      <td>35808</td>\n",
       "    </tr>\n",
       "    <tr>\n",
       "      <th>mean</th>\n",
       "      <td>None</td>\n",
       "      <td>None</td>\n",
       "      <td>None</td>\n",
       "      <td>None</td>\n",
       "      <td>None</td>\n",
       "      <td>None</td>\n",
       "      <td>None</td>\n",
       "      <td>2693.79</td>\n",
       "      <td>14.15</td>\n",
       "      <td>None</td>\n",
       "      <td>None</td>\n",
       "      <td>None</td>\n",
       "    </tr>\n",
       "    <tr>\n",
       "      <th>std</th>\n",
       "      <td>None</td>\n",
       "      <td>None</td>\n",
       "      <td>None</td>\n",
       "      <td>None</td>\n",
       "      <td>None</td>\n",
       "      <td>None</td>\n",
       "      <td>None</td>\n",
       "      <td>1535.81</td>\n",
       "      <td>29.77</td>\n",
       "      <td>None</td>\n",
       "      <td>None</td>\n",
       "      <td>None</td>\n",
       "    </tr>\n",
       "    <tr>\n",
       "      <th>min</th>\n",
       "      <td>2022-02-01</td>\n",
       "      <td>2022-02-01 01:16:28.924</td>\n",
       "      <td>None</td>\n",
       "      <td>None</td>\n",
       "      <td>None</td>\n",
       "      <td>ApplicationLoadedEvent</td>\n",
       "      <td>None</td>\n",
       "      <td>1.00</td>\n",
       "      <td>1.00</td>\n",
       "      <td>objectiv-docs</td>\n",
       "      <td>Content: hero located at Root Location: home</td>\n",
       "      <td>about</td>\n",
       "    </tr>\n",
       "    <tr>\n",
       "      <th>max</th>\n",
       "      <td>2022-06-30</td>\n",
       "      <td>2022-06-30 21:40:32.401</td>\n",
       "      <td>None</td>\n",
       "      <td>None</td>\n",
       "      <td>None</td>\n",
       "      <td>VisibleEvent</td>\n",
       "      <td>None</td>\n",
       "      <td>5325.00</td>\n",
       "      <td>396.00</td>\n",
       "      <td>objectiv-website</td>\n",
       "      <td>Root Location: tracking</td>\n",
       "      <td>tracking</td>\n",
       "    </tr>\n",
       "  </tbody>\n",
       "</table>\n",
       "</div>"
      ],
      "text/plain": [
       "               day                   moment user_id global_contexts  \\\n",
       "__stat                                                                \n",
       "count        35808                    35808   35808           35808   \n",
       "mean          None                     None    None            None   \n",
       "std           None                     None    None            None   \n",
       "min     2022-02-01  2022-02-01 01:16:28.924    None            None   \n",
       "max     2022-06-30  2022-06-30 21:40:32.401    None            None   \n",
       "\n",
       "       location_stack              event_type stack_event_types  session_id  \\\n",
       "__stat                                                                        \n",
       "count           35808                   35808             35808    35808.00   \n",
       "mean             None                    None              None     2693.79   \n",
       "std              None                    None              None     1535.81   \n",
       "min              None  ApplicationLoadedEvent              None        1.00   \n",
       "max              None            VisibleEvent              None     5325.00   \n",
       "\n",
       "        session_hit_number       application  \\\n",
       "__stat                                         \n",
       "count             35808.00             35808   \n",
       "mean                 14.15              None   \n",
       "std                  29.77              None   \n",
       "min                   1.00     objectiv-docs   \n",
       "max                 396.00  objectiv-website   \n",
       "\n",
       "                                   feature_nice_name root_location  \n",
       "__stat                                                              \n",
       "count                                          35808         35808  \n",
       "mean                                            None          None  \n",
       "std                                             None          None  \n",
       "min     Content: hero located at Root Location: home         about  \n",
       "max                          Root Location: tracking      tracking  "
      ]
     },
     "execution_count": 41,
     "metadata": {},
     "output_type": "execute_result"
    }
   ],
   "source": [
    "# explore the data with describe\n",
    "df.describe(include='all').head()"
   ]
  },
  {
   "cell_type": "markdown",
   "id": "ee1362c4",
   "metadata": {},
   "source": [
    "### Reference\n",
    "* [modelhub.ModelHub.get_objectiv_dataframe](https://objectiv.io/docs/modeling/open-model-hub/api-reference/ModelHub/get_objectiv_dataframe/)\n",
    "* [modelhub.SeriesGlobalContexts.gc](https://objectiv.io/docs/modeling/open-model-hub/api-reference/SeriesGlobalContexts/gc/)\n",
    "* [bach.DataFrame.sort_values](https://objectiv.io/docs/modeling/bach/api-reference/DataFrame/sort_values/)\n",
    "* [bach.DataFrame.describe](https://objectiv.io/docs/modeling/bach/api-reference/DataFrame/describe/)\n",
    "* [bach.DataFrame.head](https://objectiv.io/docs/modeling/bach/api-reference/DataFrame/head/)"
   ]
  },
  {
   "cell_type": "markdown",
   "id": "a1ced327",
   "metadata": {},
   "source": [
    "Next we'll go though a selection of product analytics metrics. We can use models from the [open model hub](https://objectiv.io/docs/modeling/open-model-hub/), or use [modeling library Bach](https://objectiv.io/docs/modeling/bach/) to run data analyses directly on the data store, with Pandas-like syntax.\n",
    "\n",
    "For each example, [`head()`](https://objectiv.io/docs/modeling/bach/api-reference/DataFrame/head/), [`to_pandas()`](https://objectiv.io/docs/modeling/bach/api-reference/DataFrame/to_pandas/) or [`to_numpy()`](https://objectiv.io/docs/modeling/bach/api-reference/DataFrame/to_numpy/) can be used to execute the generated SQL and get the results in your notebook."
   ]
  },
  {
   "cell_type": "markdown",
   "id": "03bfa810",
   "metadata": {},
   "source": [
    "## Unique users\n",
    "Let's see the number of unique users over time, with the [unique_users](https://objectiv.io/docs/modeling/open-model-hub/models/aggregation/unique_users/) model. By default it will use the `time_aggregation` set when the model hub was instantiated, in this case '%Y-%m-%d', so daily. For `monthly_users`, the default time_aggregation is\n",
    "overridden by using a different `groupby` argument."
   ]
  },
  {
   "cell_type": "code",
   "execution_count": 42,
   "id": "08ad4e39",
   "metadata": {},
   "outputs": [
    {
     "data": {
      "text/plain": [
       "time_aggregation\n",
       "2022-06     497\n",
       "2022-05    1682\n",
       "2022-04     304\n",
       "2022-03     288\n",
       "2022-02     596\n",
       "Name: unique_users, dtype: int64"
      ]
     },
     "execution_count": 42,
     "metadata": {},
     "output_type": "execute_result"
    }
   ],
   "source": [
    "# unique users, monthly\n",
    "monthly_users = modelhub.aggregate.unique_users(df, groupby=modelhub.time_agg(df, '%Y-%m'))\n",
    "monthly_users.sort_index(ascending=False).head()"
   ]
  },
  {
   "cell_type": "code",
   "execution_count": 43,
   "id": "172f431c",
   "metadata": {},
   "outputs": [
    {
     "data": {
      "text/plain": [
       "time_aggregation\n",
       "2022-06-30    20\n",
       "2022-06-29    16\n",
       "2022-06-28    19\n",
       "2022-06-27    16\n",
       "2022-06-26     4\n",
       "2022-06-25    13\n",
       "2022-06-24    21\n",
       "2022-06-23    31\n",
       "2022-06-22    50\n",
       "2022-06-21    60\n",
       "Name: unique_users, dtype: int64"
      ]
     },
     "execution_count": 43,
     "metadata": {},
     "output_type": "execute_result"
    }
   ],
   "source": [
    "# unique users, daily\n",
    "daily_users = modelhub.aggregate.unique_users(df)\n",
    "daily_users.sort_index(ascending=False).head(10)"
   ]
  },
  {
   "cell_type": "markdown",
   "id": "07c33ec0",
   "metadata": {},
   "source": [
    "To see the number of users per main product section, group by its [root_location](https://objectiv.io/docs/taxonomy/reference/location-contexts/RootLocationContext)."
   ]
  },
  {
   "cell_type": "code",
   "execution_count": 44,
   "id": "fec344a2",
   "metadata": {},
   "outputs": [
    {
     "data": {
      "text/plain": [
       "application       root_location\n",
       "objectiv-website  privacy            10\n",
       "                  join-slack         32\n",
       "                  jobs              263\n",
       "                  home             2488\n",
       "                  cla                 2\n",
       "                  blog              556\n",
       "                  about             346\n",
       "objectiv-docs     tracking          270\n",
       "                  taxonomy          413\n",
       "                  modeling          359\n",
       "Name: unique_users, dtype: int64"
      ]
     },
     "execution_count": 44,
     "metadata": {},
     "output_type": "execute_result"
    }
   ],
   "source": [
    "# unique users, per main product section\n",
    "users_root = modelhub.aggregate.unique_users(df, groupby=['application', 'root_location'])\n",
    "users_root.sort_index(ascending=False).head(10)"
   ]
  },
  {
   "cell_type": "markdown",
   "id": "5ca4190f",
   "metadata": {},
   "source": [
    "### Reference\n",
    "* [modelhub.Aggregate.unique_users](https://objectiv.io/docs/modeling/open-model-hub/models/aggregation/unique_users/)\n",
    "* [bach.DataFrame.sort_index](https://objectiv.io/docs/modeling/bach/api-reference/DataFrame/sort_index/)\n",
    "* [bach.DataFrame.head](https://objectiv.io/docs/modeling/bach/api-reference/DataFrame/head/)"
   ]
  },
  {
   "cell_type": "markdown",
   "id": "a95c3999",
   "metadata": {},
   "source": [
    "## Retention"
   ]
  },
  {
   "cell_type": "markdown",
   "id": "c0c002e4",
   "metadata": {},
   "source": [
    "To measure how well we are doing at keeping users with us after their first interaction, we can use a retention matrix.\n",
    "\n",
    "To calculate the retention matrix, we need to distribute the users into mutually exclusive cohorts based on the `time_period` (can be `daily`, `weekly`, `monthly`, or `yearly`) they first interacted.\n",
    "\n",
    "In the retention matrix:\n",
    "- each row represents a cohort;\n",
    "- each column represents a time range, where time is calculated with respect to the cohort start time;\n",
    "- the values of the matrix elements are the number or percentage (depending on `percentage` parameter) of users in a given cohort that returned again in a given time range.\n",
    "\n",
    "The users' activity starts to be counted from the `start_date` specified when the modelhub was instantiated."
   ]
  },
  {
   "cell_type": "code",
   "execution_count": 45,
   "id": "767c5982",
   "metadata": {},
   "outputs": [
    {
     "data": {
      "image/png": "[encoded data removed]",
      "text/plain": [
       "<Figure size 1440x576 with 2 Axes>"
      ]
     },
     "metadata": {
      "needs_background": "light"
     },
     "output_type": "display_data"
    },
    {
     "data": {
      "text/html": [
       "<div>\n",
       "<style scoped>\n",
       "    .dataframe tbody tr th:only-of-type {\n",
       "        vertical-align: middle;\n",
       "    }\n",
       "\n",
       "    .dataframe tbody tr th {\n",
       "        vertical-align: top;\n",
       "    }\n",
       "\n",
       "    .dataframe thead th {\n",
       "        text-align: right;\n",
       "    }\n",
       "</style>\n",
       "<table border=\"1\" class=\"dataframe\">\n",
       "  <thead>\n",
       "    <tr style=\"text-align: right;\">\n",
       "      <th></th>\n",
       "      <th>_0</th>\n",
       "      <th>_1</th>\n",
       "      <th>_2</th>\n",
       "      <th>_3</th>\n",
       "      <th>_4</th>\n",
       "    </tr>\n",
       "    <tr>\n",
       "      <th>first_cohort</th>\n",
       "      <th></th>\n",
       "      <th></th>\n",
       "      <th></th>\n",
       "      <th></th>\n",
       "      <th></th>\n",
       "    </tr>\n",
       "  </thead>\n",
       "  <tbody>\n",
       "    <tr>\n",
       "      <th>2022-02</th>\n",
       "      <td>100.0</td>\n",
       "      <td>6.879195</td>\n",
       "      <td>4.194631</td>\n",
       "      <td>2.852349</td>\n",
       "      <td>2.181208</td>\n",
       "    </tr>\n",
       "    <tr>\n",
       "      <th>2022-03</th>\n",
       "      <td>100.0</td>\n",
       "      <td>3.643725</td>\n",
       "      <td>2.429150</td>\n",
       "      <td>1.619433</td>\n",
       "      <td>NaN</td>\n",
       "    </tr>\n",
       "    <tr>\n",
       "      <th>2022-04</th>\n",
       "      <td>100.0</td>\n",
       "      <td>6.666667</td>\n",
       "      <td>2.222222</td>\n",
       "      <td>NaN</td>\n",
       "      <td>NaN</td>\n",
       "    </tr>\n",
       "    <tr>\n",
       "      <th>2022-05</th>\n",
       "      <td>100.0</td>\n",
       "      <td>3.473492</td>\n",
       "      <td>NaN</td>\n",
       "      <td>NaN</td>\n",
       "      <td>NaN</td>\n",
       "    </tr>\n",
       "    <tr>\n",
       "      <th>2022-06</th>\n",
       "      <td>100.0</td>\n",
       "      <td>NaN</td>\n",
       "      <td>NaN</td>\n",
       "      <td>NaN</td>\n",
       "      <td>NaN</td>\n",
       "    </tr>\n",
       "  </tbody>\n",
       "</table>\n",
       "</div>"
      ],
      "text/plain": [
       "                 _0        _1        _2        _3        _4\n",
       "first_cohort                                               \n",
       "2022-02       100.0  6.879195  4.194631  2.852349  2.181208\n",
       "2022-03       100.0  3.643725  2.429150  1.619433       NaN\n",
       "2022-04       100.0  6.666667  2.222222       NaN       NaN\n",
       "2022-05       100.0  3.473492       NaN       NaN       NaN\n",
       "2022-06       100.0       NaN       NaN       NaN       NaN"
      ]
     },
     "execution_count": 45,
     "metadata": {},
     "output_type": "execute_result"
    }
   ],
   "source": [
    "# retention matrix, monthly, with percentages\n",
    "retention_matrix = modelhub.aggregate.retention_matrix(df, time_period='monthly', percentage=True, display=True)\n",
    "retention_matrix.head()"
   ]
  },
  {
   "cell_type": "markdown",
   "id": "6d8fe546",
   "metadata": {},
   "source": [
    "### Drilling down retention cohorts"
   ]
  },
  {
   "cell_type": "markdown",
   "id": "c33d9b44",
   "metadata": {},
   "source": [
    "In the retention matrix above, we can see there's a drop in retained users in the second cohort the next month; just 3.6% of users returned. We can directly zoom into the different cohorts and see the difference."
   ]
  },
  {
   "cell_type": "code",
   "execution_count": 46,
   "id": "52ec55a5",
   "metadata": {},
   "outputs": [],
   "source": [
    "# calculate the first cohort\n",
    "cohorts = df[['user_id', 'moment']].groupby('user_id')['moment'].min().reset_index()\n",
    "cohorts = cohorts.rename(columns={'moment': 'first_cohort'})\n",
    "\n",
    "# add first cohort of the users to our DataFrame\n",
    "df_with_cohorts = df.merge(cohorts, on='user_id')"
   ]
  },
  {
   "cell_type": "code",
   "execution_count": 47,
   "id": "419da16e",
   "metadata": {},
   "outputs": [
    {
     "data": {
      "text/plain": [
       "event_type\n",
       "VisibleEvent              3678\n",
       "PressEvent                3163\n",
       "ApplicationLoadedEvent    2487\n",
       "MediaLoadEvent            1158\n",
       "MediaStartEvent            535\n",
       "Name: value_counts, dtype: int64"
      ]
     },
     "execution_count": 47,
     "metadata": {},
     "output_type": "execute_result"
    }
   ],
   "source": [
    "# filter data where users belong to the #0 cohort\n",
    "cohort0_filter = (df_with_cohorts['first_cohort'] > datetime(2022, 2, 1)) & (df_with_cohorts['first_cohort'] < datetime(2022, 3, 1))\n",
    "df_with_cohorts[cohort0_filter]['event_type'].value_counts().head()"
   ]
  },
  {
   "cell_type": "code",
   "execution_count": 48,
   "id": "20c15a7d",
   "metadata": {},
   "outputs": [
    {
     "data": {
      "text/plain": [
       "event_type\n",
       "PressEvent                765\n",
       "VisibleEvent              686\n",
       "ApplicationLoadedEvent    547\n",
       "MediaLoadEvent            270\n",
       "HiddenEvent                92\n",
       "Name: value_counts, dtype: int64"
      ]
     },
     "execution_count": 48,
     "metadata": {},
     "output_type": "execute_result"
    }
   ],
   "source": [
    "# filter data where users belong to the #1 cohort (the problematic one)\n",
    "cohort1_filter = (df_with_cohorts['first_cohort'] > datetime(2022, 3, 1)) & (df_with_cohorts['first_cohort'] < datetime(2022, 4, 1))\n",
    "df_with_cohorts[cohort1_filter]['event_type'].value_counts().head()"
   ]
  },
  {
   "cell_type": "markdown",
   "id": "cccd323e",
   "metadata": {},
   "source": [
    "One interesting thing to note here, for example, is that there are relatively more [`VisibleEvents`](https://objectiv.io/docs/taxonomy/reference/events/VisibleEvent) in the first cohort than in the second 'problematic' one.\n",
    "\n",
    "This is  just a simple example to demonstrate the differences you can find between cohorts. You could run other models like [top product features](https://objectiv.io/docs/modeling/open-model-hub/models/aggregation/top_product_features/), or develop more in-depth analyses."
   ]
  },
  {
   "cell_type": "markdown",
   "id": "8b527699",
   "metadata": {},
   "source": [
    "### Reference\n",
    "* [modelhub.Aggregate.retention_matrix](https://objectiv.io/docs/modeling/open-model-hub/models/aggregation/retention_matrix/)\n",
    "* [bach.DataFrame.groupby](https://objectiv.io/docs/modeling/bach/api-reference/DataFrame/groupby/)\n",
    "* [bach.DataFrame.min](https://objectiv.io/docs/modeling/bach/api-reference/DataFrame/min/)\n",
    "* [bach.DataFrame.reset_index](https://objectiv.io/docs/modeling/bach/api-reference/DataFrame/reset_index/)\n",
    "* [bach.DataFrame.rename](https://objectiv.io/docs/modeling/bach/api-reference/DataFrame/rename/)\n",
    "* [bach.DataFrame.merge](https://objectiv.io/docs/modeling/bach/api-reference/DataFrame/merge/)\n",
    "* [bach.DataFrame.value_counts](https://objectiv.io/docs/modeling/bach/api-reference/DataFrame/value_counts/)\n",
    "* [bach.DataFrame.head](https://objectiv.io/docs/modeling/bach/api-reference/DataFrame/head/)"
   ]
  },
  {
   "cell_type": "markdown",
   "id": "1a6de3da",
   "metadata": {},
   "source": [
    "## Time spent (aka duration)\n",
    "Here we calculate the average duration of a user's session, using the [session_duration model](https://objectiv.io/docs/modeling/open-model-hub/models/aggregation/session_duration/)."
   ]
  },
  {
   "cell_type": "code",
   "execution_count": 49,
   "id": "5ad07abd-e62e-41d3-9033-cdacb906551f",
   "metadata": {},
   "outputs": [
    {
     "data": {
      "text/plain": [
       "time_aggregation\n",
       "2022-06   0 days 00:02:54.086814\n",
       "2022-05   0 days 00:02:58.417140\n",
       "2022-04   0 days 00:03:02.069818\n",
       "2022-03   0 days 00:04:24.103417\n",
       "2022-02   0 days 00:03:32.650353\n",
       "Name: session_duration, dtype: timedelta64[ns]"
      ]
     },
     "execution_count": 49,
     "metadata": {},
     "output_type": "execute_result"
    }
   ],
   "source": [
    "# duration, monthly average\n",
    "duration_monthly = modelhub.aggregate.session_duration(df, groupby=modelhub.time_agg(df, '%Y-%m'))\n",
    "duration_monthly.sort_index(ascending=False).head()"
   ]
  },
  {
   "cell_type": "code",
   "execution_count": 50,
   "id": "9fb041b2",
   "metadata": {},
   "outputs": [
    {
     "data": {
      "text/plain": [
       "time_aggregation\n",
       "2022-06-30   0 days 00:01:40.354000\n",
       "2022-06-29   0 days 00:04:11.683833\n",
       "2022-06-28   0 days 00:01:42.213783\n",
       "2022-06-27   0 days 00:05:15.880143\n",
       "2022-06-26   0 days 00:00:12.542250\n",
       "Name: session_duration, dtype: timedelta64[ns]"
      ]
     },
     "execution_count": 50,
     "metadata": {},
     "output_type": "execute_result"
    }
   ],
   "source": [
    "# duration, daily average\n",
    "duration_daily = modelhub.aggregate.session_duration(df)\n",
    "duration_daily.sort_index(ascending=False).head()"
   ]
  },
  {
   "cell_type": "markdown",
   "id": "c334766a",
   "metadata": {},
   "source": [
    " To see the average time spent by users in each main product section (per month in this case), group by its [root_location](https://objectiv.io/docs/taxonomy/reference/location-contexts/RootLocationContext)."
   ]
  },
  {
   "cell_type": "code",
   "execution_count": 51,
   "id": "4f929f0a",
   "metadata": {},
   "outputs": [
    {
     "data": {
      "text/plain": [
       "application    root_location  time_aggregation\n",
       "objectiv-docs  docs           2022-02            0 days 00:04:43.481229\n",
       "               home           2022-02            0 days 00:04:55.833541\n",
       "                              2022-03            0 days 00:03:15.469159\n",
       "                              2022-04            0 days 00:02:24.079984\n",
       "                              2022-05            0 days 00:02:28.704679\n",
       "                              2022-06            0 days 00:01:28.630640\n",
       "               modeling       2022-02            0 days 00:05:02.093571\n",
       "                              2022-03            0 days 00:07:10.507312\n",
       "                              2022-04            0 days 00:05:22.437091\n",
       "                              2022-05            0 days 00:04:39.967000\n",
       "Name: session_duration, dtype: timedelta64[ns]"
      ]
     },
     "execution_count": 51,
     "metadata": {},
     "output_type": "execute_result"
    }
   ],
   "source": [
    "# duration, monthly average per root_location\n",
    "duration_root_month = modelhub.aggregate.session_duration(df, groupby=['application', 'root_location', modelhub.time_agg(df, '%Y-%m')]).sort_index()\n",
    "duration_root_month.head(10)"
   ]
  },
  {
   "cell_type": "code",
   "execution_count": 52,
   "id": "8e2c4158",
   "metadata": {},
   "outputs": [
    {
     "data": {
      "text/plain": [
       "q\n",
       "0.25   0 days 00:00:00.480000\n",
       "0.50   0 days 00:00:06.885000\n",
       "0.75   0 days 00:01:19.166000\n",
       "Name: session_duration, dtype: timedelta64[ns]"
      ]
     },
     "execution_count": 52,
     "metadata": {},
     "output_type": "execute_result"
    }
   ],
   "source": [
    "# how is the overall time spent distributed?\n",
    "session_duration = modelhub.aggregate.session_duration(df, groupby='session_id', exclude_bounces=False)\n",
    "# materialization is needed because the expression of the created Series contains aggregated data, and it is not allowed to aggregate that.\n",
    "session_duration.materialize().quantile(q=[0.25, 0.50, 0.75]).head()"
   ]
  },
  {
   "cell_type": "markdown",
   "id": "a6fa5e6a",
   "metadata": {},
   "source": [
    "### Reference\n",
    "* [modelhub.Aggregate.session_duration](https://objectiv.io/docs/modeling/open-model-hub/models/aggregation/session_duration/)\n",
    "* [bach.DataFrame.sort_index](https://objectiv.io/docs/modeling/bach/api-reference/DataFrame/sort_index/)\n",
    "* [bach.DataFrame.head](https://objectiv.io/docs/modeling/bach/api-reference/DataFrame/head/)\n",
    "* [bach.DataFrame.groupby](https://objectiv.io/docs/modeling/bach/api-reference/DataFrame/groupby/)\n",
    "* [bach.DataFrame.materialize](https://objectiv.io/docs/modeling/bach/api-reference/DataFrame/materialize/)"
   ]
  },
  {
   "cell_type": "markdown",
   "id": "c0e6a29a",
   "metadata": {},
   "source": [
    "## Top used product features"
   ]
  },
  {
   "cell_type": "markdown",
   "id": "58e63222",
   "metadata": {},
   "source": [
    "To see which features are most used, we can use the [top_product_features model](https://objectiv.io/docs/modeling/open-model-hub/models/aggregation/top_product_features/). "
   ]
  },
  {
   "cell_type": "code",
   "execution_count": 53,
   "id": "a19d8210",
   "metadata": {},
   "outputs": [
    {
     "data": {
      "text/html": [
       "<div>\n",
       "<style scoped>\n",
       "    .dataframe tbody tr th:only-of-type {\n",
       "        vertical-align: middle;\n",
       "    }\n",
       "\n",
       "    .dataframe tbody tr th {\n",
       "        vertical-align: top;\n",
       "    }\n",
       "\n",
       "    .dataframe thead th {\n",
       "        text-align: right;\n",
       "    }\n",
       "</style>\n",
       "<table border=\"1\" class=\"dataframe\">\n",
       "  <thead>\n",
       "    <tr style=\"text-align: right;\">\n",
       "      <th></th>\n",
       "      <th></th>\n",
       "      <th></th>\n",
       "      <th>user_id_nunique</th>\n",
       "    </tr>\n",
       "    <tr>\n",
       "      <th>application</th>\n",
       "      <th>feature_nice_name</th>\n",
       "      <th>event_type</th>\n",
       "      <th></th>\n",
       "    </tr>\n",
       "  </thead>\n",
       "  <tbody>\n",
       "    <tr>\n",
       "      <th rowspan=\"5\" valign=\"top\">objectiv-website</th>\n",
       "      <th>Pressable: after located at Root Location: home =&gt; Content: capture-data =&gt; Content: data-capture-workflow-before-after</th>\n",
       "      <th>PressEvent</th>\n",
       "      <td>501</td>\n",
       "    </tr>\n",
       "    <tr>\n",
       "      <th>Pressable: after located at Root Location: home =&gt; Content: modeling =&gt; Content: modeling-workflow-before-after</th>\n",
       "      <th>PressEvent</th>\n",
       "      <td>301</td>\n",
       "    </tr>\n",
       "    <tr>\n",
       "      <th>Pressable: before located at Root Location: home =&gt; Content: capture-data =&gt; Content: data-capture-workflow-before-after</th>\n",
       "      <th>PressEvent</th>\n",
       "      <td>276</td>\n",
       "    </tr>\n",
       "    <tr>\n",
       "      <th>Pressable: hamburger located at Root Location: home =&gt; Navigation: navbar-top</th>\n",
       "      <th>PressEvent</th>\n",
       "      <td>274</td>\n",
       "    </tr>\n",
       "    <tr>\n",
       "      <th>Link: about-us located at Root Location: home =&gt; Navigation: navbar-top</th>\n",
       "      <th>PressEvent</th>\n",
       "      <td>269</td>\n",
       "    </tr>\n",
       "  </tbody>\n",
       "</table>\n",
       "</div>"
      ],
      "text/plain": [
       "                                                                                user_id_nunique\n",
       "application      feature_nice_name                                  event_type                 \n",
       "objectiv-website Pressable: after located at Root Location: home... PressEvent              501\n",
       "                 Pressable: after located at Root Location: home... PressEvent              301\n",
       "                 Pressable: before located at Root Location: hom... PressEvent              276\n",
       "                 Pressable: hamburger located at Root Location: ... PressEvent              274\n",
       "                 Link: about-us located at Root Location: home =... PressEvent              269"
      ]
     },
     "execution_count": 53,
     "metadata": {},
     "output_type": "execute_result"
    }
   ],
   "source": [
    "# see top used product features - by default we select only user actions (InteractiveEvents)\n",
    "top_product_features = modelhub.aggregate.top_product_features(df)\n",
    "top_product_features.head()"
   ]
  },
  {
   "cell_type": "markdown",
   "id": "dcf82009",
   "metadata": {},
   "source": [
    "### Top used features per product area\n",
    "We also want to look at which features were used most in our top product areas."
   ]
  },
  {
   "cell_type": "code",
   "execution_count": 54,
   "id": "a757be5a",
   "metadata": {},
   "outputs": [],
   "source": [
    "# select only user actions, so stack_event_types must contain 'InteractiveEvent'\n",
    "interactive_events = df[df.stack_event_types.json.array_contains('InteractiveEvent')]\n",
    "# from these interactions, get the number of unique users per application, root_location, feature, and event type.\n",
    "top_interactions = modelhub.agg.unique_users(interactive_events, groupby=['application','root_location','feature_nice_name', 'event_type'])\n",
    "top_interactions = top_interactions.reset_index()"
   ]
  },
  {
   "cell_type": "code",
   "execution_count": 55,
   "id": "3ba9b3cf",
   "metadata": {},
   "outputs": [
    {
     "data": {
      "text/html": [
       "<div>\n",
       "<style scoped>\n",
       "    .dataframe tbody tr th:only-of-type {\n",
       "        vertical-align: middle;\n",
       "    }\n",
       "\n",
       "    .dataframe tbody tr th {\n",
       "        vertical-align: top;\n",
       "    }\n",
       "\n",
       "    .dataframe thead th {\n",
       "        text-align: right;\n",
       "    }\n",
       "</style>\n",
       "<table border=\"1\" class=\"dataframe\">\n",
       "  <thead>\n",
       "    <tr style=\"text-align: right;\">\n",
       "      <th></th>\n",
       "      <th>application</th>\n",
       "      <th>root_location</th>\n",
       "      <th>feature_nice_name</th>\n",
       "      <th>event_type</th>\n",
       "      <th>unique_users</th>\n",
       "    </tr>\n",
       "  </thead>\n",
       "  <tbody>\n",
       "    <tr>\n",
       "      <th>0</th>\n",
       "      <td>objectiv-website</td>\n",
       "      <td>home</td>\n",
       "      <td>Pressable: after located at Root Location: hom...</td>\n",
       "      <td>PressEvent</td>\n",
       "      <td>501</td>\n",
       "    </tr>\n",
       "    <tr>\n",
       "      <th>1</th>\n",
       "      <td>objectiv-website</td>\n",
       "      <td>home</td>\n",
       "      <td>Pressable: after located at Root Location: hom...</td>\n",
       "      <td>PressEvent</td>\n",
       "      <td>301</td>\n",
       "    </tr>\n",
       "    <tr>\n",
       "      <th>2</th>\n",
       "      <td>objectiv-website</td>\n",
       "      <td>home</td>\n",
       "      <td>Pressable: before located at Root Location: ho...</td>\n",
       "      <td>PressEvent</td>\n",
       "      <td>276</td>\n",
       "    </tr>\n",
       "    <tr>\n",
       "      <th>3</th>\n",
       "      <td>objectiv-website</td>\n",
       "      <td>home</td>\n",
       "      <td>Pressable: hamburger located at Root Location:...</td>\n",
       "      <td>PressEvent</td>\n",
       "      <td>274</td>\n",
       "    </tr>\n",
       "    <tr>\n",
       "      <th>4</th>\n",
       "      <td>objectiv-website</td>\n",
       "      <td>home</td>\n",
       "      <td>Link: about-us located at Root Location: home ...</td>\n",
       "      <td>PressEvent</td>\n",
       "      <td>269</td>\n",
       "    </tr>\n",
       "  </tbody>\n",
       "</table>\n",
       "</div>"
      ],
      "text/plain": [
       "        application root_location  \\\n",
       "0  objectiv-website          home   \n",
       "1  objectiv-website          home   \n",
       "2  objectiv-website          home   \n",
       "3  objectiv-website          home   \n",
       "4  objectiv-website          home   \n",
       "\n",
       "                                   feature_nice_name  event_type  unique_users  \n",
       "0  Pressable: after located at Root Location: hom...  PressEvent           501  \n",
       "1  Pressable: after located at Root Location: hom...  PressEvent           301  \n",
       "2  Pressable: before located at Root Location: ho...  PressEvent           276  \n",
       "3  Pressable: hamburger located at Root Location:...  PressEvent           274  \n",
       "4  Link: about-us located at Root Location: home ...  PressEvent           269  "
      ]
     },
     "execution_count": 55,
     "metadata": {},
     "output_type": "execute_result"
    }
   ],
   "source": [
    "# let's look at the homepage on our website\n",
    "home_users = top_interactions[(top_interactions.application == 'objectiv-website') &\n",
    "                              (top_interactions.root_location == 'home')]\n",
    "home_users.sort_values('unique_users', ascending=False).head()"
   ]
  },
  {
   "cell_type": "markdown",
   "id": "e9e5de5a",
   "metadata": {},
   "source": [
    "From the same `top_interactions` object, we can see the top used features on our documentation, which is a separate application."
   ]
  },
  {
   "cell_type": "code",
   "execution_count": 56,
   "id": "3f8c4ae0",
   "metadata": {},
   "outputs": [
    {
     "data": {
      "text/html": [
       "<div>\n",
       "<style scoped>\n",
       "    .dataframe tbody tr th:only-of-type {\n",
       "        vertical-align: middle;\n",
       "    }\n",
       "\n",
       "    .dataframe tbody tr th {\n",
       "        vertical-align: top;\n",
       "    }\n",
       "\n",
       "    .dataframe thead th {\n",
       "        text-align: right;\n",
       "    }\n",
       "</style>\n",
       "<table border=\"1\" class=\"dataframe\">\n",
       "  <thead>\n",
       "    <tr style=\"text-align: right;\">\n",
       "      <th></th>\n",
       "      <th>application</th>\n",
       "      <th>root_location</th>\n",
       "      <th>feature_nice_name</th>\n",
       "      <th>event_type</th>\n",
       "      <th>unique_users</th>\n",
       "    </tr>\n",
       "  </thead>\n",
       "  <tbody>\n",
       "    <tr>\n",
       "      <th>0</th>\n",
       "      <td>objectiv-docs</td>\n",
       "      <td>home</td>\n",
       "      <td>Link: Quickstart Guide located at Root Locatio...</td>\n",
       "      <td>PressEvent</td>\n",
       "      <td>96</td>\n",
       "    </tr>\n",
       "    <tr>\n",
       "      <th>1</th>\n",
       "      <td>objectiv-docs</td>\n",
       "      <td>home</td>\n",
       "      <td>Link: logo located at Root Location: home =&gt; N...</td>\n",
       "      <td>PressEvent</td>\n",
       "      <td>65</td>\n",
       "    </tr>\n",
       "    <tr>\n",
       "      <th>2</th>\n",
       "      <td>objectiv-docs</td>\n",
       "      <td>home</td>\n",
       "      <td>Link: Tracking located at Root Location: home ...</td>\n",
       "      <td>PressEvent</td>\n",
       "      <td>64</td>\n",
       "    </tr>\n",
       "    <tr>\n",
       "      <th>3</th>\n",
       "      <td>objectiv-docs</td>\n",
       "      <td>modeling</td>\n",
       "      <td>Link: Taxonomy located at Root Location: model...</td>\n",
       "      <td>PressEvent</td>\n",
       "      <td>62</td>\n",
       "    </tr>\n",
       "    <tr>\n",
       "      <th>4</th>\n",
       "      <td>objectiv-docs</td>\n",
       "      <td>modeling</td>\n",
       "      <td>Link: Tracking located at Root Location: model...</td>\n",
       "      <td>PressEvent</td>\n",
       "      <td>60</td>\n",
       "    </tr>\n",
       "  </tbody>\n",
       "</table>\n",
       "</div>"
      ],
      "text/plain": [
       "     application root_location  \\\n",
       "0  objectiv-docs          home   \n",
       "1  objectiv-docs          home   \n",
       "2  objectiv-docs          home   \n",
       "3  objectiv-docs      modeling   \n",
       "4  objectiv-docs      modeling   \n",
       "\n",
       "                                   feature_nice_name  event_type  unique_users  \n",
       "0  Link: Quickstart Guide located at Root Locatio...  PressEvent            96  \n",
       "1  Link: logo located at Root Location: home => N...  PressEvent            65  \n",
       "2  Link: Tracking located at Root Location: home ...  PressEvent            64  \n",
       "3  Link: Taxonomy located at Root Location: model...  PressEvent            62  \n",
       "4  Link: Tracking located at Root Location: model...  PressEvent            60  "
      ]
     },
     "execution_count": 56,
     "metadata": {},
     "output_type": "execute_result"
    }
   ],
   "source": [
    "# see the top used features on our documentation application\n",
    "docs_users = top_interactions[top_interactions.application == 'objectiv-docs']\n",
    "docs_users.sort_values('unique_users', ascending=False).head()"
   ]
  },
  {
   "cell_type": "markdown",
   "id": "00a75abc",
   "metadata": {},
   "source": [
    "### Reference\n",
    "* [modelhub.Aggregate.top_product_features](https://objectiv.io/docs/modeling/open-model-hub/models/aggregation/top_product_features/)\n",
    "* [bach.SeriesJson.json.array_contains](https://objectiv.io/docs/modeling/bach/api-reference/Series/Json/json/#array_contains)\n",
    "* [modelhub.Aggregate.unique_users](https://objectiv.io/docs/modeling/open-model-hub/models/aggregation/unique_users/)\n",
    "* [bach.DataFrame.reset_index](https://objectiv.io/docs/modeling/bach/api-reference/DataFrame/reset_index/)\n",
    "* [bach.DataFrame.sort_values](https://objectiv.io/docs/modeling/bach/api-reference/DataFrame/sort_values/)"
   ]
  },
  {
   "cell_type": "markdown",
   "id": "3bda262d",
   "metadata": {},
   "source": [
    "## Conversions\n",
    "Users have impact on product goals, e.g. conversion to a signup. Here we look at their conversion to such goals. First you define a conversion event, which in this example we've defined as clicking a link to our GitHub repo."
   ]
  },
  {
   "cell_type": "code",
   "execution_count": 57,
   "id": "897180ac",
   "metadata": {
    "scrolled": true
   },
   "outputs": [],
   "source": [
    "# create a column that extracts all location stacks that lead to our GitHub repo\n",
    "df['github_press'] = df.location_stack.json[{'id': 'objectiv-on-github', '_type': 'LinkContext'}:]\n",
    "df.loc[df.location_stack.json[{'id': 'github', '_type': 'LinkContext'}:]!=[],'github_press'] = df.location_stack\n",
    "# define which events to use as conversion events\n",
    "modelhub.add_conversion_event(location_stack=df.github_press,\n",
    "                              event_type='PressEvent',\n",
    "                              name='github_press')"
   ]
  },
  {
   "cell_type": "markdown",
   "id": "b8fd7827",
   "metadata": {},
   "source": [
    "This conversion event can then be used by several models using the defined name ('github_press'). First we calculate the number of unique converted users."
   ]
  },
  {
   "cell_type": "code",
   "execution_count": 58,
   "id": "f4f6f7e7",
   "metadata": {},
   "outputs": [
    {
     "data": {
      "text/html": [
       "<div>\n",
       "<style scoped>\n",
       "    .dataframe tbody tr th:only-of-type {\n",
       "        vertical-align: middle;\n",
       "    }\n",
       "\n",
       "    .dataframe tbody tr th {\n",
       "        vertical-align: top;\n",
       "    }\n",
       "\n",
       "    .dataframe thead th {\n",
       "        text-align: right;\n",
       "    }\n",
       "</style>\n",
       "<table border=\"1\" class=\"dataframe\">\n",
       "  <thead>\n",
       "    <tr style=\"text-align: right;\">\n",
       "      <th></th>\n",
       "      <th>unique_users</th>\n",
       "    </tr>\n",
       "    <tr>\n",
       "      <th>time_aggregation</th>\n",
       "      <th></th>\n",
       "    </tr>\n",
       "  </thead>\n",
       "  <tbody>\n",
       "    <tr>\n",
       "      <th>2022-06-27</th>\n",
       "      <td>1</td>\n",
       "    </tr>\n",
       "    <tr>\n",
       "      <th>2022-06-24</th>\n",
       "      <td>2</td>\n",
       "    </tr>\n",
       "    <tr>\n",
       "      <th>2022-06-21</th>\n",
       "      <td>2</td>\n",
       "    </tr>\n",
       "    <tr>\n",
       "      <th>2022-06-19</th>\n",
       "      <td>1</td>\n",
       "    </tr>\n",
       "    <tr>\n",
       "      <th>2022-06-17</th>\n",
       "      <td>1</td>\n",
       "    </tr>\n",
       "    <tr>\n",
       "      <th>2022-06-16</th>\n",
       "      <td>1</td>\n",
       "    </tr>\n",
       "    <tr>\n",
       "      <th>2022-06-14</th>\n",
       "      <td>1</td>\n",
       "    </tr>\n",
       "    <tr>\n",
       "      <th>2022-06-10</th>\n",
       "      <td>2</td>\n",
       "    </tr>\n",
       "    <tr>\n",
       "      <th>2022-06-07</th>\n",
       "      <td>1</td>\n",
       "    </tr>\n",
       "    <tr>\n",
       "      <th>2022-06-03</th>\n",
       "      <td>1</td>\n",
       "    </tr>\n",
       "  </tbody>\n",
       "</table>\n",
       "</div>"
      ],
      "text/plain": [
       "                  unique_users\n",
       "time_aggregation              \n",
       "2022-06-27                   1\n",
       "2022-06-24                   2\n",
       "2022-06-21                   2\n",
       "2022-06-19                   1\n",
       "2022-06-17                   1\n",
       "2022-06-16                   1\n",
       "2022-06-14                   1\n",
       "2022-06-10                   2\n",
       "2022-06-07                   1\n",
       "2022-06-03                   1"
      ]
     },
     "execution_count": 58,
     "metadata": {},
     "output_type": "execute_result"
    }
   ],
   "source": [
    "# number of conversions, daily\n",
    "df['is_conversion_event'] = modelhub.map.is_conversion_event(df, 'github_press')\n",
    "conversions = modelhub.aggregate.unique_users(df[df.is_conversion_event])\n",
    "conversions.to_frame().sort_index(ascending=False).head(10)"
   ]
  },
  {
   "cell_type": "markdown",
   "id": "6ee9995c",
   "metadata": {},
   "source": [
    "### Conversion rate\n",
    "To calculate the daily conversion rate, we use the earlier created `daily_users` DataFrame."
   ]
  },
  {
   "cell_type": "code",
   "execution_count": 59,
   "id": "f4fa4649-1300-4647-bd67-616e95bc96d6",
   "metadata": {},
   "outputs": [
    {
     "data": {
      "text/plain": [
       "time_aggregation\n",
       "2022-06-30         NaN\n",
       "2022-06-29         NaN\n",
       "2022-06-28         NaN\n",
       "2022-06-27    0.062500\n",
       "2022-06-26         NaN\n",
       "2022-06-25         NaN\n",
       "2022-06-24    0.095238\n",
       "2022-06-23         NaN\n",
       "2022-06-22         NaN\n",
       "2022-06-21    0.033333\n",
       "Name: unique_users, dtype: float64"
      ]
     },
     "execution_count": 59,
     "metadata": {},
     "output_type": "execute_result"
    }
   ],
   "source": [
    "# conversion rate, daily\n",
    "conversion_rate = conversions / daily_users\n",
    "conversion_rate.sort_index(ascending=False).head(10)"
   ]
  },
  {
   "cell_type": "markdown",
   "id": "cbc4e9a4",
   "metadata": {},
   "source": [
    "### Conversion by product feature\n",
    "Let's understand which product features are used most by converted users."
   ]
  },
  {
   "cell_type": "code",
   "execution_count": 63,
   "id": "88a0e85b",
   "metadata": {},
   "outputs": [
    {
     "data": {
      "text/html": [
       "<div>\n",
       "<style scoped>\n",
       "    .dataframe tbody tr th:only-of-type {\n",
       "        vertical-align: middle;\n",
       "    }\n",
       "\n",
       "    .dataframe tbody tr th {\n",
       "        vertical-align: top;\n",
       "    }\n",
       "\n",
       "    .dataframe thead th {\n",
       "        text-align: right;\n",
       "    }\n",
       "</style>\n",
       "<table border=\"1\" class=\"dataframe\">\n",
       "  <thead>\n",
       "    <tr style=\"text-align: right;\">\n",
       "      <th></th>\n",
       "      <th></th>\n",
       "      <th></th>\n",
       "      <th>unique_users</th>\n",
       "    </tr>\n",
       "    <tr>\n",
       "      <th>application</th>\n",
       "      <th>feature_nice_name</th>\n",
       "      <th>event_type</th>\n",
       "      <th></th>\n",
       "    </tr>\n",
       "  </thead>\n",
       "  <tbody>\n",
       "    <tr>\n",
       "      <th rowspan=\"5\" valign=\"top\">objectiv-website</th>\n",
       "      <th>Link: github located at Root Location: home =&gt; Navigation: navbar-top</th>\n",
       "      <th>PressEvent</th>\n",
       "      <td>71</td>\n",
       "    </tr>\n",
       "    <tr>\n",
       "      <th>Link: github located at Root Location: home =&gt; Navigation: navbar-top =&gt; Overlay: hamburger-menu</th>\n",
       "      <th>PressEvent</th>\n",
       "      <td>32</td>\n",
       "    </tr>\n",
       "    <tr>\n",
       "      <th>Link: objectiv-on-github located at Root Location: home =&gt; Content: the-stack</th>\n",
       "      <th>PressEvent</th>\n",
       "      <td>19</td>\n",
       "    </tr>\n",
       "    <tr>\n",
       "      <th>Link: objectiv-on-github located at Root Location: blog =&gt; Content: post-meet-objectiv-open-source-product-analytics-designed-for-data-sc =&gt; Content: blog-post-try-objectiv</th>\n",
       "      <th>PressEvent</th>\n",
       "      <td>11</td>\n",
       "    </tr>\n",
       "    <tr>\n",
       "      <th>Link: github located at Root Location: blog =&gt; Navigation: navbar-top =&gt; Overlay: hamburger-menu</th>\n",
       "      <th>PressEvent</th>\n",
       "      <td>6</td>\n",
       "    </tr>\n",
       "  </tbody>\n",
       "</table>\n",
       "</div>"
      ],
      "text/plain": [
       "                                                                                unique_users\n",
       "application      feature_nice_name                                  event_type              \n",
       "objectiv-website Link: github located at Root Location: home => ... PressEvent            71\n",
       "                 Link: github located at Root Location: home => ... PressEvent            32\n",
       "                 Link: objectiv-on-github located at Root Locati... PressEvent            19\n",
       "                 Link: objectiv-on-github located at Root Locati... PressEvent            11\n",
       "                 Link: github located at Root Location: blog => ... PressEvent             6"
      ]
     },
     "execution_count": 63,
     "metadata": {},
     "output_type": "execute_result"
    }
   ],
   "source": [
    "# TODO\n",
    "conversion_locations = modelhub.agg.unique_users(df[df.is_conversion_event], \n",
    "                                                 groupby=['application', 'feature_nice_name', 'event_type'])\n",
    "\n",
    "# calling .to_frame() for nicer formatting\n",
    "conversion_locations.sort_values(ascending=False).to_frame().head()"
   ]
  },
  {
   "cell_type": "markdown",
   "id": "eeb9e9d4",
   "metadata": {},
   "source": [
    "## Events before conversion\n",
    "We can calculate what users did _before_ converting."
   ]
  },
  {
   "cell_type": "code",
   "execution_count": null,
   "id": "b6762c39",
   "metadata": {},
   "outputs": [],
   "source": [
    "top_features_before_conversion = modelhub.agg.top_product_features_before_conversion(df_acquisition, name='github_press')\n",
    "top_features_before_conversion.head()"
   ]
  },
  {
   "cell_type": "markdown",
   "id": "fb84157f",
   "metadata": {},
   "source": [
    "### Time spent before conversion\n",
    "At last we want to know how much time users that converted spent on our site before they converted."
   ]
  },
  {
   "cell_type": "code",
   "execution_count": null,
   "id": "191ead42",
   "metadata": {},
   "outputs": [],
   "source": [
    "# label sessions with a conversion\n",
    "df_acquisition['converted_users'] = modelhub.map.conversions_counter(df_acquisition, name='github_press') >= 1\n",
    "\n",
    "# label hits where at that point in time, there are 0 conversions in the session\n",
    "df_acquisition['zero_conversions_at_moment'] = modelhub.map.conversions_in_time(df_acquisition, 'github_press') == 0\n",
    "\n",
    "# filter on above created labels\n",
    "converted_users = df_acquisition[(df_acquisition.converted_users & df_acquisition.zero_conversions_at_moment)]\n",
    "\n",
    "# how much time do users spend before they convert?\n",
    "modelhub.aggregate.session_duration(converted_users, groupby=None).to_frame().head()"
   ]
  },
  {
   "cell_type": "markdown",
   "id": "6422c6bb",
   "metadata": {},
   "source": [
    "We create a copy of the original df, as to not clutter our original df with columns that are only required for acquisition analysis. "
   ]
  },
  {
   "cell_type": "markdown",
   "id": "16fb70a1",
   "metadata": {},
   "source": [
    "## TODO: Funnels"
   ]
  },
  {
   "cell_type": "markdown",
   "id": "31b3686c",
   "metadata": {},
   "source": [
    "## TODO: Marketing"
   ]
  },
  {
   "cell_type": "markdown",
   "id": "c4b5b4d2-d72b-4f10-9702-afe22015b74f",
   "metadata": {},
   "source": [
    "## Get the SQL for any analysis"
   ]
  },
  {
   "cell_type": "code",
   "execution_count": null,
   "id": "3503632c-bd17-462f-a7e2-9b27a390c673",
   "metadata": {},
   "outputs": [],
   "source": [
    "# just one analysis as an example, this works for anything you do with Objectiv Bach\n",
    "display_sql_as_markdown(conversions)"
   ]
  }
 ],
 "metadata": {
  "kernelspec": {
   "display_name": "Python 3 (ipykernel)",
   "language": "python",
   "name": "python3"
  },
  "language_info": {
   "codemirror_mode": {
    "name": "ipython",
    "version": 3
   },
   "file_extension": ".py",
   "mimetype": "text/x-python",
   "name": "python",
   "nbconvert_exporter": "python",
   "pygments_lexer": "ipython3",
   "version": "3.8.10"
  }
 },
 "nbformat": 4,
 "nbformat_minor": 5
}
