{
 "cells": [
  {
   "cell_type": "markdown",
   "id": "741991f3",
   "metadata": {},
   "source": [
    "This is one of the Objectiv [example notebooks](https://objectiv.io/docs/modeling/example-notebooks/). These notebooks can run [on your own data](https://objectiv.io/docs/modeling/get-started-in-your-notebook/), or you can instead run the [Demo](https://objectiv.io/docs/home/quickstart-guide/) to quickly try them out."
   ]
  },
  {
   "cell_type": "markdown",
   "id": "27a15962",
   "metadata": {},
   "source": [
    "# Funnel Discovery"
   ]
  },
  {
   "cell_type": "markdown",
   "id": "7a53065c",
   "metadata": {},
   "source": [
    "This example notebook shows how to use the 'Funnel Discovery' model on your data collected with Objectiv.\n",
    "\n",
    "In classical funnel analysis you predefine the steps, and then analyze the differences for user attributes or behavior in each step. However, this means you have to make assumptions about which steps matter, and you potentially miss important, impactful flows, e.g. because they are not very obvious or still small. Yet these can represent major opportunities to boost or optimize.\n",
    "\n",
    "This is where Funnel Discovery comes in: to discover all the (top) user journeys that lead to conversion, which do not, and run subsequent analyses on them.\n",
    "\n",
    "In particular, we will discover in this example:\n",
    "\n",
    "- The most popular consecutive steps overall;\n",
    "- The steps/flows which lead to conversion;\n",
    "- The most common drop-offs;\n",
    "- The top & bottom converting journeys coming from marketing campaigns;\n",
    "- Etcetera.\n",
    "\n",
    "To get started, we first have to instantiate the model hub and an Objectiv DataFrame object."
   ]
  },
  {
   "cell_type": "code",
   "execution_count": 43,
   "id": "4bd369f6",
   "metadata": {},
   "outputs": [],
   "source": [
    "from modelhub import ModelHub\n",
    "from bach import display_sql_as_markdown\n",
    "\n",
    "# instantiate the model hub and set the default time aggregation to daily\n",
    "modelhub = ModelHub(time_aggregation='%Y-%m-%d')\n",
    "# get a Bach DataFrame with Objectiv data within a defined timeframe\n",
    "df = modelhub.get_objectiv_dataframe(start_date='2022-02-01', end_date='2022-06-30')"
   ]
  },
  {
   "cell_type": "code",
   "execution_count": 44,
   "id": "da4ec1a0",
   "metadata": {},
   "outputs": [],
   "source": [
    "# add specific contexts to the data as columns\n",
    "df['application'] = df.global_contexts.gc.application\n",
    "df['feature_nice_name'] = df.location_stack.ls.nice_name"
   ]
  },
  {
   "cell_type": "code",
   "execution_count": 45,
   "id": "86d13350",
   "metadata": {},
   "outputs": [],
   "source": [
    "# select which event type to use for further analysis\n",
    "df = df[df['event_type'] == 'PressEvent']"
   ]
  },
  {
   "cell_type": "markdown",
   "id": "d88f2a06",
   "metadata": {},
   "source": [
    "### Reference\n",
    "* [modelhub.ModelHub.get_objectiv_dataframe](https://objectiv.io/docs/modeling/open-model-hub/api-reference/ModelHub/get_objectiv_dataframe/)\n",
    "* [modelhub.SeriesGlobalContexts.gc](https://objectiv.io/docs/modeling/open-model-hub/api-reference/SeriesGlobalContexts/gc/)\n",
    "* [modelhub.SeriesLocationStack.ls](https://objectiv.io/docs/modeling/open-model-hub/api-reference/SeriesLocationStack/ls/)"
   ]
  },
  {
   "cell_type": "markdown",
   "id": "6864ff88",
   "metadata": {},
   "source": [
    "## First: define conversion"
   ]
  },
  {
   "cell_type": "markdown",
   "id": "1b92eb2f",
   "metadata": {},
   "source": [
    "As a prerequisite for Funnel Discovery, define the events you see as conversion.\n",
    "\n",
    "In this example we will view someone as converted when they go on to read the documentation from our website."
   ]
  },
  {
   "cell_type": "code",
   "execution_count": 49,
   "id": "3f44b4d0",
   "metadata": {},
   "outputs": [],
   "source": [
    "# define which data to use as conversion events; in this example, anyone who goes on to read the documentation\n",
    "df['is_conversion_event'] = False\n",
    "df.loc[df['application'] == 'objectiv-docs', 'is_conversion_event'] = True"
   ]
  },
  {
   "cell_type": "markdown",
   "id": "a24eed6a",
   "metadata": {},
   "source": [
    "Out of curiousity, let's see which features are used by users that converted, sorted by their conversion impact."
   ]
  },
  {
   "cell_type": "code",
   "execution_count": 50,
   "id": "45e27d0e",
   "metadata": {},
   "outputs": [
    {
     "data": {
      "text/html": [
       "<div>\n",
       "<style scoped>\n",
       "    .dataframe tbody tr th:only-of-type {\n",
       "        vertical-align: middle;\n",
       "    }\n",
       "\n",
       "    .dataframe tbody tr th {\n",
       "        vertical-align: top;\n",
       "    }\n",
       "\n",
       "    .dataframe thead th {\n",
       "        text-align: right;\n",
       "    }\n",
       "</style>\n",
       "<table border=\"1\" class=\"dataframe\">\n",
       "  <thead>\n",
       "    <tr style=\"text-align: right;\">\n",
       "      <th></th>\n",
       "      <th>converted_users_percentage</th>\n",
       "    </tr>\n",
       "    <tr>\n",
       "      <th>feature_nice_name</th>\n",
       "      <th></th>\n",
       "    </tr>\n",
       "  </thead>\n",
       "  <tbody>\n",
       "    <tr>\n",
       "      <th>Link: Quickstart Guide located at Root Location: home =&gt; Navigation: docs-sidebar</th>\n",
       "      <td>15.946844</td>\n",
       "    </tr>\n",
       "    <tr>\n",
       "      <th>Link: logo located at Root Location: home =&gt; Navigation: navbar-top</th>\n",
       "      <td>10.797342</td>\n",
       "    </tr>\n",
       "    <tr>\n",
       "      <th>Link: Tracking located at Root Location: home =&gt; Navigation: navbar-top</th>\n",
       "      <td>10.631229</td>\n",
       "    </tr>\n",
       "    <tr>\n",
       "      <th>Link: Taxonomy located at Root Location: modeling =&gt; Navigation: navbar-top</th>\n",
       "      <td>10.299003</td>\n",
       "    </tr>\n",
       "    <tr>\n",
       "      <th>Link: Modeling located at Root Location: tracking =&gt; Navigation: navbar-top</th>\n",
       "      <td>9.966777</td>\n",
       "    </tr>\n",
       "  </tbody>\n",
       "</table>\n",
       "</div>"
      ],
      "text/plain": [
       "                                                    converted_users_percentage\n",
       "feature_nice_name                                                             \n",
       "Link: Quickstart Guide located at Root Location...                   15.946844\n",
       "Link: logo located at Root Location: home => Na...                   10.797342\n",
       "Link: Tracking located at Root Location: home =...                   10.631229\n",
       "Link: Taxonomy located at Root Location: modeli...                   10.299003\n",
       "Link: Modeling located at Root Location: tracki...                    9.966777"
      ]
     },
     "execution_count": 50,
     "metadata": {},
     "output_type": "execute_result"
    }
   ],
   "source": [
    "# calculate the percentage of converted users per feature: (converted users per feature) / (total users converted)\n",
    "total_converted_users = df[df['is_conversion_event']]['user_id'].unique().count().value\n",
    "top_conversion_locations = modelhub.agg.unique_users(df[df['is_conversion_event']], \n",
    "                                                     groupby='feature_nice_name')\n",
    "top_conversion_locations = (top_conversion_locations / total_converted_users) * 100\n",
    "\n",
    "# show the results, with .to_frame() for nicer formatting\n",
    "top_conversion_locations = top_conversion_locations.to_frame().rename(\n",
    "    columns={'unique_users': 'converted_users_percentage'})\n",
    "top_conversion_locations.sort_values(by='converted_users_percentage', ascending=False).head()"
   ]
  },
  {
   "cell_type": "markdown",
   "id": "c9ae2e44",
   "metadata": {},
   "source": [
    "### Reference\n",
    "* [bach.Series.unique](https://objectiv.io/docs/modeling/bach/api-reference/Series/unique/)\n",
    "* [bach.DataFrame.count](https://objectiv.io/docs/modeling/bach/api-reference/DataFrame/count/)\n",
    "* [modelhub.Aggregate.unique_users](https://objectiv.io/docs/modeling/open-model-hub/models/aggregation/unique_users/)\n",
    "* [bach.Series.to_frame](https://objectiv.io/docs/modeling/bach/api-reference/Series/to_frame/)\n",
    "* [bach.DataFrame.rename](https://objectiv.io/docs/modeling/bach/api-reference/DataFrame/rename/)\n",
    "* [bach.DataFrame.sort_values](https://objectiv.io/docs/modeling/bach/api-reference/DataFrame/sort_values/)"
   ]
  },
  {
   "cell_type": "markdown",
   "id": "0fe817bf",
   "metadata": {},
   "source": [
    "## See step sequences per user"
   ]
  },
  {
   "cell_type": "markdown",
   "id": "fa673673",
   "metadata": {},
   "source": [
    "Before we see what converted and what didn't, let's have a look at which consecutive steps each user took (aka the features they used) in general, after starting their session, based on the [location stack](https://objectiv.io/docs/tracking/core-concepts/locations). We have to specify the maximum n steps, and use the [get_navigation_paths](TODO) operation."
   ]
  },
  {
   "cell_type": "code",
   "execution_count": 57,
   "id": "1cd0f5ad",
   "metadata": {},
   "outputs": [],
   "source": [
    "# Instantiate the FunnelDiscovery model from the open model hub\n",
    "funnel = modelhub.get_funnel_discovery()"
   ]
  },
  {
   "cell_type": "code",
   "execution_count": 58,
   "id": "66297c7f",
   "metadata": {},
   "outputs": [
    {
     "data": {
      "text/html": [
       "<div>\n",
       "<style scoped>\n",
       "    .dataframe tbody tr th:only-of-type {\n",
       "        vertical-align: middle;\n",
       "    }\n",
       "\n",
       "    .dataframe tbody tr th {\n",
       "        vertical-align: top;\n",
       "    }\n",
       "\n",
       "    .dataframe thead th {\n",
       "        text-align: right;\n",
       "    }\n",
       "</style>\n",
       "<table border=\"1\" class=\"dataframe\">\n",
       "  <thead>\n",
       "    <tr style=\"text-align: right;\">\n",
       "      <th></th>\n",
       "      <th>location_stack_step_1</th>\n",
       "      <th>location_stack_step_2</th>\n",
       "      <th>location_stack_step_3</th>\n",
       "      <th>location_stack_step_4</th>\n",
       "    </tr>\n",
       "    <tr>\n",
       "      <th>user_id</th>\n",
       "      <th></th>\n",
       "      <th></th>\n",
       "      <th></th>\n",
       "      <th></th>\n",
       "    </tr>\n",
       "  </thead>\n",
       "  <tbody>\n",
       "    <tr>\n",
       "      <th>0000bb2f-66e9-4e48-8e2f-7d0a82446ef4</th>\n",
       "      <td>Link: about-us located at Root Location: home ...</td>\n",
       "      <td>Link: logo located at Root Location: about =&gt; ...</td>\n",
       "      <td>None</td>\n",
       "      <td>None</td>\n",
       "    </tr>\n",
       "    <tr>\n",
       "      <th>0000bb2f-66e9-4e48-8e2f-7d0a82446ef4</th>\n",
       "      <td>Link: logo located at Root Location: about =&gt; ...</td>\n",
       "      <td>None</td>\n",
       "      <td>None</td>\n",
       "      <td>None</td>\n",
       "    </tr>\n",
       "    <tr>\n",
       "      <th>00529837-d672-4747-9b87-fd09f2919326</th>\n",
       "      <td>Link: blog located at Root Location: home =&gt; N...</td>\n",
       "      <td>Pressable: after located at Root Location: hom...</td>\n",
       "      <td>Link: spin-up-the-demo located at Root Locatio...</td>\n",
       "      <td>Link: blog located at Root Location: home =&gt; N...</td>\n",
       "    </tr>\n",
       "    <tr>\n",
       "      <th>00529837-d672-4747-9b87-fd09f2919326</th>\n",
       "      <td>Pressable: after located at Root Location: hom...</td>\n",
       "      <td>Link: spin-up-the-demo located at Root Locatio...</td>\n",
       "      <td>Link: blog located at Root Location: home =&gt; N...</td>\n",
       "      <td>Link: docs located at Root Location: blog =&gt; N...</td>\n",
       "    </tr>\n",
       "    <tr>\n",
       "      <th>00529837-d672-4747-9b87-fd09f2919326</th>\n",
       "      <td>Link: spin-up-the-demo located at Root Locatio...</td>\n",
       "      <td>Link: blog located at Root Location: home =&gt; N...</td>\n",
       "      <td>Link: docs located at Root Location: blog =&gt; N...</td>\n",
       "      <td>Link: bach-and-sklearn located at Root Locatio...</td>\n",
       "    </tr>\n",
       "  </tbody>\n",
       "</table>\n",
       "</div>"
      ],
      "text/plain": [
       "                                                                  location_stack_step_1  \\\n",
       "user_id                                                                                   \n",
       "0000bb2f-66e9-4e48-8e2f-7d0a82446ef4  Link: about-us located at Root Location: home ...   \n",
       "0000bb2f-66e9-4e48-8e2f-7d0a82446ef4  Link: logo located at Root Location: about => ...   \n",
       "00529837-d672-4747-9b87-fd09f2919326  Link: blog located at Root Location: home => N...   \n",
       "00529837-d672-4747-9b87-fd09f2919326  Pressable: after located at Root Location: hom...   \n",
       "00529837-d672-4747-9b87-fd09f2919326  Link: spin-up-the-demo located at Root Locatio...   \n",
       "\n",
       "                                                                  location_stack_step_2  \\\n",
       "user_id                                                                                   \n",
       "0000bb2f-66e9-4e48-8e2f-7d0a82446ef4  Link: logo located at Root Location: about => ...   \n",
       "0000bb2f-66e9-4e48-8e2f-7d0a82446ef4                                               None   \n",
       "00529837-d672-4747-9b87-fd09f2919326  Pressable: after located at Root Location: hom...   \n",
       "00529837-d672-4747-9b87-fd09f2919326  Link: spin-up-the-demo located at Root Locatio...   \n",
       "00529837-d672-4747-9b87-fd09f2919326  Link: blog located at Root Location: home => N...   \n",
       "\n",
       "                                                                  location_stack_step_3  \\\n",
       "user_id                                                                                   \n",
       "0000bb2f-66e9-4e48-8e2f-7d0a82446ef4                                               None   \n",
       "0000bb2f-66e9-4e48-8e2f-7d0a82446ef4                                               None   \n",
       "00529837-d672-4747-9b87-fd09f2919326  Link: spin-up-the-demo located at Root Locatio...   \n",
       "00529837-d672-4747-9b87-fd09f2919326  Link: blog located at Root Location: home => N...   \n",
       "00529837-d672-4747-9b87-fd09f2919326  Link: docs located at Root Location: blog => N...   \n",
       "\n",
       "                                                                  location_stack_step_4  \n",
       "user_id                                                                                  \n",
       "0000bb2f-66e9-4e48-8e2f-7d0a82446ef4                                               None  \n",
       "0000bb2f-66e9-4e48-8e2f-7d0a82446ef4                                               None  \n",
       "00529837-d672-4747-9b87-fd09f2919326  Link: blog located at Root Location: home => N...  \n",
       "00529837-d672-4747-9b87-fd09f2919326  Link: docs located at Root Location: blog => N...  \n",
       "00529837-d672-4747-9b87-fd09f2919326  Link: bach-and-sklearn located at Root Locatio...  "
      ]
     },
     "execution_count": 58,
     "metadata": {},
     "output_type": "execute_result"
    }
   ],
   "source": [
    "# For every user starting their session, find all maximum 4 consecutive steps they took\n",
    "max_steps = 4\n",
    "df_steps = funnel.get_navigation_paths(df, steps=max_steps, by='user_id')\n",
    "df_steps.head()"
   ]
  },
  {
   "cell_type": "markdown",
   "id": "bd52ce56",
   "metadata": {},
   "source": [
    "### Reference\n",
    "* [modelhub.models.funnel_discovery.get_funnel_discovery](TODO)\n",
    "* [modelhub.models.funnel_discovery.get_navigation_paths](TODO)"
   ]
  },
  {
   "cell_type": "markdown",
   "id": "958d991f",
   "metadata": {},
   "source": [
    "## See top step sequences for all users"
   ]
  },
  {
   "cell_type": "markdown",
   "id": "73637d50",
   "metadata": {},
   "source": [
    "For the bigger picture, calculate the most frequent consecutive steps that all users took after starting their session, based on the [location stack](https://objectiv.io/docs/tracking/core-concepts/locations)."
   ]
  },
  {
   "cell_type": "code",
   "execution_count": 60,
   "id": "beb31893",
   "metadata": {
    "scrolled": true
   },
   "outputs": [
    {
     "data": {
      "text/html": [
       "<div>\n",
       "<style scoped>\n",
       "    .dataframe tbody tr th:only-of-type {\n",
       "        vertical-align: middle;\n",
       "    }\n",
       "\n",
       "    .dataframe tbody tr th {\n",
       "        vertical-align: top;\n",
       "    }\n",
       "\n",
       "    .dataframe thead th {\n",
       "        text-align: right;\n",
       "    }\n",
       "</style>\n",
       "<table border=\"1\" class=\"dataframe\">\n",
       "  <thead>\n",
       "    <tr style=\"text-align: right;\">\n",
       "      <th></th>\n",
       "      <th></th>\n",
       "      <th></th>\n",
       "      <th></th>\n",
       "      <th>value_counts</th>\n",
       "    </tr>\n",
       "    <tr>\n",
       "      <th>location_stack_step_1</th>\n",
       "      <th>location_stack_step_2</th>\n",
       "      <th>location_stack_step_3</th>\n",
       "      <th>location_stack_step_4</th>\n",
       "      <th></th>\n",
       "    </tr>\n",
       "  </thead>\n",
       "  <tbody>\n",
       "    <tr>\n",
       "      <th>Pressable: after located at Root Location: home =&gt; Content: capture-data =&gt; Content: data-capture-workflow-before-after</th>\n",
       "      <th>NaN</th>\n",
       "      <th>NaN</th>\n",
       "      <th>NaN</th>\n",
       "      <td>154</td>\n",
       "    </tr>\n",
       "    <tr>\n",
       "      <th>Pressable: after located at Root Location: home =&gt; Content: modeling =&gt; Content: modeling-workflow-before-after</th>\n",
       "      <th>NaN</th>\n",
       "      <th>NaN</th>\n",
       "      <th>NaN</th>\n",
       "      <td>126</td>\n",
       "    </tr>\n",
       "    <tr>\n",
       "      <th>Link: about-us located at Root Location: home =&gt; Navigation: navbar-top</th>\n",
       "      <th>NaN</th>\n",
       "      <th>NaN</th>\n",
       "      <th>NaN</th>\n",
       "      <td>68</td>\n",
       "    </tr>\n",
       "    <tr>\n",
       "      <th>Pressable: hamburger located at Root Location: home =&gt; Navigation: navbar-top</th>\n",
       "      <th>NaN</th>\n",
       "      <th>NaN</th>\n",
       "      <th>NaN</th>\n",
       "      <td>63</td>\n",
       "    </tr>\n",
       "    <tr>\n",
       "      <th>Pressable: before located at Root Location: home =&gt; Content: capture-data =&gt; Content: data-capture-workflow-before-after</th>\n",
       "      <th>NaN</th>\n",
       "      <th>NaN</th>\n",
       "      <th>NaN</th>\n",
       "      <td>54</td>\n",
       "    </tr>\n",
       "    <tr>\n",
       "      <th>Link: logo located at Root Location: home =&gt; Navigation: navbar-top</th>\n",
       "      <th>NaN</th>\n",
       "      <th>NaN</th>\n",
       "      <th>NaN</th>\n",
       "      <td>52</td>\n",
       "    </tr>\n",
       "    <tr>\n",
       "      <th>Pressable: before located at Root Location: home =&gt; Content: capture-data =&gt; Content: data-capture-workflow-before-after</th>\n",
       "      <th>Pressable: after located at Root Location: home =&gt; Content: capture-data =&gt; Content: data-capture-workflow-before-after</th>\n",
       "      <th>NaN</th>\n",
       "      <th>NaN</th>\n",
       "      <td>49</td>\n",
       "    </tr>\n",
       "    <tr>\n",
       "      <th rowspan=\"2\" valign=\"top\">Pressable: after located at Root Location: home =&gt; Content: capture-data =&gt; Content: data-capture-workflow-before-after</th>\n",
       "      <th>Pressable: before located at Root Location: home =&gt; Content: capture-data =&gt; Content: data-capture-workflow-before-after</th>\n",
       "      <th>NaN</th>\n",
       "      <th>NaN</th>\n",
       "      <td>48</td>\n",
       "    </tr>\n",
       "    <tr>\n",
       "      <th>Pressable: after located at Root Location: home =&gt; Content: modeling =&gt; Content: modeling-workflow-before-after</th>\n",
       "      <th>NaN</th>\n",
       "      <th>NaN</th>\n",
       "      <td>46</td>\n",
       "    </tr>\n",
       "    <tr>\n",
       "      <th>Link: github located at Root Location: home =&gt; Navigation: navbar-top</th>\n",
       "      <th>NaN</th>\n",
       "      <th>NaN</th>\n",
       "      <th>NaN</th>\n",
       "      <td>42</td>\n",
       "    </tr>\n",
       "    <tr>\n",
       "      <th>Link: star-us located at Root Location: home =&gt; Content: hero</th>\n",
       "      <th>NaN</th>\n",
       "      <th>NaN</th>\n",
       "      <th>NaN</th>\n",
       "      <td>41</td>\n",
       "    </tr>\n",
       "    <tr>\n",
       "      <th>Link: logo located at Root Location: blog =&gt; Navigation: navbar-top</th>\n",
       "      <th>NaN</th>\n",
       "      <th>NaN</th>\n",
       "      <th>NaN</th>\n",
       "      <td>40</td>\n",
       "    </tr>\n",
       "    <tr>\n",
       "      <th>Pressable: after located at Root Location: home =&gt; Content: capture-data =&gt; Content: data-capture-workflow-before-after</th>\n",
       "      <th>Pressable: before located at Root Location: home =&gt; Content: capture-data =&gt; Content: data-capture-workflow-before-after</th>\n",
       "      <th>Pressable: after located at Root Location: home =&gt; Content: capture-data =&gt; Content: data-capture-workflow-before-after</th>\n",
       "      <th>Pressable: before located at Root Location: home =&gt; Content: capture-data =&gt; Content: data-capture-workflow-before-after</th>\n",
       "      <td>39</td>\n",
       "    </tr>\n",
       "    <tr>\n",
       "      <th>Pressable: before located at Root Location: home =&gt; Content: modeling =&gt; Content: modeling-workflow-before-after</th>\n",
       "      <th>NaN</th>\n",
       "      <th>NaN</th>\n",
       "      <th>NaN</th>\n",
       "      <td>36</td>\n",
       "    </tr>\n",
       "    <tr>\n",
       "      <th>Link: spin-up-the-demo located at Root Location: home =&gt; Content: hero</th>\n",
       "      <th>NaN</th>\n",
       "      <th>NaN</th>\n",
       "      <th>NaN</th>\n",
       "      <td>35</td>\n",
       "    </tr>\n",
       "    <tr>\n",
       "      <th>Pressable: after located at Root Location: home =&gt; Content: modeling =&gt; Content: modeling-workflow-before-after</th>\n",
       "      <th>Pressable: before located at Root Location: home =&gt; Content: modeling =&gt; Content: modeling-workflow-before-after</th>\n",
       "      <th>NaN</th>\n",
       "      <th>NaN</th>\n",
       "      <td>35</td>\n",
       "    </tr>\n",
       "    <tr>\n",
       "      <th>Pressable: before located at Root Location: home =&gt; Content: modeling =&gt; Content: modeling-workflow-before-after</th>\n",
       "      <th>Pressable: after located at Root Location: home =&gt; Content: modeling =&gt; Content: modeling-workflow-before-after</th>\n",
       "      <th>NaN</th>\n",
       "      <th>NaN</th>\n",
       "      <td>31</td>\n",
       "    </tr>\n",
       "    <tr>\n",
       "      <th>Pressable: before located at Root Location: home =&gt; Content: capture-data =&gt; Content: data-capture-workflow-before-after</th>\n",
       "      <th>Pressable: after located at Root Location: home =&gt; Content: capture-data =&gt; Content: data-capture-workflow-before-after</th>\n",
       "      <th>Pressable: before located at Root Location: home =&gt; Content: capture-data =&gt; Content: data-capture-workflow-before-after</th>\n",
       "      <th>Pressable: after located at Root Location: home =&gt; Content: capture-data =&gt; Content: data-capture-workflow-before-after</th>\n",
       "      <td>29</td>\n",
       "    </tr>\n",
       "    <tr>\n",
       "      <th>Pressable: after located at Root Location: home =&gt; Content: capture-data =&gt; Content: data-capture-workflow-before-after</th>\n",
       "      <th>Pressable: before located at Root Location: home =&gt; Content: capture-data =&gt; Content: data-capture-workflow-before-after</th>\n",
       "      <th>Pressable: after located at Root Location: home =&gt; Content: capture-data =&gt; Content: data-capture-workflow-before-after</th>\n",
       "      <th>NaN</th>\n",
       "      <td>28</td>\n",
       "    </tr>\n",
       "    <tr>\n",
       "      <th>Link: docs located at Root Location: home =&gt; Navigation: navbar-top</th>\n",
       "      <th>NaN</th>\n",
       "      <th>NaN</th>\n",
       "      <th>NaN</th>\n",
       "      <td>25</td>\n",
       "    </tr>\n",
       "  </tbody>\n",
       "</table>\n",
       "</div>"
      ],
      "text/plain": [
       "                                                                                                                                                                                                             value_counts\n",
       "location_stack_step_1                              location_stack_step_2                              location_stack_step_3                              location_stack_step_4                                           \n",
       "Pressable: after located at Root Location: home... NaN                                                NaN                                                NaN                                                          154\n",
       "Pressable: after located at Root Location: home... NaN                                                NaN                                                NaN                                                          126\n",
       "Link: about-us located at Root Location: home =... NaN                                                NaN                                                NaN                                                           68\n",
       "Pressable: hamburger located at Root Location: ... NaN                                                NaN                                                NaN                                                           63\n",
       "Pressable: before located at Root Location: hom... NaN                                                NaN                                                NaN                                                           54\n",
       "Link: logo located at Root Location: home => Na... NaN                                                NaN                                                NaN                                                           52\n",
       "Pressable: before located at Root Location: hom... Pressable: after located at Root Location: home... NaN                                                NaN                                                           49\n",
       "Pressable: after located at Root Location: home... Pressable: before located at Root Location: hom... NaN                                                NaN                                                           48\n",
       "                                                   Pressable: after located at Root Location: home... NaN                                                NaN                                                           46\n",
       "Link: github located at Root Location: home => ... NaN                                                NaN                                                NaN                                                           42\n",
       "Link: star-us located at Root Location: home =>... NaN                                                NaN                                                NaN                                                           41\n",
       "Link: logo located at Root Location: blog => Na... NaN                                                NaN                                                NaN                                                           40\n",
       "Pressable: after located at Root Location: home... Pressable: before located at Root Location: hom... Pressable: after located at Root Location: home... Pressable: before located at Root Location: hom...            39\n",
       "Pressable: before located at Root Location: hom... NaN                                                NaN                                                NaN                                                           36\n",
       "Link: spin-up-the-demo located at Root Location... NaN                                                NaN                                                NaN                                                           35\n",
       "Pressable: after located at Root Location: home... Pressable: before located at Root Location: hom... NaN                                                NaN                                                           35\n",
       "Pressable: before located at Root Location: hom... Pressable: after located at Root Location: home... NaN                                                NaN                                                           31\n",
       "Pressable: before located at Root Location: hom... Pressable: after located at Root Location: home... Pressable: before located at Root Location: hom... Pressable: after located at Root Location: home...            29\n",
       "Pressable: after located at Root Location: home... Pressable: before located at Root Location: hom... Pressable: after located at Root Location: home... NaN                                                           28\n",
       "Link: docs located at Root Location: home => Na... NaN                                                NaN                                                NaN                                                           25"
      ]
     },
     "execution_count": 60,
     "metadata": {},
     "output_type": "execute_result"
    }
   ],
   "source": [
    "df_steps.value_counts().to_frame().head(20)"
   ]
  },
  {
   "cell_type": "markdown",
   "id": "8546ace3",
   "metadata": {},
   "source": [
    "### Reference\n",
    "* [bach.Series.to_frame](https://objectiv.io/docs/modeling/bach/api-reference/Series/to_frame/)\n",
    "* [bach.DataFrame.value_counts](https://objectiv.io/docs/modeling/bach/api-reference/DataFrame/value_counts/)"
   ]
  },
  {
   "cell_type": "markdown",
   "id": "a2e3b7ce",
   "metadata": {},
   "source": [
    "## See step sequences that lead to conversion"
   ]
  },
  {
   "cell_type": "markdown",
   "id": "f1e31542",
   "metadata": {},
   "source": [
    "Now let's find the sequences that actually lead to conversion."
   ]
  },
  {
   "cell_type": "code",
   "execution_count": 62,
   "id": "130d0209",
   "metadata": {},
   "outputs": [
    {
     "data": {
      "text/html": [
       "<div>\n",
       "<style scoped>\n",
       "    .dataframe tbody tr th:only-of-type {\n",
       "        vertical-align: middle;\n",
       "    }\n",
       "\n",
       "    .dataframe tbody tr th {\n",
       "        vertical-align: top;\n",
       "    }\n",
       "\n",
       "    .dataframe thead th {\n",
       "        text-align: right;\n",
       "    }\n",
       "</style>\n",
       "<table border=\"1\" class=\"dataframe\">\n",
       "  <thead>\n",
       "    <tr style=\"text-align: right;\">\n",
       "      <th></th>\n",
       "      <th>location_stack_step_1</th>\n",
       "      <th>location_stack_step_2</th>\n",
       "      <th>location_stack_step_3</th>\n",
       "      <th>location_stack_step_4</th>\n",
       "      <th>_first_conversion_step_number</th>\n",
       "    </tr>\n",
       "    <tr>\n",
       "      <th>user_id</th>\n",
       "      <th></th>\n",
       "      <th></th>\n",
       "      <th></th>\n",
       "      <th></th>\n",
       "      <th></th>\n",
       "    </tr>\n",
       "  </thead>\n",
       "  <tbody>\n",
       "    <tr>\n",
       "      <th>0000bb2f-66e9-4e48-8e2f-7d0a82446ef4</th>\n",
       "      <td>Link: about-us located at Root Location: home ...</td>\n",
       "      <td>Link: logo located at Root Location: about =&gt; ...</td>\n",
       "      <td>None</td>\n",
       "      <td>None</td>\n",
       "      <td>NaN</td>\n",
       "    </tr>\n",
       "    <tr>\n",
       "      <th>0000bb2f-66e9-4e48-8e2f-7d0a82446ef4</th>\n",
       "      <td>Link: logo located at Root Location: about =&gt; ...</td>\n",
       "      <td>None</td>\n",
       "      <td>None</td>\n",
       "      <td>None</td>\n",
       "      <td>NaN</td>\n",
       "    </tr>\n",
       "    <tr>\n",
       "      <th>00529837-d672-4747-9b87-fd09f2919326</th>\n",
       "      <td>Link: blog located at Root Location: home =&gt; N...</td>\n",
       "      <td>Pressable: after located at Root Location: hom...</td>\n",
       "      <td>Link: spin-up-the-demo located at Root Locatio...</td>\n",
       "      <td>Link: blog located at Root Location: home =&gt; N...</td>\n",
       "      <td>NaN</td>\n",
       "    </tr>\n",
       "    <tr>\n",
       "      <th>00529837-d672-4747-9b87-fd09f2919326</th>\n",
       "      <td>Pressable: after located at Root Location: hom...</td>\n",
       "      <td>Link: spin-up-the-demo located at Root Locatio...</td>\n",
       "      <td>Link: blog located at Root Location: home =&gt; N...</td>\n",
       "      <td>Link: docs located at Root Location: blog =&gt; N...</td>\n",
       "      <td>NaN</td>\n",
       "    </tr>\n",
       "    <tr>\n",
       "      <th>00529837-d672-4747-9b87-fd09f2919326</th>\n",
       "      <td>Link: spin-up-the-demo located at Root Locatio...</td>\n",
       "      <td>Link: blog located at Root Location: home =&gt; N...</td>\n",
       "      <td>Link: docs located at Root Location: blog =&gt; N...</td>\n",
       "      <td>Link: bach-and-sklearn located at Root Locatio...</td>\n",
       "      <td>4.0</td>\n",
       "    </tr>\n",
       "    <tr>\n",
       "      <th>00529837-d672-4747-9b87-fd09f2919326</th>\n",
       "      <td>Link: blog located at Root Location: home =&gt; N...</td>\n",
       "      <td>Link: docs located at Root Location: blog =&gt; N...</td>\n",
       "      <td>Link: bach-and-sklearn located at Root Locatio...</td>\n",
       "      <td>Link: basic-product-analytics located at Root ...</td>\n",
       "      <td>3.0</td>\n",
       "    </tr>\n",
       "    <tr>\n",
       "      <th>00529837-d672-4747-9b87-fd09f2919326</th>\n",
       "      <td>Link: docs located at Root Location: blog =&gt; N...</td>\n",
       "      <td>Link: bach-and-sklearn located at Root Locatio...</td>\n",
       "      <td>Link: basic-product-analytics located at Root ...</td>\n",
       "      <td>None</td>\n",
       "      <td>2.0</td>\n",
       "    </tr>\n",
       "    <tr>\n",
       "      <th>00529837-d672-4747-9b87-fd09f2919326</th>\n",
       "      <td>Link: bach-and-sklearn located at Root Locatio...</td>\n",
       "      <td>Link: basic-product-analytics located at Root ...</td>\n",
       "      <td>None</td>\n",
       "      <td>None</td>\n",
       "      <td>1.0</td>\n",
       "    </tr>\n",
       "    <tr>\n",
       "      <th>00529837-d672-4747-9b87-fd09f2919326</th>\n",
       "      <td>Link: basic-product-analytics located at Root ...</td>\n",
       "      <td>None</td>\n",
       "      <td>None</td>\n",
       "      <td>None</td>\n",
       "      <td>1.0</td>\n",
       "    </tr>\n",
       "    <tr>\n",
       "      <th>005aa19c-7e80-4960-928c-a0853355ee5f</th>\n",
       "      <td>Link: check-out-thijs-obj-on-github located at...</td>\n",
       "      <td>Link: jobs located at Root Location: about =&gt; ...</td>\n",
       "      <td>None</td>\n",
       "      <td>None</td>\n",
       "      <td>NaN</td>\n",
       "    </tr>\n",
       "  </tbody>\n",
       "</table>\n",
       "</div>"
      ],
      "text/plain": [
       "                                                                  location_stack_step_1  \\\n",
       "user_id                                                                                   \n",
       "0000bb2f-66e9-4e48-8e2f-7d0a82446ef4  Link: about-us located at Root Location: home ...   \n",
       "0000bb2f-66e9-4e48-8e2f-7d0a82446ef4  Link: logo located at Root Location: about => ...   \n",
       "00529837-d672-4747-9b87-fd09f2919326  Link: blog located at Root Location: home => N...   \n",
       "00529837-d672-4747-9b87-fd09f2919326  Pressable: after located at Root Location: hom...   \n",
       "00529837-d672-4747-9b87-fd09f2919326  Link: spin-up-the-demo located at Root Locatio...   \n",
       "00529837-d672-4747-9b87-fd09f2919326  Link: blog located at Root Location: home => N...   \n",
       "00529837-d672-4747-9b87-fd09f2919326  Link: docs located at Root Location: blog => N...   \n",
       "00529837-d672-4747-9b87-fd09f2919326  Link: bach-and-sklearn located at Root Locatio...   \n",
       "00529837-d672-4747-9b87-fd09f2919326  Link: basic-product-analytics located at Root ...   \n",
       "005aa19c-7e80-4960-928c-a0853355ee5f  Link: check-out-thijs-obj-on-github located at...   \n",
       "\n",
       "                                                                  location_stack_step_2  \\\n",
       "user_id                                                                                   \n",
       "0000bb2f-66e9-4e48-8e2f-7d0a82446ef4  Link: logo located at Root Location: about => ...   \n",
       "0000bb2f-66e9-4e48-8e2f-7d0a82446ef4                                               None   \n",
       "00529837-d672-4747-9b87-fd09f2919326  Pressable: after located at Root Location: hom...   \n",
       "00529837-d672-4747-9b87-fd09f2919326  Link: spin-up-the-demo located at Root Locatio...   \n",
       "00529837-d672-4747-9b87-fd09f2919326  Link: blog located at Root Location: home => N...   \n",
       "00529837-d672-4747-9b87-fd09f2919326  Link: docs located at Root Location: blog => N...   \n",
       "00529837-d672-4747-9b87-fd09f2919326  Link: bach-and-sklearn located at Root Locatio...   \n",
       "00529837-d672-4747-9b87-fd09f2919326  Link: basic-product-analytics located at Root ...   \n",
       "00529837-d672-4747-9b87-fd09f2919326                                               None   \n",
       "005aa19c-7e80-4960-928c-a0853355ee5f  Link: jobs located at Root Location: about => ...   \n",
       "\n",
       "                                                                  location_stack_step_3  \\\n",
       "user_id                                                                                   \n",
       "0000bb2f-66e9-4e48-8e2f-7d0a82446ef4                                               None   \n",
       "0000bb2f-66e9-4e48-8e2f-7d0a82446ef4                                               None   \n",
       "00529837-d672-4747-9b87-fd09f2919326  Link: spin-up-the-demo located at Root Locatio...   \n",
       "00529837-d672-4747-9b87-fd09f2919326  Link: blog located at Root Location: home => N...   \n",
       "00529837-d672-4747-9b87-fd09f2919326  Link: docs located at Root Location: blog => N...   \n",
       "00529837-d672-4747-9b87-fd09f2919326  Link: bach-and-sklearn located at Root Locatio...   \n",
       "00529837-d672-4747-9b87-fd09f2919326  Link: basic-product-analytics located at Root ...   \n",
       "00529837-d672-4747-9b87-fd09f2919326                                               None   \n",
       "00529837-d672-4747-9b87-fd09f2919326                                               None   \n",
       "005aa19c-7e80-4960-928c-a0853355ee5f                                               None   \n",
       "\n",
       "                                                                  location_stack_step_4  \\\n",
       "user_id                                                                                   \n",
       "0000bb2f-66e9-4e48-8e2f-7d0a82446ef4                                               None   \n",
       "0000bb2f-66e9-4e48-8e2f-7d0a82446ef4                                               None   \n",
       "00529837-d672-4747-9b87-fd09f2919326  Link: blog located at Root Location: home => N...   \n",
       "00529837-d672-4747-9b87-fd09f2919326  Link: docs located at Root Location: blog => N...   \n",
       "00529837-d672-4747-9b87-fd09f2919326  Link: bach-and-sklearn located at Root Locatio...   \n",
       "00529837-d672-4747-9b87-fd09f2919326  Link: basic-product-analytics located at Root ...   \n",
       "00529837-d672-4747-9b87-fd09f2919326                                               None   \n",
       "00529837-d672-4747-9b87-fd09f2919326                                               None   \n",
       "00529837-d672-4747-9b87-fd09f2919326                                               None   \n",
       "005aa19c-7e80-4960-928c-a0853355ee5f                                               None   \n",
       "\n",
       "                                      _first_conversion_step_number  \n",
       "user_id                                                              \n",
       "0000bb2f-66e9-4e48-8e2f-7d0a82446ef4                            NaN  \n",
       "0000bb2f-66e9-4e48-8e2f-7d0a82446ef4                            NaN  \n",
       "00529837-d672-4747-9b87-fd09f2919326                            NaN  \n",
       "00529837-d672-4747-9b87-fd09f2919326                            NaN  \n",
       "00529837-d672-4747-9b87-fd09f2919326                            4.0  \n",
       "00529837-d672-4747-9b87-fd09f2919326                            3.0  \n",
       "00529837-d672-4747-9b87-fd09f2919326                            2.0  \n",
       "00529837-d672-4747-9b87-fd09f2919326                            1.0  \n",
       "00529837-d672-4747-9b87-fd09f2919326                            1.0  \n",
       "005aa19c-7e80-4960-928c-a0853355ee5f                            NaN  "
      ]
     },
     "execution_count": 62,
     "metadata": {},
     "output_type": "execute_result"
    }
   ],
   "source": [
    "# first, we can get which step is the first conversion step\n",
    "df_first_conversion_step = funnel.get_navigation_paths(df, steps=max_steps, by='user_id', add_conversion_step_column=True)\n",
    "\n",
    "df_first_conversion_step.head(10)"
   ]
  },
  {
   "cell_type": "code",
   "execution_count": null,
   "id": "80e61efa",
   "metadata": {},
   "outputs": [],
   "source": [
    "# let's filter steps to first conversion \n",
    "df_steps_till_conversion = funnel.get_navigation_paths(df, steps=max_steps, by='user_id', add_conversion_step_column=True, only_converted_paths=True)\n",
    "df_steps_till_conversion.head() "
   ]
  },
  {
   "cell_type": "code",
   "execution_count": null,
   "id": "63ac504f",
   "metadata": {},
   "outputs": [],
   "source": [
    "# now let's take only stpes which were converted on the 4th one\n",
    "condition = df_steps_till_conversion['_first_conversion_step_number'] == 4\n",
    "df_steps_till_conversion[condition].head() "
   ]
  },
  {
   "cell_type": "markdown",
   "id": "e87c2271",
   "metadata": {},
   "source": [
    "## Users flow visualisation"
   ]
  },
  {
   "cell_type": "markdown",
   "id": "1bb8ce3b",
   "metadata": {},
   "source": [
    "Let's use the Sankey diagram to visualize the journey of our users on our website (the flows between the location stacks).\n",
    "Remember that the width of each link represents the amount in the flow. For each link, if you hoover the mouse you can see the source and the target node."
   ]
  },
  {
   "cell_type": "code",
   "execution_count": null,
   "id": "99f09410",
   "metadata": {},
   "outputs": [],
   "source": [
    "funnel.plot_sankey_diagram(df_steps_till_conversion[condition], n_top_examples=15)"
   ]
  },
  {
   "cell_type": "markdown",
   "id": "3c352828",
   "metadata": {},
   "source": [
    "# Deep dive to step details"
   ]
  },
  {
   "cell_type": "markdown",
   "id": "4e44964e",
   "metadata": {},
   "source": [
    "## Top drop-off locations"
   ]
  },
  {
   "cell_type": "code",
   "execution_count": null,
   "id": "be3ce5ea",
   "metadata": {},
   "outputs": [],
   "source": [
    "# selected only non converted users\n",
    "df_non_converted = df[~df['is_conversion_event']]\n",
    "converted_users = df[df['is_conversion_event']]['user_id']\n",
    "\n",
    "# selects the events of these non converted users\n",
    "df_non_converted = df_non_converted[~df_non_converted['user_id'].isin(converted_users)]"
   ]
  },
  {
   "cell_type": "code",
   "execution_count": null,
   "id": "60637c81",
   "metadata": {},
   "outputs": [],
   "source": [
    "# the last location before leaving the website\n",
    "drop_loc = df_non_converted.sort_values('moment').groupby('user_id')['feature_nice_name'].to_json_array().json[-1].materialize()\n",
    "total_count = drop_loc.count().value"
   ]
  },
  {
   "cell_type": "code",
   "execution_count": null,
   "id": "d6a5e2ba",
   "metadata": {},
   "outputs": [],
   "source": [
    "# calculate the percentage\n",
    "drop_loc_percent = (drop_loc.value_counts() / total_count) * 100\n",
    "drop_loc_percent = drop_loc_percent.to_frame().rename(columns={'value_counts': 'drop_percentage'})\n",
    "drop_loc_percent.sort_values(by='drop_percentage', ascending=False).head()"
   ]
  },
  {
   "cell_type": "markdown",
   "id": "118ee1d4",
   "metadata": {},
   "source": [
    "## Marketing campaign"
   ]
  },
  {
   "cell_type": "code",
   "execution_count": null,
   "id": "64065c83",
   "metadata": {},
   "outputs": [],
   "source": [
    "# get marketing data\n",
    "df_marketing = df.copy()\n",
    "df_marketing['utm_campaign'] = df_marketing.global_contexts.gc.get_from_context_with_type_series(type='MarketingContext', key='campaign')\n",
    "\n",
    "# get all the users from marketing campaign\n",
    "user_list = df_marketing[~df_marketing['utm_campaign'].isnull()].user_id\n",
    "# get all the events of the users who had at least one utm_campaign not None value\n",
    "df_marketing = df_marketing[df_marketing['user_id'].isin(user_list)]\n",
    "df_marketing.head()"
   ]
  },
  {
   "cell_type": "markdown",
   "id": "4e4107f5",
   "metadata": {},
   "source": [
    "Let's define conversion events for marketing data."
   ]
  },
  {
   "cell_type": "code",
   "execution_count": null,
   "id": "ca064f93",
   "metadata": {},
   "outputs": [],
   "source": [
    "df_marketing['is_conversion_event'] = False\n",
    "\n",
    "# define which data to use as conversion events\n",
    "df_marketing.loc[df_marketing['application'] == 'objectiv-docs', 'is_conversion_event'] = True"
   ]
  },
  {
   "cell_type": "code",
   "execution_count": null,
   "id": "9845aa7d",
   "metadata": {},
   "outputs": [],
   "source": [
    "# get converted and non converted marketing dataframes\n",
    "users_converted = df_marketing[df_marketing['is_conversion_event']].user_id\n",
    "users_non_converted = df_marketing[~df_marketing['user_id'].isin(users_converted)].user_id\n",
    "\n",
    "df_marketing_converted = df_marketing[df_marketing['is_conversion_event']]\n",
    "df_marketing_non_converted = df_marketing[df_marketing['user_id'].isin(users_non_converted)] "
   ]
  },
  {
   "cell_type": "markdown",
   "id": "af2a26dd",
   "metadata": {},
   "source": [
    "Let's calculate the perecentage of of converted and non-converted users"
   ]
  },
  {
   "cell_type": "code",
   "execution_count": null,
   "id": "7a43f2a4",
   "metadata": {},
   "outputs": [],
   "source": [
    "n_users_converted = df_marketing_converted['user_id'].unique().count().value\n",
    "n_users_non_converted = df_marketing_non_converted['user_id'].unique().count().value\n",
    "n_users_total = n_users_converted + n_users_non_converted\n",
    "\n",
    "print(f'Converted users: {round((n_users_converted / n_users_total) * 100)}%')\n",
    "print(f'Non-converted users: {round((n_users_non_converted / n_users_total) * 100)}%')"
   ]
  },
  {
   "cell_type": "markdown",
   "id": "a7f80cf7",
   "metadata": {},
   "source": [
    "Now let's focus on non-converted users data."
   ]
  },
  {
   "cell_type": "markdown",
   "id": "c1eff59a",
   "metadata": {},
   "source": [
    "#### Top drop-off locations for non-converted users from marketing campaign"
   ]
  },
  {
   "cell_type": "code",
   "execution_count": null,
   "id": "8e81ce1a",
   "metadata": {},
   "outputs": [],
   "source": [
    "drop_loc = df_marketing_non_converted.sort_values('moment').groupby('user_id')['feature_nice_name'].to_json_array().json[-1].materialize()\n",
    "total_count = drop_loc.count().value\n",
    "\n",
    "drop_loc_percent = (drop_loc.value_counts() / total_count) * 100\n",
    "drop_loc_percent = drop_loc_percent.to_frame().rename(columns={'value_counts': 'drop_percentage'})\n",
    "drop_loc_percent.sort_values(by='drop_percentage', ascending=False).head()"
   ]
  },
  {
   "cell_type": "markdown",
   "id": "709f98cc",
   "metadata": {},
   "source": [
    "#### User journey for non-converted users from marketing campaign"
   ]
  },
  {
   "cell_type": "code",
   "execution_count": null,
   "id": "ae29b33b",
   "metadata": {},
   "outputs": [],
   "source": [
    "max_steps = 4\n",
    "df_steps = funnel.get_navigation_paths(df_marketing_non_converted, steps=max_steps, by='user_id')\n",
    "funnel.plot_sankey_diagram(df_steps, n_top_examples=20)"
   ]
  },
  {
   "cell_type": "markdown",
   "id": "b0af4b91",
   "metadata": {},
   "source": [
    "## Next steps\n",
    "\n",
    "This was a basic demonstration on how can we use the open model hub for funnel discovery. One of the next steps could be to have a in-depth look at the marketing campaign data differences per source and user journeys between converted and drop-off ones."
   ]
  }
 ],
 "metadata": {
  "kernelspec": {
   "display_name": "Python 3 (ipykernel)",
   "language": "python",
   "name": "python3"
  },
  "language_info": {
   "codemirror_mode": {
    "name": "ipython",
    "version": 3
   },
   "file_extension": ".py",
   "mimetype": "text/x-python",
   "name": "python",
   "nbconvert_exporter": "python",
   "pygments_lexer": "ipython3",
   "version": "3.8.10"
  }
 },
 "nbformat": 4,
 "nbformat_minor": 5
}
