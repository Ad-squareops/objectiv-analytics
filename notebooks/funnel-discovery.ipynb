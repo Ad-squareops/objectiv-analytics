{
 "cells": [
  {
   "cell_type": "markdown",
   "id": "741991f3",
   "metadata": {},
   "source": [
    "This is one of the Objectiv [example notebooks](https://objectiv.io/docs/modeling/example-notebooks/). These notebooks can run [on your own data](https://objectiv.io/docs/modeling/get-started-in-your-notebook/), or you can instead run the [Demo](https://objectiv.io/docs/home/quickstart-guide/) to quickly try them out."
   ]
  },
  {
   "cell_type": "markdown",
   "id": "27a15962",
   "metadata": {},
   "source": [
    "# Funnel Discovery"
   ]
  },
  {
   "cell_type": "markdown",
   "id": "7a53065c",
   "metadata": {},
   "source": [
    "This example notebook shows how to use the 'Funnel Discovery' model on your data collected with Objectiv.\n",
    "\n",
    "In classical funnel analysis you predefine the steps, and then analyze the differences for user attributes or behavior in each step. However, this means you have to make assumptions about which steps matter, while there may be impactful flows that are not very obvious, or still small. Yet these can represent major opportunities to boost or optimize.\n",
    "\n",
    "This is where Funnel Discovery comes in: to discover all the (top) user journeys that lead to conversion, which do not, and run subsequent analyses on them.\n",
    "\n",
    "In particular, we will discover in this example:\n",
    "\n",
    "- The most popular consecutive steps over all customer journeys;\n",
    "- The steps/flows which lead to conversion;\n",
    "- The most common drop-off location;\n",
    "- Etcetera.\n",
    "\n",
    "To get started, we first have to instantiate the model hub and an Objectiv DataFrame object."
   ]
  },
  {
   "cell_type": "code",
   "execution_count": 16,
   "id": "4bd369f6",
   "metadata": {},
   "outputs": [],
   "source": [
    "from modelhub import ModelHub\n",
    "from bach import display_sql_as_markdown\n",
    "\n",
    "# instantiate the model hub and set the default time aggregation to daily\n",
    "modelhub = ModelHub(time_aggregation='%Y-%m-%d')\n",
    "# get a Bach DataFrame with Objectiv data within a defined timeframe\n",
    "df = modelhub.get_objectiv_dataframe(start_date='2022-02-01', end_date='2022-06-30')"
   ]
  },
  {
   "cell_type": "code",
   "execution_count": 17,
   "id": "da4ec1a0",
   "metadata": {},
   "outputs": [],
   "source": [
    "# add specific contexts to the data as columns\n",
    "df['application'] = df.global_contexts.gc.application\n",
    "df['feature_nice_name'] = df.location_stack.ls.nice_name"
   ]
  },
  {
   "cell_type": "code",
   "execution_count": 18,
   "id": "ea5ab639",
   "metadata": {},
   "outputs": [],
   "source": [
    "# select which event type to use for further analysis\n",
    "df = df[df['event_type'] == 'PressEvent']"
   ]
  },
  {
   "cell_type": "markdown",
   "id": "7cf4afaa",
   "metadata": {},
   "source": [
    "### Reference\n",
    "* [modelhub.ModelHub.get_objectiv_dataframe](https://objectiv.io/docs/modeling/open-model-hub/api-reference/ModelHub/get_objectiv_dataframe/)\n",
    "* [modelhub.SeriesGlobalContexts.gc](https://objectiv.io/docs/modeling/open-model-hub/api-reference/SeriesGlobalContexts/gc/)\n",
    "* [modelhub.SeriesLocationStack.ls](https://objectiv.io/docs/modeling/open-model-hub/api-reference/SeriesLocationStack/ls/)"
   ]
  },
  {
   "cell_type": "markdown",
   "id": "6864ff88",
   "metadata": {},
   "source": [
    "## Define conversion"
   ]
  },
  {
   "cell_type": "markdown",
   "id": "1b92eb2f",
   "metadata": {},
   "source": [
    "First, define the events you see as conversion in the Objectiv DataFrame. In this example we will view someone as converted when they go on to read the documentation from our website."
   ]
  },
  {
   "cell_type": "code",
   "execution_count": 21,
   "id": "3f44b4d0",
   "metadata": {},
   "outputs": [],
   "source": [
    "df['is_conversion_event'] = False\n",
    "# define which data to use as conversion events; in this example, anyone who goes on to read the documentation\n",
    "df.loc[df['application'] == 'objectiv-docs', 'is_conversion_event'] = True"
   ]
  },
  {
   "cell_type": "markdown",
   "id": "a24eed6a",
   "metadata": {},
   "source": [
    "Next, we analyze the percentage of converted users landing to a given location?"
   ]
  },
  {
   "cell_type": "code",
   "execution_count": 22,
   "id": "45e27d0e",
   "metadata": {},
   "outputs": [
    {
     "data": {
      "text/html": [
       "<div>\n",
       "<style scoped>\n",
       "    .dataframe tbody tr th:only-of-type {\n",
       "        vertical-align: middle;\n",
       "    }\n",
       "\n",
       "    .dataframe tbody tr th {\n",
       "        vertical-align: top;\n",
       "    }\n",
       "\n",
       "    .dataframe thead th {\n",
       "        text-align: right;\n",
       "    }\n",
       "</style>\n",
       "<table border=\"1\" class=\"dataframe\">\n",
       "  <thead>\n",
       "    <tr style=\"text-align: right;\">\n",
       "      <th></th>\n",
       "      <th>converted_users_percentage</th>\n",
       "    </tr>\n",
       "    <tr>\n",
       "      <th>feature_nice_name</th>\n",
       "      <th></th>\n",
       "    </tr>\n",
       "  </thead>\n",
       "  <tbody>\n",
       "    <tr>\n",
       "      <th>Link: Quickstart Guide located at Root Location: home =&gt; Navigation: docs-sidebar</th>\n",
       "      <td>15.946844</td>\n",
       "    </tr>\n",
       "    <tr>\n",
       "      <th>Link: logo located at Root Location: home =&gt; Navigation: navbar-top</th>\n",
       "      <td>10.797342</td>\n",
       "    </tr>\n",
       "    <tr>\n",
       "      <th>Link: Tracking located at Root Location: home =&gt; Navigation: navbar-top</th>\n",
       "      <td>10.631229</td>\n",
       "    </tr>\n",
       "    <tr>\n",
       "      <th>Link: Taxonomy located at Root Location: modeling =&gt; Navigation: navbar-top</th>\n",
       "      <td>10.299003</td>\n",
       "    </tr>\n",
       "    <tr>\n",
       "      <th>Link: Modeling located at Root Location: tracking =&gt; Navigation: navbar-top</th>\n",
       "      <td>9.966777</td>\n",
       "    </tr>\n",
       "  </tbody>\n",
       "</table>\n",
       "</div>"
      ],
      "text/plain": [
       "                                                    converted_users_percentage\n",
       "feature_nice_name                                                             \n",
       "Link: Quickstart Guide located at Root Location...                   15.946844\n",
       "Link: logo located at Root Location: home => Na...                   10.797342\n",
       "Link: Tracking located at Root Location: home =...                   10.631229\n",
       "Link: Taxonomy located at Root Location: modeli...                   10.299003\n",
       "Link: Modeling located at Root Location: tracki...                    9.966777"
      ]
     },
     "execution_count": 22,
     "metadata": {},
     "output_type": "execute_result"
    }
   ],
   "source": [
    "total_n_users = df[df['is_conversion_event']]['user_id'].unique().count().value\n",
    "top_conversion_locations = modelhub.agg.unique_users(df[df['is_conversion_event']], groupby='feature_nice_name')\n",
    "\n",
    "# calculate the percentage\n",
    "top_conversion_locations = (top_conversion_locations / total_n_users) * 100\n",
    "\n",
    "# calling .to_frame() for nicer formatting\n",
    "top_conversion_locations = top_conversion_locations.to_frame().rename(\n",
    "    columns={'unique_users': 'converted_users_percentage'})\n",
    "\n",
    "top_conversion_locations.sort_values(by='converted_users_percentage', ascending=False).head()"
   ]
  },
  {
   "cell_type": "markdown",
   "id": "0fe817bf",
   "metadata": {},
   "source": [
    "## Get users consecutive steps"
   ]
  },
  {
   "cell_type": "markdown",
   "id": "fa673673",
   "metadata": {},
   "source": [
    "Now let's calculate the consecutive steps for the users in our website (we have to specify the maximum n steps)"
   ]
  },
  {
   "cell_type": "code",
   "execution_count": null,
   "id": "1cd0f5ad",
   "metadata": {},
   "outputs": [],
   "source": [
    "funnel = modelhub.get_funnel_discovery()"
   ]
  },
  {
   "cell_type": "code",
   "execution_count": null,
   "id": "66297c7f",
   "metadata": {},
   "outputs": [],
   "source": [
    "# let's find all maximum n consecutive locations that users followed\n",
    "max_steps = 4\n",
    "df_steps = funnel.get_navigation_paths(df, steps=max_steps, by='user_id')\n",
    "df_steps.head()"
   ]
  },
  {
   "cell_type": "markdown",
   "id": "958d991f",
   "metadata": {},
   "source": [
    "## Top step sequences"
   ]
  },
  {
   "cell_type": "markdown",
   "id": "73637d50",
   "metadata": {},
   "source": [
    "For getting the bigger picture it is useful to see what are the most frequent consecutive steps of our users."
   ]
  },
  {
   "cell_type": "code",
   "execution_count": null,
   "id": "beb31893",
   "metadata": {
    "scrolled": true
   },
   "outputs": [],
   "source": [
    "df_steps.value_counts().to_frame().head(20)"
   ]
  },
  {
   "cell_type": "markdown",
   "id": "a2e3b7ce",
   "metadata": {},
   "source": [
    "## Converting step sequences "
   ]
  },
  {
   "cell_type": "markdown",
   "id": "f1e31542",
   "metadata": {},
   "source": [
    "Now let's find the sequences which lead to the conversion."
   ]
  },
  {
   "cell_type": "code",
   "execution_count": null,
   "id": "130d0209",
   "metadata": {},
   "outputs": [],
   "source": [
    "# first, we can get which step is the first conversion step\n",
    "df_first_conversion_step = funnel.get_navigation_paths(df, steps=max_steps, by='user_id', add_conversion_step_column=True)\n",
    "\n",
    "df_first_conversion_step.head()"
   ]
  },
  {
   "cell_type": "code",
   "execution_count": null,
   "id": "80e61efa",
   "metadata": {},
   "outputs": [],
   "source": [
    "# let's filter steps to first conversion \n",
    "df_steps_till_conversion = funnel.get_navigation_paths(df, steps=max_steps, by='user_id', add_conversion_step_column=True, only_converted_paths=True)\n",
    "df_steps_till_conversion.head() "
   ]
  },
  {
   "cell_type": "code",
   "execution_count": null,
   "id": "63ac504f",
   "metadata": {},
   "outputs": [],
   "source": [
    "# now let's take only stpes which were converted on the 4th one\n",
    "condition = df_steps_till_conversion['_first_conversion_step_number'] == 4\n",
    "df_steps_till_conversion[condition].head() "
   ]
  },
  {
   "cell_type": "markdown",
   "id": "e87c2271",
   "metadata": {},
   "source": [
    "## Users flow visualisation"
   ]
  },
  {
   "cell_type": "markdown",
   "id": "1bb8ce3b",
   "metadata": {},
   "source": [
    "Let's use the Sankey diagram to visualize the journey of our users on our website (the flows between the location stacks).\n",
    "Remember that the width of each link represents the amount in the flow. For each link, if you hoover the mouse you can see the source and the target node."
   ]
  },
  {
   "cell_type": "code",
   "execution_count": null,
   "id": "99f09410",
   "metadata": {},
   "outputs": [],
   "source": [
    "funnel.plot_sankey_diagram(df_steps_till_conversion[condition], n_top_examples=15)"
   ]
  },
  {
   "cell_type": "markdown",
   "id": "3c352828",
   "metadata": {},
   "source": [
    "# Deep dive to step details"
   ]
  },
  {
   "cell_type": "markdown",
   "id": "4e44964e",
   "metadata": {},
   "source": [
    "## Top drop-off locations"
   ]
  },
  {
   "cell_type": "code",
   "execution_count": null,
   "id": "be3ce5ea",
   "metadata": {},
   "outputs": [],
   "source": [
    "# selected only non converted users\n",
    "df_non_converted = df[~df['is_conversion_event']]\n",
    "converted_users = df[df['is_conversion_event']]['user_id']\n",
    "\n",
    "# selects the events of these non converted users\n",
    "df_non_converted = df_non_converted[~df_non_converted['user_id'].isin(converted_users)]"
   ]
  },
  {
   "cell_type": "code",
   "execution_count": null,
   "id": "60637c81",
   "metadata": {},
   "outputs": [],
   "source": [
    "# the last location before leaving the website\n",
    "drop_loc = df_non_converted.sort_values('moment').groupby('user_id')['feature_nice_name'].to_json_array().json[-1].materialize()\n",
    "total_count = drop_loc.count().value"
   ]
  },
  {
   "cell_type": "code",
   "execution_count": null,
   "id": "d6a5e2ba",
   "metadata": {},
   "outputs": [],
   "source": [
    "# calculate the percentage\n",
    "drop_loc_percent = (drop_loc.value_counts() / total_count) * 100\n",
    "drop_loc_percent = drop_loc_percent.to_frame().rename(columns={'value_counts': 'drop_percentage'})\n",
    "drop_loc_percent.sort_values(by='drop_percentage', ascending=False).head()"
   ]
  },
  {
   "cell_type": "markdown",
   "id": "118ee1d4",
   "metadata": {},
   "source": [
    "## Marketing campaign"
   ]
  },
  {
   "cell_type": "code",
   "execution_count": null,
   "id": "64065c83",
   "metadata": {},
   "outputs": [],
   "source": [
    "# get marketing data\n",
    "df_marketing = df.copy()\n",
    "df_marketing['utm_campaign'] = df_marketing.global_contexts.gc.get_from_context_with_type_series(type='MarketingContext', key='campaign')\n",
    "\n",
    "# get all the users from marketing campaign\n",
    "user_list = df_marketing[~df_marketing['utm_campaign'].isnull()].user_id\n",
    "# get all the events of the users who had at least one utm_campaign not None value\n",
    "df_marketing = df_marketing[df_marketing['user_id'].isin(user_list)]\n",
    "df_marketing.head()"
   ]
  },
  {
   "cell_type": "markdown",
   "id": "4e4107f5",
   "metadata": {},
   "source": [
    "Let's define conversion events for marketing data."
   ]
  },
  {
   "cell_type": "code",
   "execution_count": null,
   "id": "ca064f93",
   "metadata": {},
   "outputs": [],
   "source": [
    "df_marketing['is_conversion_event'] = False\n",
    "\n",
    "# define which data to use as conversion events\n",
    "df_marketing.loc[df_marketing['application'] == 'objectiv-docs', 'is_conversion_event'] = True"
   ]
  },
  {
   "cell_type": "code",
   "execution_count": null,
   "id": "9845aa7d",
   "metadata": {},
   "outputs": [],
   "source": [
    "# get converted and non converted marketing dataframes\n",
    "users_converted = df_marketing[df_marketing['is_conversion_event']].user_id\n",
    "users_non_converted = df_marketing[~df_marketing['user_id'].isin(users_converted)].user_id\n",
    "\n",
    "df_marketing_converted = df_marketing[df_marketing['is_conversion_event']]\n",
    "df_marketing_non_converted = df_marketing[df_marketing['user_id'].isin(users_non_converted)] "
   ]
  },
  {
   "cell_type": "markdown",
   "id": "af2a26dd",
   "metadata": {},
   "source": [
    "Let's calculate the perecentage of of converted and non-converted users"
   ]
  },
  {
   "cell_type": "code",
   "execution_count": null,
   "id": "7a43f2a4",
   "metadata": {},
   "outputs": [],
   "source": [
    "n_users_converted = df_marketing_converted['user_id'].unique().count().value\n",
    "n_users_non_converted = df_marketing_non_converted['user_id'].unique().count().value\n",
    "n_users_total = n_users_converted + n_users_non_converted\n",
    "\n",
    "print(f'Converted users: {round((n_users_converted / n_users_total) * 100)}%')\n",
    "print(f'Non-converted users: {round((n_users_non_converted / n_users_total) * 100)}%')"
   ]
  },
  {
   "cell_type": "markdown",
   "id": "a7f80cf7",
   "metadata": {},
   "source": [
    "Now let's focus on non-converted users data."
   ]
  },
  {
   "cell_type": "markdown",
   "id": "c1eff59a",
   "metadata": {},
   "source": [
    "#### Top drop-off locations for non-converted users from marketing campaign"
   ]
  },
  {
   "cell_type": "code",
   "execution_count": null,
   "id": "8e81ce1a",
   "metadata": {},
   "outputs": [],
   "source": [
    "drop_loc = df_marketing_non_converted.sort_values('moment').groupby('user_id')['feature_nice_name'].to_json_array().json[-1].materialize()\n",
    "total_count = drop_loc.count().value\n",
    "\n",
    "drop_loc_percent = (drop_loc.value_counts() / total_count) * 100\n",
    "drop_loc_percent = drop_loc_percent.to_frame().rename(columns={'value_counts': 'drop_percentage'})\n",
    "drop_loc_percent.sort_values(by='drop_percentage', ascending=False).head()"
   ]
  },
  {
   "cell_type": "markdown",
   "id": "709f98cc",
   "metadata": {},
   "source": [
    "#### User journey for non-converted users from marketing campaign"
   ]
  },
  {
   "cell_type": "code",
   "execution_count": null,
   "id": "ae29b33b",
   "metadata": {},
   "outputs": [],
   "source": [
    "max_steps = 4\n",
    "df_steps = funnel.get_navigation_paths(df_marketing_non_converted, steps=max_steps, by='user_id')\n",
    "funnel.plot_sankey_diagram(df_steps, n_top_examples=20)"
   ]
  },
  {
   "cell_type": "markdown",
   "id": "b0af4b91",
   "metadata": {},
   "source": [
    "## Next steps\n",
    "\n",
    "This was a basic demonstration on how can we use the open model hub for funnel discovery. One of the next steps could be to have a in-depth look at the marketing campaign data differences per source and user journeys between converted and drop-off ones."
   ]
  }
 ],
 "metadata": {
  "kernelspec": {
   "display_name": "Python 3 (ipykernel)",
   "language": "python",
   "name": "python3"
  },
  "language_info": {
   "codemirror_mode": {
    "name": "ipython",
    "version": 3
   },
   "file_extension": ".py",
   "mimetype": "text/x-python",
   "name": "python",
   "nbconvert_exporter": "python",
   "pygments_lexer": "ipython3",
   "version": "3.8.10"
  }
 },
 "nbformat": 4,
 "nbformat_minor": 5
}
