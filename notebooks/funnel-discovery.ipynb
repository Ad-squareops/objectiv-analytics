{
 "cells": [
  {
   "cell_type": "markdown",
   "id": "741991f3",
   "metadata": {},
   "source": [
    "This is one of the Objectiv [example notebooks](https://objectiv.io/docs/modeling/example-notebooks/). These notebooks can run [on your own data](https://objectiv.io/docs/modeling/get-started-in-your-notebook/), or you can instead run the [Demo](https://objectiv.io/docs/home/quickstart-guide/) to quickly try them out."
   ]
  },
  {
   "cell_type": "markdown",
   "id": "27a15962",
   "metadata": {},
   "source": [
    "# Funnel Discovery"
   ]
  },
  {
   "cell_type": "markdown",
   "id": "7a53065c",
   "metadata": {},
   "source": [
    "This example notebook shows how to use the 'Funnel Discovery' model on your data collected with Objectiv.\n",
    "\n",
    "In classical funnel analysis you predefine the steps, and then analyze the differences for user attributes or behavior in each step. However, this means you have to make assumptions about which steps matter, and you potentially miss important, impactful flows, e.g. because they are not very obvious or still small. Yet these can represent major opportunities to boost or optimize.\n",
    "\n",
    "This is where Funnel Discovery comes in: to discover _all_ the (top) user journeys that lead to conversion or drop-off, and run subsequent analyses on them.\n",
    "\n",
    "In particular, we will discover in this example:\n",
    "\n",
    "- The most popular consecutive steps overall;\n",
    "- The steps/flows which lead to conversion;\n",
    "- The most common drop-offs;\n",
    "- The top & bottom converting journeys coming from marketing campaigns;\n",
    "- Etcetera.\n",
    "\n",
    "To get started, we first have to instantiate the model hub and an Objectiv DataFrame object."
   ]
  },
  {
   "cell_type": "code",
   "execution_count": 43,
   "id": "4bd369f6",
   "metadata": {},
   "outputs": [],
   "source": [
    "from modelhub import ModelHub\n",
    "from bach import display_sql_as_markdown\n",
    "\n",
    "# instantiate the model hub and set the default time aggregation to daily\n",
    "modelhub = ModelHub(time_aggregation='%Y-%m-%d')\n",
    "# get a Bach DataFrame with Objectiv data within a defined timeframe\n",
    "df = modelhub.get_objectiv_dataframe(start_date='2022-02-01', end_date='2022-06-30')"
   ]
  },
  {
   "cell_type": "code",
   "execution_count": 44,
   "id": "da4ec1a0",
   "metadata": {},
   "outputs": [],
   "source": [
    "# add specific contexts to the data as columns\n",
    "df['application'] = df.global_contexts.gc.application\n",
    "df['feature_nice_name'] = df.location_stack.ls.nice_name"
   ]
  },
  {
   "cell_type": "code",
   "execution_count": 45,
   "id": "2436955f",
   "metadata": {},
   "outputs": [],
   "source": [
    "# select which event type to use for further analysis\n",
    "df = df[df['event_type'] == 'PressEvent']"
   ]
  },
  {
   "cell_type": "markdown",
   "id": "7eb040e6",
   "metadata": {},
   "source": [
    "### Reference\n",
    "* [modelhub.ModelHub.get_objectiv_dataframe](https://objectiv.io/docs/modeling/open-model-hub/api-reference/ModelHub/get_objectiv_dataframe/)\n",
    "* [modelhub.SeriesGlobalContexts.gc](https://objectiv.io/docs/modeling/open-model-hub/api-reference/SeriesGlobalContexts/gc/)\n",
    "* [modelhub.SeriesLocationStack.ls](https://objectiv.io/docs/modeling/open-model-hub/api-reference/SeriesLocationStack/ls/)"
   ]
  },
  {
   "cell_type": "markdown",
   "id": "6864ff88",
   "metadata": {},
   "source": [
    "## First: define conversion"
   ]
  },
  {
   "cell_type": "markdown",
   "id": "1b92eb2f",
   "metadata": {},
   "source": [
    "As a prerequisite for Funnel Discovery, define the events you see as conversion.\n",
    "\n",
    "In this example we will view someone as converted when they go on to read the documentation from our website."
   ]
  },
  {
   "cell_type": "code",
   "execution_count": 49,
   "id": "3f44b4d0",
   "metadata": {},
   "outputs": [],
   "source": [
    "# define which data to use as conversion events; in this example, anyone who goes on to read the documentation\n",
    "df['is_conversion_event'] = False\n",
    "df.loc[df['application'] == 'objectiv-docs', 'is_conversion_event'] = True"
   ]
  },
  {
   "cell_type": "markdown",
   "id": "a24eed6a",
   "metadata": {},
   "source": [
    "Out of curiousity, let's see which features are used by users that converted, sorted by their conversion impact."
   ]
  },
  {
   "cell_type": "code",
   "execution_count": 50,
   "id": "45e27d0e",
   "metadata": {},
   "outputs": [
    {
     "data": {
      "text/html": [
       "<div>\n",
       "<style scoped>\n",
       "    .dataframe tbody tr th:only-of-type {\n",
       "        vertical-align: middle;\n",
       "    }\n",
       "\n",
       "    .dataframe tbody tr th {\n",
       "        vertical-align: top;\n",
       "    }\n",
       "\n",
       "    .dataframe thead th {\n",
       "        text-align: right;\n",
       "    }\n",
       "</style>\n",
       "<table border=\"1\" class=\"dataframe\">\n",
       "  <thead>\n",
       "    <tr style=\"text-align: right;\">\n",
       "      <th></th>\n",
       "      <th>converted_users_percentage</th>\n",
       "    </tr>\n",
       "    <tr>\n",
       "      <th>feature_nice_name</th>\n",
       "      <th></th>\n",
       "    </tr>\n",
       "  </thead>\n",
       "  <tbody>\n",
       "    <tr>\n",
       "      <th>Link: Quickstart Guide located at Root Location: home =&gt; Navigation: docs-sidebar</th>\n",
       "      <td>15.946844</td>\n",
       "    </tr>\n",
       "    <tr>\n",
       "      <th>Link: logo located at Root Location: home =&gt; Navigation: navbar-top</th>\n",
       "      <td>10.797342</td>\n",
       "    </tr>\n",
       "    <tr>\n",
       "      <th>Link: Tracking located at Root Location: home =&gt; Navigation: navbar-top</th>\n",
       "      <td>10.631229</td>\n",
       "    </tr>\n",
       "    <tr>\n",
       "      <th>Link: Taxonomy located at Root Location: modeling =&gt; Navigation: navbar-top</th>\n",
       "      <td>10.299003</td>\n",
       "    </tr>\n",
       "    <tr>\n",
       "      <th>Link: Modeling located at Root Location: tracking =&gt; Navigation: navbar-top</th>\n",
       "      <td>9.966777</td>\n",
       "    </tr>\n",
       "  </tbody>\n",
       "</table>\n",
       "</div>"
      ],
      "text/plain": [
       "                                                    converted_users_percentage\n",
       "feature_nice_name                                                             \n",
       "Link: Quickstart Guide located at Root Location...                   15.946844\n",
       "Link: logo located at Root Location: home => Na...                   10.797342\n",
       "Link: Tracking located at Root Location: home =...                   10.631229\n",
       "Link: Taxonomy located at Root Location: modeli...                   10.299003\n",
       "Link: Modeling located at Root Location: tracki...                    9.966777"
      ]
     },
     "execution_count": 50,
     "metadata": {},
     "output_type": "execute_result"
    }
   ],
   "source": [
    "# calculate the percentage of converted users per feature: (converted users per feature) / (total users converted)\n",
    "total_converted_users = df[df['is_conversion_event']]['user_id'].unique().count().value\n",
    "top_conversion_locations = modelhub.agg.unique_users(df[df['is_conversion_event']], \n",
    "                                                     groupby='feature_nice_name')\n",
    "top_conversion_locations = (top_conversion_locations / total_converted_users) * 100\n",
    "\n",
    "# show the results, with .to_frame() for nicer formatting\n",
    "top_conversion_locations = top_conversion_locations.to_frame().rename(\n",
    "    columns={'unique_users': 'converted_users_percentage'})\n",
    "top_conversion_locations.sort_values(by='converted_users_percentage', ascending=False).head()"
   ]
  },
  {
   "cell_type": "markdown",
   "id": "3213ef0f",
   "metadata": {},
   "source": [
    "### Reference\n",
    "* [bach.Series.unique](https://objectiv.io/docs/modeling/bach/api-reference/Series/unique/)\n",
    "* [bach.DataFrame.count](https://objectiv.io/docs/modeling/bach/api-reference/DataFrame/count/)\n",
    "* [modelhub.Aggregate.unique_users](https://objectiv.io/docs/modeling/open-model-hub/models/aggregation/unique_users/)\n",
    "* [bach.Series.to_frame](https://objectiv.io/docs/modeling/bach/api-reference/Series/to_frame/)\n",
    "* [bach.DataFrame.rename](https://objectiv.io/docs/modeling/bach/api-reference/DataFrame/rename/)\n",
    "* [bach.DataFrame.sort_values](https://objectiv.io/docs/modeling/bach/api-reference/DataFrame/sort_values/)\n",
    "* [bach.DataFrame.head](https://objectiv.io/docs/modeling/bach/api-reference/DataFrame/head/)"
   ]
  },
  {
   "cell_type": "markdown",
   "id": "0fe817bf",
   "metadata": {},
   "source": [
    "## See step sequences per user"
   ]
  },
  {
   "cell_type": "markdown",
   "id": "fa673673",
   "metadata": {},
   "source": [
    "Before we see what converted and what didn't, let's have a look at which consecutive steps each user took (aka the features they used) in general, after starting their session, based on the [location stack](https://objectiv.io/docs/tracking/core-concepts/locations). We have to specify the maximum n steps, and use the [get_navigation_paths](TODO) operation."
   ]
  },
  {
   "cell_type": "code",
   "execution_count": 66,
   "id": "1cd0f5ad",
   "metadata": {},
   "outputs": [],
   "source": [
    "# Instantiate the FunnelDiscovery model from the open model hub\n",
    "funnel = modelhub.get_funnel_discovery()"
   ]
  },
  {
   "cell_type": "code",
   "execution_count": 67,
   "id": "a506aff1",
   "metadata": {},
   "outputs": [],
   "source": [
    "# set the maximum n steps\n",
    "max_steps = 4"
   ]
  },
  {
   "cell_type": "code",
   "execution_count": 68,
   "id": "66297c7f",
   "metadata": {},
   "outputs": [
    {
     "data": {
      "text/html": [
       "<div>\n",
       "<style scoped>\n",
       "    .dataframe tbody tr th:only-of-type {\n",
       "        vertical-align: middle;\n",
       "    }\n",
       "\n",
       "    .dataframe tbody tr th {\n",
       "        vertical-align: top;\n",
       "    }\n",
       "\n",
       "    .dataframe thead th {\n",
       "        text-align: right;\n",
       "    }\n",
       "</style>\n",
       "<table border=\"1\" class=\"dataframe\">\n",
       "  <thead>\n",
       "    <tr style=\"text-align: right;\">\n",
       "      <th></th>\n",
       "      <th>location_stack_step_1</th>\n",
       "      <th>location_stack_step_2</th>\n",
       "      <th>location_stack_step_3</th>\n",
       "      <th>location_stack_step_4</th>\n",
       "    </tr>\n",
       "    <tr>\n",
       "      <th>user_id</th>\n",
       "      <th></th>\n",
       "      <th></th>\n",
       "      <th></th>\n",
       "      <th></th>\n",
       "    </tr>\n",
       "  </thead>\n",
       "  <tbody>\n",
       "    <tr>\n",
       "      <th>0000bb2f-66e9-4e48-8e2f-7d0a82446ef4</th>\n",
       "      <td>Link: about-us located at Root Location: home ...</td>\n",
       "      <td>Link: logo located at Root Location: about =&gt; ...</td>\n",
       "      <td>None</td>\n",
       "      <td>None</td>\n",
       "    </tr>\n",
       "    <tr>\n",
       "      <th>0000bb2f-66e9-4e48-8e2f-7d0a82446ef4</th>\n",
       "      <td>Link: logo located at Root Location: about =&gt; ...</td>\n",
       "      <td>None</td>\n",
       "      <td>None</td>\n",
       "      <td>None</td>\n",
       "    </tr>\n",
       "    <tr>\n",
       "      <th>00529837-d672-4747-9b87-fd09f2919326</th>\n",
       "      <td>Link: blog located at Root Location: home =&gt; N...</td>\n",
       "      <td>Pressable: after located at Root Location: hom...</td>\n",
       "      <td>Link: spin-up-the-demo located at Root Locatio...</td>\n",
       "      <td>Link: blog located at Root Location: home =&gt; N...</td>\n",
       "    </tr>\n",
       "    <tr>\n",
       "      <th>00529837-d672-4747-9b87-fd09f2919326</th>\n",
       "      <td>Pressable: after located at Root Location: hom...</td>\n",
       "      <td>Link: spin-up-the-demo located at Root Locatio...</td>\n",
       "      <td>Link: blog located at Root Location: home =&gt; N...</td>\n",
       "      <td>Link: docs located at Root Location: blog =&gt; N...</td>\n",
       "    </tr>\n",
       "    <tr>\n",
       "      <th>00529837-d672-4747-9b87-fd09f2919326</th>\n",
       "      <td>Link: spin-up-the-demo located at Root Locatio...</td>\n",
       "      <td>Link: blog located at Root Location: home =&gt; N...</td>\n",
       "      <td>Link: docs located at Root Location: blog =&gt; N...</td>\n",
       "      <td>Link: bach-and-sklearn located at Root Locatio...</td>\n",
       "    </tr>\n",
       "  </tbody>\n",
       "</table>\n",
       "</div>"
      ],
      "text/plain": [
       "                                                                  location_stack_step_1  \\\n",
       "user_id                                                                                   \n",
       "0000bb2f-66e9-4e48-8e2f-7d0a82446ef4  Link: about-us located at Root Location: home ...   \n",
       "0000bb2f-66e9-4e48-8e2f-7d0a82446ef4  Link: logo located at Root Location: about => ...   \n",
       "00529837-d672-4747-9b87-fd09f2919326  Link: blog located at Root Location: home => N...   \n",
       "00529837-d672-4747-9b87-fd09f2919326  Pressable: after located at Root Location: hom...   \n",
       "00529837-d672-4747-9b87-fd09f2919326  Link: spin-up-the-demo located at Root Locatio...   \n",
       "\n",
       "                                                                  location_stack_step_2  \\\n",
       "user_id                                                                                   \n",
       "0000bb2f-66e9-4e48-8e2f-7d0a82446ef4  Link: logo located at Root Location: about => ...   \n",
       "0000bb2f-66e9-4e48-8e2f-7d0a82446ef4                                               None   \n",
       "00529837-d672-4747-9b87-fd09f2919326  Pressable: after located at Root Location: hom...   \n",
       "00529837-d672-4747-9b87-fd09f2919326  Link: spin-up-the-demo located at Root Locatio...   \n",
       "00529837-d672-4747-9b87-fd09f2919326  Link: blog located at Root Location: home => N...   \n",
       "\n",
       "                                                                  location_stack_step_3  \\\n",
       "user_id                                                                                   \n",
       "0000bb2f-66e9-4e48-8e2f-7d0a82446ef4                                               None   \n",
       "0000bb2f-66e9-4e48-8e2f-7d0a82446ef4                                               None   \n",
       "00529837-d672-4747-9b87-fd09f2919326  Link: spin-up-the-demo located at Root Locatio...   \n",
       "00529837-d672-4747-9b87-fd09f2919326  Link: blog located at Root Location: home => N...   \n",
       "00529837-d672-4747-9b87-fd09f2919326  Link: docs located at Root Location: blog => N...   \n",
       "\n",
       "                                                                  location_stack_step_4  \n",
       "user_id                                                                                  \n",
       "0000bb2f-66e9-4e48-8e2f-7d0a82446ef4                                               None  \n",
       "0000bb2f-66e9-4e48-8e2f-7d0a82446ef4                                               None  \n",
       "00529837-d672-4747-9b87-fd09f2919326  Link: blog located at Root Location: home => N...  \n",
       "00529837-d672-4747-9b87-fd09f2919326  Link: docs located at Root Location: blog => N...  \n",
       "00529837-d672-4747-9b87-fd09f2919326  Link: bach-and-sklearn located at Root Locatio...  "
      ]
     },
     "execution_count": 68,
     "metadata": {},
     "output_type": "execute_result"
    }
   ],
   "source": [
    "# For every user starting their session, find all maximum n consecutive steps they took\n",
    "df_steps = funnel.get_navigation_paths(df, steps=max_steps, by='user_id')\n",
    "df_steps.head()"
   ]
  },
  {
   "cell_type": "markdown",
   "id": "45085567",
   "metadata": {},
   "source": [
    "### Reference\n",
    "* [modelhub.models.funnel_discovery.get_funnel_discovery](TODO)\n",
    "* [modelhub.models.funnel_discovery.get_navigation_paths](TODO)\n",
    "* [bach.DataFrame.head](https://objectiv.io/docs/modeling/bach/api-reference/DataFrame/head/)"
   ]
  },
  {
   "cell_type": "markdown",
   "id": "958d991f",
   "metadata": {},
   "source": [
    "## See top step sequences for all users"
   ]
  },
  {
   "cell_type": "markdown",
   "id": "73637d50",
   "metadata": {},
   "source": [
    "For the bigger picture, calculate the most frequent consecutive steps that all users took after starting their session, based on the [location stack](https://objectiv.io/docs/tracking/core-concepts/locations)."
   ]
  },
  {
   "cell_type": "code",
   "execution_count": 69,
   "id": "beb31893",
   "metadata": {
    "scrolled": true
   },
   "outputs": [
    {
     "data": {
      "text/html": [
       "<div>\n",
       "<style scoped>\n",
       "    .dataframe tbody tr th:only-of-type {\n",
       "        vertical-align: middle;\n",
       "    }\n",
       "\n",
       "    .dataframe tbody tr th {\n",
       "        vertical-align: top;\n",
       "    }\n",
       "\n",
       "    .dataframe thead th {\n",
       "        text-align: right;\n",
       "    }\n",
       "</style>\n",
       "<table border=\"1\" class=\"dataframe\">\n",
       "  <thead>\n",
       "    <tr style=\"text-align: right;\">\n",
       "      <th></th>\n",
       "      <th></th>\n",
       "      <th></th>\n",
       "      <th></th>\n",
       "      <th>value_counts</th>\n",
       "    </tr>\n",
       "    <tr>\n",
       "      <th>location_stack_step_1</th>\n",
       "      <th>location_stack_step_2</th>\n",
       "      <th>location_stack_step_3</th>\n",
       "      <th>location_stack_step_4</th>\n",
       "      <th></th>\n",
       "    </tr>\n",
       "  </thead>\n",
       "  <tbody>\n",
       "    <tr>\n",
       "      <th>Pressable: after located at Root Location: home =&gt; Content: capture-data =&gt; Content: data-capture-workflow-before-after</th>\n",
       "      <th>NaN</th>\n",
       "      <th>NaN</th>\n",
       "      <th>NaN</th>\n",
       "      <td>154</td>\n",
       "    </tr>\n",
       "    <tr>\n",
       "      <th>Pressable: after located at Root Location: home =&gt; Content: modeling =&gt; Content: modeling-workflow-before-after</th>\n",
       "      <th>NaN</th>\n",
       "      <th>NaN</th>\n",
       "      <th>NaN</th>\n",
       "      <td>126</td>\n",
       "    </tr>\n",
       "    <tr>\n",
       "      <th>Link: about-us located at Root Location: home =&gt; Navigation: navbar-top</th>\n",
       "      <th>NaN</th>\n",
       "      <th>NaN</th>\n",
       "      <th>NaN</th>\n",
       "      <td>68</td>\n",
       "    </tr>\n",
       "    <tr>\n",
       "      <th>Pressable: hamburger located at Root Location: home =&gt; Navigation: navbar-top</th>\n",
       "      <th>NaN</th>\n",
       "      <th>NaN</th>\n",
       "      <th>NaN</th>\n",
       "      <td>63</td>\n",
       "    </tr>\n",
       "    <tr>\n",
       "      <th>Pressable: before located at Root Location: home =&gt; Content: capture-data =&gt; Content: data-capture-workflow-before-after</th>\n",
       "      <th>NaN</th>\n",
       "      <th>NaN</th>\n",
       "      <th>NaN</th>\n",
       "      <td>54</td>\n",
       "    </tr>\n",
       "    <tr>\n",
       "      <th>Link: logo located at Root Location: home =&gt; Navigation: navbar-top</th>\n",
       "      <th>NaN</th>\n",
       "      <th>NaN</th>\n",
       "      <th>NaN</th>\n",
       "      <td>52</td>\n",
       "    </tr>\n",
       "    <tr>\n",
       "      <th>Pressable: before located at Root Location: home =&gt; Content: capture-data =&gt; Content: data-capture-workflow-before-after</th>\n",
       "      <th>Pressable: after located at Root Location: home =&gt; Content: capture-data =&gt; Content: data-capture-workflow-before-after</th>\n",
       "      <th>NaN</th>\n",
       "      <th>NaN</th>\n",
       "      <td>49</td>\n",
       "    </tr>\n",
       "    <tr>\n",
       "      <th rowspan=\"2\" valign=\"top\">Pressable: after located at Root Location: home =&gt; Content: capture-data =&gt; Content: data-capture-workflow-before-after</th>\n",
       "      <th>Pressable: before located at Root Location: home =&gt; Content: capture-data =&gt; Content: data-capture-workflow-before-after</th>\n",
       "      <th>NaN</th>\n",
       "      <th>NaN</th>\n",
       "      <td>48</td>\n",
       "    </tr>\n",
       "    <tr>\n",
       "      <th>Pressable: after located at Root Location: home =&gt; Content: modeling =&gt; Content: modeling-workflow-before-after</th>\n",
       "      <th>NaN</th>\n",
       "      <th>NaN</th>\n",
       "      <td>46</td>\n",
       "    </tr>\n",
       "    <tr>\n",
       "      <th>Link: github located at Root Location: home =&gt; Navigation: navbar-top</th>\n",
       "      <th>NaN</th>\n",
       "      <th>NaN</th>\n",
       "      <th>NaN</th>\n",
       "      <td>42</td>\n",
       "    </tr>\n",
       "    <tr>\n",
       "      <th>Link: star-us located at Root Location: home =&gt; Content: hero</th>\n",
       "      <th>NaN</th>\n",
       "      <th>NaN</th>\n",
       "      <th>NaN</th>\n",
       "      <td>41</td>\n",
       "    </tr>\n",
       "    <tr>\n",
       "      <th>Link: logo located at Root Location: blog =&gt; Navigation: navbar-top</th>\n",
       "      <th>NaN</th>\n",
       "      <th>NaN</th>\n",
       "      <th>NaN</th>\n",
       "      <td>40</td>\n",
       "    </tr>\n",
       "    <tr>\n",
       "      <th>Pressable: after located at Root Location: home =&gt; Content: capture-data =&gt; Content: data-capture-workflow-before-after</th>\n",
       "      <th>Pressable: before located at Root Location: home =&gt; Content: capture-data =&gt; Content: data-capture-workflow-before-after</th>\n",
       "      <th>Pressable: after located at Root Location: home =&gt; Content: capture-data =&gt; Content: data-capture-workflow-before-after</th>\n",
       "      <th>Pressable: before located at Root Location: home =&gt; Content: capture-data =&gt; Content: data-capture-workflow-before-after</th>\n",
       "      <td>39</td>\n",
       "    </tr>\n",
       "    <tr>\n",
       "      <th>Pressable: before located at Root Location: home =&gt; Content: modeling =&gt; Content: modeling-workflow-before-after</th>\n",
       "      <th>NaN</th>\n",
       "      <th>NaN</th>\n",
       "      <th>NaN</th>\n",
       "      <td>36</td>\n",
       "    </tr>\n",
       "    <tr>\n",
       "      <th>Link: spin-up-the-demo located at Root Location: home =&gt; Content: hero</th>\n",
       "      <th>NaN</th>\n",
       "      <th>NaN</th>\n",
       "      <th>NaN</th>\n",
       "      <td>35</td>\n",
       "    </tr>\n",
       "    <tr>\n",
       "      <th>Pressable: after located at Root Location: home =&gt; Content: modeling =&gt; Content: modeling-workflow-before-after</th>\n",
       "      <th>Pressable: before located at Root Location: home =&gt; Content: modeling =&gt; Content: modeling-workflow-before-after</th>\n",
       "      <th>NaN</th>\n",
       "      <th>NaN</th>\n",
       "      <td>35</td>\n",
       "    </tr>\n",
       "    <tr>\n",
       "      <th>Pressable: before located at Root Location: home =&gt; Content: modeling =&gt; Content: modeling-workflow-before-after</th>\n",
       "      <th>Pressable: after located at Root Location: home =&gt; Content: modeling =&gt; Content: modeling-workflow-before-after</th>\n",
       "      <th>NaN</th>\n",
       "      <th>NaN</th>\n",
       "      <td>31</td>\n",
       "    </tr>\n",
       "    <tr>\n",
       "      <th>Pressable: before located at Root Location: home =&gt; Content: capture-data =&gt; Content: data-capture-workflow-before-after</th>\n",
       "      <th>Pressable: after located at Root Location: home =&gt; Content: capture-data =&gt; Content: data-capture-workflow-before-after</th>\n",
       "      <th>Pressable: before located at Root Location: home =&gt; Content: capture-data =&gt; Content: data-capture-workflow-before-after</th>\n",
       "      <th>Pressable: after located at Root Location: home =&gt; Content: capture-data =&gt; Content: data-capture-workflow-before-after</th>\n",
       "      <td>29</td>\n",
       "    </tr>\n",
       "    <tr>\n",
       "      <th>Pressable: after located at Root Location: home =&gt; Content: capture-data =&gt; Content: data-capture-workflow-before-after</th>\n",
       "      <th>Pressable: before located at Root Location: home =&gt; Content: capture-data =&gt; Content: data-capture-workflow-before-after</th>\n",
       "      <th>Pressable: after located at Root Location: home =&gt; Content: capture-data =&gt; Content: data-capture-workflow-before-after</th>\n",
       "      <th>NaN</th>\n",
       "      <td>28</td>\n",
       "    </tr>\n",
       "    <tr>\n",
       "      <th>Link: docs located at Root Location: home =&gt; Navigation: navbar-top</th>\n",
       "      <th>NaN</th>\n",
       "      <th>NaN</th>\n",
       "      <th>NaN</th>\n",
       "      <td>25</td>\n",
       "    </tr>\n",
       "  </tbody>\n",
       "</table>\n",
       "</div>"
      ],
      "text/plain": [
       "                                                                                                                                                                                                             value_counts\n",
       "location_stack_step_1                              location_stack_step_2                              location_stack_step_3                              location_stack_step_4                                           \n",
       "Pressable: after located at Root Location: home... NaN                                                NaN                                                NaN                                                          154\n",
       "Pressable: after located at Root Location: home... NaN                                                NaN                                                NaN                                                          126\n",
       "Link: about-us located at Root Location: home =... NaN                                                NaN                                                NaN                                                           68\n",
       "Pressable: hamburger located at Root Location: ... NaN                                                NaN                                                NaN                                                           63\n",
       "Pressable: before located at Root Location: hom... NaN                                                NaN                                                NaN                                                           54\n",
       "Link: logo located at Root Location: home => Na... NaN                                                NaN                                                NaN                                                           52\n",
       "Pressable: before located at Root Location: hom... Pressable: after located at Root Location: home... NaN                                                NaN                                                           49\n",
       "Pressable: after located at Root Location: home... Pressable: before located at Root Location: hom... NaN                                                NaN                                                           48\n",
       "                                                   Pressable: after located at Root Location: home... NaN                                                NaN                                                           46\n",
       "Link: github located at Root Location: home => ... NaN                                                NaN                                                NaN                                                           42\n",
       "Link: star-us located at Root Location: home =>... NaN                                                NaN                                                NaN                                                           41\n",
       "Link: logo located at Root Location: blog => Na... NaN                                                NaN                                                NaN                                                           40\n",
       "Pressable: after located at Root Location: home... Pressable: before located at Root Location: hom... Pressable: after located at Root Location: home... Pressable: before located at Root Location: hom...            39\n",
       "Pressable: before located at Root Location: hom... NaN                                                NaN                                                NaN                                                           36\n",
       "Link: spin-up-the-demo located at Root Location... NaN                                                NaN                                                NaN                                                           35\n",
       "Pressable: after located at Root Location: home... Pressable: before located at Root Location: hom... NaN                                                NaN                                                           35\n",
       "Pressable: before located at Root Location: hom... Pressable: after located at Root Location: home... NaN                                                NaN                                                           31\n",
       "Pressable: before located at Root Location: hom... Pressable: after located at Root Location: home... Pressable: before located at Root Location: hom... Pressable: after located at Root Location: home...            29\n",
       "Pressable: after located at Root Location: home... Pressable: before located at Root Location: hom... Pressable: after located at Root Location: home... NaN                                                           28\n",
       "Link: docs located at Root Location: home => Na... NaN                                                NaN                                                NaN                                                           25"
      ]
     },
     "execution_count": 69,
     "metadata": {},
     "output_type": "execute_result"
    }
   ],
   "source": [
    "df_steps.value_counts().to_frame().head(20)"
   ]
  },
  {
   "cell_type": "markdown",
   "id": "4771dd64",
   "metadata": {},
   "source": [
    "### Reference\n",
    "* [bach.Series.to_frame](https://objectiv.io/docs/modeling/bach/api-reference/Series/to_frame/)\n",
    "* [bach.DataFrame.value_counts](https://objectiv.io/docs/modeling/bach/api-reference/DataFrame/value_counts/)"
   ]
  },
  {
   "cell_type": "markdown",
   "id": "a2e3b7ce",
   "metadata": {},
   "source": [
    "## See step sequences that lead to conversion"
   ]
  },
  {
   "cell_type": "markdown",
   "id": "f1e31542",
   "metadata": {},
   "source": [
    "Now let's find the sequences that actually lead to conversion."
   ]
  },
  {
   "cell_type": "markdown",
   "id": "512ebb52",
   "metadata": {},
   "source": [
    "First, see which step resulted in conversion to the dataframe, which will be NaN for sequences that did not convert."
   ]
  },
  {
   "cell_type": "code",
   "execution_count": 76,
   "id": "5fc23cf9",
   "metadata": {},
   "outputs": [
    {
     "data": {
      "text/html": [
       "<div>\n",
       "<style scoped>\n",
       "    .dataframe tbody tr th:only-of-type {\n",
       "        vertical-align: middle;\n",
       "    }\n",
       "\n",
       "    .dataframe tbody tr th {\n",
       "        vertical-align: top;\n",
       "    }\n",
       "\n",
       "    .dataframe thead th {\n",
       "        text-align: right;\n",
       "    }\n",
       "</style>\n",
       "<table border=\"1\" class=\"dataframe\">\n",
       "  <thead>\n",
       "    <tr style=\"text-align: right;\">\n",
       "      <th></th>\n",
       "      <th>location_stack_step_1</th>\n",
       "      <th>location_stack_step_2</th>\n",
       "      <th>location_stack_step_3</th>\n",
       "      <th>location_stack_step_4</th>\n",
       "      <th>_first_conversion_step_number</th>\n",
       "    </tr>\n",
       "    <tr>\n",
       "      <th>user_id</th>\n",
       "      <th></th>\n",
       "      <th></th>\n",
       "      <th></th>\n",
       "      <th></th>\n",
       "      <th></th>\n",
       "    </tr>\n",
       "  </thead>\n",
       "  <tbody>\n",
       "    <tr>\n",
       "      <th>0000bb2f-66e9-4e48-8e2f-7d0a82446ef4</th>\n",
       "      <td>Link: about-us located at Root Location: home ...</td>\n",
       "      <td>Link: logo located at Root Location: about =&gt; ...</td>\n",
       "      <td>None</td>\n",
       "      <td>None</td>\n",
       "      <td>NaN</td>\n",
       "    </tr>\n",
       "    <tr>\n",
       "      <th>0000bb2f-66e9-4e48-8e2f-7d0a82446ef4</th>\n",
       "      <td>Link: logo located at Root Location: about =&gt; ...</td>\n",
       "      <td>None</td>\n",
       "      <td>None</td>\n",
       "      <td>None</td>\n",
       "      <td>NaN</td>\n",
       "    </tr>\n",
       "    <tr>\n",
       "      <th>00529837-d672-4747-9b87-fd09f2919326</th>\n",
       "      <td>Link: blog located at Root Location: home =&gt; N...</td>\n",
       "      <td>Pressable: after located at Root Location: hom...</td>\n",
       "      <td>Link: spin-up-the-demo located at Root Locatio...</td>\n",
       "      <td>Link: blog located at Root Location: home =&gt; N...</td>\n",
       "      <td>NaN</td>\n",
       "    </tr>\n",
       "    <tr>\n",
       "      <th>00529837-d672-4747-9b87-fd09f2919326</th>\n",
       "      <td>Pressable: after located at Root Location: hom...</td>\n",
       "      <td>Link: spin-up-the-demo located at Root Locatio...</td>\n",
       "      <td>Link: blog located at Root Location: home =&gt; N...</td>\n",
       "      <td>Link: docs located at Root Location: blog =&gt; N...</td>\n",
       "      <td>NaN</td>\n",
       "    </tr>\n",
       "    <tr>\n",
       "      <th>00529837-d672-4747-9b87-fd09f2919326</th>\n",
       "      <td>Link: spin-up-the-demo located at Root Locatio...</td>\n",
       "      <td>Link: blog located at Root Location: home =&gt; N...</td>\n",
       "      <td>Link: docs located at Root Location: blog =&gt; N...</td>\n",
       "      <td>Link: bach-and-sklearn located at Root Locatio...</td>\n",
       "      <td>4.0</td>\n",
       "    </tr>\n",
       "    <tr>\n",
       "      <th>00529837-d672-4747-9b87-fd09f2919326</th>\n",
       "      <td>Link: blog located at Root Location: home =&gt; N...</td>\n",
       "      <td>Link: docs located at Root Location: blog =&gt; N...</td>\n",
       "      <td>Link: bach-and-sklearn located at Root Locatio...</td>\n",
       "      <td>Link: basic-product-analytics located at Root ...</td>\n",
       "      <td>3.0</td>\n",
       "    </tr>\n",
       "    <tr>\n",
       "      <th>00529837-d672-4747-9b87-fd09f2919326</th>\n",
       "      <td>Link: docs located at Root Location: blog =&gt; N...</td>\n",
       "      <td>Link: bach-and-sklearn located at Root Locatio...</td>\n",
       "      <td>Link: basic-product-analytics located at Root ...</td>\n",
       "      <td>None</td>\n",
       "      <td>2.0</td>\n",
       "    </tr>\n",
       "    <tr>\n",
       "      <th>00529837-d672-4747-9b87-fd09f2919326</th>\n",
       "      <td>Link: bach-and-sklearn located at Root Locatio...</td>\n",
       "      <td>Link: basic-product-analytics located at Root ...</td>\n",
       "      <td>None</td>\n",
       "      <td>None</td>\n",
       "      <td>1.0</td>\n",
       "    </tr>\n",
       "    <tr>\n",
       "      <th>00529837-d672-4747-9b87-fd09f2919326</th>\n",
       "      <td>Link: basic-product-analytics located at Root ...</td>\n",
       "      <td>None</td>\n",
       "      <td>None</td>\n",
       "      <td>None</td>\n",
       "      <td>1.0</td>\n",
       "    </tr>\n",
       "    <tr>\n",
       "      <th>005aa19c-7e80-4960-928c-a0853355ee5f</th>\n",
       "      <td>Link: check-out-thijs-obj-on-github located at...</td>\n",
       "      <td>Link: jobs located at Root Location: about =&gt; ...</td>\n",
       "      <td>None</td>\n",
       "      <td>None</td>\n",
       "      <td>NaN</td>\n",
       "    </tr>\n",
       "  </tbody>\n",
       "</table>\n",
       "</div>"
      ],
      "text/plain": [
       "                                                                  location_stack_step_1  \\\n",
       "user_id                                                                                   \n",
       "0000bb2f-66e9-4e48-8e2f-7d0a82446ef4  Link: about-us located at Root Location: home ...   \n",
       "0000bb2f-66e9-4e48-8e2f-7d0a82446ef4  Link: logo located at Root Location: about => ...   \n",
       "00529837-d672-4747-9b87-fd09f2919326  Link: blog located at Root Location: home => N...   \n",
       "00529837-d672-4747-9b87-fd09f2919326  Pressable: after located at Root Location: hom...   \n",
       "00529837-d672-4747-9b87-fd09f2919326  Link: spin-up-the-demo located at Root Locatio...   \n",
       "00529837-d672-4747-9b87-fd09f2919326  Link: blog located at Root Location: home => N...   \n",
       "00529837-d672-4747-9b87-fd09f2919326  Link: docs located at Root Location: blog => N...   \n",
       "00529837-d672-4747-9b87-fd09f2919326  Link: bach-and-sklearn located at Root Locatio...   \n",
       "00529837-d672-4747-9b87-fd09f2919326  Link: basic-product-analytics located at Root ...   \n",
       "005aa19c-7e80-4960-928c-a0853355ee5f  Link: check-out-thijs-obj-on-github located at...   \n",
       "\n",
       "                                                                  location_stack_step_2  \\\n",
       "user_id                                                                                   \n",
       "0000bb2f-66e9-4e48-8e2f-7d0a82446ef4  Link: logo located at Root Location: about => ...   \n",
       "0000bb2f-66e9-4e48-8e2f-7d0a82446ef4                                               None   \n",
       "00529837-d672-4747-9b87-fd09f2919326  Pressable: after located at Root Location: hom...   \n",
       "00529837-d672-4747-9b87-fd09f2919326  Link: spin-up-the-demo located at Root Locatio...   \n",
       "00529837-d672-4747-9b87-fd09f2919326  Link: blog located at Root Location: home => N...   \n",
       "00529837-d672-4747-9b87-fd09f2919326  Link: docs located at Root Location: blog => N...   \n",
       "00529837-d672-4747-9b87-fd09f2919326  Link: bach-and-sklearn located at Root Locatio...   \n",
       "00529837-d672-4747-9b87-fd09f2919326  Link: basic-product-analytics located at Root ...   \n",
       "00529837-d672-4747-9b87-fd09f2919326                                               None   \n",
       "005aa19c-7e80-4960-928c-a0853355ee5f  Link: jobs located at Root Location: about => ...   \n",
       "\n",
       "                                                                  location_stack_step_3  \\\n",
       "user_id                                                                                   \n",
       "0000bb2f-66e9-4e48-8e2f-7d0a82446ef4                                               None   \n",
       "0000bb2f-66e9-4e48-8e2f-7d0a82446ef4                                               None   \n",
       "00529837-d672-4747-9b87-fd09f2919326  Link: spin-up-the-demo located at Root Locatio...   \n",
       "00529837-d672-4747-9b87-fd09f2919326  Link: blog located at Root Location: home => N...   \n",
       "00529837-d672-4747-9b87-fd09f2919326  Link: docs located at Root Location: blog => N...   \n",
       "00529837-d672-4747-9b87-fd09f2919326  Link: bach-and-sklearn located at Root Locatio...   \n",
       "00529837-d672-4747-9b87-fd09f2919326  Link: basic-product-analytics located at Root ...   \n",
       "00529837-d672-4747-9b87-fd09f2919326                                               None   \n",
       "00529837-d672-4747-9b87-fd09f2919326                                               None   \n",
       "005aa19c-7e80-4960-928c-a0853355ee5f                                               None   \n",
       "\n",
       "                                                                  location_stack_step_4  \\\n",
       "user_id                                                                                   \n",
       "0000bb2f-66e9-4e48-8e2f-7d0a82446ef4                                               None   \n",
       "0000bb2f-66e9-4e48-8e2f-7d0a82446ef4                                               None   \n",
       "00529837-d672-4747-9b87-fd09f2919326  Link: blog located at Root Location: home => N...   \n",
       "00529837-d672-4747-9b87-fd09f2919326  Link: docs located at Root Location: blog => N...   \n",
       "00529837-d672-4747-9b87-fd09f2919326  Link: bach-and-sklearn located at Root Locatio...   \n",
       "00529837-d672-4747-9b87-fd09f2919326  Link: basic-product-analytics located at Root ...   \n",
       "00529837-d672-4747-9b87-fd09f2919326                                               None   \n",
       "00529837-d672-4747-9b87-fd09f2919326                                               None   \n",
       "00529837-d672-4747-9b87-fd09f2919326                                               None   \n",
       "005aa19c-7e80-4960-928c-a0853355ee5f                                               None   \n",
       "\n",
       "                                      _first_conversion_step_number  \n",
       "user_id                                                              \n",
       "0000bb2f-66e9-4e48-8e2f-7d0a82446ef4                            NaN  \n",
       "0000bb2f-66e9-4e48-8e2f-7d0a82446ef4                            NaN  \n",
       "00529837-d672-4747-9b87-fd09f2919326                            NaN  \n",
       "00529837-d672-4747-9b87-fd09f2919326                            NaN  \n",
       "00529837-d672-4747-9b87-fd09f2919326                            4.0  \n",
       "00529837-d672-4747-9b87-fd09f2919326                            3.0  \n",
       "00529837-d672-4747-9b87-fd09f2919326                            2.0  \n",
       "00529837-d672-4747-9b87-fd09f2919326                            1.0  \n",
       "00529837-d672-4747-9b87-fd09f2919326                            1.0  \n",
       "005aa19c-7e80-4960-928c-a0853355ee5f                            NaN  "
      ]
     },
     "execution_count": 76,
     "metadata": {},
     "output_type": "execute_result"
    }
   ],
   "source": [
    "# Add which step resulted in conversion to the dataframe, with the `add_conversion_step_column` param\n",
    "df_first_conversion_step = funnel.get_navigation_paths(df, steps=max_steps, by='user_id', add_conversion_step_column=True)\n",
    "df_first_conversion_step.head(10)"
   ]
  },
  {
   "cell_type": "markdown",
   "id": "f94ab49e",
   "metadata": {},
   "source": [
    "To filter down to all sequences that have actually converted, use the `only_converted_paths` parameter."
   ]
  },
  {
   "cell_type": "code",
   "execution_count": 80,
   "id": "80e61efa",
   "metadata": {},
   "outputs": [
    {
     "data": {
      "text/html": [
       "<div>\n",
       "<style scoped>\n",
       "    .dataframe tbody tr th:only-of-type {\n",
       "        vertical-align: middle;\n",
       "    }\n",
       "\n",
       "    .dataframe tbody tr th {\n",
       "        vertical-align: top;\n",
       "    }\n",
       "\n",
       "    .dataframe thead th {\n",
       "        text-align: right;\n",
       "    }\n",
       "</style>\n",
       "<table border=\"1\" class=\"dataframe\">\n",
       "  <thead>\n",
       "    <tr style=\"text-align: right;\">\n",
       "      <th></th>\n",
       "      <th>location_stack_step_1</th>\n",
       "      <th>location_stack_step_2</th>\n",
       "      <th>location_stack_step_3</th>\n",
       "      <th>location_stack_step_4</th>\n",
       "      <th>_first_conversion_step_number</th>\n",
       "    </tr>\n",
       "    <tr>\n",
       "      <th>user_id</th>\n",
       "      <th></th>\n",
       "      <th></th>\n",
       "      <th></th>\n",
       "      <th></th>\n",
       "      <th></th>\n",
       "    </tr>\n",
       "  </thead>\n",
       "  <tbody>\n",
       "    <tr>\n",
       "      <th>00529837-d672-4747-9b87-fd09f2919326</th>\n",
       "      <td>Link: spin-up-the-demo located at Root Locatio...</td>\n",
       "      <td>Link: blog located at Root Location: home =&gt; N...</td>\n",
       "      <td>Link: docs located at Root Location: blog =&gt; N...</td>\n",
       "      <td>Link: bach-and-sklearn located at Root Locatio...</td>\n",
       "      <td>4</td>\n",
       "    </tr>\n",
       "    <tr>\n",
       "      <th>00529837-d672-4747-9b87-fd09f2919326</th>\n",
       "      <td>Link: blog located at Root Location: home =&gt; N...</td>\n",
       "      <td>Link: docs located at Root Location: blog =&gt; N...</td>\n",
       "      <td>Link: bach-and-sklearn located at Root Locatio...</td>\n",
       "      <td>None</td>\n",
       "      <td>3</td>\n",
       "    </tr>\n",
       "    <tr>\n",
       "      <th>00529837-d672-4747-9b87-fd09f2919326</th>\n",
       "      <td>Link: docs located at Root Location: blog =&gt; N...</td>\n",
       "      <td>Link: bach-and-sklearn located at Root Locatio...</td>\n",
       "      <td>None</td>\n",
       "      <td>None</td>\n",
       "      <td>2</td>\n",
       "    </tr>\n",
       "    <tr>\n",
       "      <th>007f5fd7-7535-434e-aa3e-3d52f06d63ce</th>\n",
       "      <td>Link: docs located at Root Location: home =&gt; N...</td>\n",
       "      <td>Link: Modeling located at Root Location: home ...</td>\n",
       "      <td>None</td>\n",
       "      <td>None</td>\n",
       "      <td>2</td>\n",
       "    </tr>\n",
       "    <tr>\n",
       "      <th>007f5fd7-7535-434e-aa3e-3d52f06d63ce</th>\n",
       "      <td>Link: docs located at Root Location: home =&gt; N...</td>\n",
       "      <td>Link: Modeling located at Root Location: home ...</td>\n",
       "      <td>None</td>\n",
       "      <td>None</td>\n",
       "      <td>2</td>\n",
       "    </tr>\n",
       "  </tbody>\n",
       "</table>\n",
       "</div>"
      ],
      "text/plain": [
       "                                                                  location_stack_step_1  \\\n",
       "user_id                                                                                   \n",
       "00529837-d672-4747-9b87-fd09f2919326  Link: spin-up-the-demo located at Root Locatio...   \n",
       "00529837-d672-4747-9b87-fd09f2919326  Link: blog located at Root Location: home => N...   \n",
       "00529837-d672-4747-9b87-fd09f2919326  Link: docs located at Root Location: blog => N...   \n",
       "007f5fd7-7535-434e-aa3e-3d52f06d63ce  Link: docs located at Root Location: home => N...   \n",
       "007f5fd7-7535-434e-aa3e-3d52f06d63ce  Link: docs located at Root Location: home => N...   \n",
       "\n",
       "                                                                  location_stack_step_2  \\\n",
       "user_id                                                                                   \n",
       "00529837-d672-4747-9b87-fd09f2919326  Link: blog located at Root Location: home => N...   \n",
       "00529837-d672-4747-9b87-fd09f2919326  Link: docs located at Root Location: blog => N...   \n",
       "00529837-d672-4747-9b87-fd09f2919326  Link: bach-and-sklearn located at Root Locatio...   \n",
       "007f5fd7-7535-434e-aa3e-3d52f06d63ce  Link: Modeling located at Root Location: home ...   \n",
       "007f5fd7-7535-434e-aa3e-3d52f06d63ce  Link: Modeling located at Root Location: home ...   \n",
       "\n",
       "                                                                  location_stack_step_3  \\\n",
       "user_id                                                                                   \n",
       "00529837-d672-4747-9b87-fd09f2919326  Link: docs located at Root Location: blog => N...   \n",
       "00529837-d672-4747-9b87-fd09f2919326  Link: bach-and-sklearn located at Root Locatio...   \n",
       "00529837-d672-4747-9b87-fd09f2919326                                               None   \n",
       "007f5fd7-7535-434e-aa3e-3d52f06d63ce                                               None   \n",
       "007f5fd7-7535-434e-aa3e-3d52f06d63ce                                               None   \n",
       "\n",
       "                                                                  location_stack_step_4  \\\n",
       "user_id                                                                                   \n",
       "00529837-d672-4747-9b87-fd09f2919326  Link: bach-and-sklearn located at Root Locatio...   \n",
       "00529837-d672-4747-9b87-fd09f2919326                                               None   \n",
       "00529837-d672-4747-9b87-fd09f2919326                                               None   \n",
       "007f5fd7-7535-434e-aa3e-3d52f06d63ce                                               None   \n",
       "007f5fd7-7535-434e-aa3e-3d52f06d63ce                                               None   \n",
       "\n",
       "                                      _first_conversion_step_number  \n",
       "user_id                                                              \n",
       "00529837-d672-4747-9b87-fd09f2919326                              4  \n",
       "00529837-d672-4747-9b87-fd09f2919326                              3  \n",
       "00529837-d672-4747-9b87-fd09f2919326                              2  \n",
       "007f5fd7-7535-434e-aa3e-3d52f06d63ce                              2  \n",
       "007f5fd7-7535-434e-aa3e-3d52f06d63ce                              2  "
      ]
     },
     "execution_count": 80,
     "metadata": {},
     "output_type": "execute_result"
    }
   ],
   "source": [
    "# Filter down to all sequences that have actually converted with the `only_converted_paths` param\n",
    "df_steps_till_conversion = funnel.get_navigation_paths(df, steps=max_steps, by='user_id', add_conversion_step_column=True, only_converted_paths=True)\n",
    "df_steps_till_conversion.head(5) "
   ]
  },
  {
   "cell_type": "markdown",
   "id": "69db8b22",
   "metadata": {},
   "source": [
    "We can use this to for instance see which sequences converted on the 4th step"
   ]
  },
  {
   "cell_type": "code",
   "execution_count": 85,
   "id": "63ac504f",
   "metadata": {},
   "outputs": [
    {
     "data": {
      "text/html": [
       "<div>\n",
       "<style scoped>\n",
       "    .dataframe tbody tr th:only-of-type {\n",
       "        vertical-align: middle;\n",
       "    }\n",
       "\n",
       "    .dataframe tbody tr th {\n",
       "        vertical-align: top;\n",
       "    }\n",
       "\n",
       "    .dataframe thead th {\n",
       "        text-align: right;\n",
       "    }\n",
       "</style>\n",
       "<table border=\"1\" class=\"dataframe\">\n",
       "  <thead>\n",
       "    <tr style=\"text-align: right;\">\n",
       "      <th></th>\n",
       "      <th>location_stack_step_1</th>\n",
       "      <th>location_stack_step_2</th>\n",
       "      <th>location_stack_step_3</th>\n",
       "      <th>location_stack_step_4</th>\n",
       "      <th>_first_conversion_step_number</th>\n",
       "    </tr>\n",
       "    <tr>\n",
       "      <th>user_id</th>\n",
       "      <th></th>\n",
       "      <th></th>\n",
       "      <th></th>\n",
       "      <th></th>\n",
       "      <th></th>\n",
       "    </tr>\n",
       "  </thead>\n",
       "  <tbody>\n",
       "    <tr>\n",
       "      <th>00529837-d672-4747-9b87-fd09f2919326</th>\n",
       "      <td>Link: spin-up-the-demo located at Root Locatio...</td>\n",
       "      <td>Link: blog located at Root Location: home =&gt; N...</td>\n",
       "      <td>Link: docs located at Root Location: blog =&gt; N...</td>\n",
       "      <td>Link: bach-and-sklearn located at Root Locatio...</td>\n",
       "      <td>4</td>\n",
       "    </tr>\n",
       "    <tr>\n",
       "      <th>01891784-6333-40f1-8be6-739f3adfdb97</th>\n",
       "      <td>Link: about-us located at Root Location: home ...</td>\n",
       "      <td>Pressable: hamburger located at Root Location:...</td>\n",
       "      <td>Link: faq located at Root Location: home =&gt; Na...</td>\n",
       "      <td>Pressable: navbar-toggle located at Root Locat...</td>\n",
       "      <td>4</td>\n",
       "    </tr>\n",
       "    <tr>\n",
       "      <th>02f197f4-90d1-4374-b8a5-89e2e91310d7</th>\n",
       "      <td>Pressable: after located at Root Location: hom...</td>\n",
       "      <td>Pressable: before located at Root Location: ho...</td>\n",
       "      <td>Pressable: after located at Root Location: hom...</td>\n",
       "      <td>Link: logo located at Root Location: modeling ...</td>\n",
       "      <td>4</td>\n",
       "    </tr>\n",
       "    <tr>\n",
       "      <th>05bd4058-b7df-4476-8174-dcf0be107b5c</th>\n",
       "      <td>Link: blog located at Root Location: home =&gt; N...</td>\n",
       "      <td>Link: jobs located at Root Location: blog =&gt; N...</td>\n",
       "      <td>Link: faq located at Root Location: jobs =&gt; Na...</td>\n",
       "      <td>Link: Objectiv.io located at Root Location: ho...</td>\n",
       "      <td>4</td>\n",
       "    </tr>\n",
       "    <tr>\n",
       "      <th>0605440c-1eba-479a-9000-8294576199aa</th>\n",
       "      <td>Link: check-out-jansenbob-on-github located at...</td>\n",
       "      <td>Link: blog located at Root Location: about =&gt; ...</td>\n",
       "      <td>Link: read-more located at Root Location: blog...</td>\n",
       "      <td>Link: MediaEvent located at Root Location: tax...</td>\n",
       "      <td>4</td>\n",
       "    </tr>\n",
       "  </tbody>\n",
       "</table>\n",
       "</div>"
      ],
      "text/plain": [
       "                                                                  location_stack_step_1  \\\n",
       "user_id                                                                                   \n",
       "00529837-d672-4747-9b87-fd09f2919326  Link: spin-up-the-demo located at Root Locatio...   \n",
       "01891784-6333-40f1-8be6-739f3adfdb97  Link: about-us located at Root Location: home ...   \n",
       "02f197f4-90d1-4374-b8a5-89e2e91310d7  Pressable: after located at Root Location: hom...   \n",
       "05bd4058-b7df-4476-8174-dcf0be107b5c  Link: blog located at Root Location: home => N...   \n",
       "0605440c-1eba-479a-9000-8294576199aa  Link: check-out-jansenbob-on-github located at...   \n",
       "\n",
       "                                                                  location_stack_step_2  \\\n",
       "user_id                                                                                   \n",
       "00529837-d672-4747-9b87-fd09f2919326  Link: blog located at Root Location: home => N...   \n",
       "01891784-6333-40f1-8be6-739f3adfdb97  Pressable: hamburger located at Root Location:...   \n",
       "02f197f4-90d1-4374-b8a5-89e2e91310d7  Pressable: before located at Root Location: ho...   \n",
       "05bd4058-b7df-4476-8174-dcf0be107b5c  Link: jobs located at Root Location: blog => N...   \n",
       "0605440c-1eba-479a-9000-8294576199aa  Link: blog located at Root Location: about => ...   \n",
       "\n",
       "                                                                  location_stack_step_3  \\\n",
       "user_id                                                                                   \n",
       "00529837-d672-4747-9b87-fd09f2919326  Link: docs located at Root Location: blog => N...   \n",
       "01891784-6333-40f1-8be6-739f3adfdb97  Link: faq located at Root Location: home => Na...   \n",
       "02f197f4-90d1-4374-b8a5-89e2e91310d7  Pressable: after located at Root Location: hom...   \n",
       "05bd4058-b7df-4476-8174-dcf0be107b5c  Link: faq located at Root Location: jobs => Na...   \n",
       "0605440c-1eba-479a-9000-8294576199aa  Link: read-more located at Root Location: blog...   \n",
       "\n",
       "                                                                  location_stack_step_4  \\\n",
       "user_id                                                                                   \n",
       "00529837-d672-4747-9b87-fd09f2919326  Link: bach-and-sklearn located at Root Locatio...   \n",
       "01891784-6333-40f1-8be6-739f3adfdb97  Pressable: navbar-toggle located at Root Locat...   \n",
       "02f197f4-90d1-4374-b8a5-89e2e91310d7  Link: logo located at Root Location: modeling ...   \n",
       "05bd4058-b7df-4476-8174-dcf0be107b5c  Link: Objectiv.io located at Root Location: ho...   \n",
       "0605440c-1eba-479a-9000-8294576199aa  Link: MediaEvent located at Root Location: tax...   \n",
       "\n",
       "                                      _first_conversion_step_number  \n",
       "user_id                                                              \n",
       "00529837-d672-4747-9b87-fd09f2919326                              4  \n",
       "01891784-6333-40f1-8be6-739f3adfdb97                              4  \n",
       "02f197f4-90d1-4374-b8a5-89e2e91310d7                              4  \n",
       "05bd4058-b7df-4476-8174-dcf0be107b5c                              4  \n",
       "0605440c-1eba-479a-9000-8294576199aa                              4  "
      ]
     },
     "execution_count": 85,
     "metadata": {},
     "output_type": "execute_result"
    }
   ],
   "source": [
    "# Filter down to sequences that converted on the 4th step\n",
    "condition_convert_on_step_4 = df_steps_till_conversion['_first_conversion_step_number'] == 4\n",
    "df_steps_till_conversion[condition_convert_on_step_4].head() "
   ]
  },
  {
   "cell_type": "markdown",
   "id": "e87c2271",
   "metadata": {},
   "source": [
    "## Visualize the sequences"
   ]
  },
  {
   "cell_type": "markdown",
   "id": "1bb8ce3b",
   "metadata": {},
   "source": [
    "We can use a Sankey diagram to visualize these customer journeys that lead to conversion (or drop-off). This helps you to select which sequences are most interesting to analyze further.\n",
    "\n",
    "Let's plot it for the example above, where we filtered down to the sequences that converted on the 4th step. The width of each link represents the amount of times that flow was used, and you can hover over each link to see the source and target node."
   ]
  },
  {
   "cell_type": "code",
   "execution_count": 88,
   "id": "99f09410",
   "metadata": {},
   "outputs": [
    {
     "name": "stdout",
     "output_type": "stream",
     "text": [
      "Showing 15 examples out of 265\n"
     ]
    },
    {
     "data": {
      "application/vnd.plotly.v1+json": {
       "config": {
        "plotlyServerURL": "https://plot.ly"
       },
       "data": [
        {
         "link": {
          "customdata": [
           "Pressable: before located at Root Location: home => Content: capture-data => Content: data-capture-workflow-before-after",
           "Pressable: after located at Root Location: home => Content: capture-data => Content: data-capture-workflow-before-after",
           "Pressable: after located at Root Location: home => Content: modeling => Content: modeling-workflow-before-after",
           "Link: logo located at Root Location: home => Navigation: navbar-top",
           "Pressable: before located at Root Location: home => Content: modeling => Content: modeling-workflow-before-after",
           "Link: docs located at Root Location: home => Navigation: navbar-top",
           "Link: Quickstart Guide located at Root Location: home => Navigation: docs-sidebar",
           "Link: blog located at Root Location: about => Navigation: navbar-top",
           "Link: jobs located at Root Location: blog => Navigation: navbar-top",
           "Link: faq located at Root Location: jobs => Navigation: navbar-top",
           "Link: Taxonomy located at Root Location: home => Navigation: navbar-top",
           "Link: github located at Root Location: home => Navigation: navbar-top",
           "Link: Introduction located at Root Location: home => Navigation: docs-sidebar",
           "Pressable: hamburger located at Root Location: home => Navigation: navbar-top",
           "Link: docs located at Root Location: home => Navigation: navbar-top => Overlay: hamburger-menu",
           "Link: Quickstart Guide located at Root Location: home => Navigation: doc-paginator-navigation",
           "Link: about-us located at Root Location: home => Navigation: navbar-top",
           "Link: blog located at Root Location: home => Navigation: navbar-top",
           "Link: docs located at Root Location: blog => Navigation: navbar-top",
           "Link: Update Docs located at Root Location: home => Navigation: docs-sidebar => Expandable: The Project",
           "Link: check-out-kathiabarahona-on-github located at Root Location: about => Content: core-team => Content: contributors => Content: KathiaBarahona => Content: contributor-card => Content: avatar",
           "Link: check-the-vacancy located at Root Location: about => Content: announcement-bar",
           "Link: fly-ventures located at Root Location: about => Content: why-us",
           "Link: jobs located at Root Location: about => Navigation: navbar-top",
           "Link: docs located at Root Location: jobs => Navigation: navbar-top",
           "Link: Get Help located at Root Location: home => Navigation: docs-sidebar => Expandable: The Project"
          ],
          "hovertemplate": "SOURCE: %{source.customdata}<br />TARGET: %{target.customdata}<br />",
          "source": [
           0,
           1,
           2,
           2,
           4,
           5,
           7,
           8,
           9,
           4,
           2,
           0,
           4,
           2,
           9,
           2,
           13,
           14,
           16,
           17,
           18,
           16,
           20,
           18,
           20,
           16,
           21,
           16,
           22,
           16,
           23,
           24,
           24
          ],
          "target": [
           1,
           2,
           3,
           4,
           5,
           6,
           8,
           9,
           10,
           2,
           11,
           2,
           11,
           5,
           12,
           13,
           14,
           15,
           17,
           18,
           19,
           20,
           18,
           10,
           5,
           21,
           5,
           22,
           5,
           23,
           24,
           25,
           3
          ],
          "value": [
           3,
           5,
           3,
           7,
           3,
           8,
           4,
           4,
           2,
           2,
           2,
           2,
           2,
           2,
           2,
           2,
           2,
           2,
           1,
           1,
           1,
           2,
           1,
           1,
           1,
           1,
           1,
           1,
           1,
           2,
           2,
           1,
           1
          ]
         },
         "node": {
          "customdata": [
           "Pressable: before located at Root Location: home => Content: capture-data => Content: data-capture-workflow-before-after",
           "Pressable: after located at Root Location: home => Content: capture-data => Content: data-capture-workflow-before-after",
           "Pressable: after located at Root Location: home => Content: modeling => Content: modeling-workflow-before-after",
           "Link: logo located at Root Location: home => Navigation: navbar-top",
           "Pressable: before located at Root Location: home => Content: modeling => Content: modeling-workflow-before-after",
           "Link: docs located at Root Location: home => Navigation: navbar-top",
           "Link: Quickstart Guide located at Root Location: home => Navigation: docs-sidebar",
           "Link: blog located at Root Location: about => Navigation: navbar-top",
           "Link: jobs located at Root Location: blog => Navigation: navbar-top",
           "Link: faq located at Root Location: jobs => Navigation: navbar-top",
           "Link: Taxonomy located at Root Location: home => Navigation: navbar-top",
           "Link: github located at Root Location: home => Navigation: navbar-top",
           "Link: Introduction located at Root Location: home => Navigation: docs-sidebar",
           "Pressable: hamburger located at Root Location: home => Navigation: navbar-top",
           "Link: docs located at Root Location: home => Navigation: navbar-top => Overlay: hamburger-menu",
           "Link: Quickstart Guide located at Root Location: home => Navigation: doc-paginator-navigation",
           "Link: about-us located at Root Location: home => Navigation: navbar-top",
           "Link: blog located at Root Location: home => Navigation: navbar-top",
           "Link: docs located at Root Location: blog => Navigation: navbar-top",
           "Link: Update Docs located at Root Location: home => Navigation: docs-sidebar => Expandable: The Project",
           "Link: check-out-kathiabarahona-on-github located at Root Location: about => Content: core-team => Content: contributors => Content: KathiaBarahona => Content: contributor-card => Content: avatar",
           "Link: check-the-vacancy located at Root Location: about => Content: announcement-bar",
           "Link: fly-ventures located at Root Location: about => Content: why-us",
           "Link: jobs located at Root Location: about => Navigation: navbar-top",
           "Link: docs located at Root Location: jobs => Navigation: navbar-top",
           "Link: Get Help located at Root Location: home => Navigation: docs-sidebar => Expandable: The Project"
          ],
          "hovertemplate": "NODE: %{customdata}",
          "label": [
           "Pressable: before lo...",
           "Pressable: after loc...",
           "Pressable: after loc...",
           "Link: logo located a...",
           "Pressable: before lo...",
           "Link: docs located a...",
           "Link: Quickstart Gui...",
           "Link: blog located a...",
           "Link: jobs located a...",
           "Link: faq located at...",
           "Link: Taxonomy locat...",
           "Link: github located...",
           "Link: Introduction l...",
           "Pressable: hamburger...",
           "Link: docs located a...",
           "Link: Quickstart Gui...",
           "Link: about-us locat...",
           "Link: blog located a...",
           "Link: docs located a...",
           "Link: Update Docs lo...",
           "Link: check-out-kath...",
           "Link: check-the-vaca...",
           "Link: fly-ventures l...",
           "Link: jobs located a...",
           "Link: docs located a...",
           "Link: Get Help locat..."
          ],
          "line": {
           "color": "black",
           "width": 0.5
          },
          "pad": 25,
          "thickness": 15
         },
         "orientation": "h",
         "type": "sankey"
        }
       ],
       "layout": {
        "font": {
         "color": "black",
         "size": 14
        },
        "hoverlabel": {
         "bgcolor": "white",
         "font": {
          "size": 11
         }
        },
        "template": {
         "data": {
          "bar": [
           {
            "error_x": {
             "color": "#2a3f5f"
            },
            "error_y": {
             "color": "#2a3f5f"
            },
            "marker": {
             "line": {
              "color": "#E5ECF6",
              "width": 0.5
             },
             "pattern": {
              "fillmode": "overlay",
              "size": 10,
              "solidity": 0.2
             }
            },
            "type": "bar"
           }
          ],
          "barpolar": [
           {
            "marker": {
             "line": {
              "color": "#E5ECF6",
              "width": 0.5
             },
             "pattern": {
              "fillmode": "overlay",
              "size": 10,
              "solidity": 0.2
             }
            },
            "type": "barpolar"
           }
          ],
          "carpet": [
           {
            "aaxis": {
             "endlinecolor": "#2a3f5f",
             "gridcolor": "white",
             "linecolor": "white",
             "minorgridcolor": "white",
             "startlinecolor": "#2a3f5f"
            },
            "baxis": {
             "endlinecolor": "#2a3f5f",
             "gridcolor": "white",
             "linecolor": "white",
             "minorgridcolor": "white",
             "startlinecolor": "#2a3f5f"
            },
            "type": "carpet"
           }
          ],
          "choropleth": [
           {
            "colorbar": {
             "outlinewidth": 0,
             "ticks": ""
            },
            "type": "choropleth"
           }
          ],
          "contour": [
           {
            "colorbar": {
             "outlinewidth": 0,
             "ticks": ""
            },
            "colorscale": [
             [
              0,
              "#0d0887"
             ],
             [
              0.1111111111111111,
              "#46039f"
             ],
             [
              0.2222222222222222,
              "#7201a8"
             ],
             [
              0.3333333333333333,
              "#9c179e"
             ],
             [
              0.4444444444444444,
              "#bd3786"
             ],
             [
              0.5555555555555556,
              "#d8576b"
             ],
             [
              0.6666666666666666,
              "#ed7953"
             ],
             [
              0.7777777777777778,
              "#fb9f3a"
             ],
             [
              0.8888888888888888,
              "#fdca26"
             ],
             [
              1,
              "#f0f921"
             ]
            ],
            "type": "contour"
           }
          ],
          "contourcarpet": [
           {
            "colorbar": {
             "outlinewidth": 0,
             "ticks": ""
            },
            "type": "contourcarpet"
           }
          ],
          "heatmap": [
           {
            "colorbar": {
             "outlinewidth": 0,
             "ticks": ""
            },
            "colorscale": [
             [
              0,
              "#0d0887"
             ],
             [
              0.1111111111111111,
              "#46039f"
             ],
             [
              0.2222222222222222,
              "#7201a8"
             ],
             [
              0.3333333333333333,
              "#9c179e"
             ],
             [
              0.4444444444444444,
              "#bd3786"
             ],
             [
              0.5555555555555556,
              "#d8576b"
             ],
             [
              0.6666666666666666,
              "#ed7953"
             ],
             [
              0.7777777777777778,
              "#fb9f3a"
             ],
             [
              0.8888888888888888,
              "#fdca26"
             ],
             [
              1,
              "#f0f921"
             ]
            ],
            "type": "heatmap"
           }
          ],
          "heatmapgl": [
           {
            "colorbar": {
             "outlinewidth": 0,
             "ticks": ""
            },
            "colorscale": [
             [
              0,
              "#0d0887"
             ],
             [
              0.1111111111111111,
              "#46039f"
             ],
             [
              0.2222222222222222,
              "#7201a8"
             ],
             [
              0.3333333333333333,
              "#9c179e"
             ],
             [
              0.4444444444444444,
              "#bd3786"
             ],
             [
              0.5555555555555556,
              "#d8576b"
             ],
             [
              0.6666666666666666,
              "#ed7953"
             ],
             [
              0.7777777777777778,
              "#fb9f3a"
             ],
             [
              0.8888888888888888,
              "#fdca26"
             ],
             [
              1,
              "#f0f921"
             ]
            ],
            "type": "heatmapgl"
           }
          ],
          "histogram": [
           {
            "marker": {
             "pattern": {
              "fillmode": "overlay",
              "size": 10,
              "solidity": 0.2
             }
            },
            "type": "histogram"
           }
          ],
          "histogram2d": [
           {
            "colorbar": {
             "outlinewidth": 0,
             "ticks": ""
            },
            "colorscale": [
             [
              0,
              "#0d0887"
             ],
             [
              0.1111111111111111,
              "#46039f"
             ],
             [
              0.2222222222222222,
              "#7201a8"
             ],
             [
              0.3333333333333333,
              "#9c179e"
             ],
             [
              0.4444444444444444,
              "#bd3786"
             ],
             [
              0.5555555555555556,
              "#d8576b"
             ],
             [
              0.6666666666666666,
              "#ed7953"
             ],
             [
              0.7777777777777778,
              "#fb9f3a"
             ],
             [
              0.8888888888888888,
              "#fdca26"
             ],
             [
              1,
              "#f0f921"
             ]
            ],
            "type": "histogram2d"
           }
          ],
          "histogram2dcontour": [
           {
            "colorbar": {
             "outlinewidth": 0,
             "ticks": ""
            },
            "colorscale": [
             [
              0,
              "#0d0887"
             ],
             [
              0.1111111111111111,
              "#46039f"
             ],
             [
              0.2222222222222222,
              "#7201a8"
             ],
             [
              0.3333333333333333,
              "#9c179e"
             ],
             [
              0.4444444444444444,
              "#bd3786"
             ],
             [
              0.5555555555555556,
              "#d8576b"
             ],
             [
              0.6666666666666666,
              "#ed7953"
             ],
             [
              0.7777777777777778,
              "#fb9f3a"
             ],
             [
              0.8888888888888888,
              "#fdca26"
             ],
             [
              1,
              "#f0f921"
             ]
            ],
            "type": "histogram2dcontour"
           }
          ],
          "mesh3d": [
           {
            "colorbar": {
             "outlinewidth": 0,
             "ticks": ""
            },
            "type": "mesh3d"
           }
          ],
          "parcoords": [
           {
            "line": {
             "colorbar": {
              "outlinewidth": 0,
              "ticks": ""
             }
            },
            "type": "parcoords"
           }
          ],
          "pie": [
           {
            "automargin": true,
            "type": "pie"
           }
          ],
          "scatter": [
           {
            "fillpattern": {
             "fillmode": "overlay",
             "size": 10,
             "solidity": 0.2
            },
            "type": "scatter"
           }
          ],
          "scatter3d": [
           {
            "line": {
             "colorbar": {
              "outlinewidth": 0,
              "ticks": ""
             }
            },
            "marker": {
             "colorbar": {
              "outlinewidth": 0,
              "ticks": ""
             }
            },
            "type": "scatter3d"
           }
          ],
          "scattercarpet": [
           {
            "marker": {
             "colorbar": {
              "outlinewidth": 0,
              "ticks": ""
             }
            },
            "type": "scattercarpet"
           }
          ],
          "scattergeo": [
           {
            "marker": {
             "colorbar": {
              "outlinewidth": 0,
              "ticks": ""
             }
            },
            "type": "scattergeo"
           }
          ],
          "scattergl": [
           {
            "marker": {
             "colorbar": {
              "outlinewidth": 0,
              "ticks": ""
             }
            },
            "type": "scattergl"
           }
          ],
          "scattermapbox": [
           {
            "marker": {
             "colorbar": {
              "outlinewidth": 0,
              "ticks": ""
             }
            },
            "type": "scattermapbox"
           }
          ],
          "scatterpolar": [
           {
            "marker": {
             "colorbar": {
              "outlinewidth": 0,
              "ticks": ""
             }
            },
            "type": "scatterpolar"
           }
          ],
          "scatterpolargl": [
           {
            "marker": {
             "colorbar": {
              "outlinewidth": 0,
              "ticks": ""
             }
            },
            "type": "scatterpolargl"
           }
          ],
          "scatterternary": [
           {
            "marker": {
             "colorbar": {
              "outlinewidth": 0,
              "ticks": ""
             }
            },
            "type": "scatterternary"
           }
          ],
          "surface": [
           {
            "colorbar": {
             "outlinewidth": 0,
             "ticks": ""
            },
            "colorscale": [
             [
              0,
              "#0d0887"
             ],
             [
              0.1111111111111111,
              "#46039f"
             ],
             [
              0.2222222222222222,
              "#7201a8"
             ],
             [
              0.3333333333333333,
              "#9c179e"
             ],
             [
              0.4444444444444444,
              "#bd3786"
             ],
             [
              0.5555555555555556,
              "#d8576b"
             ],
             [
              0.6666666666666666,
              "#ed7953"
             ],
             [
              0.7777777777777778,
              "#fb9f3a"
             ],
             [
              0.8888888888888888,
              "#fdca26"
             ],
             [
              1,
              "#f0f921"
             ]
            ],
            "type": "surface"
           }
          ],
          "table": [
           {
            "cells": {
             "fill": {
              "color": "#EBF0F8"
             },
             "line": {
              "color": "white"
             }
            },
            "header": {
             "fill": {
              "color": "#C8D4E3"
             },
             "line": {
              "color": "white"
             }
            },
            "type": "table"
           }
          ]
         },
         "layout": {
          "annotationdefaults": {
           "arrowcolor": "#2a3f5f",
           "arrowhead": 0,
           "arrowwidth": 1
          },
          "autotypenumbers": "strict",
          "coloraxis": {
           "colorbar": {
            "outlinewidth": 0,
            "ticks": ""
           }
          },
          "colorscale": {
           "diverging": [
            [
             0,
             "#8e0152"
            ],
            [
             0.1,
             "#c51b7d"
            ],
            [
             0.2,
             "#de77ae"
            ],
            [
             0.3,
             "#f1b6da"
            ],
            [
             0.4,
             "#fde0ef"
            ],
            [
             0.5,
             "#f7f7f7"
            ],
            [
             0.6,
             "#e6f5d0"
            ],
            [
             0.7,
             "#b8e186"
            ],
            [
             0.8,
             "#7fbc41"
            ],
            [
             0.9,
             "#4d9221"
            ],
            [
             1,
             "#276419"
            ]
           ],
           "sequential": [
            [
             0,
             "#0d0887"
            ],
            [
             0.1111111111111111,
             "#46039f"
            ],
            [
             0.2222222222222222,
             "#7201a8"
            ],
            [
             0.3333333333333333,
             "#9c179e"
            ],
            [
             0.4444444444444444,
             "#bd3786"
            ],
            [
             0.5555555555555556,
             "#d8576b"
            ],
            [
             0.6666666666666666,
             "#ed7953"
            ],
            [
             0.7777777777777778,
             "#fb9f3a"
            ],
            [
             0.8888888888888888,
             "#fdca26"
            ],
            [
             1,
             "#f0f921"
            ]
           ],
           "sequentialminus": [
            [
             0,
             "#0d0887"
            ],
            [
             0.1111111111111111,
             "#46039f"
            ],
            [
             0.2222222222222222,
             "#7201a8"
            ],
            [
             0.3333333333333333,
             "#9c179e"
            ],
            [
             0.4444444444444444,
             "#bd3786"
            ],
            [
             0.5555555555555556,
             "#d8576b"
            ],
            [
             0.6666666666666666,
             "#ed7953"
            ],
            [
             0.7777777777777778,
             "#fb9f3a"
            ],
            [
             0.8888888888888888,
             "#fdca26"
            ],
            [
             1,
             "#f0f921"
            ]
           ]
          },
          "colorway": [
           "#636efa",
           "#EF553B",
           "#00cc96",
           "#ab63fa",
           "#FFA15A",
           "#19d3f3",
           "#FF6692",
           "#B6E880",
           "#FF97FF",
           "#FECB52"
          ],
          "font": {
           "color": "#2a3f5f"
          },
          "geo": {
           "bgcolor": "white",
           "lakecolor": "white",
           "landcolor": "#E5ECF6",
           "showlakes": true,
           "showland": true,
           "subunitcolor": "white"
          },
          "hoverlabel": {
           "align": "left"
          },
          "hovermode": "closest",
          "mapbox": {
           "style": "light"
          },
          "paper_bgcolor": "white",
          "plot_bgcolor": "#E5ECF6",
          "polar": {
           "angularaxis": {
            "gridcolor": "white",
            "linecolor": "white",
            "ticks": ""
           },
           "bgcolor": "#E5ECF6",
           "radialaxis": {
            "gridcolor": "white",
            "linecolor": "white",
            "ticks": ""
           }
          },
          "scene": {
           "xaxis": {
            "backgroundcolor": "#E5ECF6",
            "gridcolor": "white",
            "gridwidth": 2,
            "linecolor": "white",
            "showbackground": true,
            "ticks": "",
            "zerolinecolor": "white"
           },
           "yaxis": {
            "backgroundcolor": "#E5ECF6",
            "gridcolor": "white",
            "gridwidth": 2,
            "linecolor": "white",
            "showbackground": true,
            "ticks": "",
            "zerolinecolor": "white"
           },
           "zaxis": {
            "backgroundcolor": "#E5ECF6",
            "gridcolor": "white",
            "gridwidth": 2,
            "linecolor": "white",
            "showbackground": true,
            "ticks": "",
            "zerolinecolor": "white"
           }
          },
          "shapedefaults": {
           "line": {
            "color": "#2a3f5f"
           }
          },
          "ternary": {
           "aaxis": {
            "gridcolor": "white",
            "linecolor": "white",
            "ticks": ""
           },
           "baxis": {
            "gridcolor": "white",
            "linecolor": "white",
            "ticks": ""
           },
           "bgcolor": "#E5ECF6",
           "caxis": {
            "gridcolor": "white",
            "linecolor": "white",
            "ticks": ""
           }
          },
          "title": {
           "x": 0.05
          },
          "xaxis": {
           "automargin": true,
           "gridcolor": "white",
           "linecolor": "white",
           "ticks": "",
           "title": {
            "standoff": 15
           },
           "zerolinecolor": "white",
           "zerolinewidth": 2
          },
          "yaxis": {
           "automargin": true,
           "gridcolor": "white",
           "linecolor": "white",
           "ticks": "",
           "title": {
            "standoff": 15
           },
           "zerolinecolor": "white",
           "zerolinewidth": 2
          }
         }
        },
        "title": {
         "font": {
          "color": "black"
         },
         "text": "Location Stack Flow"
        }
       }
      },
      "text/html": [
       "<div>                            <div id=\"25f23a8f-22b7-432c-b485-8570cfac6f22\" class=\"plotly-graph-div\" style=\"height:525px; width:100%;\"></div>            <script type=\"text/javascript\">                require([\"plotly\"], function(Plotly) {                    window.PLOTLYENV=window.PLOTLYENV || {};                                    if (document.getElementById(\"25f23a8f-22b7-432c-b485-8570cfac6f22\")) {                    Plotly.newPlot(                        \"25f23a8f-22b7-432c-b485-8570cfac6f22\",                        [{\"link\":{\"customdata\":[\"Pressable: before located at Root Location: home => Content: capture-data => Content: data-capture-workflow-before-after\",\"Pressable: after located at Root Location: home => Content: capture-data => Content: data-capture-workflow-before-after\",\"Pressable: after located at Root Location: home => Content: modeling => Content: modeling-workflow-before-after\",\"Link: logo located at Root Location: home => Navigation: navbar-top\",\"Pressable: before located at Root Location: home => Content: modeling => Content: modeling-workflow-before-after\",\"Link: docs located at Root Location: home => Navigation: navbar-top\",\"Link: Quickstart Guide located at Root Location: home => Navigation: docs-sidebar\",\"Link: blog located at Root Location: about => Navigation: navbar-top\",\"Link: jobs located at Root Location: blog => Navigation: navbar-top\",\"Link: faq located at Root Location: jobs => Navigation: navbar-top\",\"Link: Taxonomy located at Root Location: home => Navigation: navbar-top\",\"Link: github located at Root Location: home => Navigation: navbar-top\",\"Link: Introduction located at Root Location: home => Navigation: docs-sidebar\",\"Pressable: hamburger located at Root Location: home => Navigation: navbar-top\",\"Link: docs located at Root Location: home => Navigation: navbar-top => Overlay: hamburger-menu\",\"Link: Quickstart Guide located at Root Location: home => Navigation: doc-paginator-navigation\",\"Link: about-us located at Root Location: home => Navigation: navbar-top\",\"Link: blog located at Root Location: home => Navigation: navbar-top\",\"Link: docs located at Root Location: blog => Navigation: navbar-top\",\"Link: Update Docs located at Root Location: home => Navigation: docs-sidebar => Expandable: The Project\",\"Link: check-out-kathiabarahona-on-github located at Root Location: about => Content: core-team => Content: contributors => Content: KathiaBarahona => Content: contributor-card => Content: avatar\",\"Link: check-the-vacancy located at Root Location: about => Content: announcement-bar\",\"Link: fly-ventures located at Root Location: about => Content: why-us\",\"Link: jobs located at Root Location: about => Navigation: navbar-top\",\"Link: docs located at Root Location: jobs => Navigation: navbar-top\",\"Link: Get Help located at Root Location: home => Navigation: docs-sidebar => Expandable: The Project\"],\"hovertemplate\":\"SOURCE: %{source.customdata}<br />TARGET: %{target.customdata}<br />\",\"source\":[0,1,2,2,4,5,7,8,9,4,2,0,4,2,9,2,13,14,16,17,18,16,20,18,20,16,21,16,22,16,23,24,24],\"target\":[1,2,3,4,5,6,8,9,10,2,11,2,11,5,12,13,14,15,17,18,19,20,18,10,5,21,5,22,5,23,24,25,3],\"value\":[3,5,3,7,3,8,4,4,2,2,2,2,2,2,2,2,2,2,1,1,1,2,1,1,1,1,1,1,1,2,2,1,1]},\"node\":{\"customdata\":[\"Pressable: before located at Root Location: home => Content: capture-data => Content: data-capture-workflow-before-after\",\"Pressable: after located at Root Location: home => Content: capture-data => Content: data-capture-workflow-before-after\",\"Pressable: after located at Root Location: home => Content: modeling => Content: modeling-workflow-before-after\",\"Link: logo located at Root Location: home => Navigation: navbar-top\",\"Pressable: before located at Root Location: home => Content: modeling => Content: modeling-workflow-before-after\",\"Link: docs located at Root Location: home => Navigation: navbar-top\",\"Link: Quickstart Guide located at Root Location: home => Navigation: docs-sidebar\",\"Link: blog located at Root Location: about => Navigation: navbar-top\",\"Link: jobs located at Root Location: blog => Navigation: navbar-top\",\"Link: faq located at Root Location: jobs => Navigation: navbar-top\",\"Link: Taxonomy located at Root Location: home => Navigation: navbar-top\",\"Link: github located at Root Location: home => Navigation: navbar-top\",\"Link: Introduction located at Root Location: home => Navigation: docs-sidebar\",\"Pressable: hamburger located at Root Location: home => Navigation: navbar-top\",\"Link: docs located at Root Location: home => Navigation: navbar-top => Overlay: hamburger-menu\",\"Link: Quickstart Guide located at Root Location: home => Navigation: doc-paginator-navigation\",\"Link: about-us located at Root Location: home => Navigation: navbar-top\",\"Link: blog located at Root Location: home => Navigation: navbar-top\",\"Link: docs located at Root Location: blog => Navigation: navbar-top\",\"Link: Update Docs located at Root Location: home => Navigation: docs-sidebar => Expandable: The Project\",\"Link: check-out-kathiabarahona-on-github located at Root Location: about => Content: core-team => Content: contributors => Content: KathiaBarahona => Content: contributor-card => Content: avatar\",\"Link: check-the-vacancy located at Root Location: about => Content: announcement-bar\",\"Link: fly-ventures located at Root Location: about => Content: why-us\",\"Link: jobs located at Root Location: about => Navigation: navbar-top\",\"Link: docs located at Root Location: jobs => Navigation: navbar-top\",\"Link: Get Help located at Root Location: home => Navigation: docs-sidebar => Expandable: The Project\"],\"hovertemplate\":\"NODE: %{customdata}\",\"label\":[\"Pressable: before lo...\",\"Pressable: after loc...\",\"Pressable: after loc...\",\"Link: logo located a...\",\"Pressable: before lo...\",\"Link: docs located a...\",\"Link: Quickstart Gui...\",\"Link: blog located a...\",\"Link: jobs located a...\",\"Link: faq located at...\",\"Link: Taxonomy locat...\",\"Link: github located...\",\"Link: Introduction l...\",\"Pressable: hamburger...\",\"Link: docs located a...\",\"Link: Quickstart Gui...\",\"Link: about-us locat...\",\"Link: blog located a...\",\"Link: docs located a...\",\"Link: Update Docs lo...\",\"Link: check-out-kath...\",\"Link: check-the-vaca...\",\"Link: fly-ventures l...\",\"Link: jobs located a...\",\"Link: docs located a...\",\"Link: Get Help locat...\"],\"line\":{\"color\":\"black\",\"width\":0.5},\"pad\":25,\"thickness\":15},\"orientation\":\"h\",\"type\":\"sankey\"}],                        {\"template\":{\"data\":{\"histogram2dcontour\":[{\"type\":\"histogram2dcontour\",\"colorbar\":{\"outlinewidth\":0,\"ticks\":\"\"},\"colorscale\":[[0.0,\"#0d0887\"],[0.1111111111111111,\"#46039f\"],[0.2222222222222222,\"#7201a8\"],[0.3333333333333333,\"#9c179e\"],[0.4444444444444444,\"#bd3786\"],[0.5555555555555556,\"#d8576b\"],[0.6666666666666666,\"#ed7953\"],[0.7777777777777778,\"#fb9f3a\"],[0.8888888888888888,\"#fdca26\"],[1.0,\"#f0f921\"]]}],\"choropleth\":[{\"type\":\"choropleth\",\"colorbar\":{\"outlinewidth\":0,\"ticks\":\"\"}}],\"histogram2d\":[{\"type\":\"histogram2d\",\"colorbar\":{\"outlinewidth\":0,\"ticks\":\"\"},\"colorscale\":[[0.0,\"#0d0887\"],[0.1111111111111111,\"#46039f\"],[0.2222222222222222,\"#7201a8\"],[0.3333333333333333,\"#9c179e\"],[0.4444444444444444,\"#bd3786\"],[0.5555555555555556,\"#d8576b\"],[0.6666666666666666,\"#ed7953\"],[0.7777777777777778,\"#fb9f3a\"],[0.8888888888888888,\"#fdca26\"],[1.0,\"#f0f921\"]]}],\"heatmap\":[{\"type\":\"heatmap\",\"colorbar\":{\"outlinewidth\":0,\"ticks\":\"\"},\"colorscale\":[[0.0,\"#0d0887\"],[0.1111111111111111,\"#46039f\"],[0.2222222222222222,\"#7201a8\"],[0.3333333333333333,\"#9c179e\"],[0.4444444444444444,\"#bd3786\"],[0.5555555555555556,\"#d8576b\"],[0.6666666666666666,\"#ed7953\"],[0.7777777777777778,\"#fb9f3a\"],[0.8888888888888888,\"#fdca26\"],[1.0,\"#f0f921\"]]}],\"heatmapgl\":[{\"type\":\"heatmapgl\",\"colorbar\":{\"outlinewidth\":0,\"ticks\":\"\"},\"colorscale\":[[0.0,\"#0d0887\"],[0.1111111111111111,\"#46039f\"],[0.2222222222222222,\"#7201a8\"],[0.3333333333333333,\"#9c179e\"],[0.4444444444444444,\"#bd3786\"],[0.5555555555555556,\"#d8576b\"],[0.6666666666666666,\"#ed7953\"],[0.7777777777777778,\"#fb9f3a\"],[0.8888888888888888,\"#fdca26\"],[1.0,\"#f0f921\"]]}],\"contourcarpet\":[{\"type\":\"contourcarpet\",\"colorbar\":{\"outlinewidth\":0,\"ticks\":\"\"}}],\"contour\":[{\"type\":\"contour\",\"colorbar\":{\"outlinewidth\":0,\"ticks\":\"\"},\"colorscale\":[[0.0,\"#0d0887\"],[0.1111111111111111,\"#46039f\"],[0.2222222222222222,\"#7201a8\"],[0.3333333333333333,\"#9c179e\"],[0.4444444444444444,\"#bd3786\"],[0.5555555555555556,\"#d8576b\"],[0.6666666666666666,\"#ed7953\"],[0.7777777777777778,\"#fb9f3a\"],[0.8888888888888888,\"#fdca26\"],[1.0,\"#f0f921\"]]}],\"surface\":[{\"type\":\"surface\",\"colorbar\":{\"outlinewidth\":0,\"ticks\":\"\"},\"colorscale\":[[0.0,\"#0d0887\"],[0.1111111111111111,\"#46039f\"],[0.2222222222222222,\"#7201a8\"],[0.3333333333333333,\"#9c179e\"],[0.4444444444444444,\"#bd3786\"],[0.5555555555555556,\"#d8576b\"],[0.6666666666666666,\"#ed7953\"],[0.7777777777777778,\"#fb9f3a\"],[0.8888888888888888,\"#fdca26\"],[1.0,\"#f0f921\"]]}],\"mesh3d\":[{\"type\":\"mesh3d\",\"colorbar\":{\"outlinewidth\":0,\"ticks\":\"\"}}],\"scatter\":[{\"fillpattern\":{\"fillmode\":\"overlay\",\"size\":10,\"solidity\":0.2},\"type\":\"scatter\"}],\"parcoords\":[{\"type\":\"parcoords\",\"line\":{\"colorbar\":{\"outlinewidth\":0,\"ticks\":\"\"}}}],\"scatterpolargl\":[{\"type\":\"scatterpolargl\",\"marker\":{\"colorbar\":{\"outlinewidth\":0,\"ticks\":\"\"}}}],\"bar\":[{\"error_x\":{\"color\":\"#2a3f5f\"},\"error_y\":{\"color\":\"#2a3f5f\"},\"marker\":{\"line\":{\"color\":\"#E5ECF6\",\"width\":0.5},\"pattern\":{\"fillmode\":\"overlay\",\"size\":10,\"solidity\":0.2}},\"type\":\"bar\"}],\"scattergeo\":[{\"type\":\"scattergeo\",\"marker\":{\"colorbar\":{\"outlinewidth\":0,\"ticks\":\"\"}}}],\"scatterpolar\":[{\"type\":\"scatterpolar\",\"marker\":{\"colorbar\":{\"outlinewidth\":0,\"ticks\":\"\"}}}],\"histogram\":[{\"marker\":{\"pattern\":{\"fillmode\":\"overlay\",\"size\":10,\"solidity\":0.2}},\"type\":\"histogram\"}],\"scattergl\":[{\"type\":\"scattergl\",\"marker\":{\"colorbar\":{\"outlinewidth\":0,\"ticks\":\"\"}}}],\"scatter3d\":[{\"type\":\"scatter3d\",\"line\":{\"colorbar\":{\"outlinewidth\":0,\"ticks\":\"\"}},\"marker\":{\"colorbar\":{\"outlinewidth\":0,\"ticks\":\"\"}}}],\"scattermapbox\":[{\"type\":\"scattermapbox\",\"marker\":{\"colorbar\":{\"outlinewidth\":0,\"ticks\":\"\"}}}],\"scatterternary\":[{\"type\":\"scatterternary\",\"marker\":{\"colorbar\":{\"outlinewidth\":0,\"ticks\":\"\"}}}],\"scattercarpet\":[{\"type\":\"scattercarpet\",\"marker\":{\"colorbar\":{\"outlinewidth\":0,\"ticks\":\"\"}}}],\"carpet\":[{\"aaxis\":{\"endlinecolor\":\"#2a3f5f\",\"gridcolor\":\"white\",\"linecolor\":\"white\",\"minorgridcolor\":\"white\",\"startlinecolor\":\"#2a3f5f\"},\"baxis\":{\"endlinecolor\":\"#2a3f5f\",\"gridcolor\":\"white\",\"linecolor\":\"white\",\"minorgridcolor\":\"white\",\"startlinecolor\":\"#2a3f5f\"},\"type\":\"carpet\"}],\"table\":[{\"cells\":{\"fill\":{\"color\":\"#EBF0F8\"},\"line\":{\"color\":\"white\"}},\"header\":{\"fill\":{\"color\":\"#C8D4E3\"},\"line\":{\"color\":\"white\"}},\"type\":\"table\"}],\"barpolar\":[{\"marker\":{\"line\":{\"color\":\"#E5ECF6\",\"width\":0.5},\"pattern\":{\"fillmode\":\"overlay\",\"size\":10,\"solidity\":0.2}},\"type\":\"barpolar\"}],\"pie\":[{\"automargin\":true,\"type\":\"pie\"}]},\"layout\":{\"autotypenumbers\":\"strict\",\"colorway\":[\"#636efa\",\"#EF553B\",\"#00cc96\",\"#ab63fa\",\"#FFA15A\",\"#19d3f3\",\"#FF6692\",\"#B6E880\",\"#FF97FF\",\"#FECB52\"],\"font\":{\"color\":\"#2a3f5f\"},\"hovermode\":\"closest\",\"hoverlabel\":{\"align\":\"left\"},\"paper_bgcolor\":\"white\",\"plot_bgcolor\":\"#E5ECF6\",\"polar\":{\"bgcolor\":\"#E5ECF6\",\"angularaxis\":{\"gridcolor\":\"white\",\"linecolor\":\"white\",\"ticks\":\"\"},\"radialaxis\":{\"gridcolor\":\"white\",\"linecolor\":\"white\",\"ticks\":\"\"}},\"ternary\":{\"bgcolor\":\"#E5ECF6\",\"aaxis\":{\"gridcolor\":\"white\",\"linecolor\":\"white\",\"ticks\":\"\"},\"baxis\":{\"gridcolor\":\"white\",\"linecolor\":\"white\",\"ticks\":\"\"},\"caxis\":{\"gridcolor\":\"white\",\"linecolor\":\"white\",\"ticks\":\"\"}},\"coloraxis\":{\"colorbar\":{\"outlinewidth\":0,\"ticks\":\"\"}},\"colorscale\":{\"sequential\":[[0.0,\"#0d0887\"],[0.1111111111111111,\"#46039f\"],[0.2222222222222222,\"#7201a8\"],[0.3333333333333333,\"#9c179e\"],[0.4444444444444444,\"#bd3786\"],[0.5555555555555556,\"#d8576b\"],[0.6666666666666666,\"#ed7953\"],[0.7777777777777778,\"#fb9f3a\"],[0.8888888888888888,\"#fdca26\"],[1.0,\"#f0f921\"]],\"sequentialminus\":[[0.0,\"#0d0887\"],[0.1111111111111111,\"#46039f\"],[0.2222222222222222,\"#7201a8\"],[0.3333333333333333,\"#9c179e\"],[0.4444444444444444,\"#bd3786\"],[0.5555555555555556,\"#d8576b\"],[0.6666666666666666,\"#ed7953\"],[0.7777777777777778,\"#fb9f3a\"],[0.8888888888888888,\"#fdca26\"],[1.0,\"#f0f921\"]],\"diverging\":[[0,\"#8e0152\"],[0.1,\"#c51b7d\"],[0.2,\"#de77ae\"],[0.3,\"#f1b6da\"],[0.4,\"#fde0ef\"],[0.5,\"#f7f7f7\"],[0.6,\"#e6f5d0\"],[0.7,\"#b8e186\"],[0.8,\"#7fbc41\"],[0.9,\"#4d9221\"],[1,\"#276419\"]]},\"xaxis\":{\"gridcolor\":\"white\",\"linecolor\":\"white\",\"ticks\":\"\",\"title\":{\"standoff\":15},\"zerolinecolor\":\"white\",\"automargin\":true,\"zerolinewidth\":2},\"yaxis\":{\"gridcolor\":\"white\",\"linecolor\":\"white\",\"ticks\":\"\",\"title\":{\"standoff\":15},\"zerolinecolor\":\"white\",\"automargin\":true,\"zerolinewidth\":2},\"scene\":{\"xaxis\":{\"backgroundcolor\":\"#E5ECF6\",\"gridcolor\":\"white\",\"linecolor\":\"white\",\"showbackground\":true,\"ticks\":\"\",\"zerolinecolor\":\"white\",\"gridwidth\":2},\"yaxis\":{\"backgroundcolor\":\"#E5ECF6\",\"gridcolor\":\"white\",\"linecolor\":\"white\",\"showbackground\":true,\"ticks\":\"\",\"zerolinecolor\":\"white\",\"gridwidth\":2},\"zaxis\":{\"backgroundcolor\":\"#E5ECF6\",\"gridcolor\":\"white\",\"linecolor\":\"white\",\"showbackground\":true,\"ticks\":\"\",\"zerolinecolor\":\"white\",\"gridwidth\":2}},\"shapedefaults\":{\"line\":{\"color\":\"#2a3f5f\"}},\"annotationdefaults\":{\"arrowcolor\":\"#2a3f5f\",\"arrowhead\":0,\"arrowwidth\":1},\"geo\":{\"bgcolor\":\"white\",\"landcolor\":\"#E5ECF6\",\"subunitcolor\":\"white\",\"showland\":true,\"showlakes\":true,\"lakecolor\":\"white\"},\"title\":{\"x\":0.05},\"mapbox\":{\"style\":\"light\"}}},\"hoverlabel\":{\"font\":{\"size\":11},\"bgcolor\":\"white\"},\"font\":{\"color\":\"black\",\"size\":14},\"title\":{\"font\":{\"color\":\"black\"},\"text\":\"Location Stack Flow\"}},                        {\"responsive\": true}                    ).then(function(){\n",
       "                            \n",
       "var gd = document.getElementById('25f23a8f-22b7-432c-b485-8570cfac6f22');\n",
       "var x = new MutationObserver(function (mutations, observer) {{\n",
       "        var display = window.getComputedStyle(gd).display;\n",
       "        if (!display || display === 'none') {{\n",
       "            console.log([gd, 'removed!']);\n",
       "            Plotly.purge(gd);\n",
       "            observer.disconnect();\n",
       "        }}\n",
       "}});\n",
       "\n",
       "// Listen for the removal of the full notebook cells\n",
       "var notebookContainer = gd.closest('#notebook-container');\n",
       "if (notebookContainer) {{\n",
       "    x.observe(notebookContainer, {childList: true});\n",
       "}}\n",
       "\n",
       "// Listen for the clearing of the current output cell\n",
       "var outputEl = gd.closest('.output');\n",
       "if (outputEl) {{\n",
       "    x.observe(outputEl, {childList: true});\n",
       "}}\n",
       "\n",
       "                        })                };                });            </script>        </div>"
      ]
     },
     "metadata": {},
     "output_type": "display_data"
    }
   ],
   "source": [
    "# Plot the Sankey diagram using the top 15 examples via the `n_top_examples` param\n",
    "funnel.plot_sankey_diagram(df_steps_till_conversion[condition_convert_on_step_4], n_top_examples=15)"
   ]
  },
  {
   "cell_type": "markdown",
   "id": "c0cb3b2f",
   "metadata": {},
   "source": [
    "### Reference\n",
    "* [modelhub.models.funnel_discovery.get_navigation_paths](TODO)\n",
    "* [modelhub.models.funnel_discovery.plot_sankey_diagram](TODO)\n",
    "* [bach.DataFrame.head](https://objectiv.io/docs/modeling/bach/api-reference/DataFrame/head/)"
   ]
  },
  {
   "cell_type": "markdown",
   "id": "4e44964e",
   "metadata": {},
   "source": [
    "## Deep-dive: top drop-off locations"
   ]
  },
  {
   "cell_type": "code",
   "execution_count": null,
   "id": "be3ce5ea",
   "metadata": {},
   "outputs": [],
   "source": [
    "# selected only non converted users\n",
    "df_non_converted = df[~df['is_conversion_event']]\n",
    "converted_users = df[df['is_conversion_event']]['user_id']\n",
    "\n",
    "# selects the events of these non converted users\n",
    "df_non_converted = df_non_converted[~df_non_converted['user_id'].isin(converted_users)]"
   ]
  },
  {
   "cell_type": "code",
   "execution_count": null,
   "id": "60637c81",
   "metadata": {},
   "outputs": [],
   "source": [
    "# the last location before leaving the website\n",
    "drop_loc = df_non_converted.sort_values('moment').groupby('user_id')['feature_nice_name'].to_json_array().json[-1].materialize()\n",
    "total_count = drop_loc.count().value"
   ]
  },
  {
   "cell_type": "code",
   "execution_count": null,
   "id": "d6a5e2ba",
   "metadata": {},
   "outputs": [],
   "source": [
    "# calculate the percentage\n",
    "drop_loc_percent = (drop_loc.value_counts() / total_count) * 100\n",
    "drop_loc_percent = drop_loc_percent.to_frame().rename(columns={'value_counts': 'drop_percentage'})\n",
    "drop_loc_percent.sort_values(by='drop_percentage', ascending=False).head()"
   ]
  },
  {
   "cell_type": "markdown",
   "id": "118ee1d4",
   "metadata": {},
   "source": [
    "## Deep-dive: marketing campaign journeys"
   ]
  },
  {
   "cell_type": "code",
   "execution_count": null,
   "id": "64065c83",
   "metadata": {},
   "outputs": [],
   "source": [
    "# get marketing data\n",
    "df_marketing = df.copy()\n",
    "df_marketing['utm_campaign'] = df_marketing.global_contexts.gc.get_from_context_with_type_series(type='MarketingContext', key='campaign')\n",
    "\n",
    "# get all the users from marketing campaign\n",
    "user_list = df_marketing[~df_marketing['utm_campaign'].isnull()].user_id\n",
    "# get all the events of the users who had at least one utm_campaign not None value\n",
    "df_marketing = df_marketing[df_marketing['user_id'].isin(user_list)]\n",
    "df_marketing.head()"
   ]
  },
  {
   "cell_type": "markdown",
   "id": "4e4107f5",
   "metadata": {},
   "source": [
    "Let's define conversion events for marketing data."
   ]
  },
  {
   "cell_type": "code",
   "execution_count": null,
   "id": "ca064f93",
   "metadata": {},
   "outputs": [],
   "source": [
    "df_marketing['is_conversion_event'] = False\n",
    "\n",
    "# define which data to use as conversion events\n",
    "df_marketing.loc[df_marketing['application'] == 'objectiv-docs', 'is_conversion_event'] = True"
   ]
  },
  {
   "cell_type": "code",
   "execution_count": null,
   "id": "9845aa7d",
   "metadata": {},
   "outputs": [],
   "source": [
    "# get converted and non converted marketing dataframes\n",
    "users_converted = df_marketing[df_marketing['is_conversion_event']].user_id\n",
    "users_non_converted = df_marketing[~df_marketing['user_id'].isin(users_converted)].user_id\n",
    "\n",
    "df_marketing_converted = df_marketing[df_marketing['is_conversion_event']]\n",
    "df_marketing_non_converted = df_marketing[df_marketing['user_id'].isin(users_non_converted)] "
   ]
  },
  {
   "cell_type": "markdown",
   "id": "af2a26dd",
   "metadata": {},
   "source": [
    "Let's calculate the perecentage of of converted and non-converted users"
   ]
  },
  {
   "cell_type": "code",
   "execution_count": null,
   "id": "7a43f2a4",
   "metadata": {},
   "outputs": [],
   "source": [
    "n_users_converted = df_marketing_converted['user_id'].unique().count().value\n",
    "n_users_non_converted = df_marketing_non_converted['user_id'].unique().count().value\n",
    "n_users_total = n_users_converted + n_users_non_converted\n",
    "\n",
    "print(f'Converted users: {round((n_users_converted / n_users_total) * 100)}%')\n",
    "print(f'Non-converted users: {round((n_users_non_converted / n_users_total) * 100)}%')"
   ]
  },
  {
   "cell_type": "markdown",
   "id": "a7f80cf7",
   "metadata": {},
   "source": [
    "Now let's focus on non-converted users data."
   ]
  },
  {
   "cell_type": "markdown",
   "id": "c1eff59a",
   "metadata": {},
   "source": [
    "#### Top drop-off locations for non-converted users from marketing campaign"
   ]
  },
  {
   "cell_type": "code",
   "execution_count": null,
   "id": "8e81ce1a",
   "metadata": {},
   "outputs": [],
   "source": [
    "drop_loc = df_marketing_non_converted.sort_values('moment').groupby('user_id')['feature_nice_name'].to_json_array().json[-1].materialize()\n",
    "total_count = drop_loc.count().value\n",
    "\n",
    "drop_loc_percent = (drop_loc.value_counts() / total_count) * 100\n",
    "drop_loc_percent = drop_loc_percent.to_frame().rename(columns={'value_counts': 'drop_percentage'})\n",
    "drop_loc_percent.sort_values(by='drop_percentage', ascending=False).head()"
   ]
  },
  {
   "cell_type": "markdown",
   "id": "709f98cc",
   "metadata": {},
   "source": [
    "#### User journey for non-converted users from marketing campaign"
   ]
  },
  {
   "cell_type": "code",
   "execution_count": null,
   "id": "ae29b33b",
   "metadata": {},
   "outputs": [],
   "source": [
    "max_steps = 4\n",
    "df_steps = funnel.get_navigation_paths(df_marketing_non_converted, steps=max_steps, by='user_id')\n",
    "funnel.plot_sankey_diagram(df_steps, n_top_examples=20)"
   ]
  },
  {
   "cell_type": "markdown",
   "id": "b0af4b91",
   "metadata": {},
   "source": [
    "## Next steps\n",
    "\n",
    "This was a basic demonstration on how can we use the open model hub for funnel discovery. One of the next steps could be to have a in-depth look at the marketing campaign data differences per source and user journeys between converted and drop-off ones."
   ]
  }
 ],
 "metadata": {
  "kernelspec": {
   "display_name": "Python 3 (ipykernel)",
   "language": "python",
   "name": "python3"
  },
  "language_info": {
   "codemirror_mode": {
    "name": "ipython",
    "version": 3
   },
   "file_extension": ".py",
   "mimetype": "text/x-python",
   "name": "python",
   "nbconvert_exporter": "python",
   "pygments_lexer": "ipython3",
   "version": "3.8.10"
  }
 },
 "nbformat": 4,
 "nbformat_minor": 5
}
