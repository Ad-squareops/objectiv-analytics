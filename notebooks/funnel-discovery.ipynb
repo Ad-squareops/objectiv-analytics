{
 "cells": [
  {
   "cell_type": "markdown",
   "id": "741991f3",
   "metadata": {},
   "source": [
    "This is one of the Objectiv example notebooks. For more examples visit the \n",
    "[example notebooks](https://objectiv.io/docs/modeling/example-notebooks/) section of our docs. The notebooks can run with the demo data set that comes with the our [quickstart](https://objectiv.io/docs/home/quickstart-guide/), but can be used to run on your own collected data as well.\n",
    "\n",
    "All example notebooks are also available in our [quickstart](https://objectiv.io/docs/home/quickstart-guide/). With the quickstart you can spin up a fully functional Objectiv demo pipeline in five minutes. This also allows you to run these notebooks and experiment with them on a demo data set."
   ]
  },
  {
   "cell_type": "markdown",
   "id": "27a15962",
   "metadata": {},
   "source": [
    "# Funnel Discovery"
   ]
  },
  {
   "cell_type": "markdown",
   "id": "7a53065c",
   "metadata": {},
   "source": [
    "A funnel is a tool that helps to understand better the journey of the users throughout the product/website and measure the differences in user attributes or behavior in each step. These can allow the companies to find potential flaws \n",
    "and help to increase the conversion rate.\n",
    "\n",
    "In the classical funnel analysis where you pre-define the steps and then start looking at the data one can miss valuable insights, that is why it is important to look at the funnels from different angles. In this notebook, we will demonstrate how model hub can be used for funnel discovery.\n",
    "\n",
    "In particular, we will find:\n",
    "\n",
    "- the most popular consecutive steps on our website,\n",
    "- the user steps/flows which lead to conversion,\n",
    "- the most common drop-off location, etc."
   ]
  },
  {
   "cell_type": "markdown",
   "id": "099d20b3",
   "metadata": {},
   "source": [
    "## Getting started\n",
    "If you are running this example on your own collected data, [see the instructions here](https://objectiv.io/docs/modeling/get-started-in-your-notebook/) on how to setup the database connection and get started in your favorite notebook tool."
   ]
  },
  {
   "cell_type": "markdown",
   "id": "f17ee4a4",
   "metadata": {},
   "source": [
    "### Import the required packages for this notebook\n",
    "The open model hub package can be installed with `pip install objectiv-modelhub` (this installs Bach as well).  \n",
    "If you are running this notebook from our quickstart, the model hub and Bach are already installed, so you don't have to install it separately."
   ]
  },
  {
   "cell_type": "code",
   "execution_count": null,
   "id": "4bd369f6",
   "metadata": {},
   "outputs": [],
   "source": [
    "from modelhub import ModelHub"
   ]
  },
  {
   "cell_type": "code",
   "execution_count": null,
   "id": "3756a344-8072-4d6d-9c86-ea6bb8428ff8",
   "metadata": {},
   "outputs": [],
   "source": [
    "modelhub = ModelHub(time_aggregation='%Y-%m-%d')"
   ]
  },
  {
   "cell_type": "code",
   "execution_count": null,
   "id": "da4ec1a0",
   "metadata": {},
   "outputs": [],
   "source": [
    "df = modelhub.get_objectiv_dataframe(start_date='2022-02-02')\n",
    "\n",
    "# select which event type to use for further analysis\n",
    "df = df[df['event_type'] == 'PressEvent']\n",
    "\n",
    "df['application'] = df.global_contexts.gc.application\n",
    "df['feature_nice_name'] = df.location_stack.ls.nice_name"
   ]
  },
  {
   "cell_type": "markdown",
   "id": "6864ff88",
   "metadata": {},
   "source": [
    "### Conversion events"
   ]
  },
  {
   "cell_type": "markdown",
   "id": "1b92eb2f",
   "metadata": {},
   "source": [
    "Let's define conversion events in the Objectiv DataFrame."
   ]
  },
  {
   "cell_type": "code",
   "execution_count": null,
   "id": "3f44b4d0",
   "metadata": {},
   "outputs": [],
   "source": [
    "df['is_conversion_event'] = False\n",
    "\n",
    "# define which data to use as conversion events\n",
    "df.loc[df['application'] == 'objectiv-docs', 'is_conversion_event'] = True"
   ]
  },
  {
   "cell_type": "markdown",
   "id": "a24eed6a",
   "metadata": {},
   "source": [
    "What is the percentage of converted users landing to a given location?"
   ]
  },
  {
   "cell_type": "code",
   "execution_count": null,
   "id": "45e27d0e",
   "metadata": {},
   "outputs": [],
   "source": [
    "total_n_users = df[df['is_conversion_event']]['user_id'].unique().count().value\n",
    "top_conversion_locations = modelhub.agg.unique_users(df[df['is_conversion_event']], groupby='feature_nice_name')\n",
    "\n",
    "# calculate the percentage\n",
    "top_conversion_locations = (top_conversion_locations / total_n_users) * 100\n",
    "\n",
    "# calling .to_frame() for nicer formatting\n",
    "top_conversion_locations = top_conversion_locations.to_frame().rename(\n",
    "    columns={'unique_users': 'converted_users_percentage'})\n",
    "\n",
    "top_conversion_locations.sort_values(by='converted_users_percentage', ascending=False).head()"
   ]
  },
  {
   "cell_type": "code",
   "execution_count": null,
   "id": "d243628f",
   "metadata": {},
   "outputs": [],
   "source": []
  },
  {
   "cell_type": "markdown",
   "id": "0fe817bf",
   "metadata": {},
   "source": [
    "### Get users consecutive steps"
   ]
  },
  {
   "cell_type": "markdown",
   "id": "fa673673",
   "metadata": {},
   "source": [
    "Now let's calculate the consecutive steps for the users in our website (we have to specify the maximum n steps)"
   ]
  },
  {
   "cell_type": "code",
   "execution_count": null,
   "id": "1cd0f5ad",
   "metadata": {},
   "outputs": [],
   "source": [
    "funnel = modelhub.get_funnel_discovery()"
   ]
  },
  {
   "cell_type": "code",
   "execution_count": null,
   "id": "66297c7f",
   "metadata": {},
   "outputs": [],
   "source": [
    "# let's find all maximum n consecutive locations that users followed\n",
    "max_steps = 4\n",
    "df_steps = funnel.get_navigation_paths(df, steps=max_steps, by='user_id')\n",
    "df_steps.head()"
   ]
  },
  {
   "cell_type": "markdown",
   "id": "958d991f",
   "metadata": {},
   "source": [
    "### Top step sequences"
   ]
  },
  {
   "cell_type": "markdown",
   "id": "73637d50",
   "metadata": {},
   "source": [
    "For getting the bigger picture it is useful to see what are the most frequent consecutive steps of our users."
   ]
  },
  {
   "cell_type": "code",
   "execution_count": null,
   "id": "beb31893",
   "metadata": {
    "scrolled": true
   },
   "outputs": [],
   "source": [
    "df_steps.value_counts().to_frame().head(20)"
   ]
  },
  {
   "cell_type": "markdown",
   "id": "a2e3b7ce",
   "metadata": {},
   "source": [
    "### Converting step sequences "
   ]
  },
  {
   "cell_type": "markdown",
   "id": "f1e31542",
   "metadata": {},
   "source": [
    "Now let's find the sequences which lead to the conversion."
   ]
  },
  {
   "cell_type": "code",
   "execution_count": null,
   "id": "130d0209",
   "metadata": {},
   "outputs": [],
   "source": [
    "# first, we can get which step is the first conversion step\n",
    "df_first_conversion_step = funnel.get_navigation_paths(df, steps=max_steps, by='user_id', add_conversion_step_column=True)\n",
    "\n",
    "df_first_conversion_step.head()"
   ]
  },
  {
   "cell_type": "code",
   "execution_count": null,
   "id": "80e61efa",
   "metadata": {},
   "outputs": [],
   "source": [
    "# let's filter steps to first conversion \n",
    "df_steps_till_conversion = funnel.get_navigation_paths(df, steps=max_steps, by='user_id', add_conversion_step_column=True, only_converted_paths=True)\n",
    "df_steps_till_conversion.head() "
   ]
  },
  {
   "cell_type": "code",
   "execution_count": null,
   "id": "63ac504f",
   "metadata": {},
   "outputs": [],
   "source": [
    "# now let's take only stpes which were converted on the 4th one\n",
    "condition = df_steps_till_conversion['_first_conversion_step_number'] == 4\n",
    "df_steps_till_conversion[condition].head() "
   ]
  },
  {
   "cell_type": "markdown",
   "id": "e87c2271",
   "metadata": {},
   "source": [
    "### Users flow visualisation"
   ]
  },
  {
   "cell_type": "markdown",
   "id": "1bb8ce3b",
   "metadata": {},
   "source": [
    "Let's use the Sankey diagram to visualize the journey of our users on our website (the flows between the location stacks).\n",
    "Remember that the width of each link represents the amount in the flow. For each link, if you hoover the mouse you can see the source and the target node."
   ]
  },
  {
   "cell_type": "code",
   "execution_count": null,
   "id": "99f09410",
   "metadata": {},
   "outputs": [],
   "source": [
    "funnel.plot_sankey_diagram(df_steps_till_conversion[condition], n_top_examples=15)"
   ]
  },
  {
   "cell_type": "code",
   "execution_count": null,
   "id": "8461873d",
   "metadata": {},
   "outputs": [],
   "source": []
  },
  {
   "cell_type": "markdown",
   "id": "3c352828",
   "metadata": {},
   "source": [
    "# Deep dive to step details"
   ]
  },
  {
   "cell_type": "markdown",
   "id": "4e44964e",
   "metadata": {},
   "source": [
    "## Top drop-off locations"
   ]
  },
  {
   "cell_type": "code",
   "execution_count": null,
   "id": "be3ce5ea",
   "metadata": {},
   "outputs": [],
   "source": [
    "# selected only non converted users\n",
    "df_non_converted = df[~df['is_conversion_event']]\n",
    "converted_users = df[df['is_conversion_event']]['user_id']\n",
    "\n",
    "# selects the events of these non converted users\n",
    "df_non_converted = df_non_converted[~df_non_converted['user_id'].isin(converted_users)]"
   ]
  },
  {
   "cell_type": "code",
   "execution_count": null,
   "id": "60637c81",
   "metadata": {},
   "outputs": [],
   "source": [
    "# the last location before leaving the website\n",
    "drop_loc = df_non_converted.sort_values('moment').groupby('user_id')['feature_nice_name'].to_json_array().json[-1].materialize()\n",
    "total_count = drop_loc.count().value"
   ]
  },
  {
   "cell_type": "code",
   "execution_count": null,
   "id": "d6a5e2ba",
   "metadata": {},
   "outputs": [],
   "source": [
    "# calculate the percentage\n",
    "drop_loc_percent = (drop_loc.value_counts() / total_count) * 100\n",
    "drop_loc_percent = drop_loc_percent.to_frame().rename(columns={'value_counts': 'drop_percentage'})\n",
    "drop_loc_percent.sort_values(by='drop_percentage', ascending=False).head()"
   ]
  },
  {
   "cell_type": "code",
   "execution_count": null,
   "id": "18c16dc3",
   "metadata": {},
   "outputs": [],
   "source": []
  },
  {
   "cell_type": "markdown",
   "id": "118ee1d4",
   "metadata": {},
   "source": [
    "## Marketing campaign"
   ]
  },
  {
   "cell_type": "code",
   "execution_count": null,
   "id": "64065c83",
   "metadata": {},
   "outputs": [],
   "source": [
    "# get marketing data\n",
    "df_marketing = df.copy()\n",
    "df_marketing['utm_campaign'] = df_marketing.global_contexts.gc.get_from_context_with_type_series(type='MarketingContext', key='campaign')\n",
    "\n",
    "# get all the users from marketing campaign\n",
    "user_list = df_marketing[~df_marketing['utm_campaign'].isnull()].user_id\n",
    "# get all the events of the users who had at least one utm_campaign not None value\n",
    "df_marketing = df_marketing[df_marketing['user_id'].isin(user_list)]\n",
    "df_marketing.head()"
   ]
  },
  {
   "cell_type": "markdown",
   "id": "4e4107f5",
   "metadata": {},
   "source": [
    "Let's define conversion events for marketing data."
   ]
  },
  {
   "cell_type": "code",
   "execution_count": null,
   "id": "ca064f93",
   "metadata": {},
   "outputs": [],
   "source": [
    "df_marketing['is_conversion_event'] = False\n",
    "\n",
    "# define which data to use as conversion events\n",
    "df_marketing.loc[df_marketing['application'] == 'objectiv-docs', 'is_conversion_event'] = True"
   ]
  },
  {
   "cell_type": "code",
   "execution_count": null,
   "id": "9845aa7d",
   "metadata": {},
   "outputs": [],
   "source": [
    "# get converted and non converted marketing dataframes\n",
    "users_converted = df_marketing[df_marketing['is_conversion_event']].user_id\n",
    "users_non_converted = df_marketing[~df_marketing['user_id'].isin(users_converted)].user_id\n",
    "\n",
    "df_marketing_converted = df_marketing[df_marketing['is_conversion_event']]\n",
    "df_marketing_non_converted = df_marketing[df_marketing['user_id'].isin(users_non_converted)] "
   ]
  },
  {
   "cell_type": "markdown",
   "id": "af2a26dd",
   "metadata": {},
   "source": [
    "Let's calculate the perecentage of of converted and non-converted users"
   ]
  },
  {
   "cell_type": "code",
   "execution_count": null,
   "id": "7a43f2a4",
   "metadata": {},
   "outputs": [],
   "source": [
    "n_users_converted = df_marketing_converted['user_id'].unique().count().value\n",
    "n_users_non_converted = df_marketing_non_converted['user_id'].unique().count().value\n",
    "n_users_total = n_users_converted + n_users_non_converted\n",
    "\n",
    "print(f'Converted users: {round((n_users_converted / n_users_total) * 100)}%')\n",
    "print(f'Non-converted users: {round((n_users_non_converted / n_users_total) * 100)}%')"
   ]
  },
  {
   "cell_type": "markdown",
   "id": "a7f80cf7",
   "metadata": {},
   "source": [
    "Now let's focus on non-converted users data."
   ]
  },
  {
   "cell_type": "markdown",
   "id": "c1eff59a",
   "metadata": {},
   "source": [
    "#### Top drop-off locations for non-converted users from marketing campaign"
   ]
  },
  {
   "cell_type": "code",
   "execution_count": null,
   "id": "8e81ce1a",
   "metadata": {},
   "outputs": [],
   "source": [
    "drop_loc = df_marketing_non_converted.sort_values('moment').groupby('user_id')['feature_nice_name'].to_json_array().json[-1].materialize()\n",
    "total_count = drop_loc.count().value\n",
    "\n",
    "drop_loc_percent = (drop_loc.value_counts() / total_count) * 100\n",
    "drop_loc_percent = drop_loc_percent.to_frame().rename(columns={'value_counts': 'drop_percentage'})\n",
    "drop_loc_percent.sort_values(by='drop_percentage', ascending=False).head()"
   ]
  },
  {
   "cell_type": "markdown",
   "id": "709f98cc",
   "metadata": {},
   "source": [
    "#### User journey for non-converted users from marketing campaign"
   ]
  },
  {
   "cell_type": "code",
   "execution_count": null,
   "id": "ae29b33b",
   "metadata": {},
   "outputs": [],
   "source": [
    "max_steps = 4\n",
    "df_steps = funnel.get_navigation_paths(df_marketing_non_converted, steps=max_steps, by='user_id')\n",
    "funnel.plot_sankey_diagram(df_steps, n_top_examples=20)"
   ]
  },
  {
   "cell_type": "code",
   "execution_count": null,
   "id": "3b82557d",
   "metadata": {},
   "outputs": [],
   "source": []
  },
  {
   "cell_type": "markdown",
   "id": "b0af4b91",
   "metadata": {},
   "source": [
    "## Next steps\n",
    "\n",
    "This was a basic demonstration on how can we use the open model hub for funnel discovery. One of the next steps could be to have a in-depth look at the marketing campaign data differences per source and user journeys between converted and drop-off ones."
   ]
  }
 ],
 "metadata": {
  "kernelspec": {
   "display_name": "Python 3 (ipykernel)",
   "language": "python",
   "name": "python3"
  },
  "language_info": {
   "codemirror_mode": {
    "name": "ipython",
    "version": 3
   },
   "file_extension": ".py",
   "mimetype": "text/x-python",
   "name": "python",
   "nbconvert_exporter": "python",
   "pygments_lexer": "ipython3",
   "version": "3.10.4"
  }
 },
 "nbformat": 4,
 "nbformat_minor": 5
}
