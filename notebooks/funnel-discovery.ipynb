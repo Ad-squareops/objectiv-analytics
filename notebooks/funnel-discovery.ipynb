{
 "cells": [
  {
   "cell_type": "markdown",
   "id": "741991f3",
   "metadata": {},
   "source": [
    "This is one of the Objectiv [example notebooks](https://objectiv.io/docs/modeling/example-notebooks/). These notebooks can run [on your own data](https://objectiv.io/docs/modeling/get-started-in-your-notebook/), or you can instead run the [Demo](https://objectiv.io/docs/home/quickstart-guide/) to quickly try them out."
   ]
  },
  {
   "cell_type": "markdown",
   "id": "27a15962",
   "metadata": {},
   "source": [
    "# Funnel Discovery"
   ]
  },
  {
   "cell_type": "markdown",
   "id": "7a53065c",
   "metadata": {},
   "source": [
    "This example notebook shows how to use the 'Funnel Discovery' model on your data collected with Objectiv.\n",
    "\n",
    "In classical funnel analysis you predefine the steps, and then analyze the differences for user attributes or behavior in each step. However, this means you have to make assumptions about which steps matter, and you potentially miss important, impactful flows, e.g. because they are not very obvious or still small. Yet these can represent major opportunities to boost or optimize.\n",
    "\n",
    "This is where Funnel Discovery comes in: to discover _all_ the (top) user journeys that lead to conversion or drop-off, and run subsequent analyses on them.\n",
    "\n",
    "In particular, we will discover in this example:\n",
    "\n",
    "- The most popular consecutive steps overall;\n",
    "- The steps/flows which lead to conversion;\n",
    "- The most common drop-offs;\n",
    "- The top & bottom converting journeys coming from marketing campaigns;\n",
    "- Etcetera.\n",
    "\n",
    "To get started, we first have to instantiate the model hub and an Objectiv DataFrame object."
   ]
  },
  {
   "cell_type": "code",
   "execution_count": 43,
   "id": "4bd369f6",
   "metadata": {},
   "outputs": [],
   "source": [
    "from modelhub import ModelHub\n",
    "from bach import display_sql_as_markdown\n",
    "\n",
    "# instantiate the model hub and set the default time aggregation to daily\n",
    "modelhub = ModelHub(time_aggregation='%Y-%m-%d')\n",
    "# get a Bach DataFrame with Objectiv data within a defined timeframe\n",
    "df = modelhub.get_objectiv_dataframe(start_date='2022-02-01', end_date='2022-06-30')"
   ]
  },
  {
   "cell_type": "code",
   "execution_count": 44,
   "id": "da4ec1a0",
   "metadata": {},
   "outputs": [],
   "source": [
    "# add specific contexts to the data as columns\n",
    "df['application'] = df.global_contexts.gc.application\n",
    "df['feature_nice_name'] = df.location_stack.ls.nice_name"
   ]
  },
  {
   "cell_type": "code",
   "execution_count": 45,
   "id": "1c783b12",
   "metadata": {},
   "outputs": [],
   "source": [
    "# select which event type to use for further analysis\n",
    "df = df[df['event_type'] == 'PressEvent']"
   ]
  },
  {
   "cell_type": "markdown",
   "id": "d73feaac",
   "metadata": {},
   "source": [
    "### Reference\n",
    "* [modelhub.ModelHub.get_objectiv_dataframe](https://objectiv.io/docs/modeling/open-model-hub/api-reference/ModelHub/get_objectiv_dataframe/)\n",
    "* [modelhub.SeriesGlobalContexts.gc](https://objectiv.io/docs/modeling/open-model-hub/api-reference/SeriesGlobalContexts/gc/)\n",
    "* [modelhub.SeriesLocationStack.ls](https://objectiv.io/docs/modeling/open-model-hub/api-reference/SeriesLocationStack/ls/)"
   ]
  },
  {
   "cell_type": "markdown",
   "id": "6864ff88",
   "metadata": {},
   "source": [
    "## First: define what is conversion"
   ]
  },
  {
   "cell_type": "markdown",
   "id": "1b92eb2f",
   "metadata": {},
   "source": [
    "As a prerequisite for Funnel Discovery, define the events you see as conversion.\n",
    "\n",
    "In this example we will view someone as converted when they go on to read the documentation from our website, but you can [use any event](https://objectiv.io/docs/modeling/open-model-hub/api-reference/ModelHub/add_conversion_event/)."
   ]
  },
  {
   "cell_type": "code",
   "execution_count": 49,
   "id": "3f44b4d0",
   "metadata": {},
   "outputs": [],
   "source": [
    "# define which data to use as conversion events; in this example, anyone who goes on to read the documentation\n",
    "df['is_conversion_event'] = False\n",
    "df.loc[df['application'] == 'objectiv-docs', 'is_conversion_event'] = True"
   ]
  },
  {
   "cell_type": "markdown",
   "id": "a24eed6a",
   "metadata": {},
   "source": [
    "Out of curiousity, let's see which features are used by users that converted, sorted by their conversion impact."
   ]
  },
  {
   "cell_type": "code",
   "execution_count": 50,
   "id": "45e27d0e",
   "metadata": {},
   "outputs": [
    {
     "data": {
      "text/html": [
       "<div>\n",
       "<style scoped>\n",
       "    .dataframe tbody tr th:only-of-type {\n",
       "        vertical-align: middle;\n",
       "    }\n",
       "\n",
       "    .dataframe tbody tr th {\n",
       "        vertical-align: top;\n",
       "    }\n",
       "\n",
       "    .dataframe thead th {\n",
       "        text-align: right;\n",
       "    }\n",
       "</style>\n",
       "<table border=\"1\" class=\"dataframe\">\n",
       "  <thead>\n",
       "    <tr style=\"text-align: right;\">\n",
       "      <th></th>\n",
       "      <th>converted_users_percentage</th>\n",
       "    </tr>\n",
       "    <tr>\n",
       "      <th>feature_nice_name</th>\n",
       "      <th></th>\n",
       "    </tr>\n",
       "  </thead>\n",
       "  <tbody>\n",
       "    <tr>\n",
       "      <th>Link: Quickstart Guide located at Root Location: home =&gt; Navigation: docs-sidebar</th>\n",
       "      <td>15.946844</td>\n",
       "    </tr>\n",
       "    <tr>\n",
       "      <th>Link: logo located at Root Location: home =&gt; Navigation: navbar-top</th>\n",
       "      <td>10.797342</td>\n",
       "    </tr>\n",
       "    <tr>\n",
       "      <th>Link: Tracking located at Root Location: home =&gt; Navigation: navbar-top</th>\n",
       "      <td>10.631229</td>\n",
       "    </tr>\n",
       "    <tr>\n",
       "      <th>Link: Taxonomy located at Root Location: modeling =&gt; Navigation: navbar-top</th>\n",
       "      <td>10.299003</td>\n",
       "    </tr>\n",
       "    <tr>\n",
       "      <th>Link: Modeling located at Root Location: tracking =&gt; Navigation: navbar-top</th>\n",
       "      <td>9.966777</td>\n",
       "    </tr>\n",
       "  </tbody>\n",
       "</table>\n",
       "</div>"
      ],
      "text/plain": [
       "                                                    converted_users_percentage\n",
       "feature_nice_name                                                             \n",
       "Link: Quickstart Guide located at Root Location...                   15.946844\n",
       "Link: logo located at Root Location: home => Na...                   10.797342\n",
       "Link: Tracking located at Root Location: home =...                   10.631229\n",
       "Link: Taxonomy located at Root Location: modeli...                   10.299003\n",
       "Link: Modeling located at Root Location: tracki...                    9.966777"
      ]
     },
     "execution_count": 50,
     "metadata": {},
     "output_type": "execute_result"
    }
   ],
   "source": [
    "# calculate the percentage of converted users per feature: (converted users per feature) / (total users converted)\n",
    "total_converted_users = df[df['is_conversion_event']]['user_id'].unique().count().value\n",
    "top_conversion_locations = modelhub.agg.unique_users(df[df['is_conversion_event']], \n",
    "                                                     groupby='feature_nice_name')\n",
    "top_conversion_locations = (top_conversion_locations / total_converted_users) * 100\n",
    "\n",
    "# show the results, with .to_frame() for nicer formatting\n",
    "top_conversion_locations = top_conversion_locations.to_frame().rename(\n",
    "    columns={'unique_users': 'converted_users_percentage'})\n",
    "top_conversion_locations.sort_values(by='converted_users_percentage', ascending=False).head()"
   ]
  },
  {
   "cell_type": "markdown",
   "id": "fb656713",
   "metadata": {},
   "source": [
    "### Reference\n",
    "* [bach.Series.unique](https://objectiv.io/docs/modeling/bach/api-reference/Series/unique/)\n",
    "* [bach.DataFrame.count](https://objectiv.io/docs/modeling/bach/api-reference/DataFrame/count/)\n",
    "* [modelhub.Aggregate.unique_users](https://objectiv.io/docs/modeling/open-model-hub/models/aggregation/unique_users/)\n",
    "* [bach.Series.to_frame](https://objectiv.io/docs/modeling/bach/api-reference/Series/to_frame/)\n",
    "* [bach.DataFrame.rename](https://objectiv.io/docs/modeling/bach/api-reference/DataFrame/rename/)\n",
    "* [bach.DataFrame.sort_values](https://objectiv.io/docs/modeling/bach/api-reference/DataFrame/sort_values/)\n",
    "* [bach.DataFrame.head](https://objectiv.io/docs/modeling/bach/api-reference/DataFrame/head/)"
   ]
  },
  {
   "cell_type": "markdown",
   "id": "0fe817bf",
   "metadata": {},
   "source": [
    "## See step sequences per user"
   ]
  },
  {
   "cell_type": "markdown",
   "id": "fa673673",
   "metadata": {},
   "source": [
    "Before we see what converted and what didn't, let's have a look at which consecutive steps each user took (aka the features they used) in general, after starting their session, based on the [location stack](https://objectiv.io/docs/tracking/core-concepts/locations). We have to specify the maximum n steps, and use the [get_navigation_paths](TODO) operation."
   ]
  },
  {
   "cell_type": "code",
   "execution_count": 66,
   "id": "1cd0f5ad",
   "metadata": {},
   "outputs": [],
   "source": [
    "# instantiate the FunnelDiscovery model from the open model hub\n",
    "funnel = modelhub.get_funnel_discovery()"
   ]
  },
  {
   "cell_type": "code",
   "execution_count": 67,
   "id": "80b5e095",
   "metadata": {},
   "outputs": [],
   "source": [
    "# set the maximum n steps\n",
    "max_steps = 4"
   ]
  },
  {
   "cell_type": "code",
   "execution_count": 68,
   "id": "66297c7f",
   "metadata": {},
   "outputs": [
    {
     "data": {
      "text/html": [
       "<div>\n",
       "<style scoped>\n",
       "    .dataframe tbody tr th:only-of-type {\n",
       "        vertical-align: middle;\n",
       "    }\n",
       "\n",
       "    .dataframe tbody tr th {\n",
       "        vertical-align: top;\n",
       "    }\n",
       "\n",
       "    .dataframe thead th {\n",
       "        text-align: right;\n",
       "    }\n",
       "</style>\n",
       "<table border=\"1\" class=\"dataframe\">\n",
       "  <thead>\n",
       "    <tr style=\"text-align: right;\">\n",
       "      <th></th>\n",
       "      <th>location_stack_step_1</th>\n",
       "      <th>location_stack_step_2</th>\n",
       "      <th>location_stack_step_3</th>\n",
       "      <th>location_stack_step_4</th>\n",
       "    </tr>\n",
       "    <tr>\n",
       "      <th>user_id</th>\n",
       "      <th></th>\n",
       "      <th></th>\n",
       "      <th></th>\n",
       "      <th></th>\n",
       "    </tr>\n",
       "  </thead>\n",
       "  <tbody>\n",
       "    <tr>\n",
       "      <th>0000bb2f-66e9-4e48-8e2f-7d0a82446ef4</th>\n",
       "      <td>Link: about-us located at Root Location: home ...</td>\n",
       "      <td>Link: logo located at Root Location: about =&gt; ...</td>\n",
       "      <td>None</td>\n",
       "      <td>None</td>\n",
       "    </tr>\n",
       "    <tr>\n",
       "      <th>0000bb2f-66e9-4e48-8e2f-7d0a82446ef4</th>\n",
       "      <td>Link: logo located at Root Location: about =&gt; ...</td>\n",
       "      <td>None</td>\n",
       "      <td>None</td>\n",
       "      <td>None</td>\n",
       "    </tr>\n",
       "    <tr>\n",
       "      <th>00529837-d672-4747-9b87-fd09f2919326</th>\n",
       "      <td>Link: blog located at Root Location: home =&gt; N...</td>\n",
       "      <td>Pressable: after located at Root Location: hom...</td>\n",
       "      <td>Link: spin-up-the-demo located at Root Locatio...</td>\n",
       "      <td>Link: blog located at Root Location: home =&gt; N...</td>\n",
       "    </tr>\n",
       "    <tr>\n",
       "      <th>00529837-d672-4747-9b87-fd09f2919326</th>\n",
       "      <td>Pressable: after located at Root Location: hom...</td>\n",
       "      <td>Link: spin-up-the-demo located at Root Locatio...</td>\n",
       "      <td>Link: blog located at Root Location: home =&gt; N...</td>\n",
       "      <td>Link: docs located at Root Location: blog =&gt; N...</td>\n",
       "    </tr>\n",
       "    <tr>\n",
       "      <th>00529837-d672-4747-9b87-fd09f2919326</th>\n",
       "      <td>Link: spin-up-the-demo located at Root Locatio...</td>\n",
       "      <td>Link: blog located at Root Location: home =&gt; N...</td>\n",
       "      <td>Link: docs located at Root Location: blog =&gt; N...</td>\n",
       "      <td>Link: bach-and-sklearn located at Root Locatio...</td>\n",
       "    </tr>\n",
       "  </tbody>\n",
       "</table>\n",
       "</div>"
      ],
      "text/plain": [
       "                                                                  location_stack_step_1  \\\n",
       "user_id                                                                                   \n",
       "0000bb2f-66e9-4e48-8e2f-7d0a82446ef4  Link: about-us located at Root Location: home ...   \n",
       "0000bb2f-66e9-4e48-8e2f-7d0a82446ef4  Link: logo located at Root Location: about => ...   \n",
       "00529837-d672-4747-9b87-fd09f2919326  Link: blog located at Root Location: home => N...   \n",
       "00529837-d672-4747-9b87-fd09f2919326  Pressable: after located at Root Location: hom...   \n",
       "00529837-d672-4747-9b87-fd09f2919326  Link: spin-up-the-demo located at Root Locatio...   \n",
       "\n",
       "                                                                  location_stack_step_2  \\\n",
       "user_id                                                                                   \n",
       "0000bb2f-66e9-4e48-8e2f-7d0a82446ef4  Link: logo located at Root Location: about => ...   \n",
       "0000bb2f-66e9-4e48-8e2f-7d0a82446ef4                                               None   \n",
       "00529837-d672-4747-9b87-fd09f2919326  Pressable: after located at Root Location: hom...   \n",
       "00529837-d672-4747-9b87-fd09f2919326  Link: spin-up-the-demo located at Root Locatio...   \n",
       "00529837-d672-4747-9b87-fd09f2919326  Link: blog located at Root Location: home => N...   \n",
       "\n",
       "                                                                  location_stack_step_3  \\\n",
       "user_id                                                                                   \n",
       "0000bb2f-66e9-4e48-8e2f-7d0a82446ef4                                               None   \n",
       "0000bb2f-66e9-4e48-8e2f-7d0a82446ef4                                               None   \n",
       "00529837-d672-4747-9b87-fd09f2919326  Link: spin-up-the-demo located at Root Locatio...   \n",
       "00529837-d672-4747-9b87-fd09f2919326  Link: blog located at Root Location: home => N...   \n",
       "00529837-d672-4747-9b87-fd09f2919326  Link: docs located at Root Location: blog => N...   \n",
       "\n",
       "                                                                  location_stack_step_4  \n",
       "user_id                                                                                  \n",
       "0000bb2f-66e9-4e48-8e2f-7d0a82446ef4                                               None  \n",
       "0000bb2f-66e9-4e48-8e2f-7d0a82446ef4                                               None  \n",
       "00529837-d672-4747-9b87-fd09f2919326  Link: blog located at Root Location: home => N...  \n",
       "00529837-d672-4747-9b87-fd09f2919326  Link: docs located at Root Location: blog => N...  \n",
       "00529837-d672-4747-9b87-fd09f2919326  Link: bach-and-sklearn located at Root Locatio...  "
      ]
     },
     "execution_count": 68,
     "metadata": {},
     "output_type": "execute_result"
    }
   ],
   "source": [
    "# for every user starting their session, find all maximum n consecutive steps they took\n",
    "df_steps = funnel.get_navigation_paths(df, steps=max_steps, by='user_id')\n",
    "df_steps.head()"
   ]
  },
  {
   "cell_type": "markdown",
   "id": "b23cc60c",
   "metadata": {},
   "source": [
    "### Reference\n",
    "* [modelhub.models.funnel_discovery.get_funnel_discovery](TODO)\n",
    "* [modelhub.models.funnel_discovery.get_navigation_paths](TODO)\n",
    "* [bach.DataFrame.head](https://objectiv.io/docs/modeling/bach/api-reference/DataFrame/head/)"
   ]
  },
  {
   "cell_type": "markdown",
   "id": "958d991f",
   "metadata": {},
   "source": [
    "## See top step sequences for all users"
   ]
  },
  {
   "cell_type": "markdown",
   "id": "73637d50",
   "metadata": {},
   "source": [
    "For the bigger picture, calculate the most frequent consecutive steps that all users took after starting their session, based on the [location stack](https://objectiv.io/docs/tracking/core-concepts/locations)."
   ]
  },
  {
   "cell_type": "code",
   "execution_count": 69,
   "id": "beb31893",
   "metadata": {
    "scrolled": true
   },
   "outputs": [
    {
     "data": {
      "text/html": [
       "<div>\n",
       "<style scoped>\n",
       "    .dataframe tbody tr th:only-of-type {\n",
       "        vertical-align: middle;\n",
       "    }\n",
       "\n",
       "    .dataframe tbody tr th {\n",
       "        vertical-align: top;\n",
       "    }\n",
       "\n",
       "    .dataframe thead th {\n",
       "        text-align: right;\n",
       "    }\n",
       "</style>\n",
       "<table border=\"1\" class=\"dataframe\">\n",
       "  <thead>\n",
       "    <tr style=\"text-align: right;\">\n",
       "      <th></th>\n",
       "      <th></th>\n",
       "      <th></th>\n",
       "      <th></th>\n",
       "      <th>value_counts</th>\n",
       "    </tr>\n",
       "    <tr>\n",
       "      <th>location_stack_step_1</th>\n",
       "      <th>location_stack_step_2</th>\n",
       "      <th>location_stack_step_3</th>\n",
       "      <th>location_stack_step_4</th>\n",
       "      <th></th>\n",
       "    </tr>\n",
       "  </thead>\n",
       "  <tbody>\n",
       "    <tr>\n",
       "      <th>Pressable: after located at Root Location: home =&gt; Content: capture-data =&gt; Content: data-capture-workflow-before-after</th>\n",
       "      <th>NaN</th>\n",
       "      <th>NaN</th>\n",
       "      <th>NaN</th>\n",
       "      <td>154</td>\n",
       "    </tr>\n",
       "    <tr>\n",
       "      <th>Pressable: after located at Root Location: home =&gt; Content: modeling =&gt; Content: modeling-workflow-before-after</th>\n",
       "      <th>NaN</th>\n",
       "      <th>NaN</th>\n",
       "      <th>NaN</th>\n",
       "      <td>126</td>\n",
       "    </tr>\n",
       "    <tr>\n",
       "      <th>Link: about-us located at Root Location: home =&gt; Navigation: navbar-top</th>\n",
       "      <th>NaN</th>\n",
       "      <th>NaN</th>\n",
       "      <th>NaN</th>\n",
       "      <td>68</td>\n",
       "    </tr>\n",
       "    <tr>\n",
       "      <th>Pressable: hamburger located at Root Location: home =&gt; Navigation: navbar-top</th>\n",
       "      <th>NaN</th>\n",
       "      <th>NaN</th>\n",
       "      <th>NaN</th>\n",
       "      <td>63</td>\n",
       "    </tr>\n",
       "    <tr>\n",
       "      <th>Pressable: before located at Root Location: home =&gt; Content: capture-data =&gt; Content: data-capture-workflow-before-after</th>\n",
       "      <th>NaN</th>\n",
       "      <th>NaN</th>\n",
       "      <th>NaN</th>\n",
       "      <td>54</td>\n",
       "    </tr>\n",
       "    <tr>\n",
       "      <th>Link: logo located at Root Location: home =&gt; Navigation: navbar-top</th>\n",
       "      <th>NaN</th>\n",
       "      <th>NaN</th>\n",
       "      <th>NaN</th>\n",
       "      <td>52</td>\n",
       "    </tr>\n",
       "    <tr>\n",
       "      <th>Pressable: before located at Root Location: home =&gt; Content: capture-data =&gt; Content: data-capture-workflow-before-after</th>\n",
       "      <th>Pressable: after located at Root Location: home =&gt; Content: capture-data =&gt; Content: data-capture-workflow-before-after</th>\n",
       "      <th>NaN</th>\n",
       "      <th>NaN</th>\n",
       "      <td>49</td>\n",
       "    </tr>\n",
       "    <tr>\n",
       "      <th rowspan=\"2\" valign=\"top\">Pressable: after located at Root Location: home =&gt; Content: capture-data =&gt; Content: data-capture-workflow-before-after</th>\n",
       "      <th>Pressable: before located at Root Location: home =&gt; Content: capture-data =&gt; Content: data-capture-workflow-before-after</th>\n",
       "      <th>NaN</th>\n",
       "      <th>NaN</th>\n",
       "      <td>48</td>\n",
       "    </tr>\n",
       "    <tr>\n",
       "      <th>Pressable: after located at Root Location: home =&gt; Content: modeling =&gt; Content: modeling-workflow-before-after</th>\n",
       "      <th>NaN</th>\n",
       "      <th>NaN</th>\n",
       "      <td>46</td>\n",
       "    </tr>\n",
       "    <tr>\n",
       "      <th>Link: github located at Root Location: home =&gt; Navigation: navbar-top</th>\n",
       "      <th>NaN</th>\n",
       "      <th>NaN</th>\n",
       "      <th>NaN</th>\n",
       "      <td>42</td>\n",
       "    </tr>\n",
       "    <tr>\n",
       "      <th>Link: star-us located at Root Location: home =&gt; Content: hero</th>\n",
       "      <th>NaN</th>\n",
       "      <th>NaN</th>\n",
       "      <th>NaN</th>\n",
       "      <td>41</td>\n",
       "    </tr>\n",
       "    <tr>\n",
       "      <th>Link: logo located at Root Location: blog =&gt; Navigation: navbar-top</th>\n",
       "      <th>NaN</th>\n",
       "      <th>NaN</th>\n",
       "      <th>NaN</th>\n",
       "      <td>40</td>\n",
       "    </tr>\n",
       "    <tr>\n",
       "      <th>Pressable: after located at Root Location: home =&gt; Content: capture-data =&gt; Content: data-capture-workflow-before-after</th>\n",
       "      <th>Pressable: before located at Root Location: home =&gt; Content: capture-data =&gt; Content: data-capture-workflow-before-after</th>\n",
       "      <th>Pressable: after located at Root Location: home =&gt; Content: capture-data =&gt; Content: data-capture-workflow-before-after</th>\n",
       "      <th>Pressable: before located at Root Location: home =&gt; Content: capture-data =&gt; Content: data-capture-workflow-before-after</th>\n",
       "      <td>39</td>\n",
       "    </tr>\n",
       "    <tr>\n",
       "      <th>Pressable: before located at Root Location: home =&gt; Content: modeling =&gt; Content: modeling-workflow-before-after</th>\n",
       "      <th>NaN</th>\n",
       "      <th>NaN</th>\n",
       "      <th>NaN</th>\n",
       "      <td>36</td>\n",
       "    </tr>\n",
       "    <tr>\n",
       "      <th>Link: spin-up-the-demo located at Root Location: home =&gt; Content: hero</th>\n",
       "      <th>NaN</th>\n",
       "      <th>NaN</th>\n",
       "      <th>NaN</th>\n",
       "      <td>35</td>\n",
       "    </tr>\n",
       "    <tr>\n",
       "      <th>Pressable: after located at Root Location: home =&gt; Content: modeling =&gt; Content: modeling-workflow-before-after</th>\n",
       "      <th>Pressable: before located at Root Location: home =&gt; Content: modeling =&gt; Content: modeling-workflow-before-after</th>\n",
       "      <th>NaN</th>\n",
       "      <th>NaN</th>\n",
       "      <td>35</td>\n",
       "    </tr>\n",
       "    <tr>\n",
       "      <th>Pressable: before located at Root Location: home =&gt; Content: modeling =&gt; Content: modeling-workflow-before-after</th>\n",
       "      <th>Pressable: after located at Root Location: home =&gt; Content: modeling =&gt; Content: modeling-workflow-before-after</th>\n",
       "      <th>NaN</th>\n",
       "      <th>NaN</th>\n",
       "      <td>31</td>\n",
       "    </tr>\n",
       "    <tr>\n",
       "      <th>Pressable: before located at Root Location: home =&gt; Content: capture-data =&gt; Content: data-capture-workflow-before-after</th>\n",
       "      <th>Pressable: after located at Root Location: home =&gt; Content: capture-data =&gt; Content: data-capture-workflow-before-after</th>\n",
       "      <th>Pressable: before located at Root Location: home =&gt; Content: capture-data =&gt; Content: data-capture-workflow-before-after</th>\n",
       "      <th>Pressable: after located at Root Location: home =&gt; Content: capture-data =&gt; Content: data-capture-workflow-before-after</th>\n",
       "      <td>29</td>\n",
       "    </tr>\n",
       "    <tr>\n",
       "      <th>Pressable: after located at Root Location: home =&gt; Content: capture-data =&gt; Content: data-capture-workflow-before-after</th>\n",
       "      <th>Pressable: before located at Root Location: home =&gt; Content: capture-data =&gt; Content: data-capture-workflow-before-after</th>\n",
       "      <th>Pressable: after located at Root Location: home =&gt; Content: capture-data =&gt; Content: data-capture-workflow-before-after</th>\n",
       "      <th>NaN</th>\n",
       "      <td>28</td>\n",
       "    </tr>\n",
       "    <tr>\n",
       "      <th>Link: docs located at Root Location: home =&gt; Navigation: navbar-top</th>\n",
       "      <th>NaN</th>\n",
       "      <th>NaN</th>\n",
       "      <th>NaN</th>\n",
       "      <td>25</td>\n",
       "    </tr>\n",
       "  </tbody>\n",
       "</table>\n",
       "</div>"
      ],
      "text/plain": [
       "                                                                                                                                                                                                             value_counts\n",
       "location_stack_step_1                              location_stack_step_2                              location_stack_step_3                              location_stack_step_4                                           \n",
       "Pressable: after located at Root Location: home... NaN                                                NaN                                                NaN                                                          154\n",
       "Pressable: after located at Root Location: home... NaN                                                NaN                                                NaN                                                          126\n",
       "Link: about-us located at Root Location: home =... NaN                                                NaN                                                NaN                                                           68\n",
       "Pressable: hamburger located at Root Location: ... NaN                                                NaN                                                NaN                                                           63\n",
       "Pressable: before located at Root Location: hom... NaN                                                NaN                                                NaN                                                           54\n",
       "Link: logo located at Root Location: home => Na... NaN                                                NaN                                                NaN                                                           52\n",
       "Pressable: before located at Root Location: hom... Pressable: after located at Root Location: home... NaN                                                NaN                                                           49\n",
       "Pressable: after located at Root Location: home... Pressable: before located at Root Location: hom... NaN                                                NaN                                                           48\n",
       "                                                   Pressable: after located at Root Location: home... NaN                                                NaN                                                           46\n",
       "Link: github located at Root Location: home => ... NaN                                                NaN                                                NaN                                                           42\n",
       "Link: star-us located at Root Location: home =>... NaN                                                NaN                                                NaN                                                           41\n",
       "Link: logo located at Root Location: blog => Na... NaN                                                NaN                                                NaN                                                           40\n",
       "Pressable: after located at Root Location: home... Pressable: before located at Root Location: hom... Pressable: after located at Root Location: home... Pressable: before located at Root Location: hom...            39\n",
       "Pressable: before located at Root Location: hom... NaN                                                NaN                                                NaN                                                           36\n",
       "Link: spin-up-the-demo located at Root Location... NaN                                                NaN                                                NaN                                                           35\n",
       "Pressable: after located at Root Location: home... Pressable: before located at Root Location: hom... NaN                                                NaN                                                           35\n",
       "Pressable: before located at Root Location: hom... Pressable: after located at Root Location: home... NaN                                                NaN                                                           31\n",
       "Pressable: before located at Root Location: hom... Pressable: after located at Root Location: home... Pressable: before located at Root Location: hom... Pressable: after located at Root Location: home...            29\n",
       "Pressable: after located at Root Location: home... Pressable: before located at Root Location: hom... Pressable: after located at Root Location: home... NaN                                                           28\n",
       "Link: docs located at Root Location: home => Na... NaN                                                NaN                                                NaN                                                           25"
      ]
     },
     "execution_count": 69,
     "metadata": {},
     "output_type": "execute_result"
    }
   ],
   "source": [
    "df_steps.value_counts().to_frame().head(20)"
   ]
  },
  {
   "cell_type": "markdown",
   "id": "7ec01602",
   "metadata": {},
   "source": [
    "### Reference\n",
    "* [bach.DataFrame.value_counts](https://objectiv.io/docs/modeling/bach/api-reference/DataFrame/value_counts/)\n",
    "* [bach.Series.to_frame](https://objectiv.io/docs/modeling/bach/api-reference/Series/to_frame/)\n",
    "* [bach.DataFrame.head](https://objectiv.io/docs/modeling/bach/api-reference/DataFrame/head/)"
   ]
  },
  {
   "cell_type": "markdown",
   "id": "a2e3b7ce",
   "metadata": {},
   "source": [
    "## See step sequences that lead to conversion"
   ]
  },
  {
   "cell_type": "markdown",
   "id": "f1e31542",
   "metadata": {},
   "source": [
    "Now let's find the sequences that actually lead to conversion."
   ]
  },
  {
   "cell_type": "markdown",
   "id": "62158d31",
   "metadata": {},
   "source": [
    "First, see which step resulted in conversion to the dataframe, which will be NaN for sequences that did not convert."
   ]
  },
  {
   "cell_type": "code",
   "execution_count": 76,
   "id": "eabff0d0",
   "metadata": {},
   "outputs": [
    {
     "data": {
      "text/html": [
       "<div>\n",
       "<style scoped>\n",
       "    .dataframe tbody tr th:only-of-type {\n",
       "        vertical-align: middle;\n",
       "    }\n",
       "\n",
       "    .dataframe tbody tr th {\n",
       "        vertical-align: top;\n",
       "    }\n",
       "\n",
       "    .dataframe thead th {\n",
       "        text-align: right;\n",
       "    }\n",
       "</style>\n",
       "<table border=\"1\" class=\"dataframe\">\n",
       "  <thead>\n",
       "    <tr style=\"text-align: right;\">\n",
       "      <th></th>\n",
       "      <th>location_stack_step_1</th>\n",
       "      <th>location_stack_step_2</th>\n",
       "      <th>location_stack_step_3</th>\n",
       "      <th>location_stack_step_4</th>\n",
       "      <th>_first_conversion_step_number</th>\n",
       "    </tr>\n",
       "    <tr>\n",
       "      <th>user_id</th>\n",
       "      <th></th>\n",
       "      <th></th>\n",
       "      <th></th>\n",
       "      <th></th>\n",
       "      <th></th>\n",
       "    </tr>\n",
       "  </thead>\n",
       "  <tbody>\n",
       "    <tr>\n",
       "      <th>0000bb2f-66e9-4e48-8e2f-7d0a82446ef4</th>\n",
       "      <td>Link: about-us located at Root Location: home ...</td>\n",
       "      <td>Link: logo located at Root Location: about =&gt; ...</td>\n",
       "      <td>None</td>\n",
       "      <td>None</td>\n",
       "      <td>NaN</td>\n",
       "    </tr>\n",
       "    <tr>\n",
       "      <th>0000bb2f-66e9-4e48-8e2f-7d0a82446ef4</th>\n",
       "      <td>Link: logo located at Root Location: about =&gt; ...</td>\n",
       "      <td>None</td>\n",
       "      <td>None</td>\n",
       "      <td>None</td>\n",
       "      <td>NaN</td>\n",
       "    </tr>\n",
       "    <tr>\n",
       "      <th>00529837-d672-4747-9b87-fd09f2919326</th>\n",
       "      <td>Link: blog located at Root Location: home =&gt; N...</td>\n",
       "      <td>Pressable: after located at Root Location: hom...</td>\n",
       "      <td>Link: spin-up-the-demo located at Root Locatio...</td>\n",
       "      <td>Link: blog located at Root Location: home =&gt; N...</td>\n",
       "      <td>NaN</td>\n",
       "    </tr>\n",
       "    <tr>\n",
       "      <th>00529837-d672-4747-9b87-fd09f2919326</th>\n",
       "      <td>Pressable: after located at Root Location: hom...</td>\n",
       "      <td>Link: spin-up-the-demo located at Root Locatio...</td>\n",
       "      <td>Link: blog located at Root Location: home =&gt; N...</td>\n",
       "      <td>Link: docs located at Root Location: blog =&gt; N...</td>\n",
       "      <td>NaN</td>\n",
       "    </tr>\n",
       "    <tr>\n",
       "      <th>00529837-d672-4747-9b87-fd09f2919326</th>\n",
       "      <td>Link: spin-up-the-demo located at Root Locatio...</td>\n",
       "      <td>Link: blog located at Root Location: home =&gt; N...</td>\n",
       "      <td>Link: docs located at Root Location: blog =&gt; N...</td>\n",
       "      <td>Link: bach-and-sklearn located at Root Locatio...</td>\n",
       "      <td>4.0</td>\n",
       "    </tr>\n",
       "    <tr>\n",
       "      <th>00529837-d672-4747-9b87-fd09f2919326</th>\n",
       "      <td>Link: blog located at Root Location: home =&gt; N...</td>\n",
       "      <td>Link: docs located at Root Location: blog =&gt; N...</td>\n",
       "      <td>Link: bach-and-sklearn located at Root Locatio...</td>\n",
       "      <td>Link: basic-product-analytics located at Root ...</td>\n",
       "      <td>3.0</td>\n",
       "    </tr>\n",
       "    <tr>\n",
       "      <th>00529837-d672-4747-9b87-fd09f2919326</th>\n",
       "      <td>Link: docs located at Root Location: blog =&gt; N...</td>\n",
       "      <td>Link: bach-and-sklearn located at Root Locatio...</td>\n",
       "      <td>Link: basic-product-analytics located at Root ...</td>\n",
       "      <td>None</td>\n",
       "      <td>2.0</td>\n",
       "    </tr>\n",
       "    <tr>\n",
       "      <th>00529837-d672-4747-9b87-fd09f2919326</th>\n",
       "      <td>Link: bach-and-sklearn located at Root Locatio...</td>\n",
       "      <td>Link: basic-product-analytics located at Root ...</td>\n",
       "      <td>None</td>\n",
       "      <td>None</td>\n",
       "      <td>1.0</td>\n",
       "    </tr>\n",
       "    <tr>\n",
       "      <th>00529837-d672-4747-9b87-fd09f2919326</th>\n",
       "      <td>Link: basic-product-analytics located at Root ...</td>\n",
       "      <td>None</td>\n",
       "      <td>None</td>\n",
       "      <td>None</td>\n",
       "      <td>1.0</td>\n",
       "    </tr>\n",
       "    <tr>\n",
       "      <th>005aa19c-7e80-4960-928c-a0853355ee5f</th>\n",
       "      <td>Link: check-out-thijs-obj-on-github located at...</td>\n",
       "      <td>Link: jobs located at Root Location: about =&gt; ...</td>\n",
       "      <td>None</td>\n",
       "      <td>None</td>\n",
       "      <td>NaN</td>\n",
       "    </tr>\n",
       "  </tbody>\n",
       "</table>\n",
       "</div>"
      ],
      "text/plain": [
       "                                                                  location_stack_step_1  \\\n",
       "user_id                                                                                   \n",
       "0000bb2f-66e9-4e48-8e2f-7d0a82446ef4  Link: about-us located at Root Location: home ...   \n",
       "0000bb2f-66e9-4e48-8e2f-7d0a82446ef4  Link: logo located at Root Location: about => ...   \n",
       "00529837-d672-4747-9b87-fd09f2919326  Link: blog located at Root Location: home => N...   \n",
       "00529837-d672-4747-9b87-fd09f2919326  Pressable: after located at Root Location: hom...   \n",
       "00529837-d672-4747-9b87-fd09f2919326  Link: spin-up-the-demo located at Root Locatio...   \n",
       "00529837-d672-4747-9b87-fd09f2919326  Link: blog located at Root Location: home => N...   \n",
       "00529837-d672-4747-9b87-fd09f2919326  Link: docs located at Root Location: blog => N...   \n",
       "00529837-d672-4747-9b87-fd09f2919326  Link: bach-and-sklearn located at Root Locatio...   \n",
       "00529837-d672-4747-9b87-fd09f2919326  Link: basic-product-analytics located at Root ...   \n",
       "005aa19c-7e80-4960-928c-a0853355ee5f  Link: check-out-thijs-obj-on-github located at...   \n",
       "\n",
       "                                                                  location_stack_step_2  \\\n",
       "user_id                                                                                   \n",
       "0000bb2f-66e9-4e48-8e2f-7d0a82446ef4  Link: logo located at Root Location: about => ...   \n",
       "0000bb2f-66e9-4e48-8e2f-7d0a82446ef4                                               None   \n",
       "00529837-d672-4747-9b87-fd09f2919326  Pressable: after located at Root Location: hom...   \n",
       "00529837-d672-4747-9b87-fd09f2919326  Link: spin-up-the-demo located at Root Locatio...   \n",
       "00529837-d672-4747-9b87-fd09f2919326  Link: blog located at Root Location: home => N...   \n",
       "00529837-d672-4747-9b87-fd09f2919326  Link: docs located at Root Location: blog => N...   \n",
       "00529837-d672-4747-9b87-fd09f2919326  Link: bach-and-sklearn located at Root Locatio...   \n",
       "00529837-d672-4747-9b87-fd09f2919326  Link: basic-product-analytics located at Root ...   \n",
       "00529837-d672-4747-9b87-fd09f2919326                                               None   \n",
       "005aa19c-7e80-4960-928c-a0853355ee5f  Link: jobs located at Root Location: about => ...   \n",
       "\n",
       "                                                                  location_stack_step_3  \\\n",
       "user_id                                                                                   \n",
       "0000bb2f-66e9-4e48-8e2f-7d0a82446ef4                                               None   \n",
       "0000bb2f-66e9-4e48-8e2f-7d0a82446ef4                                               None   \n",
       "00529837-d672-4747-9b87-fd09f2919326  Link: spin-up-the-demo located at Root Locatio...   \n",
       "00529837-d672-4747-9b87-fd09f2919326  Link: blog located at Root Location: home => N...   \n",
       "00529837-d672-4747-9b87-fd09f2919326  Link: docs located at Root Location: blog => N...   \n",
       "00529837-d672-4747-9b87-fd09f2919326  Link: bach-and-sklearn located at Root Locatio...   \n",
       "00529837-d672-4747-9b87-fd09f2919326  Link: basic-product-analytics located at Root ...   \n",
       "00529837-d672-4747-9b87-fd09f2919326                                               None   \n",
       "00529837-d672-4747-9b87-fd09f2919326                                               None   \n",
       "005aa19c-7e80-4960-928c-a0853355ee5f                                               None   \n",
       "\n",
       "                                                                  location_stack_step_4  \\\n",
       "user_id                                                                                   \n",
       "0000bb2f-66e9-4e48-8e2f-7d0a82446ef4                                               None   \n",
       "0000bb2f-66e9-4e48-8e2f-7d0a82446ef4                                               None   \n",
       "00529837-d672-4747-9b87-fd09f2919326  Link: blog located at Root Location: home => N...   \n",
       "00529837-d672-4747-9b87-fd09f2919326  Link: docs located at Root Location: blog => N...   \n",
       "00529837-d672-4747-9b87-fd09f2919326  Link: bach-and-sklearn located at Root Locatio...   \n",
       "00529837-d672-4747-9b87-fd09f2919326  Link: basic-product-analytics located at Root ...   \n",
       "00529837-d672-4747-9b87-fd09f2919326                                               None   \n",
       "00529837-d672-4747-9b87-fd09f2919326                                               None   \n",
       "00529837-d672-4747-9b87-fd09f2919326                                               None   \n",
       "005aa19c-7e80-4960-928c-a0853355ee5f                                               None   \n",
       "\n",
       "                                      _first_conversion_step_number  \n",
       "user_id                                                              \n",
       "0000bb2f-66e9-4e48-8e2f-7d0a82446ef4                            NaN  \n",
       "0000bb2f-66e9-4e48-8e2f-7d0a82446ef4                            NaN  \n",
       "00529837-d672-4747-9b87-fd09f2919326                            NaN  \n",
       "00529837-d672-4747-9b87-fd09f2919326                            NaN  \n",
       "00529837-d672-4747-9b87-fd09f2919326                            4.0  \n",
       "00529837-d672-4747-9b87-fd09f2919326                            3.0  \n",
       "00529837-d672-4747-9b87-fd09f2919326                            2.0  \n",
       "00529837-d672-4747-9b87-fd09f2919326                            1.0  \n",
       "00529837-d672-4747-9b87-fd09f2919326                            1.0  \n",
       "005aa19c-7e80-4960-928c-a0853355ee5f                            NaN  "
      ]
     },
     "execution_count": 76,
     "metadata": {},
     "output_type": "execute_result"
    }
   ],
   "source": [
    "# add which step resulted in conversion to the dataframe, with the `add_conversion_step_column` param\n",
    "df_first_conversion_step = funnel.get_navigation_paths(df, steps=max_steps, by='user_id', add_conversion_step_column=True)\n",
    "df_first_conversion_step.head(10)"
   ]
  },
  {
   "cell_type": "markdown",
   "id": "34a94c54",
   "metadata": {},
   "source": [
    "To filter down to all sequences that have actually converted, use the `only_converted_paths` parameter."
   ]
  },
  {
   "cell_type": "code",
   "execution_count": 80,
   "id": "80e61efa",
   "metadata": {},
   "outputs": [
    {
     "data": {
      "text/html": [
       "<div>\n",
       "<style scoped>\n",
       "    .dataframe tbody tr th:only-of-type {\n",
       "        vertical-align: middle;\n",
       "    }\n",
       "\n",
       "    .dataframe tbody tr th {\n",
       "        vertical-align: top;\n",
       "    }\n",
       "\n",
       "    .dataframe thead th {\n",
       "        text-align: right;\n",
       "    }\n",
       "</style>\n",
       "<table border=\"1\" class=\"dataframe\">\n",
       "  <thead>\n",
       "    <tr style=\"text-align: right;\">\n",
       "      <th></th>\n",
       "      <th>location_stack_step_1</th>\n",
       "      <th>location_stack_step_2</th>\n",
       "      <th>location_stack_step_3</th>\n",
       "      <th>location_stack_step_4</th>\n",
       "      <th>_first_conversion_step_number</th>\n",
       "    </tr>\n",
       "    <tr>\n",
       "      <th>user_id</th>\n",
       "      <th></th>\n",
       "      <th></th>\n",
       "      <th></th>\n",
       "      <th></th>\n",
       "      <th></th>\n",
       "    </tr>\n",
       "  </thead>\n",
       "  <tbody>\n",
       "    <tr>\n",
       "      <th>00529837-d672-4747-9b87-fd09f2919326</th>\n",
       "      <td>Link: spin-up-the-demo located at Root Locatio...</td>\n",
       "      <td>Link: blog located at Root Location: home =&gt; N...</td>\n",
       "      <td>Link: docs located at Root Location: blog =&gt; N...</td>\n",
       "      <td>Link: bach-and-sklearn located at Root Locatio...</td>\n",
       "      <td>4</td>\n",
       "    </tr>\n",
       "    <tr>\n",
       "      <th>00529837-d672-4747-9b87-fd09f2919326</th>\n",
       "      <td>Link: blog located at Root Location: home =&gt; N...</td>\n",
       "      <td>Link: docs located at Root Location: blog =&gt; N...</td>\n",
       "      <td>Link: bach-and-sklearn located at Root Locatio...</td>\n",
       "      <td>None</td>\n",
       "      <td>3</td>\n",
       "    </tr>\n",
       "    <tr>\n",
       "      <th>00529837-d672-4747-9b87-fd09f2919326</th>\n",
       "      <td>Link: docs located at Root Location: blog =&gt; N...</td>\n",
       "      <td>Link: bach-and-sklearn located at Root Locatio...</td>\n",
       "      <td>None</td>\n",
       "      <td>None</td>\n",
       "      <td>2</td>\n",
       "    </tr>\n",
       "    <tr>\n",
       "      <th>007f5fd7-7535-434e-aa3e-3d52f06d63ce</th>\n",
       "      <td>Link: docs located at Root Location: home =&gt; N...</td>\n",
       "      <td>Link: Modeling located at Root Location: home ...</td>\n",
       "      <td>None</td>\n",
       "      <td>None</td>\n",
       "      <td>2</td>\n",
       "    </tr>\n",
       "    <tr>\n",
       "      <th>007f5fd7-7535-434e-aa3e-3d52f06d63ce</th>\n",
       "      <td>Link: docs located at Root Location: home =&gt; N...</td>\n",
       "      <td>Link: Modeling located at Root Location: home ...</td>\n",
       "      <td>None</td>\n",
       "      <td>None</td>\n",
       "      <td>2</td>\n",
       "    </tr>\n",
       "  </tbody>\n",
       "</table>\n",
       "</div>"
      ],
      "text/plain": [
       "                                                                  location_stack_step_1  \\\n",
       "user_id                                                                                   \n",
       "00529837-d672-4747-9b87-fd09f2919326  Link: spin-up-the-demo located at Root Locatio...   \n",
       "00529837-d672-4747-9b87-fd09f2919326  Link: blog located at Root Location: home => N...   \n",
       "00529837-d672-4747-9b87-fd09f2919326  Link: docs located at Root Location: blog => N...   \n",
       "007f5fd7-7535-434e-aa3e-3d52f06d63ce  Link: docs located at Root Location: home => N...   \n",
       "007f5fd7-7535-434e-aa3e-3d52f06d63ce  Link: docs located at Root Location: home => N...   \n",
       "\n",
       "                                                                  location_stack_step_2  \\\n",
       "user_id                                                                                   \n",
       "00529837-d672-4747-9b87-fd09f2919326  Link: blog located at Root Location: home => N...   \n",
       "00529837-d672-4747-9b87-fd09f2919326  Link: docs located at Root Location: blog => N...   \n",
       "00529837-d672-4747-9b87-fd09f2919326  Link: bach-and-sklearn located at Root Locatio...   \n",
       "007f5fd7-7535-434e-aa3e-3d52f06d63ce  Link: Modeling located at Root Location: home ...   \n",
       "007f5fd7-7535-434e-aa3e-3d52f06d63ce  Link: Modeling located at Root Location: home ...   \n",
       "\n",
       "                                                                  location_stack_step_3  \\\n",
       "user_id                                                                                   \n",
       "00529837-d672-4747-9b87-fd09f2919326  Link: docs located at Root Location: blog => N...   \n",
       "00529837-d672-4747-9b87-fd09f2919326  Link: bach-and-sklearn located at Root Locatio...   \n",
       "00529837-d672-4747-9b87-fd09f2919326                                               None   \n",
       "007f5fd7-7535-434e-aa3e-3d52f06d63ce                                               None   \n",
       "007f5fd7-7535-434e-aa3e-3d52f06d63ce                                               None   \n",
       "\n",
       "                                                                  location_stack_step_4  \\\n",
       "user_id                                                                                   \n",
       "00529837-d672-4747-9b87-fd09f2919326  Link: bach-and-sklearn located at Root Locatio...   \n",
       "00529837-d672-4747-9b87-fd09f2919326                                               None   \n",
       "00529837-d672-4747-9b87-fd09f2919326                                               None   \n",
       "007f5fd7-7535-434e-aa3e-3d52f06d63ce                                               None   \n",
       "007f5fd7-7535-434e-aa3e-3d52f06d63ce                                               None   \n",
       "\n",
       "                                      _first_conversion_step_number  \n",
       "user_id                                                              \n",
       "00529837-d672-4747-9b87-fd09f2919326                              4  \n",
       "00529837-d672-4747-9b87-fd09f2919326                              3  \n",
       "00529837-d672-4747-9b87-fd09f2919326                              2  \n",
       "007f5fd7-7535-434e-aa3e-3d52f06d63ce                              2  \n",
       "007f5fd7-7535-434e-aa3e-3d52f06d63ce                              2  "
      ]
     },
     "execution_count": 80,
     "metadata": {},
     "output_type": "execute_result"
    }
   ],
   "source": [
    "# filter down to all sequences that have actually converted with the `only_converted_paths` param\n",
    "df_steps_till_conversion = funnel.get_navigation_paths(df, steps=max_steps, by='user_id', add_conversion_step_column=True, only_converted_paths=True)\n",
    "df_steps_till_conversion.head(5) "
   ]
  },
  {
   "cell_type": "markdown",
   "id": "09669e58",
   "metadata": {},
   "source": [
    "We can use this to for instance see which sequences converted on the 4th step"
   ]
  },
  {
   "cell_type": "code",
   "execution_count": 85,
   "id": "63ac504f",
   "metadata": {},
   "outputs": [
    {
     "data": {
      "text/html": [
       "<div>\n",
       "<style scoped>\n",
       "    .dataframe tbody tr th:only-of-type {\n",
       "        vertical-align: middle;\n",
       "    }\n",
       "\n",
       "    .dataframe tbody tr th {\n",
       "        vertical-align: top;\n",
       "    }\n",
       "\n",
       "    .dataframe thead th {\n",
       "        text-align: right;\n",
       "    }\n",
       "</style>\n",
       "<table border=\"1\" class=\"dataframe\">\n",
       "  <thead>\n",
       "    <tr style=\"text-align: right;\">\n",
       "      <th></th>\n",
       "      <th>location_stack_step_1</th>\n",
       "      <th>location_stack_step_2</th>\n",
       "      <th>location_stack_step_3</th>\n",
       "      <th>location_stack_step_4</th>\n",
       "      <th>_first_conversion_step_number</th>\n",
       "    </tr>\n",
       "    <tr>\n",
       "      <th>user_id</th>\n",
       "      <th></th>\n",
       "      <th></th>\n",
       "      <th></th>\n",
       "      <th></th>\n",
       "      <th></th>\n",
       "    </tr>\n",
       "  </thead>\n",
       "  <tbody>\n",
       "    <tr>\n",
       "      <th>00529837-d672-4747-9b87-fd09f2919326</th>\n",
       "      <td>Link: spin-up-the-demo located at Root Locatio...</td>\n",
       "      <td>Link: blog located at Root Location: home =&gt; N...</td>\n",
       "      <td>Link: docs located at Root Location: blog =&gt; N...</td>\n",
       "      <td>Link: bach-and-sklearn located at Root Locatio...</td>\n",
       "      <td>4</td>\n",
       "    </tr>\n",
       "    <tr>\n",
       "      <th>01891784-6333-40f1-8be6-739f3adfdb97</th>\n",
       "      <td>Link: about-us located at Root Location: home ...</td>\n",
       "      <td>Pressable: hamburger located at Root Location:...</td>\n",
       "      <td>Link: faq located at Root Location: home =&gt; Na...</td>\n",
       "      <td>Pressable: navbar-toggle located at Root Locat...</td>\n",
       "      <td>4</td>\n",
       "    </tr>\n",
       "    <tr>\n",
       "      <th>02f197f4-90d1-4374-b8a5-89e2e91310d7</th>\n",
       "      <td>Pressable: after located at Root Location: hom...</td>\n",
       "      <td>Pressable: before located at Root Location: ho...</td>\n",
       "      <td>Pressable: after located at Root Location: hom...</td>\n",
       "      <td>Link: logo located at Root Location: modeling ...</td>\n",
       "      <td>4</td>\n",
       "    </tr>\n",
       "    <tr>\n",
       "      <th>05bd4058-b7df-4476-8174-dcf0be107b5c</th>\n",
       "      <td>Link: blog located at Root Location: home =&gt; N...</td>\n",
       "      <td>Link: jobs located at Root Location: blog =&gt; N...</td>\n",
       "      <td>Link: faq located at Root Location: jobs =&gt; Na...</td>\n",
       "      <td>Link: Objectiv.io located at Root Location: ho...</td>\n",
       "      <td>4</td>\n",
       "    </tr>\n",
       "    <tr>\n",
       "      <th>0605440c-1eba-479a-9000-8294576199aa</th>\n",
       "      <td>Link: check-out-jansenbob-on-github located at...</td>\n",
       "      <td>Link: blog located at Root Location: about =&gt; ...</td>\n",
       "      <td>Link: read-more located at Root Location: blog...</td>\n",
       "      <td>Link: MediaEvent located at Root Location: tax...</td>\n",
       "      <td>4</td>\n",
       "    </tr>\n",
       "  </tbody>\n",
       "</table>\n",
       "</div>"
      ],
      "text/plain": [
       "                                                                  location_stack_step_1  \\\n",
       "user_id                                                                                   \n",
       "00529837-d672-4747-9b87-fd09f2919326  Link: spin-up-the-demo located at Root Locatio...   \n",
       "01891784-6333-40f1-8be6-739f3adfdb97  Link: about-us located at Root Location: home ...   \n",
       "02f197f4-90d1-4374-b8a5-89e2e91310d7  Pressable: after located at Root Location: hom...   \n",
       "05bd4058-b7df-4476-8174-dcf0be107b5c  Link: blog located at Root Location: home => N...   \n",
       "0605440c-1eba-479a-9000-8294576199aa  Link: check-out-jansenbob-on-github located at...   \n",
       "\n",
       "                                                                  location_stack_step_2  \\\n",
       "user_id                                                                                   \n",
       "00529837-d672-4747-9b87-fd09f2919326  Link: blog located at Root Location: home => N...   \n",
       "01891784-6333-40f1-8be6-739f3adfdb97  Pressable: hamburger located at Root Location:...   \n",
       "02f197f4-90d1-4374-b8a5-89e2e91310d7  Pressable: before located at Root Location: ho...   \n",
       "05bd4058-b7df-4476-8174-dcf0be107b5c  Link: jobs located at Root Location: blog => N...   \n",
       "0605440c-1eba-479a-9000-8294576199aa  Link: blog located at Root Location: about => ...   \n",
       "\n",
       "                                                                  location_stack_step_3  \\\n",
       "user_id                                                                                   \n",
       "00529837-d672-4747-9b87-fd09f2919326  Link: docs located at Root Location: blog => N...   \n",
       "01891784-6333-40f1-8be6-739f3adfdb97  Link: faq located at Root Location: home => Na...   \n",
       "02f197f4-90d1-4374-b8a5-89e2e91310d7  Pressable: after located at Root Location: hom...   \n",
       "05bd4058-b7df-4476-8174-dcf0be107b5c  Link: faq located at Root Location: jobs => Na...   \n",
       "0605440c-1eba-479a-9000-8294576199aa  Link: read-more located at Root Location: blog...   \n",
       "\n",
       "                                                                  location_stack_step_4  \\\n",
       "user_id                                                                                   \n",
       "00529837-d672-4747-9b87-fd09f2919326  Link: bach-and-sklearn located at Root Locatio...   \n",
       "01891784-6333-40f1-8be6-739f3adfdb97  Pressable: navbar-toggle located at Root Locat...   \n",
       "02f197f4-90d1-4374-b8a5-89e2e91310d7  Link: logo located at Root Location: modeling ...   \n",
       "05bd4058-b7df-4476-8174-dcf0be107b5c  Link: Objectiv.io located at Root Location: ho...   \n",
       "0605440c-1eba-479a-9000-8294576199aa  Link: MediaEvent located at Root Location: tax...   \n",
       "\n",
       "                                      _first_conversion_step_number  \n",
       "user_id                                                              \n",
       "00529837-d672-4747-9b87-fd09f2919326                              4  \n",
       "01891784-6333-40f1-8be6-739f3adfdb97                              4  \n",
       "02f197f4-90d1-4374-b8a5-89e2e91310d7                              4  \n",
       "05bd4058-b7df-4476-8174-dcf0be107b5c                              4  \n",
       "0605440c-1eba-479a-9000-8294576199aa                              4  "
      ]
     },
     "execution_count": 85,
     "metadata": {},
     "output_type": "execute_result"
    }
   ],
   "source": [
    "# filter down to sequences that converted on the 4th step\n",
    "condition_convert_on_step_4 = df_steps_till_conversion['_first_conversion_step_number'] == 4\n",
    "df_steps_till_conversion[condition_convert_on_step_4].head() "
   ]
  },
  {
   "cell_type": "markdown",
   "id": "e87c2271",
   "metadata": {},
   "source": [
    "#### Visualize the sequences in a Sankey diagram"
   ]
  },
  {
   "cell_type": "markdown",
   "id": "1bb8ce3b",
   "metadata": {},
   "source": [
    "We can use a Sankey diagram to visualize these customer journeys that lead to conversion (or drop-off). This helps you to select which sequences are most interesting to analyze further.\n",
    "\n",
    "Let's plot it for the example above, where we filtered down to the sequences that converted on the 4th step. The width of each link represents the amount of times that flow was used, and you can hover over each link to see the source and target node."
   ]
  },
  {
   "cell_type": "code",
   "execution_count": 88,
   "id": "99f09410",
   "metadata": {},
   "outputs": [
    {
     "name": "stdout",
     "output_type": "stream",
     "text": [
      "Showing 15 examples out of 265\n"
     ]
    },
    {
     "data": {
      "application/vnd.plotly.v1+json": {
       "config": {
        "plotlyServerURL": "https://plot.ly"
       },
       "data": [
        {
         "link": {
          "customdata": [
           "Pressable: before located at Root Location: home => Content: capture-data => Content: data-capture-workflow-before-after",
           "Pressable: after located at Root Location: home => Content: capture-data => Content: data-capture-workflow-before-after",
           "Pressable: after located at Root Location: home => Content: modeling => Content: modeling-workflow-before-after",
           "Link: logo located at Root Location: home => Navigation: navbar-top",
           "Pressable: before located at Root Location: home => Content: modeling => Content: modeling-workflow-before-after",
           "Link: docs located at Root Location: home => Navigation: navbar-top",
           "Link: Quickstart Guide located at Root Location: home => Navigation: docs-sidebar",
           "Link: blog located at Root Location: about => Navigation: navbar-top",
           "Link: jobs located at Root Location: blog => Navigation: navbar-top",
           "Link: faq located at Root Location: jobs => Navigation: navbar-top",
           "Link: Taxonomy located at Root Location: home => Navigation: navbar-top",
           "Link: github located at Root Location: home => Navigation: navbar-top",
           "Link: Introduction located at Root Location: home => Navigation: docs-sidebar",
           "Pressable: hamburger located at Root Location: home => Navigation: navbar-top",
           "Link: docs located at Root Location: home => Navigation: navbar-top => Overlay: hamburger-menu",
           "Link: Quickstart Guide located at Root Location: home => Navigation: doc-paginator-navigation",
           "Link: about-us located at Root Location: home => Navigation: navbar-top",
           "Link: blog located at Root Location: home => Navigation: navbar-top",
           "Link: docs located at Root Location: blog => Navigation: navbar-top",
           "Link: Update Docs located at Root Location: home => Navigation: docs-sidebar => Expandable: The Project",
           "Link: check-out-kathiabarahona-on-github located at Root Location: about => Content: core-team => Content: contributors => Content: KathiaBarahona => Content: contributor-card => Content: avatar",
           "Link: check-the-vacancy located at Root Location: about => Content: announcement-bar",
           "Link: fly-ventures located at Root Location: about => Content: why-us",
           "Link: jobs located at Root Location: about => Navigation: navbar-top",
           "Link: docs located at Root Location: jobs => Navigation: navbar-top",
           "Link: Get Help located at Root Location: home => Navigation: docs-sidebar => Expandable: The Project"
          ],
          "hovertemplate": "SOURCE: %{source.customdata}<br />TARGET: %{target.customdata}<br />",
          "source": [
           0,
           1,
           2,
           2,
           4,
           5,
           7,
           8,
           9,
           4,
           2,
           0,
           4,
           2,
           9,
           2,
           13,
           14,
           16,
           17,
           18,
           16,
           20,
           18,
           20,
           16,
           21,
           16,
           22,
           16,
           23,
           24,
           24
          ],
          "target": [
           1,
           2,
           3,
           4,
           5,
           6,
           8,
           9,
           10,
           2,
           11,
           2,
           11,
           5,
           12,
           13,
           14,
           15,
           17,
           18,
           19,
           20,
           18,
           10,
           5,
           21,
           5,
           22,
           5,
           23,
           24,
           25,
           3
          ],
          "value": [
           3,
           5,
           3,
           7,
           3,
           8,
           4,
           4,
           2,
           2,
           2,
           2,
           2,
           2,
           2,
           2,
           2,
           2,
           1,
           1,
           1,
           2,
           1,
           1,
           1,
           1,
           1,
           1,
           1,
           2,
           2,
           1,
           1
          ]
         },
         "node": {
          "customdata": [
           "Pressable: before located at Root Location: home => Content: capture-data => Content: data-capture-workflow-before-after",
           "Pressable: after located at Root Location: home => Content: capture-data => Content: data-capture-workflow-before-after",
           "Pressable: after located at Root Location: home => Content: modeling => Content: modeling-workflow-before-after",
           "Link: logo located at Root Location: home => Navigation: navbar-top",
           "Pressable: before located at Root Location: home => Content: modeling => Content: modeling-workflow-before-after",
           "Link: docs located at Root Location: home => Navigation: navbar-top",
           "Link: Quickstart Guide located at Root Location: home => Navigation: docs-sidebar",
           "Link: blog located at Root Location: about => Navigation: navbar-top",
           "Link: jobs located at Root Location: blog => Navigation: navbar-top",
           "Link: faq located at Root Location: jobs => Navigation: navbar-top",
           "Link: Taxonomy located at Root Location: home => Navigation: navbar-top",
           "Link: github located at Root Location: home => Navigation: navbar-top",
           "Link: Introduction located at Root Location: home => Navigation: docs-sidebar",
           "Pressable: hamburger located at Root Location: home => Navigation: navbar-top",
           "Link: docs located at Root Location: home => Navigation: navbar-top => Overlay: hamburger-menu",
           "Link: Quickstart Guide located at Root Location: home => Navigation: doc-paginator-navigation",
           "Link: about-us located at Root Location: home => Navigation: navbar-top",
           "Link: blog located at Root Location: home => Navigation: navbar-top",
           "Link: docs located at Root Location: blog => Navigation: navbar-top",
           "Link: Update Docs located at Root Location: home => Navigation: docs-sidebar => Expandable: The Project",
           "Link: check-out-kathiabarahona-on-github located at Root Location: about => Content: core-team => Content: contributors => Content: KathiaBarahona => Content: contributor-card => Content: avatar",
           "Link: check-the-vacancy located at Root Location: about => Content: announcement-bar",
           "Link: fly-ventures located at Root Location: about => Content: why-us",
           "Link: jobs located at Root Location: about => Navigation: navbar-top",
           "Link: docs located at Root Location: jobs => Navigation: navbar-top",
           "Link: Get Help located at Root Location: home => Navigation: docs-sidebar => Expandable: The Project"
          ],
          "hovertemplate": "NODE: %{customdata}",
          "label": [
           "Pressable: before lo...",
           "Pressable: after loc...",
           "Pressable: after loc...",
           "Link: logo located a...",
           "Pressable: before lo...",
           "Link: docs located a...",
           "Link: Quickstart Gui...",
           "Link: blog located a...",
           "Link: jobs located a...",
           "Link: faq located at...",
           "Link: Taxonomy locat...",
           "Link: github located...",
           "Link: Introduction l...",
           "Pressable: hamburger...",
           "Link: docs located a...",
           "Link: Quickstart Gui...",
           "Link: about-us locat...",
           "Link: blog located a...",
           "Link: docs located a...",
           "Link: Update Docs lo...",
           "Link: check-out-kath...",
           "Link: check-the-vaca...",
           "Link: fly-ventures l...",
           "Link: jobs located a...",
           "Link: docs located a...",
           "Link: Get Help locat..."
          ],
          "line": {
           "color": "black",
           "width": 0.5
          },
          "pad": 25,
          "thickness": 15
         },
         "orientation": "h",
         "type": "sankey"
        }
       ],
       "layout": {
        "font": {
         "color": "black",
         "size": 14
        },
        "hoverlabel": {
         "bgcolor": "white",
         "font": {
          "size": 11
         }
        },
        "template": {
         "data": {
          "bar": [
           {
            "error_x": {
             "color": "#2a3f5f"
            },
            "error_y": {
             "color": "#2a3f5f"
            },
            "marker": {
             "line": {
              "color": "#E5ECF6",
              "width": 0.5
             },
             "pattern": {
              "fillmode": "overlay",
              "size": 10,
              "solidity": 0.2
             }
            },
            "type": "bar"
           }
          ],
          "barpolar": [
           {
            "marker": {
             "line": {
              "color": "#E5ECF6",
              "width": 0.5
             },
             "pattern": {
              "fillmode": "overlay",
              "size": 10,
              "solidity": 0.2
             }
            },
            "type": "barpolar"
           }
          ],
          "carpet": [
           {
            "aaxis": {
             "endlinecolor": "#2a3f5f",
             "gridcolor": "white",
             "linecolor": "white",
             "minorgridcolor": "white",
             "startlinecolor": "#2a3f5f"
            },
            "baxis": {
             "endlinecolor": "#2a3f5f",
             "gridcolor": "white",
             "linecolor": "white",
             "minorgridcolor": "white",
             "startlinecolor": "#2a3f5f"
            },
            "type": "carpet"
           }
          ],
          "choropleth": [
           {
            "colorbar": {
             "outlinewidth": 0,
             "ticks": ""
            },
            "type": "choropleth"
           }
          ],
          "contour": [
           {
            "colorbar": {
             "outlinewidth": 0,
             "ticks": ""
            },
            "colorscale": [
             [
              0,
              "#0d0887"
             ],
             [
              0.1111111111111111,
              "#46039f"
             ],
             [
              0.2222222222222222,
              "#7201a8"
             ],
             [
              0.3333333333333333,
              "#9c179e"
             ],
             [
              0.4444444444444444,
              "#bd3786"
             ],
             [
              0.5555555555555556,
              "#d8576b"
             ],
             [
              0.6666666666666666,
              "#ed7953"
             ],
             [
              0.7777777777777778,
              "#fb9f3a"
             ],
             [
              0.8888888888888888,
              "#fdca26"
             ],
             [
              1,
              "#f0f921"
             ]
            ],
            "type": "contour"
           }
          ],
          "contourcarpet": [
           {
            "colorbar": {
             "outlinewidth": 0,
             "ticks": ""
            },
            "type": "contourcarpet"
           }
          ],
          "heatmap": [
           {
            "colorbar": {
             "outlinewidth": 0,
             "ticks": ""
            },
            "colorscale": [
             [
              0,
              "#0d0887"
             ],
             [
              0.1111111111111111,
              "#46039f"
             ],
             [
              0.2222222222222222,
              "#7201a8"
             ],
             [
              0.3333333333333333,
              "#9c179e"
             ],
             [
              0.4444444444444444,
              "#bd3786"
             ],
             [
              0.5555555555555556,
              "#d8576b"
             ],
             [
              0.6666666666666666,
              "#ed7953"
             ],
             [
              0.7777777777777778,
              "#fb9f3a"
             ],
             [
              0.8888888888888888,
              "#fdca26"
             ],
             [
              1,
              "#f0f921"
             ]
            ],
            "type": "heatmap"
           }
          ],
          "heatmapgl": [
           {
            "colorbar": {
             "outlinewidth": 0,
             "ticks": ""
            },
            "colorscale": [
             [
              0,
              "#0d0887"
             ],
             [
              0.1111111111111111,
              "#46039f"
             ],
             [
              0.2222222222222222,
              "#7201a8"
             ],
             [
              0.3333333333333333,
              "#9c179e"
             ],
             [
              0.4444444444444444,
              "#bd3786"
             ],
             [
              0.5555555555555556,
              "#d8576b"
             ],
             [
              0.6666666666666666,
              "#ed7953"
             ],
             [
              0.7777777777777778,
              "#fb9f3a"
             ],
             [
              0.8888888888888888,
              "#fdca26"
             ],
             [
              1,
              "#f0f921"
             ]
            ],
            "type": "heatmapgl"
           }
          ],
          "histogram": [
           {
            "marker": {
             "pattern": {
              "fillmode": "overlay",
              "size": 10,
              "solidity": 0.2
             }
            },
            "type": "histogram"
           }
          ],
          "histogram2d": [
           {
            "colorbar": {
             "outlinewidth": 0,
             "ticks": ""
            },
            "colorscale": [
             [
              0,
              "#0d0887"
             ],
             [
              0.1111111111111111,
              "#46039f"
             ],
             [
              0.2222222222222222,
              "#7201a8"
             ],
             [
              0.3333333333333333,
              "#9c179e"
             ],
             [
              0.4444444444444444,
              "#bd3786"
             ],
             [
              0.5555555555555556,
              "#d8576b"
             ],
             [
              0.6666666666666666,
              "#ed7953"
             ],
             [
              0.7777777777777778,
              "#fb9f3a"
             ],
             [
              0.8888888888888888,
              "#fdca26"
             ],
             [
              1,
              "#f0f921"
             ]
            ],
            "type": "histogram2d"
           }
          ],
          "histogram2dcontour": [
           {
            "colorbar": {
             "outlinewidth": 0,
             "ticks": ""
            },
            "colorscale": [
             [
              0,
              "#0d0887"
             ],
             [
              0.1111111111111111,
              "#46039f"
             ],
             [
              0.2222222222222222,
              "#7201a8"
             ],
             [
              0.3333333333333333,
              "#9c179e"
             ],
             [
              0.4444444444444444,
              "#bd3786"
             ],
             [
              0.5555555555555556,
              "#d8576b"
             ],
             [
              0.6666666666666666,
              "#ed7953"
             ],
             [
              0.7777777777777778,
              "#fb9f3a"
             ],
             [
              0.8888888888888888,
              "#fdca26"
             ],
             [
              1,
              "#f0f921"
             ]
            ],
            "type": "histogram2dcontour"
           }
          ],
          "mesh3d": [
           {
            "colorbar": {
             "outlinewidth": 0,
             "ticks": ""
            },
            "type": "mesh3d"
           }
          ],
          "parcoords": [
           {
            "line": {
             "colorbar": {
              "outlinewidth": 0,
              "ticks": ""
             }
            },
            "type": "parcoords"
           }
          ],
          "pie": [
           {
            "automargin": true,
            "type": "pie"
           }
          ],
          "scatter": [
           {
            "fillpattern": {
             "fillmode": "overlay",
             "size": 10,
             "solidity": 0.2
            },
            "type": "scatter"
           }
          ],
          "scatter3d": [
           {
            "line": {
             "colorbar": {
              "outlinewidth": 0,
              "ticks": ""
             }
            },
            "marker": {
             "colorbar": {
              "outlinewidth": 0,
              "ticks": ""
             }
            },
            "type": "scatter3d"
           }
          ],
          "scattercarpet": [
           {
            "marker": {
             "colorbar": {
              "outlinewidth": 0,
              "ticks": ""
             }
            },
            "type": "scattercarpet"
           }
          ],
          "scattergeo": [
           {
            "marker": {
             "colorbar": {
              "outlinewidth": 0,
              "ticks": ""
             }
            },
            "type": "scattergeo"
           }
          ],
          "scattergl": [
           {
            "marker": {
             "colorbar": {
              "outlinewidth": 0,
              "ticks": ""
             }
            },
            "type": "scattergl"
           }
          ],
          "scattermapbox": [
           {
            "marker": {
             "colorbar": {
              "outlinewidth": 0,
              "ticks": ""
             }
            },
            "type": "scattermapbox"
           }
          ],
          "scatterpolar": [
           {
            "marker": {
             "colorbar": {
              "outlinewidth": 0,
              "ticks": ""
             }
            },
            "type": "scatterpolar"
           }
          ],
          "scatterpolargl": [
           {
            "marker": {
             "colorbar": {
              "outlinewidth": 0,
              "ticks": ""
             }
            },
            "type": "scatterpolargl"
           }
          ],
          "scatterternary": [
           {
            "marker": {
             "colorbar": {
              "outlinewidth": 0,
              "ticks": ""
             }
            },
            "type": "scatterternary"
           }
          ],
          "surface": [
           {
            "colorbar": {
             "outlinewidth": 0,
             "ticks": ""
            },
            "colorscale": [
             [
              0,
              "#0d0887"
             ],
             [
              0.1111111111111111,
              "#46039f"
             ],
             [
              0.2222222222222222,
              "#7201a8"
             ],
             [
              0.3333333333333333,
              "#9c179e"
             ],
             [
              0.4444444444444444,
              "#bd3786"
             ],
             [
              0.5555555555555556,
              "#d8576b"
             ],
             [
              0.6666666666666666,
              "#ed7953"
             ],
             [
              0.7777777777777778,
              "#fb9f3a"
             ],
             [
              0.8888888888888888,
              "#fdca26"
             ],
             [
              1,
              "#f0f921"
             ]
            ],
            "type": "surface"
           }
          ],
          "table": [
           {
            "cells": {
             "fill": {
              "color": "#EBF0F8"
             },
             "line": {
              "color": "white"
             }
            },
            "header": {
             "fill": {
              "color": "#C8D4E3"
             },
             "line": {
              "color": "white"
             }
            },
            "type": "table"
           }
          ]
         },
         "layout": {
          "annotationdefaults": {
           "arrowcolor": "#2a3f5f",
           "arrowhead": 0,
           "arrowwidth": 1
          },
          "autotypenumbers": "strict",
          "coloraxis": {
           "colorbar": {
            "outlinewidth": 0,
            "ticks": ""
           }
          },
          "colorscale": {
           "diverging": [
            [
             0,
             "#8e0152"
            ],
            [
             0.1,
             "#c51b7d"
            ],
            [
             0.2,
             "#de77ae"
            ],
            [
             0.3,
             "#f1b6da"
            ],
            [
             0.4,
             "#fde0ef"
            ],
            [
             0.5,
             "#f7f7f7"
            ],
            [
             0.6,
             "#e6f5d0"
            ],
            [
             0.7,
             "#b8e186"
            ],
            [
             0.8,
             "#7fbc41"
            ],
            [
             0.9,
             "#4d9221"
            ],
            [
             1,
             "#276419"
            ]
           ],
           "sequential": [
            [
             0,
             "#0d0887"
            ],
            [
             0.1111111111111111,
             "#46039f"
            ],
            [
             0.2222222222222222,
             "#7201a8"
            ],
            [
             0.3333333333333333,
             "#9c179e"
            ],
            [
             0.4444444444444444,
             "#bd3786"
            ],
            [
             0.5555555555555556,
             "#d8576b"
            ],
            [
             0.6666666666666666,
             "#ed7953"
            ],
            [
             0.7777777777777778,
             "#fb9f3a"
            ],
            [
             0.8888888888888888,
             "#fdca26"
            ],
            [
             1,
             "#f0f921"
            ]
           ],
           "sequentialminus": [
            [
             0,
             "#0d0887"
            ],
            [
             0.1111111111111111,
             "#46039f"
            ],
            [
             0.2222222222222222,
             "#7201a8"
            ],
            [
             0.3333333333333333,
             "#9c179e"
            ],
            [
             0.4444444444444444,
             "#bd3786"
            ],
            [
             0.5555555555555556,
             "#d8576b"
            ],
            [
             0.6666666666666666,
             "#ed7953"
            ],
            [
             0.7777777777777778,
             "#fb9f3a"
            ],
            [
             0.8888888888888888,
             "#fdca26"
            ],
            [
             1,
             "#f0f921"
            ]
           ]
          },
          "colorway": [
           "#636efa",
           "#EF553B",
           "#00cc96",
           "#ab63fa",
           "#FFA15A",
           "#19d3f3",
           "#FF6692",
           "#B6E880",
           "#FF97FF",
           "#FECB52"
          ],
          "font": {
           "color": "#2a3f5f"
          },
          "geo": {
           "bgcolor": "white",
           "lakecolor": "white",
           "landcolor": "#E5ECF6",
           "showlakes": true,
           "showland": true,
           "subunitcolor": "white"
          },
          "hoverlabel": {
           "align": "left"
          },
          "hovermode": "closest",
          "mapbox": {
           "style": "light"
          },
          "paper_bgcolor": "white",
          "plot_bgcolor": "#E5ECF6",
          "polar": {
           "angularaxis": {
            "gridcolor": "white",
            "linecolor": "white",
            "ticks": ""
           },
           "bgcolor": "#E5ECF6",
           "radialaxis": {
            "gridcolor": "white",
            "linecolor": "white",
            "ticks": ""
           }
          },
          "scene": {
           "xaxis": {
            "backgroundcolor": "#E5ECF6",
            "gridcolor": "white",
            "gridwidth": 2,
            "linecolor": "white",
            "showbackground": true,
            "ticks": "",
            "zerolinecolor": "white"
           },
           "yaxis": {
            "backgroundcolor": "#E5ECF6",
            "gridcolor": "white",
            "gridwidth": 2,
            "linecolor": "white",
            "showbackground": true,
            "ticks": "",
            "zerolinecolor": "white"
           },
           "zaxis": {
            "backgroundcolor": "#E5ECF6",
            "gridcolor": "white",
            "gridwidth": 2,
            "linecolor": "white",
            "showbackground": true,
            "ticks": "",
            "zerolinecolor": "white"
           }
          },
          "shapedefaults": {
           "line": {
            "color": "#2a3f5f"
           }
          },
          "ternary": {
           "aaxis": {
            "gridcolor": "white",
            "linecolor": "white",
            "ticks": ""
           },
           "baxis": {
            "gridcolor": "white",
            "linecolor": "white",
            "ticks": ""
           },
           "bgcolor": "#E5ECF6",
           "caxis": {
            "gridcolor": "white",
            "linecolor": "white",
            "ticks": ""
           }
          },
          "title": {
           "x": 0.05
          },
          "xaxis": {
           "automargin": true,
           "gridcolor": "white",
           "linecolor": "white",
           "ticks": "",
           "title": {
            "standoff": 15
           },
           "zerolinecolor": "white",
           "zerolinewidth": 2
          },
          "yaxis": {
           "automargin": true,
           "gridcolor": "white",
           "linecolor": "white",
           "ticks": "",
           "title": {
            "standoff": 15
           },
           "zerolinecolor": "white",
           "zerolinewidth": 2
          }
         }
        },
        "title": {
         "font": {
          "color": "black"
         },
         "text": "Location Stack Flow"
        }
       }
      },
      "text/html": [
       "<div>                            <div id=\"25f23a8f-22b7-432c-b485-8570cfac6f22\" class=\"plotly-graph-div\" style=\"height:525px; width:100%;\"></div>            <script type=\"text/javascript\">                require([\"plotly\"], function(Plotly) {                    window.PLOTLYENV=window.PLOTLYENV || {};                                    if (document.getElementById(\"25f23a8f-22b7-432c-b485-8570cfac6f22\")) {                    Plotly.newPlot(                        \"25f23a8f-22b7-432c-b485-8570cfac6f22\",                        [{\"link\":{\"customdata\":[\"Pressable: before located at Root Location: home => Content: capture-data => Content: data-capture-workflow-before-after\",\"Pressable: after located at Root Location: home => Content: capture-data => Content: data-capture-workflow-before-after\",\"Pressable: after located at Root Location: home => Content: modeling => Content: modeling-workflow-before-after\",\"Link: logo located at Root Location: home => Navigation: navbar-top\",\"Pressable: before located at Root Location: home => Content: modeling => Content: modeling-workflow-before-after\",\"Link: docs located at Root Location: home => Navigation: navbar-top\",\"Link: Quickstart Guide located at Root Location: home => Navigation: docs-sidebar\",\"Link: blog located at Root Location: about => Navigation: navbar-top\",\"Link: jobs located at Root Location: blog => Navigation: navbar-top\",\"Link: faq located at Root Location: jobs => Navigation: navbar-top\",\"Link: Taxonomy located at Root Location: home => Navigation: navbar-top\",\"Link: github located at Root Location: home => Navigation: navbar-top\",\"Link: Introduction located at Root Location: home => Navigation: docs-sidebar\",\"Pressable: hamburger located at Root Location: home => Navigation: navbar-top\",\"Link: docs located at Root Location: home => Navigation: navbar-top => Overlay: hamburger-menu\",\"Link: Quickstart Guide located at Root Location: home => Navigation: doc-paginator-navigation\",\"Link: about-us located at Root Location: home => Navigation: navbar-top\",\"Link: blog located at Root Location: home => Navigation: navbar-top\",\"Link: docs located at Root Location: blog => Navigation: navbar-top\",\"Link: Update Docs located at Root Location: home => Navigation: docs-sidebar => Expandable: The Project\",\"Link: check-out-kathiabarahona-on-github located at Root Location: about => Content: core-team => Content: contributors => Content: KathiaBarahona => Content: contributor-card => Content: avatar\",\"Link: check-the-vacancy located at Root Location: about => Content: announcement-bar\",\"Link: fly-ventures located at Root Location: about => Content: why-us\",\"Link: jobs located at Root Location: about => Navigation: navbar-top\",\"Link: docs located at Root Location: jobs => Navigation: navbar-top\",\"Link: Get Help located at Root Location: home => Navigation: docs-sidebar => Expandable: The Project\"],\"hovertemplate\":\"SOURCE: %{source.customdata}<br />TARGET: %{target.customdata}<br />\",\"source\":[0,1,2,2,4,5,7,8,9,4,2,0,4,2,9,2,13,14,16,17,18,16,20,18,20,16,21,16,22,16,23,24,24],\"target\":[1,2,3,4,5,6,8,9,10,2,11,2,11,5,12,13,14,15,17,18,19,20,18,10,5,21,5,22,5,23,24,25,3],\"value\":[3,5,3,7,3,8,4,4,2,2,2,2,2,2,2,2,2,2,1,1,1,2,1,1,1,1,1,1,1,2,2,1,1]},\"node\":{\"customdata\":[\"Pressable: before located at Root Location: home => Content: capture-data => Content: data-capture-workflow-before-after\",\"Pressable: after located at Root Location: home => Content: capture-data => Content: data-capture-workflow-before-after\",\"Pressable: after located at Root Location: home => Content: modeling => Content: modeling-workflow-before-after\",\"Link: logo located at Root Location: home => Navigation: navbar-top\",\"Pressable: before located at Root Location: home => Content: modeling => Content: modeling-workflow-before-after\",\"Link: docs located at Root Location: home => Navigation: navbar-top\",\"Link: Quickstart Guide located at Root Location: home => Navigation: docs-sidebar\",\"Link: blog located at Root Location: about => Navigation: navbar-top\",\"Link: jobs located at Root Location: blog => Navigation: navbar-top\",\"Link: faq located at Root Location: jobs => Navigation: navbar-top\",\"Link: Taxonomy located at Root Location: home => Navigation: navbar-top\",\"Link: github located at Root Location: home => Navigation: navbar-top\",\"Link: Introduction located at Root Location: home => Navigation: docs-sidebar\",\"Pressable: hamburger located at Root Location: home => Navigation: navbar-top\",\"Link: docs located at Root Location: home => Navigation: navbar-top => Overlay: hamburger-menu\",\"Link: Quickstart Guide located at Root Location: home => Navigation: doc-paginator-navigation\",\"Link: about-us located at Root Location: home => Navigation: navbar-top\",\"Link: blog located at Root Location: home => Navigation: navbar-top\",\"Link: docs located at Root Location: blog => Navigation: navbar-top\",\"Link: Update Docs located at Root Location: home => Navigation: docs-sidebar => Expandable: The Project\",\"Link: check-out-kathiabarahona-on-github located at Root Location: about => Content: core-team => Content: contributors => Content: KathiaBarahona => Content: contributor-card => Content: avatar\",\"Link: check-the-vacancy located at Root Location: about => Content: announcement-bar\",\"Link: fly-ventures located at Root Location: about => Content: why-us\",\"Link: jobs located at Root Location: about => Navigation: navbar-top\",\"Link: docs located at Root Location: jobs => Navigation: navbar-top\",\"Link: Get Help located at Root Location: home => Navigation: docs-sidebar => Expandable: The Project\"],\"hovertemplate\":\"NODE: %{customdata}\",\"label\":[\"Pressable: before lo...\",\"Pressable: after loc...\",\"Pressable: after loc...\",\"Link: logo located a...\",\"Pressable: before lo...\",\"Link: docs located a...\",\"Link: Quickstart Gui...\",\"Link: blog located a...\",\"Link: jobs located a...\",\"Link: faq located at...\",\"Link: Taxonomy locat...\",\"Link: github located...\",\"Link: Introduction l...\",\"Pressable: hamburger...\",\"Link: docs located a...\",\"Link: Quickstart Gui...\",\"Link: about-us locat...\",\"Link: blog located a...\",\"Link: docs located a...\",\"Link: Update Docs lo...\",\"Link: check-out-kath...\",\"Link: check-the-vaca...\",\"Link: fly-ventures l...\",\"Link: jobs located a...\",\"Link: docs located a...\",\"Link: Get Help locat...\"],\"line\":{\"color\":\"black\",\"width\":0.5},\"pad\":25,\"thickness\":15},\"orientation\":\"h\",\"type\":\"sankey\"}],                        {\"template\":{\"data\":{\"histogram2dcontour\":[{\"type\":\"histogram2dcontour\",\"colorbar\":{\"outlinewidth\":0,\"ticks\":\"\"},\"colorscale\":[[0.0,\"#0d0887\"],[0.1111111111111111,\"#46039f\"],[0.2222222222222222,\"#7201a8\"],[0.3333333333333333,\"#9c179e\"],[0.4444444444444444,\"#bd3786\"],[0.5555555555555556,\"#d8576b\"],[0.6666666666666666,\"#ed7953\"],[0.7777777777777778,\"#fb9f3a\"],[0.8888888888888888,\"#fdca26\"],[1.0,\"#f0f921\"]]}],\"choropleth\":[{\"type\":\"choropleth\",\"colorbar\":{\"outlinewidth\":0,\"ticks\":\"\"}}],\"histogram2d\":[{\"type\":\"histogram2d\",\"colorbar\":{\"outlinewidth\":0,\"ticks\":\"\"},\"colorscale\":[[0.0,\"#0d0887\"],[0.1111111111111111,\"#46039f\"],[0.2222222222222222,\"#7201a8\"],[0.3333333333333333,\"#9c179e\"],[0.4444444444444444,\"#bd3786\"],[0.5555555555555556,\"#d8576b\"],[0.6666666666666666,\"#ed7953\"],[0.7777777777777778,\"#fb9f3a\"],[0.8888888888888888,\"#fdca26\"],[1.0,\"#f0f921\"]]}],\"heatmap\":[{\"type\":\"heatmap\",\"colorbar\":{\"outlinewidth\":0,\"ticks\":\"\"},\"colorscale\":[[0.0,\"#0d0887\"],[0.1111111111111111,\"#46039f\"],[0.2222222222222222,\"#7201a8\"],[0.3333333333333333,\"#9c179e\"],[0.4444444444444444,\"#bd3786\"],[0.5555555555555556,\"#d8576b\"],[0.6666666666666666,\"#ed7953\"],[0.7777777777777778,\"#fb9f3a\"],[0.8888888888888888,\"#fdca26\"],[1.0,\"#f0f921\"]]}],\"heatmapgl\":[{\"type\":\"heatmapgl\",\"colorbar\":{\"outlinewidth\":0,\"ticks\":\"\"},\"colorscale\":[[0.0,\"#0d0887\"],[0.1111111111111111,\"#46039f\"],[0.2222222222222222,\"#7201a8\"],[0.3333333333333333,\"#9c179e\"],[0.4444444444444444,\"#bd3786\"],[0.5555555555555556,\"#d8576b\"],[0.6666666666666666,\"#ed7953\"],[0.7777777777777778,\"#fb9f3a\"],[0.8888888888888888,\"#fdca26\"],[1.0,\"#f0f921\"]]}],\"contourcarpet\":[{\"type\":\"contourcarpet\",\"colorbar\":{\"outlinewidth\":0,\"ticks\":\"\"}}],\"contour\":[{\"type\":\"contour\",\"colorbar\":{\"outlinewidth\":0,\"ticks\":\"\"},\"colorscale\":[[0.0,\"#0d0887\"],[0.1111111111111111,\"#46039f\"],[0.2222222222222222,\"#7201a8\"],[0.3333333333333333,\"#9c179e\"],[0.4444444444444444,\"#bd3786\"],[0.5555555555555556,\"#d8576b\"],[0.6666666666666666,\"#ed7953\"],[0.7777777777777778,\"#fb9f3a\"],[0.8888888888888888,\"#fdca26\"],[1.0,\"#f0f921\"]]}],\"surface\":[{\"type\":\"surface\",\"colorbar\":{\"outlinewidth\":0,\"ticks\":\"\"},\"colorscale\":[[0.0,\"#0d0887\"],[0.1111111111111111,\"#46039f\"],[0.2222222222222222,\"#7201a8\"],[0.3333333333333333,\"#9c179e\"],[0.4444444444444444,\"#bd3786\"],[0.5555555555555556,\"#d8576b\"],[0.6666666666666666,\"#ed7953\"],[0.7777777777777778,\"#fb9f3a\"],[0.8888888888888888,\"#fdca26\"],[1.0,\"#f0f921\"]]}],\"mesh3d\":[{\"type\":\"mesh3d\",\"colorbar\":{\"outlinewidth\":0,\"ticks\":\"\"}}],\"scatter\":[{\"fillpattern\":{\"fillmode\":\"overlay\",\"size\":10,\"solidity\":0.2},\"type\":\"scatter\"}],\"parcoords\":[{\"type\":\"parcoords\",\"line\":{\"colorbar\":{\"outlinewidth\":0,\"ticks\":\"\"}}}],\"scatterpolargl\":[{\"type\":\"scatterpolargl\",\"marker\":{\"colorbar\":{\"outlinewidth\":0,\"ticks\":\"\"}}}],\"bar\":[{\"error_x\":{\"color\":\"#2a3f5f\"},\"error_y\":{\"color\":\"#2a3f5f\"},\"marker\":{\"line\":{\"color\":\"#E5ECF6\",\"width\":0.5},\"pattern\":{\"fillmode\":\"overlay\",\"size\":10,\"solidity\":0.2}},\"type\":\"bar\"}],\"scattergeo\":[{\"type\":\"scattergeo\",\"marker\":{\"colorbar\":{\"outlinewidth\":0,\"ticks\":\"\"}}}],\"scatterpolar\":[{\"type\":\"scatterpolar\",\"marker\":{\"colorbar\":{\"outlinewidth\":0,\"ticks\":\"\"}}}],\"histogram\":[{\"marker\":{\"pattern\":{\"fillmode\":\"overlay\",\"size\":10,\"solidity\":0.2}},\"type\":\"histogram\"}],\"scattergl\":[{\"type\":\"scattergl\",\"marker\":{\"colorbar\":{\"outlinewidth\":0,\"ticks\":\"\"}}}],\"scatter3d\":[{\"type\":\"scatter3d\",\"line\":{\"colorbar\":{\"outlinewidth\":0,\"ticks\":\"\"}},\"marker\":{\"colorbar\":{\"outlinewidth\":0,\"ticks\":\"\"}}}],\"scattermapbox\":[{\"type\":\"scattermapbox\",\"marker\":{\"colorbar\":{\"outlinewidth\":0,\"ticks\":\"\"}}}],\"scatterternary\":[{\"type\":\"scatterternary\",\"marker\":{\"colorbar\":{\"outlinewidth\":0,\"ticks\":\"\"}}}],\"scattercarpet\":[{\"type\":\"scattercarpet\",\"marker\":{\"colorbar\":{\"outlinewidth\":0,\"ticks\":\"\"}}}],\"carpet\":[{\"aaxis\":{\"endlinecolor\":\"#2a3f5f\",\"gridcolor\":\"white\",\"linecolor\":\"white\",\"minorgridcolor\":\"white\",\"startlinecolor\":\"#2a3f5f\"},\"baxis\":{\"endlinecolor\":\"#2a3f5f\",\"gridcolor\":\"white\",\"linecolor\":\"white\",\"minorgridcolor\":\"white\",\"startlinecolor\":\"#2a3f5f\"},\"type\":\"carpet\"}],\"table\":[{\"cells\":{\"fill\":{\"color\":\"#EBF0F8\"},\"line\":{\"color\":\"white\"}},\"header\":{\"fill\":{\"color\":\"#C8D4E3\"},\"line\":{\"color\":\"white\"}},\"type\":\"table\"}],\"barpolar\":[{\"marker\":{\"line\":{\"color\":\"#E5ECF6\",\"width\":0.5},\"pattern\":{\"fillmode\":\"overlay\",\"size\":10,\"solidity\":0.2}},\"type\":\"barpolar\"}],\"pie\":[{\"automargin\":true,\"type\":\"pie\"}]},\"layout\":{\"autotypenumbers\":\"strict\",\"colorway\":[\"#636efa\",\"#EF553B\",\"#00cc96\",\"#ab63fa\",\"#FFA15A\",\"#19d3f3\",\"#FF6692\",\"#B6E880\",\"#FF97FF\",\"#FECB52\"],\"font\":{\"color\":\"#2a3f5f\"},\"hovermode\":\"closest\",\"hoverlabel\":{\"align\":\"left\"},\"paper_bgcolor\":\"white\",\"plot_bgcolor\":\"#E5ECF6\",\"polar\":{\"bgcolor\":\"#E5ECF6\",\"angularaxis\":{\"gridcolor\":\"white\",\"linecolor\":\"white\",\"ticks\":\"\"},\"radialaxis\":{\"gridcolor\":\"white\",\"linecolor\":\"white\",\"ticks\":\"\"}},\"ternary\":{\"bgcolor\":\"#E5ECF6\",\"aaxis\":{\"gridcolor\":\"white\",\"linecolor\":\"white\",\"ticks\":\"\"},\"baxis\":{\"gridcolor\":\"white\",\"linecolor\":\"white\",\"ticks\":\"\"},\"caxis\":{\"gridcolor\":\"white\",\"linecolor\":\"white\",\"ticks\":\"\"}},\"coloraxis\":{\"colorbar\":{\"outlinewidth\":0,\"ticks\":\"\"}},\"colorscale\":{\"sequential\":[[0.0,\"#0d0887\"],[0.1111111111111111,\"#46039f\"],[0.2222222222222222,\"#7201a8\"],[0.3333333333333333,\"#9c179e\"],[0.4444444444444444,\"#bd3786\"],[0.5555555555555556,\"#d8576b\"],[0.6666666666666666,\"#ed7953\"],[0.7777777777777778,\"#fb9f3a\"],[0.8888888888888888,\"#fdca26\"],[1.0,\"#f0f921\"]],\"sequentialminus\":[[0.0,\"#0d0887\"],[0.1111111111111111,\"#46039f\"],[0.2222222222222222,\"#7201a8\"],[0.3333333333333333,\"#9c179e\"],[0.4444444444444444,\"#bd3786\"],[0.5555555555555556,\"#d8576b\"],[0.6666666666666666,\"#ed7953\"],[0.7777777777777778,\"#fb9f3a\"],[0.8888888888888888,\"#fdca26\"],[1.0,\"#f0f921\"]],\"diverging\":[[0,\"#8e0152\"],[0.1,\"#c51b7d\"],[0.2,\"#de77ae\"],[0.3,\"#f1b6da\"],[0.4,\"#fde0ef\"],[0.5,\"#f7f7f7\"],[0.6,\"#e6f5d0\"],[0.7,\"#b8e186\"],[0.8,\"#7fbc41\"],[0.9,\"#4d9221\"],[1,\"#276419\"]]},\"xaxis\":{\"gridcolor\":\"white\",\"linecolor\":\"white\",\"ticks\":\"\",\"title\":{\"standoff\":15},\"zerolinecolor\":\"white\",\"automargin\":true,\"zerolinewidth\":2},\"yaxis\":{\"gridcolor\":\"white\",\"linecolor\":\"white\",\"ticks\":\"\",\"title\":{\"standoff\":15},\"zerolinecolor\":\"white\",\"automargin\":true,\"zerolinewidth\":2},\"scene\":{\"xaxis\":{\"backgroundcolor\":\"#E5ECF6\",\"gridcolor\":\"white\",\"linecolor\":\"white\",\"showbackground\":true,\"ticks\":\"\",\"zerolinecolor\":\"white\",\"gridwidth\":2},\"yaxis\":{\"backgroundcolor\":\"#E5ECF6\",\"gridcolor\":\"white\",\"linecolor\":\"white\",\"showbackground\":true,\"ticks\":\"\",\"zerolinecolor\":\"white\",\"gridwidth\":2},\"zaxis\":{\"backgroundcolor\":\"#E5ECF6\",\"gridcolor\":\"white\",\"linecolor\":\"white\",\"showbackground\":true,\"ticks\":\"\",\"zerolinecolor\":\"white\",\"gridwidth\":2}},\"shapedefaults\":{\"line\":{\"color\":\"#2a3f5f\"}},\"annotationdefaults\":{\"arrowcolor\":\"#2a3f5f\",\"arrowhead\":0,\"arrowwidth\":1},\"geo\":{\"bgcolor\":\"white\",\"landcolor\":\"#E5ECF6\",\"subunitcolor\":\"white\",\"showland\":true,\"showlakes\":true,\"lakecolor\":\"white\"},\"title\":{\"x\":0.05},\"mapbox\":{\"style\":\"light\"}}},\"hoverlabel\":{\"font\":{\"size\":11},\"bgcolor\":\"white\"},\"font\":{\"color\":\"black\",\"size\":14},\"title\":{\"font\":{\"color\":\"black\"},\"text\":\"Location Stack Flow\"}},                        {\"responsive\": true}                    ).then(function(){\n",
       "                            \n",
       "var gd = document.getElementById('25f23a8f-22b7-432c-b485-8570cfac6f22');\n",
       "var x = new MutationObserver(function (mutations, observer) {{\n",
       "        var display = window.getComputedStyle(gd).display;\n",
       "        if (!display || display === 'none') {{\n",
       "            console.log([gd, 'removed!']);\n",
       "            Plotly.purge(gd);\n",
       "            observer.disconnect();\n",
       "        }}\n",
       "}});\n",
       "\n",
       "// Listen for the removal of the full notebook cells\n",
       "var notebookContainer = gd.closest('#notebook-container');\n",
       "if (notebookContainer) {{\n",
       "    x.observe(notebookContainer, {childList: true});\n",
       "}}\n",
       "\n",
       "// Listen for the clearing of the current output cell\n",
       "var outputEl = gd.closest('.output');\n",
       "if (outputEl) {{\n",
       "    x.observe(outputEl, {childList: true});\n",
       "}}\n",
       "\n",
       "                        })                };                });            </script>        </div>"
      ]
     },
     "metadata": {},
     "output_type": "display_data"
    }
   ],
   "source": [
    "# plot the Sankey diagram using the top 15 examples via the `n_top_examples` param\n",
    "funnel.plot_sankey_diagram(df_steps_till_conversion[condition_convert_on_step_4], n_top_examples=15)"
   ]
  },
  {
   "cell_type": "markdown",
   "id": "0d05a378",
   "metadata": {},
   "source": [
    "### Reference\n",
    "* [modelhub.models.funnel_discovery.get_navigation_paths](TODO)\n",
    "* [modelhub.models.funnel_discovery.plot_sankey_diagram](TODO)\n",
    "* [bach.DataFrame.head](https://objectiv.io/docs/modeling/bach/api-reference/DataFrame/head/)"
   ]
  },
  {
   "cell_type": "markdown",
   "id": "4e44964e",
   "metadata": {},
   "source": [
    "## Deep-dive: top drop-off features"
   ]
  },
  {
   "cell_type": "markdown",
   "id": "da8b2bcd",
   "metadata": {},
   "source": [
    "Also interesting to analyze is which features are used relatively often before users drop off. We can analyze this by finding all _last used_ features by non-converted users, and calcuting their usage share."
   ]
  },
  {
   "cell_type": "code",
   "execution_count": 94,
   "id": "be3ce5ea",
   "metadata": {},
   "outputs": [],
   "source": [
    "# select only non-converted users\n",
    "df_non_converted = df[~df['is_conversion_event']]\n",
    "converted_users = df[df['is_conversion_event']]['user_id']\n",
    "# select the events of these non converted users\n",
    "df_non_converted = df_non_converted[~df_non_converted['user_id'].isin(converted_users)]"
   ]
  },
  {
   "cell_type": "code",
   "execution_count": 96,
   "id": "60637c81",
   "metadata": {},
   "outputs": [],
   "source": [
    "# get the last used feature in the location_stack before dropping off\n",
    "drop_loc = df_non_converted.sort_values('moment').groupby('user_id')['feature_nice_name'].to_json_array().json[-1].materialize()\n",
    "total_count = drop_loc.count().value"
   ]
  },
  {
   "cell_type": "code",
   "execution_count": 97,
   "id": "d6a5e2ba",
   "metadata": {},
   "outputs": [
    {
     "data": {
      "text/html": [
       "<div>\n",
       "<style scoped>\n",
       "    .dataframe tbody tr th:only-of-type {\n",
       "        vertical-align: middle;\n",
       "    }\n",
       "\n",
       "    .dataframe tbody tr th {\n",
       "        vertical-align: top;\n",
       "    }\n",
       "\n",
       "    .dataframe thead th {\n",
       "        text-align: right;\n",
       "    }\n",
       "</style>\n",
       "<table border=\"1\" class=\"dataframe\">\n",
       "  <thead>\n",
       "    <tr style=\"text-align: right;\">\n",
       "      <th></th>\n",
       "      <th>drop_percentage</th>\n",
       "    </tr>\n",
       "    <tr>\n",
       "      <th>feature_nice_name</th>\n",
       "      <th></th>\n",
       "    </tr>\n",
       "  </thead>\n",
       "  <tbody>\n",
       "    <tr>\n",
       "      <th>Pressable: hamburger located at Root Location: home =&gt; Navigation: navbar-top</th>\n",
       "      <td>17.792422</td>\n",
       "    </tr>\n",
       "    <tr>\n",
       "      <th>Pressable: before located at Root Location: home =&gt; Content: capture-data =&gt; Content: data-capture-workflow-before-after</th>\n",
       "      <td>13.097199</td>\n",
       "    </tr>\n",
       "    <tr>\n",
       "      <th>Pressable: after located at Root Location: home =&gt; Content: capture-data =&gt; Content: data-capture-workflow-before-after</th>\n",
       "      <td>9.802306</td>\n",
       "    </tr>\n",
       "    <tr>\n",
       "      <th>Pressable: before located at Root Location: home =&gt; Content: modeling =&gt; Content: modeling-workflow-before-after</th>\n",
       "      <td>7.413509</td>\n",
       "    </tr>\n",
       "    <tr>\n",
       "      <th>Pressable: after located at Root Location: home =&gt; Content: modeling =&gt; Content: modeling-workflow-before-after</th>\n",
       "      <td>6.507414</td>\n",
       "    </tr>\n",
       "  </tbody>\n",
       "</table>\n",
       "</div>"
      ],
      "text/plain": [
       "                                                    drop_percentage\n",
       "feature_nice_name                                                  \n",
       "Pressable: hamburger located at Root Location: ...        17.792422\n",
       "Pressable: before located at Root Location: hom...        13.097199\n",
       "Pressable: after located at Root Location: home...         9.802306\n",
       "Pressable: before located at Root Location: hom...         7.413509\n",
       "Pressable: after located at Root Location: home...         6.507414"
      ]
     },
     "execution_count": 97,
     "metadata": {},
     "output_type": "execute_result"
    }
   ],
   "source": [
    "# show the last used features by non-converted users, sorted by their usage share compared to all features\n",
    "drop_loc_percent = (drop_loc.value_counts() / total_count) * 100\n",
    "drop_loc_percent = drop_loc_percent.to_frame().rename(columns={'value_counts': 'drop_percentage'})\n",
    "drop_loc_percent.sort_values(by='drop_percentage', ascending=False).head()"
   ]
  },
  {
   "cell_type": "markdown",
   "id": "118ee1d4",
   "metadata": {},
   "source": [
    "## Deep-dive: marketing campaign journeys"
   ]
  },
  {
   "cell_type": "markdown",
   "id": "38307ab5",
   "metadata": {},
   "source": [
    "The same analyses can be run for journeys that start from a marketing campaign, e.g. to analyze why campaigns do or do not convert."
   ]
  },
  {
   "cell_type": "code",
   "execution_count": 102,
   "id": "64065c83",
   "metadata": {},
   "outputs": [
    {
     "data": {
      "text/html": [
       "<div>\n",
       "<style scoped>\n",
       "    .dataframe tbody tr th:only-of-type {\n",
       "        vertical-align: middle;\n",
       "    }\n",
       "\n",
       "    .dataframe tbody tr th {\n",
       "        vertical-align: top;\n",
       "    }\n",
       "\n",
       "    .dataframe thead th {\n",
       "        text-align: right;\n",
       "    }\n",
       "</style>\n",
       "<table border=\"1\" class=\"dataframe\">\n",
       "  <thead>\n",
       "    <tr style=\"text-align: right;\">\n",
       "      <th></th>\n",
       "      <th>day</th>\n",
       "      <th>moment</th>\n",
       "      <th>user_id</th>\n",
       "      <th>global_contexts</th>\n",
       "      <th>location_stack</th>\n",
       "      <th>event_type</th>\n",
       "      <th>stack_event_types</th>\n",
       "      <th>session_id</th>\n",
       "      <th>session_hit_number</th>\n",
       "      <th>application</th>\n",
       "      <th>feature_nice_name</th>\n",
       "      <th>is_conversion_event</th>\n",
       "      <th>utm_campaign</th>\n",
       "    </tr>\n",
       "    <tr>\n",
       "      <th>event_id</th>\n",
       "      <th></th>\n",
       "      <th></th>\n",
       "      <th></th>\n",
       "      <th></th>\n",
       "      <th></th>\n",
       "      <th></th>\n",
       "      <th></th>\n",
       "      <th></th>\n",
       "      <th></th>\n",
       "      <th></th>\n",
       "      <th></th>\n",
       "      <th></th>\n",
       "      <th></th>\n",
       "    </tr>\n",
       "  </thead>\n",
       "  <tbody>\n",
       "    <tr>\n",
       "      <th>d1c72d21-4233-40dc-b93d-3323dbf4cf75</th>\n",
       "      <td>2022-06-01</td>\n",
       "      <td>2022-06-01 18:55:35.074</td>\n",
       "      <td>04ac1790-825a-47a3-aac3-dccfeee61ade</td>\n",
       "      <td>[{'id': 'http_context', '_type': 'HttpContext'...</td>\n",
       "      <td>[{'id': 'blog', '_type': 'RootLocationContext'...</td>\n",
       "      <td>PressEvent</td>\n",
       "      <td>[AbstractEvent, InteractiveEvent, PressEvent]</td>\n",
       "      <td>4490</td>\n",
       "      <td>1</td>\n",
       "      <td>objectiv-website</td>\n",
       "      <td>Link: logo located at Root Location: blog =&gt; N...</td>\n",
       "      <td>False</td>\n",
       "      <td>blog</td>\n",
       "    </tr>\n",
       "    <tr>\n",
       "      <th>3a714be8-20aa-46cb-8deb-fa03635e20a9</th>\n",
       "      <td>2022-04-12</td>\n",
       "      <td>2022-04-12 12:43:29.990</td>\n",
       "      <td>09cb57db-1a41-4f9f-bade-64a7f9f374ad</td>\n",
       "      <td>[{'id': 'http_context', '_type': 'HttpContext'...</td>\n",
       "      <td>[{'id': 'home', '_type': 'RootLocationContext'...</td>\n",
       "      <td>PressEvent</td>\n",
       "      <td>[AbstractEvent, InteractiveEvent, PressEvent]</td>\n",
       "      <td>1742</td>\n",
       "      <td>1</td>\n",
       "      <td>objectiv-website</td>\n",
       "      <td>Link: docs located at Root Location: home =&gt; N...</td>\n",
       "      <td>False</td>\n",
       "      <td>16526831451</td>\n",
       "    </tr>\n",
       "    <tr>\n",
       "      <th>99fed3fd-6f22-430c-92a4-78149d85c78e</th>\n",
       "      <td>2022-04-12</td>\n",
       "      <td>2022-04-12 12:43:36.151</td>\n",
       "      <td>09cb57db-1a41-4f9f-bade-64a7f9f374ad</td>\n",
       "      <td>[{'id': 'objectiv-docs', '_type': 'Application...</td>\n",
       "      <td>[{'id': 'home', '_type': 'RootLocationContext'...</td>\n",
       "      <td>PressEvent</td>\n",
       "      <td>[AbstractEvent, InteractiveEvent, PressEvent]</td>\n",
       "      <td>1742</td>\n",
       "      <td>4</td>\n",
       "      <td>objectiv-docs</td>\n",
       "      <td>Link: Quickstart Guide located at Root Locatio...</td>\n",
       "      <td>True</td>\n",
       "      <td>None</td>\n",
       "    </tr>\n",
       "    <tr>\n",
       "      <th>ff88125e-49d0-47e8-a60a-48b7e244e5ac</th>\n",
       "      <td>2022-03-21</td>\n",
       "      <td>2022-03-21 23:36:20.587</td>\n",
       "      <td>0b7fa533-64ca-48c9-84d9-04c54b0fa069</td>\n",
       "      <td>[{'id': 'http_context', '_type': 'HttpContext'...</td>\n",
       "      <td>[{'id': 'home', '_type': 'RootLocationContext'...</td>\n",
       "      <td>PressEvent</td>\n",
       "      <td>[AbstractEvent, InteractiveEvent, PressEvent]</td>\n",
       "      <td>1450</td>\n",
       "      <td>3</td>\n",
       "      <td>objectiv-website</td>\n",
       "      <td>Pressable: hamburger located at Root Location:...</td>\n",
       "      <td>False</td>\n",
       "      <td>16526831451</td>\n",
       "    </tr>\n",
       "    <tr>\n",
       "      <th>38d7bf60-6c65-4521-9dbc-82138a862d4f</th>\n",
       "      <td>2022-03-21</td>\n",
       "      <td>2022-03-21 23:36:23.769</td>\n",
       "      <td>0b7fa533-64ca-48c9-84d9-04c54b0fa069</td>\n",
       "      <td>[{'id': 'http_context', '_type': 'HttpContext'...</td>\n",
       "      <td>[{'id': 'home', '_type': 'RootLocationContext'...</td>\n",
       "      <td>PressEvent</td>\n",
       "      <td>[AbstractEvent, InteractiveEvent, PressEvent]</td>\n",
       "      <td>1450</td>\n",
       "      <td>5</td>\n",
       "      <td>objectiv-website</td>\n",
       "      <td>Link: docs located at Root Location: home =&gt; N...</td>\n",
       "      <td>False</td>\n",
       "      <td>16526831451</td>\n",
       "    </tr>\n",
       "  </tbody>\n",
       "</table>\n",
       "</div>"
      ],
      "text/plain": [
       "                                             day                  moment  \\\n",
       "event_id                                                                   \n",
       "d1c72d21-4233-40dc-b93d-3323dbf4cf75  2022-06-01 2022-06-01 18:55:35.074   \n",
       "3a714be8-20aa-46cb-8deb-fa03635e20a9  2022-04-12 2022-04-12 12:43:29.990   \n",
       "99fed3fd-6f22-430c-92a4-78149d85c78e  2022-04-12 2022-04-12 12:43:36.151   \n",
       "ff88125e-49d0-47e8-a60a-48b7e244e5ac  2022-03-21 2022-03-21 23:36:20.587   \n",
       "38d7bf60-6c65-4521-9dbc-82138a862d4f  2022-03-21 2022-03-21 23:36:23.769   \n",
       "\n",
       "                                                                   user_id  \\\n",
       "event_id                                                                     \n",
       "d1c72d21-4233-40dc-b93d-3323dbf4cf75  04ac1790-825a-47a3-aac3-dccfeee61ade   \n",
       "3a714be8-20aa-46cb-8deb-fa03635e20a9  09cb57db-1a41-4f9f-bade-64a7f9f374ad   \n",
       "99fed3fd-6f22-430c-92a4-78149d85c78e  09cb57db-1a41-4f9f-bade-64a7f9f374ad   \n",
       "ff88125e-49d0-47e8-a60a-48b7e244e5ac  0b7fa533-64ca-48c9-84d9-04c54b0fa069   \n",
       "38d7bf60-6c65-4521-9dbc-82138a862d4f  0b7fa533-64ca-48c9-84d9-04c54b0fa069   \n",
       "\n",
       "                                                                        global_contexts  \\\n",
       "event_id                                                                                  \n",
       "d1c72d21-4233-40dc-b93d-3323dbf4cf75  [{'id': 'http_context', '_type': 'HttpContext'...   \n",
       "3a714be8-20aa-46cb-8deb-fa03635e20a9  [{'id': 'http_context', '_type': 'HttpContext'...   \n",
       "99fed3fd-6f22-430c-92a4-78149d85c78e  [{'id': 'objectiv-docs', '_type': 'Application...   \n",
       "ff88125e-49d0-47e8-a60a-48b7e244e5ac  [{'id': 'http_context', '_type': 'HttpContext'...   \n",
       "38d7bf60-6c65-4521-9dbc-82138a862d4f  [{'id': 'http_context', '_type': 'HttpContext'...   \n",
       "\n",
       "                                                                         location_stack  \\\n",
       "event_id                                                                                  \n",
       "d1c72d21-4233-40dc-b93d-3323dbf4cf75  [{'id': 'blog', '_type': 'RootLocationContext'...   \n",
       "3a714be8-20aa-46cb-8deb-fa03635e20a9  [{'id': 'home', '_type': 'RootLocationContext'...   \n",
       "99fed3fd-6f22-430c-92a4-78149d85c78e  [{'id': 'home', '_type': 'RootLocationContext'...   \n",
       "ff88125e-49d0-47e8-a60a-48b7e244e5ac  [{'id': 'home', '_type': 'RootLocationContext'...   \n",
       "38d7bf60-6c65-4521-9dbc-82138a862d4f  [{'id': 'home', '_type': 'RootLocationContext'...   \n",
       "\n",
       "                                      event_type  \\\n",
       "event_id                                           \n",
       "d1c72d21-4233-40dc-b93d-3323dbf4cf75  PressEvent   \n",
       "3a714be8-20aa-46cb-8deb-fa03635e20a9  PressEvent   \n",
       "99fed3fd-6f22-430c-92a4-78149d85c78e  PressEvent   \n",
       "ff88125e-49d0-47e8-a60a-48b7e244e5ac  PressEvent   \n",
       "38d7bf60-6c65-4521-9dbc-82138a862d4f  PressEvent   \n",
       "\n",
       "                                                                  stack_event_types  \\\n",
       "event_id                                                                              \n",
       "d1c72d21-4233-40dc-b93d-3323dbf4cf75  [AbstractEvent, InteractiveEvent, PressEvent]   \n",
       "3a714be8-20aa-46cb-8deb-fa03635e20a9  [AbstractEvent, InteractiveEvent, PressEvent]   \n",
       "99fed3fd-6f22-430c-92a4-78149d85c78e  [AbstractEvent, InteractiveEvent, PressEvent]   \n",
       "ff88125e-49d0-47e8-a60a-48b7e244e5ac  [AbstractEvent, InteractiveEvent, PressEvent]   \n",
       "38d7bf60-6c65-4521-9dbc-82138a862d4f  [AbstractEvent, InteractiveEvent, PressEvent]   \n",
       "\n",
       "                                      session_id  session_hit_number  \\\n",
       "event_id                                                               \n",
       "d1c72d21-4233-40dc-b93d-3323dbf4cf75        4490                   1   \n",
       "3a714be8-20aa-46cb-8deb-fa03635e20a9        1742                   1   \n",
       "99fed3fd-6f22-430c-92a4-78149d85c78e        1742                   4   \n",
       "ff88125e-49d0-47e8-a60a-48b7e244e5ac        1450                   3   \n",
       "38d7bf60-6c65-4521-9dbc-82138a862d4f        1450                   5   \n",
       "\n",
       "                                           application  \\\n",
       "event_id                                                 \n",
       "d1c72d21-4233-40dc-b93d-3323dbf4cf75  objectiv-website   \n",
       "3a714be8-20aa-46cb-8deb-fa03635e20a9  objectiv-website   \n",
       "99fed3fd-6f22-430c-92a4-78149d85c78e     objectiv-docs   \n",
       "ff88125e-49d0-47e8-a60a-48b7e244e5ac  objectiv-website   \n",
       "38d7bf60-6c65-4521-9dbc-82138a862d4f  objectiv-website   \n",
       "\n",
       "                                                                      feature_nice_name  \\\n",
       "event_id                                                                                  \n",
       "d1c72d21-4233-40dc-b93d-3323dbf4cf75  Link: logo located at Root Location: blog => N...   \n",
       "3a714be8-20aa-46cb-8deb-fa03635e20a9  Link: docs located at Root Location: home => N...   \n",
       "99fed3fd-6f22-430c-92a4-78149d85c78e  Link: Quickstart Guide located at Root Locatio...   \n",
       "ff88125e-49d0-47e8-a60a-48b7e244e5ac  Pressable: hamburger located at Root Location:...   \n",
       "38d7bf60-6c65-4521-9dbc-82138a862d4f  Link: docs located at Root Location: home => N...   \n",
       "\n",
       "                                      is_conversion_event utm_campaign  \n",
       "event_id                                                                \n",
       "d1c72d21-4233-40dc-b93d-3323dbf4cf75                False         blog  \n",
       "3a714be8-20aa-46cb-8deb-fa03635e20a9                False  16526831451  \n",
       "99fed3fd-6f22-430c-92a4-78149d85c78e                 True         None  \n",
       "ff88125e-49d0-47e8-a60a-48b7e244e5ac                False  16526831451  \n",
       "38d7bf60-6c65-4521-9dbc-82138a862d4f                False  16526831451  "
      ]
     },
     "execution_count": 102,
     "metadata": {},
     "output_type": "execute_result"
    }
   ],
   "source": [
    "# first, add marketing data to the dataframe\n",
    "df_marketing = df.copy()\n",
    "df_marketing['utm_campaign'] = df_marketing.global_contexts.gc.get_from_context_with_type_series(type='MarketingContext', key='campaign')\n",
    "\n",
    "# filter the dataframe down to users that came in via a marketing campaign\n",
    "user_list = df_marketing[~df_marketing['utm_campaign'].isnull()].user_id\n",
    "df_marketing = df_marketing[df_marketing['user_id'].isin(user_list)]\n",
    "\n",
    "df_marketing.head()"
   ]
  },
  {
   "cell_type": "markdown",
   "id": "4e4107f5",
   "metadata": {},
   "source": [
    "Let's define what you see as conversion events for these users. In this example, we'll again view someone as converted when they go on to read the documentation from our website, but you can [use any event](https://objectiv.io/docs/modeling/open-model-hub/api-reference/ModelHub/add_conversion_event/)."
   ]
  },
  {
   "cell_type": "code",
   "execution_count": 103,
   "id": "ca064f93",
   "metadata": {},
   "outputs": [],
   "source": [
    "# define which data to use as conversion events; in this example, anyone who goes on to read the documentation\n",
    "df_marketing['is_conversion_event'] = False\n",
    "df_marketing.loc[df_marketing['application'] == 'objectiv-docs', 'is_conversion_event'] = True"
   ]
  },
  {
   "cell_type": "code",
   "execution_count": 104,
   "id": "9845aa7d",
   "metadata": {},
   "outputs": [],
   "source": [
    "# get converted and non converted users as dataframes\n",
    "users_converted = df_marketing[df_marketing['is_conversion_event']].user_id\n",
    "users_non_converted = df_marketing[~df_marketing['user_id'].isin(users_converted)].user_id\n",
    "\n",
    "df_marketing_converted = df_marketing[df_marketing['is_conversion_event']]\n",
    "df_marketing_non_converted = df_marketing[df_marketing['user_id'].isin(users_non_converted)] "
   ]
  },
  {
   "cell_type": "markdown",
   "id": "af2a26dd",
   "metadata": {},
   "source": [
    "For an overall look: let's calculate the share of converted and non-converted users"
   ]
  },
  {
   "cell_type": "code",
   "execution_count": 105,
   "id": "7a43f2a4",
   "metadata": {},
   "outputs": [
    {
     "name": "stdout",
     "output_type": "stream",
     "text": [
      "Converted users: 28%\n",
      "Non-converted users: 72%\n"
     ]
    }
   ],
   "source": [
    "n_users_converted = df_marketing_converted['user_id'].unique().count().value\n",
    "n_users_non_converted = df_marketing_non_converted['user_id'].unique().count().value\n",
    "n_users_total = n_users_converted + n_users_non_converted\n",
    "\n",
    "print(f'Converted users: {round((n_users_converted / n_users_total) * 100)}%')\n",
    "print(f'Non-converted users: {round((n_users_non_converted / n_users_total) * 100)}%')"
   ]
  },
  {
   "cell_type": "markdown",
   "id": "a7f80cf7",
   "metadata": {},
   "source": [
    "Now we're most interested in the large share of users who did not convert, let's have a look next."
   ]
  },
  {
   "cell_type": "markdown",
   "id": "c1eff59a",
   "metadata": {},
   "source": [
    "### Top drop-off features for users from a marketing campaign\n",
    "Similar to before, we will have a look at which features are used relatively often before users drop off, and this time when they came from a marketing campaign."
   ]
  },
  {
   "cell_type": "code",
   "execution_count": 106,
   "id": "8e81ce1a",
   "metadata": {},
   "outputs": [
    {
     "data": {
      "text/html": [
       "<div>\n",
       "<style scoped>\n",
       "    .dataframe tbody tr th:only-of-type {\n",
       "        vertical-align: middle;\n",
       "    }\n",
       "\n",
       "    .dataframe tbody tr th {\n",
       "        vertical-align: top;\n",
       "    }\n",
       "\n",
       "    .dataframe thead th {\n",
       "        text-align: right;\n",
       "    }\n",
       "</style>\n",
       "<table border=\"1\" class=\"dataframe\">\n",
       "  <thead>\n",
       "    <tr style=\"text-align: right;\">\n",
       "      <th></th>\n",
       "      <th>drop_percentage</th>\n",
       "    </tr>\n",
       "    <tr>\n",
       "      <th>feature_nice_name</th>\n",
       "      <th></th>\n",
       "    </tr>\n",
       "  </thead>\n",
       "  <tbody>\n",
       "    <tr>\n",
       "      <th>Pressable: hamburger located at Root Location: home =&gt; Navigation: navbar-top</th>\n",
       "      <td>23.728814</td>\n",
       "    </tr>\n",
       "    <tr>\n",
       "      <th>Pressable: hamburger located at Root Location: blog =&gt; Navigation: navbar-top</th>\n",
       "      <td>11.864407</td>\n",
       "    </tr>\n",
       "    <tr>\n",
       "      <th>Link: star-us-on-github located at Root Location: home =&gt; Navigation: hero</th>\n",
       "      <td>10.169492</td>\n",
       "    </tr>\n",
       "    <tr>\n",
       "      <th>Link: star-us-on-github located at Root Location: home =&gt; Content: hero</th>\n",
       "      <td>10.169492</td>\n",
       "    </tr>\n",
       "    <tr>\n",
       "      <th>Link: logo located at Root Location: blog =&gt; Navigation: navbar-top</th>\n",
       "      <td>8.474576</td>\n",
       "    </tr>\n",
       "  </tbody>\n",
       "</table>\n",
       "</div>"
      ],
      "text/plain": [
       "                                                    drop_percentage\n",
       "feature_nice_name                                                  \n",
       "Pressable: hamburger located at Root Location: ...        23.728814\n",
       "Pressable: hamburger located at Root Location: ...        11.864407\n",
       "Link: star-us-on-github located at Root Locatio...        10.169492\n",
       "Link: star-us-on-github located at Root Locatio...        10.169492\n",
       "Link: logo located at Root Location: blog => Na...         8.474576"
      ]
     },
     "execution_count": 106,
     "metadata": {},
     "output_type": "execute_result"
    }
   ],
   "source": [
    "drop_loc = df_marketing_non_converted.sort_values('moment').groupby('user_id')['feature_nice_name'].to_json_array().json[-1].materialize()\n",
    "total_count = drop_loc.count().value\n",
    "\n",
    "drop_loc_percent = (drop_loc.value_counts() / total_count) * 100\n",
    "drop_loc_percent = drop_loc_percent.to_frame().rename(columns={'value_counts': 'drop_percentage'})\n",
    "drop_loc_percent.sort_values(by='drop_percentage', ascending=False).head()"
   ]
  },
  {
   "cell_type": "markdown",
   "id": "709f98cc",
   "metadata": {},
   "source": [
    "### Visualize the sequences in a Sankey diagram for non-converted users from a marketing campaign"
   ]
  },
  {
   "cell_type": "markdown",
   "id": "fb70b15b",
   "metadata": {},
   "source": [
    "Similar to before, we can use a Sankey diagram to visualize the customer journeys, this time the ones that lead to dropped-off  users that came from a marketing campaign.\n",
    "\n",
    "Remember that the width of each link represents the amount of times that flow was used, and you can hover over each link to see the source and target node."
   ]
  },
  {
   "cell_type": "code",
   "execution_count": 107,
   "id": "ae29b33b",
   "metadata": {},
   "outputs": [
    {
     "name": "stdout",
     "output_type": "stream",
     "text": [
      "Showing 20 examples out of 98\n"
     ]
    },
    {
     "data": {
      "application/vnd.plotly.v1+json": {
       "config": {
        "plotlyServerURL": "https://plot.ly"
       },
       "data": [
        {
         "link": {
          "customdata": [
           "Pressable: hamburger located at Root Location: home => Navigation: navbar-top",
           "Link: github located at Root Location: home => Navigation: navbar-top => Overlay: hamburger-menu",
           "Pressable: close located at Root Location: home => Navigation: navbar-top => Overlay: hamburger-menu",
           "Pressable: after located at Root Location: home => Content: capture-data => Content: data-capture-workflow-before-after",
           "Pressable: before located at Root Location: home => Content: capture-data => Content: data-capture-workflow-before-after",
           "Pressable: hamburger located at Root Location: blog => Navigation: navbar-top",
           "Link: jobs located at Root Location: blog => Navigation: navbar-top => Overlay: hamburger-menu",
           "Pressable: hamburger located at Root Location: jobs => Navigation: navbar-top",
           "Link: about-us located at Root Location: jobs => Navigation: navbar-top => Overlay: hamburger-menu",
           "Link: logo located at Root Location: home => Navigation: navbar-top",
           "Link: open-analytics-taxonomy located at Root Location: home => Content: capture-data",
           "Link: twitter located at Root Location: home => Navigation: navbar-top",
           "Link: blog located at Root Location: blog => Navigation: navbar-top",
           "Link: star-us-on-github located at Root Location: home => Navigation: hero",
           "Link: blog located at Root Location: home => Navigation: navbar-top"
          ],
          "hovertemplate": "SOURCE: %{source.customdata}<br />TARGET: %{target.customdata}<br />",
          "source": [
           0,
           0,
           3,
           5,
           6,
           7,
           9,
           3,
           4,
           3,
           12,
           13,
           14
          ],
          "target": [
           1,
           2,
           4,
           6,
           7,
           8,
           3,
           10,
           3,
           11,
           13,
           14,
           3
          ],
          "value": [
           3,
           3,
           3,
           4,
           2,
           2,
           1,
           1,
           1,
           1,
           1,
           1,
           1
          ]
         },
         "node": {
          "customdata": [
           "Pressable: hamburger located at Root Location: home => Navigation: navbar-top",
           "Link: github located at Root Location: home => Navigation: navbar-top => Overlay: hamburger-menu",
           "Pressable: close located at Root Location: home => Navigation: navbar-top => Overlay: hamburger-menu",
           "Pressable: after located at Root Location: home => Content: capture-data => Content: data-capture-workflow-before-after",
           "Pressable: before located at Root Location: home => Content: capture-data => Content: data-capture-workflow-before-after",
           "Pressable: hamburger located at Root Location: blog => Navigation: navbar-top",
           "Link: jobs located at Root Location: blog => Navigation: navbar-top => Overlay: hamburger-menu",
           "Pressable: hamburger located at Root Location: jobs => Navigation: navbar-top",
           "Link: about-us located at Root Location: jobs => Navigation: navbar-top => Overlay: hamburger-menu",
           "Link: logo located at Root Location: home => Navigation: navbar-top",
           "Link: open-analytics-taxonomy located at Root Location: home => Content: capture-data",
           "Link: twitter located at Root Location: home => Navigation: navbar-top",
           "Link: blog located at Root Location: blog => Navigation: navbar-top",
           "Link: star-us-on-github located at Root Location: home => Navigation: hero",
           "Link: blog located at Root Location: home => Navigation: navbar-top"
          ],
          "hovertemplate": "NODE: %{customdata}",
          "label": [
           "Pressable: hamburger...",
           "Link: github located...",
           "Pressable: close loc...",
           "Pressable: after loc...",
           "Pressable: before lo...",
           "Pressable: hamburger...",
           "Link: jobs located a...",
           "Pressable: hamburger...",
           "Link: about-us locat...",
           "Link: logo located a...",
           "Link: open-analytics...",
           "Link: twitter locate...",
           "Link: blog located a...",
           "Link: star-us-on-git...",
           "Link: blog located a..."
          ],
          "line": {
           "color": "black",
           "width": 0.5
          },
          "pad": 25,
          "thickness": 15
         },
         "orientation": "h",
         "type": "sankey"
        }
       ],
       "layout": {
        "font": {
         "color": "black",
         "size": 14
        },
        "hoverlabel": {
         "bgcolor": "white",
         "font": {
          "size": 11
         }
        },
        "template": {
         "data": {
          "bar": [
           {
            "error_x": {
             "color": "#2a3f5f"
            },
            "error_y": {
             "color": "#2a3f5f"
            },
            "marker": {
             "line": {
              "color": "#E5ECF6",
              "width": 0.5
             },
             "pattern": {
              "fillmode": "overlay",
              "size": 10,
              "solidity": 0.2
             }
            },
            "type": "bar"
           }
          ],
          "barpolar": [
           {
            "marker": {
             "line": {
              "color": "#E5ECF6",
              "width": 0.5
             },
             "pattern": {
              "fillmode": "overlay",
              "size": 10,
              "solidity": 0.2
             }
            },
            "type": "barpolar"
           }
          ],
          "carpet": [
           {
            "aaxis": {
             "endlinecolor": "#2a3f5f",
             "gridcolor": "white",
             "linecolor": "white",
             "minorgridcolor": "white",
             "startlinecolor": "#2a3f5f"
            },
            "baxis": {
             "endlinecolor": "#2a3f5f",
             "gridcolor": "white",
             "linecolor": "white",
             "minorgridcolor": "white",
             "startlinecolor": "#2a3f5f"
            },
            "type": "carpet"
           }
          ],
          "choropleth": [
           {
            "colorbar": {
             "outlinewidth": 0,
             "ticks": ""
            },
            "type": "choropleth"
           }
          ],
          "contour": [
           {
            "colorbar": {
             "outlinewidth": 0,
             "ticks": ""
            },
            "colorscale": [
             [
              0,
              "#0d0887"
             ],
             [
              0.1111111111111111,
              "#46039f"
             ],
             [
              0.2222222222222222,
              "#7201a8"
             ],
             [
              0.3333333333333333,
              "#9c179e"
             ],
             [
              0.4444444444444444,
              "#bd3786"
             ],
             [
              0.5555555555555556,
              "#d8576b"
             ],
             [
              0.6666666666666666,
              "#ed7953"
             ],
             [
              0.7777777777777778,
              "#fb9f3a"
             ],
             [
              0.8888888888888888,
              "#fdca26"
             ],
             [
              1,
              "#f0f921"
             ]
            ],
            "type": "contour"
           }
          ],
          "contourcarpet": [
           {
            "colorbar": {
             "outlinewidth": 0,
             "ticks": ""
            },
            "type": "contourcarpet"
           }
          ],
          "heatmap": [
           {
            "colorbar": {
             "outlinewidth": 0,
             "ticks": ""
            },
            "colorscale": [
             [
              0,
              "#0d0887"
             ],
             [
              0.1111111111111111,
              "#46039f"
             ],
             [
              0.2222222222222222,
              "#7201a8"
             ],
             [
              0.3333333333333333,
              "#9c179e"
             ],
             [
              0.4444444444444444,
              "#bd3786"
             ],
             [
              0.5555555555555556,
              "#d8576b"
             ],
             [
              0.6666666666666666,
              "#ed7953"
             ],
             [
              0.7777777777777778,
              "#fb9f3a"
             ],
             [
              0.8888888888888888,
              "#fdca26"
             ],
             [
              1,
              "#f0f921"
             ]
            ],
            "type": "heatmap"
           }
          ],
          "heatmapgl": [
           {
            "colorbar": {
             "outlinewidth": 0,
             "ticks": ""
            },
            "colorscale": [
             [
              0,
              "#0d0887"
             ],
             [
              0.1111111111111111,
              "#46039f"
             ],
             [
              0.2222222222222222,
              "#7201a8"
             ],
             [
              0.3333333333333333,
              "#9c179e"
             ],
             [
              0.4444444444444444,
              "#bd3786"
             ],
             [
              0.5555555555555556,
              "#d8576b"
             ],
             [
              0.6666666666666666,
              "#ed7953"
             ],
             [
              0.7777777777777778,
              "#fb9f3a"
             ],
             [
              0.8888888888888888,
              "#fdca26"
             ],
             [
              1,
              "#f0f921"
             ]
            ],
            "type": "heatmapgl"
           }
          ],
          "histogram": [
           {
            "marker": {
             "pattern": {
              "fillmode": "overlay",
              "size": 10,
              "solidity": 0.2
             }
            },
            "type": "histogram"
           }
          ],
          "histogram2d": [
           {
            "colorbar": {
             "outlinewidth": 0,
             "ticks": ""
            },
            "colorscale": [
             [
              0,
              "#0d0887"
             ],
             [
              0.1111111111111111,
              "#46039f"
             ],
             [
              0.2222222222222222,
              "#7201a8"
             ],
             [
              0.3333333333333333,
              "#9c179e"
             ],
             [
              0.4444444444444444,
              "#bd3786"
             ],
             [
              0.5555555555555556,
              "#d8576b"
             ],
             [
              0.6666666666666666,
              "#ed7953"
             ],
             [
              0.7777777777777778,
              "#fb9f3a"
             ],
             [
              0.8888888888888888,
              "#fdca26"
             ],
             [
              1,
              "#f0f921"
             ]
            ],
            "type": "histogram2d"
           }
          ],
          "histogram2dcontour": [
           {
            "colorbar": {
             "outlinewidth": 0,
             "ticks": ""
            },
            "colorscale": [
             [
              0,
              "#0d0887"
             ],
             [
              0.1111111111111111,
              "#46039f"
             ],
             [
              0.2222222222222222,
              "#7201a8"
             ],
             [
              0.3333333333333333,
              "#9c179e"
             ],
             [
              0.4444444444444444,
              "#bd3786"
             ],
             [
              0.5555555555555556,
              "#d8576b"
             ],
             [
              0.6666666666666666,
              "#ed7953"
             ],
             [
              0.7777777777777778,
              "#fb9f3a"
             ],
             [
              0.8888888888888888,
              "#fdca26"
             ],
             [
              1,
              "#f0f921"
             ]
            ],
            "type": "histogram2dcontour"
           }
          ],
          "mesh3d": [
           {
            "colorbar": {
             "outlinewidth": 0,
             "ticks": ""
            },
            "type": "mesh3d"
           }
          ],
          "parcoords": [
           {
            "line": {
             "colorbar": {
              "outlinewidth": 0,
              "ticks": ""
             }
            },
            "type": "parcoords"
           }
          ],
          "pie": [
           {
            "automargin": true,
            "type": "pie"
           }
          ],
          "scatter": [
           {
            "fillpattern": {
             "fillmode": "overlay",
             "size": 10,
             "solidity": 0.2
            },
            "type": "scatter"
           }
          ],
          "scatter3d": [
           {
            "line": {
             "colorbar": {
              "outlinewidth": 0,
              "ticks": ""
             }
            },
            "marker": {
             "colorbar": {
              "outlinewidth": 0,
              "ticks": ""
             }
            },
            "type": "scatter3d"
           }
          ],
          "scattercarpet": [
           {
            "marker": {
             "colorbar": {
              "outlinewidth": 0,
              "ticks": ""
             }
            },
            "type": "scattercarpet"
           }
          ],
          "scattergeo": [
           {
            "marker": {
             "colorbar": {
              "outlinewidth": 0,
              "ticks": ""
             }
            },
            "type": "scattergeo"
           }
          ],
          "scattergl": [
           {
            "marker": {
             "colorbar": {
              "outlinewidth": 0,
              "ticks": ""
             }
            },
            "type": "scattergl"
           }
          ],
          "scattermapbox": [
           {
            "marker": {
             "colorbar": {
              "outlinewidth": 0,
              "ticks": ""
             }
            },
            "type": "scattermapbox"
           }
          ],
          "scatterpolar": [
           {
            "marker": {
             "colorbar": {
              "outlinewidth": 0,
              "ticks": ""
             }
            },
            "type": "scatterpolar"
           }
          ],
          "scatterpolargl": [
           {
            "marker": {
             "colorbar": {
              "outlinewidth": 0,
              "ticks": ""
             }
            },
            "type": "scatterpolargl"
           }
          ],
          "scatterternary": [
           {
            "marker": {
             "colorbar": {
              "outlinewidth": 0,
              "ticks": ""
             }
            },
            "type": "scatterternary"
           }
          ],
          "surface": [
           {
            "colorbar": {
             "outlinewidth": 0,
             "ticks": ""
            },
            "colorscale": [
             [
              0,
              "#0d0887"
             ],
             [
              0.1111111111111111,
              "#46039f"
             ],
             [
              0.2222222222222222,
              "#7201a8"
             ],
             [
              0.3333333333333333,
              "#9c179e"
             ],
             [
              0.4444444444444444,
              "#bd3786"
             ],
             [
              0.5555555555555556,
              "#d8576b"
             ],
             [
              0.6666666666666666,
              "#ed7953"
             ],
             [
              0.7777777777777778,
              "#fb9f3a"
             ],
             [
              0.8888888888888888,
              "#fdca26"
             ],
             [
              1,
              "#f0f921"
             ]
            ],
            "type": "surface"
           }
          ],
          "table": [
           {
            "cells": {
             "fill": {
              "color": "#EBF0F8"
             },
             "line": {
              "color": "white"
             }
            },
            "header": {
             "fill": {
              "color": "#C8D4E3"
             },
             "line": {
              "color": "white"
             }
            },
            "type": "table"
           }
          ]
         },
         "layout": {
          "annotationdefaults": {
           "arrowcolor": "#2a3f5f",
           "arrowhead": 0,
           "arrowwidth": 1
          },
          "autotypenumbers": "strict",
          "coloraxis": {
           "colorbar": {
            "outlinewidth": 0,
            "ticks": ""
           }
          },
          "colorscale": {
           "diverging": [
            [
             0,
             "#8e0152"
            ],
            [
             0.1,
             "#c51b7d"
            ],
            [
             0.2,
             "#de77ae"
            ],
            [
             0.3,
             "#f1b6da"
            ],
            [
             0.4,
             "#fde0ef"
            ],
            [
             0.5,
             "#f7f7f7"
            ],
            [
             0.6,
             "#e6f5d0"
            ],
            [
             0.7,
             "#b8e186"
            ],
            [
             0.8,
             "#7fbc41"
            ],
            [
             0.9,
             "#4d9221"
            ],
            [
             1,
             "#276419"
            ]
           ],
           "sequential": [
            [
             0,
             "#0d0887"
            ],
            [
             0.1111111111111111,
             "#46039f"
            ],
            [
             0.2222222222222222,
             "#7201a8"
            ],
            [
             0.3333333333333333,
             "#9c179e"
            ],
            [
             0.4444444444444444,
             "#bd3786"
            ],
            [
             0.5555555555555556,
             "#d8576b"
            ],
            [
             0.6666666666666666,
             "#ed7953"
            ],
            [
             0.7777777777777778,
             "#fb9f3a"
            ],
            [
             0.8888888888888888,
             "#fdca26"
            ],
            [
             1,
             "#f0f921"
            ]
           ],
           "sequentialminus": [
            [
             0,
             "#0d0887"
            ],
            [
             0.1111111111111111,
             "#46039f"
            ],
            [
             0.2222222222222222,
             "#7201a8"
            ],
            [
             0.3333333333333333,
             "#9c179e"
            ],
            [
             0.4444444444444444,
             "#bd3786"
            ],
            [
             0.5555555555555556,
             "#d8576b"
            ],
            [
             0.6666666666666666,
             "#ed7953"
            ],
            [
             0.7777777777777778,
             "#fb9f3a"
            ],
            [
             0.8888888888888888,
             "#fdca26"
            ],
            [
             1,
             "#f0f921"
            ]
           ]
          },
          "colorway": [
           "#636efa",
           "#EF553B",
           "#00cc96",
           "#ab63fa",
           "#FFA15A",
           "#19d3f3",
           "#FF6692",
           "#B6E880",
           "#FF97FF",
           "#FECB52"
          ],
          "font": {
           "color": "#2a3f5f"
          },
          "geo": {
           "bgcolor": "white",
           "lakecolor": "white",
           "landcolor": "#E5ECF6",
           "showlakes": true,
           "showland": true,
           "subunitcolor": "white"
          },
          "hoverlabel": {
           "align": "left"
          },
          "hovermode": "closest",
          "mapbox": {
           "style": "light"
          },
          "paper_bgcolor": "white",
          "plot_bgcolor": "#E5ECF6",
          "polar": {
           "angularaxis": {
            "gridcolor": "white",
            "linecolor": "white",
            "ticks": ""
           },
           "bgcolor": "#E5ECF6",
           "radialaxis": {
            "gridcolor": "white",
            "linecolor": "white",
            "ticks": ""
           }
          },
          "scene": {
           "xaxis": {
            "backgroundcolor": "#E5ECF6",
            "gridcolor": "white",
            "gridwidth": 2,
            "linecolor": "white",
            "showbackground": true,
            "ticks": "",
            "zerolinecolor": "white"
           },
           "yaxis": {
            "backgroundcolor": "#E5ECF6",
            "gridcolor": "white",
            "gridwidth": 2,
            "linecolor": "white",
            "showbackground": true,
            "ticks": "",
            "zerolinecolor": "white"
           },
           "zaxis": {
            "backgroundcolor": "#E5ECF6",
            "gridcolor": "white",
            "gridwidth": 2,
            "linecolor": "white",
            "showbackground": true,
            "ticks": "",
            "zerolinecolor": "white"
           }
          },
          "shapedefaults": {
           "line": {
            "color": "#2a3f5f"
           }
          },
          "ternary": {
           "aaxis": {
            "gridcolor": "white",
            "linecolor": "white",
            "ticks": ""
           },
           "baxis": {
            "gridcolor": "white",
            "linecolor": "white",
            "ticks": ""
           },
           "bgcolor": "#E5ECF6",
           "caxis": {
            "gridcolor": "white",
            "linecolor": "white",
            "ticks": ""
           }
          },
          "title": {
           "x": 0.05
          },
          "xaxis": {
           "automargin": true,
           "gridcolor": "white",
           "linecolor": "white",
           "ticks": "",
           "title": {
            "standoff": 15
           },
           "zerolinecolor": "white",
           "zerolinewidth": 2
          },
          "yaxis": {
           "automargin": true,
           "gridcolor": "white",
           "linecolor": "white",
           "ticks": "",
           "title": {
            "standoff": 15
           },
           "zerolinecolor": "white",
           "zerolinewidth": 2
          }
         }
        },
        "title": {
         "font": {
          "color": "black"
         },
         "text": "Location Stack Flow"
        }
       }
      },
      "text/html": [
       "<div>                            <div id=\"cc225cb3-5ff5-4b38-aaf6-65b398f2423e\" class=\"plotly-graph-div\" style=\"height:525px; width:100%;\"></div>            <script type=\"text/javascript\">                require([\"plotly\"], function(Plotly) {                    window.PLOTLYENV=window.PLOTLYENV || {};                                    if (document.getElementById(\"cc225cb3-5ff5-4b38-aaf6-65b398f2423e\")) {                    Plotly.newPlot(                        \"cc225cb3-5ff5-4b38-aaf6-65b398f2423e\",                        [{\"link\":{\"customdata\":[\"Pressable: hamburger located at Root Location: home => Navigation: navbar-top\",\"Link: github located at Root Location: home => Navigation: navbar-top => Overlay: hamburger-menu\",\"Pressable: close located at Root Location: home => Navigation: navbar-top => Overlay: hamburger-menu\",\"Pressable: after located at Root Location: home => Content: capture-data => Content: data-capture-workflow-before-after\",\"Pressable: before located at Root Location: home => Content: capture-data => Content: data-capture-workflow-before-after\",\"Pressable: hamburger located at Root Location: blog => Navigation: navbar-top\",\"Link: jobs located at Root Location: blog => Navigation: navbar-top => Overlay: hamburger-menu\",\"Pressable: hamburger located at Root Location: jobs => Navigation: navbar-top\",\"Link: about-us located at Root Location: jobs => Navigation: navbar-top => Overlay: hamburger-menu\",\"Link: logo located at Root Location: home => Navigation: navbar-top\",\"Link: open-analytics-taxonomy located at Root Location: home => Content: capture-data\",\"Link: twitter located at Root Location: home => Navigation: navbar-top\",\"Link: blog located at Root Location: blog => Navigation: navbar-top\",\"Link: star-us-on-github located at Root Location: home => Navigation: hero\",\"Link: blog located at Root Location: home => Navigation: navbar-top\"],\"hovertemplate\":\"SOURCE: %{source.customdata}<br />TARGET: %{target.customdata}<br />\",\"source\":[0,0,3,5,6,7,9,3,4,3,12,13,14],\"target\":[1,2,4,6,7,8,3,10,3,11,13,14,3],\"value\":[3,3,3,4,2,2,1,1,1,1,1,1,1]},\"node\":{\"customdata\":[\"Pressable: hamburger located at Root Location: home => Navigation: navbar-top\",\"Link: github located at Root Location: home => Navigation: navbar-top => Overlay: hamburger-menu\",\"Pressable: close located at Root Location: home => Navigation: navbar-top => Overlay: hamburger-menu\",\"Pressable: after located at Root Location: home => Content: capture-data => Content: data-capture-workflow-before-after\",\"Pressable: before located at Root Location: home => Content: capture-data => Content: data-capture-workflow-before-after\",\"Pressable: hamburger located at Root Location: blog => Navigation: navbar-top\",\"Link: jobs located at Root Location: blog => Navigation: navbar-top => Overlay: hamburger-menu\",\"Pressable: hamburger located at Root Location: jobs => Navigation: navbar-top\",\"Link: about-us located at Root Location: jobs => Navigation: navbar-top => Overlay: hamburger-menu\",\"Link: logo located at Root Location: home => Navigation: navbar-top\",\"Link: open-analytics-taxonomy located at Root Location: home => Content: capture-data\",\"Link: twitter located at Root Location: home => Navigation: navbar-top\",\"Link: blog located at Root Location: blog => Navigation: navbar-top\",\"Link: star-us-on-github located at Root Location: home => Navigation: hero\",\"Link: blog located at Root Location: home => Navigation: navbar-top\"],\"hovertemplate\":\"NODE: %{customdata}\",\"label\":[\"Pressable: hamburger...\",\"Link: github located...\",\"Pressable: close loc...\",\"Pressable: after loc...\",\"Pressable: before lo...\",\"Pressable: hamburger...\",\"Link: jobs located a...\",\"Pressable: hamburger...\",\"Link: about-us locat...\",\"Link: logo located a...\",\"Link: open-analytics...\",\"Link: twitter locate...\",\"Link: blog located a...\",\"Link: star-us-on-git...\",\"Link: blog located a...\"],\"line\":{\"color\":\"black\",\"width\":0.5},\"pad\":25,\"thickness\":15},\"orientation\":\"h\",\"type\":\"sankey\"}],                        {\"template\":{\"data\":{\"histogram2dcontour\":[{\"type\":\"histogram2dcontour\",\"colorbar\":{\"outlinewidth\":0,\"ticks\":\"\"},\"colorscale\":[[0.0,\"#0d0887\"],[0.1111111111111111,\"#46039f\"],[0.2222222222222222,\"#7201a8\"],[0.3333333333333333,\"#9c179e\"],[0.4444444444444444,\"#bd3786\"],[0.5555555555555556,\"#d8576b\"],[0.6666666666666666,\"#ed7953\"],[0.7777777777777778,\"#fb9f3a\"],[0.8888888888888888,\"#fdca26\"],[1.0,\"#f0f921\"]]}],\"choropleth\":[{\"type\":\"choropleth\",\"colorbar\":{\"outlinewidth\":0,\"ticks\":\"\"}}],\"histogram2d\":[{\"type\":\"histogram2d\",\"colorbar\":{\"outlinewidth\":0,\"ticks\":\"\"},\"colorscale\":[[0.0,\"#0d0887\"],[0.1111111111111111,\"#46039f\"],[0.2222222222222222,\"#7201a8\"],[0.3333333333333333,\"#9c179e\"],[0.4444444444444444,\"#bd3786\"],[0.5555555555555556,\"#d8576b\"],[0.6666666666666666,\"#ed7953\"],[0.7777777777777778,\"#fb9f3a\"],[0.8888888888888888,\"#fdca26\"],[1.0,\"#f0f921\"]]}],\"heatmap\":[{\"type\":\"heatmap\",\"colorbar\":{\"outlinewidth\":0,\"ticks\":\"\"},\"colorscale\":[[0.0,\"#0d0887\"],[0.1111111111111111,\"#46039f\"],[0.2222222222222222,\"#7201a8\"],[0.3333333333333333,\"#9c179e\"],[0.4444444444444444,\"#bd3786\"],[0.5555555555555556,\"#d8576b\"],[0.6666666666666666,\"#ed7953\"],[0.7777777777777778,\"#fb9f3a\"],[0.8888888888888888,\"#fdca26\"],[1.0,\"#f0f921\"]]}],\"heatmapgl\":[{\"type\":\"heatmapgl\",\"colorbar\":{\"outlinewidth\":0,\"ticks\":\"\"},\"colorscale\":[[0.0,\"#0d0887\"],[0.1111111111111111,\"#46039f\"],[0.2222222222222222,\"#7201a8\"],[0.3333333333333333,\"#9c179e\"],[0.4444444444444444,\"#bd3786\"],[0.5555555555555556,\"#d8576b\"],[0.6666666666666666,\"#ed7953\"],[0.7777777777777778,\"#fb9f3a\"],[0.8888888888888888,\"#fdca26\"],[1.0,\"#f0f921\"]]}],\"contourcarpet\":[{\"type\":\"contourcarpet\",\"colorbar\":{\"outlinewidth\":0,\"ticks\":\"\"}}],\"contour\":[{\"type\":\"contour\",\"colorbar\":{\"outlinewidth\":0,\"ticks\":\"\"},\"colorscale\":[[0.0,\"#0d0887\"],[0.1111111111111111,\"#46039f\"],[0.2222222222222222,\"#7201a8\"],[0.3333333333333333,\"#9c179e\"],[0.4444444444444444,\"#bd3786\"],[0.5555555555555556,\"#d8576b\"],[0.6666666666666666,\"#ed7953\"],[0.7777777777777778,\"#fb9f3a\"],[0.8888888888888888,\"#fdca26\"],[1.0,\"#f0f921\"]]}],\"surface\":[{\"type\":\"surface\",\"colorbar\":{\"outlinewidth\":0,\"ticks\":\"\"},\"colorscale\":[[0.0,\"#0d0887\"],[0.1111111111111111,\"#46039f\"],[0.2222222222222222,\"#7201a8\"],[0.3333333333333333,\"#9c179e\"],[0.4444444444444444,\"#bd3786\"],[0.5555555555555556,\"#d8576b\"],[0.6666666666666666,\"#ed7953\"],[0.7777777777777778,\"#fb9f3a\"],[0.8888888888888888,\"#fdca26\"],[1.0,\"#f0f921\"]]}],\"mesh3d\":[{\"type\":\"mesh3d\",\"colorbar\":{\"outlinewidth\":0,\"ticks\":\"\"}}],\"scatter\":[{\"fillpattern\":{\"fillmode\":\"overlay\",\"size\":10,\"solidity\":0.2},\"type\":\"scatter\"}],\"parcoords\":[{\"type\":\"parcoords\",\"line\":{\"colorbar\":{\"outlinewidth\":0,\"ticks\":\"\"}}}],\"scatterpolargl\":[{\"type\":\"scatterpolargl\",\"marker\":{\"colorbar\":{\"outlinewidth\":0,\"ticks\":\"\"}}}],\"bar\":[{\"error_x\":{\"color\":\"#2a3f5f\"},\"error_y\":{\"color\":\"#2a3f5f\"},\"marker\":{\"line\":{\"color\":\"#E5ECF6\",\"width\":0.5},\"pattern\":{\"fillmode\":\"overlay\",\"size\":10,\"solidity\":0.2}},\"type\":\"bar\"}],\"scattergeo\":[{\"type\":\"scattergeo\",\"marker\":{\"colorbar\":{\"outlinewidth\":0,\"ticks\":\"\"}}}],\"scatterpolar\":[{\"type\":\"scatterpolar\",\"marker\":{\"colorbar\":{\"outlinewidth\":0,\"ticks\":\"\"}}}],\"histogram\":[{\"marker\":{\"pattern\":{\"fillmode\":\"overlay\",\"size\":10,\"solidity\":0.2}},\"type\":\"histogram\"}],\"scattergl\":[{\"type\":\"scattergl\",\"marker\":{\"colorbar\":{\"outlinewidth\":0,\"ticks\":\"\"}}}],\"scatter3d\":[{\"type\":\"scatter3d\",\"line\":{\"colorbar\":{\"outlinewidth\":0,\"ticks\":\"\"}},\"marker\":{\"colorbar\":{\"outlinewidth\":0,\"ticks\":\"\"}}}],\"scattermapbox\":[{\"type\":\"scattermapbox\",\"marker\":{\"colorbar\":{\"outlinewidth\":0,\"ticks\":\"\"}}}],\"scatterternary\":[{\"type\":\"scatterternary\",\"marker\":{\"colorbar\":{\"outlinewidth\":0,\"ticks\":\"\"}}}],\"scattercarpet\":[{\"type\":\"scattercarpet\",\"marker\":{\"colorbar\":{\"outlinewidth\":0,\"ticks\":\"\"}}}],\"carpet\":[{\"aaxis\":{\"endlinecolor\":\"#2a3f5f\",\"gridcolor\":\"white\",\"linecolor\":\"white\",\"minorgridcolor\":\"white\",\"startlinecolor\":\"#2a3f5f\"},\"baxis\":{\"endlinecolor\":\"#2a3f5f\",\"gridcolor\":\"white\",\"linecolor\":\"white\",\"minorgridcolor\":\"white\",\"startlinecolor\":\"#2a3f5f\"},\"type\":\"carpet\"}],\"table\":[{\"cells\":{\"fill\":{\"color\":\"#EBF0F8\"},\"line\":{\"color\":\"white\"}},\"header\":{\"fill\":{\"color\":\"#C8D4E3\"},\"line\":{\"color\":\"white\"}},\"type\":\"table\"}],\"barpolar\":[{\"marker\":{\"line\":{\"color\":\"#E5ECF6\",\"width\":0.5},\"pattern\":{\"fillmode\":\"overlay\",\"size\":10,\"solidity\":0.2}},\"type\":\"barpolar\"}],\"pie\":[{\"automargin\":true,\"type\":\"pie\"}]},\"layout\":{\"autotypenumbers\":\"strict\",\"colorway\":[\"#636efa\",\"#EF553B\",\"#00cc96\",\"#ab63fa\",\"#FFA15A\",\"#19d3f3\",\"#FF6692\",\"#B6E880\",\"#FF97FF\",\"#FECB52\"],\"font\":{\"color\":\"#2a3f5f\"},\"hovermode\":\"closest\",\"hoverlabel\":{\"align\":\"left\"},\"paper_bgcolor\":\"white\",\"plot_bgcolor\":\"#E5ECF6\",\"polar\":{\"bgcolor\":\"#E5ECF6\",\"angularaxis\":{\"gridcolor\":\"white\",\"linecolor\":\"white\",\"ticks\":\"\"},\"radialaxis\":{\"gridcolor\":\"white\",\"linecolor\":\"white\",\"ticks\":\"\"}},\"ternary\":{\"bgcolor\":\"#E5ECF6\",\"aaxis\":{\"gridcolor\":\"white\",\"linecolor\":\"white\",\"ticks\":\"\"},\"baxis\":{\"gridcolor\":\"white\",\"linecolor\":\"white\",\"ticks\":\"\"},\"caxis\":{\"gridcolor\":\"white\",\"linecolor\":\"white\",\"ticks\":\"\"}},\"coloraxis\":{\"colorbar\":{\"outlinewidth\":0,\"ticks\":\"\"}},\"colorscale\":{\"sequential\":[[0.0,\"#0d0887\"],[0.1111111111111111,\"#46039f\"],[0.2222222222222222,\"#7201a8\"],[0.3333333333333333,\"#9c179e\"],[0.4444444444444444,\"#bd3786\"],[0.5555555555555556,\"#d8576b\"],[0.6666666666666666,\"#ed7953\"],[0.7777777777777778,\"#fb9f3a\"],[0.8888888888888888,\"#fdca26\"],[1.0,\"#f0f921\"]],\"sequentialminus\":[[0.0,\"#0d0887\"],[0.1111111111111111,\"#46039f\"],[0.2222222222222222,\"#7201a8\"],[0.3333333333333333,\"#9c179e\"],[0.4444444444444444,\"#bd3786\"],[0.5555555555555556,\"#d8576b\"],[0.6666666666666666,\"#ed7953\"],[0.7777777777777778,\"#fb9f3a\"],[0.8888888888888888,\"#fdca26\"],[1.0,\"#f0f921\"]],\"diverging\":[[0,\"#8e0152\"],[0.1,\"#c51b7d\"],[0.2,\"#de77ae\"],[0.3,\"#f1b6da\"],[0.4,\"#fde0ef\"],[0.5,\"#f7f7f7\"],[0.6,\"#e6f5d0\"],[0.7,\"#b8e186\"],[0.8,\"#7fbc41\"],[0.9,\"#4d9221\"],[1,\"#276419\"]]},\"xaxis\":{\"gridcolor\":\"white\",\"linecolor\":\"white\",\"ticks\":\"\",\"title\":{\"standoff\":15},\"zerolinecolor\":\"white\",\"automargin\":true,\"zerolinewidth\":2},\"yaxis\":{\"gridcolor\":\"white\",\"linecolor\":\"white\",\"ticks\":\"\",\"title\":{\"standoff\":15},\"zerolinecolor\":\"white\",\"automargin\":true,\"zerolinewidth\":2},\"scene\":{\"xaxis\":{\"backgroundcolor\":\"#E5ECF6\",\"gridcolor\":\"white\",\"linecolor\":\"white\",\"showbackground\":true,\"ticks\":\"\",\"zerolinecolor\":\"white\",\"gridwidth\":2},\"yaxis\":{\"backgroundcolor\":\"#E5ECF6\",\"gridcolor\":\"white\",\"linecolor\":\"white\",\"showbackground\":true,\"ticks\":\"\",\"zerolinecolor\":\"white\",\"gridwidth\":2},\"zaxis\":{\"backgroundcolor\":\"#E5ECF6\",\"gridcolor\":\"white\",\"linecolor\":\"white\",\"showbackground\":true,\"ticks\":\"\",\"zerolinecolor\":\"white\",\"gridwidth\":2}},\"shapedefaults\":{\"line\":{\"color\":\"#2a3f5f\"}},\"annotationdefaults\":{\"arrowcolor\":\"#2a3f5f\",\"arrowhead\":0,\"arrowwidth\":1},\"geo\":{\"bgcolor\":\"white\",\"landcolor\":\"#E5ECF6\",\"subunitcolor\":\"white\",\"showland\":true,\"showlakes\":true,\"lakecolor\":\"white\"},\"title\":{\"x\":0.05},\"mapbox\":{\"style\":\"light\"}}},\"hoverlabel\":{\"font\":{\"size\":11},\"bgcolor\":\"white\"},\"font\":{\"color\":\"black\",\"size\":14},\"title\":{\"font\":{\"color\":\"black\"},\"text\":\"Location Stack Flow\"}},                        {\"responsive\": true}                    ).then(function(){\n",
       "                            \n",
       "var gd = document.getElementById('cc225cb3-5ff5-4b38-aaf6-65b398f2423e');\n",
       "var x = new MutationObserver(function (mutations, observer) {{\n",
       "        var display = window.getComputedStyle(gd).display;\n",
       "        if (!display || display === 'none') {{\n",
       "            console.log([gd, 'removed!']);\n",
       "            Plotly.purge(gd);\n",
       "            observer.disconnect();\n",
       "        }}\n",
       "}});\n",
       "\n",
       "// Listen for the removal of the full notebook cells\n",
       "var notebookContainer = gd.closest('#notebook-container');\n",
       "if (notebookContainer) {{\n",
       "    x.observe(notebookContainer, {childList: true});\n",
       "}}\n",
       "\n",
       "// Listen for the clearing of the current output cell\n",
       "var outputEl = gd.closest('.output');\n",
       "if (outputEl) {{\n",
       "    x.observe(outputEl, {childList: true});\n",
       "}}\n",
       "\n",
       "                        })                };                });            </script>        </div>"
      ]
     },
     "metadata": {},
     "output_type": "display_data"
    }
   ],
   "source": [
    "max_steps = 4\n",
    "df_steps = funnel.get_navigation_paths(df_marketing_non_converted, steps=max_steps, by='user_id')\n",
    "funnel.plot_sankey_diagram(df_steps, n_top_examples=20)"
   ]
  },
  {
   "cell_type": "markdown",
   "id": "b0af4b91",
   "metadata": {},
   "source": [
    "## Where to go next\n",
    "Now that you've discovered the customer journeys that lead to conversion or drop-off, you could further analyze each of them to understand which ones could be optimized, or should get more/less focus. Another next step could be to have a more in-depth look at the marketing campaign data differences per source. \n",
    "\n",
    "Have a look at the [open taxonomy example notebook](open-taxonomy.ipynb) for more on how to use the , or any"
   ]
  }
 ],
 "metadata": {
  "kernelspec": {
   "display_name": "Python 3 (ipykernel)",
   "language": "python",
   "name": "python3"
  },
  "language_info": {
   "codemirror_mode": {
    "name": "ipython",
    "version": 3
   },
   "file_extension": ".py",
   "mimetype": "text/x-python",
   "name": "python",
   "nbconvert_exporter": "python",
   "pygments_lexer": "ipython3",
   "version": "3.8.10"
  }
 },
 "nbformat": 4,
 "nbformat_minor": 5
}
