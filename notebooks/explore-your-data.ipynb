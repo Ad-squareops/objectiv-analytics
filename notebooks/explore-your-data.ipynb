{
 "cells": [
  {
   "cell_type": "markdown",
   "id": "afb5dddf",
   "metadata": {},
   "source": [
    "This is one of the Objectiv [example notebooks](https://objectiv.io/docs/modeling/example-notebooks/). These notebooks can run on your own data, or you can instead run the [Demo](https://objectiv.io/docs/home/quickstart-guide/) to quickly try them out."
   ]
  },
  {
   "cell_type": "markdown",
   "id": "990f0ae2-48cd-4220-8960-844af284fcce",
   "metadata": {
    "tags": []
   },
   "source": [
    "# Explore your data"
   ]
  },
  {
   "cell_type": "markdown",
   "id": "fc19e049-754f-4c0e-8a5a-0ff89bdb7724",
   "metadata": {},
   "source": [
    "This example notebook shows how you can easily explore your data collected with Objectiv. [See here how to get started in your notebook](https://objectiv.io/docs/modeling/get-started-in-your-notebook/). \n",
    "\n",
    "We first have to instantiate the model hub and an Objectiv DataFrame object."
   ]
  },
  {
   "cell_type": "code",
   "execution_count": 2,
   "id": "3756a344-8072-4d6d-9c86-ea6bb8428ff8",
   "metadata": {},
   "outputs": [],
   "source": [
    "from modelhub import ModelHub\n",
    "from bach import display_sql_as_markdown\n",
    "\n",
    "# instantiate the model hub and set the default time aggregation to daily\n",
    "modelhub = ModelHub(time_aggregation='%Y-%m-%d')\n",
    "# get a Bach DataFrame with Objectiv data within a defined timeframe\n",
    "df = modelhub.get_objectiv_dataframe(start_date='2022-06-01', end_date='2022-06-30')"
   ]
  },
  {
   "cell_type": "markdown",
   "id": "9e6f4926",
   "metadata": {},
   "source": [
    "### Reference\n",
    "* [modelhub.ModelHub.get_objectiv_dataframe](https://objectiv.io/docs/modeling/open-model-hub/api-reference/ModelHub/get_objectiv_dataframe/)"
   ]
  },
  {
   "cell_type": "markdown",
   "id": "5759b781-4d3a-4ca2-9908-1d795507a233",
   "metadata": {},
   "source": [
    "## A first look at the data"
   ]
  },
  {
   "cell_type": "code",
   "execution_count": 3,
   "id": "e303e574-09fc-437c-97ba-020392dda222",
   "metadata": {},
   "outputs": [
    {
     "data": {
      "text/html": [
       "<div>\n",
       "<style scoped>\n",
       "    .dataframe tbody tr th:only-of-type {\n",
       "        vertical-align: middle;\n",
       "    }\n",
       "\n",
       "    .dataframe tbody tr th {\n",
       "        vertical-align: top;\n",
       "    }\n",
       "\n",
       "    .dataframe thead th {\n",
       "        text-align: right;\n",
       "    }\n",
       "</style>\n",
       "<table border=\"1\" class=\"dataframe\">\n",
       "  <thead>\n",
       "    <tr style=\"text-align: right;\">\n",
       "      <th></th>\n",
       "      <th>day</th>\n",
       "      <th>moment</th>\n",
       "      <th>user_id</th>\n",
       "      <th>global_contexts</th>\n",
       "      <th>location_stack</th>\n",
       "      <th>event_type</th>\n",
       "      <th>stack_event_types</th>\n",
       "      <th>session_id</th>\n",
       "      <th>session_hit_number</th>\n",
       "    </tr>\n",
       "    <tr>\n",
       "      <th>event_id</th>\n",
       "      <th></th>\n",
       "      <th></th>\n",
       "      <th></th>\n",
       "      <th></th>\n",
       "      <th></th>\n",
       "      <th></th>\n",
       "      <th></th>\n",
       "      <th></th>\n",
       "      <th></th>\n",
       "    </tr>\n",
       "  </thead>\n",
       "  <tbody>\n",
       "    <tr>\n",
       "      <th>96b5e709-bb8a-46de-ac82-245be25dac29</th>\n",
       "      <td>2022-06-30</td>\n",
       "      <td>2022-06-30 21:40:32.401</td>\n",
       "      <td>2d718142-9be7-4975-a669-ba022fd8fd48</td>\n",
       "      <td>[{'id': 'http_context', '_type': 'HttpContext'...</td>\n",
       "      <td>[{'id': 'home', '_type': 'RootLocationContext'...</td>\n",
       "      <td>VisibleEvent</td>\n",
       "      <td>[AbstractEvent, NonInteractiveEvent, VisibleEv...</td>\n",
       "      <td>872</td>\n",
       "      <td>3</td>\n",
       "    </tr>\n",
       "    <tr>\n",
       "      <th>252d7d87-5600-4d90-b24f-2a6fb8986c5e</th>\n",
       "      <td>2022-06-30</td>\n",
       "      <td>2022-06-30 21:40:30.117</td>\n",
       "      <td>2d718142-9be7-4975-a669-ba022fd8fd48</td>\n",
       "      <td>[{'id': 'http_context', '_type': 'HttpContext'...</td>\n",
       "      <td>[{'id': 'home', '_type': 'RootLocationContext'...</td>\n",
       "      <td>PressEvent</td>\n",
       "      <td>[AbstractEvent, InteractiveEvent, PressEvent]</td>\n",
       "      <td>872</td>\n",
       "      <td>2</td>\n",
       "    </tr>\n",
       "    <tr>\n",
       "      <th>157a3000-bbfc-42e0-b857-901bd578ea7c</th>\n",
       "      <td>2022-06-30</td>\n",
       "      <td>2022-06-30 21:40:16.908</td>\n",
       "      <td>2d718142-9be7-4975-a669-ba022fd8fd48</td>\n",
       "      <td>[{'id': 'http_context', '_type': 'HttpContext'...</td>\n",
       "      <td>[{'id': 'home', '_type': 'RootLocationContext'...</td>\n",
       "      <td>PressEvent</td>\n",
       "      <td>[AbstractEvent, InteractiveEvent, PressEvent]</td>\n",
       "      <td>872</td>\n",
       "      <td>1</td>\n",
       "    </tr>\n",
       "    <tr>\n",
       "      <th>8543f519-d3a4-4af6-89f5-cb04393944b8</th>\n",
       "      <td>2022-06-30</td>\n",
       "      <td>2022-06-30 20:43:50.962</td>\n",
       "      <td>bb127c9e-3067-4375-9c73-cb86be332660</td>\n",
       "      <td>[{'id': 'http_context', '_type': 'HttpContext'...</td>\n",
       "      <td>[{'id': 'home', '_type': 'RootLocationContext'...</td>\n",
       "      <td>MediaLoadEvent</td>\n",
       "      <td>[AbstractEvent, MediaEvent, MediaLoadEvent, No...</td>\n",
       "      <td>871</td>\n",
       "      <td>2</td>\n",
       "    </tr>\n",
       "    <tr>\n",
       "      <th>a0ad4364-57e0-4da9-a266-057744550cc2</th>\n",
       "      <td>2022-06-30</td>\n",
       "      <td>2022-06-30 20:43:49.820</td>\n",
       "      <td>bb127c9e-3067-4375-9c73-cb86be332660</td>\n",
       "      <td>[{'id': 'http_context', '_type': 'HttpContext'...</td>\n",
       "      <td>[{'id': 'home', '_type': 'RootLocationContext'...</td>\n",
       "      <td>ApplicationLoadedEvent</td>\n",
       "      <td>[AbstractEvent, ApplicationLoadedEvent, NonInt...</td>\n",
       "      <td>871</td>\n",
       "      <td>1</td>\n",
       "    </tr>\n",
       "  </tbody>\n",
       "</table>\n",
       "</div>"
      ],
      "text/plain": [
       "                                             day                  moment  \\\n",
       "event_id                                                                   \n",
       "96b5e709-bb8a-46de-ac82-245be25dac29  2022-06-30 2022-06-30 21:40:32.401   \n",
       "252d7d87-5600-4d90-b24f-2a6fb8986c5e  2022-06-30 2022-06-30 21:40:30.117   \n",
       "157a3000-bbfc-42e0-b857-901bd578ea7c  2022-06-30 2022-06-30 21:40:16.908   \n",
       "8543f519-d3a4-4af6-89f5-cb04393944b8  2022-06-30 2022-06-30 20:43:50.962   \n",
       "a0ad4364-57e0-4da9-a266-057744550cc2  2022-06-30 2022-06-30 20:43:49.820   \n",
       "\n",
       "                                                                   user_id  \\\n",
       "event_id                                                                     \n",
       "96b5e709-bb8a-46de-ac82-245be25dac29  2d718142-9be7-4975-a669-ba022fd8fd48   \n",
       "252d7d87-5600-4d90-b24f-2a6fb8986c5e  2d718142-9be7-4975-a669-ba022fd8fd48   \n",
       "157a3000-bbfc-42e0-b857-901bd578ea7c  2d718142-9be7-4975-a669-ba022fd8fd48   \n",
       "8543f519-d3a4-4af6-89f5-cb04393944b8  bb127c9e-3067-4375-9c73-cb86be332660   \n",
       "a0ad4364-57e0-4da9-a266-057744550cc2  bb127c9e-3067-4375-9c73-cb86be332660   \n",
       "\n",
       "                                                                        global_contexts  \\\n",
       "event_id                                                                                  \n",
       "96b5e709-bb8a-46de-ac82-245be25dac29  [{'id': 'http_context', '_type': 'HttpContext'...   \n",
       "252d7d87-5600-4d90-b24f-2a6fb8986c5e  [{'id': 'http_context', '_type': 'HttpContext'...   \n",
       "157a3000-bbfc-42e0-b857-901bd578ea7c  [{'id': 'http_context', '_type': 'HttpContext'...   \n",
       "8543f519-d3a4-4af6-89f5-cb04393944b8  [{'id': 'http_context', '_type': 'HttpContext'...   \n",
       "a0ad4364-57e0-4da9-a266-057744550cc2  [{'id': 'http_context', '_type': 'HttpContext'...   \n",
       "\n",
       "                                                                         location_stack  \\\n",
       "event_id                                                                                  \n",
       "96b5e709-bb8a-46de-ac82-245be25dac29  [{'id': 'home', '_type': 'RootLocationContext'...   \n",
       "252d7d87-5600-4d90-b24f-2a6fb8986c5e  [{'id': 'home', '_type': 'RootLocationContext'...   \n",
       "157a3000-bbfc-42e0-b857-901bd578ea7c  [{'id': 'home', '_type': 'RootLocationContext'...   \n",
       "8543f519-d3a4-4af6-89f5-cb04393944b8  [{'id': 'home', '_type': 'RootLocationContext'...   \n",
       "a0ad4364-57e0-4da9-a266-057744550cc2  [{'id': 'home', '_type': 'RootLocationContext'...   \n",
       "\n",
       "                                                  event_type  \\\n",
       "event_id                                                       \n",
       "96b5e709-bb8a-46de-ac82-245be25dac29            VisibleEvent   \n",
       "252d7d87-5600-4d90-b24f-2a6fb8986c5e              PressEvent   \n",
       "157a3000-bbfc-42e0-b857-901bd578ea7c              PressEvent   \n",
       "8543f519-d3a4-4af6-89f5-cb04393944b8          MediaLoadEvent   \n",
       "a0ad4364-57e0-4da9-a266-057744550cc2  ApplicationLoadedEvent   \n",
       "\n",
       "                                                                      stack_event_types  \\\n",
       "event_id                                                                                  \n",
       "96b5e709-bb8a-46de-ac82-245be25dac29  [AbstractEvent, NonInteractiveEvent, VisibleEv...   \n",
       "252d7d87-5600-4d90-b24f-2a6fb8986c5e      [AbstractEvent, InteractiveEvent, PressEvent]   \n",
       "157a3000-bbfc-42e0-b857-901bd578ea7c      [AbstractEvent, InteractiveEvent, PressEvent]   \n",
       "8543f519-d3a4-4af6-89f5-cb04393944b8  [AbstractEvent, MediaEvent, MediaLoadEvent, No...   \n",
       "a0ad4364-57e0-4da9-a266-057744550cc2  [AbstractEvent, ApplicationLoadedEvent, NonInt...   \n",
       "\n",
       "                                      session_id  session_hit_number  \n",
       "event_id                                                              \n",
       "96b5e709-bb8a-46de-ac82-245be25dac29         872                   3  \n",
       "252d7d87-5600-4d90-b24f-2a6fb8986c5e         872                   2  \n",
       "157a3000-bbfc-42e0-b857-901bd578ea7c         872                   1  \n",
       "8543f519-d3a4-4af6-89f5-cb04393944b8         871                   2  \n",
       "a0ad4364-57e0-4da9-a266-057744550cc2         871                   1  "
      ]
     },
     "execution_count": 3,
     "metadata": {},
     "output_type": "execute_result"
    }
   ],
   "source": [
    "# have a look at the event data, sorted by the user's session ID & hit\n",
    "df.sort_values(['session_id', 'session_hit_number'], ascending=False).head()"
   ]
  },
  {
   "cell_type": "markdown",
   "id": "11ba083e",
   "metadata": {},
   "source": [
    "### Reference\n",
    "* [bach.DataFrame.sort_values](https://objectiv.io/docs/modeling/bach/api-reference/DataFrame/sort_values/)\n",
    "* [bach.DataFrame.head](https://objectiv.io/docs/modeling/bach/api-reference/DataFrame/head/)"
   ]
  },
  {
   "cell_type": "markdown",
   "id": "4af54249-0722-47a7-8b3d-fd2708935e1f",
   "metadata": {},
   "source": [
    "## Understanding the columns"
   ]
  },
  {
   "cell_type": "code",
   "execution_count": null,
   "id": "027d7433-a68d-494a-a5ff-218cb8d29b40",
   "metadata": {},
   "outputs": [],
   "source": [
    "# see the data type for each column\n",
    "df.dtypes"
   ]
  },
  {
   "cell_type": "markdown",
   "id": "f00178f6",
   "metadata": {},
   "source": [
    "### Reference\n",
    "* [bach.DataFrame.dtypes](https://objectiv.io/docs/modeling/bach/api-reference/DataFrame/dtypes/)"
   ]
  },
  {
   "cell_type": "markdown",
   "id": "9a8e5561-c497-49c3-a917-a93a4cbd3edc",
   "metadata": {},
   "source": [
    "What’s in these columns:\n",
    "\n",
    "* `day`: the day of the session as a date.\n",
    "* `moment`: the exact moment of the event as a timestamp.\n",
    "* `user_id`: the unique identifier of the user, based on the cookie.\n",
    "* `global_contexts`: a JSON-like column that stores additional global information on the event that is logged, such as device, application, cookie, etcetera. [See the open taxonomy notebook](https://objectiv.io/docs/modeling/example-notebooks/open-taxonomy/) for more details.\n",
    "* `location_stack`: a JSON-like column that stores information on the UI location that the event was triggered. [See the open taxonomy notebook](https://objectiv.io/docs/modeling/example-notebooks/open-taxonomy/) for more details.\n",
    "* `event_type`: the type of event that is logged, e.g. a PressEvent.\n",
    "* `stack_event_types`: the parents of the event_type as a hierarchical JSON structure.\n",
    "* `session_id`: a unique incremented integer ID for each session. Starts at 1 for the selected data in the DataFrame.\n",
    "* `session_hit_number`: an incremented integer ID for each hit in the session, ordered by moment."
   ]
  },
  {
   "cell_type": "markdown",
   "id": "0bfe2546",
   "metadata": {},
   "source": [
    "### Reference\n",
    "For a more detailed understanding of Objectiv events in general, and especially the global_contexts and location_stack data columns, see the open analytics taxonomy documentation:\n",
    "\n",
    "* [Events](https://objectiv.io/docs/taxonomy/events).\n",
    "* [Global contexts](https://objectiv.io/docs/taxonomy/global-contexts).\n",
    "* [Location contexts](https://objectiv.io/docs/taxonomy/location-contexts)."
   ]
  },
  {
   "cell_type": "markdown",
   "id": "687e20f8-77e5-4e1e-aa69-7ab384ddd762",
   "metadata": {},
   "source": [
    "## Your first Objectiv event data\n",
    "Before we dig any deeper, let’s take a more global look at the data Objectiv is now tracking in your product. An easy way to do this, is by looking at it from the [‘root locations’](https://objectiv.io/docs/taxonomy/reference/location-contexts/RootLocationContext); the main sections in your product’s UI.\n",
    "\n",
    "First, we want to extract data from the `global_contexts` and `location_stack` columns that contain all relevant context about the event. [See the open taxonomy notebook](https://objectiv.io/docs/modeling/example-notebooks/open-taxonomy/) for more details."
   ]
  },
  {
   "cell_type": "code",
   "execution_count": null,
   "id": "ae539d54-bb7d-42ce-94ac-cd52d4179310",
   "metadata": {},
   "outputs": [],
   "source": [
    "# add specific contexts to the data as columns\n",
    "df['application'] = df.global_contexts.gc.application\n",
    "df['root_location'] = df.location_stack.ls.get_from_context_with_type_series(type='RootLocationContext', key='id')\n",
    "df['path'] = df.global_contexts.gc.get_from_context_with_type_series(type='PathContext', key='id')"
   ]
  },
  {
   "cell_type": "code",
   "execution_count": null,
   "id": "2f442985-f622-404d-8943-30a6f3ac511d",
   "metadata": {
    "scrolled": false
   },
   "outputs": [],
   "source": [
    "# now easily slice the data using the added context columns\n",
    "event_data = modelhub.agg.unique_users(df, groupby=['application', 'root_location', 'path', 'event_type'])\n",
    "event_data.sort_values(ascending=False).to_frame().head(20)"
   ]
  },
  {
   "cell_type": "markdown",
   "id": "2ede5aa1",
   "metadata": {},
   "source": [
    "### Reference\n",
    "* [modelhub.SeriesGlobalContexts.gc](https://objectiv.io/docs/modeling/open-model-hub/api-reference/SeriesGlobalContexts/gc/)\n",
    "* [modelhub.SeriesLocationStack.ls](https://objectiv.io/docs/modeling/open-model-hub/api-reference/SeriesLocationStack/ls/)\n",
    "* [modelhub.Aggregate.unique_users](https://objectiv.io/docs/modeling/open-model-hub/models/aggregation/unique_users/)\n",
    "* [bach.DataFrame.sort_values](https://objectiv.io/docs/modeling/bach/api-reference/DataFrame/sort_values/)\n",
    "* [bach.Series.to_frame](https://objectiv.io/docs/modeling/bach/api-reference/Series/to_frame/)"
   ]
  },
  {
   "cell_type": "markdown",
   "id": "a1b3f9b1",
   "metadata": {},
   "source": [
    "## Understanding product features"
   ]
  },
  {
   "cell_type": "markdown",
   "id": "d6162142-2cf3-41b8-9f0f-4a7b51e614d8",
   "metadata": {},
   "source": [
    "For every event, Objectiv captures where it occurred in your product’s UI, using a hierarchical stack of [LocationContexts](https://objectiv.io/docs/taxonomy/location-contexts). This means you can easily slice the data on any part of the UI that you’re interested in. [See the open taxonomy notebook](https://objectiv.io/docs/modeling/example-notebooks/open-taxonomy/) for more details. It also means you can make product features very readable and easy to understand; see below how."
   ]
  },
  {
   "cell_type": "code",
   "execution_count": null,
   "id": "4e130b67",
   "metadata": {},
   "outputs": [],
   "source": [
    "# add a readable product feature name to the dataframe as a column\n",
    "df['feature_nice_name'] = df.location_stack.ls.nice_name"
   ]
  },
  {
   "cell_type": "code",
   "execution_count": null,
   "id": "3c4ad65e",
   "metadata": {},
   "outputs": [],
   "source": [
    "# now easily look at the data by product feature\n",
    "product_feature_data = modelhub.agg.unique_users(df, groupby=['feature_nice_name', 'event_type'])\n",
    "product_feature_data.sort_values(ascending=False).to_frame().head(20)"
   ]
  },
  {
   "cell_type": "markdown",
   "id": "5361811a",
   "metadata": {},
   "source": [
    "### Reference\n",
    "* [modelhub.SeriesLocationStack.ls](https://objectiv.io/docs/modeling/open-model-hub/api-reference/SeriesLocationStack/ls/)\n",
    "* [modelhub.Aggregate.unique_users](https://objectiv.io/docs/modeling/open-model-hub/models/aggregation/unique_users/)\n",
    "* [bach.DataFrame.sort_values](https://objectiv.io/docs/modeling/bach/api-reference/DataFrame/sort_values/)\n",
    "* [bach.Series.to_frame](https://objectiv.io/docs/modeling/bach/api-reference/Series/to_frame/)\n",
    "* [bach.DataFrame.head](https://objectiv.io/docs/modeling/bach/api-reference/DataFrame/head/)"
   ]
  },
  {
   "cell_type": "markdown",
   "id": "c4b5b4d2-d72b-4f10-9702-afe22015b74f",
   "metadata": {},
   "source": [
    "## Get the SQL for any analysis"
   ]
  },
  {
   "cell_type": "markdown",
   "id": "97bf03d0",
   "metadata": {},
   "source": [
    "Any dataframe or model built with Bach can be converted to an SQL statement with a single command to use directly in production."
   ]
  },
  {
   "cell_type": "code",
   "execution_count": null,
   "id": "3503632c-bd17-462f-a7e2-9b27a390c673",
   "metadata": {},
   "outputs": [],
   "source": [
    "# show the underlying SQL for this dataframe - works for any dataframe/model in Objectiv\n",
    "display_sql_as_markdown(product_feature_data)"
   ]
  },
  {
   "cell_type": "markdown",
   "id": "a6f1c079-659f-4d00-82e2-d05f40252281",
   "metadata": {},
   "source": [
    "## Where to go next\n",
    "Now that you’ve had a first look at your new data collected with Objectiv, the best next step is to see the [basic product analytics example notebook](basic-product-analytics.ipynb). It shows you to how to easily get product analytics metrics straight from your raw Objectiv data."
   ]
  }
 ],
 "metadata": {
  "kernelspec": {
   "display_name": "Python 3 (ipykernel)",
   "language": "python",
   "name": "python3"
  },
  "language_info": {
   "codemirror_mode": {
    "name": "ipython",
    "version": 3
   },
   "file_extension": ".py",
   "mimetype": "text/x-python",
   "name": "python",
   "nbconvert_exporter": "python",
   "pygments_lexer": "ipython3",
   "version": "3.8.10"
  }
 },
 "nbformat": 4,
 "nbformat_minor": 5
}
