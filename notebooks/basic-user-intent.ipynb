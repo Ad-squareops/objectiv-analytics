{
 "cells": [
  {
   "cell_type": "markdown",
   "id": "afb5dddf",
   "metadata": {},
   "source": [
    "This is one of the Objectiv example notebooks. For more examples visit the \n",
    "[example notebooks](https://objectiv.io/docs/modeling/example_notebooks/) section of our docs. The notebooks can run with the demo data set that comes with the our [quickstart](https://objectiv.io/docs/home/quickstart-guide/), but can be used to run on your own collected data as well.\n",
    "\n",
    "All example notebooks are also available in our [quickstart](https://objectiv.io/docs/home/quickstart-guide/). With the quickstart you can spin up a fully functional Objectiv demo pipeline in five minutes. This also allows you to run these notebooks and experiment with them on a demo data set."
   ]
  },
  {
   "cell_type": "markdown",
   "id": "990f0ae2-48cd-4220-8960-844af284fcce",
   "metadata": {},
   "source": [
    "# Basic user intent analysis"
   ]
  },
  {
   "cell_type": "markdown",
   "id": "fc19e049-754f-4c0e-8a5a-0ff89bdb7724",
   "metadata": {},
   "source": [
    "In this notebook, we briefly demonstrate how you can easily do basic user intent analysis on your data."
   ]
  },
  {
   "cell_type": "markdown",
   "id": "277e303e",
   "metadata": {},
   "source": [
    "## Getting started"
   ]
  },
  {
   "cell_type": "markdown",
   "id": "96aeea32",
   "metadata": {},
   "source": [
    "### Import the required packages for this notebook\n",
    "The open model hub package can be installed with `pip install objectiv-modelhub` (this installs Bach as well).  \n",
    "If you are running this notebook from our quickstart, the model hub and Bach are already installed, so you don't have to install it separately."
   ]
  },
  {
   "cell_type": "code",
   "execution_count": 20,
   "id": "4bd369f6",
   "metadata": {},
   "outputs": [],
   "source": [
    "from modelhub import ModelHub\n",
    "from bach import display_sql_as_markdown\n",
    "import bach\n",
    "import pandas as pd \n",
    "from datetime import timedelta"
   ]
  },
  {
   "cell_type": "markdown",
   "id": "765624df",
   "metadata": {},
   "source": [
    "At first we have to instantiate the Objectiv DataFrame object and the model hub."
   ]
  },
  {
   "cell_type": "code",
   "execution_count": 21,
   "id": "da4ec1a0",
   "metadata": {},
   "outputs": [],
   "source": [
    "# instantiate the model hub\n",
    "modelhub = ModelHub(time_aggregation='YYYY-MM-DD')\n",
    "\n",
    "# get the Bach DataFrame with Objectiv data\n",
    "df = modelhub.get_objectiv_dataframe(start_date='2022-02-02')"
   ]
  },
  {
   "cell_type": "markdown",
   "id": "a1b3f9b1",
   "metadata": {},
   "source": [
    "The columns 'global_contexts' and the 'location_stack' contain most of the event specific data. These columns\n",
    "are json type columns and we can extract data from it based on the keys of the json objects using `SeriesGlobalContexts` or `SeriesGlobalContexts` methods to extract the data."
   ]
  },
  {
   "cell_type": "code",
   "execution_count": 22,
   "id": "4e130b67",
   "metadata": {},
   "outputs": [],
   "source": [
    "# adding specific contexts to the data\n",
    "df['application'] = df.global_contexts.gc.application\n",
    "df['root_location'] = df.location_stack.ls.get_from_context_with_type_series(type='RootLocationContext', key='id')"
   ]
  },
  {
   "cell_type": "markdown",
   "id": "03bfa810",
   "metadata": {},
   "source": [
    "## Exploring root location\n",
    "The `root_location` context in the `location_stack` uniquely represents the top-level UI location of the user. As a first step of grasping user internt, this is a good starting point to see in what main areas of your product users are spending time."
   ]
  },
  {
   "cell_type": "code",
   "execution_count": 23,
   "id": "08ad4e39",
   "metadata": {},
   "outputs": [
    {
     "data": {
      "text/plain": [
       "application       root_location\n",
       "objectiv-docs     docs             349\n",
       "                  home             167\n",
       "                  modeling         205\n",
       "                  taxonomy         105\n",
       "                  tracking         217\n",
       "                  NaN               51\n",
       "objectiv-website  about            202\n",
       "                  blog             390\n",
       "                  home             713\n",
       "                  jobs             177\n",
       "Name: unique_users, dtype: int64"
      ]
     },
     "execution_count": 23,
     "metadata": {},
     "output_type": "execute_result"
    }
   ],
   "source": [
    "# model hub: unique users per root location\n",
    "users_root = modelhub.aggregate.unique_users(df, groupby=['application','root_location'])\n",
    "users_root.head(10)"
   ]
  },
  {
   "cell_type": "markdown",
   "id": "0bd73ca7-5e52-4484-b88d-a7a41d63adcb",
   "metadata": {},
   "source": [
    "## Exploring session duration\n",
    "The average `session_duration` model from the [open model hub](https://objectiv.io/docs/modeling/) is another good pointer to explore first for user intent."
   ]
  },
  {
   "cell_type": "code",
   "execution_count": 24,
   "id": "ec9657db-fb10-4e96-9eb0-9cb16437cade",
   "metadata": {},
   "outputs": [
    {
     "data": {
      "text/plain": [
       "application       root_location\n",
       "objectiv-docs     docs            0 days 00:07:10.198819\n",
       "                  home            0 days 00:06:47.658310\n",
       "                  modeling        0 days 00:08:07.080317\n",
       "                  taxonomy        0 days 00:08:05.581182\n",
       "                  tracking        0 days 00:06:04.432021\n",
       "                  NaN             0 days 00:05:37.044739\n",
       "objectiv-website  about           0 days 00:03:07.623953\n",
       "                  blog            0 days 00:03:58.400109\n",
       "                  home            0 days 00:06:21.426541\n",
       "                  jobs            0 days 00:02:26.013513\n",
       "Name: session_duration, dtype: timedelta64[ns]"
      ]
     },
     "execution_count": 24,
     "metadata": {},
     "output_type": "execute_result"
    }
   ],
   "source": [
    "# model hub: duration, per root location\n",
    "duration_root = modelhub.aggregate.session_duration(df, groupby=['application', 'root_location']).sort_index()\n",
    "duration_root.head(10)"
   ]
  },
  {
   "cell_type": "code",
   "execution_count": 25,
   "id": "6504ff90-1b68-4ef2-b7ec-61c9895d5511",
   "metadata": {},
   "outputs": [
    {
     "data": {
      "text/plain": [
       "quantile\n",
       "0.1   0 days 00:00:00.615600\n",
       "0.2   0 days 00:00:01.299200\n",
       "0.3   0 days 00:00:03.748400\n",
       "0.4   0 days 00:00:19.432400\n",
       "0.5   0 days 00:01:05.058000\n",
       "0.6   0 days 00:02:46.672000\n",
       "0.7   0 days 00:03:25.927800\n",
       "0.8   0 days 00:07:40.631800\n",
       "0.9   0 days 00:21:47.009000\n",
       "Name: session_duration, dtype: timedelta64[ns]"
      ]
     },
     "execution_count": 25,
     "metadata": {},
     "output_type": "execute_result"
    }
   ],
   "source": [
    "# how is this time spent distributed?\n",
    "session_duration = modelhub.aggregate.session_duration(df, groupby='session_id')\n",
    "\n",
    "# materialization is needed because the expression of the created series contains aggregated data, and it is not allowed to aggregate that.\n",
    "session_duration.to_frame().materialize()['session_duration'].quantile(q=[0.1, 0.2, 0.3, 0.4, 0.5, 0.6, 0.7, 0.8, 0.9]).head(10)"
   ]
  },
  {
   "cell_type": "markdown",
   "id": "aaa5a8f8-a7d4-4d50-b096-6af94421d802",
   "metadata": {},
   "source": [
    "## Defining different stages of user intent\n",
    "After exploring the `root_location` and `session_duration`, we can make a simple definition of different stages of user intent.\n",
    "\n",
    "Based on the objectiv.io website data in the quickstart, we could define them as:\n",
    "\n",
    "| User intent | Root locations | Duration |\n",
    "| :--- | :--- | : --- |\n",
    "| 1 - Inform | home, blog, about | less than 2 minutes |\n",
    "| 2 - Explore | modeling, taxonomy, tracking | between 2 and 20 minutes |\n",
    "| 3 - Implement | modeling, taxonomy, tracking | more than 20 minutes | \n",
    "\n",
    "This is just for illustration purposes, you can adjust these definitions based on your own collected data. "
   ]
  },
  {
   "cell_type": "markdown",
   "id": "9fcd02ca-a9d4-4abe-96c9-c91ff167eb5d",
   "metadata": {},
   "source": [
    "## Assigning user intent\n",
    "Based on the simple definitions above, we can start assigning a stage of intent to each user. We do this per timeframe (in this case monthly), as users can progress from one stage to the next over time."
   ]
  },
  {
   "cell_type": "code",
   "execution_count": 26,
   "id": "2a06f91b-eb76-4789-8014-eb146cfe08e2",
   "metadata": {},
   "outputs": [
    {
     "data": {
      "text/plain": [
       "user_id                               time_aggregation\n",
       "ffc42c2e-7db3-488f-a4ae-3e6452c5050b  2022-02            0 days 00:00:33.013500\n",
       "ffc233df-022a-4567-b74a-631b23c45dfc  2022-02            0 days 00:02:01.376000\n",
       "ffc0ba50-9146-438c-bac3-38faa7183dda  2022-04            0 days 00:00:33.219000\n",
       "ff9c6d4b-06f6-46b1-ae8d-06854e9112c3  2022-01            0 days 00:03:42.328000\n",
       "ff65c618-588f-4607-ad4e-440f58871129  2022-01            0 days 00:03:20.055000\n",
       "ff48d79a-195a-476a-b49d-0e212de43c96  2022-04            0 days 00:01:10.978333\n",
       "                                      2022-03            0 days 00:00:57.196500\n",
       "                                      2022-02            0 days 00:00:00.661667\n",
       "                                      2022-01            0 days 00:00:33.684000\n",
       "ff33827e-671b-41c3-a6d4-6e13838c4e3a  2022-03            0 days 00:03:08.289000\n",
       "Name: session_duration, dtype: timedelta64[ns]"
      ]
     },
     "execution_count": 26,
     "metadata": {},
     "output_type": "execute_result"
    }
   ],
   "source": [
    "# model hub: calculate average session duration per user, monthly\n",
    "user_duration = modelhub.aggregate.session_duration(df, groupby=['user_id', modelhub.time_agg(df, 'YYYY-MM')])\n",
    "user_duration.sort_index(ascending=False).head(10)"
   ]
  },
  {
   "cell_type": "code",
   "execution_count": 27,
   "id": "c9e65fec-0c13-423f-8dba-5124823e5477",
   "metadata": {},
   "outputs": [
    {
     "data": {
      "text/plain": [
       "user_id                               application       root_location  time_aggregation\n",
       "ffc42c2e-7db3-488f-a4ae-3e6452c5050b  objectiv-docs     docs           2022-02            0 days 00:00:03.434000\n",
       "ffc233df-022a-4567-b74a-631b23c45dfc  objectiv-website  home           2022-02            0 days 00:02:01.376000\n",
       "ffc0ba50-9146-438c-bac3-38faa7183dda  objectiv-website  home           2022-04            0 days 00:00:33.219000\n",
       "ff9c6d4b-06f6-46b1-ae8d-06854e9112c3  objectiv-docs     NaN            2022-01            0 days 00:03:42.328000\n",
       "ff65c618-588f-4607-ad4e-440f58871129  objectiv-docs     NaN            2022-01            0 days 00:03:20.055000\n",
       "ff48d79a-195a-476a-b49d-0e212de43c96  objectiv-website  home           2022-04            0 days 00:01:10.978333\n",
       "                                                                       2022-03            0 days 00:00:56.477500\n",
       "                                                                       2022-02            0 days 00:00:00.638500\n",
       "                                                                       2022-01            0 days 00:00:33.684000\n",
       "                                                        blog           2022-02            0 days 00:00:00.708000\n",
       "Name: session_duration, dtype: timedelta64[ns]"
      ]
     },
     "execution_count": 27,
     "metadata": {},
     "output_type": "execute_result"
    }
   ],
   "source": [
    "# model hub: calculate average session duration per user, per root location, monthly\n",
    "user_root_duration = modelhub.aggregate.session_duration(df, groupby=['user_id', 'application', 'root_location', modelhub.time_agg(df, 'YYYY-MM')])\n",
    "user_root_duration.sort_index(ascending=False).head(10)"
   ]
  },
  {
   "cell_type": "code",
   "execution_count": 28,
   "id": "e56216a8-8263-4040-bfe4-f80223ca6017",
   "metadata": {},
   "outputs": [
    {
     "data": {
      "text/html": [
       "<div>\n",
       "<style scoped>\n",
       "    .dataframe tbody tr th:only-of-type {\n",
       "        vertical-align: middle;\n",
       "    }\n",
       "\n",
       "    .dataframe tbody tr th {\n",
       "        vertical-align: top;\n",
       "    }\n",
       "\n",
       "    .dataframe thead tr th {\n",
       "        text-align: left;\n",
       "    }\n",
       "\n",
       "    .dataframe thead tr:last-of-type th {\n",
       "        text-align: right;\n",
       "    }\n",
       "</style>\n",
       "<table border=\"1\" class=\"dataframe\">\n",
       "  <thead>\n",
       "    <tr>\n",
       "      <th></th>\n",
       "      <th>root_location</th>\n",
       "      <th colspan=\"2\" halign=\"left\">session_duration</th>\n",
       "      <th>user_id</th>\n",
       "    </tr>\n",
       "    <tr>\n",
       "      <th></th>\n",
       "      <th>unique</th>\n",
       "      <th>min</th>\n",
       "      <th>max</th>\n",
       "      <th>nunique</th>\n",
       "    </tr>\n",
       "    <tr>\n",
       "      <th>bucket</th>\n",
       "      <th></th>\n",
       "      <th></th>\n",
       "      <th></th>\n",
       "      <th></th>\n",
       "    </tr>\n",
       "  </thead>\n",
       "  <tbody>\n",
       "    <tr>\n",
       "      <th>1 - inform</th>\n",
       "      <td>[about, home, blog]</td>\n",
       "      <td>0 days 00:00:00.001000</td>\n",
       "      <td>0 days 00:01:59.692000</td>\n",
       "      <td>652</td>\n",
       "    </tr>\n",
       "    <tr>\n",
       "      <th>2 - explore</th>\n",
       "      <td>[modeling, home, taxonomy, blog, tracking, about]</td>\n",
       "      <td>0 days 00:02:00.367000</td>\n",
       "      <td>0 days 00:19:30.948000</td>\n",
       "      <td>368</td>\n",
       "    </tr>\n",
       "    <tr>\n",
       "      <th>3 - implement</th>\n",
       "      <td>[about, home, taxonomy, blog, tracking, modeling]</td>\n",
       "      <td>0 days 00:20:11.870000</td>\n",
       "      <td>0 days 00:59:43.205000</td>\n",
       "      <td>36</td>\n",
       "    </tr>\n",
       "  </tbody>\n",
       "</table>\n",
       "</div>"
      ],
      "text/plain": [
       "                                                   root_location  \\\n",
       "                                                          unique   \n",
       "bucket                                                             \n",
       "1 - inform                                   [about, home, blog]   \n",
       "2 - explore    [modeling, home, taxonomy, blog, tracking, about]   \n",
       "3 - implement  [about, home, taxonomy, blog, tracking, modeling]   \n",
       "\n",
       "                    session_duration                        user_id  \n",
       "                                 min                    max nunique  \n",
       "bucket                                                               \n",
       "1 - inform    0 days 00:00:00.001000 0 days 00:01:59.692000     652  \n",
       "2 - explore   0 days 00:02:00.367000 0 days 00:19:30.948000     368  \n",
       "3 - implement 0 days 00:20:11.870000 0 days 00:59:43.205000      36  "
      ]
     },
     "execution_count": 28,
     "metadata": {},
     "output_type": "execute_result"
    }
   ],
   "source": [
    "# assign user intent according to the defintions above\n",
    "user_root_duration_f = user_root_duration.to_frame().reset_index()\n",
    "\n",
    "roots = bach.DataFrame.from_pandas(engine=df.engine, df=pd.DataFrame({'roots':['home','blog','about']}), convert_objects=True).roots\n",
    "roots2 = bach.DataFrame.from_pandas(engine=df.engine, df=pd.DataFrame({'roots':['modeling','taxonomy', 'tracking']}), convert_objects=True).roots\n",
    "\n",
    "inform = user_root_duration_f[(user_root_duration_f.root_location.isin(roots)) &\n",
    "                              (user_root_duration_f.session_duration < timedelta(0,120))]\n",
    "\n",
    "explore = user_root_duration_f[(((user_root_duration_f.root_location.isin(roots))) | \n",
    "                                ((user_root_duration_f.root_location.isin(roots2)))) &\n",
    "                               (user_root_duration_f.session_duration >= timedelta(0,120)) &\n",
    "                               (user_root_duration_f.session_duration <= timedelta(0,1200))]\n",
    "\n",
    "implement = user_root_duration_f[(((user_root_duration_f.root_location.isin(roots))) | \n",
    "                                  ((user_root_duration_f.root_location.isin(roots2)))) &\n",
    "                                 (user_root_duration_f.session_duration > timedelta(0,1200))]\n",
    "\n",
    "inform['bucket'] = '1 - inform'\n",
    "explore['bucket'] = '2 - explore'\n",
    "implement['bucket'] = '3 - implement'\n",
    "\n",
    "results = inform.append(implement).append(explore)\n",
    "\n",
    "# total number of users per intent\n",
    "results.to_pandas().groupby(['bucket']).agg({'root_location':'unique','session_duration':['min','max'],'user_id':'nunique'})"
   ]
  },
  {
   "cell_type": "code",
   "execution_count": 31,
   "id": "68a361b6-df97-4f5a-8ce7-c296596e76cf",
   "metadata": {},
   "outputs": [
    {
     "data": {
      "text/html": [
       "<div>\n",
       "<style scoped>\n",
       "    .dataframe tbody tr th:only-of-type {\n",
       "        vertical-align: middle;\n",
       "    }\n",
       "\n",
       "    .dataframe tbody tr th {\n",
       "        vertical-align: top;\n",
       "    }\n",
       "\n",
       "    .dataframe thead th {\n",
       "        text-align: right;\n",
       "    }\n",
       "</style>\n",
       "<table border=\"1\" class=\"dataframe\">\n",
       "  <thead>\n",
       "    <tr style=\"text-align: right;\">\n",
       "      <th></th>\n",
       "      <th></th>\n",
       "      <th>user_id</th>\n",
       "    </tr>\n",
       "    <tr>\n",
       "      <th>bucket</th>\n",
       "      <th>time_aggregation</th>\n",
       "      <th></th>\n",
       "    </tr>\n",
       "  </thead>\n",
       "  <tbody>\n",
       "    <tr>\n",
       "      <th rowspan=\"4\" valign=\"top\">1 - inform</th>\n",
       "      <th>2022-01</th>\n",
       "      <td>17</td>\n",
       "    </tr>\n",
       "    <tr>\n",
       "      <th>2022-02</th>\n",
       "      <td>370</td>\n",
       "    </tr>\n",
       "    <tr>\n",
       "      <th>2022-03</th>\n",
       "      <td>230</td>\n",
       "    </tr>\n",
       "    <tr>\n",
       "      <th>2022-04</th>\n",
       "      <td>85</td>\n",
       "    </tr>\n",
       "    <tr>\n",
       "      <th rowspan=\"4\" valign=\"top\">2 - explore</th>\n",
       "      <th>2022-01</th>\n",
       "      <td>20</td>\n",
       "    </tr>\n",
       "    <tr>\n",
       "      <th>2022-02</th>\n",
       "      <td>146</td>\n",
       "    </tr>\n",
       "    <tr>\n",
       "      <th>2022-03</th>\n",
       "      <td>152</td>\n",
       "    </tr>\n",
       "    <tr>\n",
       "      <th>2022-04</th>\n",
       "      <td>80</td>\n",
       "    </tr>\n",
       "    <tr>\n",
       "      <th rowspan=\"4\" valign=\"top\">3 - implement</th>\n",
       "      <th>2022-01</th>\n",
       "      <td>4</td>\n",
       "    </tr>\n",
       "    <tr>\n",
       "      <th>2022-02</th>\n",
       "      <td>19</td>\n",
       "    </tr>\n",
       "    <tr>\n",
       "      <th>2022-03</th>\n",
       "      <td>10</td>\n",
       "    </tr>\n",
       "    <tr>\n",
       "      <th>2022-04</th>\n",
       "      <td>9</td>\n",
       "    </tr>\n",
       "  </tbody>\n",
       "</table>\n",
       "</div>"
      ],
      "text/plain": [
       "                                user_id\n",
       "bucket        time_aggregation         \n",
       "1 - inform    2022-01                17\n",
       "              2022-02               370\n",
       "              2022-03               230\n",
       "              2022-04                85\n",
       "2 - explore   2022-01                20\n",
       "              2022-02               146\n",
       "              2022-03               152\n",
       "              2022-04                80\n",
       "3 - implement 2022-01                 4\n",
       "              2022-02                19\n",
       "              2022-03                10\n",
       "              2022-04                 9"
      ]
     },
     "execution_count": 31,
     "metadata": {},
     "output_type": "execute_result"
    }
   ],
   "source": [
    "# user intent over time\n",
    "results.to_pandas().groupby(['bucket', 'time_aggregation']).agg({'user_id':'nunique'})"
   ]
  }
 ],
 "metadata": {
  "kernelspec": {
   "display_name": "Python 3 (ipykernel)",
   "language": "python",
   "name": "python3"
  },
  "language_info": {
   "codemirror_mode": {
    "name": "ipython",
    "version": 3
   },
   "file_extension": ".py",
   "mimetype": "text/x-python",
   "name": "python",
   "nbconvert_exporter": "python",
   "pygments_lexer": "ipython3",
   "version": "3.9.10"
  }
 },
 "nbformat": 4,
 "nbformat_minor": 5
}
