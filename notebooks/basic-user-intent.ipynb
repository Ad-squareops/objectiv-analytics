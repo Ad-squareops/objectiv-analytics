{
 "cells": [
  {
   "cell_type": "markdown",
   "id": "afb5dddf",
   "metadata": {},
   "source": [
    "This is one of the Objectiv example notebooks. For more examples visit the \n",
    "[example notebooks](https://objectiv.io/docs/modeling/example_notebooks/) section of our docs. The notebooks can run with the demo data set that comes with the our [quickstart](https://objectiv.io/docs/home/quickstart-guide/), but can be used to run on your own collected data as well.\n",
    "\n",
    "All example notebooks are also available in our [quickstart](https://objectiv.io/docs/home/quickstart-guide/). With the quickstart you can spin up a fully functional Objectiv demo pipeline in five minutes. This also allows you to run these notebooks and experiment with them on a demo data set."
   ]
  },
  {
   "cell_type": "markdown",
   "id": "990f0ae2-48cd-4220-8960-844af284fcce",
   "metadata": {},
   "source": [
    "# Basic user intent analysis"
   ]
  },
  {
   "cell_type": "markdown",
   "id": "fc19e049-754f-4c0e-8a5a-0ff89bdb7724",
   "metadata": {},
   "source": [
    "In this notebook, we briefly demonstrate how you can easily do basic user intent analysis on your data."
   ]
  },
  {
   "cell_type": "markdown",
   "id": "277e303e",
   "metadata": {},
   "source": [
    "## Getting started"
   ]
  },
  {
   "cell_type": "markdown",
   "id": "96aeea32",
   "metadata": {},
   "source": [
    "### Import the required packages for this notebook\n",
    "The open model hub package can be installed with `pip install objectiv-modelhub` (this installs Bach as well).  \n",
    "If you are running this notebook from our quickstart, the model hub and Bach are already installed, so you don't have to install it separately."
   ]
  },
  {
   "cell_type": "code",
   "execution_count": null,
   "id": "4bd369f6",
   "metadata": {},
   "outputs": [],
   "source": [
    "from modelhub import ModelHub\n",
    "from bach import display_sql_as_markdown\n",
    "import bach\n",
    "import pandas as pd \n",
    "from datetime import timedelta"
   ]
  },
  {
   "cell_type": "markdown",
   "id": "765624df",
   "metadata": {},
   "source": [
    "At first we have to instantiate the Objectiv DataFrame object and the model hub."
   ]
  },
  {
   "cell_type": "code",
   "execution_count": null,
   "id": "da4ec1a0",
   "metadata": {},
   "outputs": [],
   "source": [
    "# instantiate the model hub\n",
    "modelhub = ModelHub(time_aggregation='YYYY-MM-DD')\n",
    "\n",
    "# get the Bach DataFrame with Objectiv data\n",
    "df = modelhub.get_objectiv_dataframe(start_date='2022-02-02')"
   ]
  },
  {
   "cell_type": "markdown",
   "id": "a1b3f9b1",
   "metadata": {},
   "source": [
    "The columns 'global_contexts' and the 'location_stack' contain most of the event specific data. These columns\n",
    "are json type columns and we can extract data from it based on the keys of the json objects using `SeriesGlobalContexts` or `SeriesGlobalContexts` methods to extract the data."
   ]
  },
  {
   "cell_type": "code",
   "execution_count": null,
   "id": "4e130b67",
   "metadata": {},
   "outputs": [],
   "source": [
    "# adding specific contexts to the data\n",
    "df['application'] = df.global_contexts.gc.application\n",
    "df['root_location'] = df.location_stack.ls.get_from_context_with_type_series(type='RootLocationContext', key='id')"
   ]
  },
  {
   "cell_type": "markdown",
   "id": "03bfa810",
   "metadata": {},
   "source": [
    "## Exploring root location\n",
    "The `root_location` context in the `location_stack` uniquely represents the top-level UI location of the user. As a first step of grasping user internt, this is a good starting point to see in what main areas of your product users are spending time."
   ]
  },
  {
   "cell_type": "code",
   "execution_count": null,
   "id": "08ad4e39",
   "metadata": {},
   "outputs": [],
   "source": [
    "# model hub: unique users per root location\n",
    "users_root = modelhub.aggregate.unique_users(df, groupby=['application','root_location'])\n",
    "users_root.head(10)"
   ]
  },
  {
   "cell_type": "markdown",
   "id": "0bd73ca7-5e52-4484-b88d-a7a41d63adcb",
   "metadata": {},
   "source": [
    "## Exploring session duration\n",
    "The average `session_duration` model from the [open model hub](https://objectiv.io/docs/modeling/) is another good pointer to explore first for user intent."
   ]
  },
  {
   "cell_type": "code",
   "execution_count": null,
   "id": "ec9657db-fb10-4e96-9eb0-9cb16437cade",
   "metadata": {},
   "outputs": [],
   "source": [
    "# model hub: duration, per root location\n",
    "duration_root = modelhub.aggregate.session_duration(df, groupby=['application', 'root_location']).sort_index()\n",
    "duration_root.head(10)"
   ]
  },
  {
   "cell_type": "code",
   "execution_count": null,
   "id": "6504ff90-1b68-4ef2-b7ec-61c9895d5511",
   "metadata": {},
   "outputs": [],
   "source": [
    "# how is this time spent distributed?\n",
    "session_duration = modelhub.aggregate.session_duration(df, groupby='session_id')\n",
    "\n",
    "# materialization is needed because the expression of the created series contains aggregated data, and it is not allowed to aggregate that.\n",
    "session_duration.to_frame().materialize()['session_duration'].quantile(q=[0.1, 0.2, 0.3, 0.4, 0.5, 0.6, 0.7, 0.8, 0.9]).head(10)"
   ]
  },
  {
   "cell_type": "markdown",
   "id": "aaa5a8f8-a7d4-4d50-b096-6af94421d802",
   "metadata": {},
   "source": [
    "## Defining different stages of user intent\n",
    "After exploring the `root_location` and `session_duration`, we can make a simple definition of different stages of user intent.\n",
    "\n",
    "Based on the objectiv.io website data in the quickstart, we could define them as:\n",
    "\n",
    "| User intent | Root locations | Duration |\n",
    "| :--- | :--- | : --- |\n",
    "| 1 - Inform | home, blog, about | less than 2 minutes |\n",
    "| 2 - Explore | modeling, taxonomy, tracking | between 2 and 20 minutes |\n",
    "| 3 - Implement | modeling, taxonomy, tracking | more than 20 minutes | \n",
    "\n",
    "This is just for illustration purposes, you can adjust these definitions based on your own collected data. "
   ]
  },
  {
   "cell_type": "markdown",
   "id": "9fcd02ca-a9d4-4abe-96c9-c91ff167eb5d",
   "metadata": {},
   "source": [
    "## Assigning user intent\n",
    "Based on the simple definitions above, we can start assigning a stage of intent to each user. We do this per timeframe (in this case monthly), as users can progress from one stage to the next over time."
   ]
  },
  {
   "cell_type": "code",
   "execution_count": null,
   "id": "2a06f91b-eb76-4789-8014-eb146cfe08e2",
   "metadata": {},
   "outputs": [],
   "source": [
    "# model hub: calculate average session duration per user, monthly\n",
    "user_duration = modelhub.aggregate.session_duration(df, groupby=['user_id', modelhub.time_agg(df, 'YYYY-MM')])\n",
    "user_duration.sort_index(ascending=False).head(10)"
   ]
  },
  {
   "cell_type": "code",
   "execution_count": null,
   "id": "c9e65fec-0c13-423f-8dba-5124823e5477",
   "metadata": {},
   "outputs": [],
   "source": [
    "# model hub: calculate average session duration per user, per root location, monthly\n",
    "user_root_duration = modelhub.aggregate.session_duration(df, groupby=['user_id', 'application', 'root_location', modelhub.time_agg(df, 'YYYY-MM')])\n",
    "user_root_duration.sort_index(ascending=False).head(10)"
   ]
  },
  {
   "cell_type": "code",
   "execution_count": null,
   "id": "e56216a8-8263-4040-bfe4-f80223ca6017",
   "metadata": {},
   "outputs": [],
   "source": [
    "user_root_duration_f = user_root_duration.to_frame().reset_index()\n",
    "\n",
    "roots = bach.DataFrame.from_pandas(engine=df.engine, df=pd.DataFrame({'roots':['home','blog','about']}), convert_objects=True).roots\n",
    "roots2 = bach.DataFrame.from_pandas(engine=df.engine, df=pd.DataFrame({'roots':['modeling','taxonomy', 'tracking']}), convert_objects=True).roots\n",
    "\n",
    "inform = user_root_duration_f[(user_root_duration_f.root_location.isin(roots)) &\n",
    "                              (user_root_duration_f.session_duration < timedelta(0,120))]\n",
    "\n",
    "explore = user_root_duration_f[(((user_root_duration_f.root_location.isin(roots))) | \n",
    "                                ((user_root_duration_f.root_location.isin(roots2)))) &\n",
    "                               (user_root_duration_f.session_duration >= timedelta(0,120)) &\n",
    "                               (user_root_duration_f.session_duration <= timedelta(0,1200))]\n",
    "\n",
    "implement = user_root_duration_f[(((user_root_duration_f.root_location.isin(roots))) | \n",
    "                                  ((user_root_duration_f.root_location.isin(roots2)))) &\n",
    "                                 (user_root_duration_f.session_duration > timedelta(0,1200))]\n",
    "\n",
    "inform['bucket'] = '1 - inform'\n",
    "explore['bucket'] = '2 - explore'\n",
    "implement['bucket'] = '3 - implement'\n",
    "\n",
    "results = inform.append(implement).append(explore)\n",
    "\n",
    "results.to_pandas().groupby(['bucket']).agg({'root_location':'unique','session_duration':['min','max'],'user_id':'nunique'})"
   ]
  },
  {
   "cell_type": "code",
   "execution_count": null,
   "id": "68a361b6-df97-4f5a-8ce7-c296596e76cf",
   "metadata": {},
   "outputs": [],
   "source": []
  },
  {
   "cell_type": "code",
   "execution_count": null,
   "id": "2897f7b5-5047-4cdc-bf9d-4b2960470e8d",
   "metadata": {},
   "outputs": [],
   "source": []
  },
  {
   "cell_type": "code",
   "execution_count": null,
   "id": "4f10d564-272f-4644-bfed-376ac217ff9b",
   "metadata": {},
   "outputs": [],
   "source": []
  },
  {
   "cell_type": "code",
   "execution_count": null,
   "id": "ef8c4407-73f2-4ff6-9518-ceadd70f2d79",
   "metadata": {},
   "outputs": [],
   "source": []
  },
  {
   "cell_type": "code",
   "execution_count": null,
   "id": "4685c926-b740-49e7-9548-8376ac015067",
   "metadata": {},
   "outputs": [],
   "source": []
  }
 ],
 "metadata": {
  "kernelspec": {
   "display_name": "Python 3 (ipykernel)",
   "language": "python",
   "name": "python3"
  },
  "language_info": {
   "codemirror_mode": {
    "name": "ipython",
    "version": 3
   },
   "file_extension": ".py",
   "mimetype": "text/x-python",
   "name": "python",
   "nbconvert_exporter": "python",
   "pygments_lexer": "ipython3",
   "version": "3.9.10"
  }
 },
 "nbformat": 4,
 "nbformat_minor": 5
}
