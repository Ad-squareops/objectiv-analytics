{
 "cells": [
  {
   "cell_type": "markdown",
   "id": "afb5dddf",
   "metadata": {},
   "source": [
    "This is one of the Objectiv example notebooks. For more examples visit the \n",
    "[example notebooks](https://objectiv.io/docs/modeling/example_notebooks/) section of our docs. The notebooks can run with the demo data set that comes with the our [quickstart](https://objectiv.io/docs/home/quickstart-guide/), but can be used to run on your own collected data as well.\n",
    "\n",
    "All example notebooks are also available in our [quickstart](https://objectiv.io/docs/home/quickstart-guide/). With the quickstart you can spin up a fully functional Objectiv demo pipeline in five minutes. This also allows you to run these notebooks and experiment with them on a demo data set."
   ]
  },
  {
   "cell_type": "markdown",
   "id": "990f0ae2-48cd-4220-8960-844af284fcce",
   "metadata": {},
   "source": [
    "# Basic user intent analysis"
   ]
  },
  {
   "cell_type": "markdown",
   "id": "fc19e049-754f-4c0e-8a5a-0ff89bdb7724",
   "metadata": {},
   "source": [
    "In this notebook, we briefly demonstrate how you can easily do basic user intent analysis on your data."
   ]
  },
  {
   "cell_type": "markdown",
   "id": "277e303e",
   "metadata": {},
   "source": [
    "## Getting started"
   ]
  },
  {
   "cell_type": "markdown",
   "id": "96aeea32",
   "metadata": {},
   "source": [
    "### Import the required packages for this notebook\n",
    "The open model hub package can be installed with `pip install objectiv-modelhub` (this installs Bach as well).  \n",
    "If you are running this notebook from our quickstart, the model hub and Bach are already installed, so you don't have to install it separately."
   ]
  },
  {
   "cell_type": "code",
   "execution_count": 46,
   "id": "4bd369f6",
   "metadata": {},
   "outputs": [],
   "source": [
    "from modelhub import ModelHub\n",
    "from bach import display_sql_as_markdown\n",
    "import bach\n",
    "import pandas as pd \n",
    "from datetime import timedelta"
   ]
  },
  {
   "cell_type": "markdown",
   "id": "765624df",
   "metadata": {},
   "source": [
    "At first we have to instantiate the Objectiv DataFrame object and the model hub."
   ]
  },
  {
   "cell_type": "code",
   "execution_count": 47,
   "id": "da4ec1a0",
   "metadata": {},
   "outputs": [],
   "source": [
    "# instantiate the model hub\n",
    "modelhub = ModelHub(time_aggregation='YYYY-MM-DD')\n",
    "\n",
    "# get the Bach DataFrame with Objectiv data\n",
    "df = modelhub.get_objectiv_dataframe(start_date='2022-02-01')"
   ]
  },
  {
   "cell_type": "markdown",
   "id": "a1b3f9b1",
   "metadata": {},
   "source": [
    "The columns 'global_contexts' and the 'location_stack' contain most of the event specific data. These columns\n",
    "are json type columns and we can extract data from it based on the keys of the json objects using `SeriesGlobalContexts` or `SeriesGlobalContexts` methods to extract the data."
   ]
  },
  {
   "cell_type": "code",
   "execution_count": 48,
   "id": "4e130b67",
   "metadata": {},
   "outputs": [],
   "source": [
    "# adding specific contexts to the data\n",
    "df['application'] = df.global_contexts.gc.application\n",
    "df['root_location'] = df.location_stack.ls.get_from_context_with_type_series(type='RootLocationContext', key='id')"
   ]
  },
  {
   "cell_type": "markdown",
   "id": "03bfa810",
   "metadata": {},
   "source": [
    "## Exploring root location\n",
    "The `root_location` context in the `location_stack` uniquely represents the top-level UI location of the user. As a first step of grasping user internt, this is a good starting point to see in what main areas of your product users are spending time."
   ]
  },
  {
   "cell_type": "code",
   "execution_count": 49,
   "id": "08ad4e39",
   "metadata": {},
   "outputs": [
    {
     "data": {
      "text/plain": [
       "application       root_location\n",
       "objectiv-docs     home             138\n",
       "                  modeling         181\n",
       "                  taxonomy          89\n",
       "                  tracking         204\n",
       "objectiv-website  about             86\n",
       "                  blog              95\n",
       "                  home             339\n",
       "                  jobs              72\n",
       "                  join-slack        18\n",
       "                  privacy           13\n",
       "Name: unique_users, dtype: int64"
      ]
     },
     "execution_count": 49,
     "metadata": {},
     "output_type": "execute_result"
    }
   ],
   "source": [
    "# model hub: unique users per root location\n",
    "users_root = modelhub.aggregate.unique_users(df, groupby=['application','root_location'])\n",
    "users_root.head(10)"
   ]
  },
  {
   "cell_type": "markdown",
   "id": "0bd73ca7-5e52-4484-b88d-a7a41d63adcb",
   "metadata": {},
   "source": [
    "## Exploring session duration\n",
    "The average `session_duration` model from the [open model hub](https://objectiv.io/docs/modeling/) is another good pointer to explore first for user intent."
   ]
  },
  {
   "cell_type": "code",
   "execution_count": 50,
   "id": "ec9657db-fb10-4e96-9eb0-9cb16437cade",
   "metadata": {},
   "outputs": [
    {
     "data": {
      "text/plain": [
       "application       root_location\n",
       "objectiv-docs     home            0 days 00:06:13.206928\n",
       "                  modeling        0 days 00:08:10.151239\n",
       "                  taxonomy        0 days 00:06:46.368386\n",
       "                  tracking        0 days 00:04:35.300549\n",
       "objectiv-website  about           0 days 00:03:22.542548\n",
       "                  blog            0 days 00:05:37.312841\n",
       "                  home            0 days 00:05:18.488096\n",
       "                  jobs            0 days 00:02:06.103118\n",
       "                  join-slack      0 days 00:02:39.291852\n",
       "                  privacy         0 days 00:02:10.331625\n",
       "Name: session_duration, dtype: timedelta64[ns]"
      ]
     },
     "execution_count": 50,
     "metadata": {},
     "output_type": "execute_result"
    }
   ],
   "source": [
    "# model hub: duration, per root location\n",
    "duration_root = modelhub.aggregate.session_duration(df, groupby=['application', 'root_location']).sort_index()\n",
    "duration_root.head(10)"
   ]
  },
  {
   "cell_type": "markdown",
   "id": "6fe1a096-9221-4f9f-99b6-79747c136d66",
   "metadata": {},
   "source": [
    "Now, we look at the distribution of time spent. We use the Bach `quantile` operation for this. We'll use this distribution to define the different stages of user intent."
   ]
  },
  {
   "cell_type": "code",
   "execution_count": 51,
   "id": "6504ff90-1b68-4ef2-b7ec-61c9895d5511",
   "metadata": {},
   "outputs": [
    {
     "data": {
      "text/plain": [
       "quantile\n",
       "0.1   0 days 00:00:00.676800\n",
       "0.2   0 days 00:00:01.417600\n",
       "0.3   0 days 00:00:03.911000\n",
       "0.4   0 days 00:00:19.456000\n",
       "0.5   0 days 00:01:03.464000\n",
       "0.6   0 days 00:02:57.522000\n",
       "0.7   0 days 00:03:25.259000\n",
       "0.8   0 days 00:07:24.479800\n",
       "0.9   0 days 00:21:24.153800\n",
       "Name: session_duration, dtype: timedelta64[ns]"
      ]
     },
     "execution_count": 51,
     "metadata": {},
     "output_type": "execute_result"
    }
   ],
   "source": [
    "# how is this time spent distributed?\n",
    "session_duration = modelhub.aggregate.session_duration(df, groupby='session_id')\n",
    "\n",
    "# materialization is needed because the expression of the created series contains aggregated data, and it is not allowed to aggregate that.\n",
    "session_duration.to_frame().materialize()['session_duration'].quantile(q=[0.1, 0.2, 0.3, 0.4, 0.5, 0.6, 0.7, 0.8, 0.9]).head(10)"
   ]
  },
  {
   "cell_type": "markdown",
   "id": "aaa5a8f8-a7d4-4d50-b096-6af94421d802",
   "metadata": {},
   "source": [
    "## Defining different stages of user intent\n",
    "After exploring the `root_location` and `session_duration` (both per root location and quantiles), we can make a simple definition of different stages of user intent.\n",
    "\n",
    "Based on the objectiv.io website data in the quickstart, we could define them as:\n",
    "\n",
    "| User intent | Root locations | Duration |\n",
    "| :--- | :--- | : --- |\n",
    "| 1 - Inform | home, blog, about, modeling, taxonomy, tracking | less than 2 minutes |\n",
    "| 2 - Explore | modeling, taxonomy, tracking | between 2 and 20 minutes |\n",
    "| 3 - Implement | modeling, taxonomy, tracking | more than 20 minutes | \n",
    "\n",
    "This is just for illustration purposes, you can adjust these definitions based on your own collected data. "
   ]
  },
  {
   "cell_type": "markdown",
   "id": "9fcd02ca-a9d4-4abe-96c9-c91ff167eb5d",
   "metadata": {},
   "source": [
    "## Assigning user intent\n",
    "Based on the simple definitions above, we can start assigning a stage of intent to each user. We do this per timeframe (in this case monthly), as users can progress from one stage to the next over time."
   ]
  },
  {
   "cell_type": "code",
   "execution_count": 52,
   "id": "c9e65fec-0c13-423f-8dba-5124823e5477",
   "metadata": {},
   "outputs": [
    {
     "data": {
      "text/plain": [
       "user_id                               application       root_location  time_aggregation\n",
       "ffc0ba50-9146-438c-bac3-38faa7183dda  objectiv-website  home           2022-04            0 days 00:00:33.219000\n",
       "ff48d79a-195a-476a-b49d-0e212de43c96  objectiv-website  home           2022-04            0 days 00:01:10.978333\n",
       "                                                                       2022-03            0 days 00:00:56.477500\n",
       "ff33827e-671b-41c3-a6d4-6e13838c4e3a  objectiv-website  blog           2022-03            0 days 00:00:01.125000\n",
       "                                      objectiv-docs     tracking       2022-03            0 days 00:00:00.004000\n",
       "                                                        taxonomy       2022-03            0 days 00:00:59.272000\n",
       "                                                        modeling       2022-03            0 days 00:00:19.193000\n",
       "                                                        home           2022-03            0 days 00:00:00.006000\n",
       "fec82cdd-c052-4195-a73d-4d948d121e4d  objectiv-website  blog           2022-03            0 days 00:00:00.001500\n",
       "fea957cf-d396-43ed-b987-e59d99dab76e  objectiv-docs     tracking       2022-03            0 days 00:02:09.810000\n",
       "Name: session_duration, dtype: timedelta64[ns]"
      ]
     },
     "execution_count": 52,
     "metadata": {},
     "output_type": "execute_result"
    }
   ],
   "source": [
    "# model hub: calculate average session duration per user, per root location, monthly\n",
    "user_root_duration = modelhub.aggregate.session_duration(df, groupby=['user_id', 'application', 'root_location', modelhub.time_agg(df, 'YYYY-MM')])\n",
    "user_root_duration.sort_index(ascending=False).head(10)"
   ]
  },
  {
   "cell_type": "code",
   "execution_count": 53,
   "id": "e56216a8-8263-4040-bfe4-f80223ca6017",
   "metadata": {},
   "outputs": [
    {
     "data": {
      "text/html": [
       "<div>\n",
       "<style scoped>\n",
       "    .dataframe tbody tr th:only-of-type {\n",
       "        vertical-align: middle;\n",
       "    }\n",
       "\n",
       "    .dataframe tbody tr th {\n",
       "        vertical-align: top;\n",
       "    }\n",
       "\n",
       "    .dataframe thead th {\n",
       "        text-align: right;\n",
       "    }\n",
       "</style>\n",
       "<table border=\"1\" class=\"dataframe\">\n",
       "  <thead>\n",
       "    <tr style=\"text-align: right;\">\n",
       "      <th></th>\n",
       "      <th>root_location_nunique</th>\n",
       "      <th>session_duration_min</th>\n",
       "      <th>session_duration_max</th>\n",
       "      <th>user_id_nunique</th>\n",
       "    </tr>\n",
       "    <tr>\n",
       "      <th>bucket</th>\n",
       "      <th></th>\n",
       "      <th></th>\n",
       "      <th></th>\n",
       "      <th></th>\n",
       "    </tr>\n",
       "  </thead>\n",
       "  <tbody>\n",
       "    <tr>\n",
       "      <th>1 - inform</th>\n",
       "      <td>6</td>\n",
       "      <td>0 days 00:00:00.001000</td>\n",
       "      <td>0 days 00:01:59.692000</td>\n",
       "      <td>421</td>\n",
       "    </tr>\n",
       "    <tr>\n",
       "      <th>2 - explore</th>\n",
       "      <td>6</td>\n",
       "      <td>0 days 00:02:01.987000</td>\n",
       "      <td>0 days 00:19:30.948000</td>\n",
       "      <td>228</td>\n",
       "    </tr>\n",
       "    <tr>\n",
       "      <th>3 - implement</th>\n",
       "      <td>6</td>\n",
       "      <td>0 days 00:20:22.373000</td>\n",
       "      <td>0 days 00:52:07.517500</td>\n",
       "      <td>16</td>\n",
       "    </tr>\n",
       "    <tr>\n",
       "      <th>unassigned</th>\n",
       "      <td>3</td>\n",
       "      <td>0 days 00:00:00.001000</td>\n",
       "      <td>0 days 00:21:23.086000</td>\n",
       "      <td>37</td>\n",
       "    </tr>\n",
       "  </tbody>\n",
       "</table>\n",
       "</div>"
      ],
      "text/plain": [
       "               root_location_nunique   session_duration_min  \\\n",
       "bucket                                                        \n",
       "1 - inform                         6 0 days 00:00:00.001000   \n",
       "2 - explore                        6 0 days 00:02:01.987000   \n",
       "3 - implement                      6 0 days 00:20:22.373000   \n",
       "unassigned                         3 0 days 00:00:00.001000   \n",
       "\n",
       "                session_duration_max  user_id_nunique  \n",
       "bucket                                                 \n",
       "1 - inform    0 days 00:01:59.692000              421  \n",
       "2 - explore   0 days 00:19:30.948000              228  \n",
       "3 - implement 0 days 00:52:07.517500               16  \n",
       "unassigned    0 days 00:21:23.086000               37  "
      ]
     },
     "execution_count": 53,
     "metadata": {},
     "output_type": "execute_result"
    }
   ],
   "source": [
    "# assign user intent according to the defintions above\n",
    "user_root_duration_f = user_root_duration.to_frame().reset_index()\n",
    "\n",
    "roots = bach.DataFrame.from_pandas(engine=df.engine, \n",
    "                                   df=pd.DataFrame({'roots': ['home', 'blog', 'about', 'modeling', 'taxonomy', 'tracking']}), \n",
    "                                   convert_objects=True).roots\n",
    "roots2 = bach.DataFrame.from_pandas(engine=df.engine, \n",
    "                                    df=pd.DataFrame({'roots': ['modeling', 'taxonomy', 'tracking']}), \n",
    "                                    convert_objects=True).roots\n",
    "\n",
    "user_root_duration_f['bucket'] = 'unassigned'\n",
    "\n",
    "user_root_duration_f.loc[(user_root_duration_f.root_location.isin(roots)) &\n",
    "                         (user_root_duration_f.session_duration < timedelta(0, 120)), 'bucket'] = '1 - inform'\n",
    "\n",
    "user_root_duration_f.loc[(((user_root_duration_f.root_location.isin(roots))) | \n",
    "                          ((user_root_duration_f.root_location.isin(roots2)))) &\n",
    "                         (user_root_duration_f.session_duration >= timedelta(0, 120)) &\n",
    "                         (user_root_duration_f.session_duration <= timedelta(0, 1200)), 'bucket'] = '2 - explore'\n",
    "\n",
    "user_root_duration_f.loc[(((user_root_duration_f.root_location.isin(roots))) | \n",
    "                          ((user_root_duration_f.root_location.isin(roots2)))) &\n",
    "                         (user_root_duration_f.session_duration > timedelta(0, 1200)), 'bucket'] = '3 - implement'\n",
    "\n",
    "# total number of users per intent\n",
    "user_root_duration_f.groupby('bucket').agg({'root_location': 'nunique', \n",
    "                                            'session_duration': ['min', 'max'], \n",
    "                                            'user_id': 'nunique'}).head()"
   ]
  },
  {
   "cell_type": "raw",
   "id": "53878042-c809-4c73-a7b4-acff0fa4d080",
   "metadata": {},
   "source": []
  },
  {
   "cell_type": "code",
   "execution_count": 54,
   "id": "68a361b6-df97-4f5a-8ce7-c296596e76cf",
   "metadata": {},
   "outputs": [
    {
     "data": {
      "text/html": [
       "<div>\n",
       "<style scoped>\n",
       "    .dataframe tbody tr th:only-of-type {\n",
       "        vertical-align: middle;\n",
       "    }\n",
       "\n",
       "    .dataframe tbody tr th {\n",
       "        vertical-align: top;\n",
       "    }\n",
       "\n",
       "    .dataframe thead th {\n",
       "        text-align: right;\n",
       "    }\n",
       "</style>\n",
       "<table border=\"1\" class=\"dataframe\">\n",
       "  <thead>\n",
       "    <tr style=\"text-align: right;\">\n",
       "      <th></th>\n",
       "      <th></th>\n",
       "      <th>user_id_nunique</th>\n",
       "      <th>session_duration_max</th>\n",
       "    </tr>\n",
       "    <tr>\n",
       "      <th>bucket</th>\n",
       "      <th>root_location</th>\n",
       "      <th></th>\n",
       "      <th></th>\n",
       "    </tr>\n",
       "  </thead>\n",
       "  <tbody>\n",
       "    <tr>\n",
       "      <th rowspan=\"3\" valign=\"top\">unassigned</th>\n",
       "      <th>jobs</th>\n",
       "      <td>25</td>\n",
       "      <td>0 days 00:21:23.086000</td>\n",
       "    </tr>\n",
       "    <tr>\n",
       "      <th>join-slack</th>\n",
       "      <td>16</td>\n",
       "      <td>0 days 00:12:53.576000</td>\n",
       "    </tr>\n",
       "    <tr>\n",
       "      <th>privacy</th>\n",
       "      <td>5</td>\n",
       "      <td>0 days 00:06:24.124000</td>\n",
       "    </tr>\n",
       "    <tr>\n",
       "      <th rowspan=\"6\" valign=\"top\">3 - implement</th>\n",
       "      <th>about</th>\n",
       "      <td>2</td>\n",
       "      <td>0 days 00:25:04.754000</td>\n",
       "    </tr>\n",
       "    <tr>\n",
       "      <th>blog</th>\n",
       "      <td>1</td>\n",
       "      <td>0 days 00:46:41.897000</td>\n",
       "    </tr>\n",
       "    <tr>\n",
       "      <th>home</th>\n",
       "      <td>8</td>\n",
       "      <td>0 days 00:29:08.341000</td>\n",
       "    </tr>\n",
       "    <tr>\n",
       "      <th>modeling</th>\n",
       "      <td>6</td>\n",
       "      <td>0 days 00:36:35.463000</td>\n",
       "    </tr>\n",
       "    <tr>\n",
       "      <th>taxonomy</th>\n",
       "      <td>3</td>\n",
       "      <td>0 days 00:48:28.833000</td>\n",
       "    </tr>\n",
       "    <tr>\n",
       "      <th>tracking</th>\n",
       "      <td>3</td>\n",
       "      <td>0 days 00:52:07.517500</td>\n",
       "    </tr>\n",
       "    <tr>\n",
       "      <th>2 - explore</th>\n",
       "      <th>about</th>\n",
       "      <td>5</td>\n",
       "      <td>0 days 00:10:52.836000</td>\n",
       "    </tr>\n",
       "  </tbody>\n",
       "</table>\n",
       "</div>"
      ],
      "text/plain": [
       "                             user_id_nunique   session_duration_max\n",
       "bucket        root_location                                        \n",
       "unassigned    jobs                        25 0 days 00:21:23.086000\n",
       "              join-slack                  16 0 days 00:12:53.576000\n",
       "              privacy                      5 0 days 00:06:24.124000\n",
       "3 - implement about                        2 0 days 00:25:04.754000\n",
       "              blog                         1 0 days 00:46:41.897000\n",
       "              home                         8 0 days 00:29:08.341000\n",
       "              modeling                     6 0 days 00:36:35.463000\n",
       "              taxonomy                     3 0 days 00:48:28.833000\n",
       "              tracking                     3 0 days 00:52:07.517500\n",
       "2 - explore   about                        5 0 days 00:10:52.836000"
      ]
     },
     "execution_count": 54,
     "metadata": {},
     "output_type": "execute_result"
    }
   ],
   "source": [
    "# user intent over time\n",
    "user_root_duration_f.groupby(['bucket', 'root_location']).agg({'user_id': 'nunique', 'session_duration':'max'}).sort_values('bucket', ascending=False).head(10)\n"
   ]
  },
  {
   "cell_type": "markdown",
   "id": "104eb315-83b7-4848-ab44-49c0f9478a66",
   "metadata": {
    "tags": []
   },
   "source": [
    "## Get the SQL for this user intent analysis"
   ]
  },
  {
   "cell_type": "code",
   "execution_count": 55,
   "id": "cd5b629b-a8ef-4c50-9ed5-8e027319d934",
   "metadata": {},
   "outputs": [
    {
     "data": {
      "text/html": [
       "<div>\n",
       "<style scoped>\n",
       "    .dataframe tbody tr th:only-of-type {\n",
       "        vertical-align: middle;\n",
       "    }\n",
       "\n",
       "    .dataframe tbody tr th {\n",
       "        vertical-align: top;\n",
       "    }\n",
       "\n",
       "    .dataframe thead th {\n",
       "        text-align: right;\n",
       "    }\n",
       "</style>\n",
       "<table border=\"1\" class=\"dataframe\">\n",
       "  <thead>\n",
       "    <tr style=\"text-align: right;\">\n",
       "      <th></th>\n",
       "      <th></th>\n",
       "      <th>user_id_nunique</th>\n",
       "    </tr>\n",
       "    <tr>\n",
       "      <th>bucket</th>\n",
       "      <th>root_location</th>\n",
       "      <th></th>\n",
       "    </tr>\n",
       "  </thead>\n",
       "  <tbody>\n",
       "    <tr>\n",
       "      <th rowspan=\"6\" valign=\"top\">1 - inform</th>\n",
       "      <th>about</th>\n",
       "      <td>17</td>\n",
       "    </tr>\n",
       "    <tr>\n",
       "      <th>blog</th>\n",
       "      <td>54</td>\n",
       "    </tr>\n",
       "    <tr>\n",
       "      <th>home</th>\n",
       "      <td>283</td>\n",
       "    </tr>\n",
       "    <tr>\n",
       "      <th>modeling</th>\n",
       "      <td>103</td>\n",
       "    </tr>\n",
       "    <tr>\n",
       "      <th>taxonomy</th>\n",
       "      <td>44</td>\n",
       "    </tr>\n",
       "    <tr>\n",
       "      <th>tracking</th>\n",
       "      <td>83</td>\n",
       "    </tr>\n",
       "    <tr>\n",
       "      <th rowspan=\"4\" valign=\"top\">2 - explore</th>\n",
       "      <th>about</th>\n",
       "      <td>5</td>\n",
       "    </tr>\n",
       "    <tr>\n",
       "      <th>blog</th>\n",
       "      <td>12</td>\n",
       "    </tr>\n",
       "    <tr>\n",
       "      <th>home</th>\n",
       "      <td>61</td>\n",
       "    </tr>\n",
       "    <tr>\n",
       "      <th>modeling</th>\n",
       "      <td>64</td>\n",
       "    </tr>\n",
       "  </tbody>\n",
       "</table>\n",
       "</div>"
      ],
      "text/plain": [
       "                           user_id_nunique\n",
       "bucket      root_location                 \n",
       "1 - inform  about                       17\n",
       "            blog                        54\n",
       "            home                       283\n",
       "            modeling                   103\n",
       "            taxonomy                    44\n",
       "            tracking                    83\n",
       "2 - explore about                        5\n",
       "            blog                        12\n",
       "            home                        61\n",
       "            modeling                    64"
      ]
     },
     "execution_count": 55,
     "metadata": {},
     "output_type": "execute_result"
    }
   ],
   "source": [
    "user_root_duration_f.groupby(['bucket', 'root_location']).agg({'user_id': 'nunique'}).head(10)"
   ]
  },
  {
   "cell_type": "code",
   "execution_count": 56,
   "id": "e38addad-ba20-4a71-9cac-68f2dd077a25",
   "metadata": {},
   "outputs": [
    {
     "data": {
      "text/markdown": [
       "```sql\n",
       "with \"loaded_data___f1f52ff4aa561ce51fcf94c92f968c8c\" as (select * from (values \n",
       "(cast(0 as bigint), 'home'),\n",
       "(cast(1 as bigint), 'blog'),\n",
       "(cast(2 as bigint), 'about'),\n",
       "(cast(3 as bigint), 'modeling'),\n",
       "(cast(4 as bigint), 'taxonomy'),\n",
       "(cast(5 as bigint), 'tracking')\n",
       ") as t(\"_index_0\", \"roots\")\n",
       "),\n",
       "\"loaded_data___62caf65fb3cb3d96f0bb62b589b209b2\" as (select * from (values \n",
       "(cast(0 as bigint), 'modeling'),\n",
       "(cast(1 as bigint), 'taxonomy'),\n",
       "(cast(2 as bigint), 'tracking')\n",
       ") as t(\"_index_0\", \"roots\")\n",
       "),\n",
       "\"ExtractedContexts___dbb013fbc71ca150c710b1cd62b8961d\" as (\n",
       "    SELECT event_id,\n",
       "            day,\n",
       "            moment,\n",
       "            cookie_id AS user_id,\n",
       "            CAST(JSON_EXTRACT_PATH(value, 'global_contexts') AS jsonb) AS global_contexts,\n",
       "            CAST(JSON_EXTRACT_PATH(value, 'location_stack') AS jsonb) AS location_stack,\n",
       "            value->>'_type' AS event_type,\n",
       "            CAST(JSON_EXTRACT_PATH(value, '_types') AS jsonb) AS stack_event_types\n",
       "     FROM data\n",
       "     where day >= '2022-03-01'\n",
       "     ),\n",
       "\"session_starts_8dcd7bf8880b32f2b5380cc36396ce99\" as (\n",
       "        select\n",
       "            *,\n",
       "            case when coalesce(\n",
       "                extract(\n",
       "                    epoch from (moment - lag(moment, 1)\n",
       "                        over (partition by user_id order by moment, event_id))\n",
       "                ) > 1800,\n",
       "                true\n",
       "            ) then true end as is_start_of_session\n",
       "        from \"ExtractedContexts___dbb013fbc71ca150c710b1cd62b8961d\"\n",
       "    ),\n",
       "\"session_id_and_start_8dcd7bf8880b32f2b5380cc36396ce99\" as (\n",
       "        select\n",
       "            *,\n",
       "            -- generates a session_start_id for each is_start_of_session\n",
       "            case\n",
       "                when is_start_of_session then\n",
       "                    row_number() over (partition by is_start_of_session order by moment, event_id)\n",
       "            end as session_start_id,\n",
       "            -- generates a unique number for each session, but not in the right order.\n",
       "            count(is_start_of_session) over (order by user_id, moment, event_id) as is_one_session\n",
       "        from session_starts_8dcd7bf8880b32f2b5380cc36396ce99\n",
       "    ),\n",
       "\"SessionizedData___8dcd7bf8880b32f2b5380cc36396ce99\" as (select\n",
       "        *,\n",
       "        -- populates the correct session_id for all rows with the same value for is_one_session\n",
       "        first_value(\n",
       "            session_start_id\n",
       "        ) over (\n",
       "            partition by is_one_session order by moment, event_id\n",
       "        ) as session_id,\n",
       "        row_number() over (partition by is_one_session order by moment, event_id) as session_hit_number\n",
       "    from session_id_and_start_8dcd7bf8880b32f2b5380cc36396ce99\n",
       "    ),\n",
       "\"getitem_having_boolean___ef69c901fecb4143681ee76a518d241c\" as (select \"user_id\" as \"user_id\", \n",
       "        jsonb_path_query_first(\"global_contexts\",\n",
       "        '$[*] ? (@._type == $type)',\n",
       "        '{\"type\":\"ApplicationContext\"}') ->> 'id' as \"application\", \n",
       "        jsonb_path_query_first(\"location_stack\",\n",
       "        '$[*] ? (@._type == $type)',\n",
       "        '{\"type\":\"RootLocationContext\"}') ->> 'id' as \"root_location\", to_char(\"moment\", 'YYYY-MM') as \"time_aggregation\", \"session_id\" as \"_session_id\", min(\"moment\") as \"moment_min\", max(\"moment\") as \"moment_max\", ((max(\"moment\")) - (min(\"moment\"))) as \"session_duration\" \n",
       "from \"SessionizedData___8dcd7bf8880b32f2b5380cc36396ce99\" \n",
       " \n",
       "group by \"user_id\", \n",
       "        jsonb_path_query_first(\"global_contexts\",\n",
       "        '$[*] ? (@._type == $type)',\n",
       "        '{\"type\":\"ApplicationContext\"}') ->> 'id', \n",
       "        jsonb_path_query_first(\"location_stack\",\n",
       "        '$[*] ? (@._type == $type)',\n",
       "        '{\"type\":\"RootLocationContext\"}') ->> 'id', to_char(\"moment\", 'YYYY-MM'), \"session_id\" \n",
       "having (((max(\"moment\")) - (min(\"moment\"))) > '0') \n",
       " \n",
       " \n",
       "),\n",
       "\"reset_index___e69b7d665036a83919e881315a3c80d7\" as (select \"user_id\" as \"user_id\", \"application\" as \"application\", \"root_location\" as \"root_location\", \"time_aggregation\" as \"time_aggregation\", avg(\"session_duration\") as \"session_duration\" \n",
       "from \"getitem_having_boolean___ef69c901fecb4143681ee76a518d241c\" \n",
       " \n",
       "group by \"user_id\", \"application\", \"root_location\", \"time_aggregation\" \n",
       " \n",
       " \n",
       " \n",
       ")\n",
       "select \"user_id\" as \"user_id\", \"application\" as \"application\", \"root_location\" as \"root_location\", \"time_aggregation\" as \"time_aggregation\", \"session_duration\" as \"session_duration\", CASE WHEN ((((\"root_location\" in (SELECT \"roots\" as \"roots\" FROM \"loaded_data___f1f52ff4aa561ce51fcf94c92f968c8c\")) OR (\"root_location\" in (SELECT \"roots\" as \"roots\" FROM \"loaded_data___62caf65fb3cb3d96f0bb62b589b209b2\")))) AND ((\"session_duration\" > cast('0:20:00' as interval)))) THEN '3 - implement' ELSE CASE WHEN ((((((\"root_location\" in (SELECT \"roots\" as \"roots\" FROM \"loaded_data___f1f52ff4aa561ce51fcf94c92f968c8c\")) OR (\"root_location\" in (SELECT \"roots\" as \"roots\" FROM \"loaded_data___62caf65fb3cb3d96f0bb62b589b209b2\")))) AND ((\"session_duration\" >= cast('0:02:00' as interval))))) AND ((\"session_duration\" <= cast('0:20:00' as interval)))) THEN '2 - explore' ELSE CASE WHEN ((\"root_location\" in (SELECT \"roots\" as \"roots\" FROM \"loaded_data___f1f52ff4aa561ce51fcf94c92f968c8c\")) AND ((\"session_duration\" < cast('0:02:00' as interval)))) THEN '1 - inform' ELSE 'unassigned' END END END as \"bucket\" \n",
       "from \"reset_index___e69b7d665036a83919e881315a3c80d7\" \n",
       " \n",
       " \n",
       " \n",
       " \n",
       " \n",
       "```"
      ],
      "text/plain": [
       "<IPython.core.display.Markdown object>"
      ]
     },
     "metadata": {},
     "output_type": "display_data"
    }
   ],
   "source": [
    "# get the SQL to use this analysis in for example your BI tooling\n",
    "display_sql_as_markdown(user_root_duration_f)"
   ]
  }
 ],
 "metadata": {
  "kernelspec": {
   "display_name": "Python 3 (ipykernel)",
   "language": "python",
   "name": "python3"
  },
  "language_info": {
   "codemirror_mode": {
    "name": "ipython",
    "version": 3
   },
   "file_extension": ".py",
   "mimetype": "text/x-python",
   "name": "python",
   "nbconvert_exporter": "python",
   "pygments_lexer": "ipython3",
   "version": "3.9.10"
  }
 },
 "nbformat": 4,
 "nbformat_minor": 5
}
