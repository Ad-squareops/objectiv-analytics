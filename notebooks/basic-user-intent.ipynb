{
 "cells": [
  {
   "cell_type": "markdown",
   "id": "afb5dddf",
   "metadata": {},
   "source": [
    "This is one of the Objectiv example notebooks. For more examples visit the \n",
    "[example notebooks](https://objectiv.io/docs/modeling/example_notebooks/) section of our docs. The notebooks can run with the demo data set that comes with the our [quickstart](https://objectiv.io/docs/home/quickstart-guide/), but can be used to run on your own collected data as well.\n",
    "\n",
    "All example notebooks are also available in our [quickstart](https://objectiv.io/docs/home/quickstart-guide/). With the quickstart you can spin up a fully functional Objectiv demo pipeline in five minutes. This also allows you to run these notebooks and experiment with them on a demo data set."
   ]
  },
  {
   "cell_type": "markdown",
   "id": "990f0ae2-48cd-4220-8960-844af284fcce",
   "metadata": {},
   "source": [
    "# Basic user intent analysis"
   ]
  },
  {
   "cell_type": "markdown",
   "id": "fc19e049-754f-4c0e-8a5a-0ff89bdb7724",
   "metadata": {},
   "source": [
    "In this notebook, we briefly demonstrate how you can easily do basic user intent analysis on your data."
   ]
  },
  {
   "cell_type": "markdown",
   "id": "277e303e",
   "metadata": {},
   "source": [
    "## Getting started"
   ]
  },
  {
   "cell_type": "markdown",
   "id": "96aeea32",
   "metadata": {},
   "source": [
    "### Import the required packages for this notebook\n",
    "The open model hub package can be installed with `pip install objectiv-modelhub` (this installs Bach as well).  \n",
    "If you are running this notebook from our quickstart, the model hub and Bach are already installed, so you don't have to install it separately."
   ]
  },
  {
   "cell_type": "code",
   "execution_count": 49,
   "id": "4bd369f6",
   "metadata": {},
   "outputs": [],
   "source": [
    "from modelhub import ModelHub\n",
    "from bach import display_sql_as_markdown"
   ]
  },
  {
   "cell_type": "markdown",
   "id": "765624df",
   "metadata": {},
   "source": [
    "At first we have to instantiate the Objectiv DataFrame object and the model hub."
   ]
  },
  {
   "cell_type": "code",
   "execution_count": 8,
   "id": "da4ec1a0",
   "metadata": {},
   "outputs": [],
   "source": [
    "# instantiate the model hub\n",
    "modelhub = ModelHub(time_aggregation='YYYY-MM-DD')\n",
    "\n",
    "# get the Bach DataFrame with Objectiv data\n",
    "df = modelhub.get_objectiv_dataframe(start_date='2022-02-02')\n"
   ]
  },
  {
   "cell_type": "markdown",
   "id": "a1b3f9b1",
   "metadata": {},
   "source": [
    "The columns 'global_contexts' and the 'location_stack' contain most of the event specific data. These columns\n",
    "are json type columns and we can extract data from it based on the keys of the json objects using `SeriesGlobalContexts` or `SeriesGlobalContexts` methods to extract the data."
   ]
  },
  {
   "cell_type": "code",
   "execution_count": 9,
   "id": "4e130b67",
   "metadata": {},
   "outputs": [],
   "source": [
    "# adding specific contexts to the data\n",
    "df['application'] = df.global_contexts.gc.application\n",
    "df['root_location'] = df.location_stack.ls.get_from_context_with_type_series(type='RootLocationContext', key='id')"
   ]
  },
  {
   "cell_type": "markdown",
   "id": "03bfa810",
   "metadata": {},
   "source": [
    "## Exploring root location\n",
    "The `root_location` context in the `location_stack` uniquely represents the top-level UI location of the user. As a first step of grasping user internt, this is a good starting point to see in what main areas of your product users are spending time."
   ]
  },
  {
   "cell_type": "code",
   "execution_count": 14,
   "id": "08ad4e39",
   "metadata": {},
   "outputs": [
    {
     "data": {
      "text/plain": [
       "application       root_location\n",
       "objectiv-docs     home             127\n",
       "                  modeling         177\n",
       "                  taxonomy          85\n",
       "                  tracking         196\n",
       "objectiv-website  about             79\n",
       "                  blog              88\n",
       "                  home             309\n",
       "                  jobs              66\n",
       "                  join-slack        15\n",
       "                  privacy           13\n",
       "Name: unique_users, dtype: int64"
      ]
     },
     "execution_count": 14,
     "metadata": {},
     "output_type": "execute_result"
    }
   ],
   "source": [
    "# model hub: unique users per root location\n",
    "users_root = modelhub.aggregate.unique_users(df, groupby=['application','root_location'])\n",
    "users_root.head(10)"
   ]
  },
  {
   "cell_type": "markdown",
   "id": "0bd73ca7-5e52-4484-b88d-a7a41d63adcb",
   "metadata": {},
   "source": [
    "## Exploring session duration\n",
    "The average `session_duration` model from the [open model hub](https://objectiv.io/docs/modeling/) is another good pointer to explore first for user intent."
   ]
  },
  {
   "cell_type": "code",
   "execution_count": 32,
   "id": "ec9657db-fb10-4e96-9eb0-9cb16437cade",
   "metadata": {},
   "outputs": [
    {
     "data": {
      "text/plain": [
       "application       root_location\n",
       "objectiv-docs     home            0 days 00:06:12.911952\n",
       "                  modeling        0 days 00:07:48.745281\n",
       "                  taxonomy        0 days 00:06:53.972140\n",
       "                  tracking        0 days 00:04:24.685181\n",
       "objectiv-website  about           0 days 00:03:39.784815\n",
       "                  blog            0 days 00:05:50.151914\n",
       "                  home            0 days 00:05:09.574889\n",
       "                  jobs            0 days 00:02:18.935500\n",
       "                  join-slack      0 days 00:02:54.565217\n",
       "                  privacy         0 days 00:01:34.075571\n",
       "Name: session_duration, dtype: timedelta64[ns]"
      ]
     },
     "execution_count": 32,
     "metadata": {},
     "output_type": "execute_result"
    }
   ],
   "source": [
    "# model hub: duration, per root location\n",
    "duration_root = modelhub.aggregate.session_duration(df, groupby=['application', 'root_location']).sort_index()\n",
    "duration_root.head(10)"
   ]
  },
  {
   "cell_type": "code",
   "execution_count": 33,
   "id": "6504ff90-1b68-4ef2-b7ec-61c9895d5511",
   "metadata": {},
   "outputs": [
    {
     "data": {
      "text/plain": [
       "quantile\n",
       "0.1   0 days 00:00:00.685500\n",
       "0.2   0 days 00:00:01.445000\n",
       "0.3   0 days 00:00:03.913500\n",
       "0.4   0 days 00:00:19.430000\n",
       "0.5   0 days 00:01:01.289000\n",
       "0.6   0 days 00:02:56.851000\n",
       "0.7   0 days 00:03:23.995000\n",
       "0.8   0 days 00:06:16.642000\n",
       "0.9   0 days 00:21:18.982500\n",
       "Name: session_duration, dtype: timedelta64[ns]"
      ]
     },
     "execution_count": 33,
     "metadata": {},
     "output_type": "execute_result"
    }
   ],
   "source": [
    "# how is this time spent distributed?\n",
    "session_duration = modelhub.aggregate.session_duration(df, groupby='session_id')\n",
    "\n",
    "# materialization is needed because the expression of the created series contains aggregated data, and it is not allowed to aggregate that.\n",
    "session_duration.to_frame().materialize()['session_duration'].quantile(q=[0.1, 0.2, 0.3, 0.4, 0.5, 0.6, 0.7, 0.8, 0.9]).head(10)"
   ]
  },
  {
   "cell_type": "markdown",
   "id": "aaa5a8f8-a7d4-4d50-b096-6af94421d802",
   "metadata": {},
   "source": [
    "## Defining different stages of user intent\n",
    "After exploring the `root_location` and `session_duration`, we can make a simple definition of different stages of user intent.\n",
    "\n",
    "Based on the objectiv.io website data in the quickstart, we could define them as:\n",
    "\n",
    "| User intent | Root locations | Duration |\n",
    "| :--- | :--- | : --- |\n",
    "| 1) Inform | website: home, blog, about | less than 2 minutes |\n",
    "| 2) Explore | website: home, blog, about <br>docs: home, modeling, taxonomy, tracking | between 2 and 20 minutes |\n",
    "| 3) Implement | website: home, blog, about <br>docs: home, modeling, taxonomy, tracking | more than 20 minutes | \n",
    "\n",
    "This is just for illustration purposes, you can adjust these definitions based on your own collected data. "
   ]
  },
  {
   "cell_type": "markdown",
   "id": "9fcd02ca-a9d4-4abe-96c9-c91ff167eb5d",
   "metadata": {},
   "source": [
    "## Assigning user intent\n",
    "Based on the simple definitions above, we can start assigning a stage of intent to each user. We do this per timeframe (in this case monthly), as users can progress from one stage to the next over time."
   ]
  },
  {
   "cell_type": "code",
   "execution_count": 35,
   "id": "2a06f91b-eb76-4789-8014-eb146cfe08e2",
   "metadata": {},
   "outputs": [
    {
     "data": {
      "text/plain": [
       "user_id                               time_aggregation\n",
       "ffc0ba50-9146-438c-bac3-38faa7183dda  2022-04            0 days 00:00:33.219000\n",
       "ff48d79a-195a-476a-b49d-0e212de43c96  2022-04            0 days 00:01:10.978333\n",
       "                                      2022-03            0 days 00:00:57.196500\n",
       "ff33827e-671b-41c3-a6d4-6e13838c4e3a  2022-03            0 days 00:03:08.289000\n",
       "fec82cdd-c052-4195-a73d-4d948d121e4d  2022-03            0 days 00:00:00.001500\n",
       "fea957cf-d396-43ed-b987-e59d99dab76e  2022-03            0 days 00:03:40.536000\n",
       "fd3580c3-12c8-40e3-9b35-1e3960480582  2022-04            0 days 00:03:01.933000\n",
       "fc73b949-061d-4d40-b670-03a3af5bf4a8  2022-03            0 days 00:03:23.205000\n",
       "fc4389c3-6931-4323-ba38-211d5eb4874d  2022-03            0 days 00:01:35.546000\n",
       "fc015b47-d187-43e7-b337-7177b07e4f78  2022-03            0 days 00:00:00.008000\n",
       "Name: session_duration, dtype: timedelta64[ns]"
      ]
     },
     "execution_count": 35,
     "metadata": {},
     "output_type": "execute_result"
    }
   ],
   "source": [
    "# model hub: calculate average session duration per user, monthly\n",
    "user_duration = modelhub.aggregate.session_duration(df, groupby=['user_id', modelhub.time_agg(df, 'YYYY-MM')])\n",
    "user_duration.sort_index(ascending=False).head(10)"
   ]
  },
  {
   "cell_type": "code",
   "execution_count": 42,
   "id": "c9e65fec-0c13-423f-8dba-5124823e5477",
   "metadata": {},
   "outputs": [
    {
     "data": {
      "text/plain": [
       "user_id                               application       root_location  time_aggregation\n",
       "ffc0ba50-9146-438c-bac3-38faa7183dda  objectiv-website  home           2022-04            0 days 00:00:33.219000\n",
       "ff48d79a-195a-476a-b49d-0e212de43c96  objectiv-website  home           2022-04            0 days 00:01:10.978333\n",
       "                                                                       2022-03            0 days 00:00:56.477500\n",
       "ff33827e-671b-41c3-a6d4-6e13838c4e3a  objectiv-website  blog           2022-03            0 days 00:00:01.125000\n",
       "                                      objectiv-docs     tracking       2022-03            0 days 00:00:00.004000\n",
       "                                                        taxonomy       2022-03            0 days 00:00:59.272000\n",
       "                                                        modeling       2022-03            0 days 00:00:19.193000\n",
       "                                                        home           2022-03            0 days 00:00:00.006000\n",
       "fec82cdd-c052-4195-a73d-4d948d121e4d  objectiv-website  blog           2022-03            0 days 00:00:00.001500\n",
       "fea957cf-d396-43ed-b987-e59d99dab76e  objectiv-docs     tracking       2022-03            0 days 00:02:09.810000\n",
       "Name: session_duration, dtype: timedelta64[ns]"
      ]
     },
     "execution_count": 42,
     "metadata": {},
     "output_type": "execute_result"
    }
   ],
   "source": [
    "# model hub: calculate average session duration per user, per root location, monthly\n",
    "user_root_duration = modelhub.aggregate.session_duration(df, groupby=['user_id', 'application', 'root_location', modelhub.time_agg(df, 'YYYY-MM')])\n",
    "user_root_duration.sort_index(ascending=False).head(10)"
   ]
  },
  {
   "cell_type": "code",
   "execution_count": null,
   "id": "e56216a8-8263-4040-bfe4-f80223ca6017",
   "metadata": {},
   "outputs": [],
   "source": []
  },
  {
   "cell_type": "code",
   "execution_count": null,
   "id": "68a361b6-df97-4f5a-8ce7-c296596e76cf",
   "metadata": {},
   "outputs": [],
   "source": []
  },
  {
   "cell_type": "code",
   "execution_count": null,
   "id": "2897f7b5-5047-4cdc-bf9d-4b2960470e8d",
   "metadata": {},
   "outputs": [],
   "source": []
  },
  {
   "cell_type": "code",
   "execution_count": null,
   "id": "4f10d564-272f-4644-bfed-376ac217ff9b",
   "metadata": {},
   "outputs": [],
   "source": []
  },
  {
   "cell_type": "code",
   "execution_count": null,
   "id": "ef8c4407-73f2-4ff6-9518-ceadd70f2d79",
   "metadata": {},
   "outputs": [],
   "source": []
  },
  {
   "cell_type": "code",
   "execution_count": null,
   "id": "4685c926-b740-49e7-9548-8376ac015067",
   "metadata": {},
   "outputs": [],
   "source": []
  }
 ],
 "metadata": {
  "kernelspec": {
   "display_name": "Python 3 (ipykernel)",
   "language": "python",
   "name": "python3"
  },
  "language_info": {
   "codemirror_mode": {
    "name": "ipython",
    "version": 3
   },
   "file_extension": ".py",
   "mimetype": "text/x-python",
   "name": "python",
   "nbconvert_exporter": "python",
   "pygments_lexer": "ipython3",
   "version": "3.9.10"
  }
 },
 "nbformat": 4,
 "nbformat_minor": 5
}
