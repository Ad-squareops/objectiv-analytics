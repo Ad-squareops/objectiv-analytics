{
 "cells": [
  {
   "cell_type": "markdown",
   "metadata": {},
   "source": [
    "This is one of the Objectiv [example notebooks](https://objectiv.io/docs/modeling/example-notebooks/). These notebooks can run [on your own data](https://objectiv.io/docs/modeling/get-started-in-your-notebook/), or you can instead run the [Demo](https://objectiv.io/docs/home/quickstart-guide/) to quickly try them out."
   ]
  },
  {
   "cell_type": "markdown",
   "metadata": {},
   "source": [
    "# Marketing Analytics\n",
    "This example notebook shows how you can easily analyze traffic coming from Marketing campaigns, as measured via UTM tags. [See here how to get started in your notebook](https://objectiv.io/docs/modeling/get-started-in-your-notebook/)."
   ]
  },
  {
   "cell_type": "markdown",
   "metadata": {},
   "source": [
    "## Setup\n",
    "We first have to instantiate the model hub and an Objectiv DataFrame object."
   ]
  },
  {
   "cell_type": "code",
   "execution_count": 1,
   "metadata": {},
   "outputs": [],
   "source": [
    "from modelhub import ModelHub\n",
    "from bach import DataFrame, display_sql_as_markdown\n",
    "from datetime import datetime, timedelta\n",
    "import pandas as pd\n",
    "\n",
    "# instantiate the model hub and set the default time aggregation to daily\n",
    "modelhub = ModelHub(time_aggregation='%Y-%m-%d')\n",
    "# get a Bach DataFrame with Objectiv data within a defined timeframe\n",
    "df = modelhub.get_objectiv_dataframe(start_date='2022-06-01', end_date='2022-08-31')"
   ]
  },
  {
   "cell_type": "code",
   "execution_count": 2,
   "metadata": {},
   "outputs": [],
   "source": [
    "# The columns 'global_contexts' and the 'location_stack' contain most of the event specific data. These columns are json type \n",
    "# columns and we can extract data from it based on the keys of the json objects using `SeriesGlobalContexts` or \n",
    "# `SeriesLocationStack` methods to extract the data.\n",
    "\n",
    "# add 'application', 'feature_nice_name' and 'root_location' as columns, so that we can use it for grouping etc later\n",
    "df['application'] = df.global_contexts.gc.application\n",
    "df['feature_nice_name'] = df.location_stack.ls.nice_name\n",
    "df['root_location'] = df.location_stack.ls.get_from_context_with_type_series(type='RootLocationContext', key='id')"
   ]
  },
  {
   "cell_type": "code",
   "execution_count": 3,
   "metadata": {},
   "outputs": [],
   "source": [
    "# derive a specific DataFrame with added marketing contexts\n",
    "df_acquisition = df.copy()\n",
    "# extract referrer and marketing contexts from the global contexts\n",
    "df_acquisition['referrer'] = df_acquisition.global_contexts.gc.get_from_context_with_type_series(type='HttpContext', key='referrer')\n",
    "df_acquisition['utm_source'] = df_acquisition.global_contexts.gc.get_from_context_with_type_series(type='MarketingContext', key='source')\n",
    "df_acquisition['utm_medium'] = df_acquisition.global_contexts.gc.get_from_context_with_type_series(type='MarketingContext', key='medium')\n",
    "df_acquisition['utm_campaign'] = df_acquisition.global_contexts.gc.get_from_context_with_type_series(type='MarketingContext', key='campaign')\n",
    "df_acquisition['utm_content'] = df_acquisition.global_contexts.gc.get_from_context_with_type_series(type='MarketingContext', key='content')\n",
    "df_acquisition['utm_term'] = df_acquisition.global_contexts.gc.get_from_context_with_type_series(type='MarketingContext', key='term')"
   ]
  },
  {
   "cell_type": "code",
   "execution_count": 4,
   "metadata": {},
   "outputs": [],
   "source": [
    "# also define a DataFrame with only the users that came in via a marketing campaign\n",
    "# TBD: does this keep all sessions that started with a marketing campaign?\n",
    "df_marketing_only = df_acquisition.dropna(axis=0, how='any', subset='utm_source')"
   ]
  },
  {
   "cell_type": "code",
   "execution_count": 5,
   "metadata": {},
   "outputs": [],
   "source": [
    "# define a further selection: which source to select in the below analyses.\n",
    "source_selection=['twitter', 'reddit']\n",
    "sources = DataFrame.from_pandas(engine=df.engine, df=pd.DataFrame({'sources': source_selection}), convert_objects=True).sources\n",
    "# filter on defined list of UTM Sources\n",
    "df_marketing_selection = df_marketing_only[(df_marketing_only.utm_source.isin(sources))]"
   ]
  },
  {
   "cell_type": "markdown",
   "metadata": {},
   "source": [
    "#### Available dataframes:\n",
    "- `df` = all + `application` + `feature_nice_name` + `root_location`.\n",
    "- `df_acquisition` = `df` + referrer + all UTMs\n",
    "- `df_marketing_only` = `df_acquisition`, but only sessions with non_null `utm_source`.\n",
    "- `df_marketing_selection` = `df_marketing_only`, but filtered for selection, e.g. only `utm_source` in `{'reddit', 'twitter'}`."
   ]
  },
  {
   "cell_type": "markdown",
   "metadata": {},
   "source": [
    "### Reference\n",
    "* [modelhub.ModelHub.get_objectiv_dataframe](https://objectiv.io/docs/modeling/open-model-hub/api-reference/ModelHub/get_objectiv_dataframe/)\n",
    "* [modelhub.SeriesGlobalContexts.gc](https://objectiv.io/docs/modeling/open-model-hub/api-reference/SeriesGlobalContexts/gc/)\n",
    "* [bach.DataFrame.dropna](https://objectiv.io/docs/modeling/bach/api-reference/DataFrame/dropna/)\n",
    "* [bach.DataFrame.from_pandas](https://objectiv.io/docs/modeling/bach/api-reference/DataFrame/from_pandas/)"
   ]
  },
  {
   "cell_type": "markdown",
   "metadata": {},
   "source": [
    "# Acquisition"
   ]
  },
  {
   "cell_type": "markdown",
   "metadata": {},
   "source": [
    "## Users from marketing"
   ]
  },
  {
   "cell_type": "code",
   "execution_count": 7,
   "metadata": {},
   "outputs": [
    {
     "data": {
      "text/plain": [
       "time_aggregation\n",
       "2022-08-09     7\n",
       "2022-08-08    20\n",
       "2022-08-07     6\n",
       "2022-08-06     7\n",
       "2022-08-05     6\n",
       "Name: unique_users, dtype: int64"
      ]
     },
     "execution_count": 7,
     "metadata": {},
     "output_type": "execute_result"
    }
   ],
   "source": [
    "# show daily number of people coming from marketing campaigns\n",
    "users_from_marketing_daily = modelhub.aggregate.unique_users(df_marketing_selection).sort_index(ascending=False)\n",
    "users_from_marketing_daily.head()"
   ]
  },
  {
   "cell_type": "code",
   "execution_count": 8,
   "metadata": {},
   "outputs": [
    {
     "data": {
      "text/plain": [
       "<AxesSubplot:title={'center':'Daily #users from marketing'}, xlabel='Day'>"
      ]
     },
     "execution_count": 8,
     "metadata": {},
     "output_type": "execute_result"
    },
    {
     "data": {
      "image/png": "[encoded data removed]",
      "text/plain": [
       "<Figure size 1080x360 with 1 Axes>"
      ]
     },
     "metadata": {
      "needs_background": "light"
     },
     "output_type": "display_data"
    }
   ],
   "source": [
    "users_from_marketing_daily.sort_index(ascending=True).to_pandas().plot(kind='bar', figsize=[15,5], title='Daily #users from marketing', xlabel='Day')"
   ]
  },
  {
   "cell_type": "markdown",
   "metadata": {},
   "source": [
    "## Users per source-medium-campaign over full timeframe"
   ]
  },
  {
   "cell_type": "code",
   "execution_count": 9,
   "metadata": {},
   "outputs": [
    {
     "data": {
      "text/html": [
       "<div>\n",
       "<style scoped>\n",
       "    .dataframe tbody tr th:only-of-type {\n",
       "        vertical-align: middle;\n",
       "    }\n",
       "\n",
       "    .dataframe tbody tr th {\n",
       "        vertical-align: top;\n",
       "    }\n",
       "\n",
       "    .dataframe thead th {\n",
       "        text-align: right;\n",
       "    }\n",
       "</style>\n",
       "<table border=\"1\" class=\"dataframe\">\n",
       "  <thead>\n",
       "    <tr style=\"text-align: right;\">\n",
       "      <th></th>\n",
       "      <th>utm_source</th>\n",
       "      <th>utm_medium</th>\n",
       "      <th>utm_campaign</th>\n",
       "      <th>unique_users</th>\n",
       "    </tr>\n",
       "  </thead>\n",
       "  <tbody>\n",
       "    <tr>\n",
       "      <th>0</th>\n",
       "      <td>twitter</td>\n",
       "      <td>paid</td>\n",
       "      <td>utm_test</td>\n",
       "      <td>213</td>\n",
       "    </tr>\n",
       "    <tr>\n",
       "      <th>1</th>\n",
       "      <td>reddit</td>\n",
       "      <td>paid</td>\n",
       "      <td>june</td>\n",
       "      <td>83</td>\n",
       "    </tr>\n",
       "    <tr>\n",
       "      <th>2</th>\n",
       "      <td>twitter</td>\n",
       "      <td>paid</td>\n",
       "      <td>july_conversion</td>\n",
       "      <td>65</td>\n",
       "    </tr>\n",
       "    <tr>\n",
       "      <th>3</th>\n",
       "      <td>reddit</td>\n",
       "      <td>paid</td>\n",
       "      <td>july_conversion</td>\n",
       "      <td>38</td>\n",
       "    </tr>\n",
       "    <tr>\n",
       "      <th>4</th>\n",
       "      <td>twitter</td>\n",
       "      <td>social</td>\n",
       "      <td>blog</td>\n",
       "      <td>11</td>\n",
       "    </tr>\n",
       "    <tr>\n",
       "      <th>5</th>\n",
       "      <td>twitter</td>\n",
       "      <td>paid</td>\n",
       "      <td>july</td>\n",
       "      <td>4</td>\n",
       "    </tr>\n",
       "    <tr>\n",
       "      <th>6</th>\n",
       "      <td>twitter</td>\n",
       "      <td>paidl</td>\n",
       "      <td>july</td>\n",
       "      <td>1</td>\n",
       "    </tr>\n",
       "    <tr>\n",
       "      <th>7</th>\n",
       "      <td>twitter</td>\n",
       "      <td>post</td>\n",
       "      <td>Oktopost-Horizontal</td>\n",
       "      <td>1</td>\n",
       "    </tr>\n",
       "  </tbody>\n",
       "</table>\n",
       "</div>"
      ],
      "text/plain": [
       "  utm_source utm_medium         utm_campaign  unique_users\n",
       "0    twitter       paid             utm_test           213\n",
       "1     reddit       paid                 june            83\n",
       "2    twitter       paid      july_conversion            65\n",
       "3     reddit       paid      july_conversion            38\n",
       "4    twitter     social                 blog            11\n",
       "5    twitter       paid                 july             4\n",
       "6    twitter      paidl                 july             1\n",
       "7    twitter       post  Oktopost-Horizontal             1"
      ]
     },
     "execution_count": 9,
     "metadata": {},
     "output_type": "execute_result"
    }
   ],
   "source": [
    "# split users by marketing _campaign_ (based on UTM data)\n",
    "users_per_campaign = modelhub.aggregate.unique_users(df_marketing_selection, ['utm_source', 'utm_medium', 'utm_campaign'])\n",
    "users_per_campaign.reset_index().dropna(axis=0, how='any', subset='utm_source').sort_values(['unique_users'], ascending=False).head(10)"
   ]
  },
  {
   "cell_type": "code",
   "execution_count": 10,
   "metadata": {},
   "outputs": [
    {
     "data": {
      "text/plain": [
       "<AxesSubplot:xlabel='utm_source'>"
      ]
     },
     "execution_count": 10,
     "metadata": {},
     "output_type": "execute_result"
    },
    {
     "data": {
      "image/png": "[encoded data removed]",
      "text/plain": [
       "<Figure size 432x288 with 1 Axes>"
      ]
     },
     "metadata": {
      "needs_background": "light"
     },
     "output_type": "display_data"
    }
   ],
   "source": [
    "# Stacked graph per campaign\n",
    "upc = users_per_campaign.to_frame().reset_index()[['utm_source', 'utm_campaign', 'unique_users']]\n",
    "upc = upc.to_pandas().groupby(['utm_source', 'utm_campaign'])\n",
    "upc_pivot = upc.sum().reset_index().pivot(index='utm_source', columns='utm_campaign')['unique_users'].reset_index().sort_values(by=['utm_source'], ascending=False)\n",
    "upc_pivot.plot.bar(x='utm_source', stacked=True)"
   ]
  },
  {
   "cell_type": "markdown",
   "metadata": {},
   "source": [
    "## Users from marketing _source_ per day"
   ]
  },
  {
   "cell_type": "code",
   "execution_count": 11,
   "metadata": {},
   "outputs": [
    {
     "data": {
      "text/html": [
       "<div>\n",
       "<style scoped>\n",
       "    .dataframe tbody tr th:only-of-type {\n",
       "        vertical-align: middle;\n",
       "    }\n",
       "\n",
       "    .dataframe tbody tr th {\n",
       "        vertical-align: top;\n",
       "    }\n",
       "\n",
       "    .dataframe thead th {\n",
       "        text-align: right;\n",
       "    }\n",
       "</style>\n",
       "<table border=\"1\" class=\"dataframe\">\n",
       "  <thead>\n",
       "    <tr style=\"text-align: right;\">\n",
       "      <th></th>\n",
       "      <th>utm_source</th>\n",
       "      <th>day</th>\n",
       "      <th>unique_users</th>\n",
       "    </tr>\n",
       "  </thead>\n",
       "  <tbody>\n",
       "    <tr>\n",
       "      <th>0</th>\n",
       "      <td>reddit</td>\n",
       "      <td>2022-07-18</td>\n",
       "      <td>1</td>\n",
       "    </tr>\n",
       "    <tr>\n",
       "      <th>1</th>\n",
       "      <td>reddit</td>\n",
       "      <td>2022-07-19</td>\n",
       "      <td>4</td>\n",
       "    </tr>\n",
       "    <tr>\n",
       "      <th>2</th>\n",
       "      <td>reddit</td>\n",
       "      <td>2022-07-21</td>\n",
       "      <td>1</td>\n",
       "    </tr>\n",
       "    <tr>\n",
       "      <th>3</th>\n",
       "      <td>reddit</td>\n",
       "      <td>2022-07-22</td>\n",
       "      <td>12</td>\n",
       "    </tr>\n",
       "    <tr>\n",
       "      <th>4</th>\n",
       "      <td>reddit</td>\n",
       "      <td>2022-07-23</td>\n",
       "      <td>10</td>\n",
       "    </tr>\n",
       "    <tr>\n",
       "      <th>5</th>\n",
       "      <td>reddit</td>\n",
       "      <td>2022-07-24</td>\n",
       "      <td>18</td>\n",
       "    </tr>\n",
       "    <tr>\n",
       "      <th>6</th>\n",
       "      <td>reddit</td>\n",
       "      <td>2022-07-25</td>\n",
       "      <td>19</td>\n",
       "    </tr>\n",
       "    <tr>\n",
       "      <th>7</th>\n",
       "      <td>reddit</td>\n",
       "      <td>2022-07-26</td>\n",
       "      <td>15</td>\n",
       "    </tr>\n",
       "    <tr>\n",
       "      <th>8</th>\n",
       "      <td>reddit</td>\n",
       "      <td>2022-07-27</td>\n",
       "      <td>4</td>\n",
       "    </tr>\n",
       "    <tr>\n",
       "      <th>9</th>\n",
       "      <td>reddit</td>\n",
       "      <td>2022-07-30</td>\n",
       "      <td>2</td>\n",
       "    </tr>\n",
       "    <tr>\n",
       "      <th>10</th>\n",
       "      <td>reddit</td>\n",
       "      <td>2022-07-31</td>\n",
       "      <td>3</td>\n",
       "    </tr>\n",
       "    <tr>\n",
       "      <th>11</th>\n",
       "      <td>reddit</td>\n",
       "      <td>2022-08-01</td>\n",
       "      <td>5</td>\n",
       "    </tr>\n",
       "    <tr>\n",
       "      <th>12</th>\n",
       "      <td>reddit</td>\n",
       "      <td>2022-08-02</td>\n",
       "      <td>8</td>\n",
       "    </tr>\n",
       "    <tr>\n",
       "      <th>13</th>\n",
       "      <td>reddit</td>\n",
       "      <td>2022-08-03</td>\n",
       "      <td>6</td>\n",
       "    </tr>\n",
       "    <tr>\n",
       "      <th>14</th>\n",
       "      <td>reddit</td>\n",
       "      <td>2022-08-04</td>\n",
       "      <td>2</td>\n",
       "    </tr>\n",
       "    <tr>\n",
       "      <th>15</th>\n",
       "      <td>reddit</td>\n",
       "      <td>2022-08-05</td>\n",
       "      <td>1</td>\n",
       "    </tr>\n",
       "    <tr>\n",
       "      <th>16</th>\n",
       "      <td>reddit</td>\n",
       "      <td>2022-08-06</td>\n",
       "      <td>3</td>\n",
       "    </tr>\n",
       "    <tr>\n",
       "      <th>17</th>\n",
       "      <td>reddit</td>\n",
       "      <td>2022-08-07</td>\n",
       "      <td>1</td>\n",
       "    </tr>\n",
       "    <tr>\n",
       "      <th>18</th>\n",
       "      <td>reddit</td>\n",
       "      <td>2022-08-08</td>\n",
       "      <td>5</td>\n",
       "    </tr>\n",
       "    <tr>\n",
       "      <th>19</th>\n",
       "      <td>reddit</td>\n",
       "      <td>2022-08-09</td>\n",
       "      <td>4</td>\n",
       "    </tr>\n",
       "    <tr>\n",
       "      <th>20</th>\n",
       "      <td>twitter</td>\n",
       "      <td>2022-06-01</td>\n",
       "      <td>1</td>\n",
       "    </tr>\n",
       "    <tr>\n",
       "      <th>21</th>\n",
       "      <td>twitter</td>\n",
       "      <td>2022-06-09</td>\n",
       "      <td>1</td>\n",
       "    </tr>\n",
       "    <tr>\n",
       "      <th>22</th>\n",
       "      <td>twitter</td>\n",
       "      <td>2022-06-14</td>\n",
       "      <td>1</td>\n",
       "    </tr>\n",
       "    <tr>\n",
       "      <th>23</th>\n",
       "      <td>twitter</td>\n",
       "      <td>2022-07-06</td>\n",
       "      <td>1</td>\n",
       "    </tr>\n",
       "    <tr>\n",
       "      <th>24</th>\n",
       "      <td>twitter</td>\n",
       "      <td>2022-07-21</td>\n",
       "      <td>6</td>\n",
       "    </tr>\n",
       "    <tr>\n",
       "      <th>25</th>\n",
       "      <td>twitter</td>\n",
       "      <td>2022-07-22</td>\n",
       "      <td>35</td>\n",
       "    </tr>\n",
       "    <tr>\n",
       "      <th>26</th>\n",
       "      <td>twitter</td>\n",
       "      <td>2022-07-23</td>\n",
       "      <td>44</td>\n",
       "    </tr>\n",
       "    <tr>\n",
       "      <th>27</th>\n",
       "      <td>twitter</td>\n",
       "      <td>2022-07-24</td>\n",
       "      <td>34</td>\n",
       "    </tr>\n",
       "    <tr>\n",
       "      <th>28</th>\n",
       "      <td>twitter</td>\n",
       "      <td>2022-07-25</td>\n",
       "      <td>44</td>\n",
       "    </tr>\n",
       "    <tr>\n",
       "      <th>29</th>\n",
       "      <td>twitter</td>\n",
       "      <td>2022-07-26</td>\n",
       "      <td>48</td>\n",
       "    </tr>\n",
       "    <tr>\n",
       "      <th>30</th>\n",
       "      <td>twitter</td>\n",
       "      <td>2022-07-27</td>\n",
       "      <td>18</td>\n",
       "    </tr>\n",
       "    <tr>\n",
       "      <th>31</th>\n",
       "      <td>twitter</td>\n",
       "      <td>2022-07-28</td>\n",
       "      <td>3</td>\n",
       "    </tr>\n",
       "    <tr>\n",
       "      <th>32</th>\n",
       "      <td>twitter</td>\n",
       "      <td>2022-07-29</td>\n",
       "      <td>6</td>\n",
       "    </tr>\n",
       "    <tr>\n",
       "      <th>33</th>\n",
       "      <td>twitter</td>\n",
       "      <td>2022-07-31</td>\n",
       "      <td>1</td>\n",
       "    </tr>\n",
       "    <tr>\n",
       "      <th>34</th>\n",
       "      <td>twitter</td>\n",
       "      <td>2022-08-01</td>\n",
       "      <td>11</td>\n",
       "    </tr>\n",
       "    <tr>\n",
       "      <th>35</th>\n",
       "      <td>twitter</td>\n",
       "      <td>2022-08-02</td>\n",
       "      <td>8</td>\n",
       "    </tr>\n",
       "    <tr>\n",
       "      <th>36</th>\n",
       "      <td>twitter</td>\n",
       "      <td>2022-08-03</td>\n",
       "      <td>4</td>\n",
       "    </tr>\n",
       "    <tr>\n",
       "      <th>37</th>\n",
       "      <td>twitter</td>\n",
       "      <td>2022-08-04</td>\n",
       "      <td>10</td>\n",
       "    </tr>\n",
       "    <tr>\n",
       "      <th>38</th>\n",
       "      <td>twitter</td>\n",
       "      <td>2022-08-05</td>\n",
       "      <td>5</td>\n",
       "    </tr>\n",
       "    <tr>\n",
       "      <th>39</th>\n",
       "      <td>twitter</td>\n",
       "      <td>2022-08-06</td>\n",
       "      <td>4</td>\n",
       "    </tr>\n",
       "    <tr>\n",
       "      <th>40</th>\n",
       "      <td>twitter</td>\n",
       "      <td>2022-08-07</td>\n",
       "      <td>5</td>\n",
       "    </tr>\n",
       "    <tr>\n",
       "      <th>41</th>\n",
       "      <td>twitter</td>\n",
       "      <td>2022-08-08</td>\n",
       "      <td>15</td>\n",
       "    </tr>\n",
       "    <tr>\n",
       "      <th>42</th>\n",
       "      <td>twitter</td>\n",
       "      <td>2022-08-09</td>\n",
       "      <td>3</td>\n",
       "    </tr>\n",
       "  </tbody>\n",
       "</table>\n",
       "</div>"
      ],
      "text/plain": [
       "   utm_source         day  unique_users\n",
       "0      reddit  2022-07-18             1\n",
       "1      reddit  2022-07-19             4\n",
       "2      reddit  2022-07-21             1\n",
       "3      reddit  2022-07-22            12\n",
       "4      reddit  2022-07-23            10\n",
       "5      reddit  2022-07-24            18\n",
       "6      reddit  2022-07-25            19\n",
       "7      reddit  2022-07-26            15\n",
       "8      reddit  2022-07-27             4\n",
       "9      reddit  2022-07-30             2\n",
       "10     reddit  2022-07-31             3\n",
       "11     reddit  2022-08-01             5\n",
       "12     reddit  2022-08-02             8\n",
       "13     reddit  2022-08-03             6\n",
       "14     reddit  2022-08-04             2\n",
       "15     reddit  2022-08-05             1\n",
       "16     reddit  2022-08-06             3\n",
       "17     reddit  2022-08-07             1\n",
       "18     reddit  2022-08-08             5\n",
       "19     reddit  2022-08-09             4\n",
       "20    twitter  2022-06-01             1\n",
       "21    twitter  2022-06-09             1\n",
       "22    twitter  2022-06-14             1\n",
       "23    twitter  2022-07-06             1\n",
       "24    twitter  2022-07-21             6\n",
       "25    twitter  2022-07-22            35\n",
       "26    twitter  2022-07-23            44\n",
       "27    twitter  2022-07-24            34\n",
       "28    twitter  2022-07-25            44\n",
       "29    twitter  2022-07-26            48\n",
       "30    twitter  2022-07-27            18\n",
       "31    twitter  2022-07-28             3\n",
       "32    twitter  2022-07-29             6\n",
       "33    twitter  2022-07-31             1\n",
       "34    twitter  2022-08-01            11\n",
       "35    twitter  2022-08-02             8\n",
       "36    twitter  2022-08-03             4\n",
       "37    twitter  2022-08-04            10\n",
       "38    twitter  2022-08-05             5\n",
       "39    twitter  2022-08-06             4\n",
       "40    twitter  2022-08-07             5\n",
       "41    twitter  2022-08-08            15\n",
       "42    twitter  2022-08-09             3"
      ]
     },
     "execution_count": 11,
     "metadata": {},
     "output_type": "execute_result"
    }
   ],
   "source": [
    "# users by marketing _source_, per day\n",
    "source_users_daily = modelhub.agg.unique_users(df_marketing_selection, groupby=['utm_source', 'day'])\n",
    "source_users_daily = source_users_daily.reset_index().dropna(axis=0, how='any', subset='utm_source')\n",
    "source_users_daily.sort_values('utm_source', ascending=True).head(50)"
   ]
  },
  {
   "cell_type": "markdown",
   "metadata": {},
   "source": [
    "## Users from marketing _campaign_ per day"
   ]
  },
  {
   "cell_type": "code",
   "execution_count": 12,
   "metadata": {},
   "outputs": [
    {
     "data": {
      "text/html": [
       "<div>\n",
       "<style scoped>\n",
       "    .dataframe tbody tr th:only-of-type {\n",
       "        vertical-align: middle;\n",
       "    }\n",
       "\n",
       "    .dataframe tbody tr th {\n",
       "        vertical-align: top;\n",
       "    }\n",
       "\n",
       "    .dataframe thead th {\n",
       "        text-align: right;\n",
       "    }\n",
       "</style>\n",
       "<table border=\"1\" class=\"dataframe\">\n",
       "  <thead>\n",
       "    <tr style=\"text-align: right;\">\n",
       "      <th></th>\n",
       "      <th>utm_source</th>\n",
       "      <th>utm_medium</th>\n",
       "      <th>utm_campaign</th>\n",
       "      <th>day</th>\n",
       "      <th>unique_users</th>\n",
       "    </tr>\n",
       "  </thead>\n",
       "  <tbody>\n",
       "    <tr>\n",
       "      <th>0</th>\n",
       "      <td>twitter</td>\n",
       "      <td>social</td>\n",
       "      <td>blog</td>\n",
       "      <td>2022-08-09</td>\n",
       "      <td>1</td>\n",
       "    </tr>\n",
       "    <tr>\n",
       "      <th>1</th>\n",
       "      <td>twitter</td>\n",
       "      <td>social</td>\n",
       "      <td>blog</td>\n",
       "      <td>2022-08-01</td>\n",
       "      <td>4</td>\n",
       "    </tr>\n",
       "    <tr>\n",
       "      <th>2</th>\n",
       "      <td>twitter</td>\n",
       "      <td>social</td>\n",
       "      <td>blog</td>\n",
       "      <td>2022-07-28</td>\n",
       "      <td>1</td>\n",
       "    </tr>\n",
       "    <tr>\n",
       "      <th>3</th>\n",
       "      <td>twitter</td>\n",
       "      <td>social</td>\n",
       "      <td>blog</td>\n",
       "      <td>2022-07-21</td>\n",
       "      <td>1</td>\n",
       "    </tr>\n",
       "    <tr>\n",
       "      <th>4</th>\n",
       "      <td>twitter</td>\n",
       "      <td>social</td>\n",
       "      <td>blog</td>\n",
       "      <td>2022-07-06</td>\n",
       "      <td>1</td>\n",
       "    </tr>\n",
       "    <tr>\n",
       "      <th>5</th>\n",
       "      <td>twitter</td>\n",
       "      <td>social</td>\n",
       "      <td>blog</td>\n",
       "      <td>2022-06-14</td>\n",
       "      <td>1</td>\n",
       "    </tr>\n",
       "    <tr>\n",
       "      <th>6</th>\n",
       "      <td>twitter</td>\n",
       "      <td>social</td>\n",
       "      <td>blog</td>\n",
       "      <td>2022-06-09</td>\n",
       "      <td>1</td>\n",
       "    </tr>\n",
       "    <tr>\n",
       "      <th>7</th>\n",
       "      <td>twitter</td>\n",
       "      <td>social</td>\n",
       "      <td>blog</td>\n",
       "      <td>2022-06-01</td>\n",
       "      <td>1</td>\n",
       "    </tr>\n",
       "    <tr>\n",
       "      <th>8</th>\n",
       "      <td>twitter</td>\n",
       "      <td>paidl</td>\n",
       "      <td>july</td>\n",
       "      <td>2022-07-21</td>\n",
       "      <td>1</td>\n",
       "    </tr>\n",
       "    <tr>\n",
       "      <th>9</th>\n",
       "      <td>twitter</td>\n",
       "      <td>paid</td>\n",
       "      <td>july</td>\n",
       "      <td>2022-07-22</td>\n",
       "      <td>1</td>\n",
       "    </tr>\n",
       "    <tr>\n",
       "      <th>10</th>\n",
       "      <td>twitter</td>\n",
       "      <td>paid</td>\n",
       "      <td>july</td>\n",
       "      <td>2022-07-21</td>\n",
       "      <td>4</td>\n",
       "    </tr>\n",
       "    <tr>\n",
       "      <th>11</th>\n",
       "      <td>twitter</td>\n",
       "      <td>paid</td>\n",
       "      <td>july_conversion</td>\n",
       "      <td>2022-08-05</td>\n",
       "      <td>5</td>\n",
       "    </tr>\n",
       "    <tr>\n",
       "      <th>12</th>\n",
       "      <td>reddit</td>\n",
       "      <td>paid</td>\n",
       "      <td>july_conversion</td>\n",
       "      <td>2022-07-31</td>\n",
       "      <td>3</td>\n",
       "    </tr>\n",
       "    <tr>\n",
       "      <th>13</th>\n",
       "      <td>reddit</td>\n",
       "      <td>paid</td>\n",
       "      <td>july_conversion</td>\n",
       "      <td>2022-08-01</td>\n",
       "      <td>4</td>\n",
       "    </tr>\n",
       "    <tr>\n",
       "      <th>14</th>\n",
       "      <td>reddit</td>\n",
       "      <td>paid</td>\n",
       "      <td>july_conversion</td>\n",
       "      <td>2022-08-02</td>\n",
       "      <td>8</td>\n",
       "    </tr>\n",
       "    <tr>\n",
       "      <th>15</th>\n",
       "      <td>reddit</td>\n",
       "      <td>paid</td>\n",
       "      <td>july_conversion</td>\n",
       "      <td>2022-08-03</td>\n",
       "      <td>6</td>\n",
       "    </tr>\n",
       "    <tr>\n",
       "      <th>16</th>\n",
       "      <td>reddit</td>\n",
       "      <td>paid</td>\n",
       "      <td>july_conversion</td>\n",
       "      <td>2022-08-04</td>\n",
       "      <td>2</td>\n",
       "    </tr>\n",
       "    <tr>\n",
       "      <th>17</th>\n",
       "      <td>reddit</td>\n",
       "      <td>paid</td>\n",
       "      <td>july_conversion</td>\n",
       "      <td>2022-08-05</td>\n",
       "      <td>1</td>\n",
       "    </tr>\n",
       "    <tr>\n",
       "      <th>18</th>\n",
       "      <td>reddit</td>\n",
       "      <td>paid</td>\n",
       "      <td>july_conversion</td>\n",
       "      <td>2022-08-06</td>\n",
       "      <td>3</td>\n",
       "    </tr>\n",
       "    <tr>\n",
       "      <th>19</th>\n",
       "      <td>reddit</td>\n",
       "      <td>paid</td>\n",
       "      <td>july_conversion</td>\n",
       "      <td>2022-08-07</td>\n",
       "      <td>1</td>\n",
       "    </tr>\n",
       "    <tr>\n",
       "      <th>20</th>\n",
       "      <td>reddit</td>\n",
       "      <td>paid</td>\n",
       "      <td>july_conversion</td>\n",
       "      <td>2022-08-08</td>\n",
       "      <td>5</td>\n",
       "    </tr>\n",
       "    <tr>\n",
       "      <th>21</th>\n",
       "      <td>reddit</td>\n",
       "      <td>paid</td>\n",
       "      <td>july_conversion</td>\n",
       "      <td>2022-08-09</td>\n",
       "      <td>3</td>\n",
       "    </tr>\n",
       "    <tr>\n",
       "      <th>22</th>\n",
       "      <td>twitter</td>\n",
       "      <td>paid</td>\n",
       "      <td>july_conversion</td>\n",
       "      <td>2022-07-27</td>\n",
       "      <td>1</td>\n",
       "    </tr>\n",
       "    <tr>\n",
       "      <th>23</th>\n",
       "      <td>twitter</td>\n",
       "      <td>paid</td>\n",
       "      <td>july_conversion</td>\n",
       "      <td>2022-07-28</td>\n",
       "      <td>2</td>\n",
       "    </tr>\n",
       "    <tr>\n",
       "      <th>24</th>\n",
       "      <td>twitter</td>\n",
       "      <td>paid</td>\n",
       "      <td>july_conversion</td>\n",
       "      <td>2022-07-29</td>\n",
       "      <td>6</td>\n",
       "    </tr>\n",
       "    <tr>\n",
       "      <th>25</th>\n",
       "      <td>twitter</td>\n",
       "      <td>paid</td>\n",
       "      <td>july_conversion</td>\n",
       "      <td>2022-07-31</td>\n",
       "      <td>1</td>\n",
       "    </tr>\n",
       "    <tr>\n",
       "      <th>26</th>\n",
       "      <td>twitter</td>\n",
       "      <td>paid</td>\n",
       "      <td>july_conversion</td>\n",
       "      <td>2022-08-01</td>\n",
       "      <td>7</td>\n",
       "    </tr>\n",
       "    <tr>\n",
       "      <th>27</th>\n",
       "      <td>twitter</td>\n",
       "      <td>paid</td>\n",
       "      <td>july_conversion</td>\n",
       "      <td>2022-08-02</td>\n",
       "      <td>8</td>\n",
       "    </tr>\n",
       "    <tr>\n",
       "      <th>28</th>\n",
       "      <td>twitter</td>\n",
       "      <td>paid</td>\n",
       "      <td>july_conversion</td>\n",
       "      <td>2022-08-03</td>\n",
       "      <td>4</td>\n",
       "    </tr>\n",
       "    <tr>\n",
       "      <th>29</th>\n",
       "      <td>twitter</td>\n",
       "      <td>paid</td>\n",
       "      <td>july_conversion</td>\n",
       "      <td>2022-08-04</td>\n",
       "      <td>10</td>\n",
       "    </tr>\n",
       "  </tbody>\n",
       "</table>\n",
       "</div>"
      ],
      "text/plain": [
       "   utm_source utm_medium     utm_campaign         day  unique_users\n",
       "0     twitter     social             blog  2022-08-09             1\n",
       "1     twitter     social             blog  2022-08-01             4\n",
       "2     twitter     social             blog  2022-07-28             1\n",
       "3     twitter     social             blog  2022-07-21             1\n",
       "4     twitter     social             blog  2022-07-06             1\n",
       "5     twitter     social             blog  2022-06-14             1\n",
       "6     twitter     social             blog  2022-06-09             1\n",
       "7     twitter     social             blog  2022-06-01             1\n",
       "8     twitter      paidl             july  2022-07-21             1\n",
       "9     twitter       paid             july  2022-07-22             1\n",
       "10    twitter       paid             july  2022-07-21             4\n",
       "11    twitter       paid  july_conversion  2022-08-05             5\n",
       "12     reddit       paid  july_conversion  2022-07-31             3\n",
       "13     reddit       paid  july_conversion  2022-08-01             4\n",
       "14     reddit       paid  july_conversion  2022-08-02             8\n",
       "15     reddit       paid  july_conversion  2022-08-03             6\n",
       "16     reddit       paid  july_conversion  2022-08-04             2\n",
       "17     reddit       paid  july_conversion  2022-08-05             1\n",
       "18     reddit       paid  july_conversion  2022-08-06             3\n",
       "19     reddit       paid  july_conversion  2022-08-07             1\n",
       "20     reddit       paid  july_conversion  2022-08-08             5\n",
       "21     reddit       paid  july_conversion  2022-08-09             3\n",
       "22    twitter       paid  july_conversion  2022-07-27             1\n",
       "23    twitter       paid  july_conversion  2022-07-28             2\n",
       "24    twitter       paid  july_conversion  2022-07-29             6\n",
       "25    twitter       paid  july_conversion  2022-07-31             1\n",
       "26    twitter       paid  july_conversion  2022-08-01             7\n",
       "27    twitter       paid  july_conversion  2022-08-02             8\n",
       "28    twitter       paid  july_conversion  2022-08-03             4\n",
       "29    twitter       paid  july_conversion  2022-08-04            10"
      ]
     },
     "execution_count": 12,
     "metadata": {},
     "output_type": "execute_result"
    }
   ],
   "source": [
    "# users by marketing _campaign_ (based on UTM data), per day\n",
    "users_per_campaign_daily = modelhub.aggregate.unique_users(df_marketing_selection, ['utm_source', 'utm_medium', 'utm_campaign', 'day'])\n",
    "users_per_campaign_daily = users_per_campaign_daily.reset_index().dropna(axis=0, how='any', subset='utm_campaign')\n",
    "users_per_campaign_daily.sort_values('utm_campaign', ascending=True).head(30)"
   ]
  },
  {
   "cell_type": "markdown",
   "metadata": {},
   "source": [
    "## Referrers overall"
   ]
  },
  {
   "cell_type": "code",
   "execution_count": 13,
   "metadata": {},
   "outputs": [
    {
     "data": {
      "text/html": [
       "<div>\n",
       "<style scoped>\n",
       "    .dataframe tbody tr th:only-of-type {\n",
       "        vertical-align: middle;\n",
       "    }\n",
       "\n",
       "    .dataframe tbody tr th {\n",
       "        vertical-align: top;\n",
       "    }\n",
       "\n",
       "    .dataframe thead th {\n",
       "        text-align: right;\n",
       "    }\n",
       "</style>\n",
       "<table border=\"1\" class=\"dataframe\">\n",
       "  <thead>\n",
       "    <tr style=\"text-align: right;\">\n",
       "      <th></th>\n",
       "      <th>unique_users</th>\n",
       "    </tr>\n",
       "    <tr>\n",
       "      <th>referrer</th>\n",
       "      <th></th>\n",
       "    </tr>\n",
       "  </thead>\n",
       "  <tbody>\n",
       "    <tr>\n",
       "      <th></th>\n",
       "      <td>1068</td>\n",
       "    </tr>\n",
       "    <tr>\n",
       "      <th>https://objectiv.io/</th>\n",
       "      <td>151</td>\n",
       "    </tr>\n",
       "    <tr>\n",
       "      <th>https://www.google.com/</th>\n",
       "      <td>147</td>\n",
       "    </tr>\n",
       "    <tr>\n",
       "      <th>https://www.reddit.com/</th>\n",
       "      <td>105</td>\n",
       "    </tr>\n",
       "    <tr>\n",
       "      <th>https://t.co/</th>\n",
       "      <td>59</td>\n",
       "    </tr>\n",
       "    <tr>\n",
       "      <th>https://www.linkedin.com/</th>\n",
       "      <td>46</td>\n",
       "    </tr>\n",
       "    <tr>\n",
       "      <th>https://github.com/</th>\n",
       "      <td>36</td>\n",
       "    </tr>\n",
       "    <tr>\n",
       "      <th>https://github.com/objectiv/objectiv-analytics</th>\n",
       "      <td>34</td>\n",
       "    </tr>\n",
       "    <tr>\n",
       "      <th>https://stackshare.io/</th>\n",
       "      <td>17</td>\n",
       "    </tr>\n",
       "    <tr>\n",
       "      <th>https://news.ycombinator.com/</th>\n",
       "      <td>17</td>\n",
       "    </tr>\n",
       "    <tr>\n",
       "      <th>https://www.kdnuggets.com/</th>\n",
       "      <td>16</td>\n",
       "    </tr>\n",
       "    <tr>\n",
       "      <th>https://github.com/RunaCapital/awesome-oss-alternatives</th>\n",
       "      <td>11</td>\n",
       "    </tr>\n",
       "    <tr>\n",
       "      <th>android-app://com.linkedin.android/</th>\n",
       "      <td>10</td>\n",
       "    </tr>\n",
       "    <tr>\n",
       "      <th>https://objectiv.io/docs/modeling/open-model-hub/</th>\n",
       "      <td>8</td>\n",
       "    </tr>\n",
       "    <tr>\n",
       "      <th>android-app://com.slack/</th>\n",
       "      <td>8</td>\n",
       "    </tr>\n",
       "    <tr>\n",
       "      <th>https://www.google.nl/</th>\n",
       "      <td>7</td>\n",
       "    </tr>\n",
       "    <tr>\n",
       "      <th>https://objectiv.io/docs/home/quickstart-guide/</th>\n",
       "      <td>7</td>\n",
       "    </tr>\n",
       "    <tr>\n",
       "      <th>https://www.curiosityvc.com/</th>\n",
       "      <td>7</td>\n",
       "    </tr>\n",
       "    <tr>\n",
       "      <th>https://www.fly.vc/</th>\n",
       "      <td>6</td>\n",
       "    </tr>\n",
       "    <tr>\n",
       "      <th>https://okt.to/</th>\n",
       "      <td>6</td>\n",
       "    </tr>\n",
       "  </tbody>\n",
       "</table>\n",
       "</div>"
      ],
      "text/plain": [
       "                                                    unique_users\n",
       "referrer                                                        \n",
       "                                                            1068\n",
       "https://objectiv.io/                                         151\n",
       "https://www.google.com/                                      147\n",
       "https://www.reddit.com/                                      105\n",
       "https://t.co/                                                 59\n",
       "https://www.linkedin.com/                                     46\n",
       "https://github.com/                                           36\n",
       "https://github.com/objectiv/objectiv-analytics                34\n",
       "https://stackshare.io/                                        17\n",
       "https://news.ycombinator.com/                                 17\n",
       "https://www.kdnuggets.com/                                    16\n",
       "https://github.com/RunaCapital/awesome-oss-alte...            11\n",
       "android-app://com.linkedin.android/                           10\n",
       "https://objectiv.io/docs/modeling/open-model-hub/              8\n",
       "android-app://com.slack/                                       8\n",
       "https://www.google.nl/                                         7\n",
       "https://objectiv.io/docs/home/quickstart-guide/                7\n",
       "https://www.curiosityvc.com/                                   7\n",
       "https://www.fly.vc/                                            6\n",
       "https://okt.to/                                                6"
      ]
     },
     "execution_count": 13,
     "metadata": {},
     "output_type": "execute_result"
    }
   ],
   "source": [
    "# users by referrer in full timeframe (overall, including coming from marketing campaigns)\n",
    "referrer_users = modelhub.agg.unique_users(df_acquisition, groupby=['referrer']).sort_values(ascending=False).to_frame()\n",
    "referrer_users.head(20)"
   ]
  },
  {
   "cell_type": "code",
   "execution_count": 14,
   "metadata": {},
   "outputs": [
    {
     "data": {
      "text/plain": [
       "array([<AxesSubplot:ylabel='unique_users'>], dtype=object)"
      ]
     },
     "execution_count": 14,
     "metadata": {},
     "output_type": "execute_result"
    },
    {
     "data": {
      "image/png": "[encoded data removed]",
      "text/plain": [
       "<Figure size 1440x720 with 1 Axes>"
      ]
     },
     "metadata": {},
     "output_type": "display_data"
    }
   ],
   "source": [
    "# plot referrers in pie chart, but remove first index with empty referrers\n",
    "referrer_users.reset_index()[1:].set_index('referrer').to_pandas(limit=10).plot(kind='pie', subplots=True, figsize=[20,10])"
   ]
  },
  {
   "cell_type": "markdown",
   "metadata": {},
   "source": [
    "## Recent referrers (past 7 days)"
   ]
  },
  {
   "cell_type": "code",
   "execution_count": 15,
   "metadata": {},
   "outputs": [
    {
     "data": {
      "text/html": [
       "<div>\n",
       "<style scoped>\n",
       "    .dataframe tbody tr th:only-of-type {\n",
       "        vertical-align: middle;\n",
       "    }\n",
       "\n",
       "    .dataframe tbody tr th {\n",
       "        vertical-align: top;\n",
       "    }\n",
       "\n",
       "    .dataframe thead th {\n",
       "        text-align: right;\n",
       "    }\n",
       "</style>\n",
       "<table border=\"1\" class=\"dataframe\">\n",
       "  <thead>\n",
       "    <tr style=\"text-align: right;\">\n",
       "      <th></th>\n",
       "      <th>unique_users</th>\n",
       "    </tr>\n",
       "    <tr>\n",
       "      <th>referrer</th>\n",
       "      <th></th>\n",
       "    </tr>\n",
       "  </thead>\n",
       "  <tbody>\n",
       "    <tr>\n",
       "      <th></th>\n",
       "      <td>1</td>\n",
       "    </tr>\n",
       "  </tbody>\n",
       "</table>\n",
       "</div>"
      ],
      "text/plain": [
       "          unique_users\n",
       "referrer              \n",
       "                     1"
      ]
     },
     "execution_count": 15,
     "metadata": {},
     "output_type": "execute_result"
    }
   ],
   "source": [
    "# recent referrers (seen in past 7 days)\n",
    "recent_timeframe = datetime.today() - timedelta(days=7)\n",
    "df_acquisition_recent = df_acquisition[df_acquisition.day > recent_timeframe]\n",
    "referrer_users_recent = modelhub.agg.unique_users(df_acquisition_recent, groupby=['referrer']).sort_values(ascending=False).to_frame()\n",
    "referrer_users_recent.head(40)"
   ]
  },
  {
   "cell_type": "markdown",
   "metadata": {},
   "source": [
    "### Reference\n",
    "* [bach.Series.sort_index](https://objectiv.io/docs/modeling/bach/api-reference/Series/sort_index/)\n",
    "* [bach.Series.to_pandas](https://objectiv.io/docs/modeling/bach/api-reference/Series/to_pandas/)\n",
    "* [modelhub.Aggregate.unique_users](https://objectiv.io/docs/modeling/open-model-hub/models/aggregation/unique_users/)\n",
    "* [bach.Series.reset_index](https://objectiv.io/docs/modeling/bach/api-reference/Series/reset_index/)\n",
    "* [bach.Series.group_by](https://objectiv.io/docs/modeling/bach/api-reference/Series/group_by/)\n",
    "* [bach.DataFrame.dropna](https://objectiv.io/docs/modeling/bach/api-reference/DataFrame/dropna/)\n",
    "* [bach.DataFrame.to_pandas](https://objectiv.io/docs/modeling/bach/api-reference/DataFrame/to_pandas/)\n",
    "* [bach.Series.to_frame](https://objectiv.io/docs/modeling/bach/api-reference/Series/to_frame/)\n",
    "* [bach.DataFrame.head](https://objectiv.io/docs/modeling/bach/api-reference/DataFrame/head/)"
   ]
  },
  {
   "cell_type": "markdown",
   "metadata": {},
   "source": [
    "# Conversion\n",
    "See conversion overall and from marketing. Conversion in this example is defined as clicking any link on the website or docs to our GitHub repo."
   ]
  },
  {
   "cell_type": "code",
   "execution_count": 16,
   "metadata": {},
   "outputs": [],
   "source": [
    "# define the conversion event; in this example: clicking any link leading to our GitHub repo.\n",
    "# create a column that extracts all location stacks that lead to our GitHub repo\n",
    "df_acquisition['github_press'] = df_acquisition.location_stack.json[{'id': 'browse-on-github', '_type': 'LinkContext'}:]\n",
    "df_acquisition.loc[df_acquisition.location_stack.json[{'id': 'github', '_type': 'LinkContext'}:]!=[],'github_press'] = df_acquisition.location_stack\n",
    "# set all events in this location stack to be used as conversion events\n",
    "modelhub.add_conversion_event(location_stack=df_acquisition.github_press,\n",
    "                              event_type='PressEvent',\n",
    "                              name='github_press')\n",
    "df_acquisition['is_conversion_event'] = modelhub.map.is_conversion_event(df_acquisition, 'github_press')"
   ]
  },
  {
   "cell_type": "code",
   "execution_count": 17,
   "metadata": {},
   "outputs": [],
   "source": [
    "# define the conversion event also for the dataframe with only users coming from marketing\n",
    "df_marketing_only['github_press'] = df_marketing_only.location_stack.json[{'id': 'browse-on-github', '_type': 'LinkContext'}:]\n",
    "df_marketing_only.loc[df_marketing_only.location_stack.json[{'id': 'github', '_type': 'LinkContext'}:]!=[],'github_press'] = df_marketing_only.location_stack\n",
    "# set all events in this location stack to be used as conversion events\n",
    "modelhub.add_conversion_event(location_stack=df_marketing_only.github_press,\n",
    "                              event_type='PressEvent',\n",
    "                              name='github_press')\n",
    "df_marketing_only['is_conversion_event'] = modelhub.map.is_conversion_event(df_marketing_only, 'github_press')"
   ]
  },
  {
   "cell_type": "code",
   "execution_count": 18,
   "metadata": {},
   "outputs": [],
   "source": [
    "# define the conversion event also for the dataframe with only users coming from marketing, filtered by a UTM param selection\n",
    "df_marketing_selection['github_press'] = df_marketing_selection.location_stack.json[{'id': 'browse-on-github', '_type': 'LinkContext'}:]\n",
    "df_marketing_selection.loc[df_marketing_selection.location_stack.json[{'id': 'github', '_type': 'LinkContext'}:]!=[],'github_press'] = df_marketing_selection.location_stack\n",
    "# set all events in this location stack to be used as conversion events\n",
    "modelhub.add_conversion_event(location_stack=df_marketing_selection.github_press,\n",
    "                              event_type='PressEvent',\n",
    "                              name='github_press')\n",
    "df_marketing_selection['is_conversion_event'] = modelhub.map.is_conversion_event(df_marketing_selection, 'github_press')"
   ]
  },
  {
   "cell_type": "markdown",
   "metadata": {},
   "source": [
    "### Reference\n",
    "* [bach.series.series_json.JsonAccessor](https://objectiv.io/docs/modeling/bach/api-reference/Series/Json/json/)\n",
    "* [modelhub.ModelHub.add_conversion_event](https://objectiv.io/docs/modeling/open-model-hub/api-reference/ModelHub/add_conversion_event/)\n",
    "* [modelhub.Map.is_conversion_event](https://objectiv.io/docs/modeling/open-model-hub/models/helper-functions/is_conversion_event/)"
   ]
  },
  {
   "cell_type": "markdown",
   "metadata": {},
   "source": [
    "## Daily conversions from marketing"
   ]
  },
  {
   "cell_type": "code",
   "execution_count": null,
   "metadata": {},
   "outputs": [],
   "source": [
    "# calculate daily conversions from marketing (based on UTM data)\n",
    "conversions_from_marketing = df_marketing_selection[df_marketing_selection.is_conversion_event].dropna(axis=0, how='any', subset='utm_source')\n",
    "conversions_from_marketing_daily = modelhub.aggregate.unique_users(conversions_from_marketing).sort_index(ascending=False)\n",
    "conversions_from_marketing_daily.head()"
   ]
  },
  {
   "cell_type": "code",
   "execution_count": 10,
   "metadata": {},
   "outputs": [
    {
     "data": {
      "text/plain": [
       "<AxesSubplot:title={'center':'Daily #conversions from marketing'}, xlabel='Day'>"
      ]
     },
     "execution_count": 10,
     "metadata": {},
     "output_type": "execute_result"
    },
    {
     "data": {
      "image/png": "[encoded data removed]",
      "text/plain": [
       "<Figure size 1080x360 with 1 Axes>"
      ]
     },
     "metadata": {
      "needs_background": "light"
     },
     "output_type": "display_data"
    }
   ],
   "source": [
    "conversions_from_marketing_daily.sort_index(ascending=True).to_pandas().plot(kind='bar', figsize=[15,5], title='Daily #conversions from marketing', xlabel='Day')"
   ]
  },
  {
   "cell_type": "markdown",
   "metadata": {},
   "source": [
    "## Daily conversion rate from marketing"
   ]
  },
  {
   "cell_type": "code",
   "execution_count": 11,
   "metadata": {},
   "outputs": [
    {
     "data": {
      "text/plain": [
       "time_aggregation\n",
       "2022-08-09    0.000000\n",
       "2022-08-08    0.000000\n",
       "2022-08-07    0.000000\n",
       "2022-08-06    0.000000\n",
       "2022-08-05    0.000000\n",
       "2022-08-04    8.333333\n",
       "2022-08-03    0.000000\n",
       "2022-08-02    0.000000\n",
       "2022-08-01    0.000000\n",
       "2022-07-31    0.000000\n",
       "Name: unique_users, dtype: float64"
      ]
     },
     "execution_count": 11,
     "metadata": {},
     "output_type": "execute_result"
    }
   ],
   "source": [
    "# calculate daily conversion rate from marketing campaigns overall\n",
    "# divide conversions from campaigns by total daily number of people coming from campaigns \n",
    "conversion_rate_from_marketing = (conversions_from_marketing_daily / users_from_marketing_daily) * 100\n",
    "conversion_rate_from_marketing.sort_index(ascending=False).fillna(0.0).head(10)"
   ]
  },
  {
   "cell_type": "code",
   "execution_count": 12,
   "metadata": {},
   "outputs": [
    {
     "data": {
      "text/plain": [
       "<AxesSubplot:title={'center':'Daily conversion rate from marketing'}, xlabel='Day'>"
      ]
     },
     "execution_count": 12,
     "metadata": {},
     "output_type": "execute_result"
    },
    {
     "data": {
      "image/png": "[encoded data removed]",
      "text/plain": [
       "<Figure size 1080x360 with 1 Axes>"
      ]
     },
     "metadata": {
      "needs_background": "light"
     },
     "output_type": "display_data"
    }
   ],
   "source": [
    "conversion_rate_from_marketing.fillna(0.0).sort_index(ascending=True).to_pandas().plot(kind='line', figsize=[15,5], title='Daily conversion rate from marketing', xlabel='Day')"
   ]
  },
  {
   "cell_type": "markdown",
   "metadata": {},
   "source": [
    "## Daily conversions overall"
   ]
  },
  {
   "cell_type": "code",
   "execution_count": 13,
   "metadata": {},
   "outputs": [
    {
     "data": {
      "text/plain": [
       "time_aggregation\n",
       "2022-08-09    2\n",
       "2022-08-08    2\n",
       "2022-08-07    1\n",
       "2022-08-06    2\n",
       "2022-08-05    1\n",
       "Name: unique_users, dtype: int64"
      ]
     },
     "execution_count": 13,
     "metadata": {},
     "output_type": "execute_result"
    }
   ],
   "source": [
    "# calculate daily conversions overall (including from marketing campaigns)\n",
    "conversions_overall = modelhub.aggregate.unique_users(df_acquisition[df_acquisition.is_conversion_event])\n",
    "conversions_overall.sort_index(ascending=False).head()"
   ]
  },
  {
   "cell_type": "code",
   "execution_count": 14,
   "metadata": {},
   "outputs": [
    {
     "data": {
      "text/plain": [
       "<AxesSubplot:title={'center':'Daily #conversions overall'}, xlabel='Day'>"
      ]
     },
     "execution_count": 14,
     "metadata": {},
     "output_type": "execute_result"
    },
    {
     "data": {
      "image/png": "[encoded data removed]",
      "text/plain": [
       "<Figure size 1080x360 with 1 Axes>"
      ]
     },
     "metadata": {
      "needs_background": "light"
     },
     "output_type": "display_data"
    }
   ],
   "source": [
    "# plot daily conversions overall (including from marketing campaigns)\n",
    "# TODO: don't understand why I can't use https://objectiv.io/docs/modeling/bach/api-reference/DataFrame/plot/\n",
    "conversions_overall.to_pandas().plot(kind='bar', figsize=[15,5], title='Daily #conversions overall', xlabel='Day')"
   ]
  },
  {
   "cell_type": "markdown",
   "metadata": {},
   "source": [
    "### Daily conversion rate overall"
   ]
  },
  {
   "cell_type": "code",
   "execution_count": 15,
   "metadata": {},
   "outputs": [
    {
     "data": {
      "text/plain": [
       "time_aggregation\n",
       "2022-08-22          NaN\n",
       "2022-08-09     8.000000\n",
       "2022-08-08     4.166667\n",
       "2022-08-07     5.263158\n",
       "2022-08-06    12.500000\n",
       "2022-08-05     3.030303\n",
       "2022-08-04     6.250000\n",
       "2022-08-03     7.894737\n",
       "2022-08-02     4.545455\n",
       "2022-08-01          NaN\n",
       "Name: unique_users, dtype: float64"
      ]
     },
     "execution_count": 15,
     "metadata": {},
     "output_type": "execute_result"
    }
   ],
   "source": [
    "# calculate daily conversion rate overall (including from marketing campaigns)\n",
    "daily_users = modelhub.aggregate.unique_users(df_acquisition).sort_index(ascending=False)\n",
    "conversion_rate_overall = (conversions_overall / daily_users) * 100\n",
    "conversion_rate_overall.sort_index(ascending=False).head(10)"
   ]
  },
  {
   "cell_type": "code",
   "execution_count": 16,
   "metadata": {},
   "outputs": [
    {
     "data": {
      "text/plain": [
       "<AxesSubplot:title={'center':'Daily conversion rate overall'}, xlabel='Day'>"
      ]
     },
     "execution_count": 16,
     "metadata": {},
     "output_type": "execute_result"
    },
    {
     "data": {
      "image/png": "[encoded data removed]",
      "text/plain": [
       "<Figure size 1080x360 with 1 Axes>"
      ]
     },
     "metadata": {
      "needs_background": "light"
     },
     "output_type": "display_data"
    }
   ],
   "source": [
    "conversion_rate_overall.sort_index(ascending=True).fillna(0.0).to_pandas().plot(kind='line', figsize=[15,5], title='Daily conversion rate overall', xlabel='Day')"
   ]
  },
  {
   "cell_type": "markdown",
   "metadata": {},
   "source": [
    "### Reference\n",
    "* [modelhub.Map.is_conversion_event](https://objectiv.io/docs/modeling/open-model-hub/models/helper-functions/is_conversion_event/)\n",
    "* [bach.DataFrame.dropna](https://objectiv.io/docs/modeling/bach/api-reference/DataFrame/dropna/)\n",
    "* [modelhub.Aggregate.unique_users](https://objectiv.io/docs/modeling/open-model-hub/models/aggregation/unique_users/)\n",
    "* [bach.Series.sort_index](https://objectiv.io/docs/modeling/bach/api-reference/Series/sort_index/)\n",
    "* [bach.DataFrame.to_pandas](https://objectiv.io/docs/modeling/bach/api-reference/DataFrame/to_pandas/)\n",
    "* [bach.DataFrame.fillna](https://objectiv.io/docs/modeling/bach/api-reference/DataFrame/fillna/)\n",
    "* [bach.DataFrame.head](https://objectiv.io/docs/modeling/bach/api-reference/DataFrame/head/)"
   ]
  },
  {
   "cell_type": "markdown",
   "metadata": {},
   "source": [
    "## Conversion split by source & campaign"
   ]
  },
  {
   "cell_type": "markdown",
   "metadata": {},
   "source": [
    "### Conversions per marketing _source_ over full timeframe"
   ]
  },
  {
   "cell_type": "code",
   "execution_count": 17,
   "metadata": {},
   "outputs": [
    {
     "data": {
      "text/html": [
       "<div>\n",
       "<style scoped>\n",
       "    .dataframe tbody tr th:only-of-type {\n",
       "        vertical-align: middle;\n",
       "    }\n",
       "\n",
       "    .dataframe tbody tr th {\n",
       "        vertical-align: top;\n",
       "    }\n",
       "\n",
       "    .dataframe thead th {\n",
       "        text-align: right;\n",
       "    }\n",
       "</style>\n",
       "<table border=\"1\" class=\"dataframe\">\n",
       "  <thead>\n",
       "    <tr style=\"text-align: right;\">\n",
       "      <th></th>\n",
       "      <th>utm_source</th>\n",
       "      <th>unique_users</th>\n",
       "    </tr>\n",
       "  </thead>\n",
       "  <tbody>\n",
       "    <tr>\n",
       "      <th>0</th>\n",
       "      <td>twitter</td>\n",
       "      <td>9</td>\n",
       "    </tr>\n",
       "    <tr>\n",
       "      <th>1</th>\n",
       "      <td>reddit</td>\n",
       "      <td>3</td>\n",
       "    </tr>\n",
       "  </tbody>\n",
       "</table>\n",
       "</div>"
      ],
      "text/plain": [
       "  utm_source  unique_users\n",
       "0    twitter             9\n",
       "1     reddit             3"
      ]
     },
     "execution_count": 17,
     "metadata": {},
     "output_type": "execute_result"
    }
   ],
   "source": [
    "# calculate conversions per marketing _source_ over the full timeframe (based on UTM data)\n",
    "campaign_conversions_source_timeframe = modelhub.aggregate.unique_users(df_marketing_selection[df_marketing_selection.is_conversion_event], ['utm_source'])\n",
    "campaign_conversions_source_timeframe.reset_index().dropna(axis=0, how='any', subset='utm_source').sort_values(['unique_users'], ascending=False).head()"
   ]
  },
  {
   "cell_type": "markdown",
   "metadata": {},
   "source": [
    "### Conversions per marketing _source_ daily"
   ]
  },
  {
   "cell_type": "code",
   "execution_count": 18,
   "metadata": {},
   "outputs": [
    {
     "data": {
      "text/html": [
       "<div>\n",
       "<style scoped>\n",
       "    .dataframe tbody tr th:only-of-type {\n",
       "        vertical-align: middle;\n",
       "    }\n",
       "\n",
       "    .dataframe tbody tr th {\n",
       "        vertical-align: top;\n",
       "    }\n",
       "\n",
       "    .dataframe thead th {\n",
       "        text-align: right;\n",
       "    }\n",
       "</style>\n",
       "<table border=\"1\" class=\"dataframe\">\n",
       "  <thead>\n",
       "    <tr style=\"text-align: right;\">\n",
       "      <th></th>\n",
       "      <th>utm_source</th>\n",
       "      <th>unique_users</th>\n",
       "    </tr>\n",
       "    <tr>\n",
       "      <th>day</th>\n",
       "      <th></th>\n",
       "      <th></th>\n",
       "    </tr>\n",
       "  </thead>\n",
       "  <tbody>\n",
       "    <tr>\n",
       "      <th>2022-08-04</th>\n",
       "      <td>twitter</td>\n",
       "      <td>1</td>\n",
       "    </tr>\n",
       "    <tr>\n",
       "      <th>2022-07-26</th>\n",
       "      <td>reddit</td>\n",
       "      <td>1</td>\n",
       "    </tr>\n",
       "    <tr>\n",
       "      <th>2022-07-26</th>\n",
       "      <td>twitter</td>\n",
       "      <td>4</td>\n",
       "    </tr>\n",
       "    <tr>\n",
       "      <th>2022-07-25</th>\n",
       "      <td>twitter</td>\n",
       "      <td>1</td>\n",
       "    </tr>\n",
       "    <tr>\n",
       "      <th>2022-07-23</th>\n",
       "      <td>twitter</td>\n",
       "      <td>3</td>\n",
       "    </tr>\n",
       "    <tr>\n",
       "      <th>2022-07-23</th>\n",
       "      <td>reddit</td>\n",
       "      <td>2</td>\n",
       "    </tr>\n",
       "    <tr>\n",
       "      <th>2022-07-22</th>\n",
       "      <td>twitter</td>\n",
       "      <td>1</td>\n",
       "    </tr>\n",
       "  </tbody>\n",
       "</table>\n",
       "</div>"
      ],
      "text/plain": [
       "           utm_source  unique_users\n",
       "day                                \n",
       "2022-08-04    twitter             1\n",
       "2022-07-26     reddit             1\n",
       "2022-07-26    twitter             4\n",
       "2022-07-25    twitter             1\n",
       "2022-07-23    twitter             3\n",
       "2022-07-23     reddit             2\n",
       "2022-07-22    twitter             1"
      ]
     },
     "execution_count": 18,
     "metadata": {},
     "output_type": "execute_result"
    }
   ],
   "source": [
    "# split daily conversions by marketing _source_ (based on UTM data)\n",
    "campaign_conversions_source_daily = modelhub.aggregate.unique_users(df_marketing_selection[df_marketing_selection.is_conversion_event], ['day','utm_source'])\n",
    "campaign_conversions_source_daily.reset_index().dropna(axis=0, how='any', subset='utm_source').set_index('day').sort_index(ascending=False).head(10)"
   ]
  },
  {
   "cell_type": "markdown",
   "metadata": {},
   "source": [
    "### Conversions per marketing _campaign_ over full timeframe"
   ]
  },
  {
   "cell_type": "code",
   "execution_count": 19,
   "metadata": {},
   "outputs": [
    {
     "data": {
      "text/html": [
       "<div>\n",
       "<style scoped>\n",
       "    .dataframe tbody tr th:only-of-type {\n",
       "        vertical-align: middle;\n",
       "    }\n",
       "\n",
       "    .dataframe tbody tr th {\n",
       "        vertical-align: top;\n",
       "    }\n",
       "\n",
       "    .dataframe thead th {\n",
       "        text-align: right;\n",
       "    }\n",
       "</style>\n",
       "<table border=\"1\" class=\"dataframe\">\n",
       "  <thead>\n",
       "    <tr style=\"text-align: right;\">\n",
       "      <th></th>\n",
       "      <th>utm_source</th>\n",
       "      <th>utm_medium</th>\n",
       "      <th>utm_campaign</th>\n",
       "      <th>unique_users</th>\n",
       "    </tr>\n",
       "  </thead>\n",
       "  <tbody>\n",
       "    <tr>\n",
       "      <th>0</th>\n",
       "      <td>twitter</td>\n",
       "      <td>paid</td>\n",
       "      <td>utm_test</td>\n",
       "      <td>9</td>\n",
       "    </tr>\n",
       "    <tr>\n",
       "      <th>1</th>\n",
       "      <td>twitter</td>\n",
       "      <td>paid</td>\n",
       "      <td>july_conversion</td>\n",
       "      <td>1</td>\n",
       "    </tr>\n",
       "    <tr>\n",
       "      <th>2</th>\n",
       "      <td>reddit</td>\n",
       "      <td>paid</td>\n",
       "      <td>june</td>\n",
       "      <td>3</td>\n",
       "    </tr>\n",
       "  </tbody>\n",
       "</table>\n",
       "</div>"
      ],
      "text/plain": [
       "  utm_source utm_medium     utm_campaign  unique_users\n",
       "0    twitter       paid         utm_test             9\n",
       "1    twitter       paid  july_conversion             1\n",
       "2     reddit       paid             june             3"
      ]
     },
     "execution_count": 19,
     "metadata": {},
     "output_type": "execute_result"
    }
   ],
   "source": [
    "# split conversions by marketing _campaign_ (based on UTM data)\n",
    "campaign_conversions_campaign = modelhub.aggregate.unique_users(df_marketing_selection[df_marketing_selection.is_conversion_event], ['utm_source', 'utm_medium', 'utm_campaign'])\n",
    "campaign_conversions_campaign.reset_index().dropna(axis=0, how='any', subset='utm_source').sort_values(['utm_source', 'unique_users'], ascending=False).head()"
   ]
  },
  {
   "cell_type": "markdown",
   "metadata": {},
   "source": [
    "### Reference\n",
    "* [modelhub.Aggregate.unique_users](https://objectiv.io/docs/modeling/open-model-hub/models/aggregation/unique_users/)\n",
    "* [modelhub.Map.is_conversion_event](https://objectiv.io/docs/modeling/open-model-hub/models/helper-functions/is_conversion_event/)\n",
    "* [bach.DataFrame.dropna](https://objectiv.io/docs/modeling/bach/api-reference/DataFrame/dropna/)\n",
    "* [bach.DataFrame.sort_values](https://objectiv.io/docs/modeling/bach/api-reference/DataFrame/sort_values/)\n",
    "* [bach.Series.sort_index](https://objectiv.io/docs/modeling/bach/api-reference/Series/sort_index/)\n",
    "* [bach.DataFrame.head](https://objectiv.io/docs/modeling/bach/api-reference/DataFrame/head/)"
   ]
  },
  {
   "cell_type": "markdown",
   "metadata": {},
   "source": [
    "# Avg. duration"
   ]
  },
  {
   "cell_type": "markdown",
   "metadata": {},
   "source": [
    "## Avg. duration per ad source"
   ]
  },
  {
   "cell_type": "code",
   "execution_count": 20,
   "metadata": {},
   "outputs": [
    {
     "data": {
      "text/html": [
       "<div>\n",
       "<style scoped>\n",
       "    .dataframe tbody tr th:only-of-type {\n",
       "        vertical-align: middle;\n",
       "    }\n",
       "\n",
       "    .dataframe tbody tr th {\n",
       "        vertical-align: top;\n",
       "    }\n",
       "\n",
       "    .dataframe thead th {\n",
       "        text-align: right;\n",
       "    }\n",
       "</style>\n",
       "<table border=\"1\" class=\"dataframe\">\n",
       "  <thead>\n",
       "    <tr style=\"text-align: right;\">\n",
       "      <th></th>\n",
       "      <th>session_duration</th>\n",
       "    </tr>\n",
       "    <tr>\n",
       "      <th>utm_source</th>\n",
       "      <th></th>\n",
       "    </tr>\n",
       "  </thead>\n",
       "  <tbody>\n",
       "    <tr>\n",
       "      <th>twitter</th>\n",
       "      <td>0 days 00:02:21.409402</td>\n",
       "    </tr>\n",
       "    <tr>\n",
       "      <th>reddit</th>\n",
       "      <td>0 days 00:02:05.284562</td>\n",
       "    </tr>\n",
       "  </tbody>\n",
       "</table>\n",
       "</div>"
      ],
      "text/plain": [
       "                 session_duration\n",
       "utm_source                       \n",
       "twitter    0 days 00:02:21.409402\n",
       "reddit     0 days 00:02:05.284562"
      ]
     },
     "execution_count": 20,
     "metadata": {},
     "output_type": "execute_result"
    }
   ],
   "source": [
    "# avg duration for users that come from an ad campaign in the full timeframe\n",
    "duration_per_source = modelhub.aggregate.session_duration(df_marketing_selection, groupby=['utm_source']).to_frame()\n",
    "duration_per_source.sort_values(['utm_source'], ascending=False).head(10)"
   ]
  },
  {
   "cell_type": "code",
   "execution_count": 21,
   "metadata": {},
   "outputs": [],
   "source": [
    "# TODO: Plat a graph of session duration per source; error: TypeError: value should be a 'Timedelta', 'NaT', or array of those. Got 'int' instead.\n",
    "# duration_per_source.to_pandas().plot(kind='bar', figsize=[15,5], title='Session duration per source', xlabel='Source')"
   ]
  },
  {
   "cell_type": "markdown",
   "metadata": {},
   "source": [
    "## Vs. avg. duration by all users"
   ]
  },
  {
   "cell_type": "code",
   "execution_count": 22,
   "metadata": {},
   "outputs": [
    {
     "data": {
      "text/html": [
       "<div>\n",
       "<style scoped>\n",
       "    .dataframe tbody tr th:only-of-type {\n",
       "        vertical-align: middle;\n",
       "    }\n",
       "\n",
       "    .dataframe tbody tr th {\n",
       "        vertical-align: top;\n",
       "    }\n",
       "\n",
       "    .dataframe thead th {\n",
       "        text-align: right;\n",
       "    }\n",
       "</style>\n",
       "<table border=\"1\" class=\"dataframe\">\n",
       "  <thead>\n",
       "    <tr style=\"text-align: right;\">\n",
       "      <th></th>\n",
       "      <th>session_duration</th>\n",
       "    </tr>\n",
       "  </thead>\n",
       "  <tbody>\n",
       "    <tr>\n",
       "      <th>0</th>\n",
       "      <td>0 days 00:03:37.613029</td>\n",
       "    </tr>\n",
       "  </tbody>\n",
       "</table>\n",
       "</div>"
      ],
      "text/plain": [
       "        session_duration\n",
       "0 0 days 00:03:37.613029"
      ]
     },
     "execution_count": 22,
     "metadata": {},
     "output_type": "execute_result"
    }
   ],
   "source": [
    "# vs time spent by all users\n",
    "modelhub.aggregate.session_duration(df_acquisition, groupby=None).to_frame().head()"
   ]
  },
  {
   "cell_type": "markdown",
   "metadata": {},
   "source": [
    "## Avg. duration per converted user"
   ]
  },
  {
   "cell_type": "code",
   "execution_count": null,
   "metadata": {},
   "outputs": [],
   "source": [
    "# duration before conversion - per source & user\n",
    "# label sessions with a conversion\n",
    "df_marketing_selection['converted_users'] = modelhub.map.conversions_counter(df_marketing_selection, name='github_press') >= 1\n",
    "# label hits where at that point in time, there are 0 conversions in the session\n",
    "df_marketing_selection['zero_conversions_at_moment'] = modelhub.map.conversions_in_time(df_marketing_selection, 'github_press') == 0\n",
    "# filter on above created labels to find the users who converted for the very first time\n",
    "converted_users = df_marketing_selection[(df_marketing_selection.converted_users & df_marketing_selection.zero_conversions_at_moment)]\n",
    "\n",
    "modelhub.aggregate.session_duration(converted_users, groupby=['day', 'utm_source', 'user_id']).to_frame().sort_values('day', ascending=False).head(20)"
   ]
  },
  {
   "cell_type": "markdown",
   "metadata": {},
   "source": [
    "## Avg. duration before first conversion\n",
    "Avg. duration for users that converted for the very first time (not including sessions where users have converted later as well)."
   ]
  },
  {
   "cell_type": "code",
   "execution_count": null,
   "metadata": {},
   "outputs": [],
   "source": [
    "# avg duration before conversion - overall\n",
    "modelhub.aggregate.session_duration(converted_users, groupby=None).to_frame().head()"
   ]
  },
  {
   "cell_type": "markdown",
   "metadata": {},
   "source": [
    "## Avg. duration before first conversion per _source_\n",
    "Avg. duration per campaign _source_ for users who converted for the very first time (not including sessions where they've converted after that)."
   ]
  },
  {
   "cell_type": "code",
   "execution_count": null,
   "metadata": {},
   "outputs": [],
   "source": [
    "# avg duration before conversion - per source\n",
    "modelhub.aggregate.session_duration(converted_users, groupby=['utm_source']).to_frame().head()"
   ]
  },
  {
   "cell_type": "markdown",
   "metadata": {},
   "source": [
    "## Avg. duration with bounces filtered out"
   ]
  },
  {
   "cell_type": "code",
   "execution_count": null,
   "metadata": {},
   "outputs": [],
   "source": [
    "# create dataframe for users without zero duration (aka bounces)\n",
    "users_from_ads_duration = modelhub.aggregate.session_duration(df_marketing_selection, groupby=['utm_source','user_id'], exclude_bounces=False).to_frame()\n",
    "# TODO: filtering session_duration '0 days 00:00:00' provides different results, but shouldn't this already be handled by the `exclude_bounces` parameter?\n",
    "df_marketing_no_bounces = users_from_ads_duration[users_from_ads_duration['session_duration'] != '0 days 00:00:00']"
   ]
  },
  {
   "cell_type": "code",
   "execution_count": null,
   "metadata": {},
   "outputs": [],
   "source": [
    "# avg duration for non-bounced users that come from an ad campaign in the full timeframe\n",
    "df_marketing_no_bounces.reset_index().groupby(['utm_source'])['session_duration'].mean().to_frame().sort_values(['utm_source'], ascending=False).head(30)"
   ]
  },
  {
   "cell_type": "code",
   "execution_count": null,
   "metadata": {},
   "outputs": [],
   "source": [
    "# TODO: Plat a graph of session duration per source; error: TypeError: value should be a 'Timedelta', 'NaT', or array of those. Got 'int' instead.\n",
    "# df_marketing_no_bounces.to_pandas().plot(kind='bar', figsize=[15,5], title='Session duration per source', xlabel='Source')"
   ]
  },
  {
   "cell_type": "markdown",
   "metadata": {},
   "source": [
    "## Avg. daily duration per campaign _source_"
   ]
  },
  {
   "cell_type": "code",
   "execution_count": null,
   "metadata": {},
   "outputs": [],
   "source": [
    "# calculate time spent per campaign source, daily\n",
    "duration_per_source_daily = modelhub.agg.session_duration(df_marketing_selection, groupby=['utm_source', 'day']).to_frame()\n",
    "# calculate the number of users per campaign source, daily\n",
    "source_users_daily = modelhub.agg.unique_users(df_acquisition, groupby=['utm_source', 'day'])\n",
    "source_users_daily = source_users_daily.reset_index().dropna(axis=0, how='any', subset='utm_source')\n",
    "# add them together\n",
    "source_duration_users_daily = duration_per_source_daily.merge(source_users_daily, how='left', on=['utm_source', 'day']);\n",
    "# also add #conversions\n",
    "converted_users = campaign_conversions_source_daily.to_frame().rename(columns={\"unique_users\": \"converted_users\"})\n",
    "source_duration_users_daily = source_duration_users_daily.merge(converted_users, how='left', on=['utm_source', 'day'])\n",
    "\n",
    "source_duration_users_daily = source_duration_users_daily.sort_values(['utm_source', 'day'], ascending=False)\n",
    "source_duration_users_daily.head(50)"
   ]
  },
  {
   "cell_type": "markdown",
   "metadata": {},
   "source": [
    "### Reference\n",
    "* [modelhub.Aggregate.session_duration](https://objectiv.io/docs/modeling/open-model-hub/models/aggregation/session_duration/)\n",
    "* [bach.DataFrame.sort_values](https://objectiv.io/docs/modeling/bach/api-reference/DataFrame/sort_values/)\n",
    "* [modelhub.Map.conversions_counter](https://objectiv.io/docs/modeling/open-model-hub/models/helper-functions/conversions_counter/)\n",
    "* [modelhub.Map.conversions_in_time](https://objectiv.io/docs/modeling/open-model-hub/models/helper-functions/conversions_in_time/)\n",
    "* [bach.Series.to_frame](https://objectiv.io/docs/modeling/bach/api-reference/Series/to_frame/)\n",
    "* [bach.Series.reset_index](https://objectiv.io/docs/modeling/bach/api-reference/Series/reset_index/)\n",
    "* [modelhub.Aggregate.unique_users](https://objectiv.io/docs/modeling/open-model-hub/models/aggregation/unique_users/)\n",
    "* [bach.DataFrame.dropna](https://objectiv.io/docs/modeling/bach/api-reference/DataFrame/dropna/)\n",
    "* [bach.DataFrame.merge](https://objectiv.io/docs/modeling/bach/api-reference/DataFrame/merge/)\n",
    "* [bach.DataFrame.head](https://objectiv.io/docs/modeling/bach/api-reference/DataFrame/head/)"
   ]
  },
  {
   "cell_type": "markdown",
   "metadata": {},
   "source": [
    "# Deep-dive into user behavior from marketing"
   ]
  },
  {
   "cell_type": "markdown",
   "metadata": {},
   "source": [
    "## Predict User Behavior from campaigns\n",
    "Predict which campaign is most likely to convert users to go to our GitHub repo."
   ]
  },
  {
   "cell_type": "code",
   "execution_count": null,
   "metadata": {},
   "outputs": [],
   "source": [
    "# only look at PressEvents and count the root locations\n",
    "predict_features = df_marketing_selection[(df_marketing_selection.event_type=='PressEvent')].groupby(['user_id', 'utm_source', 'utm_medium', 'utm_campaign']).root_location.value_counts().to_frame()\n",
    "\n",
    "# add number of clicks on any of the GitHub links to the `features` DataFrame, instead of the number of hits on a root_location\n",
    "predict_converted_users = df_marketing_selection[df_marketing_selection['is_conversion_event'] == True]\n",
    "predict_converted_users_marketing = predict_converted_users[(predict_converted_users.event_type=='PressEvent')].groupby(['user_id', 'utm_source', 'utm_medium', 'utm_campaign']).event_type.value_counts().to_frame()\n",
    "predict_converted_users_marketing = predict_converted_users_marketing.reset_index().rename(columns={'event_type': 'root_location'}).set_index(['user_id', 'utm_source', 'utm_medium', 'utm_campaign', 'root_location'])\n",
    "predict_features = predict_features.append(predict_converted_users_marketing)\n",
    "\n",
    "# unstack the series, to create a DataFrame with the number of clicks per root location as columns\n",
    "predict_features_unstacked = predict_features.unstack(fill_value=0)\n",
    "predict_features_unstacked.head(40)\n",
    "\n",
    "y_column = 'PressEvent__value_counts'\n",
    "y = predict_features_unstacked[y_column] > 0\n",
    "X = predict_features_unstacked.drop(columns=[y_column])\n",
    "\n",
    "lr = modelhub.get_logistic_regression(fit_intercept=False)\n",
    "lr.fit(X, y)\n",
    "\n",
    "predict_features_unstacked['predicted_values'] = lr.predict_proba(X)\n",
    "predict_features_unstacked['predicted_labels'] = lr.predict(X)\n",
    "\n",
    "results = predict_features_unstacked[['predicted_values', 'predicted_labels']].reset_index().dropna(axis=0, how='any', subset='utm_source')\n",
    "\n",
    "results_aggregated = results.groupby(['utm_source', 'utm_medium', 'utm_campaign', 'predicted_labels']).agg({'predicted_values':'mean'}).reset_index()\n",
    "\n",
    "results_aggregated.sort_values(['predicted_values_mean'], ascending=False).head(60)"
   ]
  },
  {
   "cell_type": "markdown",
   "metadata": {},
   "source": [
    "### Reference\n",
    "* [bach.DataFrame.groupby](https://objectiv.io/docs/modeling/bach/api-reference/DataFrame/groupby/)\n",
    "* [bach.Series.value_counts](https://objectiv.io/docs/modeling/bach/api-reference/Series/value_counts/)\n",
    "* [bach.Series.to_frame](https://objectiv.io/docs/modeling/bach/api-reference/Series/to_frame/)\n",
    "* [bach.Series.reset_index](https://objectiv.io/docs/modeling/bach/api-reference/Series/reset_index/)\n",
    "* [bach.DataFrame.rename](https://objectiv.io/docs/modeling/bach/api-reference/DataFrame/rename/)\n",
    "* [bach.Series.unstack](https://objectiv.io/docs/modeling/bach/api-reference/Series/unstack/)\n",
    "* [modelhub.ModelHub.get_logistic_regression](https://objectiv.io/docs/modeling/open-model-hub/api-reference/ModelHub/get_logistic_regression/)\n",
    "* [modelhub.LogisticRegression.fit](https://objectiv.io/docs/modeling/open-model-hub/models/machine-learning/LogisticRegression/fit/)\n",
    "* [modelhub.LogisticRegression.predict_proba](https://objectiv.io/docs/modeling/open-model-hub/models/machine-learning/LogisticRegression/predict_proba/)\n",
    "* [modelhub.LogisticRegression.predict](https://objectiv.io/docs/modeling/open-model-hub/models/machine-learning/LogisticRegression/predict/)\n",
    "* [bach.Series.reset_index](https://objectiv.io/docs/modeling/bach/api-reference/Series/reset_index/)\n",
    "* [bach.DataFrame.dropna](https://objectiv.io/docs/modeling/bach/api-reference/DataFrame/dropna/)\n",
    "* [bach.DataFrame.head](https://objectiv.io/docs/modeling/bach/api-reference/DataFrame/head/)"
   ]
  },
  {
   "cell_type": "markdown",
   "metadata": {},
   "source": [
    "## Top used product features for users from marketing campaigns"
   ]
  },
  {
   "cell_type": "code",
   "execution_count": null,
   "metadata": {},
   "outputs": [],
   "source": [
    "# top used product features for users coming from marketing campaigns\n",
    "top_product_features_from_marketing = modelhub.aggregate.top_product_features(df_marketing_selection)\n",
    "top_product_features_from_marketing.head(20)"
   ]
  },
  {
   "cell_type": "markdown",
   "metadata": {},
   "source": [
    "### Top used product features for users from marketing campaigns, before they convert"
   ]
  },
  {
   "cell_type": "code",
   "execution_count": null,
   "metadata": {},
   "outputs": [],
   "source": [
    "# top used product features for users coming from marketing campaigns, before they convert\n",
    "top_features_before_conversion_from_marketing = modelhub.agg.top_product_features_before_conversion(df_marketing_selection, name='github_press')\n",
    "top_features_before_conversion_from_marketing.head(20)"
   ]
  },
  {
   "cell_type": "code",
   "execution_count": null,
   "metadata": {},
   "outputs": [],
   "source": [
    "# calculate the percentage of converted users per feature: (converted users per feature) / (total users converted)\n",
    "total_converted_users = df_marketing_selection[df_marketing_selection['is_conversion_event']]['user_id'].unique().count().value\n",
    "top_conversion_locations = modelhub.agg.unique_users(df_marketing_selection[df_marketing_selection['is_conversion_event']], groupby='feature_nice_name')\n",
    "top_conversion_locations = (top_conversion_locations / total_converted_users) * 100\n",
    "# show the results, with .to_frame() for nicer formatting\n",
    "top_conversion_locations = top_conversion_locations.to_frame().rename(columns={'unique_users': 'converted_users_percentage'})\n",
    "top_conversion_locations.sort_values(by='converted_users_percentage', ascending=False).head()"
   ]
  },
  {
   "cell_type": "markdown",
   "metadata": {},
   "source": [
    "### Reference\n",
    "* [modelhub.Aggregate.top_product_features](https://objectiv.io/docs/modeling/open-model-hub/models/aggregation/top_product_features/)\n",
    "* [modelhub.Aggregate.top_product_features_before_conversion](https://objectiv.io/docs/modeling/open-model-hub/models/aggregation/top_product_features_before_conversion/)\n",
    "* [bach.Series.unique](https://objectiv.io/docs/modeling/bach/api-reference/Series/unique/)\n",
    "* [bach.Series.count](https://objectiv.io/docs/modeling/bach/api-reference/Series/count/)\n",
    "* [bach.Series.to_frame](https://objectiv.io/docs/modeling/bach/api-reference/Series/to_frame/)\n",
    "* [bach.DataFrame.head](https://objectiv.io/docs/modeling/bach/api-reference/DataFrame/head/)"
   ]
  },
  {
   "cell_type": "markdown",
   "metadata": {},
   "source": [
    "## Funnel Discovery: flows for _all_ users from marketing campaigns"
   ]
  },
  {
   "cell_type": "code",
   "execution_count": null,
   "metadata": {},
   "outputs": [],
   "source": [
    "# select which event type to use for further analysis - PressEvents to focus on what users directly interact with\n",
    "df_funnel_from_marketing = df_marketing_selection[df_marketing_selection['event_type'] == 'PressEvent']\n",
    "# instantiate the FunnelDiscovery model from the open model hub\n",
    "funnel = modelhub.get_funnel_discovery()\n",
    "# set the maximum n steps\n",
    "max_steps = 4"
   ]
  },
  {
   "cell_type": "code",
   "execution_count": null,
   "metadata": {},
   "outputs": [],
   "source": [
    "# for every user starting their session, find all maximum n consecutive steps they took\n",
    "df_steps = funnel.get_navigation_paths(df_funnel_from_marketing, steps=max_steps, by='user_id')\n",
    "df_steps.head()"
   ]
  },
  {
   "cell_type": "code",
   "execution_count": null,
   "metadata": {},
   "outputs": [],
   "source": [
    "# calculate the most frequent consecutive steps that all users took after starting their session, based on the location stack\n",
    "df_steps.value_counts().to_frame().head(20)"
   ]
  },
  {
   "cell_type": "code",
   "execution_count": null,
   "metadata": {},
   "outputs": [],
   "source": [
    "funnel.plot_sankey_diagram(df_steps, n_top_examples=50)"
   ]
  },
  {
   "cell_type": "markdown",
   "metadata": {},
   "source": [
    "## Funnel Discovery: flows for _converted_ users from marketing"
   ]
  },
  {
   "cell_type": "code",
   "execution_count": null,
   "metadata": {},
   "outputs": [],
   "source": [
    "# add which step resulted in conversion to the dataframe, with the `add_conversion_step_column` param\n",
    "# filter down to all sequences that have actually converted with the `only_converted_paths` param\n",
    "df_steps_till_conversion = funnel.get_navigation_paths(df_funnel_from_marketing, steps=max_steps, by='user_id', add_conversion_step_column=True, only_converted_paths=True)\n",
    "df_steps_till_conversion.head(5)"
   ]
  },
  {
   "cell_type": "code",
   "execution_count": null,
   "metadata": {},
   "outputs": [],
   "source": [
    "# plot the Sankey diagram using the top examples via the `n_top_examples` param\n",
    "condition_convert_on_step = df_steps_till_conversion['_first_conversion_step_number'] == 2\n",
    "funnel.plot_sankey_diagram(df_steps_till_conversion[condition_convert_on_step], n_top_examples=15)"
   ]
  },
  {
   "cell_type": "markdown",
   "metadata": {},
   "source": [
    "## Funnel Discovery: drop-off for users from marketing"
   ]
  },
  {
   "cell_type": "code",
   "execution_count": null,
   "metadata": {},
   "outputs": [],
   "source": [
    "# select only non-converted users\n",
    "df_funnel_non_converted = df_marketing_selection[~df_marketing_selection['is_conversion_event']]\n",
    "funnel_converted_users = df_marketing_selection[df_marketing_selection['is_conversion_event']]['user_id']\n",
    "# select the events of these non converted users\n",
    "df_funnel_non_converted = df_funnel_non_converted[~df_funnel_non_converted['user_id'].isin(funnel_converted_users)]\n",
    "# get the last used feature in the location_stack before dropping off\n",
    "drop_loc = df_funnel_non_converted.sort_values('moment').groupby('user_id')['feature_nice_name'].to_json_array().json[-1].materialize()\n",
    "total_count = drop_loc.count().value\n",
    "# show the last used features by non-converted users, sorted by their usage share compared to all features\n",
    "drop_loc_percent = (drop_loc.value_counts() / total_count) * 100\n",
    "drop_loc_percent = drop_loc_percent.to_frame().rename(columns={'value_counts': 'drop_percentage'})\n",
    "drop_loc_percent.sort_values(by='drop_percentage', ascending=False).head(10)"
   ]
  },
  {
   "cell_type": "markdown",
   "metadata": {},
   "source": [
    "### Reference\n",
    "* [modelhub.ModelHub.get_funnel_discovery](https://objectiv.io/docs/modeling/open-model-hub/api-reference/ModelHub/get_funnel_discovery/)\n",
    "* [modelhub.FunnelDiscovery.get_navigation_paths](https://objectiv.io/docs/modeling/open-model-hub/models/funnels/FunnelDiscovery/get_navigation_paths/)\n",
    "* [bach.Series.to_frame](https://objectiv.io/docs/modeling/bach/api-reference/Series/to_frame/)\n",
    "* [bach.DataFrame.head](https://objectiv.io/docs/modeling/bach/api-reference/DataFrame/head/)\n",
    "* [modelhub.FunnelDiscovery.plot_sankey_diagram](https://objectiv.io/docs/modeling/open-model-hub/models/funnels/FunnelDiscovery/plot_sankey_diagram/)\n",
    "* [bach.DataFrame.rename](https://objectiv.io/docs/modeling/bach/api-reference/DataFrame/rename/)\n",
    "* [bach.DataFrame.sort_values](https://objectiv.io/docs/modeling/bach/api-reference/DataFrame/sort_values/)"
   ]
  }
 ],
 "metadata": {
  "hex_info": {
   "author": "Ivar Pruijn",
   "exported_date": "Tue Aug 23 2022 14:13:42 GMT+0000 (Coordinated Universal Time)",
   "project_id": "4ab37582-bfa6-4b79-9445-65fe319d6acb",
   "version": "draft"
  },
  "kernelspec": {
   "display_name": "Python 3 (ipykernel)",
   "language": "python",
   "name": "python3"
  },
  "language_info": {
   "codemirror_mode": {
    "name": "ipython",
    "version": 3
   },
   "file_extension": ".py",
   "mimetype": "text/x-python",
   "name": "python",
   "nbconvert_exporter": "python",
   "pygments_lexer": "ipython3",
   "version": "3.8.10"
  }
 },
 "nbformat": 4,
 "nbformat_minor": 4
}
