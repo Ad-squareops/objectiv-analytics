{
 "cells": [
  {
   "cell_type": "markdown",
   "id": "3abc9081",
   "metadata": {},
   "source": [
    "This example shows how Bach can be used for feature engineering. We'll go through describing the data, finding\n",
    "outliers, transforming data and grouping and aggregating data so that a useful feature set is created that\n",
    "can be used for machine learning. We have a separate example available that goes into the details of how a\n",
    "data set prepared in Bach can be used for machine learning with sklearn."
   ]
  },
  {
   "cell_type": "code",
   "execution_count": null,
   "id": "e97ff289",
   "metadata": {},
   "outputs": [],
   "source": [
    "from modelhub import ModelHub\n",
    "from sklearn import cluster"
   ]
  },
  {
   "cell_type": "markdown",
   "id": "1f896993",
   "metadata": {},
   "source": [
    "At first we have to instantiate the Objectiv DataFrame object and the model hub."
   ]
  },
  {
   "cell_type": "code",
   "execution_count": null,
   "id": "d582b77f",
   "metadata": {},
   "outputs": [],
   "source": [
    "# instantiate the model hub\n",
    "modelhub = ModelHub(time_aggregation='YYYY-MM-DD')\n",
    "# get the Bach DataFrame with Objectiv data\n",
    "df = modelhub.get_objectiv_dataframe(start_date='2022-01-04')"
   ]
  },
  {
   "cell_type": "markdown",
   "id": "20c780fa",
   "metadata": {},
   "source": [
    "We create a data set of per user all the root locations that the user clicked on. For the ins and outs on feature engineering see our feature engineering example."
   ]
  },
  {
   "cell_type": "code",
   "execution_count": null,
   "id": "3b6aefac",
   "metadata": {},
   "outputs": [],
   "source": [
    "df['root'] = df.location_stack.ls.get_from_context_with_type_series(type='RootLocationContext', key='id').fillna('empty')"
   ]
  },
  {
   "cell_type": "code",
   "execution_count": null,
   "id": "83127b2b",
   "metadata": {},
   "outputs": [],
   "source": [
    "features = df[(df.event_type=='PressEvent')].groupby('user_id').root.value_counts()"
   ]
  },
  {
   "cell_type": "code",
   "execution_count": null,
   "id": "f1cab428",
   "metadata": {},
   "outputs": [],
   "source": [
    "features.head()"
   ]
  },
  {
   "cell_type": "code",
   "execution_count": null,
   "id": "4225e176",
   "metadata": {},
   "outputs": [],
   "source": [
    "features_unstacked = features.unstack(fill_value=0).drop(columns=['empty'])\n",
    "# sample or not\n",
    "kmeans_frame = features_unstacked\n",
    "kmeans_frame = features_unstacked.get_sample(table_name='kmeans_test',sample_percentage=50,overwrite=True,seed=2224)"
   ]
  },
  {
   "cell_type": "markdown",
   "id": "2708c73a",
   "metadata": {},
   "source": [
    "Now we have a basic feature set that is small enough to fit in memory. This can be used with sklearn, as we\n",
    "demonstrate in this example."
   ]
  },
  {
   "cell_type": "code",
   "execution_count": null,
   "id": "1d14b11d",
   "metadata": {},
   "outputs": [],
   "source": [
    "# export to pandas now\n",
    "pdf = kmeans_frame.to_pandas()"
   ]
  },
  {
   "cell_type": "code",
   "execution_count": null,
   "id": "123e667a",
   "metadata": {},
   "outputs": [],
   "source": [
    "pdf"
   ]
  },
  {
   "cell_type": "code",
   "execution_count": null,
   "id": "a52fac18",
   "metadata": {},
   "outputs": [],
   "source": [
    "# do basic kmeans\n",
    "est = cluster.KMeans(n_clusters=3)\n",
    "est.fit(pdf)\n",
    "pdf['cluster'] = est.labels_"
   ]
  },
  {
   "cell_type": "markdown",
   "id": "c18daa71",
   "metadata": {},
   "source": [
    "Now you can use the created clusters on your entire data set again if you add it back to your DataFrame.\n",
    "This is simple, as Bach and pandas are cooperating nicely. Your original Objectiv data now has a 'cluster'\n",
    "column."
   ]
  },
  {
   "cell_type": "code",
   "execution_count": null,
   "id": "62ff0073",
   "metadata": {},
   "outputs": [],
   "source": [
    "kmeans_frame['cluster'] = pdf['cluster']"
   ]
  },
  {
   "cell_type": "markdown",
   "id": "e22668ad",
   "metadata": {},
   "source": [
    "You can use this column, just as any other. For example you can now use your created clusters to group models\n",
    "from the model hub by:"
   ]
  },
  {
   "cell_type": "code",
   "execution_count": null,
   "id": "77ea99b1",
   "metadata": {},
   "outputs": [],
   "source": [
    "kmeans_frame.sort_values(['cluster','docs']).head(100)"
   ]
  },
  {
   "cell_type": "code",
   "execution_count": null,
   "id": "4f78616a",
   "metadata": {},
   "outputs": [],
   "source": [
    "df_with_cluster = df.merge(kmeans_frame[['cluster']], on='user_id')"
   ]
  },
  {
   "cell_type": "code",
   "execution_count": null,
   "id": "b744a0b8",
   "metadata": {},
   "outputs": [],
   "source": [
    "df_with_cluster.head()"
   ]
  },
  {
   "cell_type": "code",
   "execution_count": null,
   "id": "5206e4f1",
   "metadata": {},
   "outputs": [],
   "source": [
    "modelhub.aggregate.session_duration(df_with_cluster, groupby='cluster').head()"
   ]
  }
 ],
 "metadata": {
  "kernelspec": {
   "display_name": "Python 3 (ipykernel)",
   "language": "python",
   "name": "python3"
  },
  "language_info": {
   "codemirror_mode": {
    "name": "ipython",
    "version": 3
   },
   "file_extension": ".py",
   "mimetype": "text/x-python",
   "name": "python",
   "nbconvert_exporter": "python",
   "pygments_lexer": "ipython3",
   "version": "3.9.4"
  }
 },
 "nbformat": 4,
 "nbformat_minor": 5
}
