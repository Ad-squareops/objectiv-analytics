{
 "cells": [
  {
   "cell_type": "markdown",
   "id": "a88d78f5",
   "metadata": {},
   "source": [
    "This is one of the Objectiv [example notebooks](https://objectiv.io/docs/modeling/example-notebooks/). These notebooks can run [on your own data](https://objectiv.io/docs/modeling/get-started-in-your-notebook/), or you can instead run the [Demo](https://objectiv.io/docs/home/try-the-demo/) to quickly try them out."
   ]
  },
  {
   "cell_type": "markdown",
   "id": "25b2e58e",
   "metadata": {},
   "source": [
    "# Open Model Hub basics\n",
    "This example notebook demonstrates how you can use the pre-built models from the [open model hub](https://objectiv.io/docs/modeling/) in conjunction with modeling library [Bach](https://objectiv.io/docs/modeling/bach/) to quickly build model stacks to answer common analytics questions.\n",
    "\n",
    "For more background and an overview of all available models, see the [open model hub documentation](https://objectiv.io/docs/modeling/open-model-hub/), and [see here how to get started in your own notebook](https://objectiv.io/docs/modeling/get-started-in-your-notebook/)."
   ]
  },
  {
   "cell_type": "markdown",
   "id": "0a46f039",
   "metadata": {},
   "source": [
    "## Using the Open Model Hub\n",
    "The following types of functions/models are provided:\n",
    "\n",
    "1. [Helper functions](https://objectiv.io/docs/modeling/open-model-hub/models/helper-functions/): Simplify manipulating and analyzing the data.\n",
    "2. [Aggregation models](https://objectiv.io/docs/modeling/open-model-hub/models/aggregation/): Enable running some of the more common data analyses and product analytics metrics.\n",
    "3. [Machine learning models](https://objectiv.io/docs/modeling/open-model-hub/models/machine-learning/): ML models such as logistic regression.\n",
    "4. [Funnels](https://objectiv.io/docs/modeling/open-model-hub/models/funnels/): To analyze Funnels, e.g. discover all the (top) user journeys that lead to conversion or drop-off.\n",
    "\n",
    "Modeling behavior of users and groups is enabled through configurable [Identity Resolution](https://objectiv.io/docs/modeling/open-model-hub/identity-resolution/).\n",
    "\n",
    "**Helper functions** always return a [Series](https://objectiv.io/docs/modeling/bach/api-reference/Series/) with the same shape and index as the [DataFrame](https://objectiv.io/docs/modeling/bach/api-reference/DataFrame/) they are applied to. This ensures they can be added as a column to that [DataFrame](https://objectiv.io/docs/modeling/bach/api-reference/DataFrame/). Helper functions that return [SeriesBoolean](https://objectiv.io/docs/modeling/bach/api-reference/Series/Boolean/) can be used to filter the data. The helper functions can be accessed with the `map` accessor from a model hub instance.\n",
    "\n",
    "**Aggregation models** perform multiple [Bach](https://objectiv.io/docs/modeling/bach/) instructions that run some of the more common data analyses and product analytics metrics. They always return aggregated data in some form from the [DataFrame](https://objectiv.io/docs/modeling/bach/api-reference/DataFrame/) they're applied to. Aggregation models can be accessed with the `aggregate` accessor from a model hub instance.\n",
    "\n",
    "Most of the model hub helper functions and aggregation models take `data` as their first argument: this is\n",
    "the [DataFrame](https://objectiv.io/docs/modeling/bach/api-reference/DataFrame/) with the Objectiv data to apply the model to. \n",
    "\n",
    "For an example of a **machine learning model**, see the [logistic regression example notebook](https://objectiv.io/docs/modeling/example-notebooks/logistic-regression/).\n",
    "\n",
    "Below we'll showcase a selection of the models from the open model hub."
   ]
  },
  {
   "cell_type": "markdown",
   "id": "427609c1-99ec-4513-9487-0eab6930de2d",
   "metadata": {},
   "source": [
    "## Get started\n",
    "We first have to instantiate the model hub and an Objectiv DataFrame object."
   ]
  },
  {
   "cell_type": "code",
   "execution_count": 1,
   "id": "e97ff289",
   "metadata": {},
   "outputs": [],
   "source": [
    "# set the timeframe of the analysis\n",
    "start_date = '2022-03-01'\n",
    "end_date = None"
   ]
  },
  {
   "cell_type": "code",
   "execution_count": 2,
   "id": "8d7ad565-6725-4d70-b679-d08aba0e197d",
   "metadata": {},
   "outputs": [],
   "source": [
    "from modelhub import ModelHub, display_sql_as_markdown\n",
    "\n",
    "# instantiate the model hub and set the default time aggregation to daily\n",
    "# and set the global contexts that will be used in this example\n",
    "modelhub = ModelHub(time_aggregation='%Y-%m-%d', global_contexts=['application'])\n",
    "# get a Bach DataFrame with Objectiv data within a defined timeframe\n",
    "df = modelhub.get_objectiv_dataframe(start_date=start_date, end_date=end_date)"
   ]
  },
  {
   "cell_type": "markdown",
   "id": "d10cbf66",
   "metadata": {},
   "source": [
    "### Reference\n",
    "* [modelhub.ModelHub](https://objectiv.io/docs/modeling/open-model-hub/api-reference/ModelHub/ModelHub/)\n",
    "* [modelhub.ModelHub.get_objectiv_dataframe](https://objectiv.io/docs/modeling/open-model-hub/api-reference/ModelHub/get_objectiv_dataframe/)"
   ]
  },
  {
   "cell_type": "markdown",
   "id": "e9f3070b",
   "metadata": {},
   "source": [
    "## Run a simple aggregation model\n",
    "Calculating the number of unique users is one of the models. As it is an aggregation model, it's called with [`model_hub.aggregate.unique_users()`](https://objectiv.io/docs/modeling/open-model-hub/models/aggregation/unique_users/) (or `model_hub.agg.unique_users()` for short). It uses the `time_aggregation` that is set when the model hub was instantiated. \n",
    "\n",
    "With [`.head()`](https://objectiv.io/docs/modeling/bach/api-reference/DataFrame/head/) we immediately query the data to show the results. [`.to_pandas()`](https://objectiv.io/docs/modeling/bach/api-reference/DataFrame/to_pandas/) can be used to use all results as a pandas object in Python. These (and the following) results are sorted descending, so we show the latest data first."
   ]
  },
  {
   "cell_type": "code",
   "execution_count": 3,
   "id": "65632d2b",
   "metadata": {},
   "outputs": [
    {
     "data": {
      "text/plain": [
       "time_aggregation\n",
       "2022-09-21     1\n",
       "2022-09-20     1\n",
       "2022-08-09    25\n",
       "2022-08-08    48\n",
       "2022-08-07    19\n",
       "2022-08-06    16\n",
       "2022-08-05    33\n",
       "2022-08-04    64\n",
       "2022-08-03    38\n",
       "2022-08-02    44\n",
       "Name: unique_users, dtype: int64"
      ]
     },
     "execution_count": 3,
     "metadata": {},
     "output_type": "execute_result"
    }
   ],
   "source": [
    "# calculate the unique users per set time_aggregation (in this case per day)\n",
    "users = modelhub.aggregate.unique_users(df)\n",
    "users.sort_index(ascending=False).head(10)"
   ]
  },
  {
   "cell_type": "markdown",
   "id": "73c78a22",
   "metadata": {},
   "source": [
    "### Reference\n",
    "* [modelhub.Aggregate.unique_users](https://objectiv.io/docs/modeling/open-model-hub/models/aggregation/unique_users/)\n",
    "* [bach.DataFrame.sort_index](https://objectiv.io/docs/modeling/bach/api-reference/DataFrame/sort_index/)\n",
    "* [bach.DataFrame.head](https://objectiv.io/docs/modeling/bach/api-reference/DataFrame/head/)"
   ]
  },
  {
   "cell_type": "markdown",
   "id": "0c366433",
   "metadata": {},
   "source": [
    "## Mapping and filtering\n",
    "Here we'll use `map` operations from the open model hub to label certain users or events, in order to filter on them or combine them with other models later on.\n",
    "\n",
    "First, we'll label users as being a new user. As `time_aggregation` was set to '%Y-%m-%d' it means all hits are labeled as new for the entire day in which the user had its first session."
   ]
  },
  {
   "cell_type": "code",
   "execution_count": 4,
   "id": "10436e1e",
   "metadata": {},
   "outputs": [
    {
     "data": {
      "text/plain": [
       "event_id\n",
       "a6629a25-54ec-4cc5-a84a-2440164a0779    True\n",
       "94fa97a3-5623-4b7c-b953-79c9971f4e53    True\n",
       "0041d6c0-af21-4a30-9374-09056b535cfc    True\n",
       "4a957bb2-1b2c-4130-a14f-4f2c11532633    True\n",
       "592c232e-5ce4-4ae7-a22a-91daf2d61264    True\n",
       "1ec47a29-718d-4b26-bbfa-2b4527918d9d    True\n",
       "4758a819-2bbc-4df3-919f-a297a19170c7    True\n",
       "69ff04f5-3c50-4a77-acb6-8e26630c209a    True\n",
       "fa5c7adb-a37b-4693-a593-33f1b998f0da    True\n",
       "ed2ccacb-7a27-4966-803c-55630612abb0    True\n",
       "Name: is_new_user, dtype: bool"
      ]
     },
     "execution_count": 4,
     "metadata": {},
     "output_type": "execute_result"
    }
   ],
   "source": [
    "# label new users & all their events on the defined time_aggregation \n",
    "df['is_new_user'] = modelhub.map.is_new_user(df)\n",
    "df.is_new_user.head(10)"
   ]
  },
  {
   "cell_type": "markdown",
   "id": "d46cba1e",
   "metadata": {},
   "source": [
    "We can also label conversion events. To do this, we first have to define what a conversion is, by setting the type of event and the location in the product where the event was triggered ([see more about the location stack here](https://objectiv.io/docs/modeling/example-notebooks/open-taxonomy/#location-stack-and-global-contexts)), using [`add_conversion_event`](https://objectiv.io/docs/modeling/open-model-hub/api-reference/ModelHub/add_conversion_event/)."
   ]
  },
  {
   "cell_type": "code",
   "execution_count": 5,
   "id": "61d9bfeb",
   "metadata": {},
   "outputs": [
    {
     "data": {
      "text/plain": [
       "event_id\n",
       "a6629a25-54ec-4cc5-a84a-2440164a0779    False\n",
       "94fa97a3-5623-4b7c-b953-79c9971f4e53    False\n",
       "0041d6c0-af21-4a30-9374-09056b535cfc    False\n",
       "4a957bb2-1b2c-4130-a14f-4f2c11532633    False\n",
       "592c232e-5ce4-4ae7-a22a-91daf2d61264    False\n",
       "1ec47a29-718d-4b26-bbfa-2b4527918d9d    False\n",
       "4758a819-2bbc-4df3-919f-a297a19170c7    False\n",
       "69ff04f5-3c50-4a77-acb6-8e26630c209a    False\n",
       "fa5c7adb-a37b-4693-a593-33f1b998f0da    False\n",
       "ed2ccacb-7a27-4966-803c-55630612abb0    False\n",
       "Name: conversion_events, dtype: bool"
      ]
     },
     "execution_count": 5,
     "metadata": {},
     "output_type": "execute_result"
    }
   ],
   "source": [
    "# define a conversion event, and label events whether they converted\n",
    "modelhub.add_conversion_event(location_stack=df.location_stack.json[{'id': 'Quickstart Guide', '_type': 'LinkContext'}:],\n",
    "                              event_type='PressEvent',\n",
    "                              name='quickstart_presses')\n",
    "df['conversion_events'] = modelhub.map.is_conversion_event(df, 'quickstart_presses')\n",
    "df.conversion_events.head(10)"
   ]
  },
  {
   "cell_type": "markdown",
   "id": "80e05aa2",
   "metadata": {},
   "source": [
    "### Combine mapping with filtering and aggregation\n",
    "As the map functions above return a SeriesBoolean, they can be combined with filter and aggregation models. We use the same aggregation model we showed earlier ([`unique_users`](https://objectiv.io/docs/modeling/open-model-hub/models/aggregation/unique_users/)), but now applying the `df.conversion_events` filter to just look at unique converted users per day."
   ]
  },
  {
   "cell_type": "code",
   "execution_count": 6,
   "id": "4493d730",
   "metadata": {},
   "outputs": [
    {
     "data": {
      "text/plain": [
       "time_aggregation\n",
       "2022-06-13    1\n",
       "2022-06-12    2\n",
       "2022-06-10    2\n",
       "2022-06-09    3\n",
       "2022-06-08    4\n",
       "2022-06-07    3\n",
       "2022-06-06    1\n",
       "2022-06-04    1\n",
       "2022-06-03    2\n",
       "2022-05-31    1\n",
       "Name: unique_users, dtype: int64"
      ]
     },
     "execution_count": 6,
     "metadata": {},
     "output_type": "execute_result"
    }
   ],
   "source": [
    "# filter unique users on whether they've converted\n",
    "modelhub.aggregate.unique_users(df[df.conversion_events]).sort_index(ascending=False).head(10)"
   ]
  },
  {
   "cell_type": "markdown",
   "id": "48dfaca9",
   "metadata": {},
   "source": [
    "Other aggregation models can be used similarly. In the example below, the average session duration is calculated just for new users."
   ]
  },
  {
   "cell_type": "code",
   "execution_count": 7,
   "id": "65d52c00",
   "metadata": {},
   "outputs": [
    {
     "data": {
      "text/plain": [
       "time_aggregation\n",
       "2022-09-20   0 days 00:08:38.721000\n",
       "2022-08-09   0 days 00:00:40.306857\n",
       "2022-08-08   0 days 00:05:03.880000\n",
       "2022-08-07   0 days 00:02:20.172875\n",
       "2022-08-06   0 days 00:02:40.904800\n",
       "2022-08-05   0 days 00:02:20.575867\n",
       "2022-08-04   0 days 00:02:40.554209\n",
       "2022-08-03   0 days 00:01:37.521500\n",
       "2022-08-02   0 days 00:01:51.257320\n",
       "2022-08-01   0 days 00:02:11.933519\n",
       "Name: session_duration, dtype: timedelta64[ns]"
      ]
     },
     "execution_count": 7,
     "metadata": {},
     "output_type": "execute_result"
    }
   ],
   "source": [
    "# calculate average session duration, filtered on new users\n",
    "duration_new_users = modelhub.aggregate.session_duration(df[df.is_new_user])\n",
    "duration_new_users.sort_index(ascending=False).head(10)"
   ]
  },
  {
   "cell_type": "markdown",
   "id": "822b577b",
   "metadata": {},
   "source": [
    "### Using multiple model hub filters"
   ]
  },
  {
   "cell_type": "markdown",
   "id": "57f59b2c",
   "metadata": {},
   "source": [
    "The model hub's `map` results can be combined and reused. Below we set the result of two helper functions as a column to the original DataFrame, and use them both to filter the data and apply an aggregation model. We calculate the number of users that were new in a month, and also the number of users that converted twice on a day."
   ]
  },
  {
   "cell_type": "code",
   "execution_count": 8,
   "id": "5b7b1490",
   "metadata": {},
   "outputs": [
    {
     "data": {
      "text/plain": [
       "time_aggregation\n",
       "2022-06-07    1\n",
       "2022-06-04    1\n",
       "2022-05-29    1\n",
       "2022-05-26    1\n",
       "2022-05-24    1\n",
       "Name: unique_users, dtype: int64"
      ]
     },
     "execution_count": 8,
     "metadata": {},
     "output_type": "execute_result"
    }
   ],
   "source": [
    "# calculate new users & users that converted twice on a day\n",
    "df['is_new_user_month'] = modelhub.map.is_new_user(df, time_aggregation = '%Y-%m')\n",
    "df['is_twice_converted'] = modelhub.map.conversions_in_time(df, name='quickstart_presses')==2\n",
    "# use results in an aggregation model\n",
    "modelhub.aggregate.unique_users(df[df.is_new_user_month & df.is_twice_converted]).sort_index(ascending=False).head()"
   ]
  },
  {
   "cell_type": "markdown",
   "id": "e5d03b44",
   "metadata": {},
   "source": [
    "### Reference\n",
    "* [modelhub.Map.is_new_user](https://objectiv.io/docs/modeling/open-model-hub/models/helper-functions/is_new_user/)\n",
    "* [bach.DataFrame.head](https://objectiv.io/docs/modeling/bach/api-reference/DataFrame/head/)\n",
    "* [modelhub.ModelHub.add_conversion_event](https://objectiv.io/docs/modeling/open-model-hub/api-reference/ModelHub/add_conversion_event/)\n",
    "* [modelhub.Map.is_conversion_event](https://objectiv.io/docs/modeling/open-model-hub/models/helper-functions/is_conversion_event/)\n",
    "* [modelhub.Aggregate.unique_users](https://objectiv.io/docs/modeling/open-model-hub/models/aggregation/unique_users/)\n",
    "* [modelhub.Aggregate.session_duration](https://objectiv.io/docs/modeling/open-model-hub/models/aggregation/session_duration/)\n",
    "* [modelhub.Map.conversions_in_time](https://objectiv.io/docs/modeling/open-model-hub/models/helper-functions/conversions_in_time/)\n",
    "* [bach.DataFrame.sort_index](https://objectiv.io/docs/modeling/bach/api-reference/DataFrame/sort_index/)"
   ]
  },
  {
   "cell_type": "markdown",
   "id": "7be6e13c",
   "metadata": {},
   "source": [
    "## Combine model results\n",
    "Results from aggregation models can be used together if they share the same index type - similar to pandas. Below the share of new users per day is calculated."
   ]
  },
  {
   "cell_type": "code",
   "execution_count": 9,
   "id": "ad6396fe",
   "metadata": {},
   "outputs": [
    {
     "data": {
      "text/plain": [
       "time_aggregation\n",
       "2022-09-21         NaN\n",
       "2022-09-20    1.000000\n",
       "2022-08-09    0.800000\n",
       "2022-08-08    0.812500\n",
       "2022-08-07    0.736842\n",
       "2022-08-06    0.937500\n",
       "2022-08-05    0.696970\n",
       "2022-08-04    0.875000\n",
       "2022-08-03    0.815789\n",
       "2022-08-02    0.863636\n",
       "Name: unique_users, dtype: float64"
      ]
     },
     "execution_count": 9,
     "metadata": {},
     "output_type": "execute_result"
    }
   ],
   "source": [
    "# calculate the share of new users per day using results from two aggregation models\n",
    "new_user_share = modelhub.agg.unique_users(df[df.is_new_user]) / modelhub.agg.unique_users(df)\n",
    "new_user_share.sort_index(ascending=False).head(10)"
   ]
  },
  {
   "cell_type": "markdown",
   "id": "165f0079",
   "metadata": {},
   "source": [
    "### Reference\n",
    "* [modelhub.Aggregate.unique_users](https://objectiv.io/docs/modeling/open-model-hub/models/aggregation/unique_users/)\n",
    "* [modelhub.Map.is_new_user](https://objectiv.io/docs/modeling/open-model-hub/models/helper-functions/is_new_user/)\n",
    "* [bach.DataFrame.sort_index](https://objectiv.io/docs/modeling/bach/api-reference/DataFrame/sort_index/)\n",
    "* [bach.DataFrame.head](https://objectiv.io/docs/modeling/bach/api-reference/DataFrame/head/)"
   ]
  },
  {
   "cell_type": "markdown",
   "id": "c7522e41",
   "metadata": {},
   "source": [
    "## Crunch data further with the Bach modeling library\n",
    "All results from the model hub are in the form of a Bach [DataFrame](https://objectiv.io/docs/modeling/bach/api-reference/DataFrame/) or [Series](https://objectiv.io/docs/modeling/bach/api-reference/Series/). This makes the open model hub and Bach work seamlessly together."
   ]
  },
  {
   "cell_type": "code",
   "execution_count": 10,
   "id": "ac530557",
   "metadata": {},
   "outputs": [],
   "source": [
    "# We'll do a lot of operations on the data in the df DataFrame. To make this easier for the\n",
    "# database (especially BigQuery), we tell Bach to materialize the current DataFrame as temporary\n",
    "# table. This statement has no direct effect, but any invocation of head() on the DataFrame later\n",
    "# on will consist of two queries: one to create a temporary table with the current state of the\n",
    "# DataFrame, and one that queries that table and does subsequent operations.\n",
    "df = df.materialize(materialization='temp_table')"
   ]
  },
  {
   "cell_type": "code",
   "execution_count": 11,
   "id": "82a9e8ca",
   "metadata": {},
   "outputs": [],
   "source": [
    "# now label the number of times a user is converted in a session at a certain moment\n",
    "df['conversion_count'] = modelhub.map.conversions_in_time(df, name='quickstart_presses')\n",
    "\n",
    "# use Bach to do any supported operation using pandas syntax.\n",
    "# select users that converted\n",
    "converted_users = df[df.conversion_events].user_id.unique()\n",
    "# select PressEvents of users that converted\n",
    "df_selection = df[(df.event_type == 'PressEvent') &\n",
    "                  (df.user_id.isin(converted_users))]\n",
    "# calculate the number of PressEvents before conversion per session\n",
    "presses_per_session = df_selection[df_selection.conversion_count == 0].groupby('session_id').session_hit_number.count()"
   ]
  },
  {
   "cell_type": "markdown",
   "id": "15f2ab4d",
   "metadata": {},
   "source": [
    "Now let's see the results, at which point the underlying query is actually executed."
   ]
  },
  {
   "cell_type": "code",
   "execution_count": 12,
   "id": "53d38855",
   "metadata": {},
   "outputs": [
    {
     "data": {
      "text/plain": [
       "session_id\n",
       "6     2\n",
       "10    2\n",
       "11    1\n",
       "16    1\n",
       "23    2\n",
       "Name: session_hit_number, dtype: int64"
      ]
     },
     "execution_count": 12,
     "metadata": {},
     "output_type": "execute_result"
    }
   ],
   "source": [
    "presses_per_session.head()"
   ]
  },
  {
   "cell_type": "markdown",
   "id": "5537b603",
   "metadata": {},
   "source": [
    "See the [Bach API reference](https://objectiv.io/docs/modeling/bach/api-reference/) for all available operations."
   ]
  },
  {
   "cell_type": "markdown",
   "id": "0b6050e4",
   "metadata": {},
   "source": [
    "### Reference\n",
    "* [bach.DataFrame.materialize](https://objectiv.io/docs/modeling/bach/api-reference/DataFrame/materialize/)\n",
    "* [modelhub.Map.conversions_in_time](https://objectiv.io/docs/modeling/open-model-hub/models/helper-functions/conversions_in_time/)\n",
    "* [bach.Series.unique](https://objectiv.io/docs/modeling/bach/api-reference/Series/unique/)\n",
    "* [bach.Series.isin](https://objectiv.io/docs/modeling/bach/api-reference/Series/isin/)\n",
    "* [bach.DataFrame.groupby](https://objectiv.io/docs/modeling/bach/api-reference/DataFrame/groupby/)\n",
    "* [bach.DataFrame.head](https://objectiv.io/docs/modeling/bach/api-reference/DataFrame/head/)"
   ]
  },
  {
   "cell_type": "markdown",
   "id": "089230c9",
   "metadata": {},
   "source": [
    "## Export results to a pandas DataFrame\n",
    "Bach DataFrames and/or model hub results can always be exported to pandas, so you can use all its options as well as pandas-compatible ML packages. Since Bach DataFrame operations run on the full dataset in the SQL data store, it is recommended to export to pandas if the data is small enough, i.e. by aggregation or selection."
   ]
  },
  {
   "cell_type": "markdown",
   "id": "0747817f",
   "metadata": {},
   "source": [
    "Below we plot the previously calculated presses per session before conversion, using pandas' built-in plotting methods."
   ]
  },
  {
   "cell_type": "code",
   "execution_count": 13,
   "id": "c7e07fe5",
   "metadata": {},
   "outputs": [
    {
     "data": {
      "text/plain": [
       "<AxesSubplot: >"
      ]
     },
     "execution_count": 13,
     "metadata": {},
     "output_type": "execute_result"
    },
    {
     "data": {
      "image/png": "[encoded data removed]",
      "text/plain": [
       "<Figure size 640x480 with 1 Axes>"
      ]
     },
     "metadata": {},
     "output_type": "display_data"
    }
   ],
   "source": [
    "# presses_per_session_pd is a pandas Series\n",
    "presses_per_session_pd = presses_per_session.to_pandas()\n",
    "presses_per_session_pd.hist()"
   ]
  },
  {
   "cell_type": "markdown",
   "id": "9d903858",
   "metadata": {},
   "source": [
    "### Reference\n",
    "* [bach.DataFrame.to_pandas](https://objectiv.io/docs/modeling/bach/api-reference/DataFrame/to_pandas/)"
   ]
  },
  {
   "cell_type": "markdown",
   "id": "297ef877",
   "metadata": {},
   "source": [
    "## Get the SQL for any analysis\n",
    "The SQL for any analysis can be exported with one command, so you can use models in production directly to simplify data debugging & delivery to BI tools like Metabase, dbt, etc. See how you can [quickly create BI dashboards with this](https://objectiv.io/docs/home/try-the-demo#creating-bi-dashboards)."
   ]
  },
  {
   "cell_type": "code",
   "execution_count": 14,
   "id": "5655bb43",
   "metadata": {},
   "outputs": [
    {
     "data": {
      "text/markdown": [
       "```sql\n",
       "WITH \"manual_materialize___e627e9bdda472e6a76c583c57c6d37ed\" AS (\n",
       "        SELECT \"event_id\" AS \"event_id\",\n",
       "               \"day\" AS \"day\",\n",
       "               \"moment\" AS \"moment\",\n",
       "               \"cookie_id\" AS \"user_id\",\n",
       "               \"value\"->>'_type' AS \"event_type\",\n",
       "               cast(\"value\"->>'_types' AS JSONB) AS \"stack_event_types\",\n",
       "               cast(\"value\"->>'location_stack' AS JSONB) AS \"location_stack\",\n",
       "               cast(\"value\"->>'time' AS bigint) AS \"time\",\n",
       "               jsonb_path_query_array(cast(\"value\"->>'global_contexts' AS JSONB), '$[*] ? (@._type == $type)', '{\"type\":\"ApplicationContext\"}') AS \"application\"\n",
       "          FROM \"data\"\n",
       "       ),\n",
       "       \"getitem_where_boolean___f2cde873eb364f71fe22bb16f7c0d3b2\" AS (\n",
       "        SELECT \"event_id\" AS \"event_id\",\n",
       "               \"day\" AS \"day\",\n",
       "               \"moment\" AS \"moment\",\n",
       "               \"user_id\" AS \"user_id\",\n",
       "               \"event_type\" AS \"event_type\",\n",
       "               \"stack_event_types\" AS \"stack_event_types\",\n",
       "               \"location_stack\" AS \"location_stack\",\n",
       "               \"time\" AS \"time\",\n",
       "               \"application\" AS \"application\"\n",
       "          FROM \"manual_materialize___e627e9bdda472e6a76c583c57c6d37ed\"\n",
       "         WHERE (\"day\" >= cast('2022-03-01' AS date))\n",
       "       ),\n",
       "       \"context_data___d327b0c80890ea30396586d79ce32be4\" AS (\n",
       "        SELECT \"event_id\" AS \"event_id\",\n",
       "               \"day\" AS \"day\",\n",
       "               \"moment\" AS \"moment\",\n",
       "               \"user_id\" AS \"user_id\",\n",
       "               \"location_stack\" AS \"location_stack\",\n",
       "               \"event_type\" AS \"event_type\",\n",
       "               \"stack_event_types\" AS \"stack_event_types\",\n",
       "               \"application\" AS \"application\"\n",
       "          FROM \"getitem_where_boolean___f2cde873eb364f71fe22bb16f7c0d3b2\"\n",
       "       ),\n",
       "       \"session_starts___696546caa41f41b7d73bbf427a070804\" AS (\n",
       "        SELECT \"event_id\" AS \"event_id\",\n",
       "               \"day\" AS \"day\",\n",
       "               \"moment\" AS \"moment\",\n",
       "               \"user_id\" AS \"user_id\",\n",
       "               \"location_stack\" AS \"location_stack\",\n",
       "               \"event_type\" AS \"event_type\",\n",
       "               \"stack_event_types\" AS \"stack_event_types\",\n",
       "               \"application\" AS \"application\",\n",
       "               CASE WHEN (extract(epoch FROM ((\"moment\") - (lag(\"moment\", 1, cast(NULL AS TIMESTAMP WITHOUT TIME ZONE)) OVER (PARTITION BY \"user_id\" ORDER BY \"moment\" ASC NULLS LAST, \"event_id\" ASC NULLS LAST RANGE BETWEEN UNBOUNDED PRECEDING AND CURRENT ROW)))) <= cast(1800 AS bigint)) THEN cast(NULL AS boolean)\n",
       "                    ELSE cast(TRUE AS boolean)\n",
       "                     END AS \"is_start_of_session\"\n",
       "          FROM \"context_data___d327b0c80890ea30396586d79ce32be4\"\n",
       "       ),\n",
       "       \"session_id_and_count___a779ca58890dc0f5d6f2c49f36244cf2\" AS (\n",
       "        SELECT \"event_id\" AS \"event_id\",\n",
       "               \"day\" AS \"day\",\n",
       "               \"moment\" AS \"moment\",\n",
       "               \"user_id\" AS \"user_id\",\n",
       "               \"location_stack\" AS \"location_stack\",\n",
       "               \"event_type\" AS \"event_type\",\n",
       "               \"stack_event_types\" AS \"stack_event_types\",\n",
       "               \"application\" AS \"application\",\n",
       "               \"is_start_of_session\" AS \"is_start_of_session\",\n",
       "               CASE WHEN \"is_start_of_session\" THEN row_number() OVER (PARTITION BY \"is_start_of_session\" ORDER BY \"moment\" ASC NULLS LAST, \"event_id\" ASC NULLS LAST RANGE BETWEEN UNBOUNDED PRECEDING AND CURRENT ROW)\n",
       "                    ELSE cast(NULL AS bigint)\n",
       "                     END AS \"session_start_id\",\n",
       "               count(\"is_start_of_session\") OVER (ORDER BY \"user_id\" ASC NULLS LAST, \"moment\" ASC NULLS LAST, \"event_id\" ASC NULLS LAST RANGE BETWEEN UNBOUNDED PRECEDING AND CURRENT ROW) AS \"is_one_session\"\n",
       "          FROM \"session_starts___696546caa41f41b7d73bbf427a070804\"\n",
       "       ),\n",
       "       \"objectiv_sessionized_data___22729f63a942dd9a044e7c5e20997edf\" AS (\n",
       "        SELECT \"event_id\" AS \"event_id\",\n",
       "               \"day\" AS \"day\",\n",
       "               \"moment\" AS \"moment\",\n",
       "               \"user_id\" AS \"user_id\",\n",
       "               \"location_stack\" AS \"location_stack\",\n",
       "               \"event_type\" AS \"event_type\",\n",
       "               \"stack_event_types\" AS \"stack_event_types\",\n",
       "               \"application\" AS \"application\",\n",
       "               \"is_start_of_session\" AS \"is_start_of_session\",\n",
       "               \"session_start_id\" AS \"session_start_id\",\n",
       "               \"is_one_session\" AS \"is_one_session\",\n",
       "               first_value(\"session_start_id\") OVER (PARTITION BY \"is_one_session\" ORDER BY \"moment\" ASC NULLS LAST, \"event_id\" ASC NULLS LAST RANGE BETWEEN UNBOUNDED PRECEDING AND CURRENT ROW) AS \"session_id\",\n",
       "               row_number() OVER (PARTITION BY \"is_one_session\" ORDER BY \"moment\" ASC NULLS LAST, \"event_id\" ASC NULLS LAST RANGE BETWEEN UNBOUNDED PRECEDING AND CURRENT ROW) AS \"session_hit_number\"\n",
       "          FROM \"session_id_and_count___a779ca58890dc0f5d6f2c49f36244cf2\"\n",
       "       ),\n",
       "       \"manual_materialize___fb7e49e2bf44811deda81920e017f117\" AS (\n",
       "        SELECT \"event_id\" AS \"event_id\",\n",
       "               (min(\"session_id\") OVER (PARTITION BY to_char(\"moment\", 'YYYY\"-\"MM\"-\"DD'), \"user_id\" ROWS BETWEEN UNBOUNDED PRECEDING AND UNBOUNDED FOLLOWING) = min(\"session_id\") OVER (PARTITION BY \"user_id\" ROWS BETWEEN UNBOUNDED PRECEDING AND UNBOUNDED FOLLOWING)) AS \"is_new_user\"\n",
       "          FROM \"objectiv_sessionized_data___22729f63a942dd9a044e7c5e20997edf\"\n",
       "       ),\n",
       "       \"merge_sql___29bce09e437b81cf334d66f5cfe92107\" AS (\n",
       "        SELECT COALESCE(\"l\".\"event_id\", \"r\".\"event_id\") AS \"event_id\",\n",
       "               \"l\".\"day\" AS \"day\",\n",
       "               \"l\".\"moment\" AS \"moment\",\n",
       "               \"l\".\"user_id\" AS \"user_id\",\n",
       "               \"l\".\"location_stack\" AS \"location_stack\",\n",
       "               \"l\".\"event_type\" AS \"event_type\",\n",
       "               \"l\".\"stack_event_types\" AS \"stack_event_types\",\n",
       "               \"l\".\"session_id\" AS \"session_id\",\n",
       "               \"l\".\"session_hit_number\" AS \"session_hit_number\",\n",
       "               \"l\".\"application\" AS \"application\",\n",
       "               \"r\".\"is_new_user\" AS \"is_new_user\"\n",
       "          FROM \"objectiv_sessionized_data___22729f63a942dd9a044e7c5e20997edf\" AS l\n",
       "          LEFT\n",
       "            JOIN \"manual_materialize___fb7e49e2bf44811deda81920e017f117\" AS r\n",
       "            ON (\"l\".\"event_id\" = \"r\".\"event_id\")\n",
       "       ),\n",
       "       \"manual_materialize___6c51323f87cadd728f2d2acce7504643\" AS (\n",
       "        SELECT \"event_id\" AS \"event_id\",\n",
       "               (min(\"session_id\") OVER (PARTITION BY to_char(\"moment\", 'YYYY\"-\"MM'), \"user_id\" ROWS BETWEEN UNBOUNDED PRECEDING AND UNBOUNDED FOLLOWING) = min(\"session_id\") OVER (PARTITION BY \"user_id\" ROWS BETWEEN UNBOUNDED PRECEDING AND UNBOUNDED FOLLOWING)) AS \"is_new_user\"\n",
       "          FROM \"merge_sql___29bce09e437b81cf334d66f5cfe92107\"\n",
       "       ),\n",
       "       \"merge_sql___6d76b439e43d4f5fa6821f70398d4aaa\" AS (\n",
       "        SELECT COALESCE(\"l\".\"event_id\", \"r\".\"event_id\") AS \"event_id\",\n",
       "               \"l\".\"day\" AS \"day\",\n",
       "               \"l\".\"moment\" AS \"moment\",\n",
       "               \"l\".\"user_id\" AS \"user_id\",\n",
       "               \"l\".\"location_stack\" AS \"location_stack\",\n",
       "               \"l\".\"event_type\" AS \"event_type\",\n",
       "               \"l\".\"stack_event_types\" AS \"stack_event_types\",\n",
       "               \"l\".\"session_id\" AS \"session_id\",\n",
       "               \"l\".\"session_hit_number\" AS \"session_hit_number\",\n",
       "               \"l\".\"application\" AS \"application\",\n",
       "               \"l\".\"is_new_user\" AS \"is_new_user\",\n",
       "               (((jsonb_array_length(coalesce((SELECT jsonb_agg(x.value) FROM jsonb_array_elements(\"l\".\"location_stack\") WITH ORDINALITY x WHERE ORDINALITY - 1 >= (SELECT min(CASE WHEN ('{\"id\": \"Quickstart Guide\", \"_type\": \"LinkContext\"}'::JSONB) <@ value THEN ORDINALITY END) -1 FROM jsonb_array_elements(\"l\".\"location_stack\") WITH ORDINALITY)), '[]'::JSONB)) > cast(0 AS bigint))) AND ((\"l\".\"event_type\" = 'PressEvent'))) AS \"conversion_events\",\n",
       "               \"r\".\"is_new_user\" AS \"is_new_user_month\"\n",
       "          FROM \"merge_sql___29bce09e437b81cf334d66f5cfe92107\" AS l\n",
       "          LEFT\n",
       "            JOIN \"manual_materialize___6c51323f87cadd728f2d2acce7504643\" AS r\n",
       "            ON (\"l\".\"event_id\" = \"r\".\"event_id\")\n",
       "       ),\n",
       "       \"merge_sql___8d2bab37506e8eff97b33ebdb554e4a5\" AS (\n",
       "        SELECT COALESCE(\"l\".\"event_id\", \"r\".\"event_id\") AS \"event_id\",\n",
       "               (jsonb_array_length(coalesce((SELECT jsonb_agg(x.value) FROM jsonb_array_elements(\"l\".\"location_stack\") WITH ORDINALITY x WHERE ORDINALITY - 1 >= (SELECT min(CASE WHEN ('{\"id\": \"Quickstart Guide\", \"_type\": \"LinkContext\"}'::JSONB) <@ value THEN ORDINALITY END) -1 FROM jsonb_array_elements(\"l\".\"location_stack\") WITH ORDINALITY)), '[]'::JSONB)) > cast(0 AS bigint)) AS \"location_stack\",\n",
       "               (\"r\".\"event_type\" = 'PressEvent') AS \"event_type\"\n",
       "          FROM \"merge_sql___29bce09e437b81cf334d66f5cfe92107\" AS l\n",
       "          FULL OUTER\n",
       "            JOIN \"merge_sql___6d76b439e43d4f5fa6821f70398d4aaa\" AS r\n",
       "            ON (\"l\".\"event_id\" = \"r\".\"event_id\")\n",
       "       ),\n",
       "       \"merge_sql___8933d7d516a8189ef8d179a8e4303e0b\" AS (\n",
       "        SELECT COALESCE(\"l\".\"event_id\", \"r\".\"event_id\") AS \"event_id\",\n",
       "               \"l\".\"moment\" AS \"moment\",\n",
       "               \"l\".\"event_type\" AS \"event_type\",\n",
       "               \"l\".\"session_id\" AS \"session_id\",\n",
       "               ((\"r\".\"location_stack\") AND (\"r\".\"event_type\")) AS \"__is_conversion_event\"\n",
       "          FROM \"merge_sql___6d76b439e43d4f5fa6821f70398d4aaa\" AS l\n",
       "          LEFT\n",
       "            JOIN \"merge_sql___8d2bab37506e8eff97b33ebdb554e4a5\" AS r\n",
       "            ON (\"l\".\"event_id\" = \"r\".\"event_id\")\n",
       "       ),\n",
       "       \"conversions_in_time_calculat___f090bef0d1e8e3df4779080d3ff5b9e4\" AS (\n",
       "        SELECT \"event_id\" AS \"event_id\",\n",
       "               \"moment\" AS \"moment\",\n",
       "               \"event_type\" AS \"event_type\",\n",
       "               \"session_id\" AS \"session_id\",\n",
       "               \"__is_conversion_event\" AS \"__is_conversion_event\",\n",
       "               CASE WHEN \"__is_conversion_event\" THEN cast(1 AS bigint)\n",
       "                    ELSE cast(0 AS bigint)\n",
       "                     END AS \"__conversion_counter\",\n",
       "               cast(sum(CASE WHEN \"__is_conversion_event\" THEN cast(1 AS bigint) ELSE cast(0 AS bigint) END) OVER (PARTITION BY \"session_id\" ORDER BY \"session_id\" ASC NULLS LAST, \"moment\" ASC NULLS LAST RANGE BETWEEN UNBOUNDED PRECEDING AND CURRENT ROW) AS bigint) AS \"__conversions_in_time\"\n",
       "          FROM \"merge_sql___8933d7d516a8189ef8d179a8e4303e0b\"\n",
       "       ),\n",
       "       \"merge_sql___7ac0a1ecbfa037c088d88c33644e8460\" AS (\n",
       "        SELECT COALESCE(\"l\".\"event_id\", \"r\".\"event_id\") AS \"event_id\",\n",
       "               \"l\".\"day\" AS \"day\",\n",
       "               \"l\".\"moment\" AS \"moment\",\n",
       "               \"l\".\"user_id\" AS \"user_id\",\n",
       "               \"l\".\"location_stack\" AS \"location_stack\",\n",
       "               \"l\".\"event_type\" AS \"event_type\",\n",
       "               \"l\".\"stack_event_types\" AS \"stack_event_types\",\n",
       "               \"l\".\"session_id\" AS \"session_id\",\n",
       "               \"l\".\"session_hit_number\" AS \"session_hit_number\",\n",
       "               \"l\".\"application\" AS \"application\",\n",
       "               \"l\".\"is_new_user\" AS \"is_new_user\",\n",
       "               \"l\".\"conversion_events\" AS \"conversion_events\",\n",
       "               \"l\".\"is_new_user_month\" AS \"is_new_user_month\",\n",
       "               (\"r\".\"__conversions_in_time\" = cast(2 AS bigint)) AS \"is_twice_converted\"\n",
       "          FROM \"merge_sql___6d76b439e43d4f5fa6821f70398d4aaa\" AS l\n",
       "          LEFT\n",
       "            JOIN \"conversions_in_time_calculat___f090bef0d1e8e3df4779080d3ff5b9e4\" AS r\n",
       "            ON (\"l\".\"event_id\" = \"r\".\"event_id\")\n",
       "       ),\n",
       "       \"getitem_where_boolean___c7b518cb10a086644d9c228dd3f7ee8f\" AS (\n",
       "        SELECT \"event_id\" AS \"event_id\",\n",
       "               \"day\" AS \"day\",\n",
       "               \"moment\" AS \"moment\",\n",
       "               \"user_id\" AS \"user_id\",\n",
       "               \"location_stack\" AS \"location_stack\",\n",
       "               \"event_type\" AS \"event_type\",\n",
       "               \"stack_event_types\" AS \"stack_event_types\",\n",
       "               \"session_id\" AS \"session_id\",\n",
       "               \"session_hit_number\" AS \"session_hit_number\",\n",
       "               \"application\" AS \"application\",\n",
       "               \"is_new_user\" AS \"is_new_user\",\n",
       "               \"conversion_events\" AS \"conversion_events\",\n",
       "               \"is_new_user_month\" AS \"is_new_user_month\",\n",
       "               \"is_twice_converted\" AS \"is_twice_converted\"\n",
       "          FROM \"merge_sql___7ac0a1ecbfa037c088d88c33644e8460\"\n",
       "         WHERE \"is_new_user\"\n",
       "       ),\n",
       "       \"merge_left___19c9eb3a7c4d4ed18d0fa7cf24216b89\" AS (\n",
       "        SELECT to_char(\"moment\", 'YYYY\"-\"MM\"-\"DD') AS \"time_aggregation\",\n",
       "               cast(count(DISTINCT \"user_id\") AS double precision) AS \"unique_users\"\n",
       "          FROM \"getitem_where_boolean___c7b518cb10a086644d9c228dd3f7ee8f\"\n",
       "         GROUP BY to_char(\"moment\", 'YYYY\"-\"MM\"-\"DD')\n",
       "       ),\n",
       "       \"manual_materialize___3ffabf4a179a35a2cd52314b5a678005\" AS (\n",
       "        SELECT to_char(\"moment\", 'YYYY\"-\"MM\"-\"DD') AS \"time_aggregation\",\n",
       "               count(DISTINCT \"user_id\") AS \"unique_users\"\n",
       "          FROM \"merge_sql___7ac0a1ecbfa037c088d88c33644e8460\"\n",
       "         GROUP BY to_char(\"moment\", 'YYYY\"-\"MM\"-\"DD')\n",
       "       ),\n",
       "       \"merge_sql___830070d26a1594213957d60a528bbebc\" AS (\n",
       "        SELECT COALESCE(\"l\".\"time_aggregation\", \"r\".\"time_aggregation\") AS \"time_aggregation\",\n",
       "               \"l\".\"unique_users\" AS \"unique_users\",\n",
       "               \"r\".\"unique_users\" AS \"unique_users__other\"\n",
       "          FROM \"merge_left___19c9eb3a7c4d4ed18d0fa7cf24216b89\" AS l\n",
       "          FULL OUTER\n",
       "            JOIN \"manual_materialize___3ffabf4a179a35a2cd52314b5a678005\" AS r\n",
       "            ON (\"l\".\"time_aggregation\" = \"r\".\"time_aggregation\")\n",
       "       ) SELECT \"time_aggregation\" AS \"time_aggregation\",\n",
       "       (\"unique_users\" / \"unique_users__other\") AS \"unique_users\"\n",
       "  FROM \"merge_sql___830070d26a1594213957d60a528bbebc\"\n",
       "```"
      ],
      "text/plain": [
       "<IPython.core.display.Markdown object>"
      ]
     },
     "metadata": {},
     "output_type": "display_data"
    }
   ],
   "source": [
    "# show SQL for analysis; this is just one example, and works for any Objectiv model/analysis\n",
    "# complex SQL statement alert!\n",
    "display_sql_as_markdown(new_user_share)"
   ]
  },
  {
   "cell_type": "markdown",
   "id": "c964f0a9",
   "metadata": {},
   "source": [
    "That's it! [Join us on Slack](https://objectiv.io/join-slack) if you have any questions or suggestions."
   ]
  },
  {
   "cell_type": "markdown",
   "id": "5d90aba0",
   "metadata": {},
   "source": [
    "# Next Steps\n",
    "\n",
    "### Use this notebook with your own data\n",
    "\n",
    "You can use the example notebooks on any dataset that was collected with Objectiv's tracker, so feel free to \n",
    "use them to bootstrap your own projects. They are available as Jupyter notebooks on our [GitHub repository](https://github.com/objectiv/objectiv-analytics/tree/main/notebooks). See [instructions to set up the Objectiv tracker](https://objectiv.io/docs/tracking/).\n",
    "\n",
    "### Check out related example notebooks\n",
    "\n",
    "* [Open taxonomy how-to](https://objectiv.io/docs/modeling/example-notebooks/open-taxonomy/) - see what you can do with the Bach modeling library and a dataset that is validated against the open analytics taxonomy.\n",
    "\n",
    "* [Explore your data](https://objectiv.io/docs/modeling/example-notebooks/explore-data/) - see how you can easily explore your data collected with Objectiv."
   ]
  }
 ],
 "metadata": {
  "kernelspec": {
   "display_name": "Python 3 (ipykernel)",
   "language": "python",
   "name": "python3"
  },
  "language_info": {
   "codemirror_mode": {
    "name": "ipython",
    "version": 3
   },
   "file_extension": ".py",
   "mimetype": "text/x-python",
   "name": "python",
   "nbconvert_exporter": "python",
   "pygments_lexer": "ipython3",
   "version": "3.8.10"
  }
 },
 "nbformat": 4,
 "nbformat_minor": 5
}
