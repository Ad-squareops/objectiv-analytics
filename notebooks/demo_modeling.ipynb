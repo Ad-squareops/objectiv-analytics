{
 "cells": [
  {
   "cell_type": "markdown",
   "id": "f835cbbe-cc6e-4a3c-976c-460f9b024c54",
   "metadata": {},
   "source": [
    "# Objectiv modeling demo"
   ]
  },
  {
   "cell_type": "markdown",
   "id": "6926e55c-e151-43c4-af72-44e21072291a",
   "metadata": {},
   "source": [
    "## Getting started\n",
    "The open model hub package can be installed with `pip install objectiv-modelhub` (this installs Bach as well).  "
   ]
  },
  {
   "cell_type": "code",
   "execution_count": null,
   "id": "7bf5cd1c-2267-4cbc-97dc-1708eb55506e",
   "metadata": {},
   "outputs": [],
   "source": [
    "# import & instantiate the model hub, set the default time aggregation to daily\n",
    "from modelhub import ModelHub\n",
    "modelhub = ModelHub(time_aggregation='%Y-%m-%d')"
   ]
  },
  {
   "cell_type": "code",
   "execution_count": null,
   "id": "1ac40ea0-ff77-48f6-a02e-9d4a2c7fd5c5",
   "metadata": {},
   "outputs": [],
   "source": [
    "# connect to the SQL database\n",
    "df = modelhub.get_objectiv_dataframe(db_url='postgresql://@localhost:5432/objectiv',\n",
    "start_date='2022-07-01',\n",
    "table_name='data_clean')"
   ]
  },
  {
   "cell_type": "markdown",
   "id": "11aede9a-3e73-4196-8982-a3e93e5e9c26",
   "metadata": {},
   "source": [
    "## Have a look at the data"
   ]
  },
  {
   "cell_type": "code",
   "execution_count": null,
   "id": "7bd5dcc0-5c51-4652-8ef4-498f512448ce",
   "metadata": {},
   "outputs": [],
   "source": [
    "df.sort_values(['session_id', 'session_hit_number'], ascending=False).head()"
   ]
  },
  {
   "cell_type": "code",
   "execution_count": null,
   "id": "4e6b59dd-6d64-45a3-a30a-fd4878f1a72e",
   "metadata": {},
   "outputs": [],
   "source": [
    "# extract some data into colums that we need later \n",
    "df['application'] = df.global_contexts.gc.application\n",
    "df['root_location'] = df.location_stack.ls.get_from_context_with_type_series(type='RootLocationContext', key='id')"
   ]
  },
  {
   "cell_type": "markdown",
   "id": "9365c81c-2206-4f3f-8f3e-a1ea167f21ac",
   "metadata": {},
   "source": [
    "## A first, super simple model, unique users"
   ]
  },
  {
   "cell_type": "code",
   "execution_count": null,
   "id": "f106e4fc-e076-4faf-99fd-c149e9abb935",
   "metadata": {},
   "outputs": [],
   "source": [
    "daily_users = modelhub.aggregate.unique_users(df)\n",
    "daily_users.to_frame().sort_index(ascending=False).head()"
   ]
  },
  {
   "cell_type": "markdown",
   "id": "7e4c3f1a-c9e2-4631-bffa-2d52df5b0e78",
   "metadata": {},
   "source": [
    "## Little more advanced, retention modeling"
   ]
  },
  {
   "cell_type": "code",
   "execution_count": null,
   "id": "7cfd238c-e2c9-49ba-b02c-304f25c1c8db",
   "metadata": {},
   "outputs": [],
   "source": [
    "retention_matrix = modelhub.aggregate.retention_matrix(df, time_period='weekly', percentage=True, display=True)\n",
    "retention_matrix.head()"
   ]
  },
  {
   "cell_type": "markdown",
   "id": "cfbc5410-0bea-4caa-93c4-5153eb2be164",
   "metadata": {},
   "source": [
    "## What are the top used product features?"
   ]
  },
  {
   "cell_type": "code",
   "execution_count": null,
   "id": "3069b0b0-31c7-42ae-afa0-ae5cc20c3cf0",
   "metadata": {},
   "outputs": [],
   "source": [
    "top_product_features = modelhub.aggregate.top_product_features(df)\n",
    "top_product_features.head(10)"
   ]
  },
  {
   "cell_type": "markdown",
   "id": "efc33394-8b5d-4070-9594-741385e476e0",
   "metadata": {},
   "source": [
    "## How much time do users spend per main product section?"
   ]
  },
  {
   "cell_type": "code",
   "execution_count": null,
   "id": "3ff56519-07c5-44bd-9c87-9c711785d4fa",
   "metadata": {},
   "outputs": [],
   "source": [
    "# model hub: duration, monthly average per root location\n",
    "duration_root_month = modelhub.aggregate.session_duration(df, groupby=['application', 'root_location', modelhub.time_agg(df, '%Y-%m')]).sort_index()\n",
    "duration_root_month.to_frame().head(15)"
   ]
  },
  {
   "cell_type": "markdown",
   "id": "c513c2e0-c59c-4983-b681-87d7ca6bc6f6",
   "metadata": {
    "tags": []
   },
   "source": [
    "## Defining a conversion"
   ]
  },
  {
   "cell_type": "code",
   "execution_count": null,
   "id": "a82aa9fe-5961-4157-9eb5-96bcd298b2b3",
   "metadata": {},
   "outputs": [],
   "source": [
    "# in this example, anyone who goes on to read the documentation\n",
    "df['is_conversion_event'] = False\n",
    "df.loc[df['root_location'] == 'modeling', 'is_conversion_event'] = True"
   ]
  },
  {
   "cell_type": "markdown",
   "id": "65a93803-57f7-4ed8-9c4c-9cf4dcaf27ec",
   "metadata": {},
   "source": [
    "## How many daily converting users do we have?"
   ]
  },
  {
   "cell_type": "code",
   "execution_count": null,
   "id": "b5ecc0be-7072-4e1d-93a2-0602dcf8d358",
   "metadata": {},
   "outputs": [],
   "source": [
    "conversions = modelhub.aggregate.unique_users(df[df.is_conversion_event])\n",
    "conversions.to_frame().sort_index(ascending=False).head()"
   ]
  },
  {
   "cell_type": "markdown",
   "id": "c105f28b-3b1e-47ed-85f3-1323c76d0e19",
   "metadata": {
    "tags": []
   },
   "source": [
    "## Discovering conversion funnels"
   ]
  },
  {
   "cell_type": "code",
   "execution_count": null,
   "id": "35c8c974-0161-4294-80bb-e73a153e8f52",
   "metadata": {},
   "outputs": [],
   "source": [
    "# instantiate the FunnelDiscovery model from the open model hub and apply settings\n",
    "funnel = modelhub.get_funnel_discovery()\n",
    "max_steps = 4\n",
    "\n",
    "df_steps_till_conversion = funnel.get_navigation_paths(df, steps=max_steps, by='user_id', add_conversion_step_column=True, only_converted_paths=True)\n",
    "\n",
    "condition_convert_on_step_4 = df_steps_till_conversion['_first_conversion_step_number'] == max_steps\n",
    "\n",
    "funnel.plot_sankey_diagram(df_steps_till_conversion[condition_convert_on_step_4], n_top_examples=5)"
   ]
  },
  {
   "cell_type": "markdown",
   "id": "2351c57b-2604-4222-b91b-66c195c97935",
   "metadata": {},
   "source": [
    "## Get the SQL for any analysis"
   ]
  },
  {
   "cell_type": "code",
   "execution_count": null,
   "id": "284097b0-ca6b-491e-8203-66a1c0b8030b",
   "metadata": {},
   "outputs": [],
   "source": [
    "# just one analysis as an example, this works for anything you do with Objectiv\n",
    "from bach import display_sql_as_markdown\n",
    "\n",
    "display_sql_as_markdown(conversions)"
   ]
  }
 ],
 "metadata": {
  "kernelspec": {
   "display_name": "Python 3 (ipykernel)",
   "language": "python",
   "name": "python3"
  },
  "language_info": {
   "codemirror_mode": {
    "name": "ipython",
    "version": 3
   },
   "file_extension": ".py",
   "mimetype": "text/x-python",
   "name": "python",
   "nbconvert_exporter": "python",
   "pygments_lexer": "ipython3",
   "version": "3.9.10"
  }
 },
 "nbformat": 4,
 "nbformat_minor": 5
}
